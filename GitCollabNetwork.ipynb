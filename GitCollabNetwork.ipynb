{
  "nbformat": 4,
  "nbformat_minor": 0,
  "metadata": {
    "colab": {
      "name": "GitCollabNetwork",
      "provenance": [],
      "collapsed_sections": [],
      "toc_visible": true,
      "include_colab_link": true
    },
    "kernelspec": {
      "name": "python3",
      "display_name": "Python 3"
    },
    "accelerator": "GPU"
  },
  "cells": [
    {
      "cell_type": "markdown",
      "metadata": {
        "id": "view-in-github",
        "colab_type": "text"
      },
      "source": [
        "<a href=\"https://colab.research.google.com/github/prakanshuls22/MachineL_IBM/blob/master/GitCollabNetwork.ipynb\" target=\"_parent\"><img src=\"https://colab.research.google.com/assets/colab-badge.svg\" alt=\"Open In Colab\"/></a>"
      ]
    },
    {
      "cell_type": "code",
      "metadata": {
        "id": "67urbZFmiR-l",
        "colab": {
          "base_uri": "https://localhost:8080/",
          "height": 179
        },
        "outputId": "4248863c-0496-4a29-a203-04ac3d64b7e2"
      },
      "source": [
        "!pip3 install PyGithub\n",
        "from github import Github"
      ],
      "execution_count": null,
      "outputs": [
        {
          "output_type": "stream",
          "text": [
            "Requirement already satisfied: PyGithub in /usr/local/lib/python3.6/dist-packages (1.53)\n",
            "Requirement already satisfied: requests>=2.14.0 in /usr/local/lib/python3.6/dist-packages (from PyGithub) (2.23.0)\n",
            "Requirement already satisfied: deprecated in /usr/local/lib/python3.6/dist-packages (from PyGithub) (1.2.10)\n",
            "Requirement already satisfied: pyjwt in /usr/local/lib/python3.6/dist-packages (from PyGithub) (1.7.1)\n",
            "Requirement already satisfied: idna<3,>=2.5 in /usr/local/lib/python3.6/dist-packages (from requests>=2.14.0->PyGithub) (2.10)\n",
            "Requirement already satisfied: certifi>=2017.4.17 in /usr/local/lib/python3.6/dist-packages (from requests>=2.14.0->PyGithub) (2020.6.20)\n",
            "Requirement already satisfied: urllib3!=1.25.0,!=1.25.1,<1.26,>=1.21.1 in /usr/local/lib/python3.6/dist-packages (from requests>=2.14.0->PyGithub) (1.24.3)\n",
            "Requirement already satisfied: chardet<4,>=3.0.2 in /usr/local/lib/python3.6/dist-packages (from requests>=2.14.0->PyGithub) (3.0.4)\n",
            "Requirement already satisfied: wrapt<2,>=1.10 in /usr/local/lib/python3.6/dist-packages (from deprecated->PyGithub) (1.12.1)\n"
          ],
          "name": "stdout"
        }
      ]
    },
    {
      "cell_type": "code",
      "metadata": {
        "id": "56yJmNimjFmH",
        "colab": {
          "base_uri": "https://localhost:8080/",
          "height": 35
        },
        "outputId": "cbe3c4b8-55ee-44d2-e9c0-1ba65743ebd2"
      },
      "source": [
        "g=Github(\"451afd7abd19f882f4861f93799c21520fa08510\")\n",
        "g.get_user().get_repos()"
      ],
      "execution_count": null,
      "outputs": [
        {
          "output_type": "execute_result",
          "data": {
            "text/plain": [
              "<github.PaginatedList.PaginatedList at 0x7f281ff45780>"
            ]
          },
          "metadata": {
            "tags": []
          },
          "execution_count": 35
        }
      ]
    },
    {
      "cell_type": "code",
      "metadata": {
        "id": "9VqN9WifkOnf",
        "colab": {
          "base_uri": "https://localhost:8080/",
          "height": 558
        },
        "outputId": "6a9d56f0-79b0-4546-d1e4-015c51198cfc"
      },
      "source": [
        "for repo in g.get_user().get_repos():\n",
        "    print(repo.name)\n",
        "    repo.edit(has_wiki=False)\n",
        "    # to see all the available attributes and methods\n",
        "    print(dir(repo))"
      ],
      "execution_count": null,
      "outputs": [
        {
          "output_type": "stream",
          "text": [
            "Coursera_Capstone\n",
            "['CHECK_AFTER_INIT_FLAG', '_CompletableGithubObject__complete', '_CompletableGithubObject__completed', '_GithubObject__makeSimpleAttribute', '_GithubObject__makeSimpleListAttribute', '_GithubObject__makeTransformedAttribute', '_Repository__create_pull', '_Repository__create_pull_1', '_Repository__create_pull_2', '__class__', '__delattr__', '__dict__', '__dir__', '__doc__', '__eq__', '__format__', '__ge__', '__getattribute__', '__gt__', '__hash__', '__init__', '__init_subclass__', '__le__', '__lt__', '__module__', '__ne__', '__new__', '__reduce__', '__reduce_ex__', '__repr__', '__setattr__', '__sizeof__', '__str__', '__subclasshook__', '__weakref__', '_allow_merge_commit', '_allow_rebase_merge', '_allow_squash_merge', '_archive_url', '_archived', '_assignees_url', '_blobs_url', '_branches_url', '_clone_url', '_collaborators_url', '_comments_url', '_commits_url', '_compare_url', '_completeIfNeeded', '_completeIfNotSet', '_contents_url', '_contributors_url', '_created_at', '_default_branch', '_delete_branch_on_merge', '_deployments_url', '_description', '_downloads_url', '_events_url', '_fork', '_forks', '_forks_count', '_forks_url', '_full_name', '_git_commits_url', '_git_refs_url', '_git_tags_url', '_git_url', '_has_downloads', '_has_issues', '_has_pages', '_has_projects', '_has_wiki', '_headers', '_homepage', '_hooks_url', '_html_url', '_hub', '_id', '_identity', '_initAttributes', '_issue_comment_url', '_issue_events_url', '_issues_url', '_keys_url', '_labels_url', '_language', '_languages_url', '_legacy_convert_issue', '_makeBoolAttribute', '_makeClassAttribute', '_makeDatetimeAttribute', '_makeDictAttribute', '_makeDictOfStringsToClassesAttribute', '_makeFloatAttribute', '_makeIntAttribute', '_makeListOfClassesAttribute', '_makeListOfDictsAttribute', '_makeListOfIntsAttribute', '_makeListOfListOfStringsAttribute', '_makeListOfStringsAttribute', '_makeStringAttribute', '_makeTimestampAttribute', '_master_branch', '_merges_url', '_milestones_url', '_mirror_url', '_name', '_network_count', '_notifications_url', '_open_issues', '_open_issues_count', '_organization', '_owner', '_parent', '_parentUrl', '_permissions', '_private', '_pulls_url', '_pushed_at', '_rawData', '_releases_url', '_requester', '_size', '_source', '_ssh_url', '_stargazers_count', '_stargazers_url', '_statuses_url', '_storeAndUseAttributes', '_subscribers_count', '_subscribers_url', '_subscription_url', '_svn_url', '_tags_url', '_teams_url', '_trees_url', '_updated_at', '_url', '_useAttributes', '_watchers', '_watchers_count', 'add_to_collaborators', 'allow_merge_commit', 'allow_rebase_merge', 'allow_squash_merge', 'archive_url', 'archived', 'assignees_url', 'blobs_url', 'branches_url', 'clone_url', 'collaborators_url', 'comments_url', 'commits_url', 'compare', 'compare_url', 'contents_url', 'contributors_url', 'create_deployment', 'create_file', 'create_fork', 'create_git_blob', 'create_git_commit', 'create_git_ref', 'create_git_release', 'create_git_tag', 'create_git_tag_and_release', 'create_git_tree', 'create_hook', 'create_issue', 'create_key', 'create_label', 'create_milestone', 'create_project', 'create_pull', 'create_repository_dispatch', 'create_source_import', 'created_at', 'default_branch', 'delete', 'delete_branch_on_merge', 'delete_file', 'deployments_url', 'description', 'disable_automated_security_fixes', 'disable_vulnerability_alert', 'downloads_url', 'edit', 'enable_automated_security_fixes', 'enable_vulnerability_alert', 'etag', 'events_url', 'fork', 'forks', 'forks_count', 'forks_url', 'full_name', 'get__repr__', 'get_archive_link', 'get_assignees', 'get_branch', 'get_branches', 'get_clones_traffic', 'get_collaborator_permission', 'get_collaborators', 'get_comment', 'get_comments', 'get_commit', 'get_commits', 'get_contents', 'get_contributors', 'get_deployment', 'get_deployments', 'get_dir_contents', 'get_download', 'get_downloads', 'get_events', 'get_forks', 'get_git_blob', 'get_git_commit', 'get_git_matching_refs', 'get_git_ref', 'get_git_refs', 'get_git_tag', 'get_git_tree', 'get_hook', 'get_hooks', 'get_issue', 'get_issues', 'get_issues_comments', 'get_issues_event', 'get_issues_events', 'get_key', 'get_keys', 'get_label', 'get_labels', 'get_languages', 'get_latest_release', 'get_license', 'get_milestone', 'get_milestones', 'get_network_events', 'get_notifications', 'get_pending_invitations', 'get_projects', 'get_pull', 'get_pulls', 'get_pulls_comments', 'get_pulls_review_comments', 'get_readme', 'get_release', 'get_release_asset', 'get_releases', 'get_source_import', 'get_stargazers', 'get_stargazers_with_dates', 'get_stats_code_frequency', 'get_stats_commit_activity', 'get_stats_contributors', 'get_stats_participation', 'get_stats_punch_card', 'get_subscribers', 'get_tags', 'get_teams', 'get_top_paths', 'get_top_referrers', 'get_topics', 'get_views_traffic', 'get_vulnerability_alert', 'get_watchers', 'get_workflow', 'get_workflow_run', 'get_workflow_runs', 'get_workflows', 'git_commits_url', 'git_refs_url', 'git_tags_url', 'git_url', 'has_downloads', 'has_in_assignees', 'has_in_collaborators', 'has_issues', 'has_pages', 'has_projects', 'has_wiki', 'homepage', 'hooks_url', 'html_url', 'id', 'issue_comment_url', 'issue_events_url', 'issues_url', 'keys_url', 'labels_url', 'language', 'languages_url', 'last_modified', 'legacy_search_issues', 'mark_notifications_as_read', 'master_branch', 'merge', 'merges_url', 'milestones_url', 'mirror_url', 'name', 'network_count', 'notifications_url', 'open_issues', 'open_issues_count', 'organization', 'owner', 'parent', 'permissions', 'private', 'pulls_url', 'pushed_at', 'raw_data', 'raw_headers', 'releases_url', 'remove_from_collaborators', 'remove_invitation', 'replace_topics', 'setCheckAfterInitFlag', 'size', 'source', 'ssh_url', 'stargazers_count', 'stargazers_url', 'statuses_url', 'subscribe_to_hub', 'subscribers_count', 'subscribers_url', 'subscription_url', 'svn_url', 'tags_url', 'teams_url', 'trees_url', 'unsubscribe_from_hub', 'update', 'update_file', 'updated_at', 'url', 'watchers', 'watchers_count']\n",
            "CS200\n",
            "['CHECK_AFTER_INIT_FLAG', '_CompletableGithubObject__complete', '_CompletableGithubObject__completed', '_GithubObject__makeSimpleAttribute', '_GithubObject__makeSimpleListAttribute', '_GithubObject__makeTransformedAttribute', '_Repository__create_pull', '_Repository__create_pull_1', '_Repository__create_pull_2', '__class__', '__delattr__', '__dict__', '__dir__', '__doc__', '__eq__', '__format__', '__ge__', '__getattribute__', '__gt__', '__hash__', '__init__', '__init_subclass__', '__le__', '__lt__', '__module__', '__ne__', '__new__', '__reduce__', '__reduce_ex__', '__repr__', '__setattr__', '__sizeof__', '__str__', '__subclasshook__', '__weakref__', '_allow_merge_commit', '_allow_rebase_merge', '_allow_squash_merge', '_archive_url', '_archived', '_assignees_url', '_blobs_url', '_branches_url', '_clone_url', '_collaborators_url', '_comments_url', '_commits_url', '_compare_url', '_completeIfNeeded', '_completeIfNotSet', '_contents_url', '_contributors_url', '_created_at', '_default_branch', '_delete_branch_on_merge', '_deployments_url', '_description', '_downloads_url', '_events_url', '_fork', '_forks', '_forks_count', '_forks_url', '_full_name', '_git_commits_url', '_git_refs_url', '_git_tags_url', '_git_url', '_has_downloads', '_has_issues', '_has_pages', '_has_projects', '_has_wiki', '_headers', '_homepage', '_hooks_url', '_html_url', '_hub', '_id', '_identity', '_initAttributes', '_issue_comment_url', '_issue_events_url', '_issues_url', '_keys_url', '_labels_url', '_language', '_languages_url', '_legacy_convert_issue', '_makeBoolAttribute', '_makeClassAttribute', '_makeDatetimeAttribute', '_makeDictAttribute', '_makeDictOfStringsToClassesAttribute', '_makeFloatAttribute', '_makeIntAttribute', '_makeListOfClassesAttribute', '_makeListOfDictsAttribute', '_makeListOfIntsAttribute', '_makeListOfListOfStringsAttribute', '_makeListOfStringsAttribute', '_makeStringAttribute', '_makeTimestampAttribute', '_master_branch', '_merges_url', '_milestones_url', '_mirror_url', '_name', '_network_count', '_notifications_url', '_open_issues', '_open_issues_count', '_organization', '_owner', '_parent', '_parentUrl', '_permissions', '_private', '_pulls_url', '_pushed_at', '_rawData', '_releases_url', '_requester', '_size', '_source', '_ssh_url', '_stargazers_count', '_stargazers_url', '_statuses_url', '_storeAndUseAttributes', '_subscribers_count', '_subscribers_url', '_subscription_url', '_svn_url', '_tags_url', '_teams_url', '_trees_url', '_updated_at', '_url', '_useAttributes', '_watchers', '_watchers_count', 'add_to_collaborators', 'allow_merge_commit', 'allow_rebase_merge', 'allow_squash_merge', 'archive_url', 'archived', 'assignees_url', 'blobs_url', 'branches_url', 'clone_url', 'collaborators_url', 'comments_url', 'commits_url', 'compare', 'compare_url', 'contents_url', 'contributors_url', 'create_deployment', 'create_file', 'create_fork', 'create_git_blob', 'create_git_commit', 'create_git_ref', 'create_git_release', 'create_git_tag', 'create_git_tag_and_release', 'create_git_tree', 'create_hook', 'create_issue', 'create_key', 'create_label', 'create_milestone', 'create_project', 'create_pull', 'create_repository_dispatch', 'create_source_import', 'created_at', 'default_branch', 'delete', 'delete_branch_on_merge', 'delete_file', 'deployments_url', 'description', 'disable_automated_security_fixes', 'disable_vulnerability_alert', 'downloads_url', 'edit', 'enable_automated_security_fixes', 'enable_vulnerability_alert', 'etag', 'events_url', 'fork', 'forks', 'forks_count', 'forks_url', 'full_name', 'get__repr__', 'get_archive_link', 'get_assignees', 'get_branch', 'get_branches', 'get_clones_traffic', 'get_collaborator_permission', 'get_collaborators', 'get_comment', 'get_comments', 'get_commit', 'get_commits', 'get_contents', 'get_contributors', 'get_deployment', 'get_deployments', 'get_dir_contents', 'get_download', 'get_downloads', 'get_events', 'get_forks', 'get_git_blob', 'get_git_commit', 'get_git_matching_refs', 'get_git_ref', 'get_git_refs', 'get_git_tag', 'get_git_tree', 'get_hook', 'get_hooks', 'get_issue', 'get_issues', 'get_issues_comments', 'get_issues_event', 'get_issues_events', 'get_key', 'get_keys', 'get_label', 'get_labels', 'get_languages', 'get_latest_release', 'get_license', 'get_milestone', 'get_milestones', 'get_network_events', 'get_notifications', 'get_pending_invitations', 'get_projects', 'get_pull', 'get_pulls', 'get_pulls_comments', 'get_pulls_review_comments', 'get_readme', 'get_release', 'get_release_asset', 'get_releases', 'get_source_import', 'get_stargazers', 'get_stargazers_with_dates', 'get_stats_code_frequency', 'get_stats_commit_activity', 'get_stats_contributors', 'get_stats_participation', 'get_stats_punch_card', 'get_subscribers', 'get_tags', 'get_teams', 'get_top_paths', 'get_top_referrers', 'get_topics', 'get_views_traffic', 'get_vulnerability_alert', 'get_watchers', 'get_workflow', 'get_workflow_run', 'get_workflow_runs', 'get_workflows', 'git_commits_url', 'git_refs_url', 'git_tags_url', 'git_url', 'has_downloads', 'has_in_assignees', 'has_in_collaborators', 'has_issues', 'has_pages', 'has_projects', 'has_wiki', 'homepage', 'hooks_url', 'html_url', 'id', 'issue_comment_url', 'issue_events_url', 'issues_url', 'keys_url', 'labels_url', 'language', 'languages_url', 'last_modified', 'legacy_search_issues', 'mark_notifications_as_read', 'master_branch', 'merge', 'merges_url', 'milestones_url', 'mirror_url', 'name', 'network_count', 'notifications_url', 'open_issues', 'open_issues_count', 'organization', 'owner', 'parent', 'permissions', 'private', 'pulls_url', 'pushed_at', 'raw_data', 'raw_headers', 'releases_url', 'remove_from_collaborators', 'remove_invitation', 'replace_topics', 'setCheckAfterInitFlag', 'size', 'source', 'ssh_url', 'stargazers_count', 'stargazers_url', 'statuses_url', 'subscribe_to_hub', 'subscribers_count', 'subscribers_url', 'subscription_url', 'svn_url', 'tags_url', 'teams_url', 'trees_url', 'unsubscribe_from_hub', 'update', 'update_file', 'updated_at', 'url', 'watchers', 'watchers_count']\n",
            "TS\n"
          ],
          "name": "stdout"
        },
        {
          "output_type": "error",
          "ename": "KeyboardInterrupt",
          "evalue": "ignored",
          "traceback": [
            "\u001b[0;31m---------------------------------------------------------------------------\u001b[0m",
            "\u001b[0;31mTypeError\u001b[0m                                 Traceback (most recent call last)",
            "\u001b[0;32m/usr/local/lib/python3.6/dist-packages/urllib3/connectionpool.py\u001b[0m in \u001b[0;36m_make_request\u001b[0;34m(self, conn, method, url, timeout, chunked, **httplib_request_kw)\u001b[0m\n\u001b[1;32m    376\u001b[0m             \u001b[0;32mtry\u001b[0m\u001b[0;34m:\u001b[0m  \u001b[0;31m# Python 2.7, use buffering of HTTP responses\u001b[0m\u001b[0;34m\u001b[0m\u001b[0;34m\u001b[0m\u001b[0m\n\u001b[0;32m--> 377\u001b[0;31m                 \u001b[0mhttplib_response\u001b[0m \u001b[0;34m=\u001b[0m \u001b[0mconn\u001b[0m\u001b[0;34m.\u001b[0m\u001b[0mgetresponse\u001b[0m\u001b[0;34m(\u001b[0m\u001b[0mbuffering\u001b[0m\u001b[0;34m=\u001b[0m\u001b[0;32mTrue\u001b[0m\u001b[0;34m)\u001b[0m\u001b[0;34m\u001b[0m\u001b[0;34m\u001b[0m\u001b[0m\n\u001b[0m\u001b[1;32m    378\u001b[0m             \u001b[0;32mexcept\u001b[0m \u001b[0mTypeError\u001b[0m\u001b[0;34m:\u001b[0m  \u001b[0;31m# Python 3\u001b[0m\u001b[0;34m\u001b[0m\u001b[0;34m\u001b[0m\u001b[0m\n",
            "\u001b[0;31mTypeError\u001b[0m: getresponse() got an unexpected keyword argument 'buffering'",
            "\nDuring handling of the above exception, another exception occurred:\n",
            "\u001b[0;31mKeyboardInterrupt\u001b[0m                         Traceback (most recent call last)",
            "\u001b[0;32m<ipython-input-36-89973ad029a2>\u001b[0m in \u001b[0;36m<module>\u001b[0;34m()\u001b[0m\n\u001b[1;32m      1\u001b[0m \u001b[0;32mfor\u001b[0m \u001b[0mrepo\u001b[0m \u001b[0;32min\u001b[0m \u001b[0mg\u001b[0m\u001b[0;34m.\u001b[0m\u001b[0mget_user\u001b[0m\u001b[0;34m(\u001b[0m\u001b[0;34m)\u001b[0m\u001b[0;34m.\u001b[0m\u001b[0mget_repos\u001b[0m\u001b[0;34m(\u001b[0m\u001b[0;34m)\u001b[0m\u001b[0;34m:\u001b[0m\u001b[0;34m\u001b[0m\u001b[0;34m\u001b[0m\u001b[0m\n\u001b[1;32m      2\u001b[0m     \u001b[0mprint\u001b[0m\u001b[0;34m(\u001b[0m\u001b[0mrepo\u001b[0m\u001b[0;34m.\u001b[0m\u001b[0mname\u001b[0m\u001b[0;34m)\u001b[0m\u001b[0;34m\u001b[0m\u001b[0;34m\u001b[0m\u001b[0m\n\u001b[0;32m----> 3\u001b[0;31m     \u001b[0mrepo\u001b[0m\u001b[0;34m.\u001b[0m\u001b[0medit\u001b[0m\u001b[0;34m(\u001b[0m\u001b[0mhas_wiki\u001b[0m\u001b[0;34m=\u001b[0m\u001b[0;32mFalse\u001b[0m\u001b[0;34m)\u001b[0m\u001b[0;34m\u001b[0m\u001b[0;34m\u001b[0m\u001b[0m\n\u001b[0m\u001b[1;32m      4\u001b[0m     \u001b[0;31m# to see all the available attributes and methods\u001b[0m\u001b[0;34m\u001b[0m\u001b[0;34m\u001b[0m\u001b[0;34m\u001b[0m\u001b[0m\n\u001b[1;32m      5\u001b[0m     \u001b[0mprint\u001b[0m\u001b[0;34m(\u001b[0m\u001b[0mdir\u001b[0m\u001b[0;34m(\u001b[0m\u001b[0mrepo\u001b[0m\u001b[0;34m)\u001b[0m\u001b[0;34m)\u001b[0m\u001b[0;34m\u001b[0m\u001b[0;34m\u001b[0m\u001b[0m\n",
            "\u001b[0;32m/usr/local/lib/python3.6/dist-packages/github/Repository.py\u001b[0m in \u001b[0;36medit\u001b[0;34m(self, name, description, homepage, private, has_issues, has_projects, has_wiki, has_downloads, default_branch, allow_squash_merge, allow_merge_commit, allow_rebase_merge, delete_branch_on_merge, archived)\u001b[0m\n\u001b[1;32m   1568\u001b[0m             \u001b[0mpost_parameters\u001b[0m\u001b[0;34m[\u001b[0m\u001b[0;34m\"archived\"\u001b[0m\u001b[0;34m]\u001b[0m \u001b[0;34m=\u001b[0m \u001b[0marchived\u001b[0m\u001b[0;34m\u001b[0m\u001b[0;34m\u001b[0m\u001b[0m\n\u001b[1;32m   1569\u001b[0m         headers, data = self._requester.requestJsonAndCheck(\n\u001b[0;32m-> 1570\u001b[0;31m             \u001b[0;34m\"PATCH\"\u001b[0m\u001b[0;34m,\u001b[0m \u001b[0mself\u001b[0m\u001b[0;34m.\u001b[0m\u001b[0murl\u001b[0m\u001b[0;34m,\u001b[0m \u001b[0minput\u001b[0m\u001b[0;34m=\u001b[0m\u001b[0mpost_parameters\u001b[0m\u001b[0;34m\u001b[0m\u001b[0;34m\u001b[0m\u001b[0m\n\u001b[0m\u001b[1;32m   1571\u001b[0m         )\n\u001b[1;32m   1572\u001b[0m         \u001b[0mself\u001b[0m\u001b[0;34m.\u001b[0m\u001b[0m_useAttributes\u001b[0m\u001b[0;34m(\u001b[0m\u001b[0mdata\u001b[0m\u001b[0;34m)\u001b[0m\u001b[0;34m\u001b[0m\u001b[0;34m\u001b[0m\u001b[0m\n",
            "\u001b[0;32m/usr/local/lib/python3.6/dist-packages/github/Requester.py\u001b[0m in \u001b[0;36mrequestJsonAndCheck\u001b[0;34m(self, verb, url, parameters, headers, input)\u001b[0m\n\u001b[1;32m    317\u001b[0m         return self.__check(\n\u001b[1;32m    318\u001b[0m             *self.requestJson(\n\u001b[0;32m--> 319\u001b[0;31m                 \u001b[0mverb\u001b[0m\u001b[0;34m,\u001b[0m \u001b[0murl\u001b[0m\u001b[0;34m,\u001b[0m \u001b[0mparameters\u001b[0m\u001b[0;34m,\u001b[0m \u001b[0mheaders\u001b[0m\u001b[0;34m,\u001b[0m \u001b[0minput\u001b[0m\u001b[0;34m,\u001b[0m \u001b[0mself\u001b[0m\u001b[0;34m.\u001b[0m\u001b[0m__customConnection\u001b[0m\u001b[0;34m(\u001b[0m\u001b[0murl\u001b[0m\u001b[0;34m)\u001b[0m\u001b[0;34m\u001b[0m\u001b[0;34m\u001b[0m\u001b[0m\n\u001b[0m\u001b[1;32m    320\u001b[0m             )\n\u001b[1;32m    321\u001b[0m         )\n",
            "\u001b[0;32m/usr/local/lib/python3.6/dist-packages/github/Requester.py\u001b[0m in \u001b[0;36mrequestJson\u001b[0;34m(self, verb, url, parameters, headers, input, cnx)\u001b[0m\n\u001b[1;32m    408\u001b[0m             \u001b[0;32mreturn\u001b[0m \u001b[0;34m\"application/json\"\u001b[0m\u001b[0;34m,\u001b[0m \u001b[0mjson\u001b[0m\u001b[0;34m.\u001b[0m\u001b[0mdumps\u001b[0m\u001b[0;34m(\u001b[0m\u001b[0minput\u001b[0m\u001b[0;34m)\u001b[0m\u001b[0;34m\u001b[0m\u001b[0;34m\u001b[0m\u001b[0m\n\u001b[1;32m    409\u001b[0m \u001b[0;34m\u001b[0m\u001b[0m\n\u001b[0;32m--> 410\u001b[0;31m         \u001b[0;32mreturn\u001b[0m \u001b[0mself\u001b[0m\u001b[0;34m.\u001b[0m\u001b[0m__requestEncode\u001b[0m\u001b[0;34m(\u001b[0m\u001b[0mcnx\u001b[0m\u001b[0;34m,\u001b[0m \u001b[0mverb\u001b[0m\u001b[0;34m,\u001b[0m \u001b[0murl\u001b[0m\u001b[0;34m,\u001b[0m \u001b[0mparameters\u001b[0m\u001b[0;34m,\u001b[0m \u001b[0mheaders\u001b[0m\u001b[0;34m,\u001b[0m \u001b[0minput\u001b[0m\u001b[0;34m,\u001b[0m \u001b[0mencode\u001b[0m\u001b[0;34m)\u001b[0m\u001b[0;34m\u001b[0m\u001b[0;34m\u001b[0m\u001b[0m\n\u001b[0m\u001b[1;32m    411\u001b[0m \u001b[0;34m\u001b[0m\u001b[0m\n\u001b[1;32m    412\u001b[0m     def requestMultipart(\n",
            "\u001b[0;32m/usr/local/lib/python3.6/dist-packages/github/Requester.py\u001b[0m in \u001b[0;36m__requestEncode\u001b[0;34m(self, cnx, verb, url, parameters, requestHeaders, input, encode)\u001b[0m\n\u001b[1;32m    485\u001b[0m \u001b[0;34m\u001b[0m\u001b[0m\n\u001b[1;32m    486\u001b[0m         status, responseHeaders, output = self.__requestRaw(\n\u001b[0;32m--> 487\u001b[0;31m             \u001b[0mcnx\u001b[0m\u001b[0;34m,\u001b[0m \u001b[0mverb\u001b[0m\u001b[0;34m,\u001b[0m \u001b[0murl\u001b[0m\u001b[0;34m,\u001b[0m \u001b[0mrequestHeaders\u001b[0m\u001b[0;34m,\u001b[0m \u001b[0mencoded_input\u001b[0m\u001b[0;34m\u001b[0m\u001b[0;34m\u001b[0m\u001b[0m\n\u001b[0m\u001b[1;32m    488\u001b[0m         )\n\u001b[1;32m    489\u001b[0m \u001b[0;34m\u001b[0m\u001b[0m\n",
            "\u001b[0;32m/usr/local/lib/python3.6/dist-packages/github/Requester.py\u001b[0m in \u001b[0;36m__requestRaw\u001b[0;34m(self, cnx, verb, url, requestHeaders, input)\u001b[0m\n\u001b[1;32m    511\u001b[0m             \u001b[0mcnx\u001b[0m \u001b[0;34m=\u001b[0m \u001b[0mself\u001b[0m\u001b[0;34m.\u001b[0m\u001b[0m__createConnection\u001b[0m\u001b[0;34m(\u001b[0m\u001b[0;34m)\u001b[0m\u001b[0;34m\u001b[0m\u001b[0;34m\u001b[0m\u001b[0m\n\u001b[1;32m    512\u001b[0m         \u001b[0mcnx\u001b[0m\u001b[0;34m.\u001b[0m\u001b[0mrequest\u001b[0m\u001b[0;34m(\u001b[0m\u001b[0mverb\u001b[0m\u001b[0;34m,\u001b[0m \u001b[0murl\u001b[0m\u001b[0;34m,\u001b[0m \u001b[0minput\u001b[0m\u001b[0;34m,\u001b[0m \u001b[0mrequestHeaders\u001b[0m\u001b[0;34m)\u001b[0m\u001b[0;34m\u001b[0m\u001b[0;34m\u001b[0m\u001b[0m\n\u001b[0;32m--> 513\u001b[0;31m         \u001b[0mresponse\u001b[0m \u001b[0;34m=\u001b[0m \u001b[0mcnx\u001b[0m\u001b[0;34m.\u001b[0m\u001b[0mgetresponse\u001b[0m\u001b[0;34m(\u001b[0m\u001b[0;34m)\u001b[0m\u001b[0;34m\u001b[0m\u001b[0;34m\u001b[0m\u001b[0m\n\u001b[0m\u001b[1;32m    514\u001b[0m \u001b[0;34m\u001b[0m\u001b[0m\n\u001b[1;32m    515\u001b[0m         \u001b[0mstatus\u001b[0m \u001b[0;34m=\u001b[0m \u001b[0mresponse\u001b[0m\u001b[0;34m.\u001b[0m\u001b[0mstatus\u001b[0m\u001b[0;34m\u001b[0m\u001b[0;34m\u001b[0m\u001b[0m\n",
            "\u001b[0;32m/usr/local/lib/python3.6/dist-packages/github/Requester.py\u001b[0m in \u001b[0;36mgetresponse\u001b[0;34m(self)\u001b[0m\n\u001b[1;32m    114\u001b[0m             \u001b[0mtimeout\u001b[0m\u001b[0;34m=\u001b[0m\u001b[0mself\u001b[0m\u001b[0;34m.\u001b[0m\u001b[0mtimeout\u001b[0m\u001b[0;34m,\u001b[0m\u001b[0;34m\u001b[0m\u001b[0;34m\u001b[0m\u001b[0m\n\u001b[1;32m    115\u001b[0m             \u001b[0mverify\u001b[0m\u001b[0;34m=\u001b[0m\u001b[0mself\u001b[0m\u001b[0;34m.\u001b[0m\u001b[0mverify\u001b[0m\u001b[0;34m,\u001b[0m\u001b[0;34m\u001b[0m\u001b[0;34m\u001b[0m\u001b[0m\n\u001b[0;32m--> 116\u001b[0;31m             \u001b[0mallow_redirects\u001b[0m\u001b[0;34m=\u001b[0m\u001b[0;32mFalse\u001b[0m\u001b[0;34m,\u001b[0m\u001b[0;34m\u001b[0m\u001b[0;34m\u001b[0m\u001b[0m\n\u001b[0m\u001b[1;32m    117\u001b[0m         )\n\u001b[1;32m    118\u001b[0m         \u001b[0;32mreturn\u001b[0m \u001b[0mRequestsResponse\u001b[0m\u001b[0;34m(\u001b[0m\u001b[0mr\u001b[0m\u001b[0;34m)\u001b[0m\u001b[0;34m\u001b[0m\u001b[0;34m\u001b[0m\u001b[0m\n",
            "\u001b[0;32m/usr/local/lib/python3.6/dist-packages/requests/sessions.py\u001b[0m in \u001b[0;36mpatch\u001b[0;34m(self, url, data, **kwargs)\u001b[0m\n\u001b[1;32m    600\u001b[0m         \"\"\"\n\u001b[1;32m    601\u001b[0m \u001b[0;34m\u001b[0m\u001b[0m\n\u001b[0;32m--> 602\u001b[0;31m         \u001b[0;32mreturn\u001b[0m \u001b[0mself\u001b[0m\u001b[0;34m.\u001b[0m\u001b[0mrequest\u001b[0m\u001b[0;34m(\u001b[0m\u001b[0;34m'PATCH'\u001b[0m\u001b[0;34m,\u001b[0m \u001b[0murl\u001b[0m\u001b[0;34m,\u001b[0m \u001b[0mdata\u001b[0m\u001b[0;34m=\u001b[0m\u001b[0mdata\u001b[0m\u001b[0;34m,\u001b[0m \u001b[0;34m**\u001b[0m\u001b[0mkwargs\u001b[0m\u001b[0;34m)\u001b[0m\u001b[0;34m\u001b[0m\u001b[0;34m\u001b[0m\u001b[0m\n\u001b[0m\u001b[1;32m    603\u001b[0m \u001b[0;34m\u001b[0m\u001b[0m\n\u001b[1;32m    604\u001b[0m     \u001b[0;32mdef\u001b[0m \u001b[0mdelete\u001b[0m\u001b[0;34m(\u001b[0m\u001b[0mself\u001b[0m\u001b[0;34m,\u001b[0m \u001b[0murl\u001b[0m\u001b[0;34m,\u001b[0m \u001b[0;34m**\u001b[0m\u001b[0mkwargs\u001b[0m\u001b[0;34m)\u001b[0m\u001b[0;34m:\u001b[0m\u001b[0;34m\u001b[0m\u001b[0;34m\u001b[0m\u001b[0m\n",
            "\u001b[0;32m/usr/local/lib/python3.6/dist-packages/requests/sessions.py\u001b[0m in \u001b[0;36mrequest\u001b[0;34m(self, method, url, params, data, headers, cookies, files, auth, timeout, allow_redirects, proxies, hooks, stream, verify, cert, json)\u001b[0m\n\u001b[1;32m    528\u001b[0m         }\n\u001b[1;32m    529\u001b[0m         \u001b[0msend_kwargs\u001b[0m\u001b[0;34m.\u001b[0m\u001b[0mupdate\u001b[0m\u001b[0;34m(\u001b[0m\u001b[0msettings\u001b[0m\u001b[0;34m)\u001b[0m\u001b[0;34m\u001b[0m\u001b[0;34m\u001b[0m\u001b[0m\n\u001b[0;32m--> 530\u001b[0;31m         \u001b[0mresp\u001b[0m \u001b[0;34m=\u001b[0m \u001b[0mself\u001b[0m\u001b[0;34m.\u001b[0m\u001b[0msend\u001b[0m\u001b[0;34m(\u001b[0m\u001b[0mprep\u001b[0m\u001b[0;34m,\u001b[0m \u001b[0;34m**\u001b[0m\u001b[0msend_kwargs\u001b[0m\u001b[0;34m)\u001b[0m\u001b[0;34m\u001b[0m\u001b[0;34m\u001b[0m\u001b[0m\n\u001b[0m\u001b[1;32m    531\u001b[0m \u001b[0;34m\u001b[0m\u001b[0m\n\u001b[1;32m    532\u001b[0m         \u001b[0;32mreturn\u001b[0m \u001b[0mresp\u001b[0m\u001b[0;34m\u001b[0m\u001b[0;34m\u001b[0m\u001b[0m\n",
            "\u001b[0;32m/usr/local/lib/python3.6/dist-packages/requests/sessions.py\u001b[0m in \u001b[0;36msend\u001b[0;34m(self, request, **kwargs)\u001b[0m\n\u001b[1;32m    641\u001b[0m \u001b[0;34m\u001b[0m\u001b[0m\n\u001b[1;32m    642\u001b[0m         \u001b[0;31m# Send the request\u001b[0m\u001b[0;34m\u001b[0m\u001b[0;34m\u001b[0m\u001b[0;34m\u001b[0m\u001b[0m\n\u001b[0;32m--> 643\u001b[0;31m         \u001b[0mr\u001b[0m \u001b[0;34m=\u001b[0m \u001b[0madapter\u001b[0m\u001b[0;34m.\u001b[0m\u001b[0msend\u001b[0m\u001b[0;34m(\u001b[0m\u001b[0mrequest\u001b[0m\u001b[0;34m,\u001b[0m \u001b[0;34m**\u001b[0m\u001b[0mkwargs\u001b[0m\u001b[0;34m)\u001b[0m\u001b[0;34m\u001b[0m\u001b[0;34m\u001b[0m\u001b[0m\n\u001b[0m\u001b[1;32m    644\u001b[0m \u001b[0;34m\u001b[0m\u001b[0m\n\u001b[1;32m    645\u001b[0m         \u001b[0;31m# Total elapsed time of the request (approximately)\u001b[0m\u001b[0;34m\u001b[0m\u001b[0;34m\u001b[0m\u001b[0;34m\u001b[0m\u001b[0m\n",
            "\u001b[0;32m/usr/local/lib/python3.6/dist-packages/requests/adapters.py\u001b[0m in \u001b[0;36msend\u001b[0;34m(self, request, stream, timeout, verify, cert, proxies)\u001b[0m\n\u001b[1;32m    447\u001b[0m                     \u001b[0mdecode_content\u001b[0m\u001b[0;34m=\u001b[0m\u001b[0;32mFalse\u001b[0m\u001b[0;34m,\u001b[0m\u001b[0;34m\u001b[0m\u001b[0;34m\u001b[0m\u001b[0m\n\u001b[1;32m    448\u001b[0m                     \u001b[0mretries\u001b[0m\u001b[0;34m=\u001b[0m\u001b[0mself\u001b[0m\u001b[0;34m.\u001b[0m\u001b[0mmax_retries\u001b[0m\u001b[0;34m,\u001b[0m\u001b[0;34m\u001b[0m\u001b[0;34m\u001b[0m\u001b[0m\n\u001b[0;32m--> 449\u001b[0;31m                     \u001b[0mtimeout\u001b[0m\u001b[0;34m=\u001b[0m\u001b[0mtimeout\u001b[0m\u001b[0;34m\u001b[0m\u001b[0;34m\u001b[0m\u001b[0m\n\u001b[0m\u001b[1;32m    450\u001b[0m                 )\n\u001b[1;32m    451\u001b[0m \u001b[0;34m\u001b[0m\u001b[0m\n",
            "\u001b[0;32m/usr/local/lib/python3.6/dist-packages/urllib3/connectionpool.py\u001b[0m in \u001b[0;36murlopen\u001b[0;34m(self, method, url, body, headers, retries, redirect, assert_same_host, timeout, pool_timeout, release_conn, chunked, body_pos, **response_kw)\u001b[0m\n\u001b[1;32m    598\u001b[0m                                                   \u001b[0mtimeout\u001b[0m\u001b[0;34m=\u001b[0m\u001b[0mtimeout_obj\u001b[0m\u001b[0;34m,\u001b[0m\u001b[0;34m\u001b[0m\u001b[0;34m\u001b[0m\u001b[0m\n\u001b[1;32m    599\u001b[0m                                                   \u001b[0mbody\u001b[0m\u001b[0;34m=\u001b[0m\u001b[0mbody\u001b[0m\u001b[0;34m,\u001b[0m \u001b[0mheaders\u001b[0m\u001b[0;34m=\u001b[0m\u001b[0mheaders\u001b[0m\u001b[0;34m,\u001b[0m\u001b[0;34m\u001b[0m\u001b[0;34m\u001b[0m\u001b[0m\n\u001b[0;32m--> 600\u001b[0;31m                                                   chunked=chunked)\n\u001b[0m\u001b[1;32m    601\u001b[0m \u001b[0;34m\u001b[0m\u001b[0m\n\u001b[1;32m    602\u001b[0m             \u001b[0;31m# If we're going to release the connection in ``finally:``, then\u001b[0m\u001b[0;34m\u001b[0m\u001b[0;34m\u001b[0m\u001b[0;34m\u001b[0m\u001b[0m\n",
            "\u001b[0;32m/usr/local/lib/python3.6/dist-packages/urllib3/connectionpool.py\u001b[0m in \u001b[0;36m_make_request\u001b[0;34m(self, conn, method, url, timeout, chunked, **httplib_request_kw)\u001b[0m\n\u001b[1;32m    378\u001b[0m             \u001b[0;32mexcept\u001b[0m \u001b[0mTypeError\u001b[0m\u001b[0;34m:\u001b[0m  \u001b[0;31m# Python 3\u001b[0m\u001b[0;34m\u001b[0m\u001b[0;34m\u001b[0m\u001b[0m\n\u001b[1;32m    379\u001b[0m                 \u001b[0;32mtry\u001b[0m\u001b[0;34m:\u001b[0m\u001b[0;34m\u001b[0m\u001b[0;34m\u001b[0m\u001b[0m\n\u001b[0;32m--> 380\u001b[0;31m                     \u001b[0mhttplib_response\u001b[0m \u001b[0;34m=\u001b[0m \u001b[0mconn\u001b[0m\u001b[0;34m.\u001b[0m\u001b[0mgetresponse\u001b[0m\u001b[0;34m(\u001b[0m\u001b[0;34m)\u001b[0m\u001b[0;34m\u001b[0m\u001b[0;34m\u001b[0m\u001b[0m\n\u001b[0m\u001b[1;32m    381\u001b[0m                 \u001b[0;32mexcept\u001b[0m \u001b[0mException\u001b[0m \u001b[0;32mas\u001b[0m \u001b[0me\u001b[0m\u001b[0;34m:\u001b[0m\u001b[0;34m\u001b[0m\u001b[0;34m\u001b[0m\u001b[0m\n\u001b[1;32m    382\u001b[0m                     \u001b[0;31m# Remove the TypeError from the exception chain in Python 3;\u001b[0m\u001b[0;34m\u001b[0m\u001b[0;34m\u001b[0m\u001b[0;34m\u001b[0m\u001b[0m\n",
            "\u001b[0;32m/usr/lib/python3.6/http/client.py\u001b[0m in \u001b[0;36mgetresponse\u001b[0;34m(self)\u001b[0m\n\u001b[1;32m   1354\u001b[0m         \u001b[0;32mtry\u001b[0m\u001b[0;34m:\u001b[0m\u001b[0;34m\u001b[0m\u001b[0;34m\u001b[0m\u001b[0m\n\u001b[1;32m   1355\u001b[0m             \u001b[0;32mtry\u001b[0m\u001b[0;34m:\u001b[0m\u001b[0;34m\u001b[0m\u001b[0;34m\u001b[0m\u001b[0m\n\u001b[0;32m-> 1356\u001b[0;31m                 \u001b[0mresponse\u001b[0m\u001b[0;34m.\u001b[0m\u001b[0mbegin\u001b[0m\u001b[0;34m(\u001b[0m\u001b[0;34m)\u001b[0m\u001b[0;34m\u001b[0m\u001b[0;34m\u001b[0m\u001b[0m\n\u001b[0m\u001b[1;32m   1357\u001b[0m             \u001b[0;32mexcept\u001b[0m \u001b[0mConnectionError\u001b[0m\u001b[0;34m:\u001b[0m\u001b[0;34m\u001b[0m\u001b[0;34m\u001b[0m\u001b[0m\n\u001b[1;32m   1358\u001b[0m                 \u001b[0mself\u001b[0m\u001b[0;34m.\u001b[0m\u001b[0mclose\u001b[0m\u001b[0;34m(\u001b[0m\u001b[0;34m)\u001b[0m\u001b[0;34m\u001b[0m\u001b[0;34m\u001b[0m\u001b[0m\n",
            "\u001b[0;32m/usr/lib/python3.6/http/client.py\u001b[0m in \u001b[0;36mbegin\u001b[0;34m(self)\u001b[0m\n\u001b[1;32m    305\u001b[0m         \u001b[0;31m# read until we get a non-100 response\u001b[0m\u001b[0;34m\u001b[0m\u001b[0;34m\u001b[0m\u001b[0;34m\u001b[0m\u001b[0m\n\u001b[1;32m    306\u001b[0m         \u001b[0;32mwhile\u001b[0m \u001b[0;32mTrue\u001b[0m\u001b[0;34m:\u001b[0m\u001b[0;34m\u001b[0m\u001b[0;34m\u001b[0m\u001b[0m\n\u001b[0;32m--> 307\u001b[0;31m             \u001b[0mversion\u001b[0m\u001b[0;34m,\u001b[0m \u001b[0mstatus\u001b[0m\u001b[0;34m,\u001b[0m \u001b[0mreason\u001b[0m \u001b[0;34m=\u001b[0m \u001b[0mself\u001b[0m\u001b[0;34m.\u001b[0m\u001b[0m_read_status\u001b[0m\u001b[0;34m(\u001b[0m\u001b[0;34m)\u001b[0m\u001b[0;34m\u001b[0m\u001b[0;34m\u001b[0m\u001b[0m\n\u001b[0m\u001b[1;32m    308\u001b[0m             \u001b[0;32mif\u001b[0m \u001b[0mstatus\u001b[0m \u001b[0;34m!=\u001b[0m \u001b[0mCONTINUE\u001b[0m\u001b[0;34m:\u001b[0m\u001b[0;34m\u001b[0m\u001b[0;34m\u001b[0m\u001b[0m\n\u001b[1;32m    309\u001b[0m                 \u001b[0;32mbreak\u001b[0m\u001b[0;34m\u001b[0m\u001b[0;34m\u001b[0m\u001b[0m\n",
            "\u001b[0;32m/usr/lib/python3.6/http/client.py\u001b[0m in \u001b[0;36m_read_status\u001b[0;34m(self)\u001b[0m\n\u001b[1;32m    266\u001b[0m \u001b[0;34m\u001b[0m\u001b[0m\n\u001b[1;32m    267\u001b[0m     \u001b[0;32mdef\u001b[0m \u001b[0m_read_status\u001b[0m\u001b[0;34m(\u001b[0m\u001b[0mself\u001b[0m\u001b[0;34m)\u001b[0m\u001b[0;34m:\u001b[0m\u001b[0;34m\u001b[0m\u001b[0;34m\u001b[0m\u001b[0m\n\u001b[0;32m--> 268\u001b[0;31m         \u001b[0mline\u001b[0m \u001b[0;34m=\u001b[0m \u001b[0mstr\u001b[0m\u001b[0;34m(\u001b[0m\u001b[0mself\u001b[0m\u001b[0;34m.\u001b[0m\u001b[0mfp\u001b[0m\u001b[0;34m.\u001b[0m\u001b[0mreadline\u001b[0m\u001b[0;34m(\u001b[0m\u001b[0m_MAXLINE\u001b[0m \u001b[0;34m+\u001b[0m \u001b[0;36m1\u001b[0m\u001b[0;34m)\u001b[0m\u001b[0;34m,\u001b[0m \u001b[0;34m\"iso-8859-1\"\u001b[0m\u001b[0;34m)\u001b[0m\u001b[0;34m\u001b[0m\u001b[0;34m\u001b[0m\u001b[0m\n\u001b[0m\u001b[1;32m    269\u001b[0m         \u001b[0;32mif\u001b[0m \u001b[0mlen\u001b[0m\u001b[0;34m(\u001b[0m\u001b[0mline\u001b[0m\u001b[0;34m)\u001b[0m \u001b[0;34m>\u001b[0m \u001b[0m_MAXLINE\u001b[0m\u001b[0;34m:\u001b[0m\u001b[0;34m\u001b[0m\u001b[0;34m\u001b[0m\u001b[0m\n\u001b[1;32m    270\u001b[0m             \u001b[0;32mraise\u001b[0m \u001b[0mLineTooLong\u001b[0m\u001b[0;34m(\u001b[0m\u001b[0;34m\"status line\"\u001b[0m\u001b[0;34m)\u001b[0m\u001b[0;34m\u001b[0m\u001b[0;34m\u001b[0m\u001b[0m\n",
            "\u001b[0;32m/usr/lib/python3.6/socket.py\u001b[0m in \u001b[0;36mreadinto\u001b[0;34m(self, b)\u001b[0m\n\u001b[1;32m    584\u001b[0m         \u001b[0;32mwhile\u001b[0m \u001b[0;32mTrue\u001b[0m\u001b[0;34m:\u001b[0m\u001b[0;34m\u001b[0m\u001b[0;34m\u001b[0m\u001b[0m\n\u001b[1;32m    585\u001b[0m             \u001b[0;32mtry\u001b[0m\u001b[0;34m:\u001b[0m\u001b[0;34m\u001b[0m\u001b[0;34m\u001b[0m\u001b[0m\n\u001b[0;32m--> 586\u001b[0;31m                 \u001b[0;32mreturn\u001b[0m \u001b[0mself\u001b[0m\u001b[0;34m.\u001b[0m\u001b[0m_sock\u001b[0m\u001b[0;34m.\u001b[0m\u001b[0mrecv_into\u001b[0m\u001b[0;34m(\u001b[0m\u001b[0mb\u001b[0m\u001b[0;34m)\u001b[0m\u001b[0;34m\u001b[0m\u001b[0;34m\u001b[0m\u001b[0m\n\u001b[0m\u001b[1;32m    587\u001b[0m             \u001b[0;32mexcept\u001b[0m \u001b[0mtimeout\u001b[0m\u001b[0;34m:\u001b[0m\u001b[0;34m\u001b[0m\u001b[0;34m\u001b[0m\u001b[0m\n\u001b[1;32m    588\u001b[0m                 \u001b[0mself\u001b[0m\u001b[0;34m.\u001b[0m\u001b[0m_timeout_occurred\u001b[0m \u001b[0;34m=\u001b[0m \u001b[0;32mTrue\u001b[0m\u001b[0;34m\u001b[0m\u001b[0;34m\u001b[0m\u001b[0m\n",
            "\u001b[0;32m/usr/lib/python3.6/ssl.py\u001b[0m in \u001b[0;36mrecv_into\u001b[0;34m(self, buffer, nbytes, flags)\u001b[0m\n\u001b[1;32m   1010\u001b[0m                   \u001b[0;34m\"non-zero flags not allowed in calls to recv_into() on %s\"\u001b[0m \u001b[0;34m%\u001b[0m\u001b[0;34m\u001b[0m\u001b[0;34m\u001b[0m\u001b[0m\n\u001b[1;32m   1011\u001b[0m                   self.__class__)\n\u001b[0;32m-> 1012\u001b[0;31m             \u001b[0;32mreturn\u001b[0m \u001b[0mself\u001b[0m\u001b[0;34m.\u001b[0m\u001b[0mread\u001b[0m\u001b[0;34m(\u001b[0m\u001b[0mnbytes\u001b[0m\u001b[0;34m,\u001b[0m \u001b[0mbuffer\u001b[0m\u001b[0;34m)\u001b[0m\u001b[0;34m\u001b[0m\u001b[0;34m\u001b[0m\u001b[0m\n\u001b[0m\u001b[1;32m   1013\u001b[0m         \u001b[0;32melse\u001b[0m\u001b[0;34m:\u001b[0m\u001b[0;34m\u001b[0m\u001b[0;34m\u001b[0m\u001b[0m\n\u001b[1;32m   1014\u001b[0m             \u001b[0;32mreturn\u001b[0m \u001b[0msocket\u001b[0m\u001b[0;34m.\u001b[0m\u001b[0mrecv_into\u001b[0m\u001b[0;34m(\u001b[0m\u001b[0mself\u001b[0m\u001b[0;34m,\u001b[0m \u001b[0mbuffer\u001b[0m\u001b[0;34m,\u001b[0m \u001b[0mnbytes\u001b[0m\u001b[0;34m,\u001b[0m \u001b[0mflags\u001b[0m\u001b[0;34m)\u001b[0m\u001b[0;34m\u001b[0m\u001b[0;34m\u001b[0m\u001b[0m\n",
            "\u001b[0;32m/usr/lib/python3.6/ssl.py\u001b[0m in \u001b[0;36mread\u001b[0;34m(self, len, buffer)\u001b[0m\n\u001b[1;32m    872\u001b[0m             \u001b[0;32mraise\u001b[0m \u001b[0mValueError\u001b[0m\u001b[0;34m(\u001b[0m\u001b[0;34m\"Read on closed or unwrapped SSL socket.\"\u001b[0m\u001b[0;34m)\u001b[0m\u001b[0;34m\u001b[0m\u001b[0;34m\u001b[0m\u001b[0m\n\u001b[1;32m    873\u001b[0m         \u001b[0;32mtry\u001b[0m\u001b[0;34m:\u001b[0m\u001b[0;34m\u001b[0m\u001b[0;34m\u001b[0m\u001b[0m\n\u001b[0;32m--> 874\u001b[0;31m             \u001b[0;32mreturn\u001b[0m \u001b[0mself\u001b[0m\u001b[0;34m.\u001b[0m\u001b[0m_sslobj\u001b[0m\u001b[0;34m.\u001b[0m\u001b[0mread\u001b[0m\u001b[0;34m(\u001b[0m\u001b[0mlen\u001b[0m\u001b[0;34m,\u001b[0m \u001b[0mbuffer\u001b[0m\u001b[0;34m)\u001b[0m\u001b[0;34m\u001b[0m\u001b[0;34m\u001b[0m\u001b[0m\n\u001b[0m\u001b[1;32m    875\u001b[0m         \u001b[0;32mexcept\u001b[0m \u001b[0mSSLError\u001b[0m \u001b[0;32mas\u001b[0m \u001b[0mx\u001b[0m\u001b[0;34m:\u001b[0m\u001b[0;34m\u001b[0m\u001b[0;34m\u001b[0m\u001b[0m\n\u001b[1;32m    876\u001b[0m             \u001b[0;32mif\u001b[0m \u001b[0mx\u001b[0m\u001b[0;34m.\u001b[0m\u001b[0margs\u001b[0m\u001b[0;34m[\u001b[0m\u001b[0;36m0\u001b[0m\u001b[0;34m]\u001b[0m \u001b[0;34m==\u001b[0m \u001b[0mSSL_ERROR_EOF\u001b[0m \u001b[0;32mand\u001b[0m \u001b[0mself\u001b[0m\u001b[0;34m.\u001b[0m\u001b[0msuppress_ragged_eofs\u001b[0m\u001b[0;34m:\u001b[0m\u001b[0;34m\u001b[0m\u001b[0;34m\u001b[0m\u001b[0m\n",
            "\u001b[0;32m/usr/lib/python3.6/ssl.py\u001b[0m in \u001b[0;36mread\u001b[0;34m(self, len, buffer)\u001b[0m\n\u001b[1;32m    629\u001b[0m         \"\"\"\n\u001b[1;32m    630\u001b[0m         \u001b[0;32mif\u001b[0m \u001b[0mbuffer\u001b[0m \u001b[0;32mis\u001b[0m \u001b[0;32mnot\u001b[0m \u001b[0;32mNone\u001b[0m\u001b[0;34m:\u001b[0m\u001b[0;34m\u001b[0m\u001b[0;34m\u001b[0m\u001b[0m\n\u001b[0;32m--> 631\u001b[0;31m             \u001b[0mv\u001b[0m \u001b[0;34m=\u001b[0m \u001b[0mself\u001b[0m\u001b[0;34m.\u001b[0m\u001b[0m_sslobj\u001b[0m\u001b[0;34m.\u001b[0m\u001b[0mread\u001b[0m\u001b[0;34m(\u001b[0m\u001b[0mlen\u001b[0m\u001b[0;34m,\u001b[0m \u001b[0mbuffer\u001b[0m\u001b[0;34m)\u001b[0m\u001b[0;34m\u001b[0m\u001b[0;34m\u001b[0m\u001b[0m\n\u001b[0m\u001b[1;32m    632\u001b[0m         \u001b[0;32melse\u001b[0m\u001b[0;34m:\u001b[0m\u001b[0;34m\u001b[0m\u001b[0;34m\u001b[0m\u001b[0m\n\u001b[1;32m    633\u001b[0m             \u001b[0mv\u001b[0m \u001b[0;34m=\u001b[0m \u001b[0mself\u001b[0m\u001b[0;34m.\u001b[0m\u001b[0m_sslobj\u001b[0m\u001b[0;34m.\u001b[0m\u001b[0mread\u001b[0m\u001b[0;34m(\u001b[0m\u001b[0mlen\u001b[0m\u001b[0;34m)\u001b[0m\u001b[0;34m\u001b[0m\u001b[0;34m\u001b[0m\u001b[0m\n",
            "\u001b[0;31mKeyboardInterrupt\u001b[0m: "
          ]
        }
      ]
    },
    {
      "cell_type": "markdown",
      "metadata": {
        "id": "LzTlyx-oBga9"
      },
      "source": [
        "### Loading the repository data"
      ]
    },
    {
      "cell_type": "code",
      "metadata": {
        "id": "aEukb7kVHGZe"
      },
      "source": [
        "import pandas as pd\n",
        "df=pd.read_json(\"/content/datainjson800repos2.txt\",lines=True)\n",
        "df"
      ],
      "execution_count": null,
      "outputs": []
    },
    {
      "cell_type": "code",
      "metadata": {
        "id": "ltSZJDikBW4M"
      },
      "source": [
        "repo_names=[]\n",
        "for i in range(100):\n",
        "  repo_names.append(df[\"full_name\"].iloc[i])\n",
        "repo_names"
      ],
      "execution_count": null,
      "outputs": []
    },
    {
      "cell_type": "code",
      "metadata": {
        "id": "cAA1us1wkeKC"
      },
      "source": [
        "import time\n",
        "repositories=g.search_repositories(query=\"language:python\")"
      ],
      "execution_count": null,
      "outputs": []
    },
    {
      "cell_type": "code",
      "metadata": {
        "id": "Kb8hhdQwKX2J"
      },
      "source": [
        "for repo in repositories:\n",
        "  print(repo)"
      ],
      "execution_count": null,
      "outputs": []
    },
    {
      "cell_type": "code",
      "metadata": {
        "id": "cchanPyOLE6g"
      },
      "source": [
        "print(repositories[2].raw_data)"
      ],
      "execution_count": null,
      "outputs": []
    },
    {
      "cell_type": "markdown",
      "metadata": {
        "id": "OMrboVOMBv8I"
      },
      "source": [
        "## Data Collector Method for collecting repository data"
      ]
    },
    {
      "cell_type": "code",
      "metadata": {
        "id": "XIAUTyPVp2y9"
      },
      "source": [
        "import datetime\n",
        "def datacollecter1(repo):\n",
        "  #repo=g.get_repo(query)\n",
        "  contributors_data=[]\n",
        "  print(1)\n",
        "  contributors=repo.get_contributors(anon=0)\n",
        "  for contributor in contributors:\n",
        "    contributors_data.append(contributor.login)\n",
        "  \n",
        "  \n",
        "  starcount=repo.stargazers_count\n",
        "  forkcount=repo.forks_count\n",
        "\n",
        "  print(2)\n",
        "  last_year_commits=repo.get_stats_commit_activity()\n",
        "  last_year_commits_l=[]\n",
        "  for commit in last_year_commits:\n",
        "    last_year_commits_l.append(commit.raw_data)\n",
        "  topics=repo.get_topics()\n",
        "  pulls=repo.get_pulls(\"all\")\n",
        "  count=0\n",
        "  temp_pulls=[]\n",
        "  print(3)\n",
        "  for pull in pulls:\n",
        "    temp_pulls.append({\"Number\":pulls[count].number,\"State\":pulls[count].state,\"Opened_by\":pulls[count].user.login,\"Merged\":pulls[count].merged,\"Merged_by\":pulls[count].merged_by,\"Merged_at\":pulls[count].merged_at})\n",
        "    count=count+1\n",
        "  print(4)\n",
        "  participation_all=repo.get_stats_participation().all\n",
        "  participation_owner=repo.get_stats_participation().owner\n",
        "  \n",
        "  last_updated=repo.updated_at\n",
        "  open_issues=repo.open_issues\n",
        "\n",
        "\n",
        "  issues=repositories[2].get_issues(state=\"all\",since=datetime.datetime(2020, 7, 1))\n",
        "  #issues[0].raw_data\n",
        "  count=0\n",
        "  issue_list=[]\n",
        "  for issue in issues:\n",
        "    issue_list.append({\"number\":issue.number,\"created_at\":issue.created_at,\"state\":issue.state,\"closed_at\":issue.closed_at,\"closed_by\":issue.closed_by,\"opened_by\":issue.user.login})\n",
        "  ##Note this is grouped by week and .total .days and .week can be used its grouped by week\n",
        "  print(5)\n",
        "  mydfl=[datetime.datetime.now(),repo.full_name,contributors_data,starcount,last_year_commits_l,topics,temp_pulls,participation_all,participation_owner,last_updated,open_issues,issue_list]\n",
        "  return mydfl"
      ],
      "execution_count": null,
      "outputs": []
    },
    {
      "cell_type": "code",
      "metadata": {
        "id": "Jpyztgs9todw"
      },
      "source": [
        "import pandas as pd\n"
      ],
      "execution_count": null,
      "outputs": []
    },
    {
      "cell_type": "code",
      "metadata": {
        "id": "hJ6Yqj42t0-W"
      },
      "source": [
        "mydf=pd.DataFrame(columns=[\"TimeStamp\",\"Repo Name\",\"Contributors_data\",\"starcount\",\"Commit History\",\"topics\",\"Pull history\",\"Participation All\",\"Participation Owner\",\"Last updated\",\"Open Issues\",\"Issue History\"])\n",
        "\n"
      ],
      "execution_count": null,
      "outputs": []
    },
    {
      "cell_type": "code",
      "metadata": {
        "id": "Y8XEk1hCzubY"
      },
      "source": [
        "count = 0\n",
        "for i in range(10):\n",
        "  mydfl=datacollecter1(repositories[i])\n",
        "  a_series = pd.Series(mydfl, index = mydf.columns)\n",
        "  mydf = mydf.append(a_series, ignore_index=True)  \n",
        "mydf"
      ],
      "execution_count": null,
      "outputs": []
    },
    {
      "cell_type": "code",
      "metadata": {
        "id": "9L5n4nfHCwHA"
      },
      "source": [
        "import datetime\n",
        "def datacollecter2(repo):\n",
        "  #repo=g.get_repo(query)\n",
        "  contributors_data=[]\n",
        "  \n",
        "  contributors=repo.get_contributors(anon=0)\n",
        "  for contributor in contributors:\n",
        "    contributors_data.append(contributor.login)\n",
        "  \n",
        "  \n",
        "  starcount=repo.stargazers_count\n",
        "  forkcount=repo.forks_count\n",
        "\n",
        "  \n",
        "  topics=repo.get_topics()\n",
        "  participation_all=repo.get_stats_participation().all\n",
        "  participation_owner=repo.get_stats_participation().owner\n",
        "  \n",
        "  last_updated=repo.updated_at\n",
        "  open_issues=repo.open_issues\n",
        "  owner=repo.owner\n",
        "  organization = repo.organization\n",
        "  language=repo.language\n",
        "  created_at=repo.created_at\n",
        "  #issues[0].raw_data\n",
        "  count=0\n",
        "  ##Note this is grouped by week and .total .days and .week can be used its grouped by week\n",
        "  \n",
        "  mydfl=[datetime.datetime.now(),repo.full_name,contributors_data,starcount,topics,participation_all,participation_owner,last_updated,open_issues,organization,language,owner,created_at]\n",
        "  return mydfl"
      ],
      "execution_count": null,
      "outputs": []
    },
    {
      "cell_type": "code",
      "metadata": {
        "id": "jdzdq0hDDFBo",
        "colab": {
          "base_uri": "https://localhost:8080/",
          "height": 1000
        },
        "outputId": "da9c7cd7-7f55-4f9b-d6f1-e2c529c8cad2"
      },
      "source": [
        "mydf=pd.DataFrame(columns=[\"TimeStamp\",\"Repo Name\",\"Contributors_data\",\"starcount\",\"topics\",\"Participation All\",\"Participation Owner\",\"Last updated\",\"Open Issues\",\"Organization\",\"Language\",\"Owner\",\"created at\"])\n",
        "print(g.get_rate_limit())\n",
        "count=0\n",
        "for i in range(len(biglist)):\n",
        "  mydfl = datacollecter2(biglist[i])\n",
        "  a_series = pd.Series(mydfl, index = mydf.columns)\n",
        "  mydf = mydf.append(a_series, ignore_index=True) \n",
        "  count=count+1\n",
        "  print(count) \n",
        "print(g.get_rate_limit())\n",
        "mydf"
      ],
      "execution_count": null,
      "outputs": [
        {
          "output_type": "stream",
          "text": [
            "RateLimit(core=Rate(reset=2020-10-15 19:07:23, remaining=4516, limit=5000))\n",
            "1\n",
            "2\n",
            "3\n",
            "4\n",
            "5\n",
            "6\n",
            "7\n",
            "8\n",
            "9\n",
            "10\n",
            "11\n",
            "12\n",
            "13\n",
            "14\n",
            "15\n",
            "16\n",
            "17\n",
            "18\n",
            "19\n",
            "20\n",
            "21\n",
            "RateLimit(core=Rate(reset=2020-10-15 19:07:23, remaining=4402, limit=5000))\n"
          ],
          "name": "stdout"
        },
        {
          "output_type": "execute_result",
          "data": {
            "text/html": [
              "<div>\n",
              "<style scoped>\n",
              "    .dataframe tbody tr th:only-of-type {\n",
              "        vertical-align: middle;\n",
              "    }\n",
              "\n",
              "    .dataframe tbody tr th {\n",
              "        vertical-align: top;\n",
              "    }\n",
              "\n",
              "    .dataframe thead th {\n",
              "        text-align: right;\n",
              "    }\n",
              "</style>\n",
              "<table border=\"1\" class=\"dataframe\">\n",
              "  <thead>\n",
              "    <tr style=\"text-align: right;\">\n",
              "      <th></th>\n",
              "      <th>TimeStamp</th>\n",
              "      <th>Repo Name</th>\n",
              "      <th>Contributors_data</th>\n",
              "      <th>starcount</th>\n",
              "      <th>topics</th>\n",
              "      <th>Participation All</th>\n",
              "      <th>Participation Owner</th>\n",
              "      <th>Last updated</th>\n",
              "      <th>Open Issues</th>\n",
              "      <th>Organization</th>\n",
              "      <th>Language</th>\n",
              "      <th>Owner</th>\n",
              "      <th>created at</th>\n",
              "    </tr>\n",
              "  </thead>\n",
              "  <tbody>\n",
              "    <tr>\n",
              "      <th>0</th>\n",
              "      <td>2020-10-15 18:19:01.892650</td>\n",
              "      <td>jashkenas/backbone</td>\n",
              "      <td>[jashkenas, braddunbar, akre54, jridgewell, ca...</td>\n",
              "      <td>27680</td>\n",
              "      <td>[]</td>\n",
              "      <td>[0, 0, 0, 0, 0, 0, 0, 0, 1, 0, 0, 0, 0, 0, 0, ...</td>\n",
              "      <td>[0, 0, 0, 0, 0, 0, 0, 0, 1, 0, 0, 0, 0, 0, 0, ...</td>\n",
              "      <td>2020-10-15 13:37:06</td>\n",
              "      <td>95</td>\n",
              "      <td>None</td>\n",
              "      <td>JavaScript</td>\n",
              "      <td>NamedUser(login=\"jashkenas\")</td>\n",
              "      <td>2010-09-30 19:41:28</td>\n",
              "    </tr>\n",
              "    <tr>\n",
              "      <th>1</th>\n",
              "      <td>2020-10-15 18:19:03.197253</td>\n",
              "      <td>wireservice/agate-lookup</td>\n",
              "      <td>[onyxfish, jpmckinney, thejefflarson, pmlandwehr]</td>\n",
              "      <td>2</td>\n",
              "      <td>[]</td>\n",
              "      <td>[0, 0, 0, 0, 0, 0, 0, 0, 0, 0, 0, 0, 0, 0, 0, ...</td>\n",
              "      <td>[0, 0, 0, 0, 0, 0, 0, 0, 0, 0, 0, 0, 0, 0, 0, ...</td>\n",
              "      <td>2020-08-21 03:24:52</td>\n",
              "      <td>0</td>\n",
              "      <td>Organization(login=\"wireservice\")</td>\n",
              "      <td>Python</td>\n",
              "      <td>NamedUser(login=\"wireservice\")</td>\n",
              "      <td>2016-02-06 05:10:10</td>\n",
              "    </tr>\n",
              "    <tr>\n",
              "      <th>2</th>\n",
              "      <td>2020-10-15 18:19:04.398255</td>\n",
              "      <td>dangra/anemone-spider</td>\n",
              "      <td>[dangra, vshlapakov]</td>\n",
              "      <td>0</td>\n",
              "      <td>[]</td>\n",
              "      <td>[0, 0, 0, 0, 0, 0, 0, 0, 0, 0, 0, 0, 0, 0, 0, ...</td>\n",
              "      <td>[0, 0, 0, 0, 0, 0, 0, 0, 0, 0, 0, 0, 0, 0, 0, ...</td>\n",
              "      <td>2016-09-16 15:27:52</td>\n",
              "      <td>0</td>\n",
              "      <td>None</td>\n",
              "      <td>Ruby</td>\n",
              "      <td>NamedUser(login=\"dangra\")</td>\n",
              "      <td>2014-03-11 12:34:19</td>\n",
              "    </tr>\n",
              "    <tr>\n",
              "      <th>3</th>\n",
              "      <td>2020-10-15 18:19:06.171080</td>\n",
              "      <td>acornjs/acorn-jsx</td>\n",
              "      <td>[marijnh, RReverser, aparajita, max-schaefer, ...</td>\n",
              "      <td>480</td>\n",
              "      <td>[]</td>\n",
              "      <td>[0, 0, 0, 0, 0, 0, 0, 0, 0, 0, 0, 0, 0, 0, 0, ...</td>\n",
              "      <td>[0, 0, 0, 0, 0, 0, 0, 0, 0, 0, 0, 0, 0, 0, 0, ...</td>\n",
              "      <td>2020-10-08 05:42:48</td>\n",
              "      <td>11</td>\n",
              "      <td>Organization(login=\"acornjs\")</td>\n",
              "      <td>JavaScript</td>\n",
              "      <td>NamedUser(login=\"acornjs\")</td>\n",
              "      <td>2014-07-23 23:53:35</td>\n",
              "    </tr>\n",
              "    <tr>\n",
              "      <th>4</th>\n",
              "      <td>2020-10-15 18:19:07.407232</td>\n",
              "      <td>railscasts/221-subdomains-in-rails-3</td>\n",
              "      <td>[gilesbowkett]</td>\n",
              "      <td>2</td>\n",
              "      <td>[]</td>\n",
              "      <td>[0, 0, 0, 0, 0, 0, 0, 0, 0, 0, 0, 0, 0, 0, 0, ...</td>\n",
              "      <td>[0, 0, 0, 0, 0, 0, 0, 0, 0, 0, 0, 0, 0, 0, 0, ...</td>\n",
              "      <td>2014-04-17 01:52:44</td>\n",
              "      <td>1</td>\n",
              "      <td>Organization(login=\"railscasts\")</td>\n",
              "      <td>Ruby</td>\n",
              "      <td>NamedUser(login=\"railscasts\")</td>\n",
              "      <td>2011-07-29 22:01:48</td>\n",
              "    </tr>\n",
              "    <tr>\n",
              "      <th>5</th>\n",
              "      <td>2020-10-15 18:19:08.532113</td>\n",
              "      <td>marijnh/acl-zmq</td>\n",
              "      <td>[marijnh]</td>\n",
              "      <td>1</td>\n",
              "      <td>[]</td>\n",
              "      <td>[0, 0, 0, 0, 0, 0, 0, 0, 0, 0, 0, 0, 0, 0, 0, ...</td>\n",
              "      <td>[0, 0, 0, 0, 0, 0, 0, 0, 0, 0, 0, 0, 0, 0, 0, ...</td>\n",
              "      <td>2017-09-11 15:19:20</td>\n",
              "      <td>0</td>\n",
              "      <td>None</td>\n",
              "      <td>Common Lisp</td>\n",
              "      <td>NamedUser(login=\"marijnh\")</td>\n",
              "      <td>2010-11-02 10:58:41</td>\n",
              "    </tr>\n",
              "    <tr>\n",
              "      <th>6</th>\n",
              "      <td>2020-10-15 18:19:09.774243</td>\n",
              "      <td>conda-forge/agate-feedstock</td>\n",
              "      <td>[pmlandwehr, beckermr, conda-forge-admin]</td>\n",
              "      <td>1</td>\n",
              "      <td>[]</td>\n",
              "      <td>[0, 0, 0, 0, 0, 0, 0, 0, 0, 0, 0, 0, 0, 0, 0, ...</td>\n",
              "      <td>[0, 0, 0, 0, 0, 0, 0, 0, 0, 0, 0, 0, 0, 0, 0, ...</td>\n",
              "      <td>2020-08-07 18:10:57</td>\n",
              "      <td>1</td>\n",
              "      <td>Organization(login=\"conda-forge\")</td>\n",
              "      <td>Shell</td>\n",
              "      <td>NamedUser(login=\"conda-forge\")</td>\n",
              "      <td>2017-02-05 20:16:09</td>\n",
              "    </tr>\n",
              "    <tr>\n",
              "      <th>7</th>\n",
              "      <td>2020-10-15 18:19:11.655416</td>\n",
              "      <td>elastic/apm-agent-nodejs</td>\n",
              "      <td>[watson, Qard, mattrobenolt, v1v, bmorelli25, ...</td>\n",
              "      <td>442</td>\n",
              "      <td>[apm, performance-monitoring, error-monitoring...</td>\n",
              "      <td>[1, 7, 7, 1, 14, 2, 3, 3, 4, 0, 0, 3, 2, 0, 0,...</td>\n",
              "      <td>[0, 0, 0, 0, 0, 0, 0, 0, 0, 0, 0, 0, 0, 0, 0, ...</td>\n",
              "      <td>2020-10-14 17:56:56</td>\n",
              "      <td>183</td>\n",
              "      <td>Organization(login=\"elastic\")</td>\n",
              "      <td>JavaScript</td>\n",
              "      <td>NamedUser(login=\"elastic\")</td>\n",
              "      <td>2017-08-08 09:07:27</td>\n",
              "    </tr>\n",
              "    <tr>\n",
              "      <th>8</th>\n",
              "      <td>2020-10-15 18:19:12.872530</td>\n",
              "      <td>conda-forge/addict-feedstock</td>\n",
              "      <td>[Ohjeah, ocefpaf, regro-cf-autotick-bot, conda...</td>\n",
              "      <td>0</td>\n",
              "      <td>[]</td>\n",
              "      <td>[0, 0, 4, 0, 0, 0, 0, 0, 0, 0, 0, 0, 0, 0, 0, ...</td>\n",
              "      <td>[0, 0, 0, 0, 0, 0, 0, 0, 0, 0, 0, 0, 0, 0, 0, ...</td>\n",
              "      <td>2020-10-11 11:21:11</td>\n",
              "      <td>0</td>\n",
              "      <td>Organization(login=\"conda-forge\")</td>\n",
              "      <td>None</td>\n",
              "      <td>NamedUser(login=\"conda-forge\")</td>\n",
              "      <td>2016-07-21 04:44:06</td>\n",
              "    </tr>\n",
              "    <tr>\n",
              "      <th>9</th>\n",
              "      <td>2020-10-15 18:19:14.040358</td>\n",
              "      <td>Ohjeah/abrupt-sindy</td>\n",
              "      <td>[Ohjeah]</td>\n",
              "      <td>0</td>\n",
              "      <td>[]</td>\n",
              "      <td>[0, 0, 0, 0, 1, 0, 0, 0, 0, 0, 0, 0, 0, 0, 0, ...</td>\n",
              "      <td>[0, 0, 0, 0, 1, 0, 0, 0, 0, 0, 0, 0, 0, 0, 0, ...</td>\n",
              "      <td>2020-04-23 14:27:16</td>\n",
              "      <td>0</td>\n",
              "      <td>None</td>\n",
              "      <td>Jupyter Notebook</td>\n",
              "      <td>NamedUser(login=\"Ohjeah\")</td>\n",
              "      <td>2019-11-18 08:37:32</td>\n",
              "    </tr>\n",
              "    <tr>\n",
              "      <th>10</th>\n",
              "      <td>2020-10-15 18:19:15.159602</td>\n",
              "      <td>invasionofsmallcubes/3gScheduler</td>\n",
              "      <td>[invasionofsmallcubes, itbhp, cotsog]</td>\n",
              "      <td>0</td>\n",
              "      <td>[schedule, java, android, 3g-connection, kotli...</td>\n",
              "      <td>[0, 0, 0, 0, 0, 0, 0, 0, 0, 0, 0, 0, 0, 0, 0, ...</td>\n",
              "      <td>[0, 0, 0, 0, 0, 0, 0, 0, 0, 0, 0, 0, 0, 0, 0, ...</td>\n",
              "      <td>2017-12-02 11:55:25</td>\n",
              "      <td>4</td>\n",
              "      <td>None</td>\n",
              "      <td>Java</td>\n",
              "      <td>NamedUser(login=\"invasionofsmallcubes\")</td>\n",
              "      <td>2014-04-26 19:50:49</td>\n",
              "    </tr>\n",
              "    <tr>\n",
              "      <th>11</th>\n",
              "      <td>2020-10-15 18:19:17.619563</td>\n",
              "      <td>acornjs/acorn</td>\n",
              "      <td>[marijnh, RReverser, adrianheine, mysticatea, ...</td>\n",
              "      <td>6537</td>\n",
              "      <td>[]</td>\n",
              "      <td>[0, 0, 0, 0, 0, 0, 1, 4, 0, 1, 1, 1, 1, 1, 0, ...</td>\n",
              "      <td>[0, 0, 0, 0, 0, 0, 0, 0, 0, 0, 0, 0, 0, 0, 0, ...</td>\n",
              "      <td>2020-10-15 14:40:33</td>\n",
              "      <td>25</td>\n",
              "      <td>Organization(login=\"acornjs\")</td>\n",
              "      <td>JavaScript</td>\n",
              "      <td>NamedUser(login=\"acornjs\")</td>\n",
              "      <td>2012-09-24 10:05:00</td>\n",
              "    </tr>\n",
              "    <tr>\n",
              "      <th>12</th>\n",
              "      <td>2020-10-15 18:19:18.777011</td>\n",
              "      <td>iros/adayofmbta-js</td>\n",
              "      <td>[]</td>\n",
              "      <td>4</td>\n",
              "      <td>[]</td>\n",
              "      <td>[0, 0, 0, 0, 0, 0, 0, 0, 0, 0, 0, 0, 0, 0, 0, ...</td>\n",
              "      <td>[0, 0, 0, 0, 0, 0, 0, 0, 0, 0, 0, 0, 0, 0, 0, ...</td>\n",
              "      <td>2014-01-30 01:30:06</td>\n",
              "      <td>0</td>\n",
              "      <td>None</td>\n",
              "      <td>JavaScript</td>\n",
              "      <td>NamedUser(login=\"iros\")</td>\n",
              "      <td>2009-11-14 01:46:44</td>\n",
              "    </tr>\n",
              "    <tr>\n",
              "      <th>13</th>\n",
              "      <td>2020-10-15 18:19:19.985652</td>\n",
              "      <td>codesuki/add-node-modules-path</td>\n",
              "      <td>[codesuki, benprew, cowboyd, critocrito, tejas...</td>\n",
              "      <td>96</td>\n",
              "      <td>[emacs, node, path, node-modules, exec-path]</td>\n",
              "      <td>[0, 0, 0, 0, 0, 0, 0, 0, 0, 0, 0, 0, 0, 0, 0, ...</td>\n",
              "      <td>[0, 0, 0, 0, 0, 0, 0, 0, 0, 0, 0, 0, 0, 0, 0, ...</td>\n",
              "      <td>2020-08-24 06:00:11</td>\n",
              "      <td>7</td>\n",
              "      <td>None</td>\n",
              "      <td>Emacs Lisp</td>\n",
              "      <td>NamedUser(login=\"codesuki\")</td>\n",
              "      <td>2016-09-06 09:18:06</td>\n",
              "    </tr>\n",
              "    <tr>\n",
              "      <th>14</th>\n",
              "      <td>2020-10-15 18:19:21.275232</td>\n",
              "      <td>fabien-d/alertify.js</td>\n",
              "      <td>[fabien-d, pzl, toin0u, stuartkeith, quasipick...</td>\n",
              "      <td>4335</td>\n",
              "      <td>[]</td>\n",
              "      <td>[0, 0, 0, 0, 0, 0, 0, 0, 0, 0, 0, 0, 0, 0, 0, ...</td>\n",
              "      <td>[0, 0, 0, 0, 0, 0, 0, 0, 0, 0, 0, 0, 0, 0, 0, ...</td>\n",
              "      <td>2020-10-01 21:10:23</td>\n",
              "      <td>68</td>\n",
              "      <td>None</td>\n",
              "      <td>JavaScript</td>\n",
              "      <td>NamedUser(login=\"fabien-d\")</td>\n",
              "      <td>2012-06-09 02:50:10</td>\n",
              "    </tr>\n",
              "    <tr>\n",
              "      <th>15</th>\n",
              "      <td>2020-10-15 18:19:24.272020</td>\n",
              "      <td>pi-hole/AdminLTE</td>\n",
              "      <td>[DL6ER, Mcat12, almasaeed2010, PromoFaux, Xhmi...</td>\n",
              "      <td>972</td>\n",
              "      <td>[pi-hole, dashboard, admin, hacktoberfest]</td>\n",
              "      <td>[10, 6, 4, 5, 5, 16, 6, 38, 59, 31, 19, 16, 3,...</td>\n",
              "      <td>[0, 0, 0, 0, 0, 0, 0, 0, 0, 0, 0, 0, 0, 0, 0, ...</td>\n",
              "      <td>2020-10-15 13:11:10</td>\n",
              "      <td>155</td>\n",
              "      <td>Organization(login=\"pi-hole\")</td>\n",
              "      <td>PHP</td>\n",
              "      <td>NamedUser(login=\"pi-hole\")</td>\n",
              "      <td>2015-07-25 18:45:30</td>\n",
              "    </tr>\n",
              "    <tr>\n",
              "      <th>16</th>\n",
              "      <td>2020-10-15 18:19:25.991380</td>\n",
              "      <td>vigneshshanmugam/agent-pool</td>\n",
              "      <td>[vigneshshanmugam, addityasingh]</td>\n",
              "      <td>8</td>\n",
              "      <td>[agent, nodejs, keepalive, agentpool, dns-traf...</td>\n",
              "      <td>[0, 0, 0, 0, 0, 0, 0, 0, 0, 0, 0, 0, 0, 0, 0, ...</td>\n",
              "      <td>[0, 0, 0, 0, 0, 0, 0, 0, 0, 0, 0, 0, 0, 0, 0, ...</td>\n",
              "      <td>2019-12-29 15:38:27</td>\n",
              "      <td>0</td>\n",
              "      <td>None</td>\n",
              "      <td>JavaScript</td>\n",
              "      <td>NamedUser(login=\"vigneshshanmugam\")</td>\n",
              "      <td>2018-09-18 19:44:17</td>\n",
              "    </tr>\n",
              "    <tr>\n",
              "      <th>17</th>\n",
              "      <td>2020-10-15 18:19:27.147422</td>\n",
              "      <td>wibjer/-2DV407</td>\n",
              "      <td>[wibjer, cu222ai, EdinSkeja, emillindau, hanss...</td>\n",
              "      <td>0</td>\n",
              "      <td>[]</td>\n",
              "      <td>[0, 0, 0, 0, 0, 0, 0, 0, 0, 0, 0, 0, 0, 0, 0, ...</td>\n",
              "      <td>[0, 0, 0, 0, 0, 0, 0, 0, 0, 0, 0, 0, 0, 0, 0, ...</td>\n",
              "      <td>2014-02-18 22:23:27</td>\n",
              "      <td>2</td>\n",
              "      <td>None</td>\n",
              "      <td>CSS</td>\n",
              "      <td>NamedUser(login=\"wibjer\")</td>\n",
              "      <td>2013-11-13 15:38:58</td>\n",
              "    </tr>\n",
              "    <tr>\n",
              "      <th>18</th>\n",
              "      <td>2020-10-15 18:19:33.639253</td>\n",
              "      <td>vinta/awesome-python</td>\n",
              "      <td>[vinta, dhamaniasad, vndmtrx, ellisonleao, Ihe...</td>\n",
              "      <td>87610</td>\n",
              "      <td>[awesome, python, collections, python-library,...</td>\n",
              "      <td>[5, 3, 7, 8, 1, 1, 0, 0, 10, 4, 0, 0, 4, 2, 3,...</td>\n",
              "      <td>[3, 2, 7, 4, 0, 0, 0, 0, 8, 4, 0, 0, 3, 1, 0, ...</td>\n",
              "      <td>2020-10-15 17:57:40</td>\n",
              "      <td>91</td>\n",
              "      <td>None</td>\n",
              "      <td>Python</td>\n",
              "      <td>NamedUser(login=\"vinta\")</td>\n",
              "      <td>2014-06-27 21:00:06</td>\n",
              "    </tr>\n",
              "    <tr>\n",
              "      <th>19</th>\n",
              "      <td>2020-10-15 18:19:34.924786</td>\n",
              "      <td>sqren/backport</td>\n",
              "      <td>[sqren, greenkeeper[bot], dependabot[bot], spa...</td>\n",
              "      <td>145</td>\n",
              "      <td>[automation, backport, cli, nodejs, productivi...</td>\n",
              "      <td>[3, 1, 0, 0, 0, 0, 0, 0, 0, 0, 0, 0, 0, 0, 0, ...</td>\n",
              "      <td>[3, 1, 0, 0, 0, 0, 0, 0, 0, 0, 0, 0, 0, 0, 0, ...</td>\n",
              "      <td>2020-10-14 18:38:09</td>\n",
              "      <td>6</td>\n",
              "      <td>None</td>\n",
              "      <td>TypeScript</td>\n",
              "      <td>NamedUser(login=\"sqren\")</td>\n",
              "      <td>2017-09-28 01:45:24</td>\n",
              "    </tr>\n",
              "    <tr>\n",
              "      <th>20</th>\n",
              "      <td>2020-10-15 18:19:36.263981</td>\n",
              "      <td>kaicataldo/.github</td>\n",
              "      <td>[kaicataldo]</td>\n",
              "      <td>1</td>\n",
              "      <td>[]</td>\n",
              "      <td>[0, 0, 0, 0, 0, 0, 0, 0, 0, 0, 0, 0, 0, 0, 2, ...</td>\n",
              "      <td>[0, 0, 0, 0, 0, 0, 0, 0, 0, 0, 0, 0, 0, 0, 2, ...</td>\n",
              "      <td>2020-05-22 20:27:30</td>\n",
              "      <td>0</td>\n",
              "      <td>None</td>\n",
              "      <td>None</td>\n",
              "      <td>NamedUser(login=\"kaicataldo\")</td>\n",
              "      <td>2020-01-28 18:41:10</td>\n",
              "    </tr>\n",
              "  </tbody>\n",
              "</table>\n",
              "</div>"
            ],
            "text/plain": [
              "                    TimeStamp  ...          created at\n",
              "0  2020-10-15 18:19:01.892650  ... 2010-09-30 19:41:28\n",
              "1  2020-10-15 18:19:03.197253  ... 2016-02-06 05:10:10\n",
              "2  2020-10-15 18:19:04.398255  ... 2014-03-11 12:34:19\n",
              "3  2020-10-15 18:19:06.171080  ... 2014-07-23 23:53:35\n",
              "4  2020-10-15 18:19:07.407232  ... 2011-07-29 22:01:48\n",
              "5  2020-10-15 18:19:08.532113  ... 2010-11-02 10:58:41\n",
              "6  2020-10-15 18:19:09.774243  ... 2017-02-05 20:16:09\n",
              "7  2020-10-15 18:19:11.655416  ... 2017-08-08 09:07:27\n",
              "8  2020-10-15 18:19:12.872530  ... 2016-07-21 04:44:06\n",
              "9  2020-10-15 18:19:14.040358  ... 2019-11-18 08:37:32\n",
              "10 2020-10-15 18:19:15.159602  ... 2014-04-26 19:50:49\n",
              "11 2020-10-15 18:19:17.619563  ... 2012-09-24 10:05:00\n",
              "12 2020-10-15 18:19:18.777011  ... 2009-11-14 01:46:44\n",
              "13 2020-10-15 18:19:19.985652  ... 2016-09-06 09:18:06\n",
              "14 2020-10-15 18:19:21.275232  ... 2012-06-09 02:50:10\n",
              "15 2020-10-15 18:19:24.272020  ... 2015-07-25 18:45:30\n",
              "16 2020-10-15 18:19:25.991380  ... 2018-09-18 19:44:17\n",
              "17 2020-10-15 18:19:27.147422  ... 2013-11-13 15:38:58\n",
              "18 2020-10-15 18:19:33.639253  ... 2014-06-27 21:00:06\n",
              "19 2020-10-15 18:19:34.924786  ... 2017-09-28 01:45:24\n",
              "20 2020-10-15 18:19:36.263981  ... 2020-01-28 18:41:10\n",
              "\n",
              "[21 rows x 13 columns]"
            ]
          },
          "metadata": {
            "tags": []
          },
          "execution_count": 78
        }
      ]
    },
    {
      "cell_type": "code",
      "metadata": {
        "id": "KmMpfT925SuT"
      },
      "source": [
        "import pandas as pd\n",
        "mydf.to_csv(\"sampledata_walk15Oct.csv\")\n"
      ],
      "execution_count": null,
      "outputs": []
    },
    {
      "cell_type": "code",
      "metadata": {
        "id": "_ViPM06edZ7M"
      },
      "source": [
        "cont_list=list(mydf[\"Contributors_data\"])"
      ],
      "execution_count": null,
      "outputs": []
    },
    {
      "cell_type": "code",
      "metadata": {
        "id": "T83pvlJRdiB3",
        "colab": {
          "base_uri": "https://localhost:8080/",
          "height": 341
        },
        "outputId": "421a2dbf-b6fa-4e6b-fd80-de1c1b8742c1"
      },
      "source": [
        "flat_list = []\n",
        "for sublist in cont_list:\n",
        "    for item in sublist:\n",
        "        flat_list.append(item)\n",
        "elements_count = {}\n",
        "# iterating over the elements for frequency\n",
        "for element in flat_list:\n",
        "   # checking whether it is in the dict or not\n",
        "   if element in elements_count:\n",
        "      # incerementing the count by 1\n",
        "      elements_count[element] += 1\n",
        "   else:\n",
        "      # setting the count to 1\n",
        "      elements_count[element] = 1\n",
        "# printing the elements frequencies\n",
        "count=0\n",
        "sum=0\n",
        "for key, value in elements_count.items():\n",
        "    if value == 1:\n",
        "      pass\n",
        "    elif value >= 3:\n",
        "      count=count+1\n",
        "      sum=sum+value\n",
        "      print(f\"{key}: {value}\")\n",
        "print(sum-count)"
      ],
      "execution_count": null,
      "outputs": [
        {
          "output_type": "stream",
          "text": [
            "thejefflarson: 3\n",
            "jdalton: 3\n",
            "fitzgen: 3\n",
            "prust: 3\n",
            "prayagverma: 3\n",
            "ReadmeCritic: 4\n",
            "dependabot[bot]: 4\n",
            "onyxfish: 3\n",
            "marijnh: 3\n",
            "aparajita: 4\n",
            "max-schaefer: 4\n",
            "mrcarlberg: 3\n",
            "kaicataldo: 3\n",
            "Rich-Harris: 3\n",
            "RichardLitt: 4\n",
            "beckermr: 3\n",
            "eventualbuddha: 3\n",
            "39\n"
          ],
          "name": "stdout"
        }
      ]
    },
    {
      "cell_type": "code",
      "metadata": {
        "id": "uF4r3Yt35yiS"
      },
      "source": [
        "created_atl=df[\"created_at\"]\n",
        "mydf[\"Created_At\"]=created_atl"
      ],
      "execution_count": null,
      "outputs": []
    },
    {
      "cell_type": "code",
      "metadata": {
        "id": "L_qQXVX_78W8"
      },
      "source": [
        "print(g.get_rate_limit())\n",
        "contributor_statsl=[]\n",
        "full_contributor_data=[]\n",
        "for i in range(702):\n",
        "  print(mydf.iloc[i][\"Repo Name\"])\n",
        "  repo=g.get_repo(mydf.iloc[i][\"Repo Name\"])\n",
        "  stats=repo.get_stats_contributors()\n",
        "  temp=[]\n",
        "  if stats != None:\n",
        "    for stat in stats:\n",
        "      login=stat.author.login\n",
        "      total=stat.total\n",
        "      weeks=stat.weeks\n",
        "      weekl=[]\n",
        "      for week in weeks:\n",
        "        weekl.append(week.raw_data)\n",
        "      temp.append([login,total,weekl])\n",
        "  contributor_statsl.append(temp)"
      ],
      "execution_count": null,
      "outputs": []
    },
    {
      "cell_type": "code",
      "metadata": {
        "id": "i0oze8k9FfgZ"
      },
      "source": [
        "len_list=[]\n",
        "for i in range(702):\n",
        "  len_list.append(len(contributor_statsl[i]))\n",
        "print(max(len_list))"
      ],
      "execution_count": null,
      "outputs": []
    },
    {
      "cell_type": "code",
      "metadata": {
        "id": "y8D23CL_8wgG"
      },
      "source": [
        "mydf[\"Contributor Statistics\"]=contributor_statsl"
      ],
      "execution_count": null,
      "outputs": []
    },
    {
      "cell_type": "code",
      "metadata": {
        "id": "x5EEwveGD-Am"
      },
      "source": [
        "print(g.get_rate_limit())\n",
        "mydf\n",
        "mydf.to_csv(\"sampledata3.csv\")"
      ],
      "execution_count": null,
      "outputs": []
    },
    {
      "cell_type": "code",
      "metadata": {
        "id": "C4kQXY1HwQYo"
      },
      "source": [
        "mydf.to_csv(\"sample.csv\")\n",
        "mydf.head()"
      ],
      "execution_count": null,
      "outputs": []
    },
    {
      "cell_type": "code",
      "metadata": {
        "id": "pOId70LapoTP"
      },
      "source": [
        "#mydfl=datacollecter1(repositories[0])\n",
        "mydf2=pd.read_csv(\"sample.csv\")\n",
        "mydf2"
      ],
      "execution_count": null,
      "outputs": []
    },
    {
      "cell_type": "code",
      "metadata": {
        "id": "DxcXL6v9yXTa"
      },
      "source": [
        "a_series = pd.Series(mydfl, index = mydf.columns)\n",
        "mydf = mydf.append(a_series, ignore_index=True)"
      ],
      "execution_count": null,
      "outputs": []
    },
    {
      "cell_type": "code",
      "metadata": {
        "id": "rCClXS1SPNm9"
      },
      "source": [
        "import json\n",
        "with open('datainjson800reposday2.txt', 'a') as outfile:\n",
        "  for i in range(len(repo_found)):\n",
        "      json.dump(repo_found[i].raw_data, outfile)\n",
        "      outfile.write('\\n')"
      ],
      "execution_count": null,
      "outputs": []
    },
    {
      "cell_type": "code",
      "metadata": {
        "id": "BK1eim5Y3XEk"
      },
      "source": [
        "g.get_rate_limit()"
      ],
      "execution_count": null,
      "outputs": []
    },
    {
      "cell_type": "code",
      "metadata": {
        "id": "ylZ-4lPEy7EU"
      },
      "source": [
        "mydf3=pd.read_json(\"data3.txt\",lines=True)\n",
        "mydf3"
      ],
      "execution_count": null,
      "outputs": []
    },
    {
      "cell_type": "code",
      "metadata": {
        "id": "tGtGTvsKThUP"
      },
      "source": [
        "#pulls = repositories[0].get_pulls('all')\n",
        "count=0\n",
        "temp=[]\n",
        "\n",
        "for pull in pulls:\n",
        "  temp.append({\"Number\":pulls[count].number,\"State\":pulls[count].state,\"Opened_by\":pulls[count].user.login,\"Merged\":pulls[count].merged,\"Merged_by\":pulls[count].merged_by,\"Merged_at\":pulls[count].merged_at})\n",
        "  count=count+1\n",
        "#print(count)\n",
        "#print(pulls[0].user.login)\n",
        "#print(pulls[0].number)\n",
        "#repositories[0].get_pull(469)\n",
        "print(temp)\n",
        "#print(repositories[].name)"
      ],
      "execution_count": null,
      "outputs": []
    },
    {
      "cell_type": "code",
      "metadata": {
        "id": "foa6QcrJkkMC"
      },
      "source": [
        "contributors=repositories[0].get_contributors(anon=0)\n",
        "for contributor in contributors:\n",
        "  print(contributor.login)"
      ],
      "execution_count": null,
      "outputs": []
    },
    {
      "cell_type": "code",
      "metadata": {
        "id": "vZB5hliTld8a"
      },
      "source": [
        "commits=repositories[0].get_stats_commit_activity()\n",
        "for commit in commits:\n",
        "  print(commit.raw_data)"
      ],
      "execution_count": null,
      "outputs": []
    },
    {
      "cell_type": "code",
      "metadata": {
        "id": "RKP4Joo9yt_I"
      },
      "source": [
        "issues=repositories[2].get_issues(state=\"all\",since=datetime.datetime(2020, 7, 1))\n",
        "#issues[0].raw_data\n",
        "count=0\n",
        "issue_list=[]\n",
        "for issue in issues:\n",
        "  issue_list.append({\"number\":issue.number,\"created_at\":issue.created_at,\"state\":issue.state,\"closed_at\":issue.closed_at,\"closed_by\":issue.closed_by,\"opened_by\":issue.user.login})\n",
        "print(issue_list)"
      ],
      "execution_count": null,
      "outputs": []
    },
    {
      "cell_type": "code",
      "metadata": {
        "id": "VwAnMvabuhjG"
      },
      "source": [
        "downloads=repo.get_downloads()\n",
        "count=0\n",
        "for download in downloads:\n",
        "  count=count+1\n",
        "print(count)"
      ],
      "execution_count": null,
      "outputs": []
    },
    {
      "cell_type": "code",
      "metadata": {
        "id": "eRfOXjcEwKaM"
      },
      "source": [
        "g.get_rate_limit()"
      ],
      "execution_count": null,
      "outputs": []
    },
    {
      "cell_type": "code",
      "metadata": {
        "id": "Om-nkcbTI7I2"
      },
      "source": [
        "#issues=repo.get_issues()\n",
        "repos=g.search_repositories(query=\"language:python\")\n",
        "count=0\n",
        "for repo1 in repos:\n",
        "  print(count)\n",
        "  count=count+1\n",
        "  if count == 25:\n",
        "    break"
      ],
      "execution_count": null,
      "outputs": []
    },
    {
      "cell_type": "code",
      "metadata": {
        "id": "pj3tzEygel-9"
      },
      "source": [
        "import pandas as pd"
      ],
      "execution_count": null,
      "outputs": []
    },
    {
      "cell_type": "code",
      "metadata": {
        "id": "5gDV8K5vUJr3"
      },
      "source": [
        "repo=g.get_repo(\"home-assistant/core\")"
      ],
      "execution_count": null,
      "outputs": []
    },
    {
      "cell_type": "code",
      "metadata": {
        "id": "f08bxIEcVGe6"
      },
      "source": [
        "contributors=repo.get_contributors()\n",
        "repo_contributors=[]\n",
        "for contributor in contributors:\n",
        "  repo_contributors.append(contributor.login)\n",
        "  print(contributor.login)"
      ],
      "execution_count": null,
      "outputs": []
    },
    {
      "cell_type": "code",
      "metadata": {
        "id": "7av2s5vovG_a"
      },
      "source": [
        "print(g.get_rate_limit())\n",
        "#commits=repo.get_stats_contributors()\n",
        "print(g.get_rate_limit())\n",
        "count=0\n",
        "for commit in commits:\n",
        "  print(commit.total)\n",
        "print(count)"
      ],
      "execution_count": null,
      "outputs": []
    },
    {
      "cell_type": "code",
      "metadata": {
        "id": "sBHRGpmMAfDA"
      },
      "source": [
        "print(weeks[5].raw_data)"
      ],
      "execution_count": null,
      "outputs": []
    },
    {
      "cell_type": "markdown",
      "metadata": {
        "id": "d0bafDPeA5Oq"
      },
      "source": [
        "# ACCESSING THE GIT GRAPH IN A DEFINED MANNER"
      ]
    },
    {
      "cell_type": "code",
      "metadata": {
        "id": "sBxHRNE9XSv7"
      },
      "source": [
        "#print(contributors)\n",
        "import random\n",
        "import pandas as pd\n",
        "random_list=random.sample(range(10), 10)\n",
        "random_list"
      ],
      "execution_count": null,
      "outputs": []
    },
    {
      "cell_type": "code",
      "metadata": {
        "id": "xAiN0TmeMwaG"
      },
      "source": [
        "#user=g.get_user(\"maddox\")\n",
        "test=user.get_repos()\n",
        "count=0\n",
        "for i in test:\n",
        "  if g.rate_limiting[0] == 4913:\n",
        "    break\n",
        "  count=count+1\n",
        "  print(i.name)\n",
        "print(count)"
      ],
      "execution_count": null,
      "outputs": []
    },
    {
      "cell_type": "code",
      "metadata": {
        "id": "SrwGv9j6M3KM"
      },
      "source": [
        "g.rate_limiting[0]"
      ],
      "execution_count": null,
      "outputs": []
    },
    {
      "cell_type": "code",
      "metadata": {
        "id": "DMdvF5EgW4iJ"
      },
      "source": [
        "print(len(list(contributors)))"
      ],
      "execution_count": null,
      "outputs": []
    },
    {
      "cell_type": "code",
      "metadata": {
        "id": "BqXdDC07VZ9U"
      },
      "source": [
        "contributors=repo.get_contributors()\n",
        "count=0\n",
        "for contributor in contributors:\n",
        "  count=count+1\n",
        "  if g.rate_limiting[0]==4984:\n",
        "    break\n",
        "  print(contributor.login)\n",
        "print(count)"
      ],
      "execution_count": null,
      "outputs": []
    },
    {
      "cell_type": "code",
      "metadata": {
        "id": "TcUxAGw4SzN2"
      },
      "source": [
        "beta=29\n",
        "his_repos=get_contributor_repos_all(user,beta)\n",
        "his_repos"
      ],
      "execution_count": null,
      "outputs": []
    },
    {
      "cell_type": "code",
      "metadata": {
        "id": "NjSa45zeYqa8"
      },
      "source": [
        "#from random import randint\n",
        "for i in range(100):\n",
        "  print(randint(0,1))"
      ],
      "execution_count": null,
      "outputs": []
    },
    {
      "cell_type": "code",
      "metadata": {
        "id": "Y7LdcU1RWdZk"
      },
      "source": [
        "def get_contributor_repos_all(user,beta):\n",
        "  count=0\n",
        "  #user = g.get_user(username) # target user\n",
        "  repos = user.get_repos()\n",
        "  mylist=[]\n",
        "  for repo in repos:\n",
        "    if count == beta:\n",
        "      break\n",
        "    if repo.fork:\n",
        "      mylist.append(repo.parent)\n",
        "    else:\n",
        "      mylist.append(repo)\n",
        "    count=count+1\n",
        "  return mylist\n",
        "#repos=get_contributor_repos_all(\"TopdRob\")\n",
        "#for repo in repos:\n",
        "#  print(repo.full_name)"
      ],
      "execution_count": null,
      "outputs": []
    },
    {
      "cell_type": "code",
      "metadata": {
        "id": "BLqJYXajjZlt"
      },
      "source": [
        "g.get_rate_limit()"
      ],
      "execution_count": null,
      "outputs": []
    },
    {
      "cell_type": "markdown",
      "metadata": {
        "id": "YupQGUznBHLO"
      },
      "source": [
        "### LOCAL SEARCH ALGORITHM FOR ACCESSING GIT GRAPH"
      ]
    },
    {
      "cell_type": "code",
      "metadata": {
        "id": "WztlI5jMlpxS",
        "colab": {
          "base_uri": "https://localhost:8080/",
          "height": 35
        },
        "outputId": "7a960d21-8ae9-47df-afe8-4b05322fbfb1"
      },
      "source": [
        "print(g.get_rate_limit())\n",
        "repo=g.get_repo(\"scrapy/scrapy\")\n",
        "#contributors=repo.get_contributors()"
      ],
      "execution_count": null,
      "outputs": [
        {
          "output_type": "stream",
          "text": [
            "RateLimit(core=Rate(reset=2020-10-15 18:07:22, remaining=4537, limit=5000))\n"
          ],
          "name": "stdout"
        }
      ]
    },
    {
      "cell_type": "code",
      "metadata": {
        "id": "z8RXLul8dEXS"
      },
      "source": [
        "print(g.get_rate_limit())\n",
        "for contributor in contributors:\n",
        "  print(contributor.login)"
      ],
      "execution_count": null,
      "outputs": []
    },
    {
      "cell_type": "code",
      "metadata": {
        "id": "rlbi4fufdPAJ"
      },
      "source": [
        "print(g.get_rate_limit())\n",
        "commits=repo.get_commits(author=contributors[1])\n",
        "count=0\n",
        "#for commit in commits:\n",
        "#  count=count+1\n",
        "#print(count)\n",
        "print(commits.totalCount)\n",
        "print(g.get_rate_limit())"
      ],
      "execution_count": null,
      "outputs": []
    },
    {
      "cell_type": "code",
      "metadata": {
        "id": "pso-S-SzhFsN"
      },
      "source": [
        "print(g.get_rate_limit())\n",
        "commits=repo.get_stats_commit_activity()\n",
        "count=0\n",
        "#for commit in commits:\n",
        "#  count=count+1\n",
        "#print(count)\n",
        "print(len(commits))\n",
        "print(g.get_rate_limit())"
      ],
      "execution_count": null,
      "outputs": []
    },
    {
      "cell_type": "code",
      "metadata": {
        "id": "7ik6vtnZgFcl",
        "colab": {
          "base_uri": "https://localhost:8080/",
          "height": 1000
        },
        "outputId": "68b52498-f4cd-46ed-d243-2c0bc4115b3d"
      },
      "source": [
        "import random\n",
        "from random import randint\n",
        "def local_search(repo,limit,alpha,beta,biggerlist,repo_found,cont_list):\n",
        "  if limit <= 0:\n",
        "    return repo_found,biggerlist\n",
        "  flag=0\n",
        "  count_beta=0\n",
        "  contributors_list=[]\n",
        "  count_alpha=0\n",
        "  contributors=repo.get_contributors()\n",
        "  counter=max(29,alpha)\n",
        "  for contributor in contributors:\n",
        "    if count_alpha==counter:\n",
        "      break\n",
        "    contributors_list.append(contributor)\n",
        "    count_alpha=count_alpha+1\n",
        "  min_alpha=min(count_alpha,alpha)\n",
        "  print(\"Got contributor list \"+str(min_alpha))\n",
        "  if len(contributors_list) == 0:\n",
        "    print(\"No contributors\")\n",
        "    return repo_found,biggerlist\n",
        "  flip=0\n",
        "  while len(biggerlist) <= limit:\n",
        "    if flag == 1:\n",
        "      break\n",
        "    if flip == 0:\n",
        "      random_list=random.sample(range(len(contributors_list)), min_alpha)\n",
        "      for i in random_list:\n",
        "        if i < len(contributors_list):\n",
        "          print(contributors_list[i].login)\n",
        "          cont_list.append(contributors_list[i].login)\n",
        "          his_repos=get_contributor_repos_all(contributors_list[i],beta)\n",
        "          if beta < len(list(his_repos)):\n",
        "            random_list2=random.sample(range(len(list(his_repos))), beta)\n",
        "            for j in range(beta):\n",
        "              if len(biggerlist) > limit:\n",
        "                flag=1\n",
        "                break\n",
        "              if his_repos[random_list2[j]] not in repo_found:\n",
        "                repo_found.append(his_repos[random_list2[j]])\n",
        "          else:\n",
        "            for his_repo in his_repos:\n",
        "              if len(biggerlist) > limit:\n",
        "                flag=1\n",
        "                break\n",
        "              if his_repo not in repo_found:\n",
        "                repo_found.append(his_repo)\n",
        "        if flag == 1:\n",
        "          break\n",
        "        \n",
        "        flip=1\n",
        "    elif flip == 1:\n",
        "      print(\"flip\")\n",
        "      if len(repo_found )>= 2:\n",
        "        index=randint(0,len(repo_found)-1)\n",
        "      else:\n",
        "        index=0\n",
        "      repo2=repo_found[index]\n",
        "      if repo2 not in biggerlist:\n",
        "        biggerlist.append(repo2)\n",
        "      print(repo2.full_name)\n",
        "      print(\"Limit passing is \"+str(limit-len(biggerlist)))\n",
        "      repo_found2,biggerlist1=local_search(repo2,limit,alpha,beta,biggerlist,repo_found,cont_list)\n",
        "      print(\"hi\")\n",
        "      for repo in biggerlist1:\n",
        "        if len(biggerlist) >= limit:\n",
        "          print(\"Here2\")\n",
        "          flag=1\n",
        "          break        \n",
        "        if repo not in biggerlist:\n",
        "          biggerlist.append(repo)\n",
        "      #for repo in repo_found2:\n",
        "      #  print(\"repo_found2 repos are\")\n",
        "      #  print(repo.full_name)\n",
        "      print(\"here\")\n",
        "      for repo_found2_ in repo_found2:\n",
        "        if len(biggerlist) >= limit:\n",
        "          print(\"Here2\")\n",
        "          flag=1\n",
        "          break\n",
        "        if repo_found2_ not in repo_found:\n",
        "          print(\"Appending\")\n",
        "          repo_found.append(repo_found2_)\n",
        "      print(len(repo_found))\n",
        "  return repo_found,biggerlist\n",
        "#repo_found=local_search(repo,800,29,29)\n",
        "repo=repo_found[0]\n",
        "repo_found,biglist=local_search(repo,400,10,5,[],[repo],[])"
      ],
      "execution_count": null,
      "outputs": [
        {
          "output_type": "stream",
          "text": [
            "Got contributor list 10\n",
            "wRAR\n",
            "dangra\n",
            "omab\n",
            "Gallaecio\n",
            "pablohoffman\n",
            "eliasdorneles\n",
            "curita\n",
            "void\n",
            "pkufranky\n",
            "lopuhin\n",
            "flip\n",
            "cr0hn/aiohttp-swagger\n",
            "Limit passing is 399\n",
            "Got contributor list 10\n",
            "kapucko\n",
            "guoyiang\n",
            "denismakogon\n",
            "cr0hn\n",
            "goranpavlovic\n",
            "BurkovBA\n",
            "arcenik\n",
            "stasfilin\n",
            "TheDeadOne\n",
            "andriisoldatenko\n",
            "flip\n",
            "lopuhin/blog\n",
            "Limit passing is 398\n",
            "Got contributor list 0\n",
            "No contributors\n",
            "hi\n",
            "here\n",
            "86\n",
            "flip\n",
            "pablohoffman/dotfiles\n",
            "Limit passing is 397\n",
            "Got contributor list 1\n",
            "pablohoffman\n",
            "flip\n",
            "AppImage/AppImageSpec\n",
            "Limit passing is 396\n",
            "Got contributor list 6\n",
            "kossebau\n",
            "shoogle\n",
            "KurtPfeifle\n",
            "elvisangelaccio\n",
            "TheAssassin\n",
            "probonopd\n",
            "flip\n",
            "nickhammond/ansible-logrotate\n",
            "Limit passing is 395\n",
            "Got contributor list 10\n",
            "swalkinshaw\n",
            "antstorm\n",
            "kornicameister\n",
            "bigjust\n",
            "arcenik\n",
            "nickhammond\n",
            "kagux\n",
            "zeelax\n",
            "ryanpineo\n",
            "lchabert\n",
            "flip\n",
            "goranpavlovic/AlgoImplementationCpp\n",
            "Limit passing is 394\n",
            "Got contributor list 1\n",
            "goranpavlovic\n",
            "flip\n",
            "etianen/aiohttp-wsgi\n",
            "Limit passing is 393\n",
            "Got contributor list 7\n",
            "jelmer\n",
            "chriskuehl\n",
            "dahlia\n",
            "michael-k\n",
            "jnurmine\n",
            "fscherf\n",
            "etianen\n",
            "flip\n",
            "django/django\n",
            "Limit passing is 392\n",
            "Got contributor list 10\n",
            "apollo13\n",
            "adrianholovaty\n",
            "andrewgodwin\n",
            "timgraham\n",
            "malcolmt\n",
            "carltongibson\n",
            "claudep\n",
            "jdufresne\n",
            "jbronn\n",
            "ubernostrum\n",
            "flip\n",
            "pythianliappis/ansiblediamond\n",
            "Limit passing is 391\n",
            "Got contributor list 3\n",
            "janisz\n",
            "lyrixx\n",
            "pythianliappis\n",
            "flip\n",
            "ajaxorg/ace\n",
            "Limit passing is 390\n",
            "Got contributor list 10\n",
            "c9developer\n",
            "cadorn\n",
            "nightwing\n",
            "zefhemel\n",
            "wcandillon\n",
            "skacurt\n",
            "mihaisucan\n",
            "nedevel\n",
            "dfelder\n",
            "sevin7676\n",
            "flip\n",
            "swalkinshaw/blacktie\n",
            "Limit passing is 389\n",
            "Got contributor list 1\n",
            "swalkinshaw\n",
            "flip\n",
            "activemerchant/active_merchant\n",
            "Limit passing is 388\n",
            "Got contributor list 10\n",
            "bizla\n",
            "jasonwebster\n",
            "bpollack\n",
            "shasum\n",
            "deedeelavinder\n",
            "leila-alderman\n",
            "girasquid\n",
            "markabe\n",
            "bslobodin\n",
            "titanous\n",
            "flip\n",
            "ietf-wg-acme/acme\n",
            "Limit passing is 387\n",
            "Got contributor list 10\n",
            "ohemorange\n",
            "bifurcation\n",
            "jordanbtucker\n",
            "seanturner\n",
            "robstradling\n",
            "adamroach\n",
            "uhhhh2\n",
            "TheNavigat\n",
            "cpu\n",
            "shred\n",
            "flip\n",
            "lopuhin/bbot\n",
            "Limit passing is 386\n",
            "Got contributor list 1\n",
            "lopuhin\n",
            "flip\n",
            "cyx/an\n",
            "Limit passing is 385\n",
            "Got contributor list 3\n",
            "cyx\n",
            "omab\n",
            "inkel\n",
            "flip\n",
            "home-assistant/home-assistant.io\n",
            "Limit passing is 384\n",
            "Got contributor list 10\n",
            "Landrash\n",
            "adrianmihalko\n",
            "amelchio\n",
            "fhemberger\n",
            "fabaff\n",
            "dependabot-preview[bot]\n",
            "parkr\n",
            "SeanPM5\n",
            "cogneato\n",
            "frenck\n",
            "flip\n",
            "nightwing/ace-documentation-2\n",
            "Limit passing is 383\n",
            "Got contributor list 1\n",
            "nightwing\n",
            "flip\n",
            "zooldk/couchbase_collector\n",
            "Limit passing is 382\n",
            "Got contributor list 1\n",
            "zooldk\n",
            "flip\n",
            "bifurcation/acme-demo\n",
            "Limit passing is 381\n",
            "Got contributor list 1\n",
            "bifurcation\n",
            "flip\n",
            "markabe/food_facilitator\n",
            "Limit passing is 380\n",
            "Got contributor list 1\n",
            "markabe\n",
            "flip\n",
            "shred/cilla-plugin\n",
            "Limit passing is 379\n",
            "Got contributor list 1\n",
            "shred\n",
            "flip\n",
            "AutomationWithAnsible/ansible-aws-rds\n",
            "Limit passing is 378\n",
            "Got contributor list 3\n",
            "ahelal\n",
            "asemt\n",
            "zeelax\n",
            "flip\n",
            "sporkmonger/addressable\n",
            "Limit passing is 377\n",
            "Got contributor list 10\n",
            "amatsuda\n",
            "igrigorik\n",
            "jperville\n",
            "sporkmonger\n",
            "newtonapple\n",
            "sferik\n",
            "alejandroperea\n",
            "therabidbanana\n",
            "jordimassaguerpla\n",
            "dentarg\n",
            "flip\n",
            "AFNetworking/AFIncrementalStore\n",
            "Limit passing is 376\n",
            "Got contributor list 10\n",
            "dulacp\n",
            "ErikEvenson\n",
            "lottadot\n",
            "jerryhjones\n",
            "imanzarrabian\n",
            "evadne\n",
            "soffes\n",
            "bjtitus\n",
            "julienfantin\n",
            "followben\n",
            "flip\n",
            "TheNavigat/CHTTP2\n",
            "Limit passing is 375\n",
            "Got contributor list 1\n",
            "TheNavigat\n",
            "flip\n",
            "mattpardee/denverdots\n",
            "Limit passing is 374\n",
            "Got contributor list 1\n",
            "mattpardee\n",
            "flip\n",
            "therabidbanana/acts_as_changesetable\n",
            "Limit passing is 373\n",
            "Got contributor list 1\n",
            "therabidbanana\n",
            "flip\n",
            "fscherf/django-cms-extensions\n",
            "Limit passing is 372\n",
            "Got contributor list 1\n",
            "fscherf\n",
            "flip\n",
            "jmhobbs/cultofthepartyparrot.com\n",
            "Limit passing is 371\n",
            "Got contributor list 10\n",
            "urielsalis\n",
            "santiycr\n",
            "WyTeav\n",
            "danryder\n",
            "wand2016\n",
            "glentakahashi\n",
            "jmhobbs\n",
            "deedeelavinder\n",
            "chalisegrogan\n",
            "rsimai\n",
            "flip\n",
            "spacehuhn/ArduinoARPspoof\n",
            "Limit passing is 370\n",
            "Got contributor list 2\n",
            "spacehuhn\n",
            "Jack-Rogers\n",
            "flip\n",
            "pythianliappis/pythonhelloweather\n",
            "Limit passing is 369\n",
            "Got contributor list 1\n",
            "pythianliappis\n",
            "flip\n",
            "home-assistant/supervisor\n",
            "Limit passing is 368\n",
            "Got contributor list 10\n",
            "pvizeli\n",
            "frenck\n",
            "casperklein\n",
            "fredrike\n",
            "boesing\n",
            "dependabot[bot]\n",
            "revolter\n",
            "bramkragten\n",
            "fabaff\n",
            "timmo001\n",
            "flip\n",
            "leila-alderman/Beginning_Ruby\n",
            "Limit passing is 367\n",
            "Got contributor list 1\n",
            "leila-alderman\n",
            "flip\n",
            "ohemorange/class_openings\n",
            "Limit passing is 366\n",
            "Got contributor list 1\n",
            "ohemorange\n",
            "flip\n",
            "meshy/app-rename-example\n",
            "Limit passing is 365\n",
            "Got contributor list 1\n",
            "meshy\n",
            "flip\n",
            "newtonapple/alpine-crystal-docker-example\n",
            "Limit passing is 364\n",
            "Got contributor list 1\n",
            "newtonapple\n",
            "flip\n",
            "TheNavigat/AmazonHackathon\n",
            "Limit passing is 363\n",
            "Got contributor list 5\n",
            "TheNavigat\n",
            "MostafaShehab\n",
            "kghandour\n",
            "mohGhazala96\n",
            "SherifElattar\n",
            "flip\n",
            "awesomedata/awesome-public-datasets\n",
            "Limit passing is 362\n",
            "Got contributor list 10\n",
            "narner\n",
            "kms6bn\n",
            "derwinmcgeary\n",
            "sAlexander\n",
            "jpellman\n",
            "znurgl\n",
            "alexurquhart\n",
            "franc00018\n",
            "aguynamedben\n",
            "ReadmeCritic\n",
            "flip\n",
            "hassio-addons/addon-grafana\n",
            "Limit passing is 361\n",
            "Got contributor list 10\n",
            "lukasleitsch\n",
            "goern\n",
            "bonanitech\n",
            "renovate[bot]\n",
            "timmo001\n",
            "tjorim\n",
            "aetjansen\n",
            "alexiri\n",
            "ferazambuja\n",
            "HoppingMonk\n",
            "flip\n",
            "zdennis/activerecord-import\n",
            "Limit passing is 360\n",
            "Got contributor list 10\n",
            "Empact\n",
            "oniofchaos\n",
            "dombesz\n",
            "codeodor\n",
            "imtayadeway\n",
            "spectator\n",
            "diclophis\n",
            "vmaxv\n",
            "sebcoetzee\n",
            "jkowens\n",
            "flip\n",
            "fredrike/BeanTemp\n",
            "Limit passing is 359\n",
            "Got contributor list 1\n",
            "fredrike\n",
            "flip\n",
            "kas-kad/AKLookups\n",
            "Limit passing is 358\n",
            "Got contributor list 2\n",
            "nemoeslovo\n",
            "kas-kad\n",
            "flip\n",
            "hacs/default\n",
            "Limit passing is 357\n",
            "Got contributor list 10\n",
            "basnijholt\n",
            "nickneos\n",
            "fineemb\n",
            "Petro31\n",
            "kodi1\n",
            "swartjean\n",
            "PiotrMachowski\n",
            "UbhiTS\n",
            "thomasloven\n",
            "simonhq\n",
            "flip\n",
            "powmedia/backbone-deep-model\n",
            "Limit passing is 356\n",
            "Got contributor list 10\n",
            "jessehouchins\n",
            "powmedia\n",
            "mreinstein\n",
            "mgevans\n",
            "mscdex\n",
            "sqren\n",
            "mikefrey\n",
            "davidgtonge\n",
            "evadnoob\n",
            "tony\n",
            "flip\n",
            "mattbrictson/airbrussh\n",
            "Limit passing is 355\n",
            "Got contributor list 10\n",
            "jaredbeck\n",
            "gabetax\n",
            "notapatch\n",
            "felixbuenemann\n",
            "robd\n",
            "huerlisi\n",
            "gondalez\n",
            "byroot\n",
            "pblesi\n",
            "mattbrictson\n",
            "flip\n",
            "pingcap/awesome-database-learning\n",
            "Limit passing is 354\n",
            "Got contributor list 10\n",
            "b41sh\n",
            "c4pt0r\n",
            "palash25\n",
            "ekalinin\n",
            "laixintao\n",
            "cakebytheoceanLuo\n",
            "fxrcode\n",
            "zz-jason\n",
            "woodpenker\n",
            "yongyanglai\n",
            "flip\n",
            "jordanbtucker/botw-data\n",
            "Limit passing is 353\n",
            "Got contributor list 1\n",
            "jordanbtucker\n",
            "flip\n",
            "lchabert/ansible-circus\n",
            "Limit passing is 352\n",
            "Got contributor list 0\n",
            "No contributors\n",
            "hi\n",
            "here\n",
            "859\n",
            "flip\n",
            "lydiapintscher/20-years-of-KDE\n",
            "Limit passing is 351\n",
            "Got contributor list 10\n",
            "xevix\n",
            "sandroandrade\n",
            "shlomif\n",
            "celestelynpaul\n",
            "colomar\n",
            "richmoore\n",
            "antlarr\n",
            "wstephenson\n",
            "aleixpol\n",
            "bhush9\n",
            "flip\n",
            "cyx/aiakos\n",
            "Limit passing is 350\n",
            "Got contributor list 1\n",
            "cyx\n",
            "flip\n",
            "lydiapintscher/20-years-of-KDE\n",
            "Limit passing is 350\n",
            "Got contributor list 10\n",
            "cornelius\n",
            "NunoPinheiroKDAB\n",
            "wstephenson\n",
            "elvisangelaccio\n",
            "er-vin\n",
            "dfaure\n",
            "vkrause\n",
            "aleixpol\n",
            "lydiapintscher\n",
            "xevix\n",
            "flip\n",
            "archlinuxarm/PKGBUILDs\n",
            "Limit passing is 349\n",
            "Got contributor list 10\n",
            "frol\n",
            "jarondl\n",
            "moonman\n",
            "WarheadsSE\n",
            "graysky2\n",
            "mikestaszel\n",
            "asdil12\n",
            "cippaciong\n",
            "mikkeloscar\n",
            "jquagga\n",
            "flip\n",
            "atomic7777/atomic_calendar\n",
            "Limit passing is 348\n",
            "Got contributor list 4\n",
            "finity69x2\n",
            "atomic7777\n",
            "phillprice\n",
            "fredrike\n",
            "flip\n",
            "fhemberger/ansible-role-password-lookup\n",
            "Limit passing is 347\n",
            "Got contributor list 1\n",
            "fhemberger\n",
            "flip\n",
            "trizen/alsi\n",
            "Limit passing is 346\n",
            "Got contributor list 4\n",
            "Sweenu\n",
            "trizen\n",
            "ideal\n",
            "nathalie-tate\n",
            "flip\n",
            "linux4kix/linux-linaro-stable-mx6\n",
            "Limit passing is 345\n",
            "Got contributor list 10\n",
            "arndb\n",
            "bzolnier\n",
            "airlied\n",
            "AdrianBunk\n",
            "heicarst\n",
            "bigguiness\n",
            "ralfbaechle\n",
            "error27\n",
            "olofj\n",
            "torvalds\n",
            "flip\n",
            "hassio-addons/addon-ftp\n",
            "Limit passing is 344\n",
            "Got contributor list 5\n",
            "tjorim\n",
            "frenck\n",
            "renovate[bot]\n",
            "sinclairpaul\n",
            "timmo001\n",
            "flip\n",
            "dangra/anemone-spider\n",
            "Limit passing is 343\n",
            "Got contributor list 2\n",
            "dangra\n",
            "vshlapakov\n",
            "flip\n",
            "fabiomontefuscolo/docker-tikiwiki\n",
            "Limit passing is 342\n",
            "Got contributor list 1\n",
            "fabiomontefuscolo\n",
            "flip\n",
            "jm81/ach\n",
            "Limit passing is 341\n",
            "Got contributor list 10\n",
            "zackperdue\n",
            "joshpuetz\n",
            "barmstrong\n",
            "jcbantuelle\n",
            "phlipper\n",
            "destinf\n",
            "mhoffmeyer\n",
            "tubergen\n",
            "jm81\n",
            "terryjray\n",
            "flip\n",
            "iputils/iputils\n",
            "Limit passing is 340\n",
            "Got contributor list 10\n",
            "yurchor\n",
            "martinbark\n",
            "deastoe\n",
            "jsynacek\n",
            "krichter722\n",
            "schiele\n",
            "pavlix\n",
            "vapier\n",
            "neheb\n",
            "kosekmi\n",
            "flip\n",
            "tubergen/Deduplication\n",
            "Limit passing is 339\n",
            "Got contributor list 1\n",
            "tubergen\n",
            "flip\n",
            "finity69x2/cover-control-button-row\n",
            "Limit passing is 338\n",
            "Got contributor list 2\n",
            "raz0rf0x\n",
            "finity69x2\n",
            "flip\n",
            "kghandour/ScroogeCoin-Blockchain\n",
            "Limit passing is 337\n",
            "Got contributor list 1\n",
            "kghandour\n",
            "flip\n",
            "Jack-Rogers/Bootstrap-Admin-PHP-Framework\n",
            "Limit passing is 336\n",
            "Got contributor list 1\n",
            "Jack-Rogers\n",
            "flip\n",
            "enzymejs/enzyme\n",
            "Limit passing is 335\n",
            "Got contributor list 10\n",
            "minznerjosh\n",
            "ljharb\n",
            "serut\n",
            "lamhieu-vk\n",
            "lelandrichardson\n",
            "jordwest\n",
            "k3ithl1m\n",
            "cpojer\n",
            "madicap\n",
            "bdwain\n",
            "flip\n",
            "nickneos/Appdaemon-ZHA-Hue-Dimmer-Switch\n",
            "Limit passing is 334\n",
            "Got contributor list 1\n",
            "nickneos\n",
            "flip\n",
            "sqren/2019-june-typescript-presentation\n",
            "Limit passing is 333\n",
            "Got contributor list 1\n",
            "sqren\n",
            "flip\n",
            "asvetlov/aioscript\n",
            "Limit passing is 332\n",
            "Got contributor list 2\n",
            "litwisha\n",
            "karambolishe\n",
            "flip\n",
            "chendo/buildkite-rspec-formatter\n",
            "Limit passing is 331\n",
            "Got contributor list 3\n",
            "chendo\n",
            "gondalez\n",
            "plasticine\n",
            "flip\n",
            "ctran/annotate_models\n",
            "Limit passing is 330\n",
            "Got contributor list 10\n",
            "henrik\n",
            "ryanfox1985\n",
            "masa-iwasaki\n",
            "AMekss\n",
            "sashabelozerov\n",
            "drwl\n",
            "smtlaissezfaire\n",
            "alexch\n",
            "jeremyolliver\n",
            "miyucy\n",
            "flip\n",
            "bramkragten/bramkragten.github.io\n",
            "Limit passing is 329\n",
            "Got contributor list 1\n",
            "bramkragten\n",
            "flip\n",
            "OpenBankingStandard/auth\n",
            "Limit passing is 328\n",
            "Got contributor list 2\n",
            "jackgavigan\n",
            "davidgtonge\n",
            "flip\n",
            "mikkeloscar/100compiler\n",
            "Limit passing is 327\n",
            "Got contributor list 2\n",
            "askemottelson\n",
            "mikkeloscar\n",
            "flip\n",
            "oraz/bookmarksMenu\n",
            "Limit passing is 326\n",
            "Got contributor list 4\n",
            "glosswordteam\n",
            "oraz\n",
            "vapier\n",
            "ogr3\n",
            "flip\n",
            "sevin7676/AtlasMobile\n",
            "Limit passing is 325\n",
            "Got contributor list 0\n",
            "No contributors\n",
            "hi\n",
            "here\n",
            "1219\n",
            "flip\n",
            "CatharsisFonts/Cormorant\n",
            "Limit passing is 324\n",
            "Got contributor list 4\n",
            "alexeiva\n",
            "m4rc1e\n",
            "CatharsisFonts\n",
            "davelab6\n",
            "flip\n",
            "AmpersandJS/ampersandjs.com\n",
            "Limit passing is 323\n",
            "Got contributor list 10\n",
            "HipsterBrown\n",
            "passcod\n",
            "thefoxis\n",
            "BrettBukowski\n",
            "jvduf\n",
            "chadxz\n",
            "basti1302\n",
            "adamavenir\n",
            "edull24\n",
            "gyaresu\n",
            "flip\n",
            "SherifElattar/Python-Prolog-Tester\n",
            "Limit passing is 322\n",
            "Got contributor list 1\n",
            "SherifElattar\n",
            "flip\n",
            "vinta/awesome-python\n",
            "Limit passing is 321\n",
            "Got contributor list 10\n",
            "jcupitt\n",
            "dhamaniasad\n",
            "nicoe\n",
            "houjunchen\n",
            "sdispater\n",
            "fkromer\n",
            "vinta\n",
            "HBUHSD\n",
            "quobit\n",
            "checkcheckzz\n",
            "flip\n",
            "m4rc1e/adhoc-scripts\n",
            "Limit passing is 320\n",
            "Got contributor list 1\n",
            "m4rc1e\n",
            "flip\n",
            "AMekss/assert\n",
            "Limit passing is 319\n",
            "Got contributor list 2\n",
            "AMekss\n",
            "JErBerlin\n",
            "flip\n",
            "ajaxorg/ace-builds\n",
            "Limit passing is 318\n",
            "Got contributor list 10\n",
            "hyandell\n",
            "zefhemel\n",
            "eliduke\n",
            "lennartcl\n",
            "mat007\n",
            "lalogrosz\n",
            "nightwing\n",
            "kennynaoh\n",
            "bsvensson\n",
            "304NotModified\n",
            "flip\n",
            "ms-ati/docker-rvm\n",
            "Limit passing is 317\n",
            "Got contributor list 2\n",
            "btmash\n",
            "ms-ati\n",
            "flip\n",
            "andyvanee/andyvanee\n",
            "Limit passing is 316\n",
            "Got contributor list 2\n",
            "girasquid\n",
            "andyvanee\n",
            "flip\n",
            "wildfoundry/asgiref\n",
            "Limit passing is 315\n",
            "Got contributor list 1\n",
            "andrewgodwin\n",
            "flip\n",
            "Petro31/ad_count_entities\n",
            "Limit passing is 314\n",
            "Got contributor list 1\n",
            "Petro31\n",
            "flip\n",
            "gyaresu/arduinoC\n",
            "Limit passing is 313\n",
            "Got contributor list 1\n",
            "gyaresu\n",
            "flip\n",
            "take-five/acts_as_ordered_tree\n",
            "Limit passing is 312\n",
            "Got contributor list 6\n",
            "vkuznetsov\n",
            "take-five\n",
            "jkl1337\n",
            "felixbuenemann\n",
            "bibendi\n",
            "Napolskih\n",
            "flip\n",
            "nathalie-tate/CSE345\n",
            "Limit passing is 311\n",
            "Got contributor list 1\n",
            "nathalie-tate\n",
            "flip\n",
            "applidium/ADClusterMapView\n",
            "Limit passing is 310\n",
            "Got contributor list 6\n",
            "xfyre\n",
            "Jurollet\n",
            "steinerl\n",
            "scheinem\n",
            "alloy\n",
            "Ecco\n",
            "flip\n",
            "notapatch/book_trading_club\n",
            "Limit passing is 309\n",
            "Got contributor list 1\n",
            "notapatch\n",
            "flip\n",
            "fkromer/30-seconds-of-functional-python-programming\n",
            "Limit passing is 308\n",
            "Got contributor list 1\n",
            "fkromer\n",
            "flip\n",
            "jettify/aiohttp_polls\n",
            "Limit passing is 307\n",
            "Got contributor list 1\n",
            "jettify\n",
            "flip\n",
            "sferik/active_emoji\n",
            "Limit passing is 306\n",
            "Got contributor list 10\n",
            "jin\n",
            "ChrisGuzman\n",
            "juanpaulo\n",
            "yuki24\n",
            "mcfiredrill\n",
            "audibleblink\n",
            "tony612\n",
            "phiggins\n",
            "ipmsteven\n",
            "amatsuda\n",
            "flip\n",
            "afsy/website\n",
            "Limit passing is 305\n",
            "Got contributor list 10\n",
            "jeremyFreeAgent\n",
            "tyx\n",
            "stof\n",
            "Nek-\n",
            "nicolas-grekas\n",
            "remijanot-anaxago\n",
            "Roshyo\n",
            "dependabot[bot]\n",
            "spyl94\n",
            "JSOff\n",
            "flip\n",
            "mohGhazala96/ai-logical-agent\n",
            "Limit passing is 304\n",
            "Got contributor list 1\n",
            "mohGhazala96\n",
            "flip\n",
            "clojure-emacs/cider\n",
            "Limit passing is 303\n",
            "Got contributor list 10\n",
            "tsdh\n",
            "xiongtx\n",
            "grammati\n",
            "juergenhoetzel\n",
            "gtrak\n",
            "purcell\n",
            "gonewest818\n",
            "cskksc\n",
            "mallt\n",
            "bbatsov\n",
            "flip\n",
            "asvetlov/aioscript\n",
            "Limit passing is 303\n",
            "Got contributor list 2\n",
            "litwisha\n",
            "karambolishe\n",
            "flip\n",
            "worstcase/blockade\n",
            "Limit passing is 302\n",
            "Got contributor list 10\n",
            "aidanhs\n",
            "stegben\n",
            "pdmars\n",
            "joepadmiraal\n",
            "erszcz\n",
            "kklocek\n",
            "gitaroktato\n",
            "turtlebender\n",
            "buzztroll\n",
            "evverx\n",
            "flip\n",
            "matryer/bitbar-plugins\n",
            "Limit passing is 301\n",
            "Got contributor list 10\n",
            "parvez\n",
            "anupsabraham\n",
            "derimagia\n",
            "iosdeveloper\n",
            "kodie\n",
            "chamini2\n",
            "manojlds\n",
            "carlsonorozco\n",
            "matryer\n",
            "alexandregz\n",
            "flip\n",
            "stegben/2015-NTU-ML-Final\n",
            "Limit passing is 300\n",
            "Got contributor list 1\n",
            "stegben\n",
            "flip\n",
            "forem/forem\n",
            "Limit passing is 299\n",
            "Got contributor list 10\n",
            "vaidehijoshi\n",
            "Rafi993\n",
            "lightalloy\n",
            "dependabot-preview[bot]\n",
            "dependabot[bot]\n",
            "Glennmen\n",
            "Zhao-Andy\n",
            "juliannatetreault\n",
            "Amorpheuz\n",
            "arku\n",
            "flip\n",
            "davidgtonge/atom-test\n",
            "Limit passing is 298\n",
            "Got contributor list 0\n",
            "No contributors\n",
            "hi\n",
            "here\n",
            "1649\n",
            "flip\n",
            "edull24/alphabetizer\n",
            "Limit passing is 297\n",
            "Got contributor list 1\n",
            "edull24\n",
            "flip\n",
            "Swordfish90/qmltermwidget\n",
            "Limit passing is 296\n",
            "Got contributor list 10\n",
            "yarons\n",
            "raboof\n",
            "smarquespt\n",
            "Swordfish90\n",
            "pawelkoston\n",
            "SafaAlfulaij\n",
            "palinek\n",
            "picospuch\n",
            "dglent\n",
            "aheck\n",
            "flip\n",
            "cakebytheoceanLuo/cakebytheoceanLuo.github.io\n",
            "Limit passing is 295\n",
            "Got contributor list 1\n",
            "cakebytheoceanLuo\n",
            "flip\n",
            "attr-encrypted/attr_encrypted\n",
            "Limit passing is 294\n",
            "Got contributor list 10\n",
            "connorshea\n",
            "arthurnn\n",
            "tamird\n",
            "grosser\n",
            "eugeneius\n",
            "tejasmanohar\n",
            "DouweM\n",
            "jish\n",
            "saghaulor\n",
            "mwean\n",
            "flip\n",
            "baddasslighting/buddleia_orgasmica\n",
            "Limit passing is 293\n",
            "Got contributor list 4\n",
            "katherinel\n",
            "gnusosa\n",
            "saghaulor\n",
            "hobostew\n",
            "flip\n",
            "home-assistant-libs/aiohue\n",
            "Limit passing is 292\n",
            "Got contributor list 10\n",
            "linusg\n",
            "fabaff\n",
            "ubnt-marc-khouri\n",
            "azogue\n",
            "raymondelooff\n",
            "dependabot[bot]\n",
            "balloob\n",
            "kampfschlaefer\n",
            "dependabot-preview[bot]\n",
            "bramkragten\n",
            "flip\n",
            "hassio-addons/addon-appdaemon\n",
            "Limit passing is 291\n",
            "Got contributor list 3\n",
            "renovate[bot]\n",
            "frenck\n",
            "timmo001\n",
            "flip\n",
            "bogdan/accept_values_for\n",
            "Limit passing is 290\n",
            "Got contributor list 10\n",
            "deepj\n",
            "bogdan\n",
            "petergoldstein\n",
            "morygonzalez\n",
            "christiannelson\n",
            "lukerollans\n",
            "softwaregravy\n",
            "masterkain\n",
            "zhuravel\n",
            "laserlemon\n",
            "flip\n",
            "chalisegrogan/everybitjs-example\n",
            "Limit passing is 289\n",
            "Got contributor list 1\n",
            "chalisegrogan\n",
            "flip\n",
            "cloudfoundry/bosh-deployment\n",
            "Limit passing is 288\n",
            "Got contributor list 10\n",
            "luan\n",
            "jaresty\n",
            "cunnie\n",
            "genevieve\n",
            "mattcui\n",
            "h4xnoodle\n",
            "beyhan\n",
            "charleshansen\n",
            "mrosecrance\n",
            "mfine30\n",
            "flip\n",
            "giantswarm/prometheus\n",
            "Limit passing is 287\n",
            "Got contributor list 10\n",
            "jperville\n",
            "indyfree\n",
            "stevenaldinger\n",
            "oliver006\n",
            "jgsqware\n",
            "pipo02mix\n",
            "MarcelMue\n",
            "marians\n",
            "zatricky\n",
            "Slahser\n",
            "flip\n",
            "turtlebender/agamemnon\n",
            "Limit passing is 286\n",
            "Got contributor list 2\n",
            "trhowe\n",
            "turtlebender\n",
            "flip\n",
            "BinaryMuse/chrome-fast-tab-switcher\n",
            "Limit passing is 285\n",
            "Got contributor list 1\n",
            "BinaryMuse\n",
            "flip\n",
            "lalopmak/amphetype-backup\n",
            "Limit passing is 284\n",
            "Got contributor list 1\n",
            "lalopmak\n",
            "flip\n",
            "lydiapintscher/social-media-guide\n",
            "Limit passing is 283\n",
            "Got contributor list 1\n",
            "lydiapintscher\n",
            "flip\n",
            "swalkinshaw/adjusted-cost-base\n",
            "Limit passing is 282\n",
            "Got contributor list 1\n",
            "swalkinshaw\n",
            "flip\n",
            "JTL1992/alizbeo-flow-db-admin\n",
            "Limit passing is 281\n",
            "Got contributor list 1\n",
            "JTL1992\n",
            "flip\n",
            "SherifElattar/acml-project\n",
            "Limit passing is 280\n",
            "Got contributor list 2\n",
            "SherifElattar\n",
            "yasmeenrkeen\n",
            "flip\n",
            "vkuznetsov/epoll_experiment\n",
            "Limit passing is 279\n",
            "Got contributor list 1\n",
            "vkuznetsov\n",
            "flip\n",
            "caolan/async\n",
            "Limit passing is 278\n",
            "Got contributor list 10\n",
            "mikermcneil\n",
            "fritx\n",
            "jessehouchins\n",
            "allanca\n",
            "andalm\n",
            "bojand\n",
            "suguru03\n",
            "raydog\n",
            "Kikobeats\n",
            "fregante\n",
            "flip\n",
            "nickneos/Appdaemon-Xiaomi-Doorbell\n",
            "Limit passing is 277\n",
            "Got contributor list 1\n",
            "nickneos\n",
            "flip\n",
            "emmaguo/angular-poller\n",
            "Limit passing is 276\n",
            "Got contributor list 8\n",
            "underscorebrody\n",
            "emmaguo\n",
            "shlomiassaf\n",
            "bdwain\n",
            "AnimaLupi\n",
            "philjones88\n",
            "gugiserman\n",
            "moneytree-doug\n",
            "flip\n",
            "hassio-addons/addon-ftp\n",
            "Limit passing is 276\n",
            "Got contributor list 5\n",
            "sinclairpaul\n",
            "frenck\n",
            "renovate[bot]\n",
            "timmo001\n",
            "tjorim\n",
            "flip\n",
            "andreikop/enki\n",
            "Limit passing is 275\n",
            "Got contributor list 10\n",
            "bjones1\n",
            "abitrolly\n",
            "andreikop\n",
            "vi\n",
            "evgeni\n",
            "Yajo\n",
            "rockiger\n",
            "panhejia\n",
            "dglent\n",
            "hlamer\n",
            "flip\n",
            "jnurmine/pelican-entropyish\n",
            "Limit passing is 274\n",
            "Got contributor list 1\n",
            "jnurmine\n",
            "flip\n",
            "Shopify/bootsnap\n",
            "Limit passing is 273\n",
            "Got contributor list 10\n",
            "stanhu\n",
            "dylanahsmith\n",
            "lavoiesl\n",
            "eregon\n",
            "jhawthorn\n",
            "burke\n",
            "rafaelfranca\n",
            "jpogran\n",
            "jules2689\n",
            "tenderlove\n",
            "flip\n",
            "AmpersandJS/ampersandjs.com\n",
            "Limit passing is 273\n",
            "Got contributor list 10\n",
            "kamilogorek\n",
            "e2jk\n",
            "kahlil\n",
            "gyaresu\n",
            "edull24\n",
            "gsf\n",
            "HipsterBrown\n",
            "thefoxis\n",
            "lynnandtonic\n",
            "jennwrites\n",
            "flip\n",
            "maxbube/mydumper\n",
            "Limit passing is 272\n",
            "Got contributor list 10\n",
            "dupondje\n",
            "raags\n",
            "Sp1l\n",
            "hydrapolic\n",
            "tanji\n",
            "webbed88\n",
            "mfrederico\n",
            "catap\n",
            "maxbube\n",
            "midom\n",
            "flip\n",
            "krichter722/alien\n",
            "Limit passing is 271\n",
            "Got contributor list 1\n",
            "krichter722\n",
            "flip\n",
            "adjust/airbax\n",
            "Limit passing is 270\n",
            "Got contributor list 10\n",
            "Cifer-Y\n",
            "michalmuskala\n",
            "gaynetdinov\n",
            "whatyouhide\n",
            "novaugust\n",
            "take-five\n",
            "TigerWolf\n",
            "philss\n",
            "danhper\n",
            "lexmag\n",
            "flip\n",
            "SimpleMobileTools/Simple-Calendar\n",
            "Limit passing is 269\n",
            "Got contributor list 10\n",
            "spkprs\n",
            "youdly\n",
            "solokot\n",
            "nopeppermint\n",
            "schapira\n",
            "antonv6\n",
            "gregory678\n",
            "jtj9817\n",
            "osering\n",
            "xmgz\n",
            "flip\n",
            "AppImage/AppImageKit\n",
            "Limit passing is 268\n",
            "Got contributor list 10\n",
            "CodeMouse92\n",
            "hyronx\n",
            "TheAssassin\n",
            "azubieta\n",
            "tim-janik\n",
            "bruce-one\n",
            "ferdnyc\n",
            "teras\n",
            "orivej\n",
            "probonopd\n",
            "flip\n",
            "jarondl/android-zipfileprovider\n",
            "Limit passing is 267\n",
            "Got contributor list 1\n",
            "jarondl\n",
            "flip\n",
            "sinclairpaul/addon-bookstack\n",
            "Limit passing is 266\n",
            "Got contributor list 1\n",
            "sinclairpaul\n",
            "flip\n",
            "RedHatTraining/DO288-apps\n",
            "Limit passing is 265\n",
            "Got contributor list 7\n",
            "dkolepp\n",
            "ebramirez\n",
            "rsriniva\n",
            "flozanorht\n",
            "imcsk8\n",
            "richardallred\n",
            "m-czernek\n",
            "flip\n",
            "jpogran/blog\n",
            "Limit passing is 264\n",
            "Got contributor list 1\n",
            "jpogran\n",
            "flip\n",
            "es-shims/array-includes\n",
            "Limit passing is 263\n",
            "Got contributor list 2\n",
            "ljharb\n",
            "JPeer264\n",
            "flip\n",
            "babel/website\n",
            "Limit passing is 262\n",
            "Got contributor list 10\n",
            "STRML\n",
            "nicolo-ribaudo\n",
            "kentcdodds\n",
            "zloirock\n",
            "raspo\n",
            "sebmck\n",
            "QC-L\n",
            "sparty02\n",
            "Daniel15\n",
            "loganfsmyth\n",
            "flip\n",
            "carlsonorozco/about-sonarqube\n",
            "Limit passing is 261\n",
            "Got contributor list 1\n",
            "carlsonorozco\n",
            "flip\n",
            "Stebalien/acl-sys\n",
            "Limit passing is 260\n",
            "Got contributor list 3\n",
            "aidanhs\n",
            "Stebalien\n",
            "intgr\n",
            "flip\n",
            "rajasegar/awesome-micro-frontends\n",
            "Limit passing is 259\n",
            "Got contributor list 10\n",
            "rajasegar-c\n",
            "marconi1992\n",
            "nonblocking\n",
            "stephanebenayoun\n",
            "kuitos\n",
            "gauravbehere\n",
            "naltatis\n",
            "StyleT\n",
            "alvinhui\n",
            "neilsmind\n",
            "flip\n",
            "jin/algorithms_and_data_structures.rb\n",
            "Limit passing is 258\n",
            "Got contributor list 1\n",
            "jin\n",
            "flip\n",
            "kanwei/algorithms\n",
            "Limit passing is 257\n",
            "Got contributor list 8\n",
            "anothermh\n",
            "loganb\n",
            "gnufied\n",
            "amanelis\n",
            "ysksn\n",
            "febuiles\n",
            "kanwei\n",
            "dgtized\n",
            "flip\n",
            "dkolepp/gchat-bot\n",
            "Limit passing is 256\n",
            "Got contributor list 1\n",
            "dkolepp\n",
            "flip\n",
            "AmpersandJS/ampersand-select-view\n",
            "Limit passing is 255\n",
            "Got contributor list 10\n",
            "KimPeeters\n",
            "imorrison\n",
            "timwis\n",
            "dhritzkiv\n",
            "HenrikJoreteg\n",
            "e2jk\n",
            "wraithgar\n",
            "hailwood\n",
            "kamilogorek\n",
            "cdaringe\n",
            "flip\n",
            "jfmyers9/astroturf-release\n",
            "Limit passing is 254\n",
            "Got contributor list 2\n",
            "luan\n",
            "jfmyers9\n",
            "flip\n",
            "derimagia/chrome-styles-check\n",
            "Limit passing is 253\n",
            "Got contributor list 1\n",
            "derimagia\n",
            "flip\n",
            "morygonzalez/c3-hands-on\n",
            "Limit passing is 252\n",
            "Got contributor list 1\n",
            "morygonzalez\n",
            "flip\n",
            "tvandame/back-end-developer-interview-questions\n",
            "Limit passing is 251\n",
            "Got contributor list 10\n",
            "jaeseung172\n",
            "EvanPurkhiser\n",
            "jmurowaniecki\n",
            "tvandame\n",
            "anandpandey\n",
            "DevSusu\n",
            "SeanGallen\n",
            "jeroenvisser101\n",
            "phillprice\n",
            "sebutbult\n",
            "flip\n",
            "bojand/bojand\n",
            "Limit passing is 250\n",
            "Got contributor list 1\n",
            "bojand\n",
            "flip\n",
            "karambolishe/overviews\n",
            "Limit passing is 249\n",
            "Got contributor list 1\n",
            "karambolishe\n",
            "flip\n",
            "drewzboto/grunt-connect-proxy\n",
            "Limit passing is 248\n",
            "Got contributor list 10\n",
            "shairez\n",
            "flaviogranero\n",
            "matthieubulte\n",
            "lauripiispanen\n",
            "eddiemonge\n",
            "slawrence\n",
            "ChadKillingsworth\n",
            "abanctelchevrel\n",
            "tschaub\n",
            "cinaglia\n",
            "flip\n",
            "chriskempson/base16-vim\n",
            "Limit passing is 247\n",
            "Got contributor list 10\n",
            "DLWood1001\n",
            "c089\n",
            "anuragsoni\n",
            "jlesquembre\n",
            "mmizutani\n",
            "nguyenj\n",
            "idhx\n",
            "chastell\n",
            "poliquin\n",
            "arowla\n",
            "flip\n",
            "richmoore/burpsuite_python_examples\n",
            "Limit passing is 246\n",
            "Got contributor list 1\n",
            "richmoore\n",
            "flip\n",
            "theironcook/Backbone.ModelBinder\n",
            "Limit passing is 245\n",
            "Got contributor list 10\n",
            "kubelsmieci\n",
            "sqren\n",
            "palodequeso\n",
            "flisky\n",
            "mostly-magic\n",
            "apfritts\n",
            "theironcook\n",
            "SimenB\n",
            "mcguinness\n",
            "marsch\n",
            "flip\n",
            "erszcz/agrajag\n",
            "Limit passing is 244\n",
            "Got contributor list 1\n",
            "erszcz\n",
            "flip\n",
            "marians/audiocalc\n",
            "Limit passing is 243\n",
            "Got contributor list 1\n",
            "marians\n",
            "flip\n",
            "AmpersandJS/ampersand-select-view\n",
            "Limit passing is 243\n",
            "Got contributor list 10\n",
            "hailwood\n",
            "HenrikJoreteg\n",
            "bryanspears\n",
            "KimPeeters\n",
            "cdaringe\n",
            "lukekarrys\n",
            "e2jk\n",
            "timwis\n",
            "dhritzkiv\n",
            "bear\n",
            "flip\n",
            "diclophis/ansible-deepdream\n",
            "Limit passing is 242\n",
            "Got contributor list 1\n",
            "diclophis\n",
            "flip\n",
            "apiaryio/api-blueprint\n",
            "Limit passing is 241\n",
            "Got contributor list 10\n",
            "sbellem\n",
            "kuba-kubula\n",
            "neonichu\n",
            "d1rk\n",
            "kylef\n",
            "jean\n",
            "fakepop\n",
            "danielgtaylor\n",
            "zdne\n",
            "adammbalogh\n",
            "flip\n",
            "apache/ambari\n",
            "Limit passing is 240\n",
            "Got contributor list 10\n",
            "dlysnichenko\n",
            "jaoki\n",
            "aonishuk\n",
            "atkach\n",
            "pallavkul\n",
            "hiveww\n",
            "Jetly-Jaimin\n",
            "swagle\n",
            "u39kun\n",
            "gauravn7\n",
            "flip\n",
            "spyl94/bdd-api-example\n",
            "Limit passing is 239\n",
            "Got contributor list 0\n",
            "No contributors\n",
            "hi\n",
            "here\n",
            "2639\n",
            "flip\n",
            "kaizenplatform/capistrano-db-mirror\n",
            "Limit passing is 238\n",
            "Got contributor list 1\n",
            "dtaniwaki\n",
            "flip\n",
            "adammbalogh/key-value-store-file\n",
            "Limit passing is 237\n",
            "Got contributor list 2\n",
            "fire015\n",
            "adammbalogh\n",
            "flip\n",
            "alienngator/cld2\n",
            "Limit passing is 236\n",
            "Got contributor list 5\n",
            "paleozogt\n",
            "alienngator\n",
            "jtoy\n",
            "rojotek\n",
            "alessandrobanjo\n",
            "flip\n",
            "flyve-mdm/android-inventory-library\n",
            "Limit passing is 235\n",
            "Got contributor list 10\n",
            "ajsb85\n",
            "greenkeeper[bot]\n",
            "rafaelje\n",
            "teclib-bot\n",
            "JMEspiz\n",
            "lalogrosz\n",
            "kevinesaa\n",
            "MohamedHussein02\n",
            "dependabot[bot]\n",
            "Naylin15\n",
            "flip\n",
            "django-extensions/django-extensions\n",
            "Limit passing is 234\n",
            "Got contributor list 10\n",
            "tehfink\n",
            "rizumu\n",
            "jdufresne\n",
            "karranb\n",
            "marcosdiez\n",
            "domandinho\n",
            "Kronuz\n",
            "vstoykov\n",
            "mbi\n",
            "timgraham\n",
            "flip\n",
            "jo/acts_as_xapian\n",
            "Limit passing is 233\n",
            "Got contributor list 7\n",
            "frabcus\n",
            "dr-exact\n",
            "jo\n",
            "schof\n",
            "boone\n",
            "Overbryd\n",
            "kuahyeow\n",
            "flip\n",
            "pqrs-org/KE-complex_modifications\n",
            "Limit passing is 232\n",
            "Got contributor list 10\n",
            "thooams\n",
            "tekezo\n",
            "muyinliu\n",
            "jeebak\n",
            "GeoffreyBooth\n",
            "jthedwalker\n",
            "apm1467\n",
            "vinceau\n",
            "RianGray\n",
            "hailite\n",
            "flip\n",
            "anothermh/cies\n",
            "Limit passing is 231\n",
            "Got contributor list 1\n",
            "anothermh\n",
            "flip\n",
            "Cifer-Y/7days\n",
            "Limit passing is 230\n",
            "Got contributor list 2\n",
            "soberzhou\n",
            "Cifer-Y\n",
            "flip\n",
            "libproxy/libproxy\n",
            "Limit passing is 229\n",
            "Got contributor list 10\n",
            "Vogtinator\n",
            "kraj\n",
            "tintou\n",
            "bigon\n",
            "mcatanzaro\n",
            "wRAR\n",
            "rjmporter\n",
            "rakuco\n",
            "albert-astals-cid-kdab\n",
            "iainlane\n",
            "flip\n",
            "dtaniwaki/activerecord-after-transaction\n",
            "Limit passing is 228\n",
            "Got contributor list 1\n",
            "dtaniwaki\n",
            "flip\n",
            "appoxy/aws\n",
            "Limit passing is 227\n",
            "Got contributor list 10\n",
            "douglasr\n",
            "amalagaura\n",
            "apsoto\n",
            "NeMO84\n",
            "friedmag\n",
            "jrosengren\n",
            "phiggins\n",
            "Meekohi\n",
            "treeder\n",
            "sjones4\n",
            "flip\n",
            "aio-libs/aiocassandra\n",
            "Limit passing is 226\n",
            "Got contributor list 7\n",
            "litwisha\n",
            "hellysmile\n",
            "asvetlov\n",
            "pcinkh\n",
            "FedirAlifirenko\n",
            "pyup-bot\n",
            "webknjaz\n",
            "flip\n",
            "hyperion-project/hyperion.ng\n",
            "Limit passing is 225\n",
            "Got contributor list 10\n",
            "dependabot[bot]\n",
            "redPanther\n",
            "maxnet\n",
            "brindosch\n",
            "WoLpH\n",
            "m-seker\n",
            "NicoHood\n",
            "kammerjaeger\n",
            "Funatiq\n",
            "penfold42\n",
            "flip\n",
            "pingcap/awesome-database-learning\n",
            "Limit passing is 225\n",
            "Got contributor list 10\n",
            "cakebytheoceanLuo\n",
            "EthanZhu-DB\n",
            "laixintao\n",
            "palash25\n",
            "woodpenker\n",
            "c4pt0r\n",
            "queenypingcap\n",
            "b41sh\n",
            "ekalinin\n",
            "fxrcode\n",
            "flip\n",
            "denismakogon/aiohttp-restful-api-service\n",
            "Limit passing is 224\n",
            "Got contributor list 1\n",
            "denismakogon\n",
            "flip\n",
            "fabiomontefuscolo/docker-cyrusimapd\n",
            "Limit passing is 223\n",
            "Got contributor list 1\n",
            "fabiomontefuscolo\n",
            "flip\n",
            "Slahser/.github\n",
            "Limit passing is 222\n",
            "Got contributor list 1\n",
            "Slahser\n",
            "flip\n",
            "smtlaissezfaire/active_record_attribute_parser\n",
            "Limit passing is 221\n",
            "Got contributor list 1\n",
            "smtlaissezfaire\n",
            "flip\n",
            "Petro31/ad_convert_media_volume\n",
            "Limit passing is 220\n",
            "Got contributor list 1\n",
            "Petro31\n",
            "flip\n",
            "tejasmanohar/98-css-injector\n",
            "Limit passing is 219\n",
            "Got contributor list 1\n",
            "tejasmanohar\n",
            "flip\n",
            "dgtized/advent-of-code-2019\n",
            "Limit passing is 218\n",
            "Got contributor list 1\n",
            "dgtized\n",
            "flip\n",
            "pingcap/tidb\n",
            "Limit passing is 217\n",
            "Got contributor list 10\n",
            "qiuyesuifeng\n",
            "lamxTyler\n",
            "lonng\n",
            "qw4990\n",
            "tiancaiamao\n",
            "hanfei1991\n",
            "disksing\n",
            "c4pt0r\n",
            "lzmhhh123\n",
            "crazycs520\n"
          ],
          "name": "stdout"
        },
        {
          "output_type": "error",
          "ename": "GithubException",
          "evalue": "ignored",
          "traceback": [
            "\u001b[0;31m---------------------------------------------------------------------------\u001b[0m",
            "\u001b[0;31mGithubException\u001b[0m                           Traceback (most recent call last)",
            "\u001b[0;32m<ipython-input-87-a41044d93ca8>\u001b[0m in \u001b[0;36m<module>\u001b[0;34m()\u001b[0m\n\u001b[1;32m     86\u001b[0m \u001b[0;31m#repo_found=local_search(repo,800,29,29)\u001b[0m\u001b[0;34m\u001b[0m\u001b[0;34m\u001b[0m\u001b[0;34m\u001b[0m\u001b[0m\n\u001b[1;32m     87\u001b[0m \u001b[0mrepo\u001b[0m\u001b[0;34m=\u001b[0m\u001b[0mrepo_found\u001b[0m\u001b[0;34m[\u001b[0m\u001b[0;36m0\u001b[0m\u001b[0;34m]\u001b[0m\u001b[0;34m\u001b[0m\u001b[0;34m\u001b[0m\u001b[0m\n\u001b[0;32m---> 88\u001b[0;31m \u001b[0mrepo_found\u001b[0m\u001b[0;34m,\u001b[0m\u001b[0mbiglist\u001b[0m\u001b[0;34m=\u001b[0m\u001b[0mlocal_search\u001b[0m\u001b[0;34m(\u001b[0m\u001b[0mrepo\u001b[0m\u001b[0;34m,\u001b[0m\u001b[0;36m400\u001b[0m\u001b[0;34m,\u001b[0m\u001b[0;36m10\u001b[0m\u001b[0;34m,\u001b[0m\u001b[0;36m5\u001b[0m\u001b[0;34m,\u001b[0m\u001b[0;34m[\u001b[0m\u001b[0;34m]\u001b[0m\u001b[0;34m,\u001b[0m\u001b[0;34m[\u001b[0m\u001b[0mrepo\u001b[0m\u001b[0;34m]\u001b[0m\u001b[0;34m,\u001b[0m\u001b[0;34m[\u001b[0m\u001b[0;34m]\u001b[0m\u001b[0;34m)\u001b[0m\u001b[0;34m\u001b[0m\u001b[0;34m\u001b[0m\u001b[0m\n\u001b[0m",
            "\u001b[0;32m<ipython-input-87-a41044d93ca8>\u001b[0m in \u001b[0;36mlocal_search\u001b[0;34m(repo, limit, alpha, beta, biggerlist, repo_found, cont_list)\u001b[0m\n\u001b[1;32m     61\u001b[0m       \u001b[0mprint\u001b[0m\u001b[0;34m(\u001b[0m\u001b[0mrepo2\u001b[0m\u001b[0;34m.\u001b[0m\u001b[0mfull_name\u001b[0m\u001b[0;34m)\u001b[0m\u001b[0;34m\u001b[0m\u001b[0;34m\u001b[0m\u001b[0m\n\u001b[1;32m     62\u001b[0m       \u001b[0mprint\u001b[0m\u001b[0;34m(\u001b[0m\u001b[0;34m\"Limit passing is \"\u001b[0m\u001b[0;34m+\u001b[0m\u001b[0mstr\u001b[0m\u001b[0;34m(\u001b[0m\u001b[0mlimit\u001b[0m\u001b[0;34m-\u001b[0m\u001b[0mlen\u001b[0m\u001b[0;34m(\u001b[0m\u001b[0mbiggerlist\u001b[0m\u001b[0;34m)\u001b[0m\u001b[0;34m)\u001b[0m\u001b[0;34m)\u001b[0m\u001b[0;34m\u001b[0m\u001b[0;34m\u001b[0m\u001b[0m\n\u001b[0;32m---> 63\u001b[0;31m       \u001b[0mrepo_found2\u001b[0m\u001b[0;34m,\u001b[0m\u001b[0mbiggerlist1\u001b[0m\u001b[0;34m=\u001b[0m\u001b[0mlocal_search\u001b[0m\u001b[0;34m(\u001b[0m\u001b[0mrepo2\u001b[0m\u001b[0;34m,\u001b[0m\u001b[0mlimit\u001b[0m\u001b[0;34m,\u001b[0m\u001b[0malpha\u001b[0m\u001b[0;34m,\u001b[0m\u001b[0mbeta\u001b[0m\u001b[0;34m,\u001b[0m\u001b[0mbiggerlist\u001b[0m\u001b[0;34m,\u001b[0m\u001b[0mrepo_found\u001b[0m\u001b[0;34m,\u001b[0m\u001b[0mcont_list\u001b[0m\u001b[0;34m)\u001b[0m\u001b[0;34m\u001b[0m\u001b[0;34m\u001b[0m\u001b[0m\n\u001b[0m\u001b[1;32m     64\u001b[0m       \u001b[0mprint\u001b[0m\u001b[0;34m(\u001b[0m\u001b[0;34m\"hi\"\u001b[0m\u001b[0;34m)\u001b[0m\u001b[0;34m\u001b[0m\u001b[0;34m\u001b[0m\u001b[0m\n\u001b[1;32m     65\u001b[0m       \u001b[0;32mfor\u001b[0m \u001b[0mrepo\u001b[0m \u001b[0;32min\u001b[0m \u001b[0mbiggerlist1\u001b[0m\u001b[0;34m:\u001b[0m\u001b[0;34m\u001b[0m\u001b[0;34m\u001b[0m\u001b[0m\n",
            "\u001b[0;32m<ipython-input-87-a41044d93ca8>\u001b[0m in \u001b[0;36mlocal_search\u001b[0;34m(repo, limit, alpha, beta, biggerlist, repo_found, cont_list)\u001b[0m\n\u001b[1;32m     61\u001b[0m       \u001b[0mprint\u001b[0m\u001b[0;34m(\u001b[0m\u001b[0mrepo2\u001b[0m\u001b[0;34m.\u001b[0m\u001b[0mfull_name\u001b[0m\u001b[0;34m)\u001b[0m\u001b[0;34m\u001b[0m\u001b[0;34m\u001b[0m\u001b[0m\n\u001b[1;32m     62\u001b[0m       \u001b[0mprint\u001b[0m\u001b[0;34m(\u001b[0m\u001b[0;34m\"Limit passing is \"\u001b[0m\u001b[0;34m+\u001b[0m\u001b[0mstr\u001b[0m\u001b[0;34m(\u001b[0m\u001b[0mlimit\u001b[0m\u001b[0;34m-\u001b[0m\u001b[0mlen\u001b[0m\u001b[0;34m(\u001b[0m\u001b[0mbiggerlist\u001b[0m\u001b[0;34m)\u001b[0m\u001b[0;34m)\u001b[0m\u001b[0;34m)\u001b[0m\u001b[0;34m\u001b[0m\u001b[0;34m\u001b[0m\u001b[0m\n\u001b[0;32m---> 63\u001b[0;31m       \u001b[0mrepo_found2\u001b[0m\u001b[0;34m,\u001b[0m\u001b[0mbiggerlist1\u001b[0m\u001b[0;34m=\u001b[0m\u001b[0mlocal_search\u001b[0m\u001b[0;34m(\u001b[0m\u001b[0mrepo2\u001b[0m\u001b[0;34m,\u001b[0m\u001b[0mlimit\u001b[0m\u001b[0;34m,\u001b[0m\u001b[0malpha\u001b[0m\u001b[0;34m,\u001b[0m\u001b[0mbeta\u001b[0m\u001b[0;34m,\u001b[0m\u001b[0mbiggerlist\u001b[0m\u001b[0;34m,\u001b[0m\u001b[0mrepo_found\u001b[0m\u001b[0;34m,\u001b[0m\u001b[0mcont_list\u001b[0m\u001b[0;34m)\u001b[0m\u001b[0;34m\u001b[0m\u001b[0;34m\u001b[0m\u001b[0m\n\u001b[0m\u001b[1;32m     64\u001b[0m       \u001b[0mprint\u001b[0m\u001b[0;34m(\u001b[0m\u001b[0;34m\"hi\"\u001b[0m\u001b[0;34m)\u001b[0m\u001b[0;34m\u001b[0m\u001b[0;34m\u001b[0m\u001b[0m\n\u001b[1;32m     65\u001b[0m       \u001b[0;32mfor\u001b[0m \u001b[0mrepo\u001b[0m \u001b[0;32min\u001b[0m \u001b[0mbiggerlist1\u001b[0m\u001b[0;34m:\u001b[0m\u001b[0;34m\u001b[0m\u001b[0;34m\u001b[0m\u001b[0m\n",
            "\u001b[0;32m<ipython-input-87-a41044d93ca8>\u001b[0m in \u001b[0;36mlocal_search\u001b[0;34m(repo, limit, alpha, beta, biggerlist, repo_found, cont_list)\u001b[0m\n\u001b[1;32m     61\u001b[0m       \u001b[0mprint\u001b[0m\u001b[0;34m(\u001b[0m\u001b[0mrepo2\u001b[0m\u001b[0;34m.\u001b[0m\u001b[0mfull_name\u001b[0m\u001b[0;34m)\u001b[0m\u001b[0;34m\u001b[0m\u001b[0;34m\u001b[0m\u001b[0m\n\u001b[1;32m     62\u001b[0m       \u001b[0mprint\u001b[0m\u001b[0;34m(\u001b[0m\u001b[0;34m\"Limit passing is \"\u001b[0m\u001b[0;34m+\u001b[0m\u001b[0mstr\u001b[0m\u001b[0;34m(\u001b[0m\u001b[0mlimit\u001b[0m\u001b[0;34m-\u001b[0m\u001b[0mlen\u001b[0m\u001b[0;34m(\u001b[0m\u001b[0mbiggerlist\u001b[0m\u001b[0;34m)\u001b[0m\u001b[0;34m)\u001b[0m\u001b[0;34m)\u001b[0m\u001b[0;34m\u001b[0m\u001b[0;34m\u001b[0m\u001b[0m\n\u001b[0;32m---> 63\u001b[0;31m       \u001b[0mrepo_found2\u001b[0m\u001b[0;34m,\u001b[0m\u001b[0mbiggerlist1\u001b[0m\u001b[0;34m=\u001b[0m\u001b[0mlocal_search\u001b[0m\u001b[0;34m(\u001b[0m\u001b[0mrepo2\u001b[0m\u001b[0;34m,\u001b[0m\u001b[0mlimit\u001b[0m\u001b[0;34m,\u001b[0m\u001b[0malpha\u001b[0m\u001b[0;34m,\u001b[0m\u001b[0mbeta\u001b[0m\u001b[0;34m,\u001b[0m\u001b[0mbiggerlist\u001b[0m\u001b[0;34m,\u001b[0m\u001b[0mrepo_found\u001b[0m\u001b[0;34m,\u001b[0m\u001b[0mcont_list\u001b[0m\u001b[0;34m)\u001b[0m\u001b[0;34m\u001b[0m\u001b[0;34m\u001b[0m\u001b[0m\n\u001b[0m\u001b[1;32m     64\u001b[0m       \u001b[0mprint\u001b[0m\u001b[0;34m(\u001b[0m\u001b[0;34m\"hi\"\u001b[0m\u001b[0;34m)\u001b[0m\u001b[0;34m\u001b[0m\u001b[0;34m\u001b[0m\u001b[0m\n\u001b[1;32m     65\u001b[0m       \u001b[0;32mfor\u001b[0m \u001b[0mrepo\u001b[0m \u001b[0;32min\u001b[0m \u001b[0mbiggerlist1\u001b[0m\u001b[0;34m:\u001b[0m\u001b[0;34m\u001b[0m\u001b[0;34m\u001b[0m\u001b[0m\n",
            "\u001b[0;32m<ipython-input-87-a41044d93ca8>\u001b[0m in \u001b[0;36mlocal_search\u001b[0;34m(repo, limit, alpha, beta, biggerlist, repo_found, cont_list)\u001b[0m\n\u001b[1;32m     61\u001b[0m       \u001b[0mprint\u001b[0m\u001b[0;34m(\u001b[0m\u001b[0mrepo2\u001b[0m\u001b[0;34m.\u001b[0m\u001b[0mfull_name\u001b[0m\u001b[0;34m)\u001b[0m\u001b[0;34m\u001b[0m\u001b[0;34m\u001b[0m\u001b[0m\n\u001b[1;32m     62\u001b[0m       \u001b[0mprint\u001b[0m\u001b[0;34m(\u001b[0m\u001b[0;34m\"Limit passing is \"\u001b[0m\u001b[0;34m+\u001b[0m\u001b[0mstr\u001b[0m\u001b[0;34m(\u001b[0m\u001b[0mlimit\u001b[0m\u001b[0;34m-\u001b[0m\u001b[0mlen\u001b[0m\u001b[0;34m(\u001b[0m\u001b[0mbiggerlist\u001b[0m\u001b[0;34m)\u001b[0m\u001b[0;34m)\u001b[0m\u001b[0;34m)\u001b[0m\u001b[0;34m\u001b[0m\u001b[0;34m\u001b[0m\u001b[0m\n\u001b[0;32m---> 63\u001b[0;31m       \u001b[0mrepo_found2\u001b[0m\u001b[0;34m,\u001b[0m\u001b[0mbiggerlist1\u001b[0m\u001b[0;34m=\u001b[0m\u001b[0mlocal_search\u001b[0m\u001b[0;34m(\u001b[0m\u001b[0mrepo2\u001b[0m\u001b[0;34m,\u001b[0m\u001b[0mlimit\u001b[0m\u001b[0;34m,\u001b[0m\u001b[0malpha\u001b[0m\u001b[0;34m,\u001b[0m\u001b[0mbeta\u001b[0m\u001b[0;34m,\u001b[0m\u001b[0mbiggerlist\u001b[0m\u001b[0;34m,\u001b[0m\u001b[0mrepo_found\u001b[0m\u001b[0;34m,\u001b[0m\u001b[0mcont_list\u001b[0m\u001b[0;34m)\u001b[0m\u001b[0;34m\u001b[0m\u001b[0;34m\u001b[0m\u001b[0m\n\u001b[0m\u001b[1;32m     64\u001b[0m       \u001b[0mprint\u001b[0m\u001b[0;34m(\u001b[0m\u001b[0;34m\"hi\"\u001b[0m\u001b[0;34m)\u001b[0m\u001b[0;34m\u001b[0m\u001b[0;34m\u001b[0m\u001b[0m\n\u001b[1;32m     65\u001b[0m       \u001b[0;32mfor\u001b[0m \u001b[0mrepo\u001b[0m \u001b[0;32min\u001b[0m \u001b[0mbiggerlist1\u001b[0m\u001b[0;34m:\u001b[0m\u001b[0;34m\u001b[0m\u001b[0;34m\u001b[0m\u001b[0m\n",
            "\u001b[0;32m<ipython-input-87-a41044d93ca8>\u001b[0m in \u001b[0;36mlocal_search\u001b[0;34m(repo, limit, alpha, beta, biggerlist, repo_found, cont_list)\u001b[0m\n\u001b[1;32m     61\u001b[0m       \u001b[0mprint\u001b[0m\u001b[0;34m(\u001b[0m\u001b[0mrepo2\u001b[0m\u001b[0;34m.\u001b[0m\u001b[0mfull_name\u001b[0m\u001b[0;34m)\u001b[0m\u001b[0;34m\u001b[0m\u001b[0;34m\u001b[0m\u001b[0m\n\u001b[1;32m     62\u001b[0m       \u001b[0mprint\u001b[0m\u001b[0;34m(\u001b[0m\u001b[0;34m\"Limit passing is \"\u001b[0m\u001b[0;34m+\u001b[0m\u001b[0mstr\u001b[0m\u001b[0;34m(\u001b[0m\u001b[0mlimit\u001b[0m\u001b[0;34m-\u001b[0m\u001b[0mlen\u001b[0m\u001b[0;34m(\u001b[0m\u001b[0mbiggerlist\u001b[0m\u001b[0;34m)\u001b[0m\u001b[0;34m)\u001b[0m\u001b[0;34m)\u001b[0m\u001b[0;34m\u001b[0m\u001b[0;34m\u001b[0m\u001b[0m\n\u001b[0;32m---> 63\u001b[0;31m       \u001b[0mrepo_found2\u001b[0m\u001b[0;34m,\u001b[0m\u001b[0mbiggerlist1\u001b[0m\u001b[0;34m=\u001b[0m\u001b[0mlocal_search\u001b[0m\u001b[0;34m(\u001b[0m\u001b[0mrepo2\u001b[0m\u001b[0;34m,\u001b[0m\u001b[0mlimit\u001b[0m\u001b[0;34m,\u001b[0m\u001b[0malpha\u001b[0m\u001b[0;34m,\u001b[0m\u001b[0mbeta\u001b[0m\u001b[0;34m,\u001b[0m\u001b[0mbiggerlist\u001b[0m\u001b[0;34m,\u001b[0m\u001b[0mrepo_found\u001b[0m\u001b[0;34m,\u001b[0m\u001b[0mcont_list\u001b[0m\u001b[0;34m)\u001b[0m\u001b[0;34m\u001b[0m\u001b[0;34m\u001b[0m\u001b[0m\n\u001b[0m\u001b[1;32m     64\u001b[0m       \u001b[0mprint\u001b[0m\u001b[0;34m(\u001b[0m\u001b[0;34m\"hi\"\u001b[0m\u001b[0;34m)\u001b[0m\u001b[0;34m\u001b[0m\u001b[0;34m\u001b[0m\u001b[0m\n\u001b[1;32m     65\u001b[0m       \u001b[0;32mfor\u001b[0m \u001b[0mrepo\u001b[0m \u001b[0;32min\u001b[0m \u001b[0mbiggerlist1\u001b[0m\u001b[0;34m:\u001b[0m\u001b[0;34m\u001b[0m\u001b[0;34m\u001b[0m\u001b[0m\n",
            "\u001b[0;32m<ipython-input-87-a41044d93ca8>\u001b[0m in \u001b[0;36mlocal_search\u001b[0;34m(repo, limit, alpha, beta, biggerlist, repo_found, cont_list)\u001b[0m\n\u001b[1;32m     61\u001b[0m       \u001b[0mprint\u001b[0m\u001b[0;34m(\u001b[0m\u001b[0mrepo2\u001b[0m\u001b[0;34m.\u001b[0m\u001b[0mfull_name\u001b[0m\u001b[0;34m)\u001b[0m\u001b[0;34m\u001b[0m\u001b[0;34m\u001b[0m\u001b[0m\n\u001b[1;32m     62\u001b[0m       \u001b[0mprint\u001b[0m\u001b[0;34m(\u001b[0m\u001b[0;34m\"Limit passing is \"\u001b[0m\u001b[0;34m+\u001b[0m\u001b[0mstr\u001b[0m\u001b[0;34m(\u001b[0m\u001b[0mlimit\u001b[0m\u001b[0;34m-\u001b[0m\u001b[0mlen\u001b[0m\u001b[0;34m(\u001b[0m\u001b[0mbiggerlist\u001b[0m\u001b[0;34m)\u001b[0m\u001b[0;34m)\u001b[0m\u001b[0;34m)\u001b[0m\u001b[0;34m\u001b[0m\u001b[0;34m\u001b[0m\u001b[0m\n\u001b[0;32m---> 63\u001b[0;31m       \u001b[0mrepo_found2\u001b[0m\u001b[0;34m,\u001b[0m\u001b[0mbiggerlist1\u001b[0m\u001b[0;34m=\u001b[0m\u001b[0mlocal_search\u001b[0m\u001b[0;34m(\u001b[0m\u001b[0mrepo2\u001b[0m\u001b[0;34m,\u001b[0m\u001b[0mlimit\u001b[0m\u001b[0;34m,\u001b[0m\u001b[0malpha\u001b[0m\u001b[0;34m,\u001b[0m\u001b[0mbeta\u001b[0m\u001b[0;34m,\u001b[0m\u001b[0mbiggerlist\u001b[0m\u001b[0;34m,\u001b[0m\u001b[0mrepo_found\u001b[0m\u001b[0;34m,\u001b[0m\u001b[0mcont_list\u001b[0m\u001b[0;34m)\u001b[0m\u001b[0;34m\u001b[0m\u001b[0;34m\u001b[0m\u001b[0m\n\u001b[0m\u001b[1;32m     64\u001b[0m       \u001b[0mprint\u001b[0m\u001b[0;34m(\u001b[0m\u001b[0;34m\"hi\"\u001b[0m\u001b[0;34m)\u001b[0m\u001b[0;34m\u001b[0m\u001b[0;34m\u001b[0m\u001b[0m\n\u001b[1;32m     65\u001b[0m       \u001b[0;32mfor\u001b[0m \u001b[0mrepo\u001b[0m \u001b[0;32min\u001b[0m \u001b[0mbiggerlist1\u001b[0m\u001b[0;34m:\u001b[0m\u001b[0;34m\u001b[0m\u001b[0;34m\u001b[0m\u001b[0m\n",
            "\u001b[0;32m<ipython-input-87-a41044d93ca8>\u001b[0m in \u001b[0;36mlocal_search\u001b[0;34m(repo, limit, alpha, beta, biggerlist, repo_found, cont_list)\u001b[0m\n\u001b[1;32m     61\u001b[0m       \u001b[0mprint\u001b[0m\u001b[0;34m(\u001b[0m\u001b[0mrepo2\u001b[0m\u001b[0;34m.\u001b[0m\u001b[0mfull_name\u001b[0m\u001b[0;34m)\u001b[0m\u001b[0;34m\u001b[0m\u001b[0;34m\u001b[0m\u001b[0m\n\u001b[1;32m     62\u001b[0m       \u001b[0mprint\u001b[0m\u001b[0;34m(\u001b[0m\u001b[0;34m\"Limit passing is \"\u001b[0m\u001b[0;34m+\u001b[0m\u001b[0mstr\u001b[0m\u001b[0;34m(\u001b[0m\u001b[0mlimit\u001b[0m\u001b[0;34m-\u001b[0m\u001b[0mlen\u001b[0m\u001b[0;34m(\u001b[0m\u001b[0mbiggerlist\u001b[0m\u001b[0;34m)\u001b[0m\u001b[0;34m)\u001b[0m\u001b[0;34m)\u001b[0m\u001b[0;34m\u001b[0m\u001b[0;34m\u001b[0m\u001b[0m\n\u001b[0;32m---> 63\u001b[0;31m       \u001b[0mrepo_found2\u001b[0m\u001b[0;34m,\u001b[0m\u001b[0mbiggerlist1\u001b[0m\u001b[0;34m=\u001b[0m\u001b[0mlocal_search\u001b[0m\u001b[0;34m(\u001b[0m\u001b[0mrepo2\u001b[0m\u001b[0;34m,\u001b[0m\u001b[0mlimit\u001b[0m\u001b[0;34m,\u001b[0m\u001b[0malpha\u001b[0m\u001b[0;34m,\u001b[0m\u001b[0mbeta\u001b[0m\u001b[0;34m,\u001b[0m\u001b[0mbiggerlist\u001b[0m\u001b[0;34m,\u001b[0m\u001b[0mrepo_found\u001b[0m\u001b[0;34m,\u001b[0m\u001b[0mcont_list\u001b[0m\u001b[0;34m)\u001b[0m\u001b[0;34m\u001b[0m\u001b[0;34m\u001b[0m\u001b[0m\n\u001b[0m\u001b[1;32m     64\u001b[0m       \u001b[0mprint\u001b[0m\u001b[0;34m(\u001b[0m\u001b[0;34m\"hi\"\u001b[0m\u001b[0;34m)\u001b[0m\u001b[0;34m\u001b[0m\u001b[0;34m\u001b[0m\u001b[0m\n\u001b[1;32m     65\u001b[0m       \u001b[0;32mfor\u001b[0m \u001b[0mrepo\u001b[0m \u001b[0;32min\u001b[0m \u001b[0mbiggerlist1\u001b[0m\u001b[0;34m:\u001b[0m\u001b[0;34m\u001b[0m\u001b[0;34m\u001b[0m\u001b[0m\n",
            "\u001b[0;32m<ipython-input-87-a41044d93ca8>\u001b[0m in \u001b[0;36mlocal_search\u001b[0;34m(repo, limit, alpha, beta, biggerlist, repo_found, cont_list)\u001b[0m\n\u001b[1;32m     61\u001b[0m       \u001b[0mprint\u001b[0m\u001b[0;34m(\u001b[0m\u001b[0mrepo2\u001b[0m\u001b[0;34m.\u001b[0m\u001b[0mfull_name\u001b[0m\u001b[0;34m)\u001b[0m\u001b[0;34m\u001b[0m\u001b[0;34m\u001b[0m\u001b[0m\n\u001b[1;32m     62\u001b[0m       \u001b[0mprint\u001b[0m\u001b[0;34m(\u001b[0m\u001b[0;34m\"Limit passing is \"\u001b[0m\u001b[0;34m+\u001b[0m\u001b[0mstr\u001b[0m\u001b[0;34m(\u001b[0m\u001b[0mlimit\u001b[0m\u001b[0;34m-\u001b[0m\u001b[0mlen\u001b[0m\u001b[0;34m(\u001b[0m\u001b[0mbiggerlist\u001b[0m\u001b[0;34m)\u001b[0m\u001b[0;34m)\u001b[0m\u001b[0;34m)\u001b[0m\u001b[0;34m\u001b[0m\u001b[0;34m\u001b[0m\u001b[0m\n\u001b[0;32m---> 63\u001b[0;31m       \u001b[0mrepo_found2\u001b[0m\u001b[0;34m,\u001b[0m\u001b[0mbiggerlist1\u001b[0m\u001b[0;34m=\u001b[0m\u001b[0mlocal_search\u001b[0m\u001b[0;34m(\u001b[0m\u001b[0mrepo2\u001b[0m\u001b[0;34m,\u001b[0m\u001b[0mlimit\u001b[0m\u001b[0;34m,\u001b[0m\u001b[0malpha\u001b[0m\u001b[0;34m,\u001b[0m\u001b[0mbeta\u001b[0m\u001b[0;34m,\u001b[0m\u001b[0mbiggerlist\u001b[0m\u001b[0;34m,\u001b[0m\u001b[0mrepo_found\u001b[0m\u001b[0;34m,\u001b[0m\u001b[0mcont_list\u001b[0m\u001b[0;34m)\u001b[0m\u001b[0;34m\u001b[0m\u001b[0;34m\u001b[0m\u001b[0m\n\u001b[0m\u001b[1;32m     64\u001b[0m       \u001b[0mprint\u001b[0m\u001b[0;34m(\u001b[0m\u001b[0;34m\"hi\"\u001b[0m\u001b[0;34m)\u001b[0m\u001b[0;34m\u001b[0m\u001b[0;34m\u001b[0m\u001b[0m\n\u001b[1;32m     65\u001b[0m       \u001b[0;32mfor\u001b[0m \u001b[0mrepo\u001b[0m \u001b[0;32min\u001b[0m \u001b[0mbiggerlist1\u001b[0m\u001b[0;34m:\u001b[0m\u001b[0;34m\u001b[0m\u001b[0;34m\u001b[0m\u001b[0m\n",
            "\u001b[0;32m<ipython-input-87-a41044d93ca8>\u001b[0m in \u001b[0;36mlocal_search\u001b[0;34m(repo, limit, alpha, beta, biggerlist, repo_found, cont_list)\u001b[0m\n\u001b[1;32m     61\u001b[0m       \u001b[0mprint\u001b[0m\u001b[0;34m(\u001b[0m\u001b[0mrepo2\u001b[0m\u001b[0;34m.\u001b[0m\u001b[0mfull_name\u001b[0m\u001b[0;34m)\u001b[0m\u001b[0;34m\u001b[0m\u001b[0;34m\u001b[0m\u001b[0m\n\u001b[1;32m     62\u001b[0m       \u001b[0mprint\u001b[0m\u001b[0;34m(\u001b[0m\u001b[0;34m\"Limit passing is \"\u001b[0m\u001b[0;34m+\u001b[0m\u001b[0mstr\u001b[0m\u001b[0;34m(\u001b[0m\u001b[0mlimit\u001b[0m\u001b[0;34m-\u001b[0m\u001b[0mlen\u001b[0m\u001b[0;34m(\u001b[0m\u001b[0mbiggerlist\u001b[0m\u001b[0;34m)\u001b[0m\u001b[0;34m)\u001b[0m\u001b[0;34m)\u001b[0m\u001b[0;34m\u001b[0m\u001b[0;34m\u001b[0m\u001b[0m\n\u001b[0;32m---> 63\u001b[0;31m       \u001b[0mrepo_found2\u001b[0m\u001b[0;34m,\u001b[0m\u001b[0mbiggerlist1\u001b[0m\u001b[0;34m=\u001b[0m\u001b[0mlocal_search\u001b[0m\u001b[0;34m(\u001b[0m\u001b[0mrepo2\u001b[0m\u001b[0;34m,\u001b[0m\u001b[0mlimit\u001b[0m\u001b[0;34m,\u001b[0m\u001b[0malpha\u001b[0m\u001b[0;34m,\u001b[0m\u001b[0mbeta\u001b[0m\u001b[0;34m,\u001b[0m\u001b[0mbiggerlist\u001b[0m\u001b[0;34m,\u001b[0m\u001b[0mrepo_found\u001b[0m\u001b[0;34m,\u001b[0m\u001b[0mcont_list\u001b[0m\u001b[0;34m)\u001b[0m\u001b[0;34m\u001b[0m\u001b[0;34m\u001b[0m\u001b[0m\n\u001b[0m\u001b[1;32m     64\u001b[0m       \u001b[0mprint\u001b[0m\u001b[0;34m(\u001b[0m\u001b[0;34m\"hi\"\u001b[0m\u001b[0;34m)\u001b[0m\u001b[0;34m\u001b[0m\u001b[0;34m\u001b[0m\u001b[0m\n\u001b[1;32m     65\u001b[0m       \u001b[0;32mfor\u001b[0m \u001b[0mrepo\u001b[0m \u001b[0;32min\u001b[0m \u001b[0mbiggerlist1\u001b[0m\u001b[0;34m:\u001b[0m\u001b[0;34m\u001b[0m\u001b[0;34m\u001b[0m\u001b[0m\n",
            "\u001b[0;32m<ipython-input-87-a41044d93ca8>\u001b[0m in \u001b[0;36mlocal_search\u001b[0;34m(repo, limit, alpha, beta, biggerlist, repo_found, cont_list)\u001b[0m\n\u001b[1;32m     61\u001b[0m       \u001b[0mprint\u001b[0m\u001b[0;34m(\u001b[0m\u001b[0mrepo2\u001b[0m\u001b[0;34m.\u001b[0m\u001b[0mfull_name\u001b[0m\u001b[0;34m)\u001b[0m\u001b[0;34m\u001b[0m\u001b[0;34m\u001b[0m\u001b[0m\n\u001b[1;32m     62\u001b[0m       \u001b[0mprint\u001b[0m\u001b[0;34m(\u001b[0m\u001b[0;34m\"Limit passing is \"\u001b[0m\u001b[0;34m+\u001b[0m\u001b[0mstr\u001b[0m\u001b[0;34m(\u001b[0m\u001b[0mlimit\u001b[0m\u001b[0;34m-\u001b[0m\u001b[0mlen\u001b[0m\u001b[0;34m(\u001b[0m\u001b[0mbiggerlist\u001b[0m\u001b[0;34m)\u001b[0m\u001b[0;34m)\u001b[0m\u001b[0;34m)\u001b[0m\u001b[0;34m\u001b[0m\u001b[0;34m\u001b[0m\u001b[0m\n\u001b[0;32m---> 63\u001b[0;31m       \u001b[0mrepo_found2\u001b[0m\u001b[0;34m,\u001b[0m\u001b[0mbiggerlist1\u001b[0m\u001b[0;34m=\u001b[0m\u001b[0mlocal_search\u001b[0m\u001b[0;34m(\u001b[0m\u001b[0mrepo2\u001b[0m\u001b[0;34m,\u001b[0m\u001b[0mlimit\u001b[0m\u001b[0;34m,\u001b[0m\u001b[0malpha\u001b[0m\u001b[0;34m,\u001b[0m\u001b[0mbeta\u001b[0m\u001b[0;34m,\u001b[0m\u001b[0mbiggerlist\u001b[0m\u001b[0;34m,\u001b[0m\u001b[0mrepo_found\u001b[0m\u001b[0;34m,\u001b[0m\u001b[0mcont_list\u001b[0m\u001b[0;34m)\u001b[0m\u001b[0;34m\u001b[0m\u001b[0;34m\u001b[0m\u001b[0m\n\u001b[0m\u001b[1;32m     64\u001b[0m       \u001b[0mprint\u001b[0m\u001b[0;34m(\u001b[0m\u001b[0;34m\"hi\"\u001b[0m\u001b[0;34m)\u001b[0m\u001b[0;34m\u001b[0m\u001b[0;34m\u001b[0m\u001b[0m\n\u001b[1;32m     65\u001b[0m       \u001b[0;32mfor\u001b[0m \u001b[0mrepo\u001b[0m \u001b[0;32min\u001b[0m \u001b[0mbiggerlist1\u001b[0m\u001b[0;34m:\u001b[0m\u001b[0;34m\u001b[0m\u001b[0;34m\u001b[0m\u001b[0m\n",
            "\u001b[0;32m<ipython-input-87-a41044d93ca8>\u001b[0m in \u001b[0;36mlocal_search\u001b[0;34m(repo, limit, alpha, beta, biggerlist, repo_found, cont_list)\u001b[0m\n\u001b[1;32m     61\u001b[0m       \u001b[0mprint\u001b[0m\u001b[0;34m(\u001b[0m\u001b[0mrepo2\u001b[0m\u001b[0;34m.\u001b[0m\u001b[0mfull_name\u001b[0m\u001b[0;34m)\u001b[0m\u001b[0;34m\u001b[0m\u001b[0;34m\u001b[0m\u001b[0m\n\u001b[1;32m     62\u001b[0m       \u001b[0mprint\u001b[0m\u001b[0;34m(\u001b[0m\u001b[0;34m\"Limit passing is \"\u001b[0m\u001b[0;34m+\u001b[0m\u001b[0mstr\u001b[0m\u001b[0;34m(\u001b[0m\u001b[0mlimit\u001b[0m\u001b[0;34m-\u001b[0m\u001b[0mlen\u001b[0m\u001b[0;34m(\u001b[0m\u001b[0mbiggerlist\u001b[0m\u001b[0;34m)\u001b[0m\u001b[0;34m)\u001b[0m\u001b[0;34m)\u001b[0m\u001b[0;34m\u001b[0m\u001b[0;34m\u001b[0m\u001b[0m\n\u001b[0;32m---> 63\u001b[0;31m       \u001b[0mrepo_found2\u001b[0m\u001b[0;34m,\u001b[0m\u001b[0mbiggerlist1\u001b[0m\u001b[0;34m=\u001b[0m\u001b[0mlocal_search\u001b[0m\u001b[0;34m(\u001b[0m\u001b[0mrepo2\u001b[0m\u001b[0;34m,\u001b[0m\u001b[0mlimit\u001b[0m\u001b[0;34m,\u001b[0m\u001b[0malpha\u001b[0m\u001b[0;34m,\u001b[0m\u001b[0mbeta\u001b[0m\u001b[0;34m,\u001b[0m\u001b[0mbiggerlist\u001b[0m\u001b[0;34m,\u001b[0m\u001b[0mrepo_found\u001b[0m\u001b[0;34m,\u001b[0m\u001b[0mcont_list\u001b[0m\u001b[0;34m)\u001b[0m\u001b[0;34m\u001b[0m\u001b[0;34m\u001b[0m\u001b[0m\n\u001b[0m\u001b[1;32m     64\u001b[0m       \u001b[0mprint\u001b[0m\u001b[0;34m(\u001b[0m\u001b[0;34m\"hi\"\u001b[0m\u001b[0;34m)\u001b[0m\u001b[0;34m\u001b[0m\u001b[0;34m\u001b[0m\u001b[0m\n\u001b[1;32m     65\u001b[0m       \u001b[0;32mfor\u001b[0m \u001b[0mrepo\u001b[0m \u001b[0;32min\u001b[0m \u001b[0mbiggerlist1\u001b[0m\u001b[0;34m:\u001b[0m\u001b[0;34m\u001b[0m\u001b[0;34m\u001b[0m\u001b[0m\n",
            "\u001b[0;32m<ipython-input-87-a41044d93ca8>\u001b[0m in \u001b[0;36mlocal_search\u001b[0;34m(repo, limit, alpha, beta, biggerlist, repo_found, cont_list)\u001b[0m\n\u001b[1;32m     61\u001b[0m       \u001b[0mprint\u001b[0m\u001b[0;34m(\u001b[0m\u001b[0mrepo2\u001b[0m\u001b[0;34m.\u001b[0m\u001b[0mfull_name\u001b[0m\u001b[0;34m)\u001b[0m\u001b[0;34m\u001b[0m\u001b[0;34m\u001b[0m\u001b[0m\n\u001b[1;32m     62\u001b[0m       \u001b[0mprint\u001b[0m\u001b[0;34m(\u001b[0m\u001b[0;34m\"Limit passing is \"\u001b[0m\u001b[0;34m+\u001b[0m\u001b[0mstr\u001b[0m\u001b[0;34m(\u001b[0m\u001b[0mlimit\u001b[0m\u001b[0;34m-\u001b[0m\u001b[0mlen\u001b[0m\u001b[0;34m(\u001b[0m\u001b[0mbiggerlist\u001b[0m\u001b[0;34m)\u001b[0m\u001b[0;34m)\u001b[0m\u001b[0;34m)\u001b[0m\u001b[0;34m\u001b[0m\u001b[0;34m\u001b[0m\u001b[0m\n\u001b[0;32m---> 63\u001b[0;31m       \u001b[0mrepo_found2\u001b[0m\u001b[0;34m,\u001b[0m\u001b[0mbiggerlist1\u001b[0m\u001b[0;34m=\u001b[0m\u001b[0mlocal_search\u001b[0m\u001b[0;34m(\u001b[0m\u001b[0mrepo2\u001b[0m\u001b[0;34m,\u001b[0m\u001b[0mlimit\u001b[0m\u001b[0;34m,\u001b[0m\u001b[0malpha\u001b[0m\u001b[0;34m,\u001b[0m\u001b[0mbeta\u001b[0m\u001b[0;34m,\u001b[0m\u001b[0mbiggerlist\u001b[0m\u001b[0;34m,\u001b[0m\u001b[0mrepo_found\u001b[0m\u001b[0;34m,\u001b[0m\u001b[0mcont_list\u001b[0m\u001b[0;34m)\u001b[0m\u001b[0;34m\u001b[0m\u001b[0;34m\u001b[0m\u001b[0m\n\u001b[0m\u001b[1;32m     64\u001b[0m       \u001b[0mprint\u001b[0m\u001b[0;34m(\u001b[0m\u001b[0;34m\"hi\"\u001b[0m\u001b[0;34m)\u001b[0m\u001b[0;34m\u001b[0m\u001b[0;34m\u001b[0m\u001b[0m\n\u001b[1;32m     65\u001b[0m       \u001b[0;32mfor\u001b[0m \u001b[0mrepo\u001b[0m \u001b[0;32min\u001b[0m \u001b[0mbiggerlist1\u001b[0m\u001b[0;34m:\u001b[0m\u001b[0;34m\u001b[0m\u001b[0;34m\u001b[0m\u001b[0m\n",
            "\u001b[0;32m<ipython-input-87-a41044d93ca8>\u001b[0m in \u001b[0;36mlocal_search\u001b[0;34m(repo, limit, alpha, beta, biggerlist, repo_found, cont_list)\u001b[0m\n\u001b[1;32m     61\u001b[0m       \u001b[0mprint\u001b[0m\u001b[0;34m(\u001b[0m\u001b[0mrepo2\u001b[0m\u001b[0;34m.\u001b[0m\u001b[0mfull_name\u001b[0m\u001b[0;34m)\u001b[0m\u001b[0;34m\u001b[0m\u001b[0;34m\u001b[0m\u001b[0m\n\u001b[1;32m     62\u001b[0m       \u001b[0mprint\u001b[0m\u001b[0;34m(\u001b[0m\u001b[0;34m\"Limit passing is \"\u001b[0m\u001b[0;34m+\u001b[0m\u001b[0mstr\u001b[0m\u001b[0;34m(\u001b[0m\u001b[0mlimit\u001b[0m\u001b[0;34m-\u001b[0m\u001b[0mlen\u001b[0m\u001b[0;34m(\u001b[0m\u001b[0mbiggerlist\u001b[0m\u001b[0;34m)\u001b[0m\u001b[0;34m)\u001b[0m\u001b[0;34m)\u001b[0m\u001b[0;34m\u001b[0m\u001b[0;34m\u001b[0m\u001b[0m\n\u001b[0;32m---> 63\u001b[0;31m       \u001b[0mrepo_found2\u001b[0m\u001b[0;34m,\u001b[0m\u001b[0mbiggerlist1\u001b[0m\u001b[0;34m=\u001b[0m\u001b[0mlocal_search\u001b[0m\u001b[0;34m(\u001b[0m\u001b[0mrepo2\u001b[0m\u001b[0;34m,\u001b[0m\u001b[0mlimit\u001b[0m\u001b[0;34m,\u001b[0m\u001b[0malpha\u001b[0m\u001b[0;34m,\u001b[0m\u001b[0mbeta\u001b[0m\u001b[0;34m,\u001b[0m\u001b[0mbiggerlist\u001b[0m\u001b[0;34m,\u001b[0m\u001b[0mrepo_found\u001b[0m\u001b[0;34m,\u001b[0m\u001b[0mcont_list\u001b[0m\u001b[0;34m)\u001b[0m\u001b[0;34m\u001b[0m\u001b[0;34m\u001b[0m\u001b[0m\n\u001b[0m\u001b[1;32m     64\u001b[0m       \u001b[0mprint\u001b[0m\u001b[0;34m(\u001b[0m\u001b[0;34m\"hi\"\u001b[0m\u001b[0;34m)\u001b[0m\u001b[0;34m\u001b[0m\u001b[0;34m\u001b[0m\u001b[0m\n\u001b[1;32m     65\u001b[0m       \u001b[0;32mfor\u001b[0m \u001b[0mrepo\u001b[0m \u001b[0;32min\u001b[0m \u001b[0mbiggerlist1\u001b[0m\u001b[0;34m:\u001b[0m\u001b[0;34m\u001b[0m\u001b[0;34m\u001b[0m\u001b[0m\n",
            "\u001b[0;32m<ipython-input-87-a41044d93ca8>\u001b[0m in \u001b[0;36mlocal_search\u001b[0;34m(repo, limit, alpha, beta, biggerlist, repo_found, cont_list)\u001b[0m\n\u001b[1;32m     61\u001b[0m       \u001b[0mprint\u001b[0m\u001b[0;34m(\u001b[0m\u001b[0mrepo2\u001b[0m\u001b[0;34m.\u001b[0m\u001b[0mfull_name\u001b[0m\u001b[0;34m)\u001b[0m\u001b[0;34m\u001b[0m\u001b[0;34m\u001b[0m\u001b[0m\n\u001b[1;32m     62\u001b[0m       \u001b[0mprint\u001b[0m\u001b[0;34m(\u001b[0m\u001b[0;34m\"Limit passing is \"\u001b[0m\u001b[0;34m+\u001b[0m\u001b[0mstr\u001b[0m\u001b[0;34m(\u001b[0m\u001b[0mlimit\u001b[0m\u001b[0;34m-\u001b[0m\u001b[0mlen\u001b[0m\u001b[0;34m(\u001b[0m\u001b[0mbiggerlist\u001b[0m\u001b[0;34m)\u001b[0m\u001b[0;34m)\u001b[0m\u001b[0;34m)\u001b[0m\u001b[0;34m\u001b[0m\u001b[0;34m\u001b[0m\u001b[0m\n\u001b[0;32m---> 63\u001b[0;31m       \u001b[0mrepo_found2\u001b[0m\u001b[0;34m,\u001b[0m\u001b[0mbiggerlist1\u001b[0m\u001b[0;34m=\u001b[0m\u001b[0mlocal_search\u001b[0m\u001b[0;34m(\u001b[0m\u001b[0mrepo2\u001b[0m\u001b[0;34m,\u001b[0m\u001b[0mlimit\u001b[0m\u001b[0;34m,\u001b[0m\u001b[0malpha\u001b[0m\u001b[0;34m,\u001b[0m\u001b[0mbeta\u001b[0m\u001b[0;34m,\u001b[0m\u001b[0mbiggerlist\u001b[0m\u001b[0;34m,\u001b[0m\u001b[0mrepo_found\u001b[0m\u001b[0;34m,\u001b[0m\u001b[0mcont_list\u001b[0m\u001b[0;34m)\u001b[0m\u001b[0;34m\u001b[0m\u001b[0;34m\u001b[0m\u001b[0m\n\u001b[0m\u001b[1;32m     64\u001b[0m       \u001b[0mprint\u001b[0m\u001b[0;34m(\u001b[0m\u001b[0;34m\"hi\"\u001b[0m\u001b[0;34m)\u001b[0m\u001b[0;34m\u001b[0m\u001b[0;34m\u001b[0m\u001b[0m\n\u001b[1;32m     65\u001b[0m       \u001b[0;32mfor\u001b[0m \u001b[0mrepo\u001b[0m \u001b[0;32min\u001b[0m \u001b[0mbiggerlist1\u001b[0m\u001b[0;34m:\u001b[0m\u001b[0;34m\u001b[0m\u001b[0;34m\u001b[0m\u001b[0m\n",
            "\u001b[0;32m<ipython-input-87-a41044d93ca8>\u001b[0m in \u001b[0;36mlocal_search\u001b[0;34m(repo, limit, alpha, beta, biggerlist, repo_found, cont_list)\u001b[0m\n\u001b[1;32m     61\u001b[0m       \u001b[0mprint\u001b[0m\u001b[0;34m(\u001b[0m\u001b[0mrepo2\u001b[0m\u001b[0;34m.\u001b[0m\u001b[0mfull_name\u001b[0m\u001b[0;34m)\u001b[0m\u001b[0;34m\u001b[0m\u001b[0;34m\u001b[0m\u001b[0m\n\u001b[1;32m     62\u001b[0m       \u001b[0mprint\u001b[0m\u001b[0;34m(\u001b[0m\u001b[0;34m\"Limit passing is \"\u001b[0m\u001b[0;34m+\u001b[0m\u001b[0mstr\u001b[0m\u001b[0;34m(\u001b[0m\u001b[0mlimit\u001b[0m\u001b[0;34m-\u001b[0m\u001b[0mlen\u001b[0m\u001b[0;34m(\u001b[0m\u001b[0mbiggerlist\u001b[0m\u001b[0;34m)\u001b[0m\u001b[0;34m)\u001b[0m\u001b[0;34m)\u001b[0m\u001b[0;34m\u001b[0m\u001b[0;34m\u001b[0m\u001b[0m\n\u001b[0;32m---> 63\u001b[0;31m       \u001b[0mrepo_found2\u001b[0m\u001b[0;34m,\u001b[0m\u001b[0mbiggerlist1\u001b[0m\u001b[0;34m=\u001b[0m\u001b[0mlocal_search\u001b[0m\u001b[0;34m(\u001b[0m\u001b[0mrepo2\u001b[0m\u001b[0;34m,\u001b[0m\u001b[0mlimit\u001b[0m\u001b[0;34m,\u001b[0m\u001b[0malpha\u001b[0m\u001b[0;34m,\u001b[0m\u001b[0mbeta\u001b[0m\u001b[0;34m,\u001b[0m\u001b[0mbiggerlist\u001b[0m\u001b[0;34m,\u001b[0m\u001b[0mrepo_found\u001b[0m\u001b[0;34m,\u001b[0m\u001b[0mcont_list\u001b[0m\u001b[0;34m)\u001b[0m\u001b[0;34m\u001b[0m\u001b[0;34m\u001b[0m\u001b[0m\n\u001b[0m\u001b[1;32m     64\u001b[0m       \u001b[0mprint\u001b[0m\u001b[0;34m(\u001b[0m\u001b[0;34m\"hi\"\u001b[0m\u001b[0;34m)\u001b[0m\u001b[0;34m\u001b[0m\u001b[0;34m\u001b[0m\u001b[0m\n\u001b[1;32m     65\u001b[0m       \u001b[0;32mfor\u001b[0m \u001b[0mrepo\u001b[0m \u001b[0;32min\u001b[0m \u001b[0mbiggerlist1\u001b[0m\u001b[0;34m:\u001b[0m\u001b[0;34m\u001b[0m\u001b[0;34m\u001b[0m\u001b[0m\n",
            "\u001b[0;32m<ipython-input-87-a41044d93ca8>\u001b[0m in \u001b[0;36mlocal_search\u001b[0;34m(repo, limit, alpha, beta, biggerlist, repo_found, cont_list)\u001b[0m\n\u001b[1;32m     61\u001b[0m       \u001b[0mprint\u001b[0m\u001b[0;34m(\u001b[0m\u001b[0mrepo2\u001b[0m\u001b[0;34m.\u001b[0m\u001b[0mfull_name\u001b[0m\u001b[0;34m)\u001b[0m\u001b[0;34m\u001b[0m\u001b[0;34m\u001b[0m\u001b[0m\n\u001b[1;32m     62\u001b[0m       \u001b[0mprint\u001b[0m\u001b[0;34m(\u001b[0m\u001b[0;34m\"Limit passing is \"\u001b[0m\u001b[0;34m+\u001b[0m\u001b[0mstr\u001b[0m\u001b[0;34m(\u001b[0m\u001b[0mlimit\u001b[0m\u001b[0;34m-\u001b[0m\u001b[0mlen\u001b[0m\u001b[0;34m(\u001b[0m\u001b[0mbiggerlist\u001b[0m\u001b[0;34m)\u001b[0m\u001b[0;34m)\u001b[0m\u001b[0;34m)\u001b[0m\u001b[0;34m\u001b[0m\u001b[0;34m\u001b[0m\u001b[0m\n\u001b[0;32m---> 63\u001b[0;31m       \u001b[0mrepo_found2\u001b[0m\u001b[0;34m,\u001b[0m\u001b[0mbiggerlist1\u001b[0m\u001b[0;34m=\u001b[0m\u001b[0mlocal_search\u001b[0m\u001b[0;34m(\u001b[0m\u001b[0mrepo2\u001b[0m\u001b[0;34m,\u001b[0m\u001b[0mlimit\u001b[0m\u001b[0;34m,\u001b[0m\u001b[0malpha\u001b[0m\u001b[0;34m,\u001b[0m\u001b[0mbeta\u001b[0m\u001b[0;34m,\u001b[0m\u001b[0mbiggerlist\u001b[0m\u001b[0;34m,\u001b[0m\u001b[0mrepo_found\u001b[0m\u001b[0;34m,\u001b[0m\u001b[0mcont_list\u001b[0m\u001b[0;34m)\u001b[0m\u001b[0;34m\u001b[0m\u001b[0;34m\u001b[0m\u001b[0m\n\u001b[0m\u001b[1;32m     64\u001b[0m       \u001b[0mprint\u001b[0m\u001b[0;34m(\u001b[0m\u001b[0;34m\"hi\"\u001b[0m\u001b[0;34m)\u001b[0m\u001b[0;34m\u001b[0m\u001b[0;34m\u001b[0m\u001b[0m\n\u001b[1;32m     65\u001b[0m       \u001b[0;32mfor\u001b[0m \u001b[0mrepo\u001b[0m \u001b[0;32min\u001b[0m \u001b[0mbiggerlist1\u001b[0m\u001b[0;34m:\u001b[0m\u001b[0;34m\u001b[0m\u001b[0;34m\u001b[0m\u001b[0m\n",
            "\u001b[0;32m<ipython-input-87-a41044d93ca8>\u001b[0m in \u001b[0;36mlocal_search\u001b[0;34m(repo, limit, alpha, beta, biggerlist, repo_found, cont_list)\u001b[0m\n\u001b[1;32m     61\u001b[0m       \u001b[0mprint\u001b[0m\u001b[0;34m(\u001b[0m\u001b[0mrepo2\u001b[0m\u001b[0;34m.\u001b[0m\u001b[0mfull_name\u001b[0m\u001b[0;34m)\u001b[0m\u001b[0;34m\u001b[0m\u001b[0;34m\u001b[0m\u001b[0m\n\u001b[1;32m     62\u001b[0m       \u001b[0mprint\u001b[0m\u001b[0;34m(\u001b[0m\u001b[0;34m\"Limit passing is \"\u001b[0m\u001b[0;34m+\u001b[0m\u001b[0mstr\u001b[0m\u001b[0;34m(\u001b[0m\u001b[0mlimit\u001b[0m\u001b[0;34m-\u001b[0m\u001b[0mlen\u001b[0m\u001b[0;34m(\u001b[0m\u001b[0mbiggerlist\u001b[0m\u001b[0;34m)\u001b[0m\u001b[0;34m)\u001b[0m\u001b[0;34m)\u001b[0m\u001b[0;34m\u001b[0m\u001b[0;34m\u001b[0m\u001b[0m\n\u001b[0;32m---> 63\u001b[0;31m       \u001b[0mrepo_found2\u001b[0m\u001b[0;34m,\u001b[0m\u001b[0mbiggerlist1\u001b[0m\u001b[0;34m=\u001b[0m\u001b[0mlocal_search\u001b[0m\u001b[0;34m(\u001b[0m\u001b[0mrepo2\u001b[0m\u001b[0;34m,\u001b[0m\u001b[0mlimit\u001b[0m\u001b[0;34m,\u001b[0m\u001b[0malpha\u001b[0m\u001b[0;34m,\u001b[0m\u001b[0mbeta\u001b[0m\u001b[0;34m,\u001b[0m\u001b[0mbiggerlist\u001b[0m\u001b[0;34m,\u001b[0m\u001b[0mrepo_found\u001b[0m\u001b[0;34m,\u001b[0m\u001b[0mcont_list\u001b[0m\u001b[0;34m)\u001b[0m\u001b[0;34m\u001b[0m\u001b[0;34m\u001b[0m\u001b[0m\n\u001b[0m\u001b[1;32m     64\u001b[0m       \u001b[0mprint\u001b[0m\u001b[0;34m(\u001b[0m\u001b[0;34m\"hi\"\u001b[0m\u001b[0;34m)\u001b[0m\u001b[0;34m\u001b[0m\u001b[0;34m\u001b[0m\u001b[0m\n\u001b[1;32m     65\u001b[0m       \u001b[0;32mfor\u001b[0m \u001b[0mrepo\u001b[0m \u001b[0;32min\u001b[0m \u001b[0mbiggerlist1\u001b[0m\u001b[0;34m:\u001b[0m\u001b[0;34m\u001b[0m\u001b[0;34m\u001b[0m\u001b[0m\n",
            "\u001b[0;32m<ipython-input-87-a41044d93ca8>\u001b[0m in \u001b[0;36mlocal_search\u001b[0;34m(repo, limit, alpha, beta, biggerlist, repo_found, cont_list)\u001b[0m\n\u001b[1;32m     61\u001b[0m       \u001b[0mprint\u001b[0m\u001b[0;34m(\u001b[0m\u001b[0mrepo2\u001b[0m\u001b[0;34m.\u001b[0m\u001b[0mfull_name\u001b[0m\u001b[0;34m)\u001b[0m\u001b[0;34m\u001b[0m\u001b[0;34m\u001b[0m\u001b[0m\n\u001b[1;32m     62\u001b[0m       \u001b[0mprint\u001b[0m\u001b[0;34m(\u001b[0m\u001b[0;34m\"Limit passing is \"\u001b[0m\u001b[0;34m+\u001b[0m\u001b[0mstr\u001b[0m\u001b[0;34m(\u001b[0m\u001b[0mlimit\u001b[0m\u001b[0;34m-\u001b[0m\u001b[0mlen\u001b[0m\u001b[0;34m(\u001b[0m\u001b[0mbiggerlist\u001b[0m\u001b[0;34m)\u001b[0m\u001b[0;34m)\u001b[0m\u001b[0;34m)\u001b[0m\u001b[0;34m\u001b[0m\u001b[0;34m\u001b[0m\u001b[0m\n\u001b[0;32m---> 63\u001b[0;31m       \u001b[0mrepo_found2\u001b[0m\u001b[0;34m,\u001b[0m\u001b[0mbiggerlist1\u001b[0m\u001b[0;34m=\u001b[0m\u001b[0mlocal_search\u001b[0m\u001b[0;34m(\u001b[0m\u001b[0mrepo2\u001b[0m\u001b[0;34m,\u001b[0m\u001b[0mlimit\u001b[0m\u001b[0;34m,\u001b[0m\u001b[0malpha\u001b[0m\u001b[0;34m,\u001b[0m\u001b[0mbeta\u001b[0m\u001b[0;34m,\u001b[0m\u001b[0mbiggerlist\u001b[0m\u001b[0;34m,\u001b[0m\u001b[0mrepo_found\u001b[0m\u001b[0;34m,\u001b[0m\u001b[0mcont_list\u001b[0m\u001b[0;34m)\u001b[0m\u001b[0;34m\u001b[0m\u001b[0;34m\u001b[0m\u001b[0m\n\u001b[0m\u001b[1;32m     64\u001b[0m       \u001b[0mprint\u001b[0m\u001b[0;34m(\u001b[0m\u001b[0;34m\"hi\"\u001b[0m\u001b[0;34m)\u001b[0m\u001b[0;34m\u001b[0m\u001b[0;34m\u001b[0m\u001b[0m\n\u001b[1;32m     65\u001b[0m       \u001b[0;32mfor\u001b[0m \u001b[0mrepo\u001b[0m \u001b[0;32min\u001b[0m \u001b[0mbiggerlist1\u001b[0m\u001b[0;34m:\u001b[0m\u001b[0;34m\u001b[0m\u001b[0;34m\u001b[0m\u001b[0m\n",
            "\u001b[0;32m<ipython-input-87-a41044d93ca8>\u001b[0m in \u001b[0;36mlocal_search\u001b[0;34m(repo, limit, alpha, beta, biggerlist, repo_found, cont_list)\u001b[0m\n\u001b[1;32m     61\u001b[0m       \u001b[0mprint\u001b[0m\u001b[0;34m(\u001b[0m\u001b[0mrepo2\u001b[0m\u001b[0;34m.\u001b[0m\u001b[0mfull_name\u001b[0m\u001b[0;34m)\u001b[0m\u001b[0;34m\u001b[0m\u001b[0;34m\u001b[0m\u001b[0m\n\u001b[1;32m     62\u001b[0m       \u001b[0mprint\u001b[0m\u001b[0;34m(\u001b[0m\u001b[0;34m\"Limit passing is \"\u001b[0m\u001b[0;34m+\u001b[0m\u001b[0mstr\u001b[0m\u001b[0;34m(\u001b[0m\u001b[0mlimit\u001b[0m\u001b[0;34m-\u001b[0m\u001b[0mlen\u001b[0m\u001b[0;34m(\u001b[0m\u001b[0mbiggerlist\u001b[0m\u001b[0;34m)\u001b[0m\u001b[0;34m)\u001b[0m\u001b[0;34m)\u001b[0m\u001b[0;34m\u001b[0m\u001b[0;34m\u001b[0m\u001b[0m\n\u001b[0;32m---> 63\u001b[0;31m       \u001b[0mrepo_found2\u001b[0m\u001b[0;34m,\u001b[0m\u001b[0mbiggerlist1\u001b[0m\u001b[0;34m=\u001b[0m\u001b[0mlocal_search\u001b[0m\u001b[0;34m(\u001b[0m\u001b[0mrepo2\u001b[0m\u001b[0;34m,\u001b[0m\u001b[0mlimit\u001b[0m\u001b[0;34m,\u001b[0m\u001b[0malpha\u001b[0m\u001b[0;34m,\u001b[0m\u001b[0mbeta\u001b[0m\u001b[0;34m,\u001b[0m\u001b[0mbiggerlist\u001b[0m\u001b[0;34m,\u001b[0m\u001b[0mrepo_found\u001b[0m\u001b[0;34m,\u001b[0m\u001b[0mcont_list\u001b[0m\u001b[0;34m)\u001b[0m\u001b[0;34m\u001b[0m\u001b[0;34m\u001b[0m\u001b[0m\n\u001b[0m\u001b[1;32m     64\u001b[0m       \u001b[0mprint\u001b[0m\u001b[0;34m(\u001b[0m\u001b[0;34m\"hi\"\u001b[0m\u001b[0;34m)\u001b[0m\u001b[0;34m\u001b[0m\u001b[0;34m\u001b[0m\u001b[0m\n\u001b[1;32m     65\u001b[0m       \u001b[0;32mfor\u001b[0m \u001b[0mrepo\u001b[0m \u001b[0;32min\u001b[0m \u001b[0mbiggerlist1\u001b[0m\u001b[0;34m:\u001b[0m\u001b[0;34m\u001b[0m\u001b[0;34m\u001b[0m\u001b[0m\n",
            "\u001b[0;32m<ipython-input-87-a41044d93ca8>\u001b[0m in \u001b[0;36mlocal_search\u001b[0;34m(repo, limit, alpha, beta, biggerlist, repo_found, cont_list)\u001b[0m\n\u001b[1;32m     61\u001b[0m       \u001b[0mprint\u001b[0m\u001b[0;34m(\u001b[0m\u001b[0mrepo2\u001b[0m\u001b[0;34m.\u001b[0m\u001b[0mfull_name\u001b[0m\u001b[0;34m)\u001b[0m\u001b[0;34m\u001b[0m\u001b[0;34m\u001b[0m\u001b[0m\n\u001b[1;32m     62\u001b[0m       \u001b[0mprint\u001b[0m\u001b[0;34m(\u001b[0m\u001b[0;34m\"Limit passing is \"\u001b[0m\u001b[0;34m+\u001b[0m\u001b[0mstr\u001b[0m\u001b[0;34m(\u001b[0m\u001b[0mlimit\u001b[0m\u001b[0;34m-\u001b[0m\u001b[0mlen\u001b[0m\u001b[0;34m(\u001b[0m\u001b[0mbiggerlist\u001b[0m\u001b[0;34m)\u001b[0m\u001b[0;34m)\u001b[0m\u001b[0;34m)\u001b[0m\u001b[0;34m\u001b[0m\u001b[0;34m\u001b[0m\u001b[0m\n\u001b[0;32m---> 63\u001b[0;31m       \u001b[0mrepo_found2\u001b[0m\u001b[0;34m,\u001b[0m\u001b[0mbiggerlist1\u001b[0m\u001b[0;34m=\u001b[0m\u001b[0mlocal_search\u001b[0m\u001b[0;34m(\u001b[0m\u001b[0mrepo2\u001b[0m\u001b[0;34m,\u001b[0m\u001b[0mlimit\u001b[0m\u001b[0;34m,\u001b[0m\u001b[0malpha\u001b[0m\u001b[0;34m,\u001b[0m\u001b[0mbeta\u001b[0m\u001b[0;34m,\u001b[0m\u001b[0mbiggerlist\u001b[0m\u001b[0;34m,\u001b[0m\u001b[0mrepo_found\u001b[0m\u001b[0;34m,\u001b[0m\u001b[0mcont_list\u001b[0m\u001b[0;34m)\u001b[0m\u001b[0;34m\u001b[0m\u001b[0;34m\u001b[0m\u001b[0m\n\u001b[0m\u001b[1;32m     64\u001b[0m       \u001b[0mprint\u001b[0m\u001b[0;34m(\u001b[0m\u001b[0;34m\"hi\"\u001b[0m\u001b[0;34m)\u001b[0m\u001b[0;34m\u001b[0m\u001b[0;34m\u001b[0m\u001b[0m\n\u001b[1;32m     65\u001b[0m       \u001b[0;32mfor\u001b[0m \u001b[0mrepo\u001b[0m \u001b[0;32min\u001b[0m \u001b[0mbiggerlist1\u001b[0m\u001b[0;34m:\u001b[0m\u001b[0;34m\u001b[0m\u001b[0;34m\u001b[0m\u001b[0m\n",
            "\u001b[0;32m<ipython-input-87-a41044d93ca8>\u001b[0m in \u001b[0;36mlocal_search\u001b[0;34m(repo, limit, alpha, beta, biggerlist, repo_found, cont_list)\u001b[0m\n\u001b[1;32m     61\u001b[0m       \u001b[0mprint\u001b[0m\u001b[0;34m(\u001b[0m\u001b[0mrepo2\u001b[0m\u001b[0;34m.\u001b[0m\u001b[0mfull_name\u001b[0m\u001b[0;34m)\u001b[0m\u001b[0;34m\u001b[0m\u001b[0;34m\u001b[0m\u001b[0m\n\u001b[1;32m     62\u001b[0m       \u001b[0mprint\u001b[0m\u001b[0;34m(\u001b[0m\u001b[0;34m\"Limit passing is \"\u001b[0m\u001b[0;34m+\u001b[0m\u001b[0mstr\u001b[0m\u001b[0;34m(\u001b[0m\u001b[0mlimit\u001b[0m\u001b[0;34m-\u001b[0m\u001b[0mlen\u001b[0m\u001b[0;34m(\u001b[0m\u001b[0mbiggerlist\u001b[0m\u001b[0;34m)\u001b[0m\u001b[0;34m)\u001b[0m\u001b[0;34m)\u001b[0m\u001b[0;34m\u001b[0m\u001b[0;34m\u001b[0m\u001b[0m\n\u001b[0;32m---> 63\u001b[0;31m       \u001b[0mrepo_found2\u001b[0m\u001b[0;34m,\u001b[0m\u001b[0mbiggerlist1\u001b[0m\u001b[0;34m=\u001b[0m\u001b[0mlocal_search\u001b[0m\u001b[0;34m(\u001b[0m\u001b[0mrepo2\u001b[0m\u001b[0;34m,\u001b[0m\u001b[0mlimit\u001b[0m\u001b[0;34m,\u001b[0m\u001b[0malpha\u001b[0m\u001b[0;34m,\u001b[0m\u001b[0mbeta\u001b[0m\u001b[0;34m,\u001b[0m\u001b[0mbiggerlist\u001b[0m\u001b[0;34m,\u001b[0m\u001b[0mrepo_found\u001b[0m\u001b[0;34m,\u001b[0m\u001b[0mcont_list\u001b[0m\u001b[0;34m)\u001b[0m\u001b[0;34m\u001b[0m\u001b[0;34m\u001b[0m\u001b[0m\n\u001b[0m\u001b[1;32m     64\u001b[0m       \u001b[0mprint\u001b[0m\u001b[0;34m(\u001b[0m\u001b[0;34m\"hi\"\u001b[0m\u001b[0;34m)\u001b[0m\u001b[0;34m\u001b[0m\u001b[0;34m\u001b[0m\u001b[0m\n\u001b[1;32m     65\u001b[0m       \u001b[0;32mfor\u001b[0m \u001b[0mrepo\u001b[0m \u001b[0;32min\u001b[0m \u001b[0mbiggerlist1\u001b[0m\u001b[0;34m:\u001b[0m\u001b[0;34m\u001b[0m\u001b[0;34m\u001b[0m\u001b[0m\n",
            "\u001b[0;32m<ipython-input-87-a41044d93ca8>\u001b[0m in \u001b[0;36mlocal_search\u001b[0;34m(repo, limit, alpha, beta, biggerlist, repo_found, cont_list)\u001b[0m\n\u001b[1;32m     61\u001b[0m       \u001b[0mprint\u001b[0m\u001b[0;34m(\u001b[0m\u001b[0mrepo2\u001b[0m\u001b[0;34m.\u001b[0m\u001b[0mfull_name\u001b[0m\u001b[0;34m)\u001b[0m\u001b[0;34m\u001b[0m\u001b[0;34m\u001b[0m\u001b[0m\n\u001b[1;32m     62\u001b[0m       \u001b[0mprint\u001b[0m\u001b[0;34m(\u001b[0m\u001b[0;34m\"Limit passing is \"\u001b[0m\u001b[0;34m+\u001b[0m\u001b[0mstr\u001b[0m\u001b[0;34m(\u001b[0m\u001b[0mlimit\u001b[0m\u001b[0;34m-\u001b[0m\u001b[0mlen\u001b[0m\u001b[0;34m(\u001b[0m\u001b[0mbiggerlist\u001b[0m\u001b[0;34m)\u001b[0m\u001b[0;34m)\u001b[0m\u001b[0;34m)\u001b[0m\u001b[0;34m\u001b[0m\u001b[0;34m\u001b[0m\u001b[0m\n\u001b[0;32m---> 63\u001b[0;31m       \u001b[0mrepo_found2\u001b[0m\u001b[0;34m,\u001b[0m\u001b[0mbiggerlist1\u001b[0m\u001b[0;34m=\u001b[0m\u001b[0mlocal_search\u001b[0m\u001b[0;34m(\u001b[0m\u001b[0mrepo2\u001b[0m\u001b[0;34m,\u001b[0m\u001b[0mlimit\u001b[0m\u001b[0;34m,\u001b[0m\u001b[0malpha\u001b[0m\u001b[0;34m,\u001b[0m\u001b[0mbeta\u001b[0m\u001b[0;34m,\u001b[0m\u001b[0mbiggerlist\u001b[0m\u001b[0;34m,\u001b[0m\u001b[0mrepo_found\u001b[0m\u001b[0;34m,\u001b[0m\u001b[0mcont_list\u001b[0m\u001b[0;34m)\u001b[0m\u001b[0;34m\u001b[0m\u001b[0;34m\u001b[0m\u001b[0m\n\u001b[0m\u001b[1;32m     64\u001b[0m       \u001b[0mprint\u001b[0m\u001b[0;34m(\u001b[0m\u001b[0;34m\"hi\"\u001b[0m\u001b[0;34m)\u001b[0m\u001b[0;34m\u001b[0m\u001b[0;34m\u001b[0m\u001b[0m\n\u001b[1;32m     65\u001b[0m       \u001b[0;32mfor\u001b[0m \u001b[0mrepo\u001b[0m \u001b[0;32min\u001b[0m \u001b[0mbiggerlist1\u001b[0m\u001b[0;34m:\u001b[0m\u001b[0;34m\u001b[0m\u001b[0;34m\u001b[0m\u001b[0m\n",
            "\u001b[0;32m<ipython-input-87-a41044d93ca8>\u001b[0m in \u001b[0;36mlocal_search\u001b[0;34m(repo, limit, alpha, beta, biggerlist, repo_found, cont_list)\u001b[0m\n\u001b[1;32m     61\u001b[0m       \u001b[0mprint\u001b[0m\u001b[0;34m(\u001b[0m\u001b[0mrepo2\u001b[0m\u001b[0;34m.\u001b[0m\u001b[0mfull_name\u001b[0m\u001b[0;34m)\u001b[0m\u001b[0;34m\u001b[0m\u001b[0;34m\u001b[0m\u001b[0m\n\u001b[1;32m     62\u001b[0m       \u001b[0mprint\u001b[0m\u001b[0;34m(\u001b[0m\u001b[0;34m\"Limit passing is \"\u001b[0m\u001b[0;34m+\u001b[0m\u001b[0mstr\u001b[0m\u001b[0;34m(\u001b[0m\u001b[0mlimit\u001b[0m\u001b[0;34m-\u001b[0m\u001b[0mlen\u001b[0m\u001b[0;34m(\u001b[0m\u001b[0mbiggerlist\u001b[0m\u001b[0;34m)\u001b[0m\u001b[0;34m)\u001b[0m\u001b[0;34m)\u001b[0m\u001b[0;34m\u001b[0m\u001b[0;34m\u001b[0m\u001b[0m\n\u001b[0;32m---> 63\u001b[0;31m       \u001b[0mrepo_found2\u001b[0m\u001b[0;34m,\u001b[0m\u001b[0mbiggerlist1\u001b[0m\u001b[0;34m=\u001b[0m\u001b[0mlocal_search\u001b[0m\u001b[0;34m(\u001b[0m\u001b[0mrepo2\u001b[0m\u001b[0;34m,\u001b[0m\u001b[0mlimit\u001b[0m\u001b[0;34m,\u001b[0m\u001b[0malpha\u001b[0m\u001b[0;34m,\u001b[0m\u001b[0mbeta\u001b[0m\u001b[0;34m,\u001b[0m\u001b[0mbiggerlist\u001b[0m\u001b[0;34m,\u001b[0m\u001b[0mrepo_found\u001b[0m\u001b[0;34m,\u001b[0m\u001b[0mcont_list\u001b[0m\u001b[0;34m)\u001b[0m\u001b[0;34m\u001b[0m\u001b[0;34m\u001b[0m\u001b[0m\n\u001b[0m\u001b[1;32m     64\u001b[0m       \u001b[0mprint\u001b[0m\u001b[0;34m(\u001b[0m\u001b[0;34m\"hi\"\u001b[0m\u001b[0;34m)\u001b[0m\u001b[0;34m\u001b[0m\u001b[0;34m\u001b[0m\u001b[0m\n\u001b[1;32m     65\u001b[0m       \u001b[0;32mfor\u001b[0m \u001b[0mrepo\u001b[0m \u001b[0;32min\u001b[0m \u001b[0mbiggerlist1\u001b[0m\u001b[0;34m:\u001b[0m\u001b[0;34m\u001b[0m\u001b[0;34m\u001b[0m\u001b[0m\n",
            "\u001b[0;32m<ipython-input-87-a41044d93ca8>\u001b[0m in \u001b[0;36mlocal_search\u001b[0;34m(repo, limit, alpha, beta, biggerlist, repo_found, cont_list)\u001b[0m\n\u001b[1;32m     61\u001b[0m       \u001b[0mprint\u001b[0m\u001b[0;34m(\u001b[0m\u001b[0mrepo2\u001b[0m\u001b[0;34m.\u001b[0m\u001b[0mfull_name\u001b[0m\u001b[0;34m)\u001b[0m\u001b[0;34m\u001b[0m\u001b[0;34m\u001b[0m\u001b[0m\n\u001b[1;32m     62\u001b[0m       \u001b[0mprint\u001b[0m\u001b[0;34m(\u001b[0m\u001b[0;34m\"Limit passing is \"\u001b[0m\u001b[0;34m+\u001b[0m\u001b[0mstr\u001b[0m\u001b[0;34m(\u001b[0m\u001b[0mlimit\u001b[0m\u001b[0;34m-\u001b[0m\u001b[0mlen\u001b[0m\u001b[0;34m(\u001b[0m\u001b[0mbiggerlist\u001b[0m\u001b[0;34m)\u001b[0m\u001b[0;34m)\u001b[0m\u001b[0;34m)\u001b[0m\u001b[0;34m\u001b[0m\u001b[0;34m\u001b[0m\u001b[0m\n\u001b[0;32m---> 63\u001b[0;31m       \u001b[0mrepo_found2\u001b[0m\u001b[0;34m,\u001b[0m\u001b[0mbiggerlist1\u001b[0m\u001b[0;34m=\u001b[0m\u001b[0mlocal_search\u001b[0m\u001b[0;34m(\u001b[0m\u001b[0mrepo2\u001b[0m\u001b[0;34m,\u001b[0m\u001b[0mlimit\u001b[0m\u001b[0;34m,\u001b[0m\u001b[0malpha\u001b[0m\u001b[0;34m,\u001b[0m\u001b[0mbeta\u001b[0m\u001b[0;34m,\u001b[0m\u001b[0mbiggerlist\u001b[0m\u001b[0;34m,\u001b[0m\u001b[0mrepo_found\u001b[0m\u001b[0;34m,\u001b[0m\u001b[0mcont_list\u001b[0m\u001b[0;34m)\u001b[0m\u001b[0;34m\u001b[0m\u001b[0;34m\u001b[0m\u001b[0m\n\u001b[0m\u001b[1;32m     64\u001b[0m       \u001b[0mprint\u001b[0m\u001b[0;34m(\u001b[0m\u001b[0;34m\"hi\"\u001b[0m\u001b[0;34m)\u001b[0m\u001b[0;34m\u001b[0m\u001b[0;34m\u001b[0m\u001b[0m\n\u001b[1;32m     65\u001b[0m       \u001b[0;32mfor\u001b[0m \u001b[0mrepo\u001b[0m \u001b[0;32min\u001b[0m \u001b[0mbiggerlist1\u001b[0m\u001b[0;34m:\u001b[0m\u001b[0;34m\u001b[0m\u001b[0;34m\u001b[0m\u001b[0m\n",
            "\u001b[0;32m<ipython-input-87-a41044d93ca8>\u001b[0m in \u001b[0;36mlocal_search\u001b[0;34m(repo, limit, alpha, beta, biggerlist, repo_found, cont_list)\u001b[0m\n\u001b[1;32m     61\u001b[0m       \u001b[0mprint\u001b[0m\u001b[0;34m(\u001b[0m\u001b[0mrepo2\u001b[0m\u001b[0;34m.\u001b[0m\u001b[0mfull_name\u001b[0m\u001b[0;34m)\u001b[0m\u001b[0;34m\u001b[0m\u001b[0;34m\u001b[0m\u001b[0m\n\u001b[1;32m     62\u001b[0m       \u001b[0mprint\u001b[0m\u001b[0;34m(\u001b[0m\u001b[0;34m\"Limit passing is \"\u001b[0m\u001b[0;34m+\u001b[0m\u001b[0mstr\u001b[0m\u001b[0;34m(\u001b[0m\u001b[0mlimit\u001b[0m\u001b[0;34m-\u001b[0m\u001b[0mlen\u001b[0m\u001b[0;34m(\u001b[0m\u001b[0mbiggerlist\u001b[0m\u001b[0;34m)\u001b[0m\u001b[0;34m)\u001b[0m\u001b[0;34m)\u001b[0m\u001b[0;34m\u001b[0m\u001b[0;34m\u001b[0m\u001b[0m\n\u001b[0;32m---> 63\u001b[0;31m       \u001b[0mrepo_found2\u001b[0m\u001b[0;34m,\u001b[0m\u001b[0mbiggerlist1\u001b[0m\u001b[0;34m=\u001b[0m\u001b[0mlocal_search\u001b[0m\u001b[0;34m(\u001b[0m\u001b[0mrepo2\u001b[0m\u001b[0;34m,\u001b[0m\u001b[0mlimit\u001b[0m\u001b[0;34m,\u001b[0m\u001b[0malpha\u001b[0m\u001b[0;34m,\u001b[0m\u001b[0mbeta\u001b[0m\u001b[0;34m,\u001b[0m\u001b[0mbiggerlist\u001b[0m\u001b[0;34m,\u001b[0m\u001b[0mrepo_found\u001b[0m\u001b[0;34m,\u001b[0m\u001b[0mcont_list\u001b[0m\u001b[0;34m)\u001b[0m\u001b[0;34m\u001b[0m\u001b[0;34m\u001b[0m\u001b[0m\n\u001b[0m\u001b[1;32m     64\u001b[0m       \u001b[0mprint\u001b[0m\u001b[0;34m(\u001b[0m\u001b[0;34m\"hi\"\u001b[0m\u001b[0;34m)\u001b[0m\u001b[0;34m\u001b[0m\u001b[0;34m\u001b[0m\u001b[0m\n\u001b[1;32m     65\u001b[0m       \u001b[0;32mfor\u001b[0m \u001b[0mrepo\u001b[0m \u001b[0;32min\u001b[0m \u001b[0mbiggerlist1\u001b[0m\u001b[0;34m:\u001b[0m\u001b[0;34m\u001b[0m\u001b[0;34m\u001b[0m\u001b[0m\n",
            "\u001b[0;32m<ipython-input-87-a41044d93ca8>\u001b[0m in \u001b[0;36mlocal_search\u001b[0;34m(repo, limit, alpha, beta, biggerlist, repo_found, cont_list)\u001b[0m\n\u001b[1;32m     61\u001b[0m       \u001b[0mprint\u001b[0m\u001b[0;34m(\u001b[0m\u001b[0mrepo2\u001b[0m\u001b[0;34m.\u001b[0m\u001b[0mfull_name\u001b[0m\u001b[0;34m)\u001b[0m\u001b[0;34m\u001b[0m\u001b[0;34m\u001b[0m\u001b[0m\n\u001b[1;32m     62\u001b[0m       \u001b[0mprint\u001b[0m\u001b[0;34m(\u001b[0m\u001b[0;34m\"Limit passing is \"\u001b[0m\u001b[0;34m+\u001b[0m\u001b[0mstr\u001b[0m\u001b[0;34m(\u001b[0m\u001b[0mlimit\u001b[0m\u001b[0;34m-\u001b[0m\u001b[0mlen\u001b[0m\u001b[0;34m(\u001b[0m\u001b[0mbiggerlist\u001b[0m\u001b[0;34m)\u001b[0m\u001b[0;34m)\u001b[0m\u001b[0;34m)\u001b[0m\u001b[0;34m\u001b[0m\u001b[0;34m\u001b[0m\u001b[0m\n\u001b[0;32m---> 63\u001b[0;31m       \u001b[0mrepo_found2\u001b[0m\u001b[0;34m,\u001b[0m\u001b[0mbiggerlist1\u001b[0m\u001b[0;34m=\u001b[0m\u001b[0mlocal_search\u001b[0m\u001b[0;34m(\u001b[0m\u001b[0mrepo2\u001b[0m\u001b[0;34m,\u001b[0m\u001b[0mlimit\u001b[0m\u001b[0;34m,\u001b[0m\u001b[0malpha\u001b[0m\u001b[0;34m,\u001b[0m\u001b[0mbeta\u001b[0m\u001b[0;34m,\u001b[0m\u001b[0mbiggerlist\u001b[0m\u001b[0;34m,\u001b[0m\u001b[0mrepo_found\u001b[0m\u001b[0;34m,\u001b[0m\u001b[0mcont_list\u001b[0m\u001b[0;34m)\u001b[0m\u001b[0;34m\u001b[0m\u001b[0;34m\u001b[0m\u001b[0m\n\u001b[0m\u001b[1;32m     64\u001b[0m       \u001b[0mprint\u001b[0m\u001b[0;34m(\u001b[0m\u001b[0;34m\"hi\"\u001b[0m\u001b[0;34m)\u001b[0m\u001b[0;34m\u001b[0m\u001b[0;34m\u001b[0m\u001b[0m\n\u001b[1;32m     65\u001b[0m       \u001b[0;32mfor\u001b[0m \u001b[0mrepo\u001b[0m \u001b[0;32min\u001b[0m \u001b[0mbiggerlist1\u001b[0m\u001b[0;34m:\u001b[0m\u001b[0;34m\u001b[0m\u001b[0;34m\u001b[0m\u001b[0m\n",
            "\u001b[0;32m<ipython-input-87-a41044d93ca8>\u001b[0m in \u001b[0;36mlocal_search\u001b[0;34m(repo, limit, alpha, beta, biggerlist, repo_found, cont_list)\u001b[0m\n\u001b[1;32m     61\u001b[0m       \u001b[0mprint\u001b[0m\u001b[0;34m(\u001b[0m\u001b[0mrepo2\u001b[0m\u001b[0;34m.\u001b[0m\u001b[0mfull_name\u001b[0m\u001b[0;34m)\u001b[0m\u001b[0;34m\u001b[0m\u001b[0;34m\u001b[0m\u001b[0m\n\u001b[1;32m     62\u001b[0m       \u001b[0mprint\u001b[0m\u001b[0;34m(\u001b[0m\u001b[0;34m\"Limit passing is \"\u001b[0m\u001b[0;34m+\u001b[0m\u001b[0mstr\u001b[0m\u001b[0;34m(\u001b[0m\u001b[0mlimit\u001b[0m\u001b[0;34m-\u001b[0m\u001b[0mlen\u001b[0m\u001b[0;34m(\u001b[0m\u001b[0mbiggerlist\u001b[0m\u001b[0;34m)\u001b[0m\u001b[0;34m)\u001b[0m\u001b[0;34m)\u001b[0m\u001b[0;34m\u001b[0m\u001b[0;34m\u001b[0m\u001b[0m\n\u001b[0;32m---> 63\u001b[0;31m       \u001b[0mrepo_found2\u001b[0m\u001b[0;34m,\u001b[0m\u001b[0mbiggerlist1\u001b[0m\u001b[0;34m=\u001b[0m\u001b[0mlocal_search\u001b[0m\u001b[0;34m(\u001b[0m\u001b[0mrepo2\u001b[0m\u001b[0;34m,\u001b[0m\u001b[0mlimit\u001b[0m\u001b[0;34m,\u001b[0m\u001b[0malpha\u001b[0m\u001b[0;34m,\u001b[0m\u001b[0mbeta\u001b[0m\u001b[0;34m,\u001b[0m\u001b[0mbiggerlist\u001b[0m\u001b[0;34m,\u001b[0m\u001b[0mrepo_found\u001b[0m\u001b[0;34m,\u001b[0m\u001b[0mcont_list\u001b[0m\u001b[0;34m)\u001b[0m\u001b[0;34m\u001b[0m\u001b[0;34m\u001b[0m\u001b[0m\n\u001b[0m\u001b[1;32m     64\u001b[0m       \u001b[0mprint\u001b[0m\u001b[0;34m(\u001b[0m\u001b[0;34m\"hi\"\u001b[0m\u001b[0;34m)\u001b[0m\u001b[0;34m\u001b[0m\u001b[0;34m\u001b[0m\u001b[0m\n\u001b[1;32m     65\u001b[0m       \u001b[0;32mfor\u001b[0m \u001b[0mrepo\u001b[0m \u001b[0;32min\u001b[0m \u001b[0mbiggerlist1\u001b[0m\u001b[0;34m:\u001b[0m\u001b[0;34m\u001b[0m\u001b[0;34m\u001b[0m\u001b[0m\n",
            "\u001b[0;32m<ipython-input-87-a41044d93ca8>\u001b[0m in \u001b[0;36mlocal_search\u001b[0;34m(repo, limit, alpha, beta, biggerlist, repo_found, cont_list)\u001b[0m\n\u001b[1;32m     61\u001b[0m       \u001b[0mprint\u001b[0m\u001b[0;34m(\u001b[0m\u001b[0mrepo2\u001b[0m\u001b[0;34m.\u001b[0m\u001b[0mfull_name\u001b[0m\u001b[0;34m)\u001b[0m\u001b[0;34m\u001b[0m\u001b[0;34m\u001b[0m\u001b[0m\n\u001b[1;32m     62\u001b[0m       \u001b[0mprint\u001b[0m\u001b[0;34m(\u001b[0m\u001b[0;34m\"Limit passing is \"\u001b[0m\u001b[0;34m+\u001b[0m\u001b[0mstr\u001b[0m\u001b[0;34m(\u001b[0m\u001b[0mlimit\u001b[0m\u001b[0;34m-\u001b[0m\u001b[0mlen\u001b[0m\u001b[0;34m(\u001b[0m\u001b[0mbiggerlist\u001b[0m\u001b[0;34m)\u001b[0m\u001b[0;34m)\u001b[0m\u001b[0;34m)\u001b[0m\u001b[0;34m\u001b[0m\u001b[0;34m\u001b[0m\u001b[0m\n\u001b[0;32m---> 63\u001b[0;31m       \u001b[0mrepo_found2\u001b[0m\u001b[0;34m,\u001b[0m\u001b[0mbiggerlist1\u001b[0m\u001b[0;34m=\u001b[0m\u001b[0mlocal_search\u001b[0m\u001b[0;34m(\u001b[0m\u001b[0mrepo2\u001b[0m\u001b[0;34m,\u001b[0m\u001b[0mlimit\u001b[0m\u001b[0;34m,\u001b[0m\u001b[0malpha\u001b[0m\u001b[0;34m,\u001b[0m\u001b[0mbeta\u001b[0m\u001b[0;34m,\u001b[0m\u001b[0mbiggerlist\u001b[0m\u001b[0;34m,\u001b[0m\u001b[0mrepo_found\u001b[0m\u001b[0;34m,\u001b[0m\u001b[0mcont_list\u001b[0m\u001b[0;34m)\u001b[0m\u001b[0;34m\u001b[0m\u001b[0;34m\u001b[0m\u001b[0m\n\u001b[0m\u001b[1;32m     64\u001b[0m       \u001b[0mprint\u001b[0m\u001b[0;34m(\u001b[0m\u001b[0;34m\"hi\"\u001b[0m\u001b[0;34m)\u001b[0m\u001b[0;34m\u001b[0m\u001b[0;34m\u001b[0m\u001b[0m\n\u001b[1;32m     65\u001b[0m       \u001b[0;32mfor\u001b[0m \u001b[0mrepo\u001b[0m \u001b[0;32min\u001b[0m \u001b[0mbiggerlist1\u001b[0m\u001b[0;34m:\u001b[0m\u001b[0;34m\u001b[0m\u001b[0;34m\u001b[0m\u001b[0m\n",
            "\u001b[0;32m<ipython-input-87-a41044d93ca8>\u001b[0m in \u001b[0;36mlocal_search\u001b[0;34m(repo, limit, alpha, beta, biggerlist, repo_found, cont_list)\u001b[0m\n\u001b[1;32m     61\u001b[0m       \u001b[0mprint\u001b[0m\u001b[0;34m(\u001b[0m\u001b[0mrepo2\u001b[0m\u001b[0;34m.\u001b[0m\u001b[0mfull_name\u001b[0m\u001b[0;34m)\u001b[0m\u001b[0;34m\u001b[0m\u001b[0;34m\u001b[0m\u001b[0m\n\u001b[1;32m     62\u001b[0m       \u001b[0mprint\u001b[0m\u001b[0;34m(\u001b[0m\u001b[0;34m\"Limit passing is \"\u001b[0m\u001b[0;34m+\u001b[0m\u001b[0mstr\u001b[0m\u001b[0;34m(\u001b[0m\u001b[0mlimit\u001b[0m\u001b[0;34m-\u001b[0m\u001b[0mlen\u001b[0m\u001b[0;34m(\u001b[0m\u001b[0mbiggerlist\u001b[0m\u001b[0;34m)\u001b[0m\u001b[0;34m)\u001b[0m\u001b[0;34m)\u001b[0m\u001b[0;34m\u001b[0m\u001b[0;34m\u001b[0m\u001b[0m\n\u001b[0;32m---> 63\u001b[0;31m       \u001b[0mrepo_found2\u001b[0m\u001b[0;34m,\u001b[0m\u001b[0mbiggerlist1\u001b[0m\u001b[0;34m=\u001b[0m\u001b[0mlocal_search\u001b[0m\u001b[0;34m(\u001b[0m\u001b[0mrepo2\u001b[0m\u001b[0;34m,\u001b[0m\u001b[0mlimit\u001b[0m\u001b[0;34m,\u001b[0m\u001b[0malpha\u001b[0m\u001b[0;34m,\u001b[0m\u001b[0mbeta\u001b[0m\u001b[0;34m,\u001b[0m\u001b[0mbiggerlist\u001b[0m\u001b[0;34m,\u001b[0m\u001b[0mrepo_found\u001b[0m\u001b[0;34m,\u001b[0m\u001b[0mcont_list\u001b[0m\u001b[0;34m)\u001b[0m\u001b[0;34m\u001b[0m\u001b[0;34m\u001b[0m\u001b[0m\n\u001b[0m\u001b[1;32m     64\u001b[0m       \u001b[0mprint\u001b[0m\u001b[0;34m(\u001b[0m\u001b[0;34m\"hi\"\u001b[0m\u001b[0;34m)\u001b[0m\u001b[0;34m\u001b[0m\u001b[0;34m\u001b[0m\u001b[0m\n\u001b[1;32m     65\u001b[0m       \u001b[0;32mfor\u001b[0m \u001b[0mrepo\u001b[0m \u001b[0;32min\u001b[0m \u001b[0mbiggerlist1\u001b[0m\u001b[0;34m:\u001b[0m\u001b[0;34m\u001b[0m\u001b[0;34m\u001b[0m\u001b[0m\n",
            "\u001b[0;32m<ipython-input-87-a41044d93ca8>\u001b[0m in \u001b[0;36mlocal_search\u001b[0;34m(repo, limit, alpha, beta, biggerlist, repo_found, cont_list)\u001b[0m\n\u001b[1;32m     61\u001b[0m       \u001b[0mprint\u001b[0m\u001b[0;34m(\u001b[0m\u001b[0mrepo2\u001b[0m\u001b[0;34m.\u001b[0m\u001b[0mfull_name\u001b[0m\u001b[0;34m)\u001b[0m\u001b[0;34m\u001b[0m\u001b[0;34m\u001b[0m\u001b[0m\n\u001b[1;32m     62\u001b[0m       \u001b[0mprint\u001b[0m\u001b[0;34m(\u001b[0m\u001b[0;34m\"Limit passing is \"\u001b[0m\u001b[0;34m+\u001b[0m\u001b[0mstr\u001b[0m\u001b[0;34m(\u001b[0m\u001b[0mlimit\u001b[0m\u001b[0;34m-\u001b[0m\u001b[0mlen\u001b[0m\u001b[0;34m(\u001b[0m\u001b[0mbiggerlist\u001b[0m\u001b[0;34m)\u001b[0m\u001b[0;34m)\u001b[0m\u001b[0;34m)\u001b[0m\u001b[0;34m\u001b[0m\u001b[0;34m\u001b[0m\u001b[0m\n\u001b[0;32m---> 63\u001b[0;31m       \u001b[0mrepo_found2\u001b[0m\u001b[0;34m,\u001b[0m\u001b[0mbiggerlist1\u001b[0m\u001b[0;34m=\u001b[0m\u001b[0mlocal_search\u001b[0m\u001b[0;34m(\u001b[0m\u001b[0mrepo2\u001b[0m\u001b[0;34m,\u001b[0m\u001b[0mlimit\u001b[0m\u001b[0;34m,\u001b[0m\u001b[0malpha\u001b[0m\u001b[0;34m,\u001b[0m\u001b[0mbeta\u001b[0m\u001b[0;34m,\u001b[0m\u001b[0mbiggerlist\u001b[0m\u001b[0;34m,\u001b[0m\u001b[0mrepo_found\u001b[0m\u001b[0;34m,\u001b[0m\u001b[0mcont_list\u001b[0m\u001b[0;34m)\u001b[0m\u001b[0;34m\u001b[0m\u001b[0;34m\u001b[0m\u001b[0m\n\u001b[0m\u001b[1;32m     64\u001b[0m       \u001b[0mprint\u001b[0m\u001b[0;34m(\u001b[0m\u001b[0;34m\"hi\"\u001b[0m\u001b[0;34m)\u001b[0m\u001b[0;34m\u001b[0m\u001b[0;34m\u001b[0m\u001b[0m\n\u001b[1;32m     65\u001b[0m       \u001b[0;32mfor\u001b[0m \u001b[0mrepo\u001b[0m \u001b[0;32min\u001b[0m \u001b[0mbiggerlist1\u001b[0m\u001b[0;34m:\u001b[0m\u001b[0;34m\u001b[0m\u001b[0;34m\u001b[0m\u001b[0m\n",
            "\u001b[0;32m<ipython-input-87-a41044d93ca8>\u001b[0m in \u001b[0;36mlocal_search\u001b[0;34m(repo, limit, alpha, beta, biggerlist, repo_found, cont_list)\u001b[0m\n\u001b[1;32m     61\u001b[0m       \u001b[0mprint\u001b[0m\u001b[0;34m(\u001b[0m\u001b[0mrepo2\u001b[0m\u001b[0;34m.\u001b[0m\u001b[0mfull_name\u001b[0m\u001b[0;34m)\u001b[0m\u001b[0;34m\u001b[0m\u001b[0;34m\u001b[0m\u001b[0m\n\u001b[1;32m     62\u001b[0m       \u001b[0mprint\u001b[0m\u001b[0;34m(\u001b[0m\u001b[0;34m\"Limit passing is \"\u001b[0m\u001b[0;34m+\u001b[0m\u001b[0mstr\u001b[0m\u001b[0;34m(\u001b[0m\u001b[0mlimit\u001b[0m\u001b[0;34m-\u001b[0m\u001b[0mlen\u001b[0m\u001b[0;34m(\u001b[0m\u001b[0mbiggerlist\u001b[0m\u001b[0;34m)\u001b[0m\u001b[0;34m)\u001b[0m\u001b[0;34m)\u001b[0m\u001b[0;34m\u001b[0m\u001b[0;34m\u001b[0m\u001b[0m\n\u001b[0;32m---> 63\u001b[0;31m       \u001b[0mrepo_found2\u001b[0m\u001b[0;34m,\u001b[0m\u001b[0mbiggerlist1\u001b[0m\u001b[0;34m=\u001b[0m\u001b[0mlocal_search\u001b[0m\u001b[0;34m(\u001b[0m\u001b[0mrepo2\u001b[0m\u001b[0;34m,\u001b[0m\u001b[0mlimit\u001b[0m\u001b[0;34m,\u001b[0m\u001b[0malpha\u001b[0m\u001b[0;34m,\u001b[0m\u001b[0mbeta\u001b[0m\u001b[0;34m,\u001b[0m\u001b[0mbiggerlist\u001b[0m\u001b[0;34m,\u001b[0m\u001b[0mrepo_found\u001b[0m\u001b[0;34m,\u001b[0m\u001b[0mcont_list\u001b[0m\u001b[0;34m)\u001b[0m\u001b[0;34m\u001b[0m\u001b[0;34m\u001b[0m\u001b[0m\n\u001b[0m\u001b[1;32m     64\u001b[0m       \u001b[0mprint\u001b[0m\u001b[0;34m(\u001b[0m\u001b[0;34m\"hi\"\u001b[0m\u001b[0;34m)\u001b[0m\u001b[0;34m\u001b[0m\u001b[0;34m\u001b[0m\u001b[0m\n\u001b[1;32m     65\u001b[0m       \u001b[0;32mfor\u001b[0m \u001b[0mrepo\u001b[0m \u001b[0;32min\u001b[0m \u001b[0mbiggerlist1\u001b[0m\u001b[0;34m:\u001b[0m\u001b[0;34m\u001b[0m\u001b[0;34m\u001b[0m\u001b[0m\n",
            "\u001b[0;32m<ipython-input-87-a41044d93ca8>\u001b[0m in \u001b[0;36mlocal_search\u001b[0;34m(repo, limit, alpha, beta, biggerlist, repo_found, cont_list)\u001b[0m\n\u001b[1;32m     61\u001b[0m       \u001b[0mprint\u001b[0m\u001b[0;34m(\u001b[0m\u001b[0mrepo2\u001b[0m\u001b[0;34m.\u001b[0m\u001b[0mfull_name\u001b[0m\u001b[0;34m)\u001b[0m\u001b[0;34m\u001b[0m\u001b[0;34m\u001b[0m\u001b[0m\n\u001b[1;32m     62\u001b[0m       \u001b[0mprint\u001b[0m\u001b[0;34m(\u001b[0m\u001b[0;34m\"Limit passing is \"\u001b[0m\u001b[0;34m+\u001b[0m\u001b[0mstr\u001b[0m\u001b[0;34m(\u001b[0m\u001b[0mlimit\u001b[0m\u001b[0;34m-\u001b[0m\u001b[0mlen\u001b[0m\u001b[0;34m(\u001b[0m\u001b[0mbiggerlist\u001b[0m\u001b[0;34m)\u001b[0m\u001b[0;34m)\u001b[0m\u001b[0;34m)\u001b[0m\u001b[0;34m\u001b[0m\u001b[0;34m\u001b[0m\u001b[0m\n\u001b[0;32m---> 63\u001b[0;31m       \u001b[0mrepo_found2\u001b[0m\u001b[0;34m,\u001b[0m\u001b[0mbiggerlist1\u001b[0m\u001b[0;34m=\u001b[0m\u001b[0mlocal_search\u001b[0m\u001b[0;34m(\u001b[0m\u001b[0mrepo2\u001b[0m\u001b[0;34m,\u001b[0m\u001b[0mlimit\u001b[0m\u001b[0;34m,\u001b[0m\u001b[0malpha\u001b[0m\u001b[0;34m,\u001b[0m\u001b[0mbeta\u001b[0m\u001b[0;34m,\u001b[0m\u001b[0mbiggerlist\u001b[0m\u001b[0;34m,\u001b[0m\u001b[0mrepo_found\u001b[0m\u001b[0;34m,\u001b[0m\u001b[0mcont_list\u001b[0m\u001b[0;34m)\u001b[0m\u001b[0;34m\u001b[0m\u001b[0;34m\u001b[0m\u001b[0m\n\u001b[0m\u001b[1;32m     64\u001b[0m       \u001b[0mprint\u001b[0m\u001b[0;34m(\u001b[0m\u001b[0;34m\"hi\"\u001b[0m\u001b[0;34m)\u001b[0m\u001b[0;34m\u001b[0m\u001b[0;34m\u001b[0m\u001b[0m\n\u001b[1;32m     65\u001b[0m       \u001b[0;32mfor\u001b[0m \u001b[0mrepo\u001b[0m \u001b[0;32min\u001b[0m \u001b[0mbiggerlist1\u001b[0m\u001b[0;34m:\u001b[0m\u001b[0;34m\u001b[0m\u001b[0;34m\u001b[0m\u001b[0m\n",
            "\u001b[0;32m<ipython-input-87-a41044d93ca8>\u001b[0m in \u001b[0;36mlocal_search\u001b[0;34m(repo, limit, alpha, beta, biggerlist, repo_found, cont_list)\u001b[0m\n\u001b[1;32m     61\u001b[0m       \u001b[0mprint\u001b[0m\u001b[0;34m(\u001b[0m\u001b[0mrepo2\u001b[0m\u001b[0;34m.\u001b[0m\u001b[0mfull_name\u001b[0m\u001b[0;34m)\u001b[0m\u001b[0;34m\u001b[0m\u001b[0;34m\u001b[0m\u001b[0m\n\u001b[1;32m     62\u001b[0m       \u001b[0mprint\u001b[0m\u001b[0;34m(\u001b[0m\u001b[0;34m\"Limit passing is \"\u001b[0m\u001b[0;34m+\u001b[0m\u001b[0mstr\u001b[0m\u001b[0;34m(\u001b[0m\u001b[0mlimit\u001b[0m\u001b[0;34m-\u001b[0m\u001b[0mlen\u001b[0m\u001b[0;34m(\u001b[0m\u001b[0mbiggerlist\u001b[0m\u001b[0;34m)\u001b[0m\u001b[0;34m)\u001b[0m\u001b[0;34m)\u001b[0m\u001b[0;34m\u001b[0m\u001b[0;34m\u001b[0m\u001b[0m\n\u001b[0;32m---> 63\u001b[0;31m       \u001b[0mrepo_found2\u001b[0m\u001b[0;34m,\u001b[0m\u001b[0mbiggerlist1\u001b[0m\u001b[0;34m=\u001b[0m\u001b[0mlocal_search\u001b[0m\u001b[0;34m(\u001b[0m\u001b[0mrepo2\u001b[0m\u001b[0;34m,\u001b[0m\u001b[0mlimit\u001b[0m\u001b[0;34m,\u001b[0m\u001b[0malpha\u001b[0m\u001b[0;34m,\u001b[0m\u001b[0mbeta\u001b[0m\u001b[0;34m,\u001b[0m\u001b[0mbiggerlist\u001b[0m\u001b[0;34m,\u001b[0m\u001b[0mrepo_found\u001b[0m\u001b[0;34m,\u001b[0m\u001b[0mcont_list\u001b[0m\u001b[0;34m)\u001b[0m\u001b[0;34m\u001b[0m\u001b[0;34m\u001b[0m\u001b[0m\n\u001b[0m\u001b[1;32m     64\u001b[0m       \u001b[0mprint\u001b[0m\u001b[0;34m(\u001b[0m\u001b[0;34m\"hi\"\u001b[0m\u001b[0;34m)\u001b[0m\u001b[0;34m\u001b[0m\u001b[0;34m\u001b[0m\u001b[0m\n\u001b[1;32m     65\u001b[0m       \u001b[0;32mfor\u001b[0m \u001b[0mrepo\u001b[0m \u001b[0;32min\u001b[0m \u001b[0mbiggerlist1\u001b[0m\u001b[0;34m:\u001b[0m\u001b[0;34m\u001b[0m\u001b[0;34m\u001b[0m\u001b[0m\n",
            "\u001b[0;32m<ipython-input-87-a41044d93ca8>\u001b[0m in \u001b[0;36mlocal_search\u001b[0;34m(repo, limit, alpha, beta, biggerlist, repo_found, cont_list)\u001b[0m\n\u001b[1;32m     61\u001b[0m       \u001b[0mprint\u001b[0m\u001b[0;34m(\u001b[0m\u001b[0mrepo2\u001b[0m\u001b[0;34m.\u001b[0m\u001b[0mfull_name\u001b[0m\u001b[0;34m)\u001b[0m\u001b[0;34m\u001b[0m\u001b[0;34m\u001b[0m\u001b[0m\n\u001b[1;32m     62\u001b[0m       \u001b[0mprint\u001b[0m\u001b[0;34m(\u001b[0m\u001b[0;34m\"Limit passing is \"\u001b[0m\u001b[0;34m+\u001b[0m\u001b[0mstr\u001b[0m\u001b[0;34m(\u001b[0m\u001b[0mlimit\u001b[0m\u001b[0;34m-\u001b[0m\u001b[0mlen\u001b[0m\u001b[0;34m(\u001b[0m\u001b[0mbiggerlist\u001b[0m\u001b[0;34m)\u001b[0m\u001b[0;34m)\u001b[0m\u001b[0;34m)\u001b[0m\u001b[0;34m\u001b[0m\u001b[0;34m\u001b[0m\u001b[0m\n\u001b[0;32m---> 63\u001b[0;31m       \u001b[0mrepo_found2\u001b[0m\u001b[0;34m,\u001b[0m\u001b[0mbiggerlist1\u001b[0m\u001b[0;34m=\u001b[0m\u001b[0mlocal_search\u001b[0m\u001b[0;34m(\u001b[0m\u001b[0mrepo2\u001b[0m\u001b[0;34m,\u001b[0m\u001b[0mlimit\u001b[0m\u001b[0;34m,\u001b[0m\u001b[0malpha\u001b[0m\u001b[0;34m,\u001b[0m\u001b[0mbeta\u001b[0m\u001b[0;34m,\u001b[0m\u001b[0mbiggerlist\u001b[0m\u001b[0;34m,\u001b[0m\u001b[0mrepo_found\u001b[0m\u001b[0;34m,\u001b[0m\u001b[0mcont_list\u001b[0m\u001b[0;34m)\u001b[0m\u001b[0;34m\u001b[0m\u001b[0;34m\u001b[0m\u001b[0m\n\u001b[0m\u001b[1;32m     64\u001b[0m       \u001b[0mprint\u001b[0m\u001b[0;34m(\u001b[0m\u001b[0;34m\"hi\"\u001b[0m\u001b[0;34m)\u001b[0m\u001b[0;34m\u001b[0m\u001b[0;34m\u001b[0m\u001b[0m\n\u001b[1;32m     65\u001b[0m       \u001b[0;32mfor\u001b[0m \u001b[0mrepo\u001b[0m \u001b[0;32min\u001b[0m \u001b[0mbiggerlist1\u001b[0m\u001b[0;34m:\u001b[0m\u001b[0;34m\u001b[0m\u001b[0;34m\u001b[0m\u001b[0m\n",
            "\u001b[0;32m<ipython-input-87-a41044d93ca8>\u001b[0m in \u001b[0;36mlocal_search\u001b[0;34m(repo, limit, alpha, beta, biggerlist, repo_found, cont_list)\u001b[0m\n\u001b[1;32m     61\u001b[0m       \u001b[0mprint\u001b[0m\u001b[0;34m(\u001b[0m\u001b[0mrepo2\u001b[0m\u001b[0;34m.\u001b[0m\u001b[0mfull_name\u001b[0m\u001b[0;34m)\u001b[0m\u001b[0;34m\u001b[0m\u001b[0;34m\u001b[0m\u001b[0m\n\u001b[1;32m     62\u001b[0m       \u001b[0mprint\u001b[0m\u001b[0;34m(\u001b[0m\u001b[0;34m\"Limit passing is \"\u001b[0m\u001b[0;34m+\u001b[0m\u001b[0mstr\u001b[0m\u001b[0;34m(\u001b[0m\u001b[0mlimit\u001b[0m\u001b[0;34m-\u001b[0m\u001b[0mlen\u001b[0m\u001b[0;34m(\u001b[0m\u001b[0mbiggerlist\u001b[0m\u001b[0;34m)\u001b[0m\u001b[0;34m)\u001b[0m\u001b[0;34m)\u001b[0m\u001b[0;34m\u001b[0m\u001b[0;34m\u001b[0m\u001b[0m\n\u001b[0;32m---> 63\u001b[0;31m       \u001b[0mrepo_found2\u001b[0m\u001b[0;34m,\u001b[0m\u001b[0mbiggerlist1\u001b[0m\u001b[0;34m=\u001b[0m\u001b[0mlocal_search\u001b[0m\u001b[0;34m(\u001b[0m\u001b[0mrepo2\u001b[0m\u001b[0;34m,\u001b[0m\u001b[0mlimit\u001b[0m\u001b[0;34m,\u001b[0m\u001b[0malpha\u001b[0m\u001b[0;34m,\u001b[0m\u001b[0mbeta\u001b[0m\u001b[0;34m,\u001b[0m\u001b[0mbiggerlist\u001b[0m\u001b[0;34m,\u001b[0m\u001b[0mrepo_found\u001b[0m\u001b[0;34m,\u001b[0m\u001b[0mcont_list\u001b[0m\u001b[0;34m)\u001b[0m\u001b[0;34m\u001b[0m\u001b[0;34m\u001b[0m\u001b[0m\n\u001b[0m\u001b[1;32m     64\u001b[0m       \u001b[0mprint\u001b[0m\u001b[0;34m(\u001b[0m\u001b[0;34m\"hi\"\u001b[0m\u001b[0;34m)\u001b[0m\u001b[0;34m\u001b[0m\u001b[0;34m\u001b[0m\u001b[0m\n\u001b[1;32m     65\u001b[0m       \u001b[0;32mfor\u001b[0m \u001b[0mrepo\u001b[0m \u001b[0;32min\u001b[0m \u001b[0mbiggerlist1\u001b[0m\u001b[0;34m:\u001b[0m\u001b[0;34m\u001b[0m\u001b[0;34m\u001b[0m\u001b[0m\n",
            "\u001b[0;32m<ipython-input-87-a41044d93ca8>\u001b[0m in \u001b[0;36mlocal_search\u001b[0;34m(repo, limit, alpha, beta, biggerlist, repo_found, cont_list)\u001b[0m\n\u001b[1;32m     61\u001b[0m       \u001b[0mprint\u001b[0m\u001b[0;34m(\u001b[0m\u001b[0mrepo2\u001b[0m\u001b[0;34m.\u001b[0m\u001b[0mfull_name\u001b[0m\u001b[0;34m)\u001b[0m\u001b[0;34m\u001b[0m\u001b[0;34m\u001b[0m\u001b[0m\n\u001b[1;32m     62\u001b[0m       \u001b[0mprint\u001b[0m\u001b[0;34m(\u001b[0m\u001b[0;34m\"Limit passing is \"\u001b[0m\u001b[0;34m+\u001b[0m\u001b[0mstr\u001b[0m\u001b[0;34m(\u001b[0m\u001b[0mlimit\u001b[0m\u001b[0;34m-\u001b[0m\u001b[0mlen\u001b[0m\u001b[0;34m(\u001b[0m\u001b[0mbiggerlist\u001b[0m\u001b[0;34m)\u001b[0m\u001b[0;34m)\u001b[0m\u001b[0;34m)\u001b[0m\u001b[0;34m\u001b[0m\u001b[0;34m\u001b[0m\u001b[0m\n\u001b[0;32m---> 63\u001b[0;31m       \u001b[0mrepo_found2\u001b[0m\u001b[0;34m,\u001b[0m\u001b[0mbiggerlist1\u001b[0m\u001b[0;34m=\u001b[0m\u001b[0mlocal_search\u001b[0m\u001b[0;34m(\u001b[0m\u001b[0mrepo2\u001b[0m\u001b[0;34m,\u001b[0m\u001b[0mlimit\u001b[0m\u001b[0;34m,\u001b[0m\u001b[0malpha\u001b[0m\u001b[0;34m,\u001b[0m\u001b[0mbeta\u001b[0m\u001b[0;34m,\u001b[0m\u001b[0mbiggerlist\u001b[0m\u001b[0;34m,\u001b[0m\u001b[0mrepo_found\u001b[0m\u001b[0;34m,\u001b[0m\u001b[0mcont_list\u001b[0m\u001b[0;34m)\u001b[0m\u001b[0;34m\u001b[0m\u001b[0;34m\u001b[0m\u001b[0m\n\u001b[0m\u001b[1;32m     64\u001b[0m       \u001b[0mprint\u001b[0m\u001b[0;34m(\u001b[0m\u001b[0;34m\"hi\"\u001b[0m\u001b[0;34m)\u001b[0m\u001b[0;34m\u001b[0m\u001b[0;34m\u001b[0m\u001b[0m\n\u001b[1;32m     65\u001b[0m       \u001b[0;32mfor\u001b[0m \u001b[0mrepo\u001b[0m \u001b[0;32min\u001b[0m \u001b[0mbiggerlist1\u001b[0m\u001b[0;34m:\u001b[0m\u001b[0;34m\u001b[0m\u001b[0;34m\u001b[0m\u001b[0m\n",
            "\u001b[0;32m<ipython-input-87-a41044d93ca8>\u001b[0m in \u001b[0;36mlocal_search\u001b[0;34m(repo, limit, alpha, beta, biggerlist, repo_found, cont_list)\u001b[0m\n\u001b[1;32m     61\u001b[0m       \u001b[0mprint\u001b[0m\u001b[0;34m(\u001b[0m\u001b[0mrepo2\u001b[0m\u001b[0;34m.\u001b[0m\u001b[0mfull_name\u001b[0m\u001b[0;34m)\u001b[0m\u001b[0;34m\u001b[0m\u001b[0;34m\u001b[0m\u001b[0m\n\u001b[1;32m     62\u001b[0m       \u001b[0mprint\u001b[0m\u001b[0;34m(\u001b[0m\u001b[0;34m\"Limit passing is \"\u001b[0m\u001b[0;34m+\u001b[0m\u001b[0mstr\u001b[0m\u001b[0;34m(\u001b[0m\u001b[0mlimit\u001b[0m\u001b[0;34m-\u001b[0m\u001b[0mlen\u001b[0m\u001b[0;34m(\u001b[0m\u001b[0mbiggerlist\u001b[0m\u001b[0;34m)\u001b[0m\u001b[0;34m)\u001b[0m\u001b[0;34m)\u001b[0m\u001b[0;34m\u001b[0m\u001b[0;34m\u001b[0m\u001b[0m\n\u001b[0;32m---> 63\u001b[0;31m       \u001b[0mrepo_found2\u001b[0m\u001b[0;34m,\u001b[0m\u001b[0mbiggerlist1\u001b[0m\u001b[0;34m=\u001b[0m\u001b[0mlocal_search\u001b[0m\u001b[0;34m(\u001b[0m\u001b[0mrepo2\u001b[0m\u001b[0;34m,\u001b[0m\u001b[0mlimit\u001b[0m\u001b[0;34m,\u001b[0m\u001b[0malpha\u001b[0m\u001b[0;34m,\u001b[0m\u001b[0mbeta\u001b[0m\u001b[0;34m,\u001b[0m\u001b[0mbiggerlist\u001b[0m\u001b[0;34m,\u001b[0m\u001b[0mrepo_found\u001b[0m\u001b[0;34m,\u001b[0m\u001b[0mcont_list\u001b[0m\u001b[0;34m)\u001b[0m\u001b[0;34m\u001b[0m\u001b[0;34m\u001b[0m\u001b[0m\n\u001b[0m\u001b[1;32m     64\u001b[0m       \u001b[0mprint\u001b[0m\u001b[0;34m(\u001b[0m\u001b[0;34m\"hi\"\u001b[0m\u001b[0;34m)\u001b[0m\u001b[0;34m\u001b[0m\u001b[0;34m\u001b[0m\u001b[0m\n\u001b[1;32m     65\u001b[0m       \u001b[0;32mfor\u001b[0m \u001b[0mrepo\u001b[0m \u001b[0;32min\u001b[0m \u001b[0mbiggerlist1\u001b[0m\u001b[0;34m:\u001b[0m\u001b[0;34m\u001b[0m\u001b[0;34m\u001b[0m\u001b[0m\n",
            "\u001b[0;32m<ipython-input-87-a41044d93ca8>\u001b[0m in \u001b[0;36mlocal_search\u001b[0;34m(repo, limit, alpha, beta, biggerlist, repo_found, cont_list)\u001b[0m\n\u001b[1;32m     61\u001b[0m       \u001b[0mprint\u001b[0m\u001b[0;34m(\u001b[0m\u001b[0mrepo2\u001b[0m\u001b[0;34m.\u001b[0m\u001b[0mfull_name\u001b[0m\u001b[0;34m)\u001b[0m\u001b[0;34m\u001b[0m\u001b[0;34m\u001b[0m\u001b[0m\n\u001b[1;32m     62\u001b[0m       \u001b[0mprint\u001b[0m\u001b[0;34m(\u001b[0m\u001b[0;34m\"Limit passing is \"\u001b[0m\u001b[0;34m+\u001b[0m\u001b[0mstr\u001b[0m\u001b[0;34m(\u001b[0m\u001b[0mlimit\u001b[0m\u001b[0;34m-\u001b[0m\u001b[0mlen\u001b[0m\u001b[0;34m(\u001b[0m\u001b[0mbiggerlist\u001b[0m\u001b[0;34m)\u001b[0m\u001b[0;34m)\u001b[0m\u001b[0;34m)\u001b[0m\u001b[0;34m\u001b[0m\u001b[0;34m\u001b[0m\u001b[0m\n\u001b[0;32m---> 63\u001b[0;31m       \u001b[0mrepo_found2\u001b[0m\u001b[0;34m,\u001b[0m\u001b[0mbiggerlist1\u001b[0m\u001b[0;34m=\u001b[0m\u001b[0mlocal_search\u001b[0m\u001b[0;34m(\u001b[0m\u001b[0mrepo2\u001b[0m\u001b[0;34m,\u001b[0m\u001b[0mlimit\u001b[0m\u001b[0;34m,\u001b[0m\u001b[0malpha\u001b[0m\u001b[0;34m,\u001b[0m\u001b[0mbeta\u001b[0m\u001b[0;34m,\u001b[0m\u001b[0mbiggerlist\u001b[0m\u001b[0;34m,\u001b[0m\u001b[0mrepo_found\u001b[0m\u001b[0;34m,\u001b[0m\u001b[0mcont_list\u001b[0m\u001b[0;34m)\u001b[0m\u001b[0;34m\u001b[0m\u001b[0;34m\u001b[0m\u001b[0m\n\u001b[0m\u001b[1;32m     64\u001b[0m       \u001b[0mprint\u001b[0m\u001b[0;34m(\u001b[0m\u001b[0;34m\"hi\"\u001b[0m\u001b[0;34m)\u001b[0m\u001b[0;34m\u001b[0m\u001b[0;34m\u001b[0m\u001b[0m\n\u001b[1;32m     65\u001b[0m       \u001b[0;32mfor\u001b[0m \u001b[0mrepo\u001b[0m \u001b[0;32min\u001b[0m \u001b[0mbiggerlist1\u001b[0m\u001b[0;34m:\u001b[0m\u001b[0;34m\u001b[0m\u001b[0;34m\u001b[0m\u001b[0m\n",
            "\u001b[0;32m<ipython-input-87-a41044d93ca8>\u001b[0m in \u001b[0;36mlocal_search\u001b[0;34m(repo, limit, alpha, beta, biggerlist, repo_found, cont_list)\u001b[0m\n\u001b[1;32m     61\u001b[0m       \u001b[0mprint\u001b[0m\u001b[0;34m(\u001b[0m\u001b[0mrepo2\u001b[0m\u001b[0;34m.\u001b[0m\u001b[0mfull_name\u001b[0m\u001b[0;34m)\u001b[0m\u001b[0;34m\u001b[0m\u001b[0;34m\u001b[0m\u001b[0m\n\u001b[1;32m     62\u001b[0m       \u001b[0mprint\u001b[0m\u001b[0;34m(\u001b[0m\u001b[0;34m\"Limit passing is \"\u001b[0m\u001b[0;34m+\u001b[0m\u001b[0mstr\u001b[0m\u001b[0;34m(\u001b[0m\u001b[0mlimit\u001b[0m\u001b[0;34m-\u001b[0m\u001b[0mlen\u001b[0m\u001b[0;34m(\u001b[0m\u001b[0mbiggerlist\u001b[0m\u001b[0;34m)\u001b[0m\u001b[0;34m)\u001b[0m\u001b[0;34m)\u001b[0m\u001b[0;34m\u001b[0m\u001b[0;34m\u001b[0m\u001b[0m\n\u001b[0;32m---> 63\u001b[0;31m       \u001b[0mrepo_found2\u001b[0m\u001b[0;34m,\u001b[0m\u001b[0mbiggerlist1\u001b[0m\u001b[0;34m=\u001b[0m\u001b[0mlocal_search\u001b[0m\u001b[0;34m(\u001b[0m\u001b[0mrepo2\u001b[0m\u001b[0;34m,\u001b[0m\u001b[0mlimit\u001b[0m\u001b[0;34m,\u001b[0m\u001b[0malpha\u001b[0m\u001b[0;34m,\u001b[0m\u001b[0mbeta\u001b[0m\u001b[0;34m,\u001b[0m\u001b[0mbiggerlist\u001b[0m\u001b[0;34m,\u001b[0m\u001b[0mrepo_found\u001b[0m\u001b[0;34m,\u001b[0m\u001b[0mcont_list\u001b[0m\u001b[0;34m)\u001b[0m\u001b[0;34m\u001b[0m\u001b[0;34m\u001b[0m\u001b[0m\n\u001b[0m\u001b[1;32m     64\u001b[0m       \u001b[0mprint\u001b[0m\u001b[0;34m(\u001b[0m\u001b[0;34m\"hi\"\u001b[0m\u001b[0;34m)\u001b[0m\u001b[0;34m\u001b[0m\u001b[0;34m\u001b[0m\u001b[0m\n\u001b[1;32m     65\u001b[0m       \u001b[0;32mfor\u001b[0m \u001b[0mrepo\u001b[0m \u001b[0;32min\u001b[0m \u001b[0mbiggerlist1\u001b[0m\u001b[0;34m:\u001b[0m\u001b[0;34m\u001b[0m\u001b[0;34m\u001b[0m\u001b[0m\n",
            "\u001b[0;32m<ipython-input-87-a41044d93ca8>\u001b[0m in \u001b[0;36mlocal_search\u001b[0;34m(repo, limit, alpha, beta, biggerlist, repo_found, cont_list)\u001b[0m\n\u001b[1;32m     61\u001b[0m       \u001b[0mprint\u001b[0m\u001b[0;34m(\u001b[0m\u001b[0mrepo2\u001b[0m\u001b[0;34m.\u001b[0m\u001b[0mfull_name\u001b[0m\u001b[0;34m)\u001b[0m\u001b[0;34m\u001b[0m\u001b[0;34m\u001b[0m\u001b[0m\n\u001b[1;32m     62\u001b[0m       \u001b[0mprint\u001b[0m\u001b[0;34m(\u001b[0m\u001b[0;34m\"Limit passing is \"\u001b[0m\u001b[0;34m+\u001b[0m\u001b[0mstr\u001b[0m\u001b[0;34m(\u001b[0m\u001b[0mlimit\u001b[0m\u001b[0;34m-\u001b[0m\u001b[0mlen\u001b[0m\u001b[0;34m(\u001b[0m\u001b[0mbiggerlist\u001b[0m\u001b[0;34m)\u001b[0m\u001b[0;34m)\u001b[0m\u001b[0;34m)\u001b[0m\u001b[0;34m\u001b[0m\u001b[0;34m\u001b[0m\u001b[0m\n\u001b[0;32m---> 63\u001b[0;31m       \u001b[0mrepo_found2\u001b[0m\u001b[0;34m,\u001b[0m\u001b[0mbiggerlist1\u001b[0m\u001b[0;34m=\u001b[0m\u001b[0mlocal_search\u001b[0m\u001b[0;34m(\u001b[0m\u001b[0mrepo2\u001b[0m\u001b[0;34m,\u001b[0m\u001b[0mlimit\u001b[0m\u001b[0;34m,\u001b[0m\u001b[0malpha\u001b[0m\u001b[0;34m,\u001b[0m\u001b[0mbeta\u001b[0m\u001b[0;34m,\u001b[0m\u001b[0mbiggerlist\u001b[0m\u001b[0;34m,\u001b[0m\u001b[0mrepo_found\u001b[0m\u001b[0;34m,\u001b[0m\u001b[0mcont_list\u001b[0m\u001b[0;34m)\u001b[0m\u001b[0;34m\u001b[0m\u001b[0;34m\u001b[0m\u001b[0m\n\u001b[0m\u001b[1;32m     64\u001b[0m       \u001b[0mprint\u001b[0m\u001b[0;34m(\u001b[0m\u001b[0;34m\"hi\"\u001b[0m\u001b[0;34m)\u001b[0m\u001b[0;34m\u001b[0m\u001b[0;34m\u001b[0m\u001b[0m\n\u001b[1;32m     65\u001b[0m       \u001b[0;32mfor\u001b[0m \u001b[0mrepo\u001b[0m \u001b[0;32min\u001b[0m \u001b[0mbiggerlist1\u001b[0m\u001b[0;34m:\u001b[0m\u001b[0;34m\u001b[0m\u001b[0;34m\u001b[0m\u001b[0m\n",
            "\u001b[0;32m<ipython-input-87-a41044d93ca8>\u001b[0m in \u001b[0;36mlocal_search\u001b[0;34m(repo, limit, alpha, beta, biggerlist, repo_found, cont_list)\u001b[0m\n\u001b[1;32m     61\u001b[0m       \u001b[0mprint\u001b[0m\u001b[0;34m(\u001b[0m\u001b[0mrepo2\u001b[0m\u001b[0;34m.\u001b[0m\u001b[0mfull_name\u001b[0m\u001b[0;34m)\u001b[0m\u001b[0;34m\u001b[0m\u001b[0;34m\u001b[0m\u001b[0m\n\u001b[1;32m     62\u001b[0m       \u001b[0mprint\u001b[0m\u001b[0;34m(\u001b[0m\u001b[0;34m\"Limit passing is \"\u001b[0m\u001b[0;34m+\u001b[0m\u001b[0mstr\u001b[0m\u001b[0;34m(\u001b[0m\u001b[0mlimit\u001b[0m\u001b[0;34m-\u001b[0m\u001b[0mlen\u001b[0m\u001b[0;34m(\u001b[0m\u001b[0mbiggerlist\u001b[0m\u001b[0;34m)\u001b[0m\u001b[0;34m)\u001b[0m\u001b[0;34m)\u001b[0m\u001b[0;34m\u001b[0m\u001b[0;34m\u001b[0m\u001b[0m\n\u001b[0;32m---> 63\u001b[0;31m       \u001b[0mrepo_found2\u001b[0m\u001b[0;34m,\u001b[0m\u001b[0mbiggerlist1\u001b[0m\u001b[0;34m=\u001b[0m\u001b[0mlocal_search\u001b[0m\u001b[0;34m(\u001b[0m\u001b[0mrepo2\u001b[0m\u001b[0;34m,\u001b[0m\u001b[0mlimit\u001b[0m\u001b[0;34m,\u001b[0m\u001b[0malpha\u001b[0m\u001b[0;34m,\u001b[0m\u001b[0mbeta\u001b[0m\u001b[0;34m,\u001b[0m\u001b[0mbiggerlist\u001b[0m\u001b[0;34m,\u001b[0m\u001b[0mrepo_found\u001b[0m\u001b[0;34m,\u001b[0m\u001b[0mcont_list\u001b[0m\u001b[0;34m)\u001b[0m\u001b[0;34m\u001b[0m\u001b[0;34m\u001b[0m\u001b[0m\n\u001b[0m\u001b[1;32m     64\u001b[0m       \u001b[0mprint\u001b[0m\u001b[0;34m(\u001b[0m\u001b[0;34m\"hi\"\u001b[0m\u001b[0;34m)\u001b[0m\u001b[0;34m\u001b[0m\u001b[0;34m\u001b[0m\u001b[0m\n\u001b[1;32m     65\u001b[0m       \u001b[0;32mfor\u001b[0m \u001b[0mrepo\u001b[0m \u001b[0;32min\u001b[0m \u001b[0mbiggerlist1\u001b[0m\u001b[0;34m:\u001b[0m\u001b[0;34m\u001b[0m\u001b[0;34m\u001b[0m\u001b[0m\n",
            "\u001b[0;32m<ipython-input-87-a41044d93ca8>\u001b[0m in \u001b[0;36mlocal_search\u001b[0;34m(repo, limit, alpha, beta, biggerlist, repo_found, cont_list)\u001b[0m\n\u001b[1;32m     61\u001b[0m       \u001b[0mprint\u001b[0m\u001b[0;34m(\u001b[0m\u001b[0mrepo2\u001b[0m\u001b[0;34m.\u001b[0m\u001b[0mfull_name\u001b[0m\u001b[0;34m)\u001b[0m\u001b[0;34m\u001b[0m\u001b[0;34m\u001b[0m\u001b[0m\n\u001b[1;32m     62\u001b[0m       \u001b[0mprint\u001b[0m\u001b[0;34m(\u001b[0m\u001b[0;34m\"Limit passing is \"\u001b[0m\u001b[0;34m+\u001b[0m\u001b[0mstr\u001b[0m\u001b[0;34m(\u001b[0m\u001b[0mlimit\u001b[0m\u001b[0;34m-\u001b[0m\u001b[0mlen\u001b[0m\u001b[0;34m(\u001b[0m\u001b[0mbiggerlist\u001b[0m\u001b[0;34m)\u001b[0m\u001b[0;34m)\u001b[0m\u001b[0;34m)\u001b[0m\u001b[0;34m\u001b[0m\u001b[0;34m\u001b[0m\u001b[0m\n\u001b[0;32m---> 63\u001b[0;31m       \u001b[0mrepo_found2\u001b[0m\u001b[0;34m,\u001b[0m\u001b[0mbiggerlist1\u001b[0m\u001b[0;34m=\u001b[0m\u001b[0mlocal_search\u001b[0m\u001b[0;34m(\u001b[0m\u001b[0mrepo2\u001b[0m\u001b[0;34m,\u001b[0m\u001b[0mlimit\u001b[0m\u001b[0;34m,\u001b[0m\u001b[0malpha\u001b[0m\u001b[0;34m,\u001b[0m\u001b[0mbeta\u001b[0m\u001b[0;34m,\u001b[0m\u001b[0mbiggerlist\u001b[0m\u001b[0;34m,\u001b[0m\u001b[0mrepo_found\u001b[0m\u001b[0;34m,\u001b[0m\u001b[0mcont_list\u001b[0m\u001b[0;34m)\u001b[0m\u001b[0;34m\u001b[0m\u001b[0;34m\u001b[0m\u001b[0m\n\u001b[0m\u001b[1;32m     64\u001b[0m       \u001b[0mprint\u001b[0m\u001b[0;34m(\u001b[0m\u001b[0;34m\"hi\"\u001b[0m\u001b[0;34m)\u001b[0m\u001b[0;34m\u001b[0m\u001b[0;34m\u001b[0m\u001b[0m\n\u001b[1;32m     65\u001b[0m       \u001b[0;32mfor\u001b[0m \u001b[0mrepo\u001b[0m \u001b[0;32min\u001b[0m \u001b[0mbiggerlist1\u001b[0m\u001b[0;34m:\u001b[0m\u001b[0;34m\u001b[0m\u001b[0;34m\u001b[0m\u001b[0m\n",
            "\u001b[0;32m<ipython-input-87-a41044d93ca8>\u001b[0m in \u001b[0;36mlocal_search\u001b[0;34m(repo, limit, alpha, beta, biggerlist, repo_found, cont_list)\u001b[0m\n\u001b[1;32m     61\u001b[0m       \u001b[0mprint\u001b[0m\u001b[0;34m(\u001b[0m\u001b[0mrepo2\u001b[0m\u001b[0;34m.\u001b[0m\u001b[0mfull_name\u001b[0m\u001b[0;34m)\u001b[0m\u001b[0;34m\u001b[0m\u001b[0;34m\u001b[0m\u001b[0m\n\u001b[1;32m     62\u001b[0m       \u001b[0mprint\u001b[0m\u001b[0;34m(\u001b[0m\u001b[0;34m\"Limit passing is \"\u001b[0m\u001b[0;34m+\u001b[0m\u001b[0mstr\u001b[0m\u001b[0;34m(\u001b[0m\u001b[0mlimit\u001b[0m\u001b[0;34m-\u001b[0m\u001b[0mlen\u001b[0m\u001b[0;34m(\u001b[0m\u001b[0mbiggerlist\u001b[0m\u001b[0;34m)\u001b[0m\u001b[0;34m)\u001b[0m\u001b[0;34m)\u001b[0m\u001b[0;34m\u001b[0m\u001b[0;34m\u001b[0m\u001b[0m\n\u001b[0;32m---> 63\u001b[0;31m       \u001b[0mrepo_found2\u001b[0m\u001b[0;34m,\u001b[0m\u001b[0mbiggerlist1\u001b[0m\u001b[0;34m=\u001b[0m\u001b[0mlocal_search\u001b[0m\u001b[0;34m(\u001b[0m\u001b[0mrepo2\u001b[0m\u001b[0;34m,\u001b[0m\u001b[0mlimit\u001b[0m\u001b[0;34m,\u001b[0m\u001b[0malpha\u001b[0m\u001b[0;34m,\u001b[0m\u001b[0mbeta\u001b[0m\u001b[0;34m,\u001b[0m\u001b[0mbiggerlist\u001b[0m\u001b[0;34m,\u001b[0m\u001b[0mrepo_found\u001b[0m\u001b[0;34m,\u001b[0m\u001b[0mcont_list\u001b[0m\u001b[0;34m)\u001b[0m\u001b[0;34m\u001b[0m\u001b[0;34m\u001b[0m\u001b[0m\n\u001b[0m\u001b[1;32m     64\u001b[0m       \u001b[0mprint\u001b[0m\u001b[0;34m(\u001b[0m\u001b[0;34m\"hi\"\u001b[0m\u001b[0;34m)\u001b[0m\u001b[0;34m\u001b[0m\u001b[0;34m\u001b[0m\u001b[0m\n\u001b[1;32m     65\u001b[0m       \u001b[0;32mfor\u001b[0m \u001b[0mrepo\u001b[0m \u001b[0;32min\u001b[0m \u001b[0mbiggerlist1\u001b[0m\u001b[0;34m:\u001b[0m\u001b[0;34m\u001b[0m\u001b[0;34m\u001b[0m\u001b[0m\n",
            "\u001b[0;32m<ipython-input-87-a41044d93ca8>\u001b[0m in \u001b[0;36mlocal_search\u001b[0;34m(repo, limit, alpha, beta, biggerlist, repo_found, cont_list)\u001b[0m\n\u001b[1;32m     61\u001b[0m       \u001b[0mprint\u001b[0m\u001b[0;34m(\u001b[0m\u001b[0mrepo2\u001b[0m\u001b[0;34m.\u001b[0m\u001b[0mfull_name\u001b[0m\u001b[0;34m)\u001b[0m\u001b[0;34m\u001b[0m\u001b[0;34m\u001b[0m\u001b[0m\n\u001b[1;32m     62\u001b[0m       \u001b[0mprint\u001b[0m\u001b[0;34m(\u001b[0m\u001b[0;34m\"Limit passing is \"\u001b[0m\u001b[0;34m+\u001b[0m\u001b[0mstr\u001b[0m\u001b[0;34m(\u001b[0m\u001b[0mlimit\u001b[0m\u001b[0;34m-\u001b[0m\u001b[0mlen\u001b[0m\u001b[0;34m(\u001b[0m\u001b[0mbiggerlist\u001b[0m\u001b[0;34m)\u001b[0m\u001b[0;34m)\u001b[0m\u001b[0;34m)\u001b[0m\u001b[0;34m\u001b[0m\u001b[0;34m\u001b[0m\u001b[0m\n\u001b[0;32m---> 63\u001b[0;31m       \u001b[0mrepo_found2\u001b[0m\u001b[0;34m,\u001b[0m\u001b[0mbiggerlist1\u001b[0m\u001b[0;34m=\u001b[0m\u001b[0mlocal_search\u001b[0m\u001b[0;34m(\u001b[0m\u001b[0mrepo2\u001b[0m\u001b[0;34m,\u001b[0m\u001b[0mlimit\u001b[0m\u001b[0;34m,\u001b[0m\u001b[0malpha\u001b[0m\u001b[0;34m,\u001b[0m\u001b[0mbeta\u001b[0m\u001b[0;34m,\u001b[0m\u001b[0mbiggerlist\u001b[0m\u001b[0;34m,\u001b[0m\u001b[0mrepo_found\u001b[0m\u001b[0;34m,\u001b[0m\u001b[0mcont_list\u001b[0m\u001b[0;34m)\u001b[0m\u001b[0;34m\u001b[0m\u001b[0;34m\u001b[0m\u001b[0m\n\u001b[0m\u001b[1;32m     64\u001b[0m       \u001b[0mprint\u001b[0m\u001b[0;34m(\u001b[0m\u001b[0;34m\"hi\"\u001b[0m\u001b[0;34m)\u001b[0m\u001b[0;34m\u001b[0m\u001b[0;34m\u001b[0m\u001b[0m\n\u001b[1;32m     65\u001b[0m       \u001b[0;32mfor\u001b[0m \u001b[0mrepo\u001b[0m \u001b[0;32min\u001b[0m \u001b[0mbiggerlist1\u001b[0m\u001b[0;34m:\u001b[0m\u001b[0;34m\u001b[0m\u001b[0;34m\u001b[0m\u001b[0m\n",
            "\u001b[0;32m<ipython-input-87-a41044d93ca8>\u001b[0m in \u001b[0;36mlocal_search\u001b[0;34m(repo, limit, alpha, beta, biggerlist, repo_found, cont_list)\u001b[0m\n\u001b[1;32m     61\u001b[0m       \u001b[0mprint\u001b[0m\u001b[0;34m(\u001b[0m\u001b[0mrepo2\u001b[0m\u001b[0;34m.\u001b[0m\u001b[0mfull_name\u001b[0m\u001b[0;34m)\u001b[0m\u001b[0;34m\u001b[0m\u001b[0;34m\u001b[0m\u001b[0m\n\u001b[1;32m     62\u001b[0m       \u001b[0mprint\u001b[0m\u001b[0;34m(\u001b[0m\u001b[0;34m\"Limit passing is \"\u001b[0m\u001b[0;34m+\u001b[0m\u001b[0mstr\u001b[0m\u001b[0;34m(\u001b[0m\u001b[0mlimit\u001b[0m\u001b[0;34m-\u001b[0m\u001b[0mlen\u001b[0m\u001b[0;34m(\u001b[0m\u001b[0mbiggerlist\u001b[0m\u001b[0;34m)\u001b[0m\u001b[0;34m)\u001b[0m\u001b[0;34m)\u001b[0m\u001b[0;34m\u001b[0m\u001b[0;34m\u001b[0m\u001b[0m\n\u001b[0;32m---> 63\u001b[0;31m       \u001b[0mrepo_found2\u001b[0m\u001b[0;34m,\u001b[0m\u001b[0mbiggerlist1\u001b[0m\u001b[0;34m=\u001b[0m\u001b[0mlocal_search\u001b[0m\u001b[0;34m(\u001b[0m\u001b[0mrepo2\u001b[0m\u001b[0;34m,\u001b[0m\u001b[0mlimit\u001b[0m\u001b[0;34m,\u001b[0m\u001b[0malpha\u001b[0m\u001b[0;34m,\u001b[0m\u001b[0mbeta\u001b[0m\u001b[0;34m,\u001b[0m\u001b[0mbiggerlist\u001b[0m\u001b[0;34m,\u001b[0m\u001b[0mrepo_found\u001b[0m\u001b[0;34m,\u001b[0m\u001b[0mcont_list\u001b[0m\u001b[0;34m)\u001b[0m\u001b[0;34m\u001b[0m\u001b[0;34m\u001b[0m\u001b[0m\n\u001b[0m\u001b[1;32m     64\u001b[0m       \u001b[0mprint\u001b[0m\u001b[0;34m(\u001b[0m\u001b[0;34m\"hi\"\u001b[0m\u001b[0;34m)\u001b[0m\u001b[0;34m\u001b[0m\u001b[0;34m\u001b[0m\u001b[0m\n\u001b[1;32m     65\u001b[0m       \u001b[0;32mfor\u001b[0m \u001b[0mrepo\u001b[0m \u001b[0;32min\u001b[0m \u001b[0mbiggerlist1\u001b[0m\u001b[0;34m:\u001b[0m\u001b[0;34m\u001b[0m\u001b[0;34m\u001b[0m\u001b[0m\n",
            "\u001b[0;32m<ipython-input-87-a41044d93ca8>\u001b[0m in \u001b[0;36mlocal_search\u001b[0;34m(repo, limit, alpha, beta, biggerlist, repo_found, cont_list)\u001b[0m\n\u001b[1;32m     61\u001b[0m       \u001b[0mprint\u001b[0m\u001b[0;34m(\u001b[0m\u001b[0mrepo2\u001b[0m\u001b[0;34m.\u001b[0m\u001b[0mfull_name\u001b[0m\u001b[0;34m)\u001b[0m\u001b[0;34m\u001b[0m\u001b[0;34m\u001b[0m\u001b[0m\n\u001b[1;32m     62\u001b[0m       \u001b[0mprint\u001b[0m\u001b[0;34m(\u001b[0m\u001b[0;34m\"Limit passing is \"\u001b[0m\u001b[0;34m+\u001b[0m\u001b[0mstr\u001b[0m\u001b[0;34m(\u001b[0m\u001b[0mlimit\u001b[0m\u001b[0;34m-\u001b[0m\u001b[0mlen\u001b[0m\u001b[0;34m(\u001b[0m\u001b[0mbiggerlist\u001b[0m\u001b[0;34m)\u001b[0m\u001b[0;34m)\u001b[0m\u001b[0;34m)\u001b[0m\u001b[0;34m\u001b[0m\u001b[0;34m\u001b[0m\u001b[0m\n\u001b[0;32m---> 63\u001b[0;31m       \u001b[0mrepo_found2\u001b[0m\u001b[0;34m,\u001b[0m\u001b[0mbiggerlist1\u001b[0m\u001b[0;34m=\u001b[0m\u001b[0mlocal_search\u001b[0m\u001b[0;34m(\u001b[0m\u001b[0mrepo2\u001b[0m\u001b[0;34m,\u001b[0m\u001b[0mlimit\u001b[0m\u001b[0;34m,\u001b[0m\u001b[0malpha\u001b[0m\u001b[0;34m,\u001b[0m\u001b[0mbeta\u001b[0m\u001b[0;34m,\u001b[0m\u001b[0mbiggerlist\u001b[0m\u001b[0;34m,\u001b[0m\u001b[0mrepo_found\u001b[0m\u001b[0;34m,\u001b[0m\u001b[0mcont_list\u001b[0m\u001b[0;34m)\u001b[0m\u001b[0;34m\u001b[0m\u001b[0;34m\u001b[0m\u001b[0m\n\u001b[0m\u001b[1;32m     64\u001b[0m       \u001b[0mprint\u001b[0m\u001b[0;34m(\u001b[0m\u001b[0;34m\"hi\"\u001b[0m\u001b[0;34m)\u001b[0m\u001b[0;34m\u001b[0m\u001b[0;34m\u001b[0m\u001b[0m\n\u001b[1;32m     65\u001b[0m       \u001b[0;32mfor\u001b[0m \u001b[0mrepo\u001b[0m \u001b[0;32min\u001b[0m \u001b[0mbiggerlist1\u001b[0m\u001b[0;34m:\u001b[0m\u001b[0;34m\u001b[0m\u001b[0;34m\u001b[0m\u001b[0m\n",
            "\u001b[0;32m<ipython-input-87-a41044d93ca8>\u001b[0m in \u001b[0;36mlocal_search\u001b[0;34m(repo, limit, alpha, beta, biggerlist, repo_found, cont_list)\u001b[0m\n\u001b[1;32m     61\u001b[0m       \u001b[0mprint\u001b[0m\u001b[0;34m(\u001b[0m\u001b[0mrepo2\u001b[0m\u001b[0;34m.\u001b[0m\u001b[0mfull_name\u001b[0m\u001b[0;34m)\u001b[0m\u001b[0;34m\u001b[0m\u001b[0;34m\u001b[0m\u001b[0m\n\u001b[1;32m     62\u001b[0m       \u001b[0mprint\u001b[0m\u001b[0;34m(\u001b[0m\u001b[0;34m\"Limit passing is \"\u001b[0m\u001b[0;34m+\u001b[0m\u001b[0mstr\u001b[0m\u001b[0;34m(\u001b[0m\u001b[0mlimit\u001b[0m\u001b[0;34m-\u001b[0m\u001b[0mlen\u001b[0m\u001b[0;34m(\u001b[0m\u001b[0mbiggerlist\u001b[0m\u001b[0;34m)\u001b[0m\u001b[0;34m)\u001b[0m\u001b[0;34m)\u001b[0m\u001b[0;34m\u001b[0m\u001b[0;34m\u001b[0m\u001b[0m\n\u001b[0;32m---> 63\u001b[0;31m       \u001b[0mrepo_found2\u001b[0m\u001b[0;34m,\u001b[0m\u001b[0mbiggerlist1\u001b[0m\u001b[0;34m=\u001b[0m\u001b[0mlocal_search\u001b[0m\u001b[0;34m(\u001b[0m\u001b[0mrepo2\u001b[0m\u001b[0;34m,\u001b[0m\u001b[0mlimit\u001b[0m\u001b[0;34m,\u001b[0m\u001b[0malpha\u001b[0m\u001b[0;34m,\u001b[0m\u001b[0mbeta\u001b[0m\u001b[0;34m,\u001b[0m\u001b[0mbiggerlist\u001b[0m\u001b[0;34m,\u001b[0m\u001b[0mrepo_found\u001b[0m\u001b[0;34m,\u001b[0m\u001b[0mcont_list\u001b[0m\u001b[0;34m)\u001b[0m\u001b[0;34m\u001b[0m\u001b[0;34m\u001b[0m\u001b[0m\n\u001b[0m\u001b[1;32m     64\u001b[0m       \u001b[0mprint\u001b[0m\u001b[0;34m(\u001b[0m\u001b[0;34m\"hi\"\u001b[0m\u001b[0;34m)\u001b[0m\u001b[0;34m\u001b[0m\u001b[0;34m\u001b[0m\u001b[0m\n\u001b[1;32m     65\u001b[0m       \u001b[0;32mfor\u001b[0m \u001b[0mrepo\u001b[0m \u001b[0;32min\u001b[0m \u001b[0mbiggerlist1\u001b[0m\u001b[0;34m:\u001b[0m\u001b[0;34m\u001b[0m\u001b[0;34m\u001b[0m\u001b[0m\n",
            "\u001b[0;32m<ipython-input-87-a41044d93ca8>\u001b[0m in \u001b[0;36mlocal_search\u001b[0;34m(repo, limit, alpha, beta, biggerlist, repo_found, cont_list)\u001b[0m\n\u001b[1;32m     61\u001b[0m       \u001b[0mprint\u001b[0m\u001b[0;34m(\u001b[0m\u001b[0mrepo2\u001b[0m\u001b[0;34m.\u001b[0m\u001b[0mfull_name\u001b[0m\u001b[0;34m)\u001b[0m\u001b[0;34m\u001b[0m\u001b[0;34m\u001b[0m\u001b[0m\n\u001b[1;32m     62\u001b[0m       \u001b[0mprint\u001b[0m\u001b[0;34m(\u001b[0m\u001b[0;34m\"Limit passing is \"\u001b[0m\u001b[0;34m+\u001b[0m\u001b[0mstr\u001b[0m\u001b[0;34m(\u001b[0m\u001b[0mlimit\u001b[0m\u001b[0;34m-\u001b[0m\u001b[0mlen\u001b[0m\u001b[0;34m(\u001b[0m\u001b[0mbiggerlist\u001b[0m\u001b[0;34m)\u001b[0m\u001b[0;34m)\u001b[0m\u001b[0;34m)\u001b[0m\u001b[0;34m\u001b[0m\u001b[0;34m\u001b[0m\u001b[0m\n\u001b[0;32m---> 63\u001b[0;31m       \u001b[0mrepo_found2\u001b[0m\u001b[0;34m,\u001b[0m\u001b[0mbiggerlist1\u001b[0m\u001b[0;34m=\u001b[0m\u001b[0mlocal_search\u001b[0m\u001b[0;34m(\u001b[0m\u001b[0mrepo2\u001b[0m\u001b[0;34m,\u001b[0m\u001b[0mlimit\u001b[0m\u001b[0;34m,\u001b[0m\u001b[0malpha\u001b[0m\u001b[0;34m,\u001b[0m\u001b[0mbeta\u001b[0m\u001b[0;34m,\u001b[0m\u001b[0mbiggerlist\u001b[0m\u001b[0;34m,\u001b[0m\u001b[0mrepo_found\u001b[0m\u001b[0;34m,\u001b[0m\u001b[0mcont_list\u001b[0m\u001b[0;34m)\u001b[0m\u001b[0;34m\u001b[0m\u001b[0;34m\u001b[0m\u001b[0m\n\u001b[0m\u001b[1;32m     64\u001b[0m       \u001b[0mprint\u001b[0m\u001b[0;34m(\u001b[0m\u001b[0;34m\"hi\"\u001b[0m\u001b[0;34m)\u001b[0m\u001b[0;34m\u001b[0m\u001b[0;34m\u001b[0m\u001b[0m\n\u001b[1;32m     65\u001b[0m       \u001b[0;32mfor\u001b[0m \u001b[0mrepo\u001b[0m \u001b[0;32min\u001b[0m \u001b[0mbiggerlist1\u001b[0m\u001b[0;34m:\u001b[0m\u001b[0;34m\u001b[0m\u001b[0;34m\u001b[0m\u001b[0m\n",
            "\u001b[0;32m<ipython-input-87-a41044d93ca8>\u001b[0m in \u001b[0;36mlocal_search\u001b[0;34m(repo, limit, alpha, beta, biggerlist, repo_found, cont_list)\u001b[0m\n\u001b[1;32m     61\u001b[0m       \u001b[0mprint\u001b[0m\u001b[0;34m(\u001b[0m\u001b[0mrepo2\u001b[0m\u001b[0;34m.\u001b[0m\u001b[0mfull_name\u001b[0m\u001b[0;34m)\u001b[0m\u001b[0;34m\u001b[0m\u001b[0;34m\u001b[0m\u001b[0m\n\u001b[1;32m     62\u001b[0m       \u001b[0mprint\u001b[0m\u001b[0;34m(\u001b[0m\u001b[0;34m\"Limit passing is \"\u001b[0m\u001b[0;34m+\u001b[0m\u001b[0mstr\u001b[0m\u001b[0;34m(\u001b[0m\u001b[0mlimit\u001b[0m\u001b[0;34m-\u001b[0m\u001b[0mlen\u001b[0m\u001b[0;34m(\u001b[0m\u001b[0mbiggerlist\u001b[0m\u001b[0;34m)\u001b[0m\u001b[0;34m)\u001b[0m\u001b[0;34m)\u001b[0m\u001b[0;34m\u001b[0m\u001b[0;34m\u001b[0m\u001b[0m\n\u001b[0;32m---> 63\u001b[0;31m       \u001b[0mrepo_found2\u001b[0m\u001b[0;34m,\u001b[0m\u001b[0mbiggerlist1\u001b[0m\u001b[0;34m=\u001b[0m\u001b[0mlocal_search\u001b[0m\u001b[0;34m(\u001b[0m\u001b[0mrepo2\u001b[0m\u001b[0;34m,\u001b[0m\u001b[0mlimit\u001b[0m\u001b[0;34m,\u001b[0m\u001b[0malpha\u001b[0m\u001b[0;34m,\u001b[0m\u001b[0mbeta\u001b[0m\u001b[0;34m,\u001b[0m\u001b[0mbiggerlist\u001b[0m\u001b[0;34m,\u001b[0m\u001b[0mrepo_found\u001b[0m\u001b[0;34m,\u001b[0m\u001b[0mcont_list\u001b[0m\u001b[0;34m)\u001b[0m\u001b[0;34m\u001b[0m\u001b[0;34m\u001b[0m\u001b[0m\n\u001b[0m\u001b[1;32m     64\u001b[0m       \u001b[0mprint\u001b[0m\u001b[0;34m(\u001b[0m\u001b[0;34m\"hi\"\u001b[0m\u001b[0;34m)\u001b[0m\u001b[0;34m\u001b[0m\u001b[0;34m\u001b[0m\u001b[0m\n\u001b[1;32m     65\u001b[0m       \u001b[0;32mfor\u001b[0m \u001b[0mrepo\u001b[0m \u001b[0;32min\u001b[0m \u001b[0mbiggerlist1\u001b[0m\u001b[0;34m:\u001b[0m\u001b[0;34m\u001b[0m\u001b[0;34m\u001b[0m\u001b[0m\n",
            "\u001b[0;32m<ipython-input-87-a41044d93ca8>\u001b[0m in \u001b[0;36mlocal_search\u001b[0;34m(repo, limit, alpha, beta, biggerlist, repo_found, cont_list)\u001b[0m\n\u001b[1;32m     61\u001b[0m       \u001b[0mprint\u001b[0m\u001b[0;34m(\u001b[0m\u001b[0mrepo2\u001b[0m\u001b[0;34m.\u001b[0m\u001b[0mfull_name\u001b[0m\u001b[0;34m)\u001b[0m\u001b[0;34m\u001b[0m\u001b[0;34m\u001b[0m\u001b[0m\n\u001b[1;32m     62\u001b[0m       \u001b[0mprint\u001b[0m\u001b[0;34m(\u001b[0m\u001b[0;34m\"Limit passing is \"\u001b[0m\u001b[0;34m+\u001b[0m\u001b[0mstr\u001b[0m\u001b[0;34m(\u001b[0m\u001b[0mlimit\u001b[0m\u001b[0;34m-\u001b[0m\u001b[0mlen\u001b[0m\u001b[0;34m(\u001b[0m\u001b[0mbiggerlist\u001b[0m\u001b[0;34m)\u001b[0m\u001b[0;34m)\u001b[0m\u001b[0;34m)\u001b[0m\u001b[0;34m\u001b[0m\u001b[0;34m\u001b[0m\u001b[0m\n\u001b[0;32m---> 63\u001b[0;31m       \u001b[0mrepo_found2\u001b[0m\u001b[0;34m,\u001b[0m\u001b[0mbiggerlist1\u001b[0m\u001b[0;34m=\u001b[0m\u001b[0mlocal_search\u001b[0m\u001b[0;34m(\u001b[0m\u001b[0mrepo2\u001b[0m\u001b[0;34m,\u001b[0m\u001b[0mlimit\u001b[0m\u001b[0;34m,\u001b[0m\u001b[0malpha\u001b[0m\u001b[0;34m,\u001b[0m\u001b[0mbeta\u001b[0m\u001b[0;34m,\u001b[0m\u001b[0mbiggerlist\u001b[0m\u001b[0;34m,\u001b[0m\u001b[0mrepo_found\u001b[0m\u001b[0;34m,\u001b[0m\u001b[0mcont_list\u001b[0m\u001b[0;34m)\u001b[0m\u001b[0;34m\u001b[0m\u001b[0;34m\u001b[0m\u001b[0m\n\u001b[0m\u001b[1;32m     64\u001b[0m       \u001b[0mprint\u001b[0m\u001b[0;34m(\u001b[0m\u001b[0;34m\"hi\"\u001b[0m\u001b[0;34m)\u001b[0m\u001b[0;34m\u001b[0m\u001b[0;34m\u001b[0m\u001b[0m\n\u001b[1;32m     65\u001b[0m       \u001b[0;32mfor\u001b[0m \u001b[0mrepo\u001b[0m \u001b[0;32min\u001b[0m \u001b[0mbiggerlist1\u001b[0m\u001b[0;34m:\u001b[0m\u001b[0;34m\u001b[0m\u001b[0;34m\u001b[0m\u001b[0m\n",
            "\u001b[0;32m<ipython-input-87-a41044d93ca8>\u001b[0m in \u001b[0;36mlocal_search\u001b[0;34m(repo, limit, alpha, beta, biggerlist, repo_found, cont_list)\u001b[0m\n\u001b[1;32m     61\u001b[0m       \u001b[0mprint\u001b[0m\u001b[0;34m(\u001b[0m\u001b[0mrepo2\u001b[0m\u001b[0;34m.\u001b[0m\u001b[0mfull_name\u001b[0m\u001b[0;34m)\u001b[0m\u001b[0;34m\u001b[0m\u001b[0;34m\u001b[0m\u001b[0m\n\u001b[1;32m     62\u001b[0m       \u001b[0mprint\u001b[0m\u001b[0;34m(\u001b[0m\u001b[0;34m\"Limit passing is \"\u001b[0m\u001b[0;34m+\u001b[0m\u001b[0mstr\u001b[0m\u001b[0;34m(\u001b[0m\u001b[0mlimit\u001b[0m\u001b[0;34m-\u001b[0m\u001b[0mlen\u001b[0m\u001b[0;34m(\u001b[0m\u001b[0mbiggerlist\u001b[0m\u001b[0;34m)\u001b[0m\u001b[0;34m)\u001b[0m\u001b[0;34m)\u001b[0m\u001b[0;34m\u001b[0m\u001b[0;34m\u001b[0m\u001b[0m\n\u001b[0;32m---> 63\u001b[0;31m       \u001b[0mrepo_found2\u001b[0m\u001b[0;34m,\u001b[0m\u001b[0mbiggerlist1\u001b[0m\u001b[0;34m=\u001b[0m\u001b[0mlocal_search\u001b[0m\u001b[0;34m(\u001b[0m\u001b[0mrepo2\u001b[0m\u001b[0;34m,\u001b[0m\u001b[0mlimit\u001b[0m\u001b[0;34m,\u001b[0m\u001b[0malpha\u001b[0m\u001b[0;34m,\u001b[0m\u001b[0mbeta\u001b[0m\u001b[0;34m,\u001b[0m\u001b[0mbiggerlist\u001b[0m\u001b[0;34m,\u001b[0m\u001b[0mrepo_found\u001b[0m\u001b[0;34m,\u001b[0m\u001b[0mcont_list\u001b[0m\u001b[0;34m)\u001b[0m\u001b[0;34m\u001b[0m\u001b[0;34m\u001b[0m\u001b[0m\n\u001b[0m\u001b[1;32m     64\u001b[0m       \u001b[0mprint\u001b[0m\u001b[0;34m(\u001b[0m\u001b[0;34m\"hi\"\u001b[0m\u001b[0;34m)\u001b[0m\u001b[0;34m\u001b[0m\u001b[0;34m\u001b[0m\u001b[0m\n\u001b[1;32m     65\u001b[0m       \u001b[0;32mfor\u001b[0m \u001b[0mrepo\u001b[0m \u001b[0;32min\u001b[0m \u001b[0mbiggerlist1\u001b[0m\u001b[0;34m:\u001b[0m\u001b[0;34m\u001b[0m\u001b[0;34m\u001b[0m\u001b[0m\n",
            "\u001b[0;32m<ipython-input-87-a41044d93ca8>\u001b[0m in \u001b[0;36mlocal_search\u001b[0;34m(repo, limit, alpha, beta, biggerlist, repo_found, cont_list)\u001b[0m\n\u001b[1;32m     61\u001b[0m       \u001b[0mprint\u001b[0m\u001b[0;34m(\u001b[0m\u001b[0mrepo2\u001b[0m\u001b[0;34m.\u001b[0m\u001b[0mfull_name\u001b[0m\u001b[0;34m)\u001b[0m\u001b[0;34m\u001b[0m\u001b[0;34m\u001b[0m\u001b[0m\n\u001b[1;32m     62\u001b[0m       \u001b[0mprint\u001b[0m\u001b[0;34m(\u001b[0m\u001b[0;34m\"Limit passing is \"\u001b[0m\u001b[0;34m+\u001b[0m\u001b[0mstr\u001b[0m\u001b[0;34m(\u001b[0m\u001b[0mlimit\u001b[0m\u001b[0;34m-\u001b[0m\u001b[0mlen\u001b[0m\u001b[0;34m(\u001b[0m\u001b[0mbiggerlist\u001b[0m\u001b[0;34m)\u001b[0m\u001b[0;34m)\u001b[0m\u001b[0;34m)\u001b[0m\u001b[0;34m\u001b[0m\u001b[0;34m\u001b[0m\u001b[0m\n\u001b[0;32m---> 63\u001b[0;31m       \u001b[0mrepo_found2\u001b[0m\u001b[0;34m,\u001b[0m\u001b[0mbiggerlist1\u001b[0m\u001b[0;34m=\u001b[0m\u001b[0mlocal_search\u001b[0m\u001b[0;34m(\u001b[0m\u001b[0mrepo2\u001b[0m\u001b[0;34m,\u001b[0m\u001b[0mlimit\u001b[0m\u001b[0;34m,\u001b[0m\u001b[0malpha\u001b[0m\u001b[0;34m,\u001b[0m\u001b[0mbeta\u001b[0m\u001b[0;34m,\u001b[0m\u001b[0mbiggerlist\u001b[0m\u001b[0;34m,\u001b[0m\u001b[0mrepo_found\u001b[0m\u001b[0;34m,\u001b[0m\u001b[0mcont_list\u001b[0m\u001b[0;34m)\u001b[0m\u001b[0;34m\u001b[0m\u001b[0;34m\u001b[0m\u001b[0m\n\u001b[0m\u001b[1;32m     64\u001b[0m       \u001b[0mprint\u001b[0m\u001b[0;34m(\u001b[0m\u001b[0;34m\"hi\"\u001b[0m\u001b[0;34m)\u001b[0m\u001b[0;34m\u001b[0m\u001b[0;34m\u001b[0m\u001b[0m\n\u001b[1;32m     65\u001b[0m       \u001b[0;32mfor\u001b[0m \u001b[0mrepo\u001b[0m \u001b[0;32min\u001b[0m \u001b[0mbiggerlist1\u001b[0m\u001b[0;34m:\u001b[0m\u001b[0;34m\u001b[0m\u001b[0;34m\u001b[0m\u001b[0m\n",
            "\u001b[0;32m<ipython-input-87-a41044d93ca8>\u001b[0m in \u001b[0;36mlocal_search\u001b[0;34m(repo, limit, alpha, beta, biggerlist, repo_found, cont_list)\u001b[0m\n\u001b[1;32m     61\u001b[0m       \u001b[0mprint\u001b[0m\u001b[0;34m(\u001b[0m\u001b[0mrepo2\u001b[0m\u001b[0;34m.\u001b[0m\u001b[0mfull_name\u001b[0m\u001b[0;34m)\u001b[0m\u001b[0;34m\u001b[0m\u001b[0;34m\u001b[0m\u001b[0m\n\u001b[1;32m     62\u001b[0m       \u001b[0mprint\u001b[0m\u001b[0;34m(\u001b[0m\u001b[0;34m\"Limit passing is \"\u001b[0m\u001b[0;34m+\u001b[0m\u001b[0mstr\u001b[0m\u001b[0;34m(\u001b[0m\u001b[0mlimit\u001b[0m\u001b[0;34m-\u001b[0m\u001b[0mlen\u001b[0m\u001b[0;34m(\u001b[0m\u001b[0mbiggerlist\u001b[0m\u001b[0;34m)\u001b[0m\u001b[0;34m)\u001b[0m\u001b[0;34m)\u001b[0m\u001b[0;34m\u001b[0m\u001b[0;34m\u001b[0m\u001b[0m\n\u001b[0;32m---> 63\u001b[0;31m       \u001b[0mrepo_found2\u001b[0m\u001b[0;34m,\u001b[0m\u001b[0mbiggerlist1\u001b[0m\u001b[0;34m=\u001b[0m\u001b[0mlocal_search\u001b[0m\u001b[0;34m(\u001b[0m\u001b[0mrepo2\u001b[0m\u001b[0;34m,\u001b[0m\u001b[0mlimit\u001b[0m\u001b[0;34m,\u001b[0m\u001b[0malpha\u001b[0m\u001b[0;34m,\u001b[0m\u001b[0mbeta\u001b[0m\u001b[0;34m,\u001b[0m\u001b[0mbiggerlist\u001b[0m\u001b[0;34m,\u001b[0m\u001b[0mrepo_found\u001b[0m\u001b[0;34m,\u001b[0m\u001b[0mcont_list\u001b[0m\u001b[0;34m)\u001b[0m\u001b[0;34m\u001b[0m\u001b[0;34m\u001b[0m\u001b[0m\n\u001b[0m\u001b[1;32m     64\u001b[0m       \u001b[0mprint\u001b[0m\u001b[0;34m(\u001b[0m\u001b[0;34m\"hi\"\u001b[0m\u001b[0;34m)\u001b[0m\u001b[0;34m\u001b[0m\u001b[0;34m\u001b[0m\u001b[0m\n\u001b[1;32m     65\u001b[0m       \u001b[0;32mfor\u001b[0m \u001b[0mrepo\u001b[0m \u001b[0;32min\u001b[0m \u001b[0mbiggerlist1\u001b[0m\u001b[0;34m:\u001b[0m\u001b[0;34m\u001b[0m\u001b[0;34m\u001b[0m\u001b[0m\n",
            "\u001b[0;32m<ipython-input-87-a41044d93ca8>\u001b[0m in \u001b[0;36mlocal_search\u001b[0;34m(repo, limit, alpha, beta, biggerlist, repo_found, cont_list)\u001b[0m\n\u001b[1;32m     61\u001b[0m       \u001b[0mprint\u001b[0m\u001b[0;34m(\u001b[0m\u001b[0mrepo2\u001b[0m\u001b[0;34m.\u001b[0m\u001b[0mfull_name\u001b[0m\u001b[0;34m)\u001b[0m\u001b[0;34m\u001b[0m\u001b[0;34m\u001b[0m\u001b[0m\n\u001b[1;32m     62\u001b[0m       \u001b[0mprint\u001b[0m\u001b[0;34m(\u001b[0m\u001b[0;34m\"Limit passing is \"\u001b[0m\u001b[0;34m+\u001b[0m\u001b[0mstr\u001b[0m\u001b[0;34m(\u001b[0m\u001b[0mlimit\u001b[0m\u001b[0;34m-\u001b[0m\u001b[0mlen\u001b[0m\u001b[0;34m(\u001b[0m\u001b[0mbiggerlist\u001b[0m\u001b[0;34m)\u001b[0m\u001b[0;34m)\u001b[0m\u001b[0;34m)\u001b[0m\u001b[0;34m\u001b[0m\u001b[0;34m\u001b[0m\u001b[0m\n\u001b[0;32m---> 63\u001b[0;31m       \u001b[0mrepo_found2\u001b[0m\u001b[0;34m,\u001b[0m\u001b[0mbiggerlist1\u001b[0m\u001b[0;34m=\u001b[0m\u001b[0mlocal_search\u001b[0m\u001b[0;34m(\u001b[0m\u001b[0mrepo2\u001b[0m\u001b[0;34m,\u001b[0m\u001b[0mlimit\u001b[0m\u001b[0;34m,\u001b[0m\u001b[0malpha\u001b[0m\u001b[0;34m,\u001b[0m\u001b[0mbeta\u001b[0m\u001b[0;34m,\u001b[0m\u001b[0mbiggerlist\u001b[0m\u001b[0;34m,\u001b[0m\u001b[0mrepo_found\u001b[0m\u001b[0;34m,\u001b[0m\u001b[0mcont_list\u001b[0m\u001b[0;34m)\u001b[0m\u001b[0;34m\u001b[0m\u001b[0;34m\u001b[0m\u001b[0m\n\u001b[0m\u001b[1;32m     64\u001b[0m       \u001b[0mprint\u001b[0m\u001b[0;34m(\u001b[0m\u001b[0;34m\"hi\"\u001b[0m\u001b[0;34m)\u001b[0m\u001b[0;34m\u001b[0m\u001b[0;34m\u001b[0m\u001b[0m\n\u001b[1;32m     65\u001b[0m       \u001b[0;32mfor\u001b[0m \u001b[0mrepo\u001b[0m \u001b[0;32min\u001b[0m \u001b[0mbiggerlist1\u001b[0m\u001b[0;34m:\u001b[0m\u001b[0;34m\u001b[0m\u001b[0;34m\u001b[0m\u001b[0m\n",
            "\u001b[0;32m<ipython-input-87-a41044d93ca8>\u001b[0m in \u001b[0;36mlocal_search\u001b[0;34m(repo, limit, alpha, beta, biggerlist, repo_found, cont_list)\u001b[0m\n\u001b[1;32m     61\u001b[0m       \u001b[0mprint\u001b[0m\u001b[0;34m(\u001b[0m\u001b[0mrepo2\u001b[0m\u001b[0;34m.\u001b[0m\u001b[0mfull_name\u001b[0m\u001b[0;34m)\u001b[0m\u001b[0;34m\u001b[0m\u001b[0;34m\u001b[0m\u001b[0m\n\u001b[1;32m     62\u001b[0m       \u001b[0mprint\u001b[0m\u001b[0;34m(\u001b[0m\u001b[0;34m\"Limit passing is \"\u001b[0m\u001b[0;34m+\u001b[0m\u001b[0mstr\u001b[0m\u001b[0;34m(\u001b[0m\u001b[0mlimit\u001b[0m\u001b[0;34m-\u001b[0m\u001b[0mlen\u001b[0m\u001b[0;34m(\u001b[0m\u001b[0mbiggerlist\u001b[0m\u001b[0;34m)\u001b[0m\u001b[0;34m)\u001b[0m\u001b[0;34m)\u001b[0m\u001b[0;34m\u001b[0m\u001b[0;34m\u001b[0m\u001b[0m\n\u001b[0;32m---> 63\u001b[0;31m       \u001b[0mrepo_found2\u001b[0m\u001b[0;34m,\u001b[0m\u001b[0mbiggerlist1\u001b[0m\u001b[0;34m=\u001b[0m\u001b[0mlocal_search\u001b[0m\u001b[0;34m(\u001b[0m\u001b[0mrepo2\u001b[0m\u001b[0;34m,\u001b[0m\u001b[0mlimit\u001b[0m\u001b[0;34m,\u001b[0m\u001b[0malpha\u001b[0m\u001b[0;34m,\u001b[0m\u001b[0mbeta\u001b[0m\u001b[0;34m,\u001b[0m\u001b[0mbiggerlist\u001b[0m\u001b[0;34m,\u001b[0m\u001b[0mrepo_found\u001b[0m\u001b[0;34m,\u001b[0m\u001b[0mcont_list\u001b[0m\u001b[0;34m)\u001b[0m\u001b[0;34m\u001b[0m\u001b[0;34m\u001b[0m\u001b[0m\n\u001b[0m\u001b[1;32m     64\u001b[0m       \u001b[0mprint\u001b[0m\u001b[0;34m(\u001b[0m\u001b[0;34m\"hi\"\u001b[0m\u001b[0;34m)\u001b[0m\u001b[0;34m\u001b[0m\u001b[0;34m\u001b[0m\u001b[0m\n\u001b[1;32m     65\u001b[0m       \u001b[0;32mfor\u001b[0m \u001b[0mrepo\u001b[0m \u001b[0;32min\u001b[0m \u001b[0mbiggerlist1\u001b[0m\u001b[0;34m:\u001b[0m\u001b[0;34m\u001b[0m\u001b[0;34m\u001b[0m\u001b[0m\n",
            "\u001b[0;32m<ipython-input-87-a41044d93ca8>\u001b[0m in \u001b[0;36mlocal_search\u001b[0;34m(repo, limit, alpha, beta, biggerlist, repo_found, cont_list)\u001b[0m\n\u001b[1;32m     61\u001b[0m       \u001b[0mprint\u001b[0m\u001b[0;34m(\u001b[0m\u001b[0mrepo2\u001b[0m\u001b[0;34m.\u001b[0m\u001b[0mfull_name\u001b[0m\u001b[0;34m)\u001b[0m\u001b[0;34m\u001b[0m\u001b[0;34m\u001b[0m\u001b[0m\n\u001b[1;32m     62\u001b[0m       \u001b[0mprint\u001b[0m\u001b[0;34m(\u001b[0m\u001b[0;34m\"Limit passing is \"\u001b[0m\u001b[0;34m+\u001b[0m\u001b[0mstr\u001b[0m\u001b[0;34m(\u001b[0m\u001b[0mlimit\u001b[0m\u001b[0;34m-\u001b[0m\u001b[0mlen\u001b[0m\u001b[0;34m(\u001b[0m\u001b[0mbiggerlist\u001b[0m\u001b[0;34m)\u001b[0m\u001b[0;34m)\u001b[0m\u001b[0;34m)\u001b[0m\u001b[0;34m\u001b[0m\u001b[0;34m\u001b[0m\u001b[0m\n\u001b[0;32m---> 63\u001b[0;31m       \u001b[0mrepo_found2\u001b[0m\u001b[0;34m,\u001b[0m\u001b[0mbiggerlist1\u001b[0m\u001b[0;34m=\u001b[0m\u001b[0mlocal_search\u001b[0m\u001b[0;34m(\u001b[0m\u001b[0mrepo2\u001b[0m\u001b[0;34m,\u001b[0m\u001b[0mlimit\u001b[0m\u001b[0;34m,\u001b[0m\u001b[0malpha\u001b[0m\u001b[0;34m,\u001b[0m\u001b[0mbeta\u001b[0m\u001b[0;34m,\u001b[0m\u001b[0mbiggerlist\u001b[0m\u001b[0;34m,\u001b[0m\u001b[0mrepo_found\u001b[0m\u001b[0;34m,\u001b[0m\u001b[0mcont_list\u001b[0m\u001b[0;34m)\u001b[0m\u001b[0;34m\u001b[0m\u001b[0;34m\u001b[0m\u001b[0m\n\u001b[0m\u001b[1;32m     64\u001b[0m       \u001b[0mprint\u001b[0m\u001b[0;34m(\u001b[0m\u001b[0;34m\"hi\"\u001b[0m\u001b[0;34m)\u001b[0m\u001b[0;34m\u001b[0m\u001b[0;34m\u001b[0m\u001b[0m\n\u001b[1;32m     65\u001b[0m       \u001b[0;32mfor\u001b[0m \u001b[0mrepo\u001b[0m \u001b[0;32min\u001b[0m \u001b[0mbiggerlist1\u001b[0m\u001b[0;34m:\u001b[0m\u001b[0;34m\u001b[0m\u001b[0;34m\u001b[0m\u001b[0m\n",
            "\u001b[0;32m<ipython-input-87-a41044d93ca8>\u001b[0m in \u001b[0;36mlocal_search\u001b[0;34m(repo, limit, alpha, beta, biggerlist, repo_found, cont_list)\u001b[0m\n\u001b[1;32m     61\u001b[0m       \u001b[0mprint\u001b[0m\u001b[0;34m(\u001b[0m\u001b[0mrepo2\u001b[0m\u001b[0;34m.\u001b[0m\u001b[0mfull_name\u001b[0m\u001b[0;34m)\u001b[0m\u001b[0;34m\u001b[0m\u001b[0;34m\u001b[0m\u001b[0m\n\u001b[1;32m     62\u001b[0m       \u001b[0mprint\u001b[0m\u001b[0;34m(\u001b[0m\u001b[0;34m\"Limit passing is \"\u001b[0m\u001b[0;34m+\u001b[0m\u001b[0mstr\u001b[0m\u001b[0;34m(\u001b[0m\u001b[0mlimit\u001b[0m\u001b[0;34m-\u001b[0m\u001b[0mlen\u001b[0m\u001b[0;34m(\u001b[0m\u001b[0mbiggerlist\u001b[0m\u001b[0;34m)\u001b[0m\u001b[0;34m)\u001b[0m\u001b[0;34m)\u001b[0m\u001b[0;34m\u001b[0m\u001b[0;34m\u001b[0m\u001b[0m\n\u001b[0;32m---> 63\u001b[0;31m       \u001b[0mrepo_found2\u001b[0m\u001b[0;34m,\u001b[0m\u001b[0mbiggerlist1\u001b[0m\u001b[0;34m=\u001b[0m\u001b[0mlocal_search\u001b[0m\u001b[0;34m(\u001b[0m\u001b[0mrepo2\u001b[0m\u001b[0;34m,\u001b[0m\u001b[0mlimit\u001b[0m\u001b[0;34m,\u001b[0m\u001b[0malpha\u001b[0m\u001b[0;34m,\u001b[0m\u001b[0mbeta\u001b[0m\u001b[0;34m,\u001b[0m\u001b[0mbiggerlist\u001b[0m\u001b[0;34m,\u001b[0m\u001b[0mrepo_found\u001b[0m\u001b[0;34m,\u001b[0m\u001b[0mcont_list\u001b[0m\u001b[0;34m)\u001b[0m\u001b[0;34m\u001b[0m\u001b[0;34m\u001b[0m\u001b[0m\n\u001b[0m\u001b[1;32m     64\u001b[0m       \u001b[0mprint\u001b[0m\u001b[0;34m(\u001b[0m\u001b[0;34m\"hi\"\u001b[0m\u001b[0;34m)\u001b[0m\u001b[0;34m\u001b[0m\u001b[0;34m\u001b[0m\u001b[0m\n\u001b[1;32m     65\u001b[0m       \u001b[0;32mfor\u001b[0m \u001b[0mrepo\u001b[0m \u001b[0;32min\u001b[0m \u001b[0mbiggerlist1\u001b[0m\u001b[0;34m:\u001b[0m\u001b[0;34m\u001b[0m\u001b[0;34m\u001b[0m\u001b[0m\n",
            "\u001b[0;32m<ipython-input-87-a41044d93ca8>\u001b[0m in \u001b[0;36mlocal_search\u001b[0;34m(repo, limit, alpha, beta, biggerlist, repo_found, cont_list)\u001b[0m\n\u001b[1;32m     61\u001b[0m       \u001b[0mprint\u001b[0m\u001b[0;34m(\u001b[0m\u001b[0mrepo2\u001b[0m\u001b[0;34m.\u001b[0m\u001b[0mfull_name\u001b[0m\u001b[0;34m)\u001b[0m\u001b[0;34m\u001b[0m\u001b[0;34m\u001b[0m\u001b[0m\n\u001b[1;32m     62\u001b[0m       \u001b[0mprint\u001b[0m\u001b[0;34m(\u001b[0m\u001b[0;34m\"Limit passing is \"\u001b[0m\u001b[0;34m+\u001b[0m\u001b[0mstr\u001b[0m\u001b[0;34m(\u001b[0m\u001b[0mlimit\u001b[0m\u001b[0;34m-\u001b[0m\u001b[0mlen\u001b[0m\u001b[0;34m(\u001b[0m\u001b[0mbiggerlist\u001b[0m\u001b[0;34m)\u001b[0m\u001b[0;34m)\u001b[0m\u001b[0;34m)\u001b[0m\u001b[0;34m\u001b[0m\u001b[0;34m\u001b[0m\u001b[0m\n\u001b[0;32m---> 63\u001b[0;31m       \u001b[0mrepo_found2\u001b[0m\u001b[0;34m,\u001b[0m\u001b[0mbiggerlist1\u001b[0m\u001b[0;34m=\u001b[0m\u001b[0mlocal_search\u001b[0m\u001b[0;34m(\u001b[0m\u001b[0mrepo2\u001b[0m\u001b[0;34m,\u001b[0m\u001b[0mlimit\u001b[0m\u001b[0;34m,\u001b[0m\u001b[0malpha\u001b[0m\u001b[0;34m,\u001b[0m\u001b[0mbeta\u001b[0m\u001b[0;34m,\u001b[0m\u001b[0mbiggerlist\u001b[0m\u001b[0;34m,\u001b[0m\u001b[0mrepo_found\u001b[0m\u001b[0;34m,\u001b[0m\u001b[0mcont_list\u001b[0m\u001b[0;34m)\u001b[0m\u001b[0;34m\u001b[0m\u001b[0;34m\u001b[0m\u001b[0m\n\u001b[0m\u001b[1;32m     64\u001b[0m       \u001b[0mprint\u001b[0m\u001b[0;34m(\u001b[0m\u001b[0;34m\"hi\"\u001b[0m\u001b[0;34m)\u001b[0m\u001b[0;34m\u001b[0m\u001b[0;34m\u001b[0m\u001b[0m\n\u001b[1;32m     65\u001b[0m       \u001b[0;32mfor\u001b[0m \u001b[0mrepo\u001b[0m \u001b[0;32min\u001b[0m \u001b[0mbiggerlist1\u001b[0m\u001b[0;34m:\u001b[0m\u001b[0;34m\u001b[0m\u001b[0;34m\u001b[0m\u001b[0m\n",
            "\u001b[0;32m<ipython-input-87-a41044d93ca8>\u001b[0m in \u001b[0;36mlocal_search\u001b[0;34m(repo, limit, alpha, beta, biggerlist, repo_found, cont_list)\u001b[0m\n\u001b[1;32m     61\u001b[0m       \u001b[0mprint\u001b[0m\u001b[0;34m(\u001b[0m\u001b[0mrepo2\u001b[0m\u001b[0;34m.\u001b[0m\u001b[0mfull_name\u001b[0m\u001b[0;34m)\u001b[0m\u001b[0;34m\u001b[0m\u001b[0;34m\u001b[0m\u001b[0m\n\u001b[1;32m     62\u001b[0m       \u001b[0mprint\u001b[0m\u001b[0;34m(\u001b[0m\u001b[0;34m\"Limit passing is \"\u001b[0m\u001b[0;34m+\u001b[0m\u001b[0mstr\u001b[0m\u001b[0;34m(\u001b[0m\u001b[0mlimit\u001b[0m\u001b[0;34m-\u001b[0m\u001b[0mlen\u001b[0m\u001b[0;34m(\u001b[0m\u001b[0mbiggerlist\u001b[0m\u001b[0;34m)\u001b[0m\u001b[0;34m)\u001b[0m\u001b[0;34m)\u001b[0m\u001b[0;34m\u001b[0m\u001b[0;34m\u001b[0m\u001b[0m\n\u001b[0;32m---> 63\u001b[0;31m       \u001b[0mrepo_found2\u001b[0m\u001b[0;34m,\u001b[0m\u001b[0mbiggerlist1\u001b[0m\u001b[0;34m=\u001b[0m\u001b[0mlocal_search\u001b[0m\u001b[0;34m(\u001b[0m\u001b[0mrepo2\u001b[0m\u001b[0;34m,\u001b[0m\u001b[0mlimit\u001b[0m\u001b[0;34m,\u001b[0m\u001b[0malpha\u001b[0m\u001b[0;34m,\u001b[0m\u001b[0mbeta\u001b[0m\u001b[0;34m,\u001b[0m\u001b[0mbiggerlist\u001b[0m\u001b[0;34m,\u001b[0m\u001b[0mrepo_found\u001b[0m\u001b[0;34m,\u001b[0m\u001b[0mcont_list\u001b[0m\u001b[0;34m)\u001b[0m\u001b[0;34m\u001b[0m\u001b[0;34m\u001b[0m\u001b[0m\n\u001b[0m\u001b[1;32m     64\u001b[0m       \u001b[0mprint\u001b[0m\u001b[0;34m(\u001b[0m\u001b[0;34m\"hi\"\u001b[0m\u001b[0;34m)\u001b[0m\u001b[0;34m\u001b[0m\u001b[0;34m\u001b[0m\u001b[0m\n\u001b[1;32m     65\u001b[0m       \u001b[0;32mfor\u001b[0m \u001b[0mrepo\u001b[0m \u001b[0;32min\u001b[0m \u001b[0mbiggerlist1\u001b[0m\u001b[0;34m:\u001b[0m\u001b[0;34m\u001b[0m\u001b[0;34m\u001b[0m\u001b[0m\n",
            "\u001b[0;32m<ipython-input-87-a41044d93ca8>\u001b[0m in \u001b[0;36mlocal_search\u001b[0;34m(repo, limit, alpha, beta, biggerlist, repo_found, cont_list)\u001b[0m\n\u001b[1;32m     61\u001b[0m       \u001b[0mprint\u001b[0m\u001b[0;34m(\u001b[0m\u001b[0mrepo2\u001b[0m\u001b[0;34m.\u001b[0m\u001b[0mfull_name\u001b[0m\u001b[0;34m)\u001b[0m\u001b[0;34m\u001b[0m\u001b[0;34m\u001b[0m\u001b[0m\n\u001b[1;32m     62\u001b[0m       \u001b[0mprint\u001b[0m\u001b[0;34m(\u001b[0m\u001b[0;34m\"Limit passing is \"\u001b[0m\u001b[0;34m+\u001b[0m\u001b[0mstr\u001b[0m\u001b[0;34m(\u001b[0m\u001b[0mlimit\u001b[0m\u001b[0;34m-\u001b[0m\u001b[0mlen\u001b[0m\u001b[0;34m(\u001b[0m\u001b[0mbiggerlist\u001b[0m\u001b[0;34m)\u001b[0m\u001b[0;34m)\u001b[0m\u001b[0;34m)\u001b[0m\u001b[0;34m\u001b[0m\u001b[0;34m\u001b[0m\u001b[0m\n\u001b[0;32m---> 63\u001b[0;31m       \u001b[0mrepo_found2\u001b[0m\u001b[0;34m,\u001b[0m\u001b[0mbiggerlist1\u001b[0m\u001b[0;34m=\u001b[0m\u001b[0mlocal_search\u001b[0m\u001b[0;34m(\u001b[0m\u001b[0mrepo2\u001b[0m\u001b[0;34m,\u001b[0m\u001b[0mlimit\u001b[0m\u001b[0;34m,\u001b[0m\u001b[0malpha\u001b[0m\u001b[0;34m,\u001b[0m\u001b[0mbeta\u001b[0m\u001b[0;34m,\u001b[0m\u001b[0mbiggerlist\u001b[0m\u001b[0;34m,\u001b[0m\u001b[0mrepo_found\u001b[0m\u001b[0;34m,\u001b[0m\u001b[0mcont_list\u001b[0m\u001b[0;34m)\u001b[0m\u001b[0;34m\u001b[0m\u001b[0;34m\u001b[0m\u001b[0m\n\u001b[0m\u001b[1;32m     64\u001b[0m       \u001b[0mprint\u001b[0m\u001b[0;34m(\u001b[0m\u001b[0;34m\"hi\"\u001b[0m\u001b[0;34m)\u001b[0m\u001b[0;34m\u001b[0m\u001b[0;34m\u001b[0m\u001b[0m\n\u001b[1;32m     65\u001b[0m       \u001b[0;32mfor\u001b[0m \u001b[0mrepo\u001b[0m \u001b[0;32min\u001b[0m \u001b[0mbiggerlist1\u001b[0m\u001b[0;34m:\u001b[0m\u001b[0;34m\u001b[0m\u001b[0;34m\u001b[0m\u001b[0m\n",
            "\u001b[0;32m<ipython-input-87-a41044d93ca8>\u001b[0m in \u001b[0;36mlocal_search\u001b[0;34m(repo, limit, alpha, beta, biggerlist, repo_found, cont_list)\u001b[0m\n\u001b[1;32m     61\u001b[0m       \u001b[0mprint\u001b[0m\u001b[0;34m(\u001b[0m\u001b[0mrepo2\u001b[0m\u001b[0;34m.\u001b[0m\u001b[0mfull_name\u001b[0m\u001b[0;34m)\u001b[0m\u001b[0;34m\u001b[0m\u001b[0;34m\u001b[0m\u001b[0m\n\u001b[1;32m     62\u001b[0m       \u001b[0mprint\u001b[0m\u001b[0;34m(\u001b[0m\u001b[0;34m\"Limit passing is \"\u001b[0m\u001b[0;34m+\u001b[0m\u001b[0mstr\u001b[0m\u001b[0;34m(\u001b[0m\u001b[0mlimit\u001b[0m\u001b[0;34m-\u001b[0m\u001b[0mlen\u001b[0m\u001b[0;34m(\u001b[0m\u001b[0mbiggerlist\u001b[0m\u001b[0;34m)\u001b[0m\u001b[0;34m)\u001b[0m\u001b[0;34m)\u001b[0m\u001b[0;34m\u001b[0m\u001b[0;34m\u001b[0m\u001b[0m\n\u001b[0;32m---> 63\u001b[0;31m       \u001b[0mrepo_found2\u001b[0m\u001b[0;34m,\u001b[0m\u001b[0mbiggerlist1\u001b[0m\u001b[0;34m=\u001b[0m\u001b[0mlocal_search\u001b[0m\u001b[0;34m(\u001b[0m\u001b[0mrepo2\u001b[0m\u001b[0;34m,\u001b[0m\u001b[0mlimit\u001b[0m\u001b[0;34m,\u001b[0m\u001b[0malpha\u001b[0m\u001b[0;34m,\u001b[0m\u001b[0mbeta\u001b[0m\u001b[0;34m,\u001b[0m\u001b[0mbiggerlist\u001b[0m\u001b[0;34m,\u001b[0m\u001b[0mrepo_found\u001b[0m\u001b[0;34m,\u001b[0m\u001b[0mcont_list\u001b[0m\u001b[0;34m)\u001b[0m\u001b[0;34m\u001b[0m\u001b[0;34m\u001b[0m\u001b[0m\n\u001b[0m\u001b[1;32m     64\u001b[0m       \u001b[0mprint\u001b[0m\u001b[0;34m(\u001b[0m\u001b[0;34m\"hi\"\u001b[0m\u001b[0;34m)\u001b[0m\u001b[0;34m\u001b[0m\u001b[0;34m\u001b[0m\u001b[0m\n\u001b[1;32m     65\u001b[0m       \u001b[0;32mfor\u001b[0m \u001b[0mrepo\u001b[0m \u001b[0;32min\u001b[0m \u001b[0mbiggerlist1\u001b[0m\u001b[0;34m:\u001b[0m\u001b[0;34m\u001b[0m\u001b[0;34m\u001b[0m\u001b[0m\n",
            "\u001b[0;32m<ipython-input-87-a41044d93ca8>\u001b[0m in \u001b[0;36mlocal_search\u001b[0;34m(repo, limit, alpha, beta, biggerlist, repo_found, cont_list)\u001b[0m\n\u001b[1;32m     61\u001b[0m       \u001b[0mprint\u001b[0m\u001b[0;34m(\u001b[0m\u001b[0mrepo2\u001b[0m\u001b[0;34m.\u001b[0m\u001b[0mfull_name\u001b[0m\u001b[0;34m)\u001b[0m\u001b[0;34m\u001b[0m\u001b[0;34m\u001b[0m\u001b[0m\n\u001b[1;32m     62\u001b[0m       \u001b[0mprint\u001b[0m\u001b[0;34m(\u001b[0m\u001b[0;34m\"Limit passing is \"\u001b[0m\u001b[0;34m+\u001b[0m\u001b[0mstr\u001b[0m\u001b[0;34m(\u001b[0m\u001b[0mlimit\u001b[0m\u001b[0;34m-\u001b[0m\u001b[0mlen\u001b[0m\u001b[0;34m(\u001b[0m\u001b[0mbiggerlist\u001b[0m\u001b[0;34m)\u001b[0m\u001b[0;34m)\u001b[0m\u001b[0;34m)\u001b[0m\u001b[0;34m\u001b[0m\u001b[0;34m\u001b[0m\u001b[0m\n\u001b[0;32m---> 63\u001b[0;31m       \u001b[0mrepo_found2\u001b[0m\u001b[0;34m,\u001b[0m\u001b[0mbiggerlist1\u001b[0m\u001b[0;34m=\u001b[0m\u001b[0mlocal_search\u001b[0m\u001b[0;34m(\u001b[0m\u001b[0mrepo2\u001b[0m\u001b[0;34m,\u001b[0m\u001b[0mlimit\u001b[0m\u001b[0;34m,\u001b[0m\u001b[0malpha\u001b[0m\u001b[0;34m,\u001b[0m\u001b[0mbeta\u001b[0m\u001b[0;34m,\u001b[0m\u001b[0mbiggerlist\u001b[0m\u001b[0;34m,\u001b[0m\u001b[0mrepo_found\u001b[0m\u001b[0;34m,\u001b[0m\u001b[0mcont_list\u001b[0m\u001b[0;34m)\u001b[0m\u001b[0;34m\u001b[0m\u001b[0;34m\u001b[0m\u001b[0m\n\u001b[0m\u001b[1;32m     64\u001b[0m       \u001b[0mprint\u001b[0m\u001b[0;34m(\u001b[0m\u001b[0;34m\"hi\"\u001b[0m\u001b[0;34m)\u001b[0m\u001b[0;34m\u001b[0m\u001b[0;34m\u001b[0m\u001b[0m\n\u001b[1;32m     65\u001b[0m       \u001b[0;32mfor\u001b[0m \u001b[0mrepo\u001b[0m \u001b[0;32min\u001b[0m \u001b[0mbiggerlist1\u001b[0m\u001b[0;34m:\u001b[0m\u001b[0;34m\u001b[0m\u001b[0;34m\u001b[0m\u001b[0m\n",
            "\u001b[0;32m<ipython-input-87-a41044d93ca8>\u001b[0m in \u001b[0;36mlocal_search\u001b[0;34m(repo, limit, alpha, beta, biggerlist, repo_found, cont_list)\u001b[0m\n\u001b[1;32m     61\u001b[0m       \u001b[0mprint\u001b[0m\u001b[0;34m(\u001b[0m\u001b[0mrepo2\u001b[0m\u001b[0;34m.\u001b[0m\u001b[0mfull_name\u001b[0m\u001b[0;34m)\u001b[0m\u001b[0;34m\u001b[0m\u001b[0;34m\u001b[0m\u001b[0m\n\u001b[1;32m     62\u001b[0m       \u001b[0mprint\u001b[0m\u001b[0;34m(\u001b[0m\u001b[0;34m\"Limit passing is \"\u001b[0m\u001b[0;34m+\u001b[0m\u001b[0mstr\u001b[0m\u001b[0;34m(\u001b[0m\u001b[0mlimit\u001b[0m\u001b[0;34m-\u001b[0m\u001b[0mlen\u001b[0m\u001b[0;34m(\u001b[0m\u001b[0mbiggerlist\u001b[0m\u001b[0;34m)\u001b[0m\u001b[0;34m)\u001b[0m\u001b[0;34m)\u001b[0m\u001b[0;34m\u001b[0m\u001b[0;34m\u001b[0m\u001b[0m\n\u001b[0;32m---> 63\u001b[0;31m       \u001b[0mrepo_found2\u001b[0m\u001b[0;34m,\u001b[0m\u001b[0mbiggerlist1\u001b[0m\u001b[0;34m=\u001b[0m\u001b[0mlocal_search\u001b[0m\u001b[0;34m(\u001b[0m\u001b[0mrepo2\u001b[0m\u001b[0;34m,\u001b[0m\u001b[0mlimit\u001b[0m\u001b[0;34m,\u001b[0m\u001b[0malpha\u001b[0m\u001b[0;34m,\u001b[0m\u001b[0mbeta\u001b[0m\u001b[0;34m,\u001b[0m\u001b[0mbiggerlist\u001b[0m\u001b[0;34m,\u001b[0m\u001b[0mrepo_found\u001b[0m\u001b[0;34m,\u001b[0m\u001b[0mcont_list\u001b[0m\u001b[0;34m)\u001b[0m\u001b[0;34m\u001b[0m\u001b[0;34m\u001b[0m\u001b[0m\n\u001b[0m\u001b[1;32m     64\u001b[0m       \u001b[0mprint\u001b[0m\u001b[0;34m(\u001b[0m\u001b[0;34m\"hi\"\u001b[0m\u001b[0;34m)\u001b[0m\u001b[0;34m\u001b[0m\u001b[0;34m\u001b[0m\u001b[0m\n\u001b[1;32m     65\u001b[0m       \u001b[0;32mfor\u001b[0m \u001b[0mrepo\u001b[0m \u001b[0;32min\u001b[0m \u001b[0mbiggerlist1\u001b[0m\u001b[0;34m:\u001b[0m\u001b[0;34m\u001b[0m\u001b[0;34m\u001b[0m\u001b[0m\n",
            "\u001b[0;32m<ipython-input-87-a41044d93ca8>\u001b[0m in \u001b[0;36mlocal_search\u001b[0;34m(repo, limit, alpha, beta, biggerlist, repo_found, cont_list)\u001b[0m\n\u001b[1;32m     61\u001b[0m       \u001b[0mprint\u001b[0m\u001b[0;34m(\u001b[0m\u001b[0mrepo2\u001b[0m\u001b[0;34m.\u001b[0m\u001b[0mfull_name\u001b[0m\u001b[0;34m)\u001b[0m\u001b[0;34m\u001b[0m\u001b[0;34m\u001b[0m\u001b[0m\n\u001b[1;32m     62\u001b[0m       \u001b[0mprint\u001b[0m\u001b[0;34m(\u001b[0m\u001b[0;34m\"Limit passing is \"\u001b[0m\u001b[0;34m+\u001b[0m\u001b[0mstr\u001b[0m\u001b[0;34m(\u001b[0m\u001b[0mlimit\u001b[0m\u001b[0;34m-\u001b[0m\u001b[0mlen\u001b[0m\u001b[0;34m(\u001b[0m\u001b[0mbiggerlist\u001b[0m\u001b[0;34m)\u001b[0m\u001b[0;34m)\u001b[0m\u001b[0;34m)\u001b[0m\u001b[0;34m\u001b[0m\u001b[0;34m\u001b[0m\u001b[0m\n\u001b[0;32m---> 63\u001b[0;31m       \u001b[0mrepo_found2\u001b[0m\u001b[0;34m,\u001b[0m\u001b[0mbiggerlist1\u001b[0m\u001b[0;34m=\u001b[0m\u001b[0mlocal_search\u001b[0m\u001b[0;34m(\u001b[0m\u001b[0mrepo2\u001b[0m\u001b[0;34m,\u001b[0m\u001b[0mlimit\u001b[0m\u001b[0;34m,\u001b[0m\u001b[0malpha\u001b[0m\u001b[0;34m,\u001b[0m\u001b[0mbeta\u001b[0m\u001b[0;34m,\u001b[0m\u001b[0mbiggerlist\u001b[0m\u001b[0;34m,\u001b[0m\u001b[0mrepo_found\u001b[0m\u001b[0;34m,\u001b[0m\u001b[0mcont_list\u001b[0m\u001b[0;34m)\u001b[0m\u001b[0;34m\u001b[0m\u001b[0;34m\u001b[0m\u001b[0m\n\u001b[0m\u001b[1;32m     64\u001b[0m       \u001b[0mprint\u001b[0m\u001b[0;34m(\u001b[0m\u001b[0;34m\"hi\"\u001b[0m\u001b[0;34m)\u001b[0m\u001b[0;34m\u001b[0m\u001b[0;34m\u001b[0m\u001b[0m\n\u001b[1;32m     65\u001b[0m       \u001b[0;32mfor\u001b[0m \u001b[0mrepo\u001b[0m \u001b[0;32min\u001b[0m \u001b[0mbiggerlist1\u001b[0m\u001b[0;34m:\u001b[0m\u001b[0;34m\u001b[0m\u001b[0;34m\u001b[0m\u001b[0m\n",
            "\u001b[0;32m<ipython-input-87-a41044d93ca8>\u001b[0m in \u001b[0;36mlocal_search\u001b[0;34m(repo, limit, alpha, beta, biggerlist, repo_found, cont_list)\u001b[0m\n\u001b[1;32m     61\u001b[0m       \u001b[0mprint\u001b[0m\u001b[0;34m(\u001b[0m\u001b[0mrepo2\u001b[0m\u001b[0;34m.\u001b[0m\u001b[0mfull_name\u001b[0m\u001b[0;34m)\u001b[0m\u001b[0;34m\u001b[0m\u001b[0;34m\u001b[0m\u001b[0m\n\u001b[1;32m     62\u001b[0m       \u001b[0mprint\u001b[0m\u001b[0;34m(\u001b[0m\u001b[0;34m\"Limit passing is \"\u001b[0m\u001b[0;34m+\u001b[0m\u001b[0mstr\u001b[0m\u001b[0;34m(\u001b[0m\u001b[0mlimit\u001b[0m\u001b[0;34m-\u001b[0m\u001b[0mlen\u001b[0m\u001b[0;34m(\u001b[0m\u001b[0mbiggerlist\u001b[0m\u001b[0;34m)\u001b[0m\u001b[0;34m)\u001b[0m\u001b[0;34m)\u001b[0m\u001b[0;34m\u001b[0m\u001b[0;34m\u001b[0m\u001b[0m\n\u001b[0;32m---> 63\u001b[0;31m       \u001b[0mrepo_found2\u001b[0m\u001b[0;34m,\u001b[0m\u001b[0mbiggerlist1\u001b[0m\u001b[0;34m=\u001b[0m\u001b[0mlocal_search\u001b[0m\u001b[0;34m(\u001b[0m\u001b[0mrepo2\u001b[0m\u001b[0;34m,\u001b[0m\u001b[0mlimit\u001b[0m\u001b[0;34m,\u001b[0m\u001b[0malpha\u001b[0m\u001b[0;34m,\u001b[0m\u001b[0mbeta\u001b[0m\u001b[0;34m,\u001b[0m\u001b[0mbiggerlist\u001b[0m\u001b[0;34m,\u001b[0m\u001b[0mrepo_found\u001b[0m\u001b[0;34m,\u001b[0m\u001b[0mcont_list\u001b[0m\u001b[0;34m)\u001b[0m\u001b[0;34m\u001b[0m\u001b[0;34m\u001b[0m\u001b[0m\n\u001b[0m\u001b[1;32m     64\u001b[0m       \u001b[0mprint\u001b[0m\u001b[0;34m(\u001b[0m\u001b[0;34m\"hi\"\u001b[0m\u001b[0;34m)\u001b[0m\u001b[0;34m\u001b[0m\u001b[0;34m\u001b[0m\u001b[0m\n\u001b[1;32m     65\u001b[0m       \u001b[0;32mfor\u001b[0m \u001b[0mrepo\u001b[0m \u001b[0;32min\u001b[0m \u001b[0mbiggerlist1\u001b[0m\u001b[0;34m:\u001b[0m\u001b[0;34m\u001b[0m\u001b[0;34m\u001b[0m\u001b[0m\n",
            "\u001b[0;32m<ipython-input-87-a41044d93ca8>\u001b[0m in \u001b[0;36mlocal_search\u001b[0;34m(repo, limit, alpha, beta, biggerlist, repo_found, cont_list)\u001b[0m\n\u001b[1;32m     61\u001b[0m       \u001b[0mprint\u001b[0m\u001b[0;34m(\u001b[0m\u001b[0mrepo2\u001b[0m\u001b[0;34m.\u001b[0m\u001b[0mfull_name\u001b[0m\u001b[0;34m)\u001b[0m\u001b[0;34m\u001b[0m\u001b[0;34m\u001b[0m\u001b[0m\n\u001b[1;32m     62\u001b[0m       \u001b[0mprint\u001b[0m\u001b[0;34m(\u001b[0m\u001b[0;34m\"Limit passing is \"\u001b[0m\u001b[0;34m+\u001b[0m\u001b[0mstr\u001b[0m\u001b[0;34m(\u001b[0m\u001b[0mlimit\u001b[0m\u001b[0;34m-\u001b[0m\u001b[0mlen\u001b[0m\u001b[0;34m(\u001b[0m\u001b[0mbiggerlist\u001b[0m\u001b[0;34m)\u001b[0m\u001b[0;34m)\u001b[0m\u001b[0;34m)\u001b[0m\u001b[0;34m\u001b[0m\u001b[0;34m\u001b[0m\u001b[0m\n\u001b[0;32m---> 63\u001b[0;31m       \u001b[0mrepo_found2\u001b[0m\u001b[0;34m,\u001b[0m\u001b[0mbiggerlist1\u001b[0m\u001b[0;34m=\u001b[0m\u001b[0mlocal_search\u001b[0m\u001b[0;34m(\u001b[0m\u001b[0mrepo2\u001b[0m\u001b[0;34m,\u001b[0m\u001b[0mlimit\u001b[0m\u001b[0;34m,\u001b[0m\u001b[0malpha\u001b[0m\u001b[0;34m,\u001b[0m\u001b[0mbeta\u001b[0m\u001b[0;34m,\u001b[0m\u001b[0mbiggerlist\u001b[0m\u001b[0;34m,\u001b[0m\u001b[0mrepo_found\u001b[0m\u001b[0;34m,\u001b[0m\u001b[0mcont_list\u001b[0m\u001b[0;34m)\u001b[0m\u001b[0;34m\u001b[0m\u001b[0;34m\u001b[0m\u001b[0m\n\u001b[0m\u001b[1;32m     64\u001b[0m       \u001b[0mprint\u001b[0m\u001b[0;34m(\u001b[0m\u001b[0;34m\"hi\"\u001b[0m\u001b[0;34m)\u001b[0m\u001b[0;34m\u001b[0m\u001b[0;34m\u001b[0m\u001b[0m\n\u001b[1;32m     65\u001b[0m       \u001b[0;32mfor\u001b[0m \u001b[0mrepo\u001b[0m \u001b[0;32min\u001b[0m \u001b[0mbiggerlist1\u001b[0m\u001b[0;34m:\u001b[0m\u001b[0;34m\u001b[0m\u001b[0;34m\u001b[0m\u001b[0m\n",
            "\u001b[0;32m<ipython-input-87-a41044d93ca8>\u001b[0m in \u001b[0;36mlocal_search\u001b[0;34m(repo, limit, alpha, beta, biggerlist, repo_found, cont_list)\u001b[0m\n\u001b[1;32m     61\u001b[0m       \u001b[0mprint\u001b[0m\u001b[0;34m(\u001b[0m\u001b[0mrepo2\u001b[0m\u001b[0;34m.\u001b[0m\u001b[0mfull_name\u001b[0m\u001b[0;34m)\u001b[0m\u001b[0;34m\u001b[0m\u001b[0;34m\u001b[0m\u001b[0m\n\u001b[1;32m     62\u001b[0m       \u001b[0mprint\u001b[0m\u001b[0;34m(\u001b[0m\u001b[0;34m\"Limit passing is \"\u001b[0m\u001b[0;34m+\u001b[0m\u001b[0mstr\u001b[0m\u001b[0;34m(\u001b[0m\u001b[0mlimit\u001b[0m\u001b[0;34m-\u001b[0m\u001b[0mlen\u001b[0m\u001b[0;34m(\u001b[0m\u001b[0mbiggerlist\u001b[0m\u001b[0;34m)\u001b[0m\u001b[0;34m)\u001b[0m\u001b[0;34m)\u001b[0m\u001b[0;34m\u001b[0m\u001b[0;34m\u001b[0m\u001b[0m\n\u001b[0;32m---> 63\u001b[0;31m       \u001b[0mrepo_found2\u001b[0m\u001b[0;34m,\u001b[0m\u001b[0mbiggerlist1\u001b[0m\u001b[0;34m=\u001b[0m\u001b[0mlocal_search\u001b[0m\u001b[0;34m(\u001b[0m\u001b[0mrepo2\u001b[0m\u001b[0;34m,\u001b[0m\u001b[0mlimit\u001b[0m\u001b[0;34m,\u001b[0m\u001b[0malpha\u001b[0m\u001b[0;34m,\u001b[0m\u001b[0mbeta\u001b[0m\u001b[0;34m,\u001b[0m\u001b[0mbiggerlist\u001b[0m\u001b[0;34m,\u001b[0m\u001b[0mrepo_found\u001b[0m\u001b[0;34m,\u001b[0m\u001b[0mcont_list\u001b[0m\u001b[0;34m)\u001b[0m\u001b[0;34m\u001b[0m\u001b[0;34m\u001b[0m\u001b[0m\n\u001b[0m\u001b[1;32m     64\u001b[0m       \u001b[0mprint\u001b[0m\u001b[0;34m(\u001b[0m\u001b[0;34m\"hi\"\u001b[0m\u001b[0;34m)\u001b[0m\u001b[0;34m\u001b[0m\u001b[0;34m\u001b[0m\u001b[0m\n\u001b[1;32m     65\u001b[0m       \u001b[0;32mfor\u001b[0m \u001b[0mrepo\u001b[0m \u001b[0;32min\u001b[0m \u001b[0mbiggerlist1\u001b[0m\u001b[0;34m:\u001b[0m\u001b[0;34m\u001b[0m\u001b[0;34m\u001b[0m\u001b[0m\n",
            "\u001b[0;32m<ipython-input-87-a41044d93ca8>\u001b[0m in \u001b[0;36mlocal_search\u001b[0;34m(repo, limit, alpha, beta, biggerlist, repo_found, cont_list)\u001b[0m\n\u001b[1;32m     61\u001b[0m       \u001b[0mprint\u001b[0m\u001b[0;34m(\u001b[0m\u001b[0mrepo2\u001b[0m\u001b[0;34m.\u001b[0m\u001b[0mfull_name\u001b[0m\u001b[0;34m)\u001b[0m\u001b[0;34m\u001b[0m\u001b[0;34m\u001b[0m\u001b[0m\n\u001b[1;32m     62\u001b[0m       \u001b[0mprint\u001b[0m\u001b[0;34m(\u001b[0m\u001b[0;34m\"Limit passing is \"\u001b[0m\u001b[0;34m+\u001b[0m\u001b[0mstr\u001b[0m\u001b[0;34m(\u001b[0m\u001b[0mlimit\u001b[0m\u001b[0;34m-\u001b[0m\u001b[0mlen\u001b[0m\u001b[0;34m(\u001b[0m\u001b[0mbiggerlist\u001b[0m\u001b[0;34m)\u001b[0m\u001b[0;34m)\u001b[0m\u001b[0;34m)\u001b[0m\u001b[0;34m\u001b[0m\u001b[0;34m\u001b[0m\u001b[0m\n\u001b[0;32m---> 63\u001b[0;31m       \u001b[0mrepo_found2\u001b[0m\u001b[0;34m,\u001b[0m\u001b[0mbiggerlist1\u001b[0m\u001b[0;34m=\u001b[0m\u001b[0mlocal_search\u001b[0m\u001b[0;34m(\u001b[0m\u001b[0mrepo2\u001b[0m\u001b[0;34m,\u001b[0m\u001b[0mlimit\u001b[0m\u001b[0;34m,\u001b[0m\u001b[0malpha\u001b[0m\u001b[0;34m,\u001b[0m\u001b[0mbeta\u001b[0m\u001b[0;34m,\u001b[0m\u001b[0mbiggerlist\u001b[0m\u001b[0;34m,\u001b[0m\u001b[0mrepo_found\u001b[0m\u001b[0;34m,\u001b[0m\u001b[0mcont_list\u001b[0m\u001b[0;34m)\u001b[0m\u001b[0;34m\u001b[0m\u001b[0;34m\u001b[0m\u001b[0m\n\u001b[0m\u001b[1;32m     64\u001b[0m       \u001b[0mprint\u001b[0m\u001b[0;34m(\u001b[0m\u001b[0;34m\"hi\"\u001b[0m\u001b[0;34m)\u001b[0m\u001b[0;34m\u001b[0m\u001b[0;34m\u001b[0m\u001b[0m\n\u001b[1;32m     65\u001b[0m       \u001b[0;32mfor\u001b[0m \u001b[0mrepo\u001b[0m \u001b[0;32min\u001b[0m \u001b[0mbiggerlist1\u001b[0m\u001b[0;34m:\u001b[0m\u001b[0;34m\u001b[0m\u001b[0;34m\u001b[0m\u001b[0m\n",
            "\u001b[0;32m<ipython-input-87-a41044d93ca8>\u001b[0m in \u001b[0;36mlocal_search\u001b[0;34m(repo, limit, alpha, beta, biggerlist, repo_found, cont_list)\u001b[0m\n\u001b[1;32m     61\u001b[0m       \u001b[0mprint\u001b[0m\u001b[0;34m(\u001b[0m\u001b[0mrepo2\u001b[0m\u001b[0;34m.\u001b[0m\u001b[0mfull_name\u001b[0m\u001b[0;34m)\u001b[0m\u001b[0;34m\u001b[0m\u001b[0;34m\u001b[0m\u001b[0m\n\u001b[1;32m     62\u001b[0m       \u001b[0mprint\u001b[0m\u001b[0;34m(\u001b[0m\u001b[0;34m\"Limit passing is \"\u001b[0m\u001b[0;34m+\u001b[0m\u001b[0mstr\u001b[0m\u001b[0;34m(\u001b[0m\u001b[0mlimit\u001b[0m\u001b[0;34m-\u001b[0m\u001b[0mlen\u001b[0m\u001b[0;34m(\u001b[0m\u001b[0mbiggerlist\u001b[0m\u001b[0;34m)\u001b[0m\u001b[0;34m)\u001b[0m\u001b[0;34m)\u001b[0m\u001b[0;34m\u001b[0m\u001b[0;34m\u001b[0m\u001b[0m\n\u001b[0;32m---> 63\u001b[0;31m       \u001b[0mrepo_found2\u001b[0m\u001b[0;34m,\u001b[0m\u001b[0mbiggerlist1\u001b[0m\u001b[0;34m=\u001b[0m\u001b[0mlocal_search\u001b[0m\u001b[0;34m(\u001b[0m\u001b[0mrepo2\u001b[0m\u001b[0;34m,\u001b[0m\u001b[0mlimit\u001b[0m\u001b[0;34m,\u001b[0m\u001b[0malpha\u001b[0m\u001b[0;34m,\u001b[0m\u001b[0mbeta\u001b[0m\u001b[0;34m,\u001b[0m\u001b[0mbiggerlist\u001b[0m\u001b[0;34m,\u001b[0m\u001b[0mrepo_found\u001b[0m\u001b[0;34m,\u001b[0m\u001b[0mcont_list\u001b[0m\u001b[0;34m)\u001b[0m\u001b[0;34m\u001b[0m\u001b[0;34m\u001b[0m\u001b[0m\n\u001b[0m\u001b[1;32m     64\u001b[0m       \u001b[0mprint\u001b[0m\u001b[0;34m(\u001b[0m\u001b[0;34m\"hi\"\u001b[0m\u001b[0;34m)\u001b[0m\u001b[0;34m\u001b[0m\u001b[0;34m\u001b[0m\u001b[0m\n\u001b[1;32m     65\u001b[0m       \u001b[0;32mfor\u001b[0m \u001b[0mrepo\u001b[0m \u001b[0;32min\u001b[0m \u001b[0mbiggerlist1\u001b[0m\u001b[0;34m:\u001b[0m\u001b[0;34m\u001b[0m\u001b[0;34m\u001b[0m\u001b[0m\n",
            "\u001b[0;32m<ipython-input-87-a41044d93ca8>\u001b[0m in \u001b[0;36mlocal_search\u001b[0;34m(repo, limit, alpha, beta, biggerlist, repo_found, cont_list)\u001b[0m\n\u001b[1;32m     61\u001b[0m       \u001b[0mprint\u001b[0m\u001b[0;34m(\u001b[0m\u001b[0mrepo2\u001b[0m\u001b[0;34m.\u001b[0m\u001b[0mfull_name\u001b[0m\u001b[0;34m)\u001b[0m\u001b[0;34m\u001b[0m\u001b[0;34m\u001b[0m\u001b[0m\n\u001b[1;32m     62\u001b[0m       \u001b[0mprint\u001b[0m\u001b[0;34m(\u001b[0m\u001b[0;34m\"Limit passing is \"\u001b[0m\u001b[0;34m+\u001b[0m\u001b[0mstr\u001b[0m\u001b[0;34m(\u001b[0m\u001b[0mlimit\u001b[0m\u001b[0;34m-\u001b[0m\u001b[0mlen\u001b[0m\u001b[0;34m(\u001b[0m\u001b[0mbiggerlist\u001b[0m\u001b[0;34m)\u001b[0m\u001b[0;34m)\u001b[0m\u001b[0;34m)\u001b[0m\u001b[0;34m\u001b[0m\u001b[0;34m\u001b[0m\u001b[0m\n\u001b[0;32m---> 63\u001b[0;31m       \u001b[0mrepo_found2\u001b[0m\u001b[0;34m,\u001b[0m\u001b[0mbiggerlist1\u001b[0m\u001b[0;34m=\u001b[0m\u001b[0mlocal_search\u001b[0m\u001b[0;34m(\u001b[0m\u001b[0mrepo2\u001b[0m\u001b[0;34m,\u001b[0m\u001b[0mlimit\u001b[0m\u001b[0;34m,\u001b[0m\u001b[0malpha\u001b[0m\u001b[0;34m,\u001b[0m\u001b[0mbeta\u001b[0m\u001b[0;34m,\u001b[0m\u001b[0mbiggerlist\u001b[0m\u001b[0;34m,\u001b[0m\u001b[0mrepo_found\u001b[0m\u001b[0;34m,\u001b[0m\u001b[0mcont_list\u001b[0m\u001b[0;34m)\u001b[0m\u001b[0;34m\u001b[0m\u001b[0;34m\u001b[0m\u001b[0m\n\u001b[0m\u001b[1;32m     64\u001b[0m       \u001b[0mprint\u001b[0m\u001b[0;34m(\u001b[0m\u001b[0;34m\"hi\"\u001b[0m\u001b[0;34m)\u001b[0m\u001b[0;34m\u001b[0m\u001b[0;34m\u001b[0m\u001b[0m\n\u001b[1;32m     65\u001b[0m       \u001b[0;32mfor\u001b[0m \u001b[0mrepo\u001b[0m \u001b[0;32min\u001b[0m \u001b[0mbiggerlist1\u001b[0m\u001b[0;34m:\u001b[0m\u001b[0;34m\u001b[0m\u001b[0;34m\u001b[0m\u001b[0m\n",
            "\u001b[0;32m<ipython-input-87-a41044d93ca8>\u001b[0m in \u001b[0;36mlocal_search\u001b[0;34m(repo, limit, alpha, beta, biggerlist, repo_found, cont_list)\u001b[0m\n\u001b[1;32m     61\u001b[0m       \u001b[0mprint\u001b[0m\u001b[0;34m(\u001b[0m\u001b[0mrepo2\u001b[0m\u001b[0;34m.\u001b[0m\u001b[0mfull_name\u001b[0m\u001b[0;34m)\u001b[0m\u001b[0;34m\u001b[0m\u001b[0;34m\u001b[0m\u001b[0m\n\u001b[1;32m     62\u001b[0m       \u001b[0mprint\u001b[0m\u001b[0;34m(\u001b[0m\u001b[0;34m\"Limit passing is \"\u001b[0m\u001b[0;34m+\u001b[0m\u001b[0mstr\u001b[0m\u001b[0;34m(\u001b[0m\u001b[0mlimit\u001b[0m\u001b[0;34m-\u001b[0m\u001b[0mlen\u001b[0m\u001b[0;34m(\u001b[0m\u001b[0mbiggerlist\u001b[0m\u001b[0;34m)\u001b[0m\u001b[0;34m)\u001b[0m\u001b[0;34m)\u001b[0m\u001b[0;34m\u001b[0m\u001b[0;34m\u001b[0m\u001b[0m\n\u001b[0;32m---> 63\u001b[0;31m       \u001b[0mrepo_found2\u001b[0m\u001b[0;34m,\u001b[0m\u001b[0mbiggerlist1\u001b[0m\u001b[0;34m=\u001b[0m\u001b[0mlocal_search\u001b[0m\u001b[0;34m(\u001b[0m\u001b[0mrepo2\u001b[0m\u001b[0;34m,\u001b[0m\u001b[0mlimit\u001b[0m\u001b[0;34m,\u001b[0m\u001b[0malpha\u001b[0m\u001b[0;34m,\u001b[0m\u001b[0mbeta\u001b[0m\u001b[0;34m,\u001b[0m\u001b[0mbiggerlist\u001b[0m\u001b[0;34m,\u001b[0m\u001b[0mrepo_found\u001b[0m\u001b[0;34m,\u001b[0m\u001b[0mcont_list\u001b[0m\u001b[0;34m)\u001b[0m\u001b[0;34m\u001b[0m\u001b[0;34m\u001b[0m\u001b[0m\n\u001b[0m\u001b[1;32m     64\u001b[0m       \u001b[0mprint\u001b[0m\u001b[0;34m(\u001b[0m\u001b[0;34m\"hi\"\u001b[0m\u001b[0;34m)\u001b[0m\u001b[0;34m\u001b[0m\u001b[0;34m\u001b[0m\u001b[0m\n\u001b[1;32m     65\u001b[0m       \u001b[0;32mfor\u001b[0m \u001b[0mrepo\u001b[0m \u001b[0;32min\u001b[0m \u001b[0mbiggerlist1\u001b[0m\u001b[0;34m:\u001b[0m\u001b[0;34m\u001b[0m\u001b[0;34m\u001b[0m\u001b[0m\n",
            "\u001b[0;32m<ipython-input-87-a41044d93ca8>\u001b[0m in \u001b[0;36mlocal_search\u001b[0;34m(repo, limit, alpha, beta, biggerlist, repo_found, cont_list)\u001b[0m\n\u001b[1;32m     61\u001b[0m       \u001b[0mprint\u001b[0m\u001b[0;34m(\u001b[0m\u001b[0mrepo2\u001b[0m\u001b[0;34m.\u001b[0m\u001b[0mfull_name\u001b[0m\u001b[0;34m)\u001b[0m\u001b[0;34m\u001b[0m\u001b[0;34m\u001b[0m\u001b[0m\n\u001b[1;32m     62\u001b[0m       \u001b[0mprint\u001b[0m\u001b[0;34m(\u001b[0m\u001b[0;34m\"Limit passing is \"\u001b[0m\u001b[0;34m+\u001b[0m\u001b[0mstr\u001b[0m\u001b[0;34m(\u001b[0m\u001b[0mlimit\u001b[0m\u001b[0;34m-\u001b[0m\u001b[0mlen\u001b[0m\u001b[0;34m(\u001b[0m\u001b[0mbiggerlist\u001b[0m\u001b[0;34m)\u001b[0m\u001b[0;34m)\u001b[0m\u001b[0;34m)\u001b[0m\u001b[0;34m\u001b[0m\u001b[0;34m\u001b[0m\u001b[0m\n\u001b[0;32m---> 63\u001b[0;31m       \u001b[0mrepo_found2\u001b[0m\u001b[0;34m,\u001b[0m\u001b[0mbiggerlist1\u001b[0m\u001b[0;34m=\u001b[0m\u001b[0mlocal_search\u001b[0m\u001b[0;34m(\u001b[0m\u001b[0mrepo2\u001b[0m\u001b[0;34m,\u001b[0m\u001b[0mlimit\u001b[0m\u001b[0;34m,\u001b[0m\u001b[0malpha\u001b[0m\u001b[0;34m,\u001b[0m\u001b[0mbeta\u001b[0m\u001b[0;34m,\u001b[0m\u001b[0mbiggerlist\u001b[0m\u001b[0;34m,\u001b[0m\u001b[0mrepo_found\u001b[0m\u001b[0;34m,\u001b[0m\u001b[0mcont_list\u001b[0m\u001b[0;34m)\u001b[0m\u001b[0;34m\u001b[0m\u001b[0;34m\u001b[0m\u001b[0m\n\u001b[0m\u001b[1;32m     64\u001b[0m       \u001b[0mprint\u001b[0m\u001b[0;34m(\u001b[0m\u001b[0;34m\"hi\"\u001b[0m\u001b[0;34m)\u001b[0m\u001b[0;34m\u001b[0m\u001b[0;34m\u001b[0m\u001b[0m\n\u001b[1;32m     65\u001b[0m       \u001b[0;32mfor\u001b[0m \u001b[0mrepo\u001b[0m \u001b[0;32min\u001b[0m \u001b[0mbiggerlist1\u001b[0m\u001b[0;34m:\u001b[0m\u001b[0;34m\u001b[0m\u001b[0;34m\u001b[0m\u001b[0m\n",
            "\u001b[0;32m<ipython-input-87-a41044d93ca8>\u001b[0m in \u001b[0;36mlocal_search\u001b[0;34m(repo, limit, alpha, beta, biggerlist, repo_found, cont_list)\u001b[0m\n\u001b[1;32m     61\u001b[0m       \u001b[0mprint\u001b[0m\u001b[0;34m(\u001b[0m\u001b[0mrepo2\u001b[0m\u001b[0;34m.\u001b[0m\u001b[0mfull_name\u001b[0m\u001b[0;34m)\u001b[0m\u001b[0;34m\u001b[0m\u001b[0;34m\u001b[0m\u001b[0m\n\u001b[1;32m     62\u001b[0m       \u001b[0mprint\u001b[0m\u001b[0;34m(\u001b[0m\u001b[0;34m\"Limit passing is \"\u001b[0m\u001b[0;34m+\u001b[0m\u001b[0mstr\u001b[0m\u001b[0;34m(\u001b[0m\u001b[0mlimit\u001b[0m\u001b[0;34m-\u001b[0m\u001b[0mlen\u001b[0m\u001b[0;34m(\u001b[0m\u001b[0mbiggerlist\u001b[0m\u001b[0;34m)\u001b[0m\u001b[0;34m)\u001b[0m\u001b[0;34m)\u001b[0m\u001b[0;34m\u001b[0m\u001b[0;34m\u001b[0m\u001b[0m\n\u001b[0;32m---> 63\u001b[0;31m       \u001b[0mrepo_found2\u001b[0m\u001b[0;34m,\u001b[0m\u001b[0mbiggerlist1\u001b[0m\u001b[0;34m=\u001b[0m\u001b[0mlocal_search\u001b[0m\u001b[0;34m(\u001b[0m\u001b[0mrepo2\u001b[0m\u001b[0;34m,\u001b[0m\u001b[0mlimit\u001b[0m\u001b[0;34m,\u001b[0m\u001b[0malpha\u001b[0m\u001b[0;34m,\u001b[0m\u001b[0mbeta\u001b[0m\u001b[0;34m,\u001b[0m\u001b[0mbiggerlist\u001b[0m\u001b[0;34m,\u001b[0m\u001b[0mrepo_found\u001b[0m\u001b[0;34m,\u001b[0m\u001b[0mcont_list\u001b[0m\u001b[0;34m)\u001b[0m\u001b[0;34m\u001b[0m\u001b[0;34m\u001b[0m\u001b[0m\n\u001b[0m\u001b[1;32m     64\u001b[0m       \u001b[0mprint\u001b[0m\u001b[0;34m(\u001b[0m\u001b[0;34m\"hi\"\u001b[0m\u001b[0;34m)\u001b[0m\u001b[0;34m\u001b[0m\u001b[0;34m\u001b[0m\u001b[0m\n\u001b[1;32m     65\u001b[0m       \u001b[0;32mfor\u001b[0m \u001b[0mrepo\u001b[0m \u001b[0;32min\u001b[0m \u001b[0mbiggerlist1\u001b[0m\u001b[0;34m:\u001b[0m\u001b[0;34m\u001b[0m\u001b[0;34m\u001b[0m\u001b[0m\n",
            "\u001b[0;32m<ipython-input-87-a41044d93ca8>\u001b[0m in \u001b[0;36mlocal_search\u001b[0;34m(repo, limit, alpha, beta, biggerlist, repo_found, cont_list)\u001b[0m\n\u001b[1;32m     61\u001b[0m       \u001b[0mprint\u001b[0m\u001b[0;34m(\u001b[0m\u001b[0mrepo2\u001b[0m\u001b[0;34m.\u001b[0m\u001b[0mfull_name\u001b[0m\u001b[0;34m)\u001b[0m\u001b[0;34m\u001b[0m\u001b[0;34m\u001b[0m\u001b[0m\n\u001b[1;32m     62\u001b[0m       \u001b[0mprint\u001b[0m\u001b[0;34m(\u001b[0m\u001b[0;34m\"Limit passing is \"\u001b[0m\u001b[0;34m+\u001b[0m\u001b[0mstr\u001b[0m\u001b[0;34m(\u001b[0m\u001b[0mlimit\u001b[0m\u001b[0;34m-\u001b[0m\u001b[0mlen\u001b[0m\u001b[0;34m(\u001b[0m\u001b[0mbiggerlist\u001b[0m\u001b[0;34m)\u001b[0m\u001b[0;34m)\u001b[0m\u001b[0;34m)\u001b[0m\u001b[0;34m\u001b[0m\u001b[0;34m\u001b[0m\u001b[0m\n\u001b[0;32m---> 63\u001b[0;31m       \u001b[0mrepo_found2\u001b[0m\u001b[0;34m,\u001b[0m\u001b[0mbiggerlist1\u001b[0m\u001b[0;34m=\u001b[0m\u001b[0mlocal_search\u001b[0m\u001b[0;34m(\u001b[0m\u001b[0mrepo2\u001b[0m\u001b[0;34m,\u001b[0m\u001b[0mlimit\u001b[0m\u001b[0;34m,\u001b[0m\u001b[0malpha\u001b[0m\u001b[0;34m,\u001b[0m\u001b[0mbeta\u001b[0m\u001b[0;34m,\u001b[0m\u001b[0mbiggerlist\u001b[0m\u001b[0;34m,\u001b[0m\u001b[0mrepo_found\u001b[0m\u001b[0;34m,\u001b[0m\u001b[0mcont_list\u001b[0m\u001b[0;34m)\u001b[0m\u001b[0;34m\u001b[0m\u001b[0;34m\u001b[0m\u001b[0m\n\u001b[0m\u001b[1;32m     64\u001b[0m       \u001b[0mprint\u001b[0m\u001b[0;34m(\u001b[0m\u001b[0;34m\"hi\"\u001b[0m\u001b[0;34m)\u001b[0m\u001b[0;34m\u001b[0m\u001b[0;34m\u001b[0m\u001b[0m\n\u001b[1;32m     65\u001b[0m       \u001b[0;32mfor\u001b[0m \u001b[0mrepo\u001b[0m \u001b[0;32min\u001b[0m \u001b[0mbiggerlist1\u001b[0m\u001b[0;34m:\u001b[0m\u001b[0;34m\u001b[0m\u001b[0;34m\u001b[0m\u001b[0m\n",
            "\u001b[0;32m<ipython-input-87-a41044d93ca8>\u001b[0m in \u001b[0;36mlocal_search\u001b[0;34m(repo, limit, alpha, beta, biggerlist, repo_found, cont_list)\u001b[0m\n\u001b[1;32m     61\u001b[0m       \u001b[0mprint\u001b[0m\u001b[0;34m(\u001b[0m\u001b[0mrepo2\u001b[0m\u001b[0;34m.\u001b[0m\u001b[0mfull_name\u001b[0m\u001b[0;34m)\u001b[0m\u001b[0;34m\u001b[0m\u001b[0;34m\u001b[0m\u001b[0m\n\u001b[1;32m     62\u001b[0m       \u001b[0mprint\u001b[0m\u001b[0;34m(\u001b[0m\u001b[0;34m\"Limit passing is \"\u001b[0m\u001b[0;34m+\u001b[0m\u001b[0mstr\u001b[0m\u001b[0;34m(\u001b[0m\u001b[0mlimit\u001b[0m\u001b[0;34m-\u001b[0m\u001b[0mlen\u001b[0m\u001b[0;34m(\u001b[0m\u001b[0mbiggerlist\u001b[0m\u001b[0;34m)\u001b[0m\u001b[0;34m)\u001b[0m\u001b[0;34m)\u001b[0m\u001b[0;34m\u001b[0m\u001b[0;34m\u001b[0m\u001b[0m\n\u001b[0;32m---> 63\u001b[0;31m       \u001b[0mrepo_found2\u001b[0m\u001b[0;34m,\u001b[0m\u001b[0mbiggerlist1\u001b[0m\u001b[0;34m=\u001b[0m\u001b[0mlocal_search\u001b[0m\u001b[0;34m(\u001b[0m\u001b[0mrepo2\u001b[0m\u001b[0;34m,\u001b[0m\u001b[0mlimit\u001b[0m\u001b[0;34m,\u001b[0m\u001b[0malpha\u001b[0m\u001b[0;34m,\u001b[0m\u001b[0mbeta\u001b[0m\u001b[0;34m,\u001b[0m\u001b[0mbiggerlist\u001b[0m\u001b[0;34m,\u001b[0m\u001b[0mrepo_found\u001b[0m\u001b[0;34m,\u001b[0m\u001b[0mcont_list\u001b[0m\u001b[0;34m)\u001b[0m\u001b[0;34m\u001b[0m\u001b[0;34m\u001b[0m\u001b[0m\n\u001b[0m\u001b[1;32m     64\u001b[0m       \u001b[0mprint\u001b[0m\u001b[0;34m(\u001b[0m\u001b[0;34m\"hi\"\u001b[0m\u001b[0;34m)\u001b[0m\u001b[0;34m\u001b[0m\u001b[0;34m\u001b[0m\u001b[0m\n\u001b[1;32m     65\u001b[0m       \u001b[0;32mfor\u001b[0m \u001b[0mrepo\u001b[0m \u001b[0;32min\u001b[0m \u001b[0mbiggerlist1\u001b[0m\u001b[0;34m:\u001b[0m\u001b[0;34m\u001b[0m\u001b[0;34m\u001b[0m\u001b[0m\n",
            "\u001b[0;32m<ipython-input-87-a41044d93ca8>\u001b[0m in \u001b[0;36mlocal_search\u001b[0;34m(repo, limit, alpha, beta, biggerlist, repo_found, cont_list)\u001b[0m\n\u001b[1;32m     61\u001b[0m       \u001b[0mprint\u001b[0m\u001b[0;34m(\u001b[0m\u001b[0mrepo2\u001b[0m\u001b[0;34m.\u001b[0m\u001b[0mfull_name\u001b[0m\u001b[0;34m)\u001b[0m\u001b[0;34m\u001b[0m\u001b[0;34m\u001b[0m\u001b[0m\n\u001b[1;32m     62\u001b[0m       \u001b[0mprint\u001b[0m\u001b[0;34m(\u001b[0m\u001b[0;34m\"Limit passing is \"\u001b[0m\u001b[0;34m+\u001b[0m\u001b[0mstr\u001b[0m\u001b[0;34m(\u001b[0m\u001b[0mlimit\u001b[0m\u001b[0;34m-\u001b[0m\u001b[0mlen\u001b[0m\u001b[0;34m(\u001b[0m\u001b[0mbiggerlist\u001b[0m\u001b[0;34m)\u001b[0m\u001b[0;34m)\u001b[0m\u001b[0;34m)\u001b[0m\u001b[0;34m\u001b[0m\u001b[0;34m\u001b[0m\u001b[0m\n\u001b[0;32m---> 63\u001b[0;31m       \u001b[0mrepo_found2\u001b[0m\u001b[0;34m,\u001b[0m\u001b[0mbiggerlist1\u001b[0m\u001b[0;34m=\u001b[0m\u001b[0mlocal_search\u001b[0m\u001b[0;34m(\u001b[0m\u001b[0mrepo2\u001b[0m\u001b[0;34m,\u001b[0m\u001b[0mlimit\u001b[0m\u001b[0;34m,\u001b[0m\u001b[0malpha\u001b[0m\u001b[0;34m,\u001b[0m\u001b[0mbeta\u001b[0m\u001b[0;34m,\u001b[0m\u001b[0mbiggerlist\u001b[0m\u001b[0;34m,\u001b[0m\u001b[0mrepo_found\u001b[0m\u001b[0;34m,\u001b[0m\u001b[0mcont_list\u001b[0m\u001b[0;34m)\u001b[0m\u001b[0;34m\u001b[0m\u001b[0;34m\u001b[0m\u001b[0m\n\u001b[0m\u001b[1;32m     64\u001b[0m       \u001b[0mprint\u001b[0m\u001b[0;34m(\u001b[0m\u001b[0;34m\"hi\"\u001b[0m\u001b[0;34m)\u001b[0m\u001b[0;34m\u001b[0m\u001b[0;34m\u001b[0m\u001b[0m\n\u001b[1;32m     65\u001b[0m       \u001b[0;32mfor\u001b[0m \u001b[0mrepo\u001b[0m \u001b[0;32min\u001b[0m \u001b[0mbiggerlist1\u001b[0m\u001b[0;34m:\u001b[0m\u001b[0;34m\u001b[0m\u001b[0;34m\u001b[0m\u001b[0m\n",
            "\u001b[0;32m<ipython-input-87-a41044d93ca8>\u001b[0m in \u001b[0;36mlocal_search\u001b[0;34m(repo, limit, alpha, beta, biggerlist, repo_found, cont_list)\u001b[0m\n\u001b[1;32m     61\u001b[0m       \u001b[0mprint\u001b[0m\u001b[0;34m(\u001b[0m\u001b[0mrepo2\u001b[0m\u001b[0;34m.\u001b[0m\u001b[0mfull_name\u001b[0m\u001b[0;34m)\u001b[0m\u001b[0;34m\u001b[0m\u001b[0;34m\u001b[0m\u001b[0m\n\u001b[1;32m     62\u001b[0m       \u001b[0mprint\u001b[0m\u001b[0;34m(\u001b[0m\u001b[0;34m\"Limit passing is \"\u001b[0m\u001b[0;34m+\u001b[0m\u001b[0mstr\u001b[0m\u001b[0;34m(\u001b[0m\u001b[0mlimit\u001b[0m\u001b[0;34m-\u001b[0m\u001b[0mlen\u001b[0m\u001b[0;34m(\u001b[0m\u001b[0mbiggerlist\u001b[0m\u001b[0;34m)\u001b[0m\u001b[0;34m)\u001b[0m\u001b[0;34m)\u001b[0m\u001b[0;34m\u001b[0m\u001b[0;34m\u001b[0m\u001b[0m\n\u001b[0;32m---> 63\u001b[0;31m       \u001b[0mrepo_found2\u001b[0m\u001b[0;34m,\u001b[0m\u001b[0mbiggerlist1\u001b[0m\u001b[0;34m=\u001b[0m\u001b[0mlocal_search\u001b[0m\u001b[0;34m(\u001b[0m\u001b[0mrepo2\u001b[0m\u001b[0;34m,\u001b[0m\u001b[0mlimit\u001b[0m\u001b[0;34m,\u001b[0m\u001b[0malpha\u001b[0m\u001b[0;34m,\u001b[0m\u001b[0mbeta\u001b[0m\u001b[0;34m,\u001b[0m\u001b[0mbiggerlist\u001b[0m\u001b[0;34m,\u001b[0m\u001b[0mrepo_found\u001b[0m\u001b[0;34m,\u001b[0m\u001b[0mcont_list\u001b[0m\u001b[0;34m)\u001b[0m\u001b[0;34m\u001b[0m\u001b[0;34m\u001b[0m\u001b[0m\n\u001b[0m\u001b[1;32m     64\u001b[0m       \u001b[0mprint\u001b[0m\u001b[0;34m(\u001b[0m\u001b[0;34m\"hi\"\u001b[0m\u001b[0;34m)\u001b[0m\u001b[0;34m\u001b[0m\u001b[0;34m\u001b[0m\u001b[0m\n\u001b[1;32m     65\u001b[0m       \u001b[0;32mfor\u001b[0m \u001b[0mrepo\u001b[0m \u001b[0;32min\u001b[0m \u001b[0mbiggerlist1\u001b[0m\u001b[0;34m:\u001b[0m\u001b[0;34m\u001b[0m\u001b[0;34m\u001b[0m\u001b[0m\n",
            "\u001b[0;32m<ipython-input-87-a41044d93ca8>\u001b[0m in \u001b[0;36mlocal_search\u001b[0;34m(repo, limit, alpha, beta, biggerlist, repo_found, cont_list)\u001b[0m\n\u001b[1;32m     61\u001b[0m       \u001b[0mprint\u001b[0m\u001b[0;34m(\u001b[0m\u001b[0mrepo2\u001b[0m\u001b[0;34m.\u001b[0m\u001b[0mfull_name\u001b[0m\u001b[0;34m)\u001b[0m\u001b[0;34m\u001b[0m\u001b[0;34m\u001b[0m\u001b[0m\n\u001b[1;32m     62\u001b[0m       \u001b[0mprint\u001b[0m\u001b[0;34m(\u001b[0m\u001b[0;34m\"Limit passing is \"\u001b[0m\u001b[0;34m+\u001b[0m\u001b[0mstr\u001b[0m\u001b[0;34m(\u001b[0m\u001b[0mlimit\u001b[0m\u001b[0;34m-\u001b[0m\u001b[0mlen\u001b[0m\u001b[0;34m(\u001b[0m\u001b[0mbiggerlist\u001b[0m\u001b[0;34m)\u001b[0m\u001b[0;34m)\u001b[0m\u001b[0;34m)\u001b[0m\u001b[0;34m\u001b[0m\u001b[0;34m\u001b[0m\u001b[0m\n\u001b[0;32m---> 63\u001b[0;31m       \u001b[0mrepo_found2\u001b[0m\u001b[0;34m,\u001b[0m\u001b[0mbiggerlist1\u001b[0m\u001b[0;34m=\u001b[0m\u001b[0mlocal_search\u001b[0m\u001b[0;34m(\u001b[0m\u001b[0mrepo2\u001b[0m\u001b[0;34m,\u001b[0m\u001b[0mlimit\u001b[0m\u001b[0;34m,\u001b[0m\u001b[0malpha\u001b[0m\u001b[0;34m,\u001b[0m\u001b[0mbeta\u001b[0m\u001b[0;34m,\u001b[0m\u001b[0mbiggerlist\u001b[0m\u001b[0;34m,\u001b[0m\u001b[0mrepo_found\u001b[0m\u001b[0;34m,\u001b[0m\u001b[0mcont_list\u001b[0m\u001b[0;34m)\u001b[0m\u001b[0;34m\u001b[0m\u001b[0;34m\u001b[0m\u001b[0m\n\u001b[0m\u001b[1;32m     64\u001b[0m       \u001b[0mprint\u001b[0m\u001b[0;34m(\u001b[0m\u001b[0;34m\"hi\"\u001b[0m\u001b[0;34m)\u001b[0m\u001b[0;34m\u001b[0m\u001b[0;34m\u001b[0m\u001b[0m\n\u001b[1;32m     65\u001b[0m       \u001b[0;32mfor\u001b[0m \u001b[0mrepo\u001b[0m \u001b[0;32min\u001b[0m \u001b[0mbiggerlist1\u001b[0m\u001b[0;34m:\u001b[0m\u001b[0;34m\u001b[0m\u001b[0;34m\u001b[0m\u001b[0m\n",
            "\u001b[0;32m<ipython-input-87-a41044d93ca8>\u001b[0m in \u001b[0;36mlocal_search\u001b[0;34m(repo, limit, alpha, beta, biggerlist, repo_found, cont_list)\u001b[0m\n\u001b[1;32m     61\u001b[0m       \u001b[0mprint\u001b[0m\u001b[0;34m(\u001b[0m\u001b[0mrepo2\u001b[0m\u001b[0;34m.\u001b[0m\u001b[0mfull_name\u001b[0m\u001b[0;34m)\u001b[0m\u001b[0;34m\u001b[0m\u001b[0;34m\u001b[0m\u001b[0m\n\u001b[1;32m     62\u001b[0m       \u001b[0mprint\u001b[0m\u001b[0;34m(\u001b[0m\u001b[0;34m\"Limit passing is \"\u001b[0m\u001b[0;34m+\u001b[0m\u001b[0mstr\u001b[0m\u001b[0;34m(\u001b[0m\u001b[0mlimit\u001b[0m\u001b[0;34m-\u001b[0m\u001b[0mlen\u001b[0m\u001b[0;34m(\u001b[0m\u001b[0mbiggerlist\u001b[0m\u001b[0;34m)\u001b[0m\u001b[0;34m)\u001b[0m\u001b[0;34m)\u001b[0m\u001b[0;34m\u001b[0m\u001b[0;34m\u001b[0m\u001b[0m\n\u001b[0;32m---> 63\u001b[0;31m       \u001b[0mrepo_found2\u001b[0m\u001b[0;34m,\u001b[0m\u001b[0mbiggerlist1\u001b[0m\u001b[0;34m=\u001b[0m\u001b[0mlocal_search\u001b[0m\u001b[0;34m(\u001b[0m\u001b[0mrepo2\u001b[0m\u001b[0;34m,\u001b[0m\u001b[0mlimit\u001b[0m\u001b[0;34m,\u001b[0m\u001b[0malpha\u001b[0m\u001b[0;34m,\u001b[0m\u001b[0mbeta\u001b[0m\u001b[0;34m,\u001b[0m\u001b[0mbiggerlist\u001b[0m\u001b[0;34m,\u001b[0m\u001b[0mrepo_found\u001b[0m\u001b[0;34m,\u001b[0m\u001b[0mcont_list\u001b[0m\u001b[0;34m)\u001b[0m\u001b[0;34m\u001b[0m\u001b[0;34m\u001b[0m\u001b[0m\n\u001b[0m\u001b[1;32m     64\u001b[0m       \u001b[0mprint\u001b[0m\u001b[0;34m(\u001b[0m\u001b[0;34m\"hi\"\u001b[0m\u001b[0;34m)\u001b[0m\u001b[0;34m\u001b[0m\u001b[0;34m\u001b[0m\u001b[0m\n\u001b[1;32m     65\u001b[0m       \u001b[0;32mfor\u001b[0m \u001b[0mrepo\u001b[0m \u001b[0;32min\u001b[0m \u001b[0mbiggerlist1\u001b[0m\u001b[0;34m:\u001b[0m\u001b[0;34m\u001b[0m\u001b[0;34m\u001b[0m\u001b[0m\n",
            "\u001b[0;32m<ipython-input-87-a41044d93ca8>\u001b[0m in \u001b[0;36mlocal_search\u001b[0;34m(repo, limit, alpha, beta, biggerlist, repo_found, cont_list)\u001b[0m\n\u001b[1;32m     61\u001b[0m       \u001b[0mprint\u001b[0m\u001b[0;34m(\u001b[0m\u001b[0mrepo2\u001b[0m\u001b[0;34m.\u001b[0m\u001b[0mfull_name\u001b[0m\u001b[0;34m)\u001b[0m\u001b[0;34m\u001b[0m\u001b[0;34m\u001b[0m\u001b[0m\n\u001b[1;32m     62\u001b[0m       \u001b[0mprint\u001b[0m\u001b[0;34m(\u001b[0m\u001b[0;34m\"Limit passing is \"\u001b[0m\u001b[0;34m+\u001b[0m\u001b[0mstr\u001b[0m\u001b[0;34m(\u001b[0m\u001b[0mlimit\u001b[0m\u001b[0;34m-\u001b[0m\u001b[0mlen\u001b[0m\u001b[0;34m(\u001b[0m\u001b[0mbiggerlist\u001b[0m\u001b[0;34m)\u001b[0m\u001b[0;34m)\u001b[0m\u001b[0;34m)\u001b[0m\u001b[0;34m\u001b[0m\u001b[0;34m\u001b[0m\u001b[0m\n\u001b[0;32m---> 63\u001b[0;31m       \u001b[0mrepo_found2\u001b[0m\u001b[0;34m,\u001b[0m\u001b[0mbiggerlist1\u001b[0m\u001b[0;34m=\u001b[0m\u001b[0mlocal_search\u001b[0m\u001b[0;34m(\u001b[0m\u001b[0mrepo2\u001b[0m\u001b[0;34m,\u001b[0m\u001b[0mlimit\u001b[0m\u001b[0;34m,\u001b[0m\u001b[0malpha\u001b[0m\u001b[0;34m,\u001b[0m\u001b[0mbeta\u001b[0m\u001b[0;34m,\u001b[0m\u001b[0mbiggerlist\u001b[0m\u001b[0;34m,\u001b[0m\u001b[0mrepo_found\u001b[0m\u001b[0;34m,\u001b[0m\u001b[0mcont_list\u001b[0m\u001b[0;34m)\u001b[0m\u001b[0;34m\u001b[0m\u001b[0;34m\u001b[0m\u001b[0m\n\u001b[0m\u001b[1;32m     64\u001b[0m       \u001b[0mprint\u001b[0m\u001b[0;34m(\u001b[0m\u001b[0;34m\"hi\"\u001b[0m\u001b[0;34m)\u001b[0m\u001b[0;34m\u001b[0m\u001b[0;34m\u001b[0m\u001b[0m\n\u001b[1;32m     65\u001b[0m       \u001b[0;32mfor\u001b[0m \u001b[0mrepo\u001b[0m \u001b[0;32min\u001b[0m \u001b[0mbiggerlist1\u001b[0m\u001b[0;34m:\u001b[0m\u001b[0;34m\u001b[0m\u001b[0;34m\u001b[0m\u001b[0m\n",
            "\u001b[0;32m<ipython-input-87-a41044d93ca8>\u001b[0m in \u001b[0;36mlocal_search\u001b[0;34m(repo, limit, alpha, beta, biggerlist, repo_found, cont_list)\u001b[0m\n\u001b[1;32m     61\u001b[0m       \u001b[0mprint\u001b[0m\u001b[0;34m(\u001b[0m\u001b[0mrepo2\u001b[0m\u001b[0;34m.\u001b[0m\u001b[0mfull_name\u001b[0m\u001b[0;34m)\u001b[0m\u001b[0;34m\u001b[0m\u001b[0;34m\u001b[0m\u001b[0m\n\u001b[1;32m     62\u001b[0m       \u001b[0mprint\u001b[0m\u001b[0;34m(\u001b[0m\u001b[0;34m\"Limit passing is \"\u001b[0m\u001b[0;34m+\u001b[0m\u001b[0mstr\u001b[0m\u001b[0;34m(\u001b[0m\u001b[0mlimit\u001b[0m\u001b[0;34m-\u001b[0m\u001b[0mlen\u001b[0m\u001b[0;34m(\u001b[0m\u001b[0mbiggerlist\u001b[0m\u001b[0;34m)\u001b[0m\u001b[0;34m)\u001b[0m\u001b[0;34m)\u001b[0m\u001b[0;34m\u001b[0m\u001b[0;34m\u001b[0m\u001b[0m\n\u001b[0;32m---> 63\u001b[0;31m       \u001b[0mrepo_found2\u001b[0m\u001b[0;34m,\u001b[0m\u001b[0mbiggerlist1\u001b[0m\u001b[0;34m=\u001b[0m\u001b[0mlocal_search\u001b[0m\u001b[0;34m(\u001b[0m\u001b[0mrepo2\u001b[0m\u001b[0;34m,\u001b[0m\u001b[0mlimit\u001b[0m\u001b[0;34m,\u001b[0m\u001b[0malpha\u001b[0m\u001b[0;34m,\u001b[0m\u001b[0mbeta\u001b[0m\u001b[0;34m,\u001b[0m\u001b[0mbiggerlist\u001b[0m\u001b[0;34m,\u001b[0m\u001b[0mrepo_found\u001b[0m\u001b[0;34m,\u001b[0m\u001b[0mcont_list\u001b[0m\u001b[0;34m)\u001b[0m\u001b[0;34m\u001b[0m\u001b[0;34m\u001b[0m\u001b[0m\n\u001b[0m\u001b[1;32m     64\u001b[0m       \u001b[0mprint\u001b[0m\u001b[0;34m(\u001b[0m\u001b[0;34m\"hi\"\u001b[0m\u001b[0;34m)\u001b[0m\u001b[0;34m\u001b[0m\u001b[0;34m\u001b[0m\u001b[0m\n\u001b[1;32m     65\u001b[0m       \u001b[0;32mfor\u001b[0m \u001b[0mrepo\u001b[0m \u001b[0;32min\u001b[0m \u001b[0mbiggerlist1\u001b[0m\u001b[0;34m:\u001b[0m\u001b[0;34m\u001b[0m\u001b[0;34m\u001b[0m\u001b[0m\n",
            "\u001b[0;32m<ipython-input-87-a41044d93ca8>\u001b[0m in \u001b[0;36mlocal_search\u001b[0;34m(repo, limit, alpha, beta, biggerlist, repo_found, cont_list)\u001b[0m\n\u001b[1;32m     61\u001b[0m       \u001b[0mprint\u001b[0m\u001b[0;34m(\u001b[0m\u001b[0mrepo2\u001b[0m\u001b[0;34m.\u001b[0m\u001b[0mfull_name\u001b[0m\u001b[0;34m)\u001b[0m\u001b[0;34m\u001b[0m\u001b[0;34m\u001b[0m\u001b[0m\n\u001b[1;32m     62\u001b[0m       \u001b[0mprint\u001b[0m\u001b[0;34m(\u001b[0m\u001b[0;34m\"Limit passing is \"\u001b[0m\u001b[0;34m+\u001b[0m\u001b[0mstr\u001b[0m\u001b[0;34m(\u001b[0m\u001b[0mlimit\u001b[0m\u001b[0;34m-\u001b[0m\u001b[0mlen\u001b[0m\u001b[0;34m(\u001b[0m\u001b[0mbiggerlist\u001b[0m\u001b[0;34m)\u001b[0m\u001b[0;34m)\u001b[0m\u001b[0;34m)\u001b[0m\u001b[0;34m\u001b[0m\u001b[0;34m\u001b[0m\u001b[0m\n\u001b[0;32m---> 63\u001b[0;31m       \u001b[0mrepo_found2\u001b[0m\u001b[0;34m,\u001b[0m\u001b[0mbiggerlist1\u001b[0m\u001b[0;34m=\u001b[0m\u001b[0mlocal_search\u001b[0m\u001b[0;34m(\u001b[0m\u001b[0mrepo2\u001b[0m\u001b[0;34m,\u001b[0m\u001b[0mlimit\u001b[0m\u001b[0;34m,\u001b[0m\u001b[0malpha\u001b[0m\u001b[0;34m,\u001b[0m\u001b[0mbeta\u001b[0m\u001b[0;34m,\u001b[0m\u001b[0mbiggerlist\u001b[0m\u001b[0;34m,\u001b[0m\u001b[0mrepo_found\u001b[0m\u001b[0;34m,\u001b[0m\u001b[0mcont_list\u001b[0m\u001b[0;34m)\u001b[0m\u001b[0;34m\u001b[0m\u001b[0;34m\u001b[0m\u001b[0m\n\u001b[0m\u001b[1;32m     64\u001b[0m       \u001b[0mprint\u001b[0m\u001b[0;34m(\u001b[0m\u001b[0;34m\"hi\"\u001b[0m\u001b[0;34m)\u001b[0m\u001b[0;34m\u001b[0m\u001b[0;34m\u001b[0m\u001b[0m\n\u001b[1;32m     65\u001b[0m       \u001b[0;32mfor\u001b[0m \u001b[0mrepo\u001b[0m \u001b[0;32min\u001b[0m \u001b[0mbiggerlist1\u001b[0m\u001b[0;34m:\u001b[0m\u001b[0;34m\u001b[0m\u001b[0;34m\u001b[0m\u001b[0m\n",
            "\u001b[0;32m<ipython-input-87-a41044d93ca8>\u001b[0m in \u001b[0;36mlocal_search\u001b[0;34m(repo, limit, alpha, beta, biggerlist, repo_found, cont_list)\u001b[0m\n\u001b[1;32m     61\u001b[0m       \u001b[0mprint\u001b[0m\u001b[0;34m(\u001b[0m\u001b[0mrepo2\u001b[0m\u001b[0;34m.\u001b[0m\u001b[0mfull_name\u001b[0m\u001b[0;34m)\u001b[0m\u001b[0;34m\u001b[0m\u001b[0;34m\u001b[0m\u001b[0m\n\u001b[1;32m     62\u001b[0m       \u001b[0mprint\u001b[0m\u001b[0;34m(\u001b[0m\u001b[0;34m\"Limit passing is \"\u001b[0m\u001b[0;34m+\u001b[0m\u001b[0mstr\u001b[0m\u001b[0;34m(\u001b[0m\u001b[0mlimit\u001b[0m\u001b[0;34m-\u001b[0m\u001b[0mlen\u001b[0m\u001b[0;34m(\u001b[0m\u001b[0mbiggerlist\u001b[0m\u001b[0;34m)\u001b[0m\u001b[0;34m)\u001b[0m\u001b[0;34m)\u001b[0m\u001b[0;34m\u001b[0m\u001b[0;34m\u001b[0m\u001b[0m\n\u001b[0;32m---> 63\u001b[0;31m       \u001b[0mrepo_found2\u001b[0m\u001b[0;34m,\u001b[0m\u001b[0mbiggerlist1\u001b[0m\u001b[0;34m=\u001b[0m\u001b[0mlocal_search\u001b[0m\u001b[0;34m(\u001b[0m\u001b[0mrepo2\u001b[0m\u001b[0;34m,\u001b[0m\u001b[0mlimit\u001b[0m\u001b[0;34m,\u001b[0m\u001b[0malpha\u001b[0m\u001b[0;34m,\u001b[0m\u001b[0mbeta\u001b[0m\u001b[0;34m,\u001b[0m\u001b[0mbiggerlist\u001b[0m\u001b[0;34m,\u001b[0m\u001b[0mrepo_found\u001b[0m\u001b[0;34m,\u001b[0m\u001b[0mcont_list\u001b[0m\u001b[0;34m)\u001b[0m\u001b[0;34m\u001b[0m\u001b[0;34m\u001b[0m\u001b[0m\n\u001b[0m\u001b[1;32m     64\u001b[0m       \u001b[0mprint\u001b[0m\u001b[0;34m(\u001b[0m\u001b[0;34m\"hi\"\u001b[0m\u001b[0;34m)\u001b[0m\u001b[0;34m\u001b[0m\u001b[0;34m\u001b[0m\u001b[0m\n\u001b[1;32m     65\u001b[0m       \u001b[0;32mfor\u001b[0m \u001b[0mrepo\u001b[0m \u001b[0;32min\u001b[0m \u001b[0mbiggerlist1\u001b[0m\u001b[0;34m:\u001b[0m\u001b[0;34m\u001b[0m\u001b[0;34m\u001b[0m\u001b[0m\n",
            "\u001b[0;32m<ipython-input-87-a41044d93ca8>\u001b[0m in \u001b[0;36mlocal_search\u001b[0;34m(repo, limit, alpha, beta, biggerlist, repo_found, cont_list)\u001b[0m\n\u001b[1;32m     61\u001b[0m       \u001b[0mprint\u001b[0m\u001b[0;34m(\u001b[0m\u001b[0mrepo2\u001b[0m\u001b[0;34m.\u001b[0m\u001b[0mfull_name\u001b[0m\u001b[0;34m)\u001b[0m\u001b[0;34m\u001b[0m\u001b[0;34m\u001b[0m\u001b[0m\n\u001b[1;32m     62\u001b[0m       \u001b[0mprint\u001b[0m\u001b[0;34m(\u001b[0m\u001b[0;34m\"Limit passing is \"\u001b[0m\u001b[0;34m+\u001b[0m\u001b[0mstr\u001b[0m\u001b[0;34m(\u001b[0m\u001b[0mlimit\u001b[0m\u001b[0;34m-\u001b[0m\u001b[0mlen\u001b[0m\u001b[0;34m(\u001b[0m\u001b[0mbiggerlist\u001b[0m\u001b[0;34m)\u001b[0m\u001b[0;34m)\u001b[0m\u001b[0;34m)\u001b[0m\u001b[0;34m\u001b[0m\u001b[0;34m\u001b[0m\u001b[0m\n\u001b[0;32m---> 63\u001b[0;31m       \u001b[0mrepo_found2\u001b[0m\u001b[0;34m,\u001b[0m\u001b[0mbiggerlist1\u001b[0m\u001b[0;34m=\u001b[0m\u001b[0mlocal_search\u001b[0m\u001b[0;34m(\u001b[0m\u001b[0mrepo2\u001b[0m\u001b[0;34m,\u001b[0m\u001b[0mlimit\u001b[0m\u001b[0;34m,\u001b[0m\u001b[0malpha\u001b[0m\u001b[0;34m,\u001b[0m\u001b[0mbeta\u001b[0m\u001b[0;34m,\u001b[0m\u001b[0mbiggerlist\u001b[0m\u001b[0;34m,\u001b[0m\u001b[0mrepo_found\u001b[0m\u001b[0;34m,\u001b[0m\u001b[0mcont_list\u001b[0m\u001b[0;34m)\u001b[0m\u001b[0;34m\u001b[0m\u001b[0;34m\u001b[0m\u001b[0m\n\u001b[0m\u001b[1;32m     64\u001b[0m       \u001b[0mprint\u001b[0m\u001b[0;34m(\u001b[0m\u001b[0;34m\"hi\"\u001b[0m\u001b[0;34m)\u001b[0m\u001b[0;34m\u001b[0m\u001b[0;34m\u001b[0m\u001b[0m\n\u001b[1;32m     65\u001b[0m       \u001b[0;32mfor\u001b[0m \u001b[0mrepo\u001b[0m \u001b[0;32min\u001b[0m \u001b[0mbiggerlist1\u001b[0m\u001b[0;34m:\u001b[0m\u001b[0;34m\u001b[0m\u001b[0;34m\u001b[0m\u001b[0m\n",
            "\u001b[0;32m<ipython-input-87-a41044d93ca8>\u001b[0m in \u001b[0;36mlocal_search\u001b[0;34m(repo, limit, alpha, beta, biggerlist, repo_found, cont_list)\u001b[0m\n\u001b[1;32m     61\u001b[0m       \u001b[0mprint\u001b[0m\u001b[0;34m(\u001b[0m\u001b[0mrepo2\u001b[0m\u001b[0;34m.\u001b[0m\u001b[0mfull_name\u001b[0m\u001b[0;34m)\u001b[0m\u001b[0;34m\u001b[0m\u001b[0;34m\u001b[0m\u001b[0m\n\u001b[1;32m     62\u001b[0m       \u001b[0mprint\u001b[0m\u001b[0;34m(\u001b[0m\u001b[0;34m\"Limit passing is \"\u001b[0m\u001b[0;34m+\u001b[0m\u001b[0mstr\u001b[0m\u001b[0;34m(\u001b[0m\u001b[0mlimit\u001b[0m\u001b[0;34m-\u001b[0m\u001b[0mlen\u001b[0m\u001b[0;34m(\u001b[0m\u001b[0mbiggerlist\u001b[0m\u001b[0;34m)\u001b[0m\u001b[0;34m)\u001b[0m\u001b[0;34m)\u001b[0m\u001b[0;34m\u001b[0m\u001b[0;34m\u001b[0m\u001b[0m\n\u001b[0;32m---> 63\u001b[0;31m       \u001b[0mrepo_found2\u001b[0m\u001b[0;34m,\u001b[0m\u001b[0mbiggerlist1\u001b[0m\u001b[0;34m=\u001b[0m\u001b[0mlocal_search\u001b[0m\u001b[0;34m(\u001b[0m\u001b[0mrepo2\u001b[0m\u001b[0;34m,\u001b[0m\u001b[0mlimit\u001b[0m\u001b[0;34m,\u001b[0m\u001b[0malpha\u001b[0m\u001b[0;34m,\u001b[0m\u001b[0mbeta\u001b[0m\u001b[0;34m,\u001b[0m\u001b[0mbiggerlist\u001b[0m\u001b[0;34m,\u001b[0m\u001b[0mrepo_found\u001b[0m\u001b[0;34m,\u001b[0m\u001b[0mcont_list\u001b[0m\u001b[0;34m)\u001b[0m\u001b[0;34m\u001b[0m\u001b[0;34m\u001b[0m\u001b[0m\n\u001b[0m\u001b[1;32m     64\u001b[0m       \u001b[0mprint\u001b[0m\u001b[0;34m(\u001b[0m\u001b[0;34m\"hi\"\u001b[0m\u001b[0;34m)\u001b[0m\u001b[0;34m\u001b[0m\u001b[0;34m\u001b[0m\u001b[0m\n\u001b[1;32m     65\u001b[0m       \u001b[0;32mfor\u001b[0m \u001b[0mrepo\u001b[0m \u001b[0;32min\u001b[0m \u001b[0mbiggerlist1\u001b[0m\u001b[0;34m:\u001b[0m\u001b[0;34m\u001b[0m\u001b[0;34m\u001b[0m\u001b[0m\n",
            "\u001b[0;32m<ipython-input-87-a41044d93ca8>\u001b[0m in \u001b[0;36mlocal_search\u001b[0;34m(repo, limit, alpha, beta, biggerlist, repo_found, cont_list)\u001b[0m\n\u001b[1;32m     61\u001b[0m       \u001b[0mprint\u001b[0m\u001b[0;34m(\u001b[0m\u001b[0mrepo2\u001b[0m\u001b[0;34m.\u001b[0m\u001b[0mfull_name\u001b[0m\u001b[0;34m)\u001b[0m\u001b[0;34m\u001b[0m\u001b[0;34m\u001b[0m\u001b[0m\n\u001b[1;32m     62\u001b[0m       \u001b[0mprint\u001b[0m\u001b[0;34m(\u001b[0m\u001b[0;34m\"Limit passing is \"\u001b[0m\u001b[0;34m+\u001b[0m\u001b[0mstr\u001b[0m\u001b[0;34m(\u001b[0m\u001b[0mlimit\u001b[0m\u001b[0;34m-\u001b[0m\u001b[0mlen\u001b[0m\u001b[0;34m(\u001b[0m\u001b[0mbiggerlist\u001b[0m\u001b[0;34m)\u001b[0m\u001b[0;34m)\u001b[0m\u001b[0;34m)\u001b[0m\u001b[0;34m\u001b[0m\u001b[0;34m\u001b[0m\u001b[0m\n\u001b[0;32m---> 63\u001b[0;31m       \u001b[0mrepo_found2\u001b[0m\u001b[0;34m,\u001b[0m\u001b[0mbiggerlist1\u001b[0m\u001b[0;34m=\u001b[0m\u001b[0mlocal_search\u001b[0m\u001b[0;34m(\u001b[0m\u001b[0mrepo2\u001b[0m\u001b[0;34m,\u001b[0m\u001b[0mlimit\u001b[0m\u001b[0;34m,\u001b[0m\u001b[0malpha\u001b[0m\u001b[0;34m,\u001b[0m\u001b[0mbeta\u001b[0m\u001b[0;34m,\u001b[0m\u001b[0mbiggerlist\u001b[0m\u001b[0;34m,\u001b[0m\u001b[0mrepo_found\u001b[0m\u001b[0;34m,\u001b[0m\u001b[0mcont_list\u001b[0m\u001b[0;34m)\u001b[0m\u001b[0;34m\u001b[0m\u001b[0;34m\u001b[0m\u001b[0m\n\u001b[0m\u001b[1;32m     64\u001b[0m       \u001b[0mprint\u001b[0m\u001b[0;34m(\u001b[0m\u001b[0;34m\"hi\"\u001b[0m\u001b[0;34m)\u001b[0m\u001b[0;34m\u001b[0m\u001b[0;34m\u001b[0m\u001b[0m\n\u001b[1;32m     65\u001b[0m       \u001b[0;32mfor\u001b[0m \u001b[0mrepo\u001b[0m \u001b[0;32min\u001b[0m \u001b[0mbiggerlist1\u001b[0m\u001b[0;34m:\u001b[0m\u001b[0;34m\u001b[0m\u001b[0;34m\u001b[0m\u001b[0m\n",
            "\u001b[0;32m<ipython-input-87-a41044d93ca8>\u001b[0m in \u001b[0;36mlocal_search\u001b[0;34m(repo, limit, alpha, beta, biggerlist, repo_found, cont_list)\u001b[0m\n\u001b[1;32m     61\u001b[0m       \u001b[0mprint\u001b[0m\u001b[0;34m(\u001b[0m\u001b[0mrepo2\u001b[0m\u001b[0;34m.\u001b[0m\u001b[0mfull_name\u001b[0m\u001b[0;34m)\u001b[0m\u001b[0;34m\u001b[0m\u001b[0;34m\u001b[0m\u001b[0m\n\u001b[1;32m     62\u001b[0m       \u001b[0mprint\u001b[0m\u001b[0;34m(\u001b[0m\u001b[0;34m\"Limit passing is \"\u001b[0m\u001b[0;34m+\u001b[0m\u001b[0mstr\u001b[0m\u001b[0;34m(\u001b[0m\u001b[0mlimit\u001b[0m\u001b[0;34m-\u001b[0m\u001b[0mlen\u001b[0m\u001b[0;34m(\u001b[0m\u001b[0mbiggerlist\u001b[0m\u001b[0;34m)\u001b[0m\u001b[0;34m)\u001b[0m\u001b[0;34m)\u001b[0m\u001b[0;34m\u001b[0m\u001b[0;34m\u001b[0m\u001b[0m\n\u001b[0;32m---> 63\u001b[0;31m       \u001b[0mrepo_found2\u001b[0m\u001b[0;34m,\u001b[0m\u001b[0mbiggerlist1\u001b[0m\u001b[0;34m=\u001b[0m\u001b[0mlocal_search\u001b[0m\u001b[0;34m(\u001b[0m\u001b[0mrepo2\u001b[0m\u001b[0;34m,\u001b[0m\u001b[0mlimit\u001b[0m\u001b[0;34m,\u001b[0m\u001b[0malpha\u001b[0m\u001b[0;34m,\u001b[0m\u001b[0mbeta\u001b[0m\u001b[0;34m,\u001b[0m\u001b[0mbiggerlist\u001b[0m\u001b[0;34m,\u001b[0m\u001b[0mrepo_found\u001b[0m\u001b[0;34m,\u001b[0m\u001b[0mcont_list\u001b[0m\u001b[0;34m)\u001b[0m\u001b[0;34m\u001b[0m\u001b[0;34m\u001b[0m\u001b[0m\n\u001b[0m\u001b[1;32m     64\u001b[0m       \u001b[0mprint\u001b[0m\u001b[0;34m(\u001b[0m\u001b[0;34m\"hi\"\u001b[0m\u001b[0;34m)\u001b[0m\u001b[0;34m\u001b[0m\u001b[0;34m\u001b[0m\u001b[0m\n\u001b[1;32m     65\u001b[0m       \u001b[0;32mfor\u001b[0m \u001b[0mrepo\u001b[0m \u001b[0;32min\u001b[0m \u001b[0mbiggerlist1\u001b[0m\u001b[0;34m:\u001b[0m\u001b[0;34m\u001b[0m\u001b[0;34m\u001b[0m\u001b[0m\n",
            "\u001b[0;32m<ipython-input-87-a41044d93ca8>\u001b[0m in \u001b[0;36mlocal_search\u001b[0;34m(repo, limit, alpha, beta, biggerlist, repo_found, cont_list)\u001b[0m\n\u001b[1;32m     61\u001b[0m       \u001b[0mprint\u001b[0m\u001b[0;34m(\u001b[0m\u001b[0mrepo2\u001b[0m\u001b[0;34m.\u001b[0m\u001b[0mfull_name\u001b[0m\u001b[0;34m)\u001b[0m\u001b[0;34m\u001b[0m\u001b[0;34m\u001b[0m\u001b[0m\n\u001b[1;32m     62\u001b[0m       \u001b[0mprint\u001b[0m\u001b[0;34m(\u001b[0m\u001b[0;34m\"Limit passing is \"\u001b[0m\u001b[0;34m+\u001b[0m\u001b[0mstr\u001b[0m\u001b[0;34m(\u001b[0m\u001b[0mlimit\u001b[0m\u001b[0;34m-\u001b[0m\u001b[0mlen\u001b[0m\u001b[0;34m(\u001b[0m\u001b[0mbiggerlist\u001b[0m\u001b[0;34m)\u001b[0m\u001b[0;34m)\u001b[0m\u001b[0;34m)\u001b[0m\u001b[0;34m\u001b[0m\u001b[0;34m\u001b[0m\u001b[0m\n\u001b[0;32m---> 63\u001b[0;31m       \u001b[0mrepo_found2\u001b[0m\u001b[0;34m,\u001b[0m\u001b[0mbiggerlist1\u001b[0m\u001b[0;34m=\u001b[0m\u001b[0mlocal_search\u001b[0m\u001b[0;34m(\u001b[0m\u001b[0mrepo2\u001b[0m\u001b[0;34m,\u001b[0m\u001b[0mlimit\u001b[0m\u001b[0;34m,\u001b[0m\u001b[0malpha\u001b[0m\u001b[0;34m,\u001b[0m\u001b[0mbeta\u001b[0m\u001b[0;34m,\u001b[0m\u001b[0mbiggerlist\u001b[0m\u001b[0;34m,\u001b[0m\u001b[0mrepo_found\u001b[0m\u001b[0;34m,\u001b[0m\u001b[0mcont_list\u001b[0m\u001b[0;34m)\u001b[0m\u001b[0;34m\u001b[0m\u001b[0;34m\u001b[0m\u001b[0m\n\u001b[0m\u001b[1;32m     64\u001b[0m       \u001b[0mprint\u001b[0m\u001b[0;34m(\u001b[0m\u001b[0;34m\"hi\"\u001b[0m\u001b[0;34m)\u001b[0m\u001b[0;34m\u001b[0m\u001b[0;34m\u001b[0m\u001b[0m\n\u001b[1;32m     65\u001b[0m       \u001b[0;32mfor\u001b[0m \u001b[0mrepo\u001b[0m \u001b[0;32min\u001b[0m \u001b[0mbiggerlist1\u001b[0m\u001b[0;34m:\u001b[0m\u001b[0;34m\u001b[0m\u001b[0;34m\u001b[0m\u001b[0m\n",
            "\u001b[0;32m<ipython-input-87-a41044d93ca8>\u001b[0m in \u001b[0;36mlocal_search\u001b[0;34m(repo, limit, alpha, beta, biggerlist, repo_found, cont_list)\u001b[0m\n\u001b[1;32m     61\u001b[0m       \u001b[0mprint\u001b[0m\u001b[0;34m(\u001b[0m\u001b[0mrepo2\u001b[0m\u001b[0;34m.\u001b[0m\u001b[0mfull_name\u001b[0m\u001b[0;34m)\u001b[0m\u001b[0;34m\u001b[0m\u001b[0;34m\u001b[0m\u001b[0m\n\u001b[1;32m     62\u001b[0m       \u001b[0mprint\u001b[0m\u001b[0;34m(\u001b[0m\u001b[0;34m\"Limit passing is \"\u001b[0m\u001b[0;34m+\u001b[0m\u001b[0mstr\u001b[0m\u001b[0;34m(\u001b[0m\u001b[0mlimit\u001b[0m\u001b[0;34m-\u001b[0m\u001b[0mlen\u001b[0m\u001b[0;34m(\u001b[0m\u001b[0mbiggerlist\u001b[0m\u001b[0;34m)\u001b[0m\u001b[0;34m)\u001b[0m\u001b[0;34m)\u001b[0m\u001b[0;34m\u001b[0m\u001b[0;34m\u001b[0m\u001b[0m\n\u001b[0;32m---> 63\u001b[0;31m       \u001b[0mrepo_found2\u001b[0m\u001b[0;34m,\u001b[0m\u001b[0mbiggerlist1\u001b[0m\u001b[0;34m=\u001b[0m\u001b[0mlocal_search\u001b[0m\u001b[0;34m(\u001b[0m\u001b[0mrepo2\u001b[0m\u001b[0;34m,\u001b[0m\u001b[0mlimit\u001b[0m\u001b[0;34m,\u001b[0m\u001b[0malpha\u001b[0m\u001b[0;34m,\u001b[0m\u001b[0mbeta\u001b[0m\u001b[0;34m,\u001b[0m\u001b[0mbiggerlist\u001b[0m\u001b[0;34m,\u001b[0m\u001b[0mrepo_found\u001b[0m\u001b[0;34m,\u001b[0m\u001b[0mcont_list\u001b[0m\u001b[0;34m)\u001b[0m\u001b[0;34m\u001b[0m\u001b[0;34m\u001b[0m\u001b[0m\n\u001b[0m\u001b[1;32m     64\u001b[0m       \u001b[0mprint\u001b[0m\u001b[0;34m(\u001b[0m\u001b[0;34m\"hi\"\u001b[0m\u001b[0;34m)\u001b[0m\u001b[0;34m\u001b[0m\u001b[0;34m\u001b[0m\u001b[0m\n\u001b[1;32m     65\u001b[0m       \u001b[0;32mfor\u001b[0m \u001b[0mrepo\u001b[0m \u001b[0;32min\u001b[0m \u001b[0mbiggerlist1\u001b[0m\u001b[0;34m:\u001b[0m\u001b[0;34m\u001b[0m\u001b[0;34m\u001b[0m\u001b[0m\n",
            "\u001b[0;32m<ipython-input-87-a41044d93ca8>\u001b[0m in \u001b[0;36mlocal_search\u001b[0;34m(repo, limit, alpha, beta, biggerlist, repo_found, cont_list)\u001b[0m\n\u001b[1;32m     61\u001b[0m       \u001b[0mprint\u001b[0m\u001b[0;34m(\u001b[0m\u001b[0mrepo2\u001b[0m\u001b[0;34m.\u001b[0m\u001b[0mfull_name\u001b[0m\u001b[0;34m)\u001b[0m\u001b[0;34m\u001b[0m\u001b[0;34m\u001b[0m\u001b[0m\n\u001b[1;32m     62\u001b[0m       \u001b[0mprint\u001b[0m\u001b[0;34m(\u001b[0m\u001b[0;34m\"Limit passing is \"\u001b[0m\u001b[0;34m+\u001b[0m\u001b[0mstr\u001b[0m\u001b[0;34m(\u001b[0m\u001b[0mlimit\u001b[0m\u001b[0;34m-\u001b[0m\u001b[0mlen\u001b[0m\u001b[0;34m(\u001b[0m\u001b[0mbiggerlist\u001b[0m\u001b[0;34m)\u001b[0m\u001b[0;34m)\u001b[0m\u001b[0;34m)\u001b[0m\u001b[0;34m\u001b[0m\u001b[0;34m\u001b[0m\u001b[0m\n\u001b[0;32m---> 63\u001b[0;31m       \u001b[0mrepo_found2\u001b[0m\u001b[0;34m,\u001b[0m\u001b[0mbiggerlist1\u001b[0m\u001b[0;34m=\u001b[0m\u001b[0mlocal_search\u001b[0m\u001b[0;34m(\u001b[0m\u001b[0mrepo2\u001b[0m\u001b[0;34m,\u001b[0m\u001b[0mlimit\u001b[0m\u001b[0;34m,\u001b[0m\u001b[0malpha\u001b[0m\u001b[0;34m,\u001b[0m\u001b[0mbeta\u001b[0m\u001b[0;34m,\u001b[0m\u001b[0mbiggerlist\u001b[0m\u001b[0;34m,\u001b[0m\u001b[0mrepo_found\u001b[0m\u001b[0;34m,\u001b[0m\u001b[0mcont_list\u001b[0m\u001b[0;34m)\u001b[0m\u001b[0;34m\u001b[0m\u001b[0;34m\u001b[0m\u001b[0m\n\u001b[0m\u001b[1;32m     64\u001b[0m       \u001b[0mprint\u001b[0m\u001b[0;34m(\u001b[0m\u001b[0;34m\"hi\"\u001b[0m\u001b[0;34m)\u001b[0m\u001b[0;34m\u001b[0m\u001b[0;34m\u001b[0m\u001b[0m\n\u001b[1;32m     65\u001b[0m       \u001b[0;32mfor\u001b[0m \u001b[0mrepo\u001b[0m \u001b[0;32min\u001b[0m \u001b[0mbiggerlist1\u001b[0m\u001b[0;34m:\u001b[0m\u001b[0;34m\u001b[0m\u001b[0;34m\u001b[0m\u001b[0m\n",
            "\u001b[0;32m<ipython-input-87-a41044d93ca8>\u001b[0m in \u001b[0;36mlocal_search\u001b[0;34m(repo, limit, alpha, beta, biggerlist, repo_found, cont_list)\u001b[0m\n\u001b[1;32m     61\u001b[0m       \u001b[0mprint\u001b[0m\u001b[0;34m(\u001b[0m\u001b[0mrepo2\u001b[0m\u001b[0;34m.\u001b[0m\u001b[0mfull_name\u001b[0m\u001b[0;34m)\u001b[0m\u001b[0;34m\u001b[0m\u001b[0;34m\u001b[0m\u001b[0m\n\u001b[1;32m     62\u001b[0m       \u001b[0mprint\u001b[0m\u001b[0;34m(\u001b[0m\u001b[0;34m\"Limit passing is \"\u001b[0m\u001b[0;34m+\u001b[0m\u001b[0mstr\u001b[0m\u001b[0;34m(\u001b[0m\u001b[0mlimit\u001b[0m\u001b[0;34m-\u001b[0m\u001b[0mlen\u001b[0m\u001b[0;34m(\u001b[0m\u001b[0mbiggerlist\u001b[0m\u001b[0;34m)\u001b[0m\u001b[0;34m)\u001b[0m\u001b[0;34m)\u001b[0m\u001b[0;34m\u001b[0m\u001b[0;34m\u001b[0m\u001b[0m\n\u001b[0;32m---> 63\u001b[0;31m       \u001b[0mrepo_found2\u001b[0m\u001b[0;34m,\u001b[0m\u001b[0mbiggerlist1\u001b[0m\u001b[0;34m=\u001b[0m\u001b[0mlocal_search\u001b[0m\u001b[0;34m(\u001b[0m\u001b[0mrepo2\u001b[0m\u001b[0;34m,\u001b[0m\u001b[0mlimit\u001b[0m\u001b[0;34m,\u001b[0m\u001b[0malpha\u001b[0m\u001b[0;34m,\u001b[0m\u001b[0mbeta\u001b[0m\u001b[0;34m,\u001b[0m\u001b[0mbiggerlist\u001b[0m\u001b[0;34m,\u001b[0m\u001b[0mrepo_found\u001b[0m\u001b[0;34m,\u001b[0m\u001b[0mcont_list\u001b[0m\u001b[0;34m)\u001b[0m\u001b[0;34m\u001b[0m\u001b[0;34m\u001b[0m\u001b[0m\n\u001b[0m\u001b[1;32m     64\u001b[0m       \u001b[0mprint\u001b[0m\u001b[0;34m(\u001b[0m\u001b[0;34m\"hi\"\u001b[0m\u001b[0;34m)\u001b[0m\u001b[0;34m\u001b[0m\u001b[0;34m\u001b[0m\u001b[0m\n\u001b[1;32m     65\u001b[0m       \u001b[0;32mfor\u001b[0m \u001b[0mrepo\u001b[0m \u001b[0;32min\u001b[0m \u001b[0mbiggerlist1\u001b[0m\u001b[0;34m:\u001b[0m\u001b[0;34m\u001b[0m\u001b[0;34m\u001b[0m\u001b[0m\n",
            "\u001b[0;32m<ipython-input-87-a41044d93ca8>\u001b[0m in \u001b[0;36mlocal_search\u001b[0;34m(repo, limit, alpha, beta, biggerlist, repo_found, cont_list)\u001b[0m\n\u001b[1;32m     61\u001b[0m       \u001b[0mprint\u001b[0m\u001b[0;34m(\u001b[0m\u001b[0mrepo2\u001b[0m\u001b[0;34m.\u001b[0m\u001b[0mfull_name\u001b[0m\u001b[0;34m)\u001b[0m\u001b[0;34m\u001b[0m\u001b[0;34m\u001b[0m\u001b[0m\n\u001b[1;32m     62\u001b[0m       \u001b[0mprint\u001b[0m\u001b[0;34m(\u001b[0m\u001b[0;34m\"Limit passing is \"\u001b[0m\u001b[0;34m+\u001b[0m\u001b[0mstr\u001b[0m\u001b[0;34m(\u001b[0m\u001b[0mlimit\u001b[0m\u001b[0;34m-\u001b[0m\u001b[0mlen\u001b[0m\u001b[0;34m(\u001b[0m\u001b[0mbiggerlist\u001b[0m\u001b[0;34m)\u001b[0m\u001b[0;34m)\u001b[0m\u001b[0;34m)\u001b[0m\u001b[0;34m\u001b[0m\u001b[0;34m\u001b[0m\u001b[0m\n\u001b[0;32m---> 63\u001b[0;31m       \u001b[0mrepo_found2\u001b[0m\u001b[0;34m,\u001b[0m\u001b[0mbiggerlist1\u001b[0m\u001b[0;34m=\u001b[0m\u001b[0mlocal_search\u001b[0m\u001b[0;34m(\u001b[0m\u001b[0mrepo2\u001b[0m\u001b[0;34m,\u001b[0m\u001b[0mlimit\u001b[0m\u001b[0;34m,\u001b[0m\u001b[0malpha\u001b[0m\u001b[0;34m,\u001b[0m\u001b[0mbeta\u001b[0m\u001b[0;34m,\u001b[0m\u001b[0mbiggerlist\u001b[0m\u001b[0;34m,\u001b[0m\u001b[0mrepo_found\u001b[0m\u001b[0;34m,\u001b[0m\u001b[0mcont_list\u001b[0m\u001b[0;34m)\u001b[0m\u001b[0;34m\u001b[0m\u001b[0;34m\u001b[0m\u001b[0m\n\u001b[0m\u001b[1;32m     64\u001b[0m       \u001b[0mprint\u001b[0m\u001b[0;34m(\u001b[0m\u001b[0;34m\"hi\"\u001b[0m\u001b[0;34m)\u001b[0m\u001b[0;34m\u001b[0m\u001b[0;34m\u001b[0m\u001b[0m\n\u001b[1;32m     65\u001b[0m       \u001b[0;32mfor\u001b[0m \u001b[0mrepo\u001b[0m \u001b[0;32min\u001b[0m \u001b[0mbiggerlist1\u001b[0m\u001b[0;34m:\u001b[0m\u001b[0;34m\u001b[0m\u001b[0;34m\u001b[0m\u001b[0m\n",
            "\u001b[0;32m<ipython-input-87-a41044d93ca8>\u001b[0m in \u001b[0;36mlocal_search\u001b[0;34m(repo, limit, alpha, beta, biggerlist, repo_found, cont_list)\u001b[0m\n\u001b[1;32m     61\u001b[0m       \u001b[0mprint\u001b[0m\u001b[0;34m(\u001b[0m\u001b[0mrepo2\u001b[0m\u001b[0;34m.\u001b[0m\u001b[0mfull_name\u001b[0m\u001b[0;34m)\u001b[0m\u001b[0;34m\u001b[0m\u001b[0;34m\u001b[0m\u001b[0m\n\u001b[1;32m     62\u001b[0m       \u001b[0mprint\u001b[0m\u001b[0;34m(\u001b[0m\u001b[0;34m\"Limit passing is \"\u001b[0m\u001b[0;34m+\u001b[0m\u001b[0mstr\u001b[0m\u001b[0;34m(\u001b[0m\u001b[0mlimit\u001b[0m\u001b[0;34m-\u001b[0m\u001b[0mlen\u001b[0m\u001b[0;34m(\u001b[0m\u001b[0mbiggerlist\u001b[0m\u001b[0;34m)\u001b[0m\u001b[0;34m)\u001b[0m\u001b[0;34m)\u001b[0m\u001b[0;34m\u001b[0m\u001b[0;34m\u001b[0m\u001b[0m\n\u001b[0;32m---> 63\u001b[0;31m       \u001b[0mrepo_found2\u001b[0m\u001b[0;34m,\u001b[0m\u001b[0mbiggerlist1\u001b[0m\u001b[0;34m=\u001b[0m\u001b[0mlocal_search\u001b[0m\u001b[0;34m(\u001b[0m\u001b[0mrepo2\u001b[0m\u001b[0;34m,\u001b[0m\u001b[0mlimit\u001b[0m\u001b[0;34m,\u001b[0m\u001b[0malpha\u001b[0m\u001b[0;34m,\u001b[0m\u001b[0mbeta\u001b[0m\u001b[0;34m,\u001b[0m\u001b[0mbiggerlist\u001b[0m\u001b[0;34m,\u001b[0m\u001b[0mrepo_found\u001b[0m\u001b[0;34m,\u001b[0m\u001b[0mcont_list\u001b[0m\u001b[0;34m)\u001b[0m\u001b[0;34m\u001b[0m\u001b[0;34m\u001b[0m\u001b[0m\n\u001b[0m\u001b[1;32m     64\u001b[0m       \u001b[0mprint\u001b[0m\u001b[0;34m(\u001b[0m\u001b[0;34m\"hi\"\u001b[0m\u001b[0;34m)\u001b[0m\u001b[0;34m\u001b[0m\u001b[0;34m\u001b[0m\u001b[0m\n\u001b[1;32m     65\u001b[0m       \u001b[0;32mfor\u001b[0m \u001b[0mrepo\u001b[0m \u001b[0;32min\u001b[0m \u001b[0mbiggerlist1\u001b[0m\u001b[0;34m:\u001b[0m\u001b[0;34m\u001b[0m\u001b[0;34m\u001b[0m\u001b[0m\n",
            "\u001b[0;32m<ipython-input-87-a41044d93ca8>\u001b[0m in \u001b[0;36mlocal_search\u001b[0;34m(repo, limit, alpha, beta, biggerlist, repo_found, cont_list)\u001b[0m\n\u001b[1;32m     61\u001b[0m       \u001b[0mprint\u001b[0m\u001b[0;34m(\u001b[0m\u001b[0mrepo2\u001b[0m\u001b[0;34m.\u001b[0m\u001b[0mfull_name\u001b[0m\u001b[0;34m)\u001b[0m\u001b[0;34m\u001b[0m\u001b[0;34m\u001b[0m\u001b[0m\n\u001b[1;32m     62\u001b[0m       \u001b[0mprint\u001b[0m\u001b[0;34m(\u001b[0m\u001b[0;34m\"Limit passing is \"\u001b[0m\u001b[0;34m+\u001b[0m\u001b[0mstr\u001b[0m\u001b[0;34m(\u001b[0m\u001b[0mlimit\u001b[0m\u001b[0;34m-\u001b[0m\u001b[0mlen\u001b[0m\u001b[0;34m(\u001b[0m\u001b[0mbiggerlist\u001b[0m\u001b[0;34m)\u001b[0m\u001b[0;34m)\u001b[0m\u001b[0;34m)\u001b[0m\u001b[0;34m\u001b[0m\u001b[0;34m\u001b[0m\u001b[0m\n\u001b[0;32m---> 63\u001b[0;31m       \u001b[0mrepo_found2\u001b[0m\u001b[0;34m,\u001b[0m\u001b[0mbiggerlist1\u001b[0m\u001b[0;34m=\u001b[0m\u001b[0mlocal_search\u001b[0m\u001b[0;34m(\u001b[0m\u001b[0mrepo2\u001b[0m\u001b[0;34m,\u001b[0m\u001b[0mlimit\u001b[0m\u001b[0;34m,\u001b[0m\u001b[0malpha\u001b[0m\u001b[0;34m,\u001b[0m\u001b[0mbeta\u001b[0m\u001b[0;34m,\u001b[0m\u001b[0mbiggerlist\u001b[0m\u001b[0;34m,\u001b[0m\u001b[0mrepo_found\u001b[0m\u001b[0;34m,\u001b[0m\u001b[0mcont_list\u001b[0m\u001b[0;34m)\u001b[0m\u001b[0;34m\u001b[0m\u001b[0;34m\u001b[0m\u001b[0m\n\u001b[0m\u001b[1;32m     64\u001b[0m       \u001b[0mprint\u001b[0m\u001b[0;34m(\u001b[0m\u001b[0;34m\"hi\"\u001b[0m\u001b[0;34m)\u001b[0m\u001b[0;34m\u001b[0m\u001b[0;34m\u001b[0m\u001b[0m\n\u001b[1;32m     65\u001b[0m       \u001b[0;32mfor\u001b[0m \u001b[0mrepo\u001b[0m \u001b[0;32min\u001b[0m \u001b[0mbiggerlist1\u001b[0m\u001b[0;34m:\u001b[0m\u001b[0;34m\u001b[0m\u001b[0;34m\u001b[0m\u001b[0m\n",
            "\u001b[0;32m<ipython-input-87-a41044d93ca8>\u001b[0m in \u001b[0;36mlocal_search\u001b[0;34m(repo, limit, alpha, beta, biggerlist, repo_found, cont_list)\u001b[0m\n\u001b[1;32m     61\u001b[0m       \u001b[0mprint\u001b[0m\u001b[0;34m(\u001b[0m\u001b[0mrepo2\u001b[0m\u001b[0;34m.\u001b[0m\u001b[0mfull_name\u001b[0m\u001b[0;34m)\u001b[0m\u001b[0;34m\u001b[0m\u001b[0;34m\u001b[0m\u001b[0m\n\u001b[1;32m     62\u001b[0m       \u001b[0mprint\u001b[0m\u001b[0;34m(\u001b[0m\u001b[0;34m\"Limit passing is \"\u001b[0m\u001b[0;34m+\u001b[0m\u001b[0mstr\u001b[0m\u001b[0;34m(\u001b[0m\u001b[0mlimit\u001b[0m\u001b[0;34m-\u001b[0m\u001b[0mlen\u001b[0m\u001b[0;34m(\u001b[0m\u001b[0mbiggerlist\u001b[0m\u001b[0;34m)\u001b[0m\u001b[0;34m)\u001b[0m\u001b[0;34m)\u001b[0m\u001b[0;34m\u001b[0m\u001b[0;34m\u001b[0m\u001b[0m\n\u001b[0;32m---> 63\u001b[0;31m       \u001b[0mrepo_found2\u001b[0m\u001b[0;34m,\u001b[0m\u001b[0mbiggerlist1\u001b[0m\u001b[0;34m=\u001b[0m\u001b[0mlocal_search\u001b[0m\u001b[0;34m(\u001b[0m\u001b[0mrepo2\u001b[0m\u001b[0;34m,\u001b[0m\u001b[0mlimit\u001b[0m\u001b[0;34m,\u001b[0m\u001b[0malpha\u001b[0m\u001b[0;34m,\u001b[0m\u001b[0mbeta\u001b[0m\u001b[0;34m,\u001b[0m\u001b[0mbiggerlist\u001b[0m\u001b[0;34m,\u001b[0m\u001b[0mrepo_found\u001b[0m\u001b[0;34m,\u001b[0m\u001b[0mcont_list\u001b[0m\u001b[0;34m)\u001b[0m\u001b[0;34m\u001b[0m\u001b[0;34m\u001b[0m\u001b[0m\n\u001b[0m\u001b[1;32m     64\u001b[0m       \u001b[0mprint\u001b[0m\u001b[0;34m(\u001b[0m\u001b[0;34m\"hi\"\u001b[0m\u001b[0;34m)\u001b[0m\u001b[0;34m\u001b[0m\u001b[0;34m\u001b[0m\u001b[0m\n\u001b[1;32m     65\u001b[0m       \u001b[0;32mfor\u001b[0m \u001b[0mrepo\u001b[0m \u001b[0;32min\u001b[0m \u001b[0mbiggerlist1\u001b[0m\u001b[0;34m:\u001b[0m\u001b[0;34m\u001b[0m\u001b[0;34m\u001b[0m\u001b[0m\n",
            "\u001b[0;32m<ipython-input-87-a41044d93ca8>\u001b[0m in \u001b[0;36mlocal_search\u001b[0;34m(repo, limit, alpha, beta, biggerlist, repo_found, cont_list)\u001b[0m\n\u001b[1;32m     61\u001b[0m       \u001b[0mprint\u001b[0m\u001b[0;34m(\u001b[0m\u001b[0mrepo2\u001b[0m\u001b[0;34m.\u001b[0m\u001b[0mfull_name\u001b[0m\u001b[0;34m)\u001b[0m\u001b[0;34m\u001b[0m\u001b[0;34m\u001b[0m\u001b[0m\n\u001b[1;32m     62\u001b[0m       \u001b[0mprint\u001b[0m\u001b[0;34m(\u001b[0m\u001b[0;34m\"Limit passing is \"\u001b[0m\u001b[0;34m+\u001b[0m\u001b[0mstr\u001b[0m\u001b[0;34m(\u001b[0m\u001b[0mlimit\u001b[0m\u001b[0;34m-\u001b[0m\u001b[0mlen\u001b[0m\u001b[0;34m(\u001b[0m\u001b[0mbiggerlist\u001b[0m\u001b[0;34m)\u001b[0m\u001b[0;34m)\u001b[0m\u001b[0;34m)\u001b[0m\u001b[0;34m\u001b[0m\u001b[0;34m\u001b[0m\u001b[0m\n\u001b[0;32m---> 63\u001b[0;31m       \u001b[0mrepo_found2\u001b[0m\u001b[0;34m,\u001b[0m\u001b[0mbiggerlist1\u001b[0m\u001b[0;34m=\u001b[0m\u001b[0mlocal_search\u001b[0m\u001b[0;34m(\u001b[0m\u001b[0mrepo2\u001b[0m\u001b[0;34m,\u001b[0m\u001b[0mlimit\u001b[0m\u001b[0;34m,\u001b[0m\u001b[0malpha\u001b[0m\u001b[0;34m,\u001b[0m\u001b[0mbeta\u001b[0m\u001b[0;34m,\u001b[0m\u001b[0mbiggerlist\u001b[0m\u001b[0;34m,\u001b[0m\u001b[0mrepo_found\u001b[0m\u001b[0;34m,\u001b[0m\u001b[0mcont_list\u001b[0m\u001b[0;34m)\u001b[0m\u001b[0;34m\u001b[0m\u001b[0;34m\u001b[0m\u001b[0m\n\u001b[0m\u001b[1;32m     64\u001b[0m       \u001b[0mprint\u001b[0m\u001b[0;34m(\u001b[0m\u001b[0;34m\"hi\"\u001b[0m\u001b[0;34m)\u001b[0m\u001b[0;34m\u001b[0m\u001b[0;34m\u001b[0m\u001b[0m\n\u001b[1;32m     65\u001b[0m       \u001b[0;32mfor\u001b[0m \u001b[0mrepo\u001b[0m \u001b[0;32min\u001b[0m \u001b[0mbiggerlist1\u001b[0m\u001b[0;34m:\u001b[0m\u001b[0;34m\u001b[0m\u001b[0;34m\u001b[0m\u001b[0m\n",
            "\u001b[0;32m<ipython-input-87-a41044d93ca8>\u001b[0m in \u001b[0;36mlocal_search\u001b[0;34m(repo, limit, alpha, beta, biggerlist, repo_found, cont_list)\u001b[0m\n\u001b[1;32m     61\u001b[0m       \u001b[0mprint\u001b[0m\u001b[0;34m(\u001b[0m\u001b[0mrepo2\u001b[0m\u001b[0;34m.\u001b[0m\u001b[0mfull_name\u001b[0m\u001b[0;34m)\u001b[0m\u001b[0;34m\u001b[0m\u001b[0;34m\u001b[0m\u001b[0m\n\u001b[1;32m     62\u001b[0m       \u001b[0mprint\u001b[0m\u001b[0;34m(\u001b[0m\u001b[0;34m\"Limit passing is \"\u001b[0m\u001b[0;34m+\u001b[0m\u001b[0mstr\u001b[0m\u001b[0;34m(\u001b[0m\u001b[0mlimit\u001b[0m\u001b[0;34m-\u001b[0m\u001b[0mlen\u001b[0m\u001b[0;34m(\u001b[0m\u001b[0mbiggerlist\u001b[0m\u001b[0;34m)\u001b[0m\u001b[0;34m)\u001b[0m\u001b[0;34m)\u001b[0m\u001b[0;34m\u001b[0m\u001b[0;34m\u001b[0m\u001b[0m\n\u001b[0;32m---> 63\u001b[0;31m       \u001b[0mrepo_found2\u001b[0m\u001b[0;34m,\u001b[0m\u001b[0mbiggerlist1\u001b[0m\u001b[0;34m=\u001b[0m\u001b[0mlocal_search\u001b[0m\u001b[0;34m(\u001b[0m\u001b[0mrepo2\u001b[0m\u001b[0;34m,\u001b[0m\u001b[0mlimit\u001b[0m\u001b[0;34m,\u001b[0m\u001b[0malpha\u001b[0m\u001b[0;34m,\u001b[0m\u001b[0mbeta\u001b[0m\u001b[0;34m,\u001b[0m\u001b[0mbiggerlist\u001b[0m\u001b[0;34m,\u001b[0m\u001b[0mrepo_found\u001b[0m\u001b[0;34m,\u001b[0m\u001b[0mcont_list\u001b[0m\u001b[0;34m)\u001b[0m\u001b[0;34m\u001b[0m\u001b[0;34m\u001b[0m\u001b[0m\n\u001b[0m\u001b[1;32m     64\u001b[0m       \u001b[0mprint\u001b[0m\u001b[0;34m(\u001b[0m\u001b[0;34m\"hi\"\u001b[0m\u001b[0;34m)\u001b[0m\u001b[0;34m\u001b[0m\u001b[0;34m\u001b[0m\u001b[0m\n\u001b[1;32m     65\u001b[0m       \u001b[0;32mfor\u001b[0m \u001b[0mrepo\u001b[0m \u001b[0;32min\u001b[0m \u001b[0mbiggerlist1\u001b[0m\u001b[0;34m:\u001b[0m\u001b[0;34m\u001b[0m\u001b[0;34m\u001b[0m\u001b[0m\n",
            "\u001b[0;32m<ipython-input-87-a41044d93ca8>\u001b[0m in \u001b[0;36mlocal_search\u001b[0;34m(repo, limit, alpha, beta, biggerlist, repo_found, cont_list)\u001b[0m\n\u001b[1;32m     61\u001b[0m       \u001b[0mprint\u001b[0m\u001b[0;34m(\u001b[0m\u001b[0mrepo2\u001b[0m\u001b[0;34m.\u001b[0m\u001b[0mfull_name\u001b[0m\u001b[0;34m)\u001b[0m\u001b[0;34m\u001b[0m\u001b[0;34m\u001b[0m\u001b[0m\n\u001b[1;32m     62\u001b[0m       \u001b[0mprint\u001b[0m\u001b[0;34m(\u001b[0m\u001b[0;34m\"Limit passing is \"\u001b[0m\u001b[0;34m+\u001b[0m\u001b[0mstr\u001b[0m\u001b[0;34m(\u001b[0m\u001b[0mlimit\u001b[0m\u001b[0;34m-\u001b[0m\u001b[0mlen\u001b[0m\u001b[0;34m(\u001b[0m\u001b[0mbiggerlist\u001b[0m\u001b[0;34m)\u001b[0m\u001b[0;34m)\u001b[0m\u001b[0;34m)\u001b[0m\u001b[0;34m\u001b[0m\u001b[0;34m\u001b[0m\u001b[0m\n\u001b[0;32m---> 63\u001b[0;31m       \u001b[0mrepo_found2\u001b[0m\u001b[0;34m,\u001b[0m\u001b[0mbiggerlist1\u001b[0m\u001b[0;34m=\u001b[0m\u001b[0mlocal_search\u001b[0m\u001b[0;34m(\u001b[0m\u001b[0mrepo2\u001b[0m\u001b[0;34m,\u001b[0m\u001b[0mlimit\u001b[0m\u001b[0;34m,\u001b[0m\u001b[0malpha\u001b[0m\u001b[0;34m,\u001b[0m\u001b[0mbeta\u001b[0m\u001b[0;34m,\u001b[0m\u001b[0mbiggerlist\u001b[0m\u001b[0;34m,\u001b[0m\u001b[0mrepo_found\u001b[0m\u001b[0;34m,\u001b[0m\u001b[0mcont_list\u001b[0m\u001b[0;34m)\u001b[0m\u001b[0;34m\u001b[0m\u001b[0;34m\u001b[0m\u001b[0m\n\u001b[0m\u001b[1;32m     64\u001b[0m       \u001b[0mprint\u001b[0m\u001b[0;34m(\u001b[0m\u001b[0;34m\"hi\"\u001b[0m\u001b[0;34m)\u001b[0m\u001b[0;34m\u001b[0m\u001b[0;34m\u001b[0m\u001b[0m\n\u001b[1;32m     65\u001b[0m       \u001b[0;32mfor\u001b[0m \u001b[0mrepo\u001b[0m \u001b[0;32min\u001b[0m \u001b[0mbiggerlist1\u001b[0m\u001b[0;34m:\u001b[0m\u001b[0;34m\u001b[0m\u001b[0;34m\u001b[0m\u001b[0m\n",
            "\u001b[0;32m<ipython-input-87-a41044d93ca8>\u001b[0m in \u001b[0;36mlocal_search\u001b[0;34m(repo, limit, alpha, beta, biggerlist, repo_found, cont_list)\u001b[0m\n\u001b[1;32m     61\u001b[0m       \u001b[0mprint\u001b[0m\u001b[0;34m(\u001b[0m\u001b[0mrepo2\u001b[0m\u001b[0;34m.\u001b[0m\u001b[0mfull_name\u001b[0m\u001b[0;34m)\u001b[0m\u001b[0;34m\u001b[0m\u001b[0;34m\u001b[0m\u001b[0m\n\u001b[1;32m     62\u001b[0m       \u001b[0mprint\u001b[0m\u001b[0;34m(\u001b[0m\u001b[0;34m\"Limit passing is \"\u001b[0m\u001b[0;34m+\u001b[0m\u001b[0mstr\u001b[0m\u001b[0;34m(\u001b[0m\u001b[0mlimit\u001b[0m\u001b[0;34m-\u001b[0m\u001b[0mlen\u001b[0m\u001b[0;34m(\u001b[0m\u001b[0mbiggerlist\u001b[0m\u001b[0;34m)\u001b[0m\u001b[0;34m)\u001b[0m\u001b[0;34m)\u001b[0m\u001b[0;34m\u001b[0m\u001b[0;34m\u001b[0m\u001b[0m\n\u001b[0;32m---> 63\u001b[0;31m       \u001b[0mrepo_found2\u001b[0m\u001b[0;34m,\u001b[0m\u001b[0mbiggerlist1\u001b[0m\u001b[0;34m=\u001b[0m\u001b[0mlocal_search\u001b[0m\u001b[0;34m(\u001b[0m\u001b[0mrepo2\u001b[0m\u001b[0;34m,\u001b[0m\u001b[0mlimit\u001b[0m\u001b[0;34m,\u001b[0m\u001b[0malpha\u001b[0m\u001b[0;34m,\u001b[0m\u001b[0mbeta\u001b[0m\u001b[0;34m,\u001b[0m\u001b[0mbiggerlist\u001b[0m\u001b[0;34m,\u001b[0m\u001b[0mrepo_found\u001b[0m\u001b[0;34m,\u001b[0m\u001b[0mcont_list\u001b[0m\u001b[0;34m)\u001b[0m\u001b[0;34m\u001b[0m\u001b[0;34m\u001b[0m\u001b[0m\n\u001b[0m\u001b[1;32m     64\u001b[0m       \u001b[0mprint\u001b[0m\u001b[0;34m(\u001b[0m\u001b[0;34m\"hi\"\u001b[0m\u001b[0;34m)\u001b[0m\u001b[0;34m\u001b[0m\u001b[0;34m\u001b[0m\u001b[0m\n\u001b[1;32m     65\u001b[0m       \u001b[0;32mfor\u001b[0m \u001b[0mrepo\u001b[0m \u001b[0;32min\u001b[0m \u001b[0mbiggerlist1\u001b[0m\u001b[0;34m:\u001b[0m\u001b[0;34m\u001b[0m\u001b[0;34m\u001b[0m\u001b[0m\n",
            "\u001b[0;32m<ipython-input-87-a41044d93ca8>\u001b[0m in \u001b[0;36mlocal_search\u001b[0;34m(repo, limit, alpha, beta, biggerlist, repo_found, cont_list)\u001b[0m\n\u001b[1;32m     61\u001b[0m       \u001b[0mprint\u001b[0m\u001b[0;34m(\u001b[0m\u001b[0mrepo2\u001b[0m\u001b[0;34m.\u001b[0m\u001b[0mfull_name\u001b[0m\u001b[0;34m)\u001b[0m\u001b[0;34m\u001b[0m\u001b[0;34m\u001b[0m\u001b[0m\n\u001b[1;32m     62\u001b[0m       \u001b[0mprint\u001b[0m\u001b[0;34m(\u001b[0m\u001b[0;34m\"Limit passing is \"\u001b[0m\u001b[0;34m+\u001b[0m\u001b[0mstr\u001b[0m\u001b[0;34m(\u001b[0m\u001b[0mlimit\u001b[0m\u001b[0;34m-\u001b[0m\u001b[0mlen\u001b[0m\u001b[0;34m(\u001b[0m\u001b[0mbiggerlist\u001b[0m\u001b[0;34m)\u001b[0m\u001b[0;34m)\u001b[0m\u001b[0;34m)\u001b[0m\u001b[0;34m\u001b[0m\u001b[0;34m\u001b[0m\u001b[0m\n\u001b[0;32m---> 63\u001b[0;31m       \u001b[0mrepo_found2\u001b[0m\u001b[0;34m,\u001b[0m\u001b[0mbiggerlist1\u001b[0m\u001b[0;34m=\u001b[0m\u001b[0mlocal_search\u001b[0m\u001b[0;34m(\u001b[0m\u001b[0mrepo2\u001b[0m\u001b[0;34m,\u001b[0m\u001b[0mlimit\u001b[0m\u001b[0;34m,\u001b[0m\u001b[0malpha\u001b[0m\u001b[0;34m,\u001b[0m\u001b[0mbeta\u001b[0m\u001b[0;34m,\u001b[0m\u001b[0mbiggerlist\u001b[0m\u001b[0;34m,\u001b[0m\u001b[0mrepo_found\u001b[0m\u001b[0;34m,\u001b[0m\u001b[0mcont_list\u001b[0m\u001b[0;34m)\u001b[0m\u001b[0;34m\u001b[0m\u001b[0;34m\u001b[0m\u001b[0m\n\u001b[0m\u001b[1;32m     64\u001b[0m       \u001b[0mprint\u001b[0m\u001b[0;34m(\u001b[0m\u001b[0;34m\"hi\"\u001b[0m\u001b[0;34m)\u001b[0m\u001b[0;34m\u001b[0m\u001b[0;34m\u001b[0m\u001b[0m\n\u001b[1;32m     65\u001b[0m       \u001b[0;32mfor\u001b[0m \u001b[0mrepo\u001b[0m \u001b[0;32min\u001b[0m \u001b[0mbiggerlist1\u001b[0m\u001b[0;34m:\u001b[0m\u001b[0;34m\u001b[0m\u001b[0;34m\u001b[0m\u001b[0m\n",
            "\u001b[0;32m<ipython-input-87-a41044d93ca8>\u001b[0m in \u001b[0;36mlocal_search\u001b[0;34m(repo, limit, alpha, beta, biggerlist, repo_found, cont_list)\u001b[0m\n\u001b[1;32m     61\u001b[0m       \u001b[0mprint\u001b[0m\u001b[0;34m(\u001b[0m\u001b[0mrepo2\u001b[0m\u001b[0;34m.\u001b[0m\u001b[0mfull_name\u001b[0m\u001b[0;34m)\u001b[0m\u001b[0;34m\u001b[0m\u001b[0;34m\u001b[0m\u001b[0m\n\u001b[1;32m     62\u001b[0m       \u001b[0mprint\u001b[0m\u001b[0;34m(\u001b[0m\u001b[0;34m\"Limit passing is \"\u001b[0m\u001b[0;34m+\u001b[0m\u001b[0mstr\u001b[0m\u001b[0;34m(\u001b[0m\u001b[0mlimit\u001b[0m\u001b[0;34m-\u001b[0m\u001b[0mlen\u001b[0m\u001b[0;34m(\u001b[0m\u001b[0mbiggerlist\u001b[0m\u001b[0;34m)\u001b[0m\u001b[0;34m)\u001b[0m\u001b[0;34m)\u001b[0m\u001b[0;34m\u001b[0m\u001b[0;34m\u001b[0m\u001b[0m\n\u001b[0;32m---> 63\u001b[0;31m       \u001b[0mrepo_found2\u001b[0m\u001b[0;34m,\u001b[0m\u001b[0mbiggerlist1\u001b[0m\u001b[0;34m=\u001b[0m\u001b[0mlocal_search\u001b[0m\u001b[0;34m(\u001b[0m\u001b[0mrepo2\u001b[0m\u001b[0;34m,\u001b[0m\u001b[0mlimit\u001b[0m\u001b[0;34m,\u001b[0m\u001b[0malpha\u001b[0m\u001b[0;34m,\u001b[0m\u001b[0mbeta\u001b[0m\u001b[0;34m,\u001b[0m\u001b[0mbiggerlist\u001b[0m\u001b[0;34m,\u001b[0m\u001b[0mrepo_found\u001b[0m\u001b[0;34m,\u001b[0m\u001b[0mcont_list\u001b[0m\u001b[0;34m)\u001b[0m\u001b[0;34m\u001b[0m\u001b[0;34m\u001b[0m\u001b[0m\n\u001b[0m\u001b[1;32m     64\u001b[0m       \u001b[0mprint\u001b[0m\u001b[0;34m(\u001b[0m\u001b[0;34m\"hi\"\u001b[0m\u001b[0;34m)\u001b[0m\u001b[0;34m\u001b[0m\u001b[0;34m\u001b[0m\u001b[0m\n\u001b[1;32m     65\u001b[0m       \u001b[0;32mfor\u001b[0m \u001b[0mrepo\u001b[0m \u001b[0;32min\u001b[0m \u001b[0mbiggerlist1\u001b[0m\u001b[0;34m:\u001b[0m\u001b[0;34m\u001b[0m\u001b[0;34m\u001b[0m\u001b[0m\n",
            "\u001b[0;32m<ipython-input-87-a41044d93ca8>\u001b[0m in \u001b[0;36mlocal_search\u001b[0;34m(repo, limit, alpha, beta, biggerlist, repo_found, cont_list)\u001b[0m\n\u001b[1;32m     61\u001b[0m       \u001b[0mprint\u001b[0m\u001b[0;34m(\u001b[0m\u001b[0mrepo2\u001b[0m\u001b[0;34m.\u001b[0m\u001b[0mfull_name\u001b[0m\u001b[0;34m)\u001b[0m\u001b[0;34m\u001b[0m\u001b[0;34m\u001b[0m\u001b[0m\n\u001b[1;32m     62\u001b[0m       \u001b[0mprint\u001b[0m\u001b[0;34m(\u001b[0m\u001b[0;34m\"Limit passing is \"\u001b[0m\u001b[0;34m+\u001b[0m\u001b[0mstr\u001b[0m\u001b[0;34m(\u001b[0m\u001b[0mlimit\u001b[0m\u001b[0;34m-\u001b[0m\u001b[0mlen\u001b[0m\u001b[0;34m(\u001b[0m\u001b[0mbiggerlist\u001b[0m\u001b[0;34m)\u001b[0m\u001b[0;34m)\u001b[0m\u001b[0;34m)\u001b[0m\u001b[0;34m\u001b[0m\u001b[0;34m\u001b[0m\u001b[0m\n\u001b[0;32m---> 63\u001b[0;31m       \u001b[0mrepo_found2\u001b[0m\u001b[0;34m,\u001b[0m\u001b[0mbiggerlist1\u001b[0m\u001b[0;34m=\u001b[0m\u001b[0mlocal_search\u001b[0m\u001b[0;34m(\u001b[0m\u001b[0mrepo2\u001b[0m\u001b[0;34m,\u001b[0m\u001b[0mlimit\u001b[0m\u001b[0;34m,\u001b[0m\u001b[0malpha\u001b[0m\u001b[0;34m,\u001b[0m\u001b[0mbeta\u001b[0m\u001b[0;34m,\u001b[0m\u001b[0mbiggerlist\u001b[0m\u001b[0;34m,\u001b[0m\u001b[0mrepo_found\u001b[0m\u001b[0;34m,\u001b[0m\u001b[0mcont_list\u001b[0m\u001b[0;34m)\u001b[0m\u001b[0;34m\u001b[0m\u001b[0;34m\u001b[0m\u001b[0m\n\u001b[0m\u001b[1;32m     64\u001b[0m       \u001b[0mprint\u001b[0m\u001b[0;34m(\u001b[0m\u001b[0;34m\"hi\"\u001b[0m\u001b[0;34m)\u001b[0m\u001b[0;34m\u001b[0m\u001b[0;34m\u001b[0m\u001b[0m\n\u001b[1;32m     65\u001b[0m       \u001b[0;32mfor\u001b[0m \u001b[0mrepo\u001b[0m \u001b[0;32min\u001b[0m \u001b[0mbiggerlist1\u001b[0m\u001b[0;34m:\u001b[0m\u001b[0;34m\u001b[0m\u001b[0;34m\u001b[0m\u001b[0m\n",
            "\u001b[0;32m<ipython-input-87-a41044d93ca8>\u001b[0m in \u001b[0;36mlocal_search\u001b[0;34m(repo, limit, alpha, beta, biggerlist, repo_found, cont_list)\u001b[0m\n\u001b[1;32m     61\u001b[0m       \u001b[0mprint\u001b[0m\u001b[0;34m(\u001b[0m\u001b[0mrepo2\u001b[0m\u001b[0;34m.\u001b[0m\u001b[0mfull_name\u001b[0m\u001b[0;34m)\u001b[0m\u001b[0;34m\u001b[0m\u001b[0;34m\u001b[0m\u001b[0m\n\u001b[1;32m     62\u001b[0m       \u001b[0mprint\u001b[0m\u001b[0;34m(\u001b[0m\u001b[0;34m\"Limit passing is \"\u001b[0m\u001b[0;34m+\u001b[0m\u001b[0mstr\u001b[0m\u001b[0;34m(\u001b[0m\u001b[0mlimit\u001b[0m\u001b[0;34m-\u001b[0m\u001b[0mlen\u001b[0m\u001b[0;34m(\u001b[0m\u001b[0mbiggerlist\u001b[0m\u001b[0;34m)\u001b[0m\u001b[0;34m)\u001b[0m\u001b[0;34m)\u001b[0m\u001b[0;34m\u001b[0m\u001b[0;34m\u001b[0m\u001b[0m\n\u001b[0;32m---> 63\u001b[0;31m       \u001b[0mrepo_found2\u001b[0m\u001b[0;34m,\u001b[0m\u001b[0mbiggerlist1\u001b[0m\u001b[0;34m=\u001b[0m\u001b[0mlocal_search\u001b[0m\u001b[0;34m(\u001b[0m\u001b[0mrepo2\u001b[0m\u001b[0;34m,\u001b[0m\u001b[0mlimit\u001b[0m\u001b[0;34m,\u001b[0m\u001b[0malpha\u001b[0m\u001b[0;34m,\u001b[0m\u001b[0mbeta\u001b[0m\u001b[0;34m,\u001b[0m\u001b[0mbiggerlist\u001b[0m\u001b[0;34m,\u001b[0m\u001b[0mrepo_found\u001b[0m\u001b[0;34m,\u001b[0m\u001b[0mcont_list\u001b[0m\u001b[0;34m)\u001b[0m\u001b[0;34m\u001b[0m\u001b[0;34m\u001b[0m\u001b[0m\n\u001b[0m\u001b[1;32m     64\u001b[0m       \u001b[0mprint\u001b[0m\u001b[0;34m(\u001b[0m\u001b[0;34m\"hi\"\u001b[0m\u001b[0;34m)\u001b[0m\u001b[0;34m\u001b[0m\u001b[0;34m\u001b[0m\u001b[0m\n\u001b[1;32m     65\u001b[0m       \u001b[0;32mfor\u001b[0m \u001b[0mrepo\u001b[0m \u001b[0;32min\u001b[0m \u001b[0mbiggerlist1\u001b[0m\u001b[0;34m:\u001b[0m\u001b[0;34m\u001b[0m\u001b[0;34m\u001b[0m\u001b[0m\n",
            "\u001b[0;32m<ipython-input-87-a41044d93ca8>\u001b[0m in \u001b[0;36mlocal_search\u001b[0;34m(repo, limit, alpha, beta, biggerlist, repo_found, cont_list)\u001b[0m\n\u001b[1;32m     61\u001b[0m       \u001b[0mprint\u001b[0m\u001b[0;34m(\u001b[0m\u001b[0mrepo2\u001b[0m\u001b[0;34m.\u001b[0m\u001b[0mfull_name\u001b[0m\u001b[0;34m)\u001b[0m\u001b[0;34m\u001b[0m\u001b[0;34m\u001b[0m\u001b[0m\n\u001b[1;32m     62\u001b[0m       \u001b[0mprint\u001b[0m\u001b[0;34m(\u001b[0m\u001b[0;34m\"Limit passing is \"\u001b[0m\u001b[0;34m+\u001b[0m\u001b[0mstr\u001b[0m\u001b[0;34m(\u001b[0m\u001b[0mlimit\u001b[0m\u001b[0;34m-\u001b[0m\u001b[0mlen\u001b[0m\u001b[0;34m(\u001b[0m\u001b[0mbiggerlist\u001b[0m\u001b[0;34m)\u001b[0m\u001b[0;34m)\u001b[0m\u001b[0;34m)\u001b[0m\u001b[0;34m\u001b[0m\u001b[0;34m\u001b[0m\u001b[0m\n\u001b[0;32m---> 63\u001b[0;31m       \u001b[0mrepo_found2\u001b[0m\u001b[0;34m,\u001b[0m\u001b[0mbiggerlist1\u001b[0m\u001b[0;34m=\u001b[0m\u001b[0mlocal_search\u001b[0m\u001b[0;34m(\u001b[0m\u001b[0mrepo2\u001b[0m\u001b[0;34m,\u001b[0m\u001b[0mlimit\u001b[0m\u001b[0;34m,\u001b[0m\u001b[0malpha\u001b[0m\u001b[0;34m,\u001b[0m\u001b[0mbeta\u001b[0m\u001b[0;34m,\u001b[0m\u001b[0mbiggerlist\u001b[0m\u001b[0;34m,\u001b[0m\u001b[0mrepo_found\u001b[0m\u001b[0;34m,\u001b[0m\u001b[0mcont_list\u001b[0m\u001b[0;34m)\u001b[0m\u001b[0;34m\u001b[0m\u001b[0;34m\u001b[0m\u001b[0m\n\u001b[0m\u001b[1;32m     64\u001b[0m       \u001b[0mprint\u001b[0m\u001b[0;34m(\u001b[0m\u001b[0;34m\"hi\"\u001b[0m\u001b[0;34m)\u001b[0m\u001b[0;34m\u001b[0m\u001b[0;34m\u001b[0m\u001b[0m\n\u001b[1;32m     65\u001b[0m       \u001b[0;32mfor\u001b[0m \u001b[0mrepo\u001b[0m \u001b[0;32min\u001b[0m \u001b[0mbiggerlist1\u001b[0m\u001b[0;34m:\u001b[0m\u001b[0;34m\u001b[0m\u001b[0;34m\u001b[0m\u001b[0m\n",
            "\u001b[0;32m<ipython-input-87-a41044d93ca8>\u001b[0m in \u001b[0;36mlocal_search\u001b[0;34m(repo, limit, alpha, beta, biggerlist, repo_found, cont_list)\u001b[0m\n\u001b[1;32m     61\u001b[0m       \u001b[0mprint\u001b[0m\u001b[0;34m(\u001b[0m\u001b[0mrepo2\u001b[0m\u001b[0;34m.\u001b[0m\u001b[0mfull_name\u001b[0m\u001b[0;34m)\u001b[0m\u001b[0;34m\u001b[0m\u001b[0;34m\u001b[0m\u001b[0m\n\u001b[1;32m     62\u001b[0m       \u001b[0mprint\u001b[0m\u001b[0;34m(\u001b[0m\u001b[0;34m\"Limit passing is \"\u001b[0m\u001b[0;34m+\u001b[0m\u001b[0mstr\u001b[0m\u001b[0;34m(\u001b[0m\u001b[0mlimit\u001b[0m\u001b[0;34m-\u001b[0m\u001b[0mlen\u001b[0m\u001b[0;34m(\u001b[0m\u001b[0mbiggerlist\u001b[0m\u001b[0;34m)\u001b[0m\u001b[0;34m)\u001b[0m\u001b[0;34m)\u001b[0m\u001b[0;34m\u001b[0m\u001b[0;34m\u001b[0m\u001b[0m\n\u001b[0;32m---> 63\u001b[0;31m       \u001b[0mrepo_found2\u001b[0m\u001b[0;34m,\u001b[0m\u001b[0mbiggerlist1\u001b[0m\u001b[0;34m=\u001b[0m\u001b[0mlocal_search\u001b[0m\u001b[0;34m(\u001b[0m\u001b[0mrepo2\u001b[0m\u001b[0;34m,\u001b[0m\u001b[0mlimit\u001b[0m\u001b[0;34m,\u001b[0m\u001b[0malpha\u001b[0m\u001b[0;34m,\u001b[0m\u001b[0mbeta\u001b[0m\u001b[0;34m,\u001b[0m\u001b[0mbiggerlist\u001b[0m\u001b[0;34m,\u001b[0m\u001b[0mrepo_found\u001b[0m\u001b[0;34m,\u001b[0m\u001b[0mcont_list\u001b[0m\u001b[0;34m)\u001b[0m\u001b[0;34m\u001b[0m\u001b[0;34m\u001b[0m\u001b[0m\n\u001b[0m\u001b[1;32m     64\u001b[0m       \u001b[0mprint\u001b[0m\u001b[0;34m(\u001b[0m\u001b[0;34m\"hi\"\u001b[0m\u001b[0;34m)\u001b[0m\u001b[0;34m\u001b[0m\u001b[0;34m\u001b[0m\u001b[0m\n\u001b[1;32m     65\u001b[0m       \u001b[0;32mfor\u001b[0m \u001b[0mrepo\u001b[0m \u001b[0;32min\u001b[0m \u001b[0mbiggerlist1\u001b[0m\u001b[0;34m:\u001b[0m\u001b[0;34m\u001b[0m\u001b[0;34m\u001b[0m\u001b[0m\n",
            "\u001b[0;32m<ipython-input-87-a41044d93ca8>\u001b[0m in \u001b[0;36mlocal_search\u001b[0;34m(repo, limit, alpha, beta, biggerlist, repo_found, cont_list)\u001b[0m\n\u001b[1;32m     61\u001b[0m       \u001b[0mprint\u001b[0m\u001b[0;34m(\u001b[0m\u001b[0mrepo2\u001b[0m\u001b[0;34m.\u001b[0m\u001b[0mfull_name\u001b[0m\u001b[0;34m)\u001b[0m\u001b[0;34m\u001b[0m\u001b[0;34m\u001b[0m\u001b[0m\n\u001b[1;32m     62\u001b[0m       \u001b[0mprint\u001b[0m\u001b[0;34m(\u001b[0m\u001b[0;34m\"Limit passing is \"\u001b[0m\u001b[0;34m+\u001b[0m\u001b[0mstr\u001b[0m\u001b[0;34m(\u001b[0m\u001b[0mlimit\u001b[0m\u001b[0;34m-\u001b[0m\u001b[0mlen\u001b[0m\u001b[0;34m(\u001b[0m\u001b[0mbiggerlist\u001b[0m\u001b[0;34m)\u001b[0m\u001b[0;34m)\u001b[0m\u001b[0;34m)\u001b[0m\u001b[0;34m\u001b[0m\u001b[0;34m\u001b[0m\u001b[0m\n\u001b[0;32m---> 63\u001b[0;31m       \u001b[0mrepo_found2\u001b[0m\u001b[0;34m,\u001b[0m\u001b[0mbiggerlist1\u001b[0m\u001b[0;34m=\u001b[0m\u001b[0mlocal_search\u001b[0m\u001b[0;34m(\u001b[0m\u001b[0mrepo2\u001b[0m\u001b[0;34m,\u001b[0m\u001b[0mlimit\u001b[0m\u001b[0;34m,\u001b[0m\u001b[0malpha\u001b[0m\u001b[0;34m,\u001b[0m\u001b[0mbeta\u001b[0m\u001b[0;34m,\u001b[0m\u001b[0mbiggerlist\u001b[0m\u001b[0;34m,\u001b[0m\u001b[0mrepo_found\u001b[0m\u001b[0;34m,\u001b[0m\u001b[0mcont_list\u001b[0m\u001b[0;34m)\u001b[0m\u001b[0;34m\u001b[0m\u001b[0;34m\u001b[0m\u001b[0m\n\u001b[0m\u001b[1;32m     64\u001b[0m       \u001b[0mprint\u001b[0m\u001b[0;34m(\u001b[0m\u001b[0;34m\"hi\"\u001b[0m\u001b[0;34m)\u001b[0m\u001b[0;34m\u001b[0m\u001b[0;34m\u001b[0m\u001b[0m\n\u001b[1;32m     65\u001b[0m       \u001b[0;32mfor\u001b[0m \u001b[0mrepo\u001b[0m \u001b[0;32min\u001b[0m \u001b[0mbiggerlist1\u001b[0m\u001b[0;34m:\u001b[0m\u001b[0;34m\u001b[0m\u001b[0;34m\u001b[0m\u001b[0m\n",
            "\u001b[0;32m<ipython-input-87-a41044d93ca8>\u001b[0m in \u001b[0;36mlocal_search\u001b[0;34m(repo, limit, alpha, beta, biggerlist, repo_found, cont_list)\u001b[0m\n\u001b[1;32m     61\u001b[0m       \u001b[0mprint\u001b[0m\u001b[0;34m(\u001b[0m\u001b[0mrepo2\u001b[0m\u001b[0;34m.\u001b[0m\u001b[0mfull_name\u001b[0m\u001b[0;34m)\u001b[0m\u001b[0;34m\u001b[0m\u001b[0;34m\u001b[0m\u001b[0m\n\u001b[1;32m     62\u001b[0m       \u001b[0mprint\u001b[0m\u001b[0;34m(\u001b[0m\u001b[0;34m\"Limit passing is \"\u001b[0m\u001b[0;34m+\u001b[0m\u001b[0mstr\u001b[0m\u001b[0;34m(\u001b[0m\u001b[0mlimit\u001b[0m\u001b[0;34m-\u001b[0m\u001b[0mlen\u001b[0m\u001b[0;34m(\u001b[0m\u001b[0mbiggerlist\u001b[0m\u001b[0;34m)\u001b[0m\u001b[0;34m)\u001b[0m\u001b[0;34m)\u001b[0m\u001b[0;34m\u001b[0m\u001b[0;34m\u001b[0m\u001b[0m\n\u001b[0;32m---> 63\u001b[0;31m       \u001b[0mrepo_found2\u001b[0m\u001b[0;34m,\u001b[0m\u001b[0mbiggerlist1\u001b[0m\u001b[0;34m=\u001b[0m\u001b[0mlocal_search\u001b[0m\u001b[0;34m(\u001b[0m\u001b[0mrepo2\u001b[0m\u001b[0;34m,\u001b[0m\u001b[0mlimit\u001b[0m\u001b[0;34m,\u001b[0m\u001b[0malpha\u001b[0m\u001b[0;34m,\u001b[0m\u001b[0mbeta\u001b[0m\u001b[0;34m,\u001b[0m\u001b[0mbiggerlist\u001b[0m\u001b[0;34m,\u001b[0m\u001b[0mrepo_found\u001b[0m\u001b[0;34m,\u001b[0m\u001b[0mcont_list\u001b[0m\u001b[0;34m)\u001b[0m\u001b[0;34m\u001b[0m\u001b[0;34m\u001b[0m\u001b[0m\n\u001b[0m\u001b[1;32m     64\u001b[0m       \u001b[0mprint\u001b[0m\u001b[0;34m(\u001b[0m\u001b[0;34m\"hi\"\u001b[0m\u001b[0;34m)\u001b[0m\u001b[0;34m\u001b[0m\u001b[0;34m\u001b[0m\u001b[0m\n\u001b[1;32m     65\u001b[0m       \u001b[0;32mfor\u001b[0m \u001b[0mrepo\u001b[0m \u001b[0;32min\u001b[0m \u001b[0mbiggerlist1\u001b[0m\u001b[0;34m:\u001b[0m\u001b[0;34m\u001b[0m\u001b[0;34m\u001b[0m\u001b[0m\n",
            "\u001b[0;32m<ipython-input-87-a41044d93ca8>\u001b[0m in \u001b[0;36mlocal_search\u001b[0;34m(repo, limit, alpha, beta, biggerlist, repo_found, cont_list)\u001b[0m\n\u001b[1;32m     61\u001b[0m       \u001b[0mprint\u001b[0m\u001b[0;34m(\u001b[0m\u001b[0mrepo2\u001b[0m\u001b[0;34m.\u001b[0m\u001b[0mfull_name\u001b[0m\u001b[0;34m)\u001b[0m\u001b[0;34m\u001b[0m\u001b[0;34m\u001b[0m\u001b[0m\n\u001b[1;32m     62\u001b[0m       \u001b[0mprint\u001b[0m\u001b[0;34m(\u001b[0m\u001b[0;34m\"Limit passing is \"\u001b[0m\u001b[0;34m+\u001b[0m\u001b[0mstr\u001b[0m\u001b[0;34m(\u001b[0m\u001b[0mlimit\u001b[0m\u001b[0;34m-\u001b[0m\u001b[0mlen\u001b[0m\u001b[0;34m(\u001b[0m\u001b[0mbiggerlist\u001b[0m\u001b[0;34m)\u001b[0m\u001b[0;34m)\u001b[0m\u001b[0;34m)\u001b[0m\u001b[0;34m\u001b[0m\u001b[0;34m\u001b[0m\u001b[0m\n\u001b[0;32m---> 63\u001b[0;31m       \u001b[0mrepo_found2\u001b[0m\u001b[0;34m,\u001b[0m\u001b[0mbiggerlist1\u001b[0m\u001b[0;34m=\u001b[0m\u001b[0mlocal_search\u001b[0m\u001b[0;34m(\u001b[0m\u001b[0mrepo2\u001b[0m\u001b[0;34m,\u001b[0m\u001b[0mlimit\u001b[0m\u001b[0;34m,\u001b[0m\u001b[0malpha\u001b[0m\u001b[0;34m,\u001b[0m\u001b[0mbeta\u001b[0m\u001b[0;34m,\u001b[0m\u001b[0mbiggerlist\u001b[0m\u001b[0;34m,\u001b[0m\u001b[0mrepo_found\u001b[0m\u001b[0;34m,\u001b[0m\u001b[0mcont_list\u001b[0m\u001b[0;34m)\u001b[0m\u001b[0;34m\u001b[0m\u001b[0;34m\u001b[0m\u001b[0m\n\u001b[0m\u001b[1;32m     64\u001b[0m       \u001b[0mprint\u001b[0m\u001b[0;34m(\u001b[0m\u001b[0;34m\"hi\"\u001b[0m\u001b[0;34m)\u001b[0m\u001b[0;34m\u001b[0m\u001b[0;34m\u001b[0m\u001b[0m\n\u001b[1;32m     65\u001b[0m       \u001b[0;32mfor\u001b[0m \u001b[0mrepo\u001b[0m \u001b[0;32min\u001b[0m \u001b[0mbiggerlist1\u001b[0m\u001b[0;34m:\u001b[0m\u001b[0;34m\u001b[0m\u001b[0;34m\u001b[0m\u001b[0m\n",
            "\u001b[0;32m<ipython-input-87-a41044d93ca8>\u001b[0m in \u001b[0;36mlocal_search\u001b[0;34m(repo, limit, alpha, beta, biggerlist, repo_found, cont_list)\u001b[0m\n\u001b[1;32m     61\u001b[0m       \u001b[0mprint\u001b[0m\u001b[0;34m(\u001b[0m\u001b[0mrepo2\u001b[0m\u001b[0;34m.\u001b[0m\u001b[0mfull_name\u001b[0m\u001b[0;34m)\u001b[0m\u001b[0;34m\u001b[0m\u001b[0;34m\u001b[0m\u001b[0m\n\u001b[1;32m     62\u001b[0m       \u001b[0mprint\u001b[0m\u001b[0;34m(\u001b[0m\u001b[0;34m\"Limit passing is \"\u001b[0m\u001b[0;34m+\u001b[0m\u001b[0mstr\u001b[0m\u001b[0;34m(\u001b[0m\u001b[0mlimit\u001b[0m\u001b[0;34m-\u001b[0m\u001b[0mlen\u001b[0m\u001b[0;34m(\u001b[0m\u001b[0mbiggerlist\u001b[0m\u001b[0;34m)\u001b[0m\u001b[0;34m)\u001b[0m\u001b[0;34m)\u001b[0m\u001b[0;34m\u001b[0m\u001b[0;34m\u001b[0m\u001b[0m\n\u001b[0;32m---> 63\u001b[0;31m       \u001b[0mrepo_found2\u001b[0m\u001b[0;34m,\u001b[0m\u001b[0mbiggerlist1\u001b[0m\u001b[0;34m=\u001b[0m\u001b[0mlocal_search\u001b[0m\u001b[0;34m(\u001b[0m\u001b[0mrepo2\u001b[0m\u001b[0;34m,\u001b[0m\u001b[0mlimit\u001b[0m\u001b[0;34m,\u001b[0m\u001b[0malpha\u001b[0m\u001b[0;34m,\u001b[0m\u001b[0mbeta\u001b[0m\u001b[0;34m,\u001b[0m\u001b[0mbiggerlist\u001b[0m\u001b[0;34m,\u001b[0m\u001b[0mrepo_found\u001b[0m\u001b[0;34m,\u001b[0m\u001b[0mcont_list\u001b[0m\u001b[0;34m)\u001b[0m\u001b[0;34m\u001b[0m\u001b[0;34m\u001b[0m\u001b[0m\n\u001b[0m\u001b[1;32m     64\u001b[0m       \u001b[0mprint\u001b[0m\u001b[0;34m(\u001b[0m\u001b[0;34m\"hi\"\u001b[0m\u001b[0;34m)\u001b[0m\u001b[0;34m\u001b[0m\u001b[0;34m\u001b[0m\u001b[0m\n\u001b[1;32m     65\u001b[0m       \u001b[0;32mfor\u001b[0m \u001b[0mrepo\u001b[0m \u001b[0;32min\u001b[0m \u001b[0mbiggerlist1\u001b[0m\u001b[0;34m:\u001b[0m\u001b[0;34m\u001b[0m\u001b[0;34m\u001b[0m\u001b[0m\n",
            "\u001b[0;32m<ipython-input-87-a41044d93ca8>\u001b[0m in \u001b[0;36mlocal_search\u001b[0;34m(repo, limit, alpha, beta, biggerlist, repo_found, cont_list)\u001b[0m\n\u001b[1;32m     61\u001b[0m       \u001b[0mprint\u001b[0m\u001b[0;34m(\u001b[0m\u001b[0mrepo2\u001b[0m\u001b[0;34m.\u001b[0m\u001b[0mfull_name\u001b[0m\u001b[0;34m)\u001b[0m\u001b[0;34m\u001b[0m\u001b[0;34m\u001b[0m\u001b[0m\n\u001b[1;32m     62\u001b[0m       \u001b[0mprint\u001b[0m\u001b[0;34m(\u001b[0m\u001b[0;34m\"Limit passing is \"\u001b[0m\u001b[0;34m+\u001b[0m\u001b[0mstr\u001b[0m\u001b[0;34m(\u001b[0m\u001b[0mlimit\u001b[0m\u001b[0;34m-\u001b[0m\u001b[0mlen\u001b[0m\u001b[0;34m(\u001b[0m\u001b[0mbiggerlist\u001b[0m\u001b[0;34m)\u001b[0m\u001b[0;34m)\u001b[0m\u001b[0;34m)\u001b[0m\u001b[0;34m\u001b[0m\u001b[0;34m\u001b[0m\u001b[0m\n\u001b[0;32m---> 63\u001b[0;31m       \u001b[0mrepo_found2\u001b[0m\u001b[0;34m,\u001b[0m\u001b[0mbiggerlist1\u001b[0m\u001b[0;34m=\u001b[0m\u001b[0mlocal_search\u001b[0m\u001b[0;34m(\u001b[0m\u001b[0mrepo2\u001b[0m\u001b[0;34m,\u001b[0m\u001b[0mlimit\u001b[0m\u001b[0;34m,\u001b[0m\u001b[0malpha\u001b[0m\u001b[0;34m,\u001b[0m\u001b[0mbeta\u001b[0m\u001b[0;34m,\u001b[0m\u001b[0mbiggerlist\u001b[0m\u001b[0;34m,\u001b[0m\u001b[0mrepo_found\u001b[0m\u001b[0;34m,\u001b[0m\u001b[0mcont_list\u001b[0m\u001b[0;34m)\u001b[0m\u001b[0;34m\u001b[0m\u001b[0;34m\u001b[0m\u001b[0m\n\u001b[0m\u001b[1;32m     64\u001b[0m       \u001b[0mprint\u001b[0m\u001b[0;34m(\u001b[0m\u001b[0;34m\"hi\"\u001b[0m\u001b[0;34m)\u001b[0m\u001b[0;34m\u001b[0m\u001b[0;34m\u001b[0m\u001b[0m\n\u001b[1;32m     65\u001b[0m       \u001b[0;32mfor\u001b[0m \u001b[0mrepo\u001b[0m \u001b[0;32min\u001b[0m \u001b[0mbiggerlist1\u001b[0m\u001b[0;34m:\u001b[0m\u001b[0;34m\u001b[0m\u001b[0;34m\u001b[0m\u001b[0m\n",
            "\u001b[0;32m<ipython-input-87-a41044d93ca8>\u001b[0m in \u001b[0;36mlocal_search\u001b[0;34m(repo, limit, alpha, beta, biggerlist, repo_found, cont_list)\u001b[0m\n\u001b[1;32m     61\u001b[0m       \u001b[0mprint\u001b[0m\u001b[0;34m(\u001b[0m\u001b[0mrepo2\u001b[0m\u001b[0;34m.\u001b[0m\u001b[0mfull_name\u001b[0m\u001b[0;34m)\u001b[0m\u001b[0;34m\u001b[0m\u001b[0;34m\u001b[0m\u001b[0m\n\u001b[1;32m     62\u001b[0m       \u001b[0mprint\u001b[0m\u001b[0;34m(\u001b[0m\u001b[0;34m\"Limit passing is \"\u001b[0m\u001b[0;34m+\u001b[0m\u001b[0mstr\u001b[0m\u001b[0;34m(\u001b[0m\u001b[0mlimit\u001b[0m\u001b[0;34m-\u001b[0m\u001b[0mlen\u001b[0m\u001b[0;34m(\u001b[0m\u001b[0mbiggerlist\u001b[0m\u001b[0;34m)\u001b[0m\u001b[0;34m)\u001b[0m\u001b[0;34m)\u001b[0m\u001b[0;34m\u001b[0m\u001b[0;34m\u001b[0m\u001b[0m\n\u001b[0;32m---> 63\u001b[0;31m       \u001b[0mrepo_found2\u001b[0m\u001b[0;34m,\u001b[0m\u001b[0mbiggerlist1\u001b[0m\u001b[0;34m=\u001b[0m\u001b[0mlocal_search\u001b[0m\u001b[0;34m(\u001b[0m\u001b[0mrepo2\u001b[0m\u001b[0;34m,\u001b[0m\u001b[0mlimit\u001b[0m\u001b[0;34m,\u001b[0m\u001b[0malpha\u001b[0m\u001b[0;34m,\u001b[0m\u001b[0mbeta\u001b[0m\u001b[0;34m,\u001b[0m\u001b[0mbiggerlist\u001b[0m\u001b[0;34m,\u001b[0m\u001b[0mrepo_found\u001b[0m\u001b[0;34m,\u001b[0m\u001b[0mcont_list\u001b[0m\u001b[0;34m)\u001b[0m\u001b[0;34m\u001b[0m\u001b[0;34m\u001b[0m\u001b[0m\n\u001b[0m\u001b[1;32m     64\u001b[0m       \u001b[0mprint\u001b[0m\u001b[0;34m(\u001b[0m\u001b[0;34m\"hi\"\u001b[0m\u001b[0;34m)\u001b[0m\u001b[0;34m\u001b[0m\u001b[0;34m\u001b[0m\u001b[0m\n\u001b[1;32m     65\u001b[0m       \u001b[0;32mfor\u001b[0m \u001b[0mrepo\u001b[0m \u001b[0;32min\u001b[0m \u001b[0mbiggerlist1\u001b[0m\u001b[0;34m:\u001b[0m\u001b[0;34m\u001b[0m\u001b[0;34m\u001b[0m\u001b[0m\n",
            "\u001b[0;32m<ipython-input-87-a41044d93ca8>\u001b[0m in \u001b[0;36mlocal_search\u001b[0;34m(repo, limit, alpha, beta, biggerlist, repo_found, cont_list)\u001b[0m\n\u001b[1;32m     61\u001b[0m       \u001b[0mprint\u001b[0m\u001b[0;34m(\u001b[0m\u001b[0mrepo2\u001b[0m\u001b[0;34m.\u001b[0m\u001b[0mfull_name\u001b[0m\u001b[0;34m)\u001b[0m\u001b[0;34m\u001b[0m\u001b[0;34m\u001b[0m\u001b[0m\n\u001b[1;32m     62\u001b[0m       \u001b[0mprint\u001b[0m\u001b[0;34m(\u001b[0m\u001b[0;34m\"Limit passing is \"\u001b[0m\u001b[0;34m+\u001b[0m\u001b[0mstr\u001b[0m\u001b[0;34m(\u001b[0m\u001b[0mlimit\u001b[0m\u001b[0;34m-\u001b[0m\u001b[0mlen\u001b[0m\u001b[0;34m(\u001b[0m\u001b[0mbiggerlist\u001b[0m\u001b[0;34m)\u001b[0m\u001b[0;34m)\u001b[0m\u001b[0;34m)\u001b[0m\u001b[0;34m\u001b[0m\u001b[0;34m\u001b[0m\u001b[0m\n\u001b[0;32m---> 63\u001b[0;31m       \u001b[0mrepo_found2\u001b[0m\u001b[0;34m,\u001b[0m\u001b[0mbiggerlist1\u001b[0m\u001b[0;34m=\u001b[0m\u001b[0mlocal_search\u001b[0m\u001b[0;34m(\u001b[0m\u001b[0mrepo2\u001b[0m\u001b[0;34m,\u001b[0m\u001b[0mlimit\u001b[0m\u001b[0;34m,\u001b[0m\u001b[0malpha\u001b[0m\u001b[0;34m,\u001b[0m\u001b[0mbeta\u001b[0m\u001b[0;34m,\u001b[0m\u001b[0mbiggerlist\u001b[0m\u001b[0;34m,\u001b[0m\u001b[0mrepo_found\u001b[0m\u001b[0;34m,\u001b[0m\u001b[0mcont_list\u001b[0m\u001b[0;34m)\u001b[0m\u001b[0;34m\u001b[0m\u001b[0;34m\u001b[0m\u001b[0m\n\u001b[0m\u001b[1;32m     64\u001b[0m       \u001b[0mprint\u001b[0m\u001b[0;34m(\u001b[0m\u001b[0;34m\"hi\"\u001b[0m\u001b[0;34m)\u001b[0m\u001b[0;34m\u001b[0m\u001b[0;34m\u001b[0m\u001b[0m\n\u001b[1;32m     65\u001b[0m       \u001b[0;32mfor\u001b[0m \u001b[0mrepo\u001b[0m \u001b[0;32min\u001b[0m \u001b[0mbiggerlist1\u001b[0m\u001b[0;34m:\u001b[0m\u001b[0;34m\u001b[0m\u001b[0;34m\u001b[0m\u001b[0m\n",
            "\u001b[0;32m<ipython-input-87-a41044d93ca8>\u001b[0m in \u001b[0;36mlocal_search\u001b[0;34m(repo, limit, alpha, beta, biggerlist, repo_found, cont_list)\u001b[0m\n\u001b[1;32m     61\u001b[0m       \u001b[0mprint\u001b[0m\u001b[0;34m(\u001b[0m\u001b[0mrepo2\u001b[0m\u001b[0;34m.\u001b[0m\u001b[0mfull_name\u001b[0m\u001b[0;34m)\u001b[0m\u001b[0;34m\u001b[0m\u001b[0;34m\u001b[0m\u001b[0m\n\u001b[1;32m     62\u001b[0m       \u001b[0mprint\u001b[0m\u001b[0;34m(\u001b[0m\u001b[0;34m\"Limit passing is \"\u001b[0m\u001b[0;34m+\u001b[0m\u001b[0mstr\u001b[0m\u001b[0;34m(\u001b[0m\u001b[0mlimit\u001b[0m\u001b[0;34m-\u001b[0m\u001b[0mlen\u001b[0m\u001b[0;34m(\u001b[0m\u001b[0mbiggerlist\u001b[0m\u001b[0;34m)\u001b[0m\u001b[0;34m)\u001b[0m\u001b[0;34m)\u001b[0m\u001b[0;34m\u001b[0m\u001b[0;34m\u001b[0m\u001b[0m\n\u001b[0;32m---> 63\u001b[0;31m       \u001b[0mrepo_found2\u001b[0m\u001b[0;34m,\u001b[0m\u001b[0mbiggerlist1\u001b[0m\u001b[0;34m=\u001b[0m\u001b[0mlocal_search\u001b[0m\u001b[0;34m(\u001b[0m\u001b[0mrepo2\u001b[0m\u001b[0;34m,\u001b[0m\u001b[0mlimit\u001b[0m\u001b[0;34m,\u001b[0m\u001b[0malpha\u001b[0m\u001b[0;34m,\u001b[0m\u001b[0mbeta\u001b[0m\u001b[0;34m,\u001b[0m\u001b[0mbiggerlist\u001b[0m\u001b[0;34m,\u001b[0m\u001b[0mrepo_found\u001b[0m\u001b[0;34m,\u001b[0m\u001b[0mcont_list\u001b[0m\u001b[0;34m)\u001b[0m\u001b[0;34m\u001b[0m\u001b[0;34m\u001b[0m\u001b[0m\n\u001b[0m\u001b[1;32m     64\u001b[0m       \u001b[0mprint\u001b[0m\u001b[0;34m(\u001b[0m\u001b[0;34m\"hi\"\u001b[0m\u001b[0;34m)\u001b[0m\u001b[0;34m\u001b[0m\u001b[0;34m\u001b[0m\u001b[0m\n\u001b[1;32m     65\u001b[0m       \u001b[0;32mfor\u001b[0m \u001b[0mrepo\u001b[0m \u001b[0;32min\u001b[0m \u001b[0mbiggerlist1\u001b[0m\u001b[0;34m:\u001b[0m\u001b[0;34m\u001b[0m\u001b[0;34m\u001b[0m\u001b[0m\n",
            "\u001b[0;32m<ipython-input-87-a41044d93ca8>\u001b[0m in \u001b[0;36mlocal_search\u001b[0;34m(repo, limit, alpha, beta, biggerlist, repo_found, cont_list)\u001b[0m\n\u001b[1;32m     61\u001b[0m       \u001b[0mprint\u001b[0m\u001b[0;34m(\u001b[0m\u001b[0mrepo2\u001b[0m\u001b[0;34m.\u001b[0m\u001b[0mfull_name\u001b[0m\u001b[0;34m)\u001b[0m\u001b[0;34m\u001b[0m\u001b[0;34m\u001b[0m\u001b[0m\n\u001b[1;32m     62\u001b[0m       \u001b[0mprint\u001b[0m\u001b[0;34m(\u001b[0m\u001b[0;34m\"Limit passing is \"\u001b[0m\u001b[0;34m+\u001b[0m\u001b[0mstr\u001b[0m\u001b[0;34m(\u001b[0m\u001b[0mlimit\u001b[0m\u001b[0;34m-\u001b[0m\u001b[0mlen\u001b[0m\u001b[0;34m(\u001b[0m\u001b[0mbiggerlist\u001b[0m\u001b[0;34m)\u001b[0m\u001b[0;34m)\u001b[0m\u001b[0;34m)\u001b[0m\u001b[0;34m\u001b[0m\u001b[0;34m\u001b[0m\u001b[0m\n\u001b[0;32m---> 63\u001b[0;31m       \u001b[0mrepo_found2\u001b[0m\u001b[0;34m,\u001b[0m\u001b[0mbiggerlist1\u001b[0m\u001b[0;34m=\u001b[0m\u001b[0mlocal_search\u001b[0m\u001b[0;34m(\u001b[0m\u001b[0mrepo2\u001b[0m\u001b[0;34m,\u001b[0m\u001b[0mlimit\u001b[0m\u001b[0;34m,\u001b[0m\u001b[0malpha\u001b[0m\u001b[0;34m,\u001b[0m\u001b[0mbeta\u001b[0m\u001b[0;34m,\u001b[0m\u001b[0mbiggerlist\u001b[0m\u001b[0;34m,\u001b[0m\u001b[0mrepo_found\u001b[0m\u001b[0;34m,\u001b[0m\u001b[0mcont_list\u001b[0m\u001b[0;34m)\u001b[0m\u001b[0;34m\u001b[0m\u001b[0;34m\u001b[0m\u001b[0m\n\u001b[0m\u001b[1;32m     64\u001b[0m       \u001b[0mprint\u001b[0m\u001b[0;34m(\u001b[0m\u001b[0;34m\"hi\"\u001b[0m\u001b[0;34m)\u001b[0m\u001b[0;34m\u001b[0m\u001b[0;34m\u001b[0m\u001b[0m\n\u001b[1;32m     65\u001b[0m       \u001b[0;32mfor\u001b[0m \u001b[0mrepo\u001b[0m \u001b[0;32min\u001b[0m \u001b[0mbiggerlist1\u001b[0m\u001b[0;34m:\u001b[0m\u001b[0;34m\u001b[0m\u001b[0;34m\u001b[0m\u001b[0m\n",
            "\u001b[0;32m<ipython-input-87-a41044d93ca8>\u001b[0m in \u001b[0;36mlocal_search\u001b[0;34m(repo, limit, alpha, beta, biggerlist, repo_found, cont_list)\u001b[0m\n\u001b[1;32m     61\u001b[0m       \u001b[0mprint\u001b[0m\u001b[0;34m(\u001b[0m\u001b[0mrepo2\u001b[0m\u001b[0;34m.\u001b[0m\u001b[0mfull_name\u001b[0m\u001b[0;34m)\u001b[0m\u001b[0;34m\u001b[0m\u001b[0;34m\u001b[0m\u001b[0m\n\u001b[1;32m     62\u001b[0m       \u001b[0mprint\u001b[0m\u001b[0;34m(\u001b[0m\u001b[0;34m\"Limit passing is \"\u001b[0m\u001b[0;34m+\u001b[0m\u001b[0mstr\u001b[0m\u001b[0;34m(\u001b[0m\u001b[0mlimit\u001b[0m\u001b[0;34m-\u001b[0m\u001b[0mlen\u001b[0m\u001b[0;34m(\u001b[0m\u001b[0mbiggerlist\u001b[0m\u001b[0;34m)\u001b[0m\u001b[0;34m)\u001b[0m\u001b[0;34m)\u001b[0m\u001b[0;34m\u001b[0m\u001b[0;34m\u001b[0m\u001b[0m\n\u001b[0;32m---> 63\u001b[0;31m       \u001b[0mrepo_found2\u001b[0m\u001b[0;34m,\u001b[0m\u001b[0mbiggerlist1\u001b[0m\u001b[0;34m=\u001b[0m\u001b[0mlocal_search\u001b[0m\u001b[0;34m(\u001b[0m\u001b[0mrepo2\u001b[0m\u001b[0;34m,\u001b[0m\u001b[0mlimit\u001b[0m\u001b[0;34m,\u001b[0m\u001b[0malpha\u001b[0m\u001b[0;34m,\u001b[0m\u001b[0mbeta\u001b[0m\u001b[0;34m,\u001b[0m\u001b[0mbiggerlist\u001b[0m\u001b[0;34m,\u001b[0m\u001b[0mrepo_found\u001b[0m\u001b[0;34m,\u001b[0m\u001b[0mcont_list\u001b[0m\u001b[0;34m)\u001b[0m\u001b[0;34m\u001b[0m\u001b[0;34m\u001b[0m\u001b[0m\n\u001b[0m\u001b[1;32m     64\u001b[0m       \u001b[0mprint\u001b[0m\u001b[0;34m(\u001b[0m\u001b[0;34m\"hi\"\u001b[0m\u001b[0;34m)\u001b[0m\u001b[0;34m\u001b[0m\u001b[0;34m\u001b[0m\u001b[0m\n\u001b[1;32m     65\u001b[0m       \u001b[0;32mfor\u001b[0m \u001b[0mrepo\u001b[0m \u001b[0;32min\u001b[0m \u001b[0mbiggerlist1\u001b[0m\u001b[0;34m:\u001b[0m\u001b[0;34m\u001b[0m\u001b[0;34m\u001b[0m\u001b[0m\n",
            "\u001b[0;32m<ipython-input-87-a41044d93ca8>\u001b[0m in \u001b[0;36mlocal_search\u001b[0;34m(repo, limit, alpha, beta, biggerlist, repo_found, cont_list)\u001b[0m\n\u001b[1;32m     61\u001b[0m       \u001b[0mprint\u001b[0m\u001b[0;34m(\u001b[0m\u001b[0mrepo2\u001b[0m\u001b[0;34m.\u001b[0m\u001b[0mfull_name\u001b[0m\u001b[0;34m)\u001b[0m\u001b[0;34m\u001b[0m\u001b[0;34m\u001b[0m\u001b[0m\n\u001b[1;32m     62\u001b[0m       \u001b[0mprint\u001b[0m\u001b[0;34m(\u001b[0m\u001b[0;34m\"Limit passing is \"\u001b[0m\u001b[0;34m+\u001b[0m\u001b[0mstr\u001b[0m\u001b[0;34m(\u001b[0m\u001b[0mlimit\u001b[0m\u001b[0;34m-\u001b[0m\u001b[0mlen\u001b[0m\u001b[0;34m(\u001b[0m\u001b[0mbiggerlist\u001b[0m\u001b[0;34m)\u001b[0m\u001b[0;34m)\u001b[0m\u001b[0;34m)\u001b[0m\u001b[0;34m\u001b[0m\u001b[0;34m\u001b[0m\u001b[0m\n\u001b[0;32m---> 63\u001b[0;31m       \u001b[0mrepo_found2\u001b[0m\u001b[0;34m,\u001b[0m\u001b[0mbiggerlist1\u001b[0m\u001b[0;34m=\u001b[0m\u001b[0mlocal_search\u001b[0m\u001b[0;34m(\u001b[0m\u001b[0mrepo2\u001b[0m\u001b[0;34m,\u001b[0m\u001b[0mlimit\u001b[0m\u001b[0;34m,\u001b[0m\u001b[0malpha\u001b[0m\u001b[0;34m,\u001b[0m\u001b[0mbeta\u001b[0m\u001b[0;34m,\u001b[0m\u001b[0mbiggerlist\u001b[0m\u001b[0;34m,\u001b[0m\u001b[0mrepo_found\u001b[0m\u001b[0;34m,\u001b[0m\u001b[0mcont_list\u001b[0m\u001b[0;34m)\u001b[0m\u001b[0;34m\u001b[0m\u001b[0;34m\u001b[0m\u001b[0m\n\u001b[0m\u001b[1;32m     64\u001b[0m       \u001b[0mprint\u001b[0m\u001b[0;34m(\u001b[0m\u001b[0;34m\"hi\"\u001b[0m\u001b[0;34m)\u001b[0m\u001b[0;34m\u001b[0m\u001b[0;34m\u001b[0m\u001b[0m\n\u001b[1;32m     65\u001b[0m       \u001b[0;32mfor\u001b[0m \u001b[0mrepo\u001b[0m \u001b[0;32min\u001b[0m \u001b[0mbiggerlist1\u001b[0m\u001b[0;34m:\u001b[0m\u001b[0;34m\u001b[0m\u001b[0;34m\u001b[0m\u001b[0m\n",
            "\u001b[0;32m<ipython-input-87-a41044d93ca8>\u001b[0m in \u001b[0;36mlocal_search\u001b[0;34m(repo, limit, alpha, beta, biggerlist, repo_found, cont_list)\u001b[0m\n\u001b[1;32m     61\u001b[0m       \u001b[0mprint\u001b[0m\u001b[0;34m(\u001b[0m\u001b[0mrepo2\u001b[0m\u001b[0;34m.\u001b[0m\u001b[0mfull_name\u001b[0m\u001b[0;34m)\u001b[0m\u001b[0;34m\u001b[0m\u001b[0;34m\u001b[0m\u001b[0m\n\u001b[1;32m     62\u001b[0m       \u001b[0mprint\u001b[0m\u001b[0;34m(\u001b[0m\u001b[0;34m\"Limit passing is \"\u001b[0m\u001b[0;34m+\u001b[0m\u001b[0mstr\u001b[0m\u001b[0;34m(\u001b[0m\u001b[0mlimit\u001b[0m\u001b[0;34m-\u001b[0m\u001b[0mlen\u001b[0m\u001b[0;34m(\u001b[0m\u001b[0mbiggerlist\u001b[0m\u001b[0;34m)\u001b[0m\u001b[0;34m)\u001b[0m\u001b[0;34m)\u001b[0m\u001b[0;34m\u001b[0m\u001b[0;34m\u001b[0m\u001b[0m\n\u001b[0;32m---> 63\u001b[0;31m       \u001b[0mrepo_found2\u001b[0m\u001b[0;34m,\u001b[0m\u001b[0mbiggerlist1\u001b[0m\u001b[0;34m=\u001b[0m\u001b[0mlocal_search\u001b[0m\u001b[0;34m(\u001b[0m\u001b[0mrepo2\u001b[0m\u001b[0;34m,\u001b[0m\u001b[0mlimit\u001b[0m\u001b[0;34m,\u001b[0m\u001b[0malpha\u001b[0m\u001b[0;34m,\u001b[0m\u001b[0mbeta\u001b[0m\u001b[0;34m,\u001b[0m\u001b[0mbiggerlist\u001b[0m\u001b[0;34m,\u001b[0m\u001b[0mrepo_found\u001b[0m\u001b[0;34m,\u001b[0m\u001b[0mcont_list\u001b[0m\u001b[0;34m)\u001b[0m\u001b[0;34m\u001b[0m\u001b[0;34m\u001b[0m\u001b[0m\n\u001b[0m\u001b[1;32m     64\u001b[0m       \u001b[0mprint\u001b[0m\u001b[0;34m(\u001b[0m\u001b[0;34m\"hi\"\u001b[0m\u001b[0;34m)\u001b[0m\u001b[0;34m\u001b[0m\u001b[0;34m\u001b[0m\u001b[0m\n\u001b[1;32m     65\u001b[0m       \u001b[0;32mfor\u001b[0m \u001b[0mrepo\u001b[0m \u001b[0;32min\u001b[0m \u001b[0mbiggerlist1\u001b[0m\u001b[0;34m:\u001b[0m\u001b[0;34m\u001b[0m\u001b[0;34m\u001b[0m\u001b[0m\n",
            "\u001b[0;32m<ipython-input-87-a41044d93ca8>\u001b[0m in \u001b[0;36mlocal_search\u001b[0;34m(repo, limit, alpha, beta, biggerlist, repo_found, cont_list)\u001b[0m\n\u001b[1;32m     61\u001b[0m       \u001b[0mprint\u001b[0m\u001b[0;34m(\u001b[0m\u001b[0mrepo2\u001b[0m\u001b[0;34m.\u001b[0m\u001b[0mfull_name\u001b[0m\u001b[0;34m)\u001b[0m\u001b[0;34m\u001b[0m\u001b[0;34m\u001b[0m\u001b[0m\n\u001b[1;32m     62\u001b[0m       \u001b[0mprint\u001b[0m\u001b[0;34m(\u001b[0m\u001b[0;34m\"Limit passing is \"\u001b[0m\u001b[0;34m+\u001b[0m\u001b[0mstr\u001b[0m\u001b[0;34m(\u001b[0m\u001b[0mlimit\u001b[0m\u001b[0;34m-\u001b[0m\u001b[0mlen\u001b[0m\u001b[0;34m(\u001b[0m\u001b[0mbiggerlist\u001b[0m\u001b[0;34m)\u001b[0m\u001b[0;34m)\u001b[0m\u001b[0;34m)\u001b[0m\u001b[0;34m\u001b[0m\u001b[0;34m\u001b[0m\u001b[0m\n\u001b[0;32m---> 63\u001b[0;31m       \u001b[0mrepo_found2\u001b[0m\u001b[0;34m,\u001b[0m\u001b[0mbiggerlist1\u001b[0m\u001b[0;34m=\u001b[0m\u001b[0mlocal_search\u001b[0m\u001b[0;34m(\u001b[0m\u001b[0mrepo2\u001b[0m\u001b[0;34m,\u001b[0m\u001b[0mlimit\u001b[0m\u001b[0;34m,\u001b[0m\u001b[0malpha\u001b[0m\u001b[0;34m,\u001b[0m\u001b[0mbeta\u001b[0m\u001b[0;34m,\u001b[0m\u001b[0mbiggerlist\u001b[0m\u001b[0;34m,\u001b[0m\u001b[0mrepo_found\u001b[0m\u001b[0;34m,\u001b[0m\u001b[0mcont_list\u001b[0m\u001b[0;34m)\u001b[0m\u001b[0;34m\u001b[0m\u001b[0;34m\u001b[0m\u001b[0m\n\u001b[0m\u001b[1;32m     64\u001b[0m       \u001b[0mprint\u001b[0m\u001b[0;34m(\u001b[0m\u001b[0;34m\"hi\"\u001b[0m\u001b[0;34m)\u001b[0m\u001b[0;34m\u001b[0m\u001b[0;34m\u001b[0m\u001b[0m\n\u001b[1;32m     65\u001b[0m       \u001b[0;32mfor\u001b[0m \u001b[0mrepo\u001b[0m \u001b[0;32min\u001b[0m \u001b[0mbiggerlist1\u001b[0m\u001b[0;34m:\u001b[0m\u001b[0;34m\u001b[0m\u001b[0;34m\u001b[0m\u001b[0m\n",
            "\u001b[0;32m<ipython-input-87-a41044d93ca8>\u001b[0m in \u001b[0;36mlocal_search\u001b[0;34m(repo, limit, alpha, beta, biggerlist, repo_found, cont_list)\u001b[0m\n\u001b[1;32m     61\u001b[0m       \u001b[0mprint\u001b[0m\u001b[0;34m(\u001b[0m\u001b[0mrepo2\u001b[0m\u001b[0;34m.\u001b[0m\u001b[0mfull_name\u001b[0m\u001b[0;34m)\u001b[0m\u001b[0;34m\u001b[0m\u001b[0;34m\u001b[0m\u001b[0m\n\u001b[1;32m     62\u001b[0m       \u001b[0mprint\u001b[0m\u001b[0;34m(\u001b[0m\u001b[0;34m\"Limit passing is \"\u001b[0m\u001b[0;34m+\u001b[0m\u001b[0mstr\u001b[0m\u001b[0;34m(\u001b[0m\u001b[0mlimit\u001b[0m\u001b[0;34m-\u001b[0m\u001b[0mlen\u001b[0m\u001b[0;34m(\u001b[0m\u001b[0mbiggerlist\u001b[0m\u001b[0;34m)\u001b[0m\u001b[0;34m)\u001b[0m\u001b[0;34m)\u001b[0m\u001b[0;34m\u001b[0m\u001b[0;34m\u001b[0m\u001b[0m\n\u001b[0;32m---> 63\u001b[0;31m       \u001b[0mrepo_found2\u001b[0m\u001b[0;34m,\u001b[0m\u001b[0mbiggerlist1\u001b[0m\u001b[0;34m=\u001b[0m\u001b[0mlocal_search\u001b[0m\u001b[0;34m(\u001b[0m\u001b[0mrepo2\u001b[0m\u001b[0;34m,\u001b[0m\u001b[0mlimit\u001b[0m\u001b[0;34m,\u001b[0m\u001b[0malpha\u001b[0m\u001b[0;34m,\u001b[0m\u001b[0mbeta\u001b[0m\u001b[0;34m,\u001b[0m\u001b[0mbiggerlist\u001b[0m\u001b[0;34m,\u001b[0m\u001b[0mrepo_found\u001b[0m\u001b[0;34m,\u001b[0m\u001b[0mcont_list\u001b[0m\u001b[0;34m)\u001b[0m\u001b[0;34m\u001b[0m\u001b[0;34m\u001b[0m\u001b[0m\n\u001b[0m\u001b[1;32m     64\u001b[0m       \u001b[0mprint\u001b[0m\u001b[0;34m(\u001b[0m\u001b[0;34m\"hi\"\u001b[0m\u001b[0;34m)\u001b[0m\u001b[0;34m\u001b[0m\u001b[0;34m\u001b[0m\u001b[0m\n\u001b[1;32m     65\u001b[0m       \u001b[0;32mfor\u001b[0m \u001b[0mrepo\u001b[0m \u001b[0;32min\u001b[0m \u001b[0mbiggerlist1\u001b[0m\u001b[0;34m:\u001b[0m\u001b[0;34m\u001b[0m\u001b[0;34m\u001b[0m\u001b[0m\n",
            "\u001b[0;32m<ipython-input-87-a41044d93ca8>\u001b[0m in \u001b[0;36mlocal_search\u001b[0;34m(repo, limit, alpha, beta, biggerlist, repo_found, cont_list)\u001b[0m\n\u001b[1;32m     61\u001b[0m       \u001b[0mprint\u001b[0m\u001b[0;34m(\u001b[0m\u001b[0mrepo2\u001b[0m\u001b[0;34m.\u001b[0m\u001b[0mfull_name\u001b[0m\u001b[0;34m)\u001b[0m\u001b[0;34m\u001b[0m\u001b[0;34m\u001b[0m\u001b[0m\n\u001b[1;32m     62\u001b[0m       \u001b[0mprint\u001b[0m\u001b[0;34m(\u001b[0m\u001b[0;34m\"Limit passing is \"\u001b[0m\u001b[0;34m+\u001b[0m\u001b[0mstr\u001b[0m\u001b[0;34m(\u001b[0m\u001b[0mlimit\u001b[0m\u001b[0;34m-\u001b[0m\u001b[0mlen\u001b[0m\u001b[0;34m(\u001b[0m\u001b[0mbiggerlist\u001b[0m\u001b[0;34m)\u001b[0m\u001b[0;34m)\u001b[0m\u001b[0;34m)\u001b[0m\u001b[0;34m\u001b[0m\u001b[0;34m\u001b[0m\u001b[0m\n\u001b[0;32m---> 63\u001b[0;31m       \u001b[0mrepo_found2\u001b[0m\u001b[0;34m,\u001b[0m\u001b[0mbiggerlist1\u001b[0m\u001b[0;34m=\u001b[0m\u001b[0mlocal_search\u001b[0m\u001b[0;34m(\u001b[0m\u001b[0mrepo2\u001b[0m\u001b[0;34m,\u001b[0m\u001b[0mlimit\u001b[0m\u001b[0;34m,\u001b[0m\u001b[0malpha\u001b[0m\u001b[0;34m,\u001b[0m\u001b[0mbeta\u001b[0m\u001b[0;34m,\u001b[0m\u001b[0mbiggerlist\u001b[0m\u001b[0;34m,\u001b[0m\u001b[0mrepo_found\u001b[0m\u001b[0;34m,\u001b[0m\u001b[0mcont_list\u001b[0m\u001b[0;34m)\u001b[0m\u001b[0;34m\u001b[0m\u001b[0;34m\u001b[0m\u001b[0m\n\u001b[0m\u001b[1;32m     64\u001b[0m       \u001b[0mprint\u001b[0m\u001b[0;34m(\u001b[0m\u001b[0;34m\"hi\"\u001b[0m\u001b[0;34m)\u001b[0m\u001b[0;34m\u001b[0m\u001b[0;34m\u001b[0m\u001b[0m\n\u001b[1;32m     65\u001b[0m       \u001b[0;32mfor\u001b[0m \u001b[0mrepo\u001b[0m \u001b[0;32min\u001b[0m \u001b[0mbiggerlist1\u001b[0m\u001b[0;34m:\u001b[0m\u001b[0;34m\u001b[0m\u001b[0;34m\u001b[0m\u001b[0m\n",
            "\u001b[0;32m<ipython-input-87-a41044d93ca8>\u001b[0m in \u001b[0;36mlocal_search\u001b[0;34m(repo, limit, alpha, beta, biggerlist, repo_found, cont_list)\u001b[0m\n\u001b[1;32m     61\u001b[0m       \u001b[0mprint\u001b[0m\u001b[0;34m(\u001b[0m\u001b[0mrepo2\u001b[0m\u001b[0;34m.\u001b[0m\u001b[0mfull_name\u001b[0m\u001b[0;34m)\u001b[0m\u001b[0;34m\u001b[0m\u001b[0;34m\u001b[0m\u001b[0m\n\u001b[1;32m     62\u001b[0m       \u001b[0mprint\u001b[0m\u001b[0;34m(\u001b[0m\u001b[0;34m\"Limit passing is \"\u001b[0m\u001b[0;34m+\u001b[0m\u001b[0mstr\u001b[0m\u001b[0;34m(\u001b[0m\u001b[0mlimit\u001b[0m\u001b[0;34m-\u001b[0m\u001b[0mlen\u001b[0m\u001b[0;34m(\u001b[0m\u001b[0mbiggerlist\u001b[0m\u001b[0;34m)\u001b[0m\u001b[0;34m)\u001b[0m\u001b[0;34m)\u001b[0m\u001b[0;34m\u001b[0m\u001b[0;34m\u001b[0m\u001b[0m\n\u001b[0;32m---> 63\u001b[0;31m       \u001b[0mrepo_found2\u001b[0m\u001b[0;34m,\u001b[0m\u001b[0mbiggerlist1\u001b[0m\u001b[0;34m=\u001b[0m\u001b[0mlocal_search\u001b[0m\u001b[0;34m(\u001b[0m\u001b[0mrepo2\u001b[0m\u001b[0;34m,\u001b[0m\u001b[0mlimit\u001b[0m\u001b[0;34m,\u001b[0m\u001b[0malpha\u001b[0m\u001b[0;34m,\u001b[0m\u001b[0mbeta\u001b[0m\u001b[0;34m,\u001b[0m\u001b[0mbiggerlist\u001b[0m\u001b[0;34m,\u001b[0m\u001b[0mrepo_found\u001b[0m\u001b[0;34m,\u001b[0m\u001b[0mcont_list\u001b[0m\u001b[0;34m)\u001b[0m\u001b[0;34m\u001b[0m\u001b[0;34m\u001b[0m\u001b[0m\n\u001b[0m\u001b[1;32m     64\u001b[0m       \u001b[0mprint\u001b[0m\u001b[0;34m(\u001b[0m\u001b[0;34m\"hi\"\u001b[0m\u001b[0;34m)\u001b[0m\u001b[0;34m\u001b[0m\u001b[0;34m\u001b[0m\u001b[0m\n\u001b[1;32m     65\u001b[0m       \u001b[0;32mfor\u001b[0m \u001b[0mrepo\u001b[0m \u001b[0;32min\u001b[0m \u001b[0mbiggerlist1\u001b[0m\u001b[0;34m:\u001b[0m\u001b[0;34m\u001b[0m\u001b[0;34m\u001b[0m\u001b[0m\n",
            "\u001b[0;32m<ipython-input-87-a41044d93ca8>\u001b[0m in \u001b[0;36mlocal_search\u001b[0;34m(repo, limit, alpha, beta, biggerlist, repo_found, cont_list)\u001b[0m\n\u001b[1;32m     61\u001b[0m       \u001b[0mprint\u001b[0m\u001b[0;34m(\u001b[0m\u001b[0mrepo2\u001b[0m\u001b[0;34m.\u001b[0m\u001b[0mfull_name\u001b[0m\u001b[0;34m)\u001b[0m\u001b[0;34m\u001b[0m\u001b[0;34m\u001b[0m\u001b[0m\n\u001b[1;32m     62\u001b[0m       \u001b[0mprint\u001b[0m\u001b[0;34m(\u001b[0m\u001b[0;34m\"Limit passing is \"\u001b[0m\u001b[0;34m+\u001b[0m\u001b[0mstr\u001b[0m\u001b[0;34m(\u001b[0m\u001b[0mlimit\u001b[0m\u001b[0;34m-\u001b[0m\u001b[0mlen\u001b[0m\u001b[0;34m(\u001b[0m\u001b[0mbiggerlist\u001b[0m\u001b[0;34m)\u001b[0m\u001b[0;34m)\u001b[0m\u001b[0;34m)\u001b[0m\u001b[0;34m\u001b[0m\u001b[0;34m\u001b[0m\u001b[0m\n\u001b[0;32m---> 63\u001b[0;31m       \u001b[0mrepo_found2\u001b[0m\u001b[0;34m,\u001b[0m\u001b[0mbiggerlist1\u001b[0m\u001b[0;34m=\u001b[0m\u001b[0mlocal_search\u001b[0m\u001b[0;34m(\u001b[0m\u001b[0mrepo2\u001b[0m\u001b[0;34m,\u001b[0m\u001b[0mlimit\u001b[0m\u001b[0;34m,\u001b[0m\u001b[0malpha\u001b[0m\u001b[0;34m,\u001b[0m\u001b[0mbeta\u001b[0m\u001b[0;34m,\u001b[0m\u001b[0mbiggerlist\u001b[0m\u001b[0;34m,\u001b[0m\u001b[0mrepo_found\u001b[0m\u001b[0;34m,\u001b[0m\u001b[0mcont_list\u001b[0m\u001b[0;34m)\u001b[0m\u001b[0;34m\u001b[0m\u001b[0;34m\u001b[0m\u001b[0m\n\u001b[0m\u001b[1;32m     64\u001b[0m       \u001b[0mprint\u001b[0m\u001b[0;34m(\u001b[0m\u001b[0;34m\"hi\"\u001b[0m\u001b[0;34m)\u001b[0m\u001b[0;34m\u001b[0m\u001b[0;34m\u001b[0m\u001b[0m\n\u001b[1;32m     65\u001b[0m       \u001b[0;32mfor\u001b[0m \u001b[0mrepo\u001b[0m \u001b[0;32min\u001b[0m \u001b[0mbiggerlist1\u001b[0m\u001b[0;34m:\u001b[0m\u001b[0;34m\u001b[0m\u001b[0;34m\u001b[0m\u001b[0m\n",
            "\u001b[0;32m<ipython-input-87-a41044d93ca8>\u001b[0m in \u001b[0;36mlocal_search\u001b[0;34m(repo, limit, alpha, beta, biggerlist, repo_found, cont_list)\u001b[0m\n\u001b[1;32m     61\u001b[0m       \u001b[0mprint\u001b[0m\u001b[0;34m(\u001b[0m\u001b[0mrepo2\u001b[0m\u001b[0;34m.\u001b[0m\u001b[0mfull_name\u001b[0m\u001b[0;34m)\u001b[0m\u001b[0;34m\u001b[0m\u001b[0;34m\u001b[0m\u001b[0m\n\u001b[1;32m     62\u001b[0m       \u001b[0mprint\u001b[0m\u001b[0;34m(\u001b[0m\u001b[0;34m\"Limit passing is \"\u001b[0m\u001b[0;34m+\u001b[0m\u001b[0mstr\u001b[0m\u001b[0;34m(\u001b[0m\u001b[0mlimit\u001b[0m\u001b[0;34m-\u001b[0m\u001b[0mlen\u001b[0m\u001b[0;34m(\u001b[0m\u001b[0mbiggerlist\u001b[0m\u001b[0;34m)\u001b[0m\u001b[0;34m)\u001b[0m\u001b[0;34m)\u001b[0m\u001b[0;34m\u001b[0m\u001b[0;34m\u001b[0m\u001b[0m\n\u001b[0;32m---> 63\u001b[0;31m       \u001b[0mrepo_found2\u001b[0m\u001b[0;34m,\u001b[0m\u001b[0mbiggerlist1\u001b[0m\u001b[0;34m=\u001b[0m\u001b[0mlocal_search\u001b[0m\u001b[0;34m(\u001b[0m\u001b[0mrepo2\u001b[0m\u001b[0;34m,\u001b[0m\u001b[0mlimit\u001b[0m\u001b[0;34m,\u001b[0m\u001b[0malpha\u001b[0m\u001b[0;34m,\u001b[0m\u001b[0mbeta\u001b[0m\u001b[0;34m,\u001b[0m\u001b[0mbiggerlist\u001b[0m\u001b[0;34m,\u001b[0m\u001b[0mrepo_found\u001b[0m\u001b[0;34m,\u001b[0m\u001b[0mcont_list\u001b[0m\u001b[0;34m)\u001b[0m\u001b[0;34m\u001b[0m\u001b[0;34m\u001b[0m\u001b[0m\n\u001b[0m\u001b[1;32m     64\u001b[0m       \u001b[0mprint\u001b[0m\u001b[0;34m(\u001b[0m\u001b[0;34m\"hi\"\u001b[0m\u001b[0;34m)\u001b[0m\u001b[0;34m\u001b[0m\u001b[0;34m\u001b[0m\u001b[0m\n\u001b[1;32m     65\u001b[0m       \u001b[0;32mfor\u001b[0m \u001b[0mrepo\u001b[0m \u001b[0;32min\u001b[0m \u001b[0mbiggerlist1\u001b[0m\u001b[0;34m:\u001b[0m\u001b[0;34m\u001b[0m\u001b[0;34m\u001b[0m\u001b[0m\n",
            "\u001b[0;32m<ipython-input-87-a41044d93ca8>\u001b[0m in \u001b[0;36mlocal_search\u001b[0;34m(repo, limit, alpha, beta, biggerlist, repo_found, cont_list)\u001b[0m\n\u001b[1;32m     61\u001b[0m       \u001b[0mprint\u001b[0m\u001b[0;34m(\u001b[0m\u001b[0mrepo2\u001b[0m\u001b[0;34m.\u001b[0m\u001b[0mfull_name\u001b[0m\u001b[0;34m)\u001b[0m\u001b[0;34m\u001b[0m\u001b[0;34m\u001b[0m\u001b[0m\n\u001b[1;32m     62\u001b[0m       \u001b[0mprint\u001b[0m\u001b[0;34m(\u001b[0m\u001b[0;34m\"Limit passing is \"\u001b[0m\u001b[0;34m+\u001b[0m\u001b[0mstr\u001b[0m\u001b[0;34m(\u001b[0m\u001b[0mlimit\u001b[0m\u001b[0;34m-\u001b[0m\u001b[0mlen\u001b[0m\u001b[0;34m(\u001b[0m\u001b[0mbiggerlist\u001b[0m\u001b[0;34m)\u001b[0m\u001b[0;34m)\u001b[0m\u001b[0;34m)\u001b[0m\u001b[0;34m\u001b[0m\u001b[0;34m\u001b[0m\u001b[0m\n\u001b[0;32m---> 63\u001b[0;31m       \u001b[0mrepo_found2\u001b[0m\u001b[0;34m,\u001b[0m\u001b[0mbiggerlist1\u001b[0m\u001b[0;34m=\u001b[0m\u001b[0mlocal_search\u001b[0m\u001b[0;34m(\u001b[0m\u001b[0mrepo2\u001b[0m\u001b[0;34m,\u001b[0m\u001b[0mlimit\u001b[0m\u001b[0;34m,\u001b[0m\u001b[0malpha\u001b[0m\u001b[0;34m,\u001b[0m\u001b[0mbeta\u001b[0m\u001b[0;34m,\u001b[0m\u001b[0mbiggerlist\u001b[0m\u001b[0;34m,\u001b[0m\u001b[0mrepo_found\u001b[0m\u001b[0;34m,\u001b[0m\u001b[0mcont_list\u001b[0m\u001b[0;34m)\u001b[0m\u001b[0;34m\u001b[0m\u001b[0;34m\u001b[0m\u001b[0m\n\u001b[0m\u001b[1;32m     64\u001b[0m       \u001b[0mprint\u001b[0m\u001b[0;34m(\u001b[0m\u001b[0;34m\"hi\"\u001b[0m\u001b[0;34m)\u001b[0m\u001b[0;34m\u001b[0m\u001b[0;34m\u001b[0m\u001b[0m\n\u001b[1;32m     65\u001b[0m       \u001b[0;32mfor\u001b[0m \u001b[0mrepo\u001b[0m \u001b[0;32min\u001b[0m \u001b[0mbiggerlist1\u001b[0m\u001b[0;34m:\u001b[0m\u001b[0;34m\u001b[0m\u001b[0;34m\u001b[0m\u001b[0m\n",
            "\u001b[0;32m<ipython-input-87-a41044d93ca8>\u001b[0m in \u001b[0;36mlocal_search\u001b[0;34m(repo, limit, alpha, beta, biggerlist, repo_found, cont_list)\u001b[0m\n\u001b[1;32m     61\u001b[0m       \u001b[0mprint\u001b[0m\u001b[0;34m(\u001b[0m\u001b[0mrepo2\u001b[0m\u001b[0;34m.\u001b[0m\u001b[0mfull_name\u001b[0m\u001b[0;34m)\u001b[0m\u001b[0;34m\u001b[0m\u001b[0;34m\u001b[0m\u001b[0m\n\u001b[1;32m     62\u001b[0m       \u001b[0mprint\u001b[0m\u001b[0;34m(\u001b[0m\u001b[0;34m\"Limit passing is \"\u001b[0m\u001b[0;34m+\u001b[0m\u001b[0mstr\u001b[0m\u001b[0;34m(\u001b[0m\u001b[0mlimit\u001b[0m\u001b[0;34m-\u001b[0m\u001b[0mlen\u001b[0m\u001b[0;34m(\u001b[0m\u001b[0mbiggerlist\u001b[0m\u001b[0;34m)\u001b[0m\u001b[0;34m)\u001b[0m\u001b[0;34m)\u001b[0m\u001b[0;34m\u001b[0m\u001b[0;34m\u001b[0m\u001b[0m\n\u001b[0;32m---> 63\u001b[0;31m       \u001b[0mrepo_found2\u001b[0m\u001b[0;34m,\u001b[0m\u001b[0mbiggerlist1\u001b[0m\u001b[0;34m=\u001b[0m\u001b[0mlocal_search\u001b[0m\u001b[0;34m(\u001b[0m\u001b[0mrepo2\u001b[0m\u001b[0;34m,\u001b[0m\u001b[0mlimit\u001b[0m\u001b[0;34m,\u001b[0m\u001b[0malpha\u001b[0m\u001b[0;34m,\u001b[0m\u001b[0mbeta\u001b[0m\u001b[0;34m,\u001b[0m\u001b[0mbiggerlist\u001b[0m\u001b[0;34m,\u001b[0m\u001b[0mrepo_found\u001b[0m\u001b[0;34m,\u001b[0m\u001b[0mcont_list\u001b[0m\u001b[0;34m)\u001b[0m\u001b[0;34m\u001b[0m\u001b[0;34m\u001b[0m\u001b[0m\n\u001b[0m\u001b[1;32m     64\u001b[0m       \u001b[0mprint\u001b[0m\u001b[0;34m(\u001b[0m\u001b[0;34m\"hi\"\u001b[0m\u001b[0;34m)\u001b[0m\u001b[0;34m\u001b[0m\u001b[0;34m\u001b[0m\u001b[0m\n\u001b[1;32m     65\u001b[0m       \u001b[0;32mfor\u001b[0m \u001b[0mrepo\u001b[0m \u001b[0;32min\u001b[0m \u001b[0mbiggerlist1\u001b[0m\u001b[0;34m:\u001b[0m\u001b[0;34m\u001b[0m\u001b[0;34m\u001b[0m\u001b[0m\n",
            "\u001b[0;32m<ipython-input-87-a41044d93ca8>\u001b[0m in \u001b[0;36mlocal_search\u001b[0;34m(repo, limit, alpha, beta, biggerlist, repo_found, cont_list)\u001b[0m\n\u001b[1;32m     61\u001b[0m       \u001b[0mprint\u001b[0m\u001b[0;34m(\u001b[0m\u001b[0mrepo2\u001b[0m\u001b[0;34m.\u001b[0m\u001b[0mfull_name\u001b[0m\u001b[0;34m)\u001b[0m\u001b[0;34m\u001b[0m\u001b[0;34m\u001b[0m\u001b[0m\n\u001b[1;32m     62\u001b[0m       \u001b[0mprint\u001b[0m\u001b[0;34m(\u001b[0m\u001b[0;34m\"Limit passing is \"\u001b[0m\u001b[0;34m+\u001b[0m\u001b[0mstr\u001b[0m\u001b[0;34m(\u001b[0m\u001b[0mlimit\u001b[0m\u001b[0;34m-\u001b[0m\u001b[0mlen\u001b[0m\u001b[0;34m(\u001b[0m\u001b[0mbiggerlist\u001b[0m\u001b[0;34m)\u001b[0m\u001b[0;34m)\u001b[0m\u001b[0;34m)\u001b[0m\u001b[0;34m\u001b[0m\u001b[0;34m\u001b[0m\u001b[0m\n\u001b[0;32m---> 63\u001b[0;31m       \u001b[0mrepo_found2\u001b[0m\u001b[0;34m,\u001b[0m\u001b[0mbiggerlist1\u001b[0m\u001b[0;34m=\u001b[0m\u001b[0mlocal_search\u001b[0m\u001b[0;34m(\u001b[0m\u001b[0mrepo2\u001b[0m\u001b[0;34m,\u001b[0m\u001b[0mlimit\u001b[0m\u001b[0;34m,\u001b[0m\u001b[0malpha\u001b[0m\u001b[0;34m,\u001b[0m\u001b[0mbeta\u001b[0m\u001b[0;34m,\u001b[0m\u001b[0mbiggerlist\u001b[0m\u001b[0;34m,\u001b[0m\u001b[0mrepo_found\u001b[0m\u001b[0;34m,\u001b[0m\u001b[0mcont_list\u001b[0m\u001b[0;34m)\u001b[0m\u001b[0;34m\u001b[0m\u001b[0;34m\u001b[0m\u001b[0m\n\u001b[0m\u001b[1;32m     64\u001b[0m       \u001b[0mprint\u001b[0m\u001b[0;34m(\u001b[0m\u001b[0;34m\"hi\"\u001b[0m\u001b[0;34m)\u001b[0m\u001b[0;34m\u001b[0m\u001b[0;34m\u001b[0m\u001b[0m\n\u001b[1;32m     65\u001b[0m       \u001b[0;32mfor\u001b[0m \u001b[0mrepo\u001b[0m \u001b[0;32min\u001b[0m \u001b[0mbiggerlist1\u001b[0m\u001b[0;34m:\u001b[0m\u001b[0;34m\u001b[0m\u001b[0;34m\u001b[0m\u001b[0m\n",
            "\u001b[0;32m<ipython-input-87-a41044d93ca8>\u001b[0m in \u001b[0;36mlocal_search\u001b[0;34m(repo, limit, alpha, beta, biggerlist, repo_found, cont_list)\u001b[0m\n\u001b[1;32m     61\u001b[0m       \u001b[0mprint\u001b[0m\u001b[0;34m(\u001b[0m\u001b[0mrepo2\u001b[0m\u001b[0;34m.\u001b[0m\u001b[0mfull_name\u001b[0m\u001b[0;34m)\u001b[0m\u001b[0;34m\u001b[0m\u001b[0;34m\u001b[0m\u001b[0m\n\u001b[1;32m     62\u001b[0m       \u001b[0mprint\u001b[0m\u001b[0;34m(\u001b[0m\u001b[0;34m\"Limit passing is \"\u001b[0m\u001b[0;34m+\u001b[0m\u001b[0mstr\u001b[0m\u001b[0;34m(\u001b[0m\u001b[0mlimit\u001b[0m\u001b[0;34m-\u001b[0m\u001b[0mlen\u001b[0m\u001b[0;34m(\u001b[0m\u001b[0mbiggerlist\u001b[0m\u001b[0;34m)\u001b[0m\u001b[0;34m)\u001b[0m\u001b[0;34m)\u001b[0m\u001b[0;34m\u001b[0m\u001b[0;34m\u001b[0m\u001b[0m\n\u001b[0;32m---> 63\u001b[0;31m       \u001b[0mrepo_found2\u001b[0m\u001b[0;34m,\u001b[0m\u001b[0mbiggerlist1\u001b[0m\u001b[0;34m=\u001b[0m\u001b[0mlocal_search\u001b[0m\u001b[0;34m(\u001b[0m\u001b[0mrepo2\u001b[0m\u001b[0;34m,\u001b[0m\u001b[0mlimit\u001b[0m\u001b[0;34m,\u001b[0m\u001b[0malpha\u001b[0m\u001b[0;34m,\u001b[0m\u001b[0mbeta\u001b[0m\u001b[0;34m,\u001b[0m\u001b[0mbiggerlist\u001b[0m\u001b[0;34m,\u001b[0m\u001b[0mrepo_found\u001b[0m\u001b[0;34m,\u001b[0m\u001b[0mcont_list\u001b[0m\u001b[0;34m)\u001b[0m\u001b[0;34m\u001b[0m\u001b[0;34m\u001b[0m\u001b[0m\n\u001b[0m\u001b[1;32m     64\u001b[0m       \u001b[0mprint\u001b[0m\u001b[0;34m(\u001b[0m\u001b[0;34m\"hi\"\u001b[0m\u001b[0;34m)\u001b[0m\u001b[0;34m\u001b[0m\u001b[0;34m\u001b[0m\u001b[0m\n\u001b[1;32m     65\u001b[0m       \u001b[0;32mfor\u001b[0m \u001b[0mrepo\u001b[0m \u001b[0;32min\u001b[0m \u001b[0mbiggerlist1\u001b[0m\u001b[0;34m:\u001b[0m\u001b[0;34m\u001b[0m\u001b[0;34m\u001b[0m\u001b[0m\n",
            "\u001b[0;32m<ipython-input-87-a41044d93ca8>\u001b[0m in \u001b[0;36mlocal_search\u001b[0;34m(repo, limit, alpha, beta, biggerlist, repo_found, cont_list)\u001b[0m\n\u001b[1;32m     61\u001b[0m       \u001b[0mprint\u001b[0m\u001b[0;34m(\u001b[0m\u001b[0mrepo2\u001b[0m\u001b[0;34m.\u001b[0m\u001b[0mfull_name\u001b[0m\u001b[0;34m)\u001b[0m\u001b[0;34m\u001b[0m\u001b[0;34m\u001b[0m\u001b[0m\n\u001b[1;32m     62\u001b[0m       \u001b[0mprint\u001b[0m\u001b[0;34m(\u001b[0m\u001b[0;34m\"Limit passing is \"\u001b[0m\u001b[0;34m+\u001b[0m\u001b[0mstr\u001b[0m\u001b[0;34m(\u001b[0m\u001b[0mlimit\u001b[0m\u001b[0;34m-\u001b[0m\u001b[0mlen\u001b[0m\u001b[0;34m(\u001b[0m\u001b[0mbiggerlist\u001b[0m\u001b[0;34m)\u001b[0m\u001b[0;34m)\u001b[0m\u001b[0;34m)\u001b[0m\u001b[0;34m\u001b[0m\u001b[0;34m\u001b[0m\u001b[0m\n\u001b[0;32m---> 63\u001b[0;31m       \u001b[0mrepo_found2\u001b[0m\u001b[0;34m,\u001b[0m\u001b[0mbiggerlist1\u001b[0m\u001b[0;34m=\u001b[0m\u001b[0mlocal_search\u001b[0m\u001b[0;34m(\u001b[0m\u001b[0mrepo2\u001b[0m\u001b[0;34m,\u001b[0m\u001b[0mlimit\u001b[0m\u001b[0;34m,\u001b[0m\u001b[0malpha\u001b[0m\u001b[0;34m,\u001b[0m\u001b[0mbeta\u001b[0m\u001b[0;34m,\u001b[0m\u001b[0mbiggerlist\u001b[0m\u001b[0;34m,\u001b[0m\u001b[0mrepo_found\u001b[0m\u001b[0;34m,\u001b[0m\u001b[0mcont_list\u001b[0m\u001b[0;34m)\u001b[0m\u001b[0;34m\u001b[0m\u001b[0;34m\u001b[0m\u001b[0m\n\u001b[0m\u001b[1;32m     64\u001b[0m       \u001b[0mprint\u001b[0m\u001b[0;34m(\u001b[0m\u001b[0;34m\"hi\"\u001b[0m\u001b[0;34m)\u001b[0m\u001b[0;34m\u001b[0m\u001b[0;34m\u001b[0m\u001b[0m\n\u001b[1;32m     65\u001b[0m       \u001b[0;32mfor\u001b[0m \u001b[0mrepo\u001b[0m \u001b[0;32min\u001b[0m \u001b[0mbiggerlist1\u001b[0m\u001b[0;34m:\u001b[0m\u001b[0;34m\u001b[0m\u001b[0;34m\u001b[0m\u001b[0m\n",
            "\u001b[0;32m<ipython-input-87-a41044d93ca8>\u001b[0m in \u001b[0;36mlocal_search\u001b[0;34m(repo, limit, alpha, beta, biggerlist, repo_found, cont_list)\u001b[0m\n\u001b[1;32m     61\u001b[0m       \u001b[0mprint\u001b[0m\u001b[0;34m(\u001b[0m\u001b[0mrepo2\u001b[0m\u001b[0;34m.\u001b[0m\u001b[0mfull_name\u001b[0m\u001b[0;34m)\u001b[0m\u001b[0;34m\u001b[0m\u001b[0;34m\u001b[0m\u001b[0m\n\u001b[1;32m     62\u001b[0m       \u001b[0mprint\u001b[0m\u001b[0;34m(\u001b[0m\u001b[0;34m\"Limit passing is \"\u001b[0m\u001b[0;34m+\u001b[0m\u001b[0mstr\u001b[0m\u001b[0;34m(\u001b[0m\u001b[0mlimit\u001b[0m\u001b[0;34m-\u001b[0m\u001b[0mlen\u001b[0m\u001b[0;34m(\u001b[0m\u001b[0mbiggerlist\u001b[0m\u001b[0;34m)\u001b[0m\u001b[0;34m)\u001b[0m\u001b[0;34m)\u001b[0m\u001b[0;34m\u001b[0m\u001b[0;34m\u001b[0m\u001b[0m\n\u001b[0;32m---> 63\u001b[0;31m       \u001b[0mrepo_found2\u001b[0m\u001b[0;34m,\u001b[0m\u001b[0mbiggerlist1\u001b[0m\u001b[0;34m=\u001b[0m\u001b[0mlocal_search\u001b[0m\u001b[0;34m(\u001b[0m\u001b[0mrepo2\u001b[0m\u001b[0;34m,\u001b[0m\u001b[0mlimit\u001b[0m\u001b[0;34m,\u001b[0m\u001b[0malpha\u001b[0m\u001b[0;34m,\u001b[0m\u001b[0mbeta\u001b[0m\u001b[0;34m,\u001b[0m\u001b[0mbiggerlist\u001b[0m\u001b[0;34m,\u001b[0m\u001b[0mrepo_found\u001b[0m\u001b[0;34m,\u001b[0m\u001b[0mcont_list\u001b[0m\u001b[0;34m)\u001b[0m\u001b[0;34m\u001b[0m\u001b[0;34m\u001b[0m\u001b[0m\n\u001b[0m\u001b[1;32m     64\u001b[0m       \u001b[0mprint\u001b[0m\u001b[0;34m(\u001b[0m\u001b[0;34m\"hi\"\u001b[0m\u001b[0;34m)\u001b[0m\u001b[0;34m\u001b[0m\u001b[0;34m\u001b[0m\u001b[0m\n\u001b[1;32m     65\u001b[0m       \u001b[0;32mfor\u001b[0m \u001b[0mrepo\u001b[0m \u001b[0;32min\u001b[0m \u001b[0mbiggerlist1\u001b[0m\u001b[0;34m:\u001b[0m\u001b[0;34m\u001b[0m\u001b[0;34m\u001b[0m\u001b[0m\n",
            "\u001b[0;32m<ipython-input-87-a41044d93ca8>\u001b[0m in \u001b[0;36mlocal_search\u001b[0;34m(repo, limit, alpha, beta, biggerlist, repo_found, cont_list)\u001b[0m\n\u001b[1;32m     61\u001b[0m       \u001b[0mprint\u001b[0m\u001b[0;34m(\u001b[0m\u001b[0mrepo2\u001b[0m\u001b[0;34m.\u001b[0m\u001b[0mfull_name\u001b[0m\u001b[0;34m)\u001b[0m\u001b[0;34m\u001b[0m\u001b[0;34m\u001b[0m\u001b[0m\n\u001b[1;32m     62\u001b[0m       \u001b[0mprint\u001b[0m\u001b[0;34m(\u001b[0m\u001b[0;34m\"Limit passing is \"\u001b[0m\u001b[0;34m+\u001b[0m\u001b[0mstr\u001b[0m\u001b[0;34m(\u001b[0m\u001b[0mlimit\u001b[0m\u001b[0;34m-\u001b[0m\u001b[0mlen\u001b[0m\u001b[0;34m(\u001b[0m\u001b[0mbiggerlist\u001b[0m\u001b[0;34m)\u001b[0m\u001b[0;34m)\u001b[0m\u001b[0;34m)\u001b[0m\u001b[0;34m\u001b[0m\u001b[0;34m\u001b[0m\u001b[0m\n\u001b[0;32m---> 63\u001b[0;31m       \u001b[0mrepo_found2\u001b[0m\u001b[0;34m,\u001b[0m\u001b[0mbiggerlist1\u001b[0m\u001b[0;34m=\u001b[0m\u001b[0mlocal_search\u001b[0m\u001b[0;34m(\u001b[0m\u001b[0mrepo2\u001b[0m\u001b[0;34m,\u001b[0m\u001b[0mlimit\u001b[0m\u001b[0;34m,\u001b[0m\u001b[0malpha\u001b[0m\u001b[0;34m,\u001b[0m\u001b[0mbeta\u001b[0m\u001b[0;34m,\u001b[0m\u001b[0mbiggerlist\u001b[0m\u001b[0;34m,\u001b[0m\u001b[0mrepo_found\u001b[0m\u001b[0;34m,\u001b[0m\u001b[0mcont_list\u001b[0m\u001b[0;34m)\u001b[0m\u001b[0;34m\u001b[0m\u001b[0;34m\u001b[0m\u001b[0m\n\u001b[0m\u001b[1;32m     64\u001b[0m       \u001b[0mprint\u001b[0m\u001b[0;34m(\u001b[0m\u001b[0;34m\"hi\"\u001b[0m\u001b[0;34m)\u001b[0m\u001b[0;34m\u001b[0m\u001b[0;34m\u001b[0m\u001b[0m\n\u001b[1;32m     65\u001b[0m       \u001b[0;32mfor\u001b[0m \u001b[0mrepo\u001b[0m \u001b[0;32min\u001b[0m \u001b[0mbiggerlist1\u001b[0m\u001b[0;34m:\u001b[0m\u001b[0;34m\u001b[0m\u001b[0;34m\u001b[0m\u001b[0m\n",
            "\u001b[0;32m<ipython-input-87-a41044d93ca8>\u001b[0m in \u001b[0;36mlocal_search\u001b[0;34m(repo, limit, alpha, beta, biggerlist, repo_found, cont_list)\u001b[0m\n\u001b[1;32m     61\u001b[0m       \u001b[0mprint\u001b[0m\u001b[0;34m(\u001b[0m\u001b[0mrepo2\u001b[0m\u001b[0;34m.\u001b[0m\u001b[0mfull_name\u001b[0m\u001b[0;34m)\u001b[0m\u001b[0;34m\u001b[0m\u001b[0;34m\u001b[0m\u001b[0m\n\u001b[1;32m     62\u001b[0m       \u001b[0mprint\u001b[0m\u001b[0;34m(\u001b[0m\u001b[0;34m\"Limit passing is \"\u001b[0m\u001b[0;34m+\u001b[0m\u001b[0mstr\u001b[0m\u001b[0;34m(\u001b[0m\u001b[0mlimit\u001b[0m\u001b[0;34m-\u001b[0m\u001b[0mlen\u001b[0m\u001b[0;34m(\u001b[0m\u001b[0mbiggerlist\u001b[0m\u001b[0;34m)\u001b[0m\u001b[0;34m)\u001b[0m\u001b[0;34m)\u001b[0m\u001b[0;34m\u001b[0m\u001b[0;34m\u001b[0m\u001b[0m\n\u001b[0;32m---> 63\u001b[0;31m       \u001b[0mrepo_found2\u001b[0m\u001b[0;34m,\u001b[0m\u001b[0mbiggerlist1\u001b[0m\u001b[0;34m=\u001b[0m\u001b[0mlocal_search\u001b[0m\u001b[0;34m(\u001b[0m\u001b[0mrepo2\u001b[0m\u001b[0;34m,\u001b[0m\u001b[0mlimit\u001b[0m\u001b[0;34m,\u001b[0m\u001b[0malpha\u001b[0m\u001b[0;34m,\u001b[0m\u001b[0mbeta\u001b[0m\u001b[0;34m,\u001b[0m\u001b[0mbiggerlist\u001b[0m\u001b[0;34m,\u001b[0m\u001b[0mrepo_found\u001b[0m\u001b[0;34m,\u001b[0m\u001b[0mcont_list\u001b[0m\u001b[0;34m)\u001b[0m\u001b[0;34m\u001b[0m\u001b[0;34m\u001b[0m\u001b[0m\n\u001b[0m\u001b[1;32m     64\u001b[0m       \u001b[0mprint\u001b[0m\u001b[0;34m(\u001b[0m\u001b[0;34m\"hi\"\u001b[0m\u001b[0;34m)\u001b[0m\u001b[0;34m\u001b[0m\u001b[0;34m\u001b[0m\u001b[0m\n\u001b[1;32m     65\u001b[0m       \u001b[0;32mfor\u001b[0m \u001b[0mrepo\u001b[0m \u001b[0;32min\u001b[0m \u001b[0mbiggerlist1\u001b[0m\u001b[0;34m:\u001b[0m\u001b[0;34m\u001b[0m\u001b[0;34m\u001b[0m\u001b[0m\n",
            "\u001b[0;32m<ipython-input-87-a41044d93ca8>\u001b[0m in \u001b[0;36mlocal_search\u001b[0;34m(repo, limit, alpha, beta, biggerlist, repo_found, cont_list)\u001b[0m\n\u001b[1;32m     61\u001b[0m       \u001b[0mprint\u001b[0m\u001b[0;34m(\u001b[0m\u001b[0mrepo2\u001b[0m\u001b[0;34m.\u001b[0m\u001b[0mfull_name\u001b[0m\u001b[0;34m)\u001b[0m\u001b[0;34m\u001b[0m\u001b[0;34m\u001b[0m\u001b[0m\n\u001b[1;32m     62\u001b[0m       \u001b[0mprint\u001b[0m\u001b[0;34m(\u001b[0m\u001b[0;34m\"Limit passing is \"\u001b[0m\u001b[0;34m+\u001b[0m\u001b[0mstr\u001b[0m\u001b[0;34m(\u001b[0m\u001b[0mlimit\u001b[0m\u001b[0;34m-\u001b[0m\u001b[0mlen\u001b[0m\u001b[0;34m(\u001b[0m\u001b[0mbiggerlist\u001b[0m\u001b[0;34m)\u001b[0m\u001b[0;34m)\u001b[0m\u001b[0;34m)\u001b[0m\u001b[0;34m\u001b[0m\u001b[0;34m\u001b[0m\u001b[0m\n\u001b[0;32m---> 63\u001b[0;31m       \u001b[0mrepo_found2\u001b[0m\u001b[0;34m,\u001b[0m\u001b[0mbiggerlist1\u001b[0m\u001b[0;34m=\u001b[0m\u001b[0mlocal_search\u001b[0m\u001b[0;34m(\u001b[0m\u001b[0mrepo2\u001b[0m\u001b[0;34m,\u001b[0m\u001b[0mlimit\u001b[0m\u001b[0;34m,\u001b[0m\u001b[0malpha\u001b[0m\u001b[0;34m,\u001b[0m\u001b[0mbeta\u001b[0m\u001b[0;34m,\u001b[0m\u001b[0mbiggerlist\u001b[0m\u001b[0;34m,\u001b[0m\u001b[0mrepo_found\u001b[0m\u001b[0;34m,\u001b[0m\u001b[0mcont_list\u001b[0m\u001b[0;34m)\u001b[0m\u001b[0;34m\u001b[0m\u001b[0;34m\u001b[0m\u001b[0m\n\u001b[0m\u001b[1;32m     64\u001b[0m       \u001b[0mprint\u001b[0m\u001b[0;34m(\u001b[0m\u001b[0;34m\"hi\"\u001b[0m\u001b[0;34m)\u001b[0m\u001b[0;34m\u001b[0m\u001b[0;34m\u001b[0m\u001b[0m\n\u001b[1;32m     65\u001b[0m       \u001b[0;32mfor\u001b[0m \u001b[0mrepo\u001b[0m \u001b[0;32min\u001b[0m \u001b[0mbiggerlist1\u001b[0m\u001b[0;34m:\u001b[0m\u001b[0;34m\u001b[0m\u001b[0;34m\u001b[0m\u001b[0m\n",
            "\u001b[0;32m<ipython-input-87-a41044d93ca8>\u001b[0m in \u001b[0;36mlocal_search\u001b[0;34m(repo, limit, alpha, beta, biggerlist, repo_found, cont_list)\u001b[0m\n\u001b[1;32m     61\u001b[0m       \u001b[0mprint\u001b[0m\u001b[0;34m(\u001b[0m\u001b[0mrepo2\u001b[0m\u001b[0;34m.\u001b[0m\u001b[0mfull_name\u001b[0m\u001b[0;34m)\u001b[0m\u001b[0;34m\u001b[0m\u001b[0;34m\u001b[0m\u001b[0m\n\u001b[1;32m     62\u001b[0m       \u001b[0mprint\u001b[0m\u001b[0;34m(\u001b[0m\u001b[0;34m\"Limit passing is \"\u001b[0m\u001b[0;34m+\u001b[0m\u001b[0mstr\u001b[0m\u001b[0;34m(\u001b[0m\u001b[0mlimit\u001b[0m\u001b[0;34m-\u001b[0m\u001b[0mlen\u001b[0m\u001b[0;34m(\u001b[0m\u001b[0mbiggerlist\u001b[0m\u001b[0;34m)\u001b[0m\u001b[0;34m)\u001b[0m\u001b[0;34m)\u001b[0m\u001b[0;34m\u001b[0m\u001b[0;34m\u001b[0m\u001b[0m\n\u001b[0;32m---> 63\u001b[0;31m       \u001b[0mrepo_found2\u001b[0m\u001b[0;34m,\u001b[0m\u001b[0mbiggerlist1\u001b[0m\u001b[0;34m=\u001b[0m\u001b[0mlocal_search\u001b[0m\u001b[0;34m(\u001b[0m\u001b[0mrepo2\u001b[0m\u001b[0;34m,\u001b[0m\u001b[0mlimit\u001b[0m\u001b[0;34m,\u001b[0m\u001b[0malpha\u001b[0m\u001b[0;34m,\u001b[0m\u001b[0mbeta\u001b[0m\u001b[0;34m,\u001b[0m\u001b[0mbiggerlist\u001b[0m\u001b[0;34m,\u001b[0m\u001b[0mrepo_found\u001b[0m\u001b[0;34m,\u001b[0m\u001b[0mcont_list\u001b[0m\u001b[0;34m)\u001b[0m\u001b[0;34m\u001b[0m\u001b[0;34m\u001b[0m\u001b[0m\n\u001b[0m\u001b[1;32m     64\u001b[0m       \u001b[0mprint\u001b[0m\u001b[0;34m(\u001b[0m\u001b[0;34m\"hi\"\u001b[0m\u001b[0;34m)\u001b[0m\u001b[0;34m\u001b[0m\u001b[0;34m\u001b[0m\u001b[0m\n\u001b[1;32m     65\u001b[0m       \u001b[0;32mfor\u001b[0m \u001b[0mrepo\u001b[0m \u001b[0;32min\u001b[0m \u001b[0mbiggerlist1\u001b[0m\u001b[0;34m:\u001b[0m\u001b[0;34m\u001b[0m\u001b[0;34m\u001b[0m\u001b[0m\n",
            "\u001b[0;32m<ipython-input-87-a41044d93ca8>\u001b[0m in \u001b[0;36mlocal_search\u001b[0;34m(repo, limit, alpha, beta, biggerlist, repo_found, cont_list)\u001b[0m\n\u001b[1;32m     61\u001b[0m       \u001b[0mprint\u001b[0m\u001b[0;34m(\u001b[0m\u001b[0mrepo2\u001b[0m\u001b[0;34m.\u001b[0m\u001b[0mfull_name\u001b[0m\u001b[0;34m)\u001b[0m\u001b[0;34m\u001b[0m\u001b[0;34m\u001b[0m\u001b[0m\n\u001b[1;32m     62\u001b[0m       \u001b[0mprint\u001b[0m\u001b[0;34m(\u001b[0m\u001b[0;34m\"Limit passing is \"\u001b[0m\u001b[0;34m+\u001b[0m\u001b[0mstr\u001b[0m\u001b[0;34m(\u001b[0m\u001b[0mlimit\u001b[0m\u001b[0;34m-\u001b[0m\u001b[0mlen\u001b[0m\u001b[0;34m(\u001b[0m\u001b[0mbiggerlist\u001b[0m\u001b[0;34m)\u001b[0m\u001b[0;34m)\u001b[0m\u001b[0;34m)\u001b[0m\u001b[0;34m\u001b[0m\u001b[0;34m\u001b[0m\u001b[0m\n\u001b[0;32m---> 63\u001b[0;31m       \u001b[0mrepo_found2\u001b[0m\u001b[0;34m,\u001b[0m\u001b[0mbiggerlist1\u001b[0m\u001b[0;34m=\u001b[0m\u001b[0mlocal_search\u001b[0m\u001b[0;34m(\u001b[0m\u001b[0mrepo2\u001b[0m\u001b[0;34m,\u001b[0m\u001b[0mlimit\u001b[0m\u001b[0;34m,\u001b[0m\u001b[0malpha\u001b[0m\u001b[0;34m,\u001b[0m\u001b[0mbeta\u001b[0m\u001b[0;34m,\u001b[0m\u001b[0mbiggerlist\u001b[0m\u001b[0;34m,\u001b[0m\u001b[0mrepo_found\u001b[0m\u001b[0;34m,\u001b[0m\u001b[0mcont_list\u001b[0m\u001b[0;34m)\u001b[0m\u001b[0;34m\u001b[0m\u001b[0;34m\u001b[0m\u001b[0m\n\u001b[0m\u001b[1;32m     64\u001b[0m       \u001b[0mprint\u001b[0m\u001b[0;34m(\u001b[0m\u001b[0;34m\"hi\"\u001b[0m\u001b[0;34m)\u001b[0m\u001b[0;34m\u001b[0m\u001b[0;34m\u001b[0m\u001b[0m\n\u001b[1;32m     65\u001b[0m       \u001b[0;32mfor\u001b[0m \u001b[0mrepo\u001b[0m \u001b[0;32min\u001b[0m \u001b[0mbiggerlist1\u001b[0m\u001b[0;34m:\u001b[0m\u001b[0;34m\u001b[0m\u001b[0;34m\u001b[0m\u001b[0m\n",
            "\u001b[0;32m<ipython-input-87-a41044d93ca8>\u001b[0m in \u001b[0;36mlocal_search\u001b[0;34m(repo, limit, alpha, beta, biggerlist, repo_found, cont_list)\u001b[0m\n\u001b[1;32m     61\u001b[0m       \u001b[0mprint\u001b[0m\u001b[0;34m(\u001b[0m\u001b[0mrepo2\u001b[0m\u001b[0;34m.\u001b[0m\u001b[0mfull_name\u001b[0m\u001b[0;34m)\u001b[0m\u001b[0;34m\u001b[0m\u001b[0;34m\u001b[0m\u001b[0m\n\u001b[1;32m     62\u001b[0m       \u001b[0mprint\u001b[0m\u001b[0;34m(\u001b[0m\u001b[0;34m\"Limit passing is \"\u001b[0m\u001b[0;34m+\u001b[0m\u001b[0mstr\u001b[0m\u001b[0;34m(\u001b[0m\u001b[0mlimit\u001b[0m\u001b[0;34m-\u001b[0m\u001b[0mlen\u001b[0m\u001b[0;34m(\u001b[0m\u001b[0mbiggerlist\u001b[0m\u001b[0;34m)\u001b[0m\u001b[0;34m)\u001b[0m\u001b[0;34m)\u001b[0m\u001b[0;34m\u001b[0m\u001b[0;34m\u001b[0m\u001b[0m\n\u001b[0;32m---> 63\u001b[0;31m       \u001b[0mrepo_found2\u001b[0m\u001b[0;34m,\u001b[0m\u001b[0mbiggerlist1\u001b[0m\u001b[0;34m=\u001b[0m\u001b[0mlocal_search\u001b[0m\u001b[0;34m(\u001b[0m\u001b[0mrepo2\u001b[0m\u001b[0;34m,\u001b[0m\u001b[0mlimit\u001b[0m\u001b[0;34m,\u001b[0m\u001b[0malpha\u001b[0m\u001b[0;34m,\u001b[0m\u001b[0mbeta\u001b[0m\u001b[0;34m,\u001b[0m\u001b[0mbiggerlist\u001b[0m\u001b[0;34m,\u001b[0m\u001b[0mrepo_found\u001b[0m\u001b[0;34m,\u001b[0m\u001b[0mcont_list\u001b[0m\u001b[0;34m)\u001b[0m\u001b[0;34m\u001b[0m\u001b[0;34m\u001b[0m\u001b[0m\n\u001b[0m\u001b[1;32m     64\u001b[0m       \u001b[0mprint\u001b[0m\u001b[0;34m(\u001b[0m\u001b[0;34m\"hi\"\u001b[0m\u001b[0;34m)\u001b[0m\u001b[0;34m\u001b[0m\u001b[0;34m\u001b[0m\u001b[0m\n\u001b[1;32m     65\u001b[0m       \u001b[0;32mfor\u001b[0m \u001b[0mrepo\u001b[0m \u001b[0;32min\u001b[0m \u001b[0mbiggerlist1\u001b[0m\u001b[0;34m:\u001b[0m\u001b[0;34m\u001b[0m\u001b[0;34m\u001b[0m\u001b[0m\n",
            "\u001b[0;32m<ipython-input-87-a41044d93ca8>\u001b[0m in \u001b[0;36mlocal_search\u001b[0;34m(repo, limit, alpha, beta, biggerlist, repo_found, cont_list)\u001b[0m\n\u001b[1;32m     61\u001b[0m       \u001b[0mprint\u001b[0m\u001b[0;34m(\u001b[0m\u001b[0mrepo2\u001b[0m\u001b[0;34m.\u001b[0m\u001b[0mfull_name\u001b[0m\u001b[0;34m)\u001b[0m\u001b[0;34m\u001b[0m\u001b[0;34m\u001b[0m\u001b[0m\n\u001b[1;32m     62\u001b[0m       \u001b[0mprint\u001b[0m\u001b[0;34m(\u001b[0m\u001b[0;34m\"Limit passing is \"\u001b[0m\u001b[0;34m+\u001b[0m\u001b[0mstr\u001b[0m\u001b[0;34m(\u001b[0m\u001b[0mlimit\u001b[0m\u001b[0;34m-\u001b[0m\u001b[0mlen\u001b[0m\u001b[0;34m(\u001b[0m\u001b[0mbiggerlist\u001b[0m\u001b[0;34m)\u001b[0m\u001b[0;34m)\u001b[0m\u001b[0;34m)\u001b[0m\u001b[0;34m\u001b[0m\u001b[0;34m\u001b[0m\u001b[0m\n\u001b[0;32m---> 63\u001b[0;31m       \u001b[0mrepo_found2\u001b[0m\u001b[0;34m,\u001b[0m\u001b[0mbiggerlist1\u001b[0m\u001b[0;34m=\u001b[0m\u001b[0mlocal_search\u001b[0m\u001b[0;34m(\u001b[0m\u001b[0mrepo2\u001b[0m\u001b[0;34m,\u001b[0m\u001b[0mlimit\u001b[0m\u001b[0;34m,\u001b[0m\u001b[0malpha\u001b[0m\u001b[0;34m,\u001b[0m\u001b[0mbeta\u001b[0m\u001b[0;34m,\u001b[0m\u001b[0mbiggerlist\u001b[0m\u001b[0;34m,\u001b[0m\u001b[0mrepo_found\u001b[0m\u001b[0;34m,\u001b[0m\u001b[0mcont_list\u001b[0m\u001b[0;34m)\u001b[0m\u001b[0;34m\u001b[0m\u001b[0;34m\u001b[0m\u001b[0m\n\u001b[0m\u001b[1;32m     64\u001b[0m       \u001b[0mprint\u001b[0m\u001b[0;34m(\u001b[0m\u001b[0;34m\"hi\"\u001b[0m\u001b[0;34m)\u001b[0m\u001b[0;34m\u001b[0m\u001b[0;34m\u001b[0m\u001b[0m\n\u001b[1;32m     65\u001b[0m       \u001b[0;32mfor\u001b[0m \u001b[0mrepo\u001b[0m \u001b[0;32min\u001b[0m \u001b[0mbiggerlist1\u001b[0m\u001b[0;34m:\u001b[0m\u001b[0;34m\u001b[0m\u001b[0;34m\u001b[0m\u001b[0m\n",
            "\u001b[0;32m<ipython-input-87-a41044d93ca8>\u001b[0m in \u001b[0;36mlocal_search\u001b[0;34m(repo, limit, alpha, beta, biggerlist, repo_found, cont_list)\u001b[0m\n\u001b[1;32m     61\u001b[0m       \u001b[0mprint\u001b[0m\u001b[0;34m(\u001b[0m\u001b[0mrepo2\u001b[0m\u001b[0;34m.\u001b[0m\u001b[0mfull_name\u001b[0m\u001b[0;34m)\u001b[0m\u001b[0;34m\u001b[0m\u001b[0;34m\u001b[0m\u001b[0m\n\u001b[1;32m     62\u001b[0m       \u001b[0mprint\u001b[0m\u001b[0;34m(\u001b[0m\u001b[0;34m\"Limit passing is \"\u001b[0m\u001b[0;34m+\u001b[0m\u001b[0mstr\u001b[0m\u001b[0;34m(\u001b[0m\u001b[0mlimit\u001b[0m\u001b[0;34m-\u001b[0m\u001b[0mlen\u001b[0m\u001b[0;34m(\u001b[0m\u001b[0mbiggerlist\u001b[0m\u001b[0;34m)\u001b[0m\u001b[0;34m)\u001b[0m\u001b[0;34m)\u001b[0m\u001b[0;34m\u001b[0m\u001b[0;34m\u001b[0m\u001b[0m\n\u001b[0;32m---> 63\u001b[0;31m       \u001b[0mrepo_found2\u001b[0m\u001b[0;34m,\u001b[0m\u001b[0mbiggerlist1\u001b[0m\u001b[0;34m=\u001b[0m\u001b[0mlocal_search\u001b[0m\u001b[0;34m(\u001b[0m\u001b[0mrepo2\u001b[0m\u001b[0;34m,\u001b[0m\u001b[0mlimit\u001b[0m\u001b[0;34m,\u001b[0m\u001b[0malpha\u001b[0m\u001b[0;34m,\u001b[0m\u001b[0mbeta\u001b[0m\u001b[0;34m,\u001b[0m\u001b[0mbiggerlist\u001b[0m\u001b[0;34m,\u001b[0m\u001b[0mrepo_found\u001b[0m\u001b[0;34m,\u001b[0m\u001b[0mcont_list\u001b[0m\u001b[0;34m)\u001b[0m\u001b[0;34m\u001b[0m\u001b[0;34m\u001b[0m\u001b[0m\n\u001b[0m\u001b[1;32m     64\u001b[0m       \u001b[0mprint\u001b[0m\u001b[0;34m(\u001b[0m\u001b[0;34m\"hi\"\u001b[0m\u001b[0;34m)\u001b[0m\u001b[0;34m\u001b[0m\u001b[0;34m\u001b[0m\u001b[0m\n\u001b[1;32m     65\u001b[0m       \u001b[0;32mfor\u001b[0m \u001b[0mrepo\u001b[0m \u001b[0;32min\u001b[0m \u001b[0mbiggerlist1\u001b[0m\u001b[0;34m:\u001b[0m\u001b[0;34m\u001b[0m\u001b[0;34m\u001b[0m\u001b[0m\n",
            "\u001b[0;32m<ipython-input-87-a41044d93ca8>\u001b[0m in \u001b[0;36mlocal_search\u001b[0;34m(repo, limit, alpha, beta, biggerlist, repo_found, cont_list)\u001b[0m\n\u001b[1;32m     61\u001b[0m       \u001b[0mprint\u001b[0m\u001b[0;34m(\u001b[0m\u001b[0mrepo2\u001b[0m\u001b[0;34m.\u001b[0m\u001b[0mfull_name\u001b[0m\u001b[0;34m)\u001b[0m\u001b[0;34m\u001b[0m\u001b[0;34m\u001b[0m\u001b[0m\n\u001b[1;32m     62\u001b[0m       \u001b[0mprint\u001b[0m\u001b[0;34m(\u001b[0m\u001b[0;34m\"Limit passing is \"\u001b[0m\u001b[0;34m+\u001b[0m\u001b[0mstr\u001b[0m\u001b[0;34m(\u001b[0m\u001b[0mlimit\u001b[0m\u001b[0;34m-\u001b[0m\u001b[0mlen\u001b[0m\u001b[0;34m(\u001b[0m\u001b[0mbiggerlist\u001b[0m\u001b[0;34m)\u001b[0m\u001b[0;34m)\u001b[0m\u001b[0;34m)\u001b[0m\u001b[0;34m\u001b[0m\u001b[0;34m\u001b[0m\u001b[0m\n\u001b[0;32m---> 63\u001b[0;31m       \u001b[0mrepo_found2\u001b[0m\u001b[0;34m,\u001b[0m\u001b[0mbiggerlist1\u001b[0m\u001b[0;34m=\u001b[0m\u001b[0mlocal_search\u001b[0m\u001b[0;34m(\u001b[0m\u001b[0mrepo2\u001b[0m\u001b[0;34m,\u001b[0m\u001b[0mlimit\u001b[0m\u001b[0;34m,\u001b[0m\u001b[0malpha\u001b[0m\u001b[0;34m,\u001b[0m\u001b[0mbeta\u001b[0m\u001b[0;34m,\u001b[0m\u001b[0mbiggerlist\u001b[0m\u001b[0;34m,\u001b[0m\u001b[0mrepo_found\u001b[0m\u001b[0;34m,\u001b[0m\u001b[0mcont_list\u001b[0m\u001b[0;34m)\u001b[0m\u001b[0;34m\u001b[0m\u001b[0;34m\u001b[0m\u001b[0m\n\u001b[0m\u001b[1;32m     64\u001b[0m       \u001b[0mprint\u001b[0m\u001b[0;34m(\u001b[0m\u001b[0;34m\"hi\"\u001b[0m\u001b[0;34m)\u001b[0m\u001b[0;34m\u001b[0m\u001b[0;34m\u001b[0m\u001b[0m\n\u001b[1;32m     65\u001b[0m       \u001b[0;32mfor\u001b[0m \u001b[0mrepo\u001b[0m \u001b[0;32min\u001b[0m \u001b[0mbiggerlist1\u001b[0m\u001b[0;34m:\u001b[0m\u001b[0;34m\u001b[0m\u001b[0;34m\u001b[0m\u001b[0m\n",
            "\u001b[0;32m<ipython-input-87-a41044d93ca8>\u001b[0m in \u001b[0;36mlocal_search\u001b[0;34m(repo, limit, alpha, beta, biggerlist, repo_found, cont_list)\u001b[0m\n\u001b[1;32m     61\u001b[0m       \u001b[0mprint\u001b[0m\u001b[0;34m(\u001b[0m\u001b[0mrepo2\u001b[0m\u001b[0;34m.\u001b[0m\u001b[0mfull_name\u001b[0m\u001b[0;34m)\u001b[0m\u001b[0;34m\u001b[0m\u001b[0;34m\u001b[0m\u001b[0m\n\u001b[1;32m     62\u001b[0m       \u001b[0mprint\u001b[0m\u001b[0;34m(\u001b[0m\u001b[0;34m\"Limit passing is \"\u001b[0m\u001b[0;34m+\u001b[0m\u001b[0mstr\u001b[0m\u001b[0;34m(\u001b[0m\u001b[0mlimit\u001b[0m\u001b[0;34m-\u001b[0m\u001b[0mlen\u001b[0m\u001b[0;34m(\u001b[0m\u001b[0mbiggerlist\u001b[0m\u001b[0;34m)\u001b[0m\u001b[0;34m)\u001b[0m\u001b[0;34m)\u001b[0m\u001b[0;34m\u001b[0m\u001b[0;34m\u001b[0m\u001b[0m\n\u001b[0;32m---> 63\u001b[0;31m       \u001b[0mrepo_found2\u001b[0m\u001b[0;34m,\u001b[0m\u001b[0mbiggerlist1\u001b[0m\u001b[0;34m=\u001b[0m\u001b[0mlocal_search\u001b[0m\u001b[0;34m(\u001b[0m\u001b[0mrepo2\u001b[0m\u001b[0;34m,\u001b[0m\u001b[0mlimit\u001b[0m\u001b[0;34m,\u001b[0m\u001b[0malpha\u001b[0m\u001b[0;34m,\u001b[0m\u001b[0mbeta\u001b[0m\u001b[0;34m,\u001b[0m\u001b[0mbiggerlist\u001b[0m\u001b[0;34m,\u001b[0m\u001b[0mrepo_found\u001b[0m\u001b[0;34m,\u001b[0m\u001b[0mcont_list\u001b[0m\u001b[0;34m)\u001b[0m\u001b[0;34m\u001b[0m\u001b[0;34m\u001b[0m\u001b[0m\n\u001b[0m\u001b[1;32m     64\u001b[0m       \u001b[0mprint\u001b[0m\u001b[0;34m(\u001b[0m\u001b[0;34m\"hi\"\u001b[0m\u001b[0;34m)\u001b[0m\u001b[0;34m\u001b[0m\u001b[0;34m\u001b[0m\u001b[0m\n\u001b[1;32m     65\u001b[0m       \u001b[0;32mfor\u001b[0m \u001b[0mrepo\u001b[0m \u001b[0;32min\u001b[0m \u001b[0mbiggerlist1\u001b[0m\u001b[0;34m:\u001b[0m\u001b[0;34m\u001b[0m\u001b[0;34m\u001b[0m\u001b[0m\n",
            "\u001b[0;32m<ipython-input-87-a41044d93ca8>\u001b[0m in \u001b[0;36mlocal_search\u001b[0;34m(repo, limit, alpha, beta, biggerlist, repo_found, cont_list)\u001b[0m\n\u001b[1;32m     61\u001b[0m       \u001b[0mprint\u001b[0m\u001b[0;34m(\u001b[0m\u001b[0mrepo2\u001b[0m\u001b[0;34m.\u001b[0m\u001b[0mfull_name\u001b[0m\u001b[0;34m)\u001b[0m\u001b[0;34m\u001b[0m\u001b[0;34m\u001b[0m\u001b[0m\n\u001b[1;32m     62\u001b[0m       \u001b[0mprint\u001b[0m\u001b[0;34m(\u001b[0m\u001b[0;34m\"Limit passing is \"\u001b[0m\u001b[0;34m+\u001b[0m\u001b[0mstr\u001b[0m\u001b[0;34m(\u001b[0m\u001b[0mlimit\u001b[0m\u001b[0;34m-\u001b[0m\u001b[0mlen\u001b[0m\u001b[0;34m(\u001b[0m\u001b[0mbiggerlist\u001b[0m\u001b[0;34m)\u001b[0m\u001b[0;34m)\u001b[0m\u001b[0;34m)\u001b[0m\u001b[0;34m\u001b[0m\u001b[0;34m\u001b[0m\u001b[0m\n\u001b[0;32m---> 63\u001b[0;31m       \u001b[0mrepo_found2\u001b[0m\u001b[0;34m,\u001b[0m\u001b[0mbiggerlist1\u001b[0m\u001b[0;34m=\u001b[0m\u001b[0mlocal_search\u001b[0m\u001b[0;34m(\u001b[0m\u001b[0mrepo2\u001b[0m\u001b[0;34m,\u001b[0m\u001b[0mlimit\u001b[0m\u001b[0;34m,\u001b[0m\u001b[0malpha\u001b[0m\u001b[0;34m,\u001b[0m\u001b[0mbeta\u001b[0m\u001b[0;34m,\u001b[0m\u001b[0mbiggerlist\u001b[0m\u001b[0;34m,\u001b[0m\u001b[0mrepo_found\u001b[0m\u001b[0;34m,\u001b[0m\u001b[0mcont_list\u001b[0m\u001b[0;34m)\u001b[0m\u001b[0;34m\u001b[0m\u001b[0;34m\u001b[0m\u001b[0m\n\u001b[0m\u001b[1;32m     64\u001b[0m       \u001b[0mprint\u001b[0m\u001b[0;34m(\u001b[0m\u001b[0;34m\"hi\"\u001b[0m\u001b[0;34m)\u001b[0m\u001b[0;34m\u001b[0m\u001b[0;34m\u001b[0m\u001b[0m\n\u001b[1;32m     65\u001b[0m       \u001b[0;32mfor\u001b[0m \u001b[0mrepo\u001b[0m \u001b[0;32min\u001b[0m \u001b[0mbiggerlist1\u001b[0m\u001b[0;34m:\u001b[0m\u001b[0;34m\u001b[0m\u001b[0;34m\u001b[0m\u001b[0m\n",
            "\u001b[0;32m<ipython-input-87-a41044d93ca8>\u001b[0m in \u001b[0;36mlocal_search\u001b[0;34m(repo, limit, alpha, beta, biggerlist, repo_found, cont_list)\u001b[0m\n\u001b[1;32m     61\u001b[0m       \u001b[0mprint\u001b[0m\u001b[0;34m(\u001b[0m\u001b[0mrepo2\u001b[0m\u001b[0;34m.\u001b[0m\u001b[0mfull_name\u001b[0m\u001b[0;34m)\u001b[0m\u001b[0;34m\u001b[0m\u001b[0;34m\u001b[0m\u001b[0m\n\u001b[1;32m     62\u001b[0m       \u001b[0mprint\u001b[0m\u001b[0;34m(\u001b[0m\u001b[0;34m\"Limit passing is \"\u001b[0m\u001b[0;34m+\u001b[0m\u001b[0mstr\u001b[0m\u001b[0;34m(\u001b[0m\u001b[0mlimit\u001b[0m\u001b[0;34m-\u001b[0m\u001b[0mlen\u001b[0m\u001b[0;34m(\u001b[0m\u001b[0mbiggerlist\u001b[0m\u001b[0;34m)\u001b[0m\u001b[0;34m)\u001b[0m\u001b[0;34m)\u001b[0m\u001b[0;34m\u001b[0m\u001b[0;34m\u001b[0m\u001b[0m\n\u001b[0;32m---> 63\u001b[0;31m       \u001b[0mrepo_found2\u001b[0m\u001b[0;34m,\u001b[0m\u001b[0mbiggerlist1\u001b[0m\u001b[0;34m=\u001b[0m\u001b[0mlocal_search\u001b[0m\u001b[0;34m(\u001b[0m\u001b[0mrepo2\u001b[0m\u001b[0;34m,\u001b[0m\u001b[0mlimit\u001b[0m\u001b[0;34m,\u001b[0m\u001b[0malpha\u001b[0m\u001b[0;34m,\u001b[0m\u001b[0mbeta\u001b[0m\u001b[0;34m,\u001b[0m\u001b[0mbiggerlist\u001b[0m\u001b[0;34m,\u001b[0m\u001b[0mrepo_found\u001b[0m\u001b[0;34m,\u001b[0m\u001b[0mcont_list\u001b[0m\u001b[0;34m)\u001b[0m\u001b[0;34m\u001b[0m\u001b[0;34m\u001b[0m\u001b[0m\n\u001b[0m\u001b[1;32m     64\u001b[0m       \u001b[0mprint\u001b[0m\u001b[0;34m(\u001b[0m\u001b[0;34m\"hi\"\u001b[0m\u001b[0;34m)\u001b[0m\u001b[0;34m\u001b[0m\u001b[0;34m\u001b[0m\u001b[0m\n\u001b[1;32m     65\u001b[0m       \u001b[0;32mfor\u001b[0m \u001b[0mrepo\u001b[0m \u001b[0;32min\u001b[0m \u001b[0mbiggerlist1\u001b[0m\u001b[0;34m:\u001b[0m\u001b[0;34m\u001b[0m\u001b[0;34m\u001b[0m\u001b[0m\n",
            "\u001b[0;32m<ipython-input-87-a41044d93ca8>\u001b[0m in \u001b[0;36mlocal_search\u001b[0;34m(repo, limit, alpha, beta, biggerlist, repo_found, cont_list)\u001b[0m\n\u001b[1;32m     61\u001b[0m       \u001b[0mprint\u001b[0m\u001b[0;34m(\u001b[0m\u001b[0mrepo2\u001b[0m\u001b[0;34m.\u001b[0m\u001b[0mfull_name\u001b[0m\u001b[0;34m)\u001b[0m\u001b[0;34m\u001b[0m\u001b[0;34m\u001b[0m\u001b[0m\n\u001b[1;32m     62\u001b[0m       \u001b[0mprint\u001b[0m\u001b[0;34m(\u001b[0m\u001b[0;34m\"Limit passing is \"\u001b[0m\u001b[0;34m+\u001b[0m\u001b[0mstr\u001b[0m\u001b[0;34m(\u001b[0m\u001b[0mlimit\u001b[0m\u001b[0;34m-\u001b[0m\u001b[0mlen\u001b[0m\u001b[0;34m(\u001b[0m\u001b[0mbiggerlist\u001b[0m\u001b[0;34m)\u001b[0m\u001b[0;34m)\u001b[0m\u001b[0;34m)\u001b[0m\u001b[0;34m\u001b[0m\u001b[0;34m\u001b[0m\u001b[0m\n\u001b[0;32m---> 63\u001b[0;31m       \u001b[0mrepo_found2\u001b[0m\u001b[0;34m,\u001b[0m\u001b[0mbiggerlist1\u001b[0m\u001b[0;34m=\u001b[0m\u001b[0mlocal_search\u001b[0m\u001b[0;34m(\u001b[0m\u001b[0mrepo2\u001b[0m\u001b[0;34m,\u001b[0m\u001b[0mlimit\u001b[0m\u001b[0;34m,\u001b[0m\u001b[0malpha\u001b[0m\u001b[0;34m,\u001b[0m\u001b[0mbeta\u001b[0m\u001b[0;34m,\u001b[0m\u001b[0mbiggerlist\u001b[0m\u001b[0;34m,\u001b[0m\u001b[0mrepo_found\u001b[0m\u001b[0;34m,\u001b[0m\u001b[0mcont_list\u001b[0m\u001b[0;34m)\u001b[0m\u001b[0;34m\u001b[0m\u001b[0;34m\u001b[0m\u001b[0m\n\u001b[0m\u001b[1;32m     64\u001b[0m       \u001b[0mprint\u001b[0m\u001b[0;34m(\u001b[0m\u001b[0;34m\"hi\"\u001b[0m\u001b[0;34m)\u001b[0m\u001b[0;34m\u001b[0m\u001b[0;34m\u001b[0m\u001b[0m\n\u001b[1;32m     65\u001b[0m       \u001b[0;32mfor\u001b[0m \u001b[0mrepo\u001b[0m \u001b[0;32min\u001b[0m \u001b[0mbiggerlist1\u001b[0m\u001b[0;34m:\u001b[0m\u001b[0;34m\u001b[0m\u001b[0;34m\u001b[0m\u001b[0m\n",
            "\u001b[0;32m<ipython-input-87-a41044d93ca8>\u001b[0m in \u001b[0;36mlocal_search\u001b[0;34m(repo, limit, alpha, beta, biggerlist, repo_found, cont_list)\u001b[0m\n\u001b[1;32m     61\u001b[0m       \u001b[0mprint\u001b[0m\u001b[0;34m(\u001b[0m\u001b[0mrepo2\u001b[0m\u001b[0;34m.\u001b[0m\u001b[0mfull_name\u001b[0m\u001b[0;34m)\u001b[0m\u001b[0;34m\u001b[0m\u001b[0;34m\u001b[0m\u001b[0m\n\u001b[1;32m     62\u001b[0m       \u001b[0mprint\u001b[0m\u001b[0;34m(\u001b[0m\u001b[0;34m\"Limit passing is \"\u001b[0m\u001b[0;34m+\u001b[0m\u001b[0mstr\u001b[0m\u001b[0;34m(\u001b[0m\u001b[0mlimit\u001b[0m\u001b[0;34m-\u001b[0m\u001b[0mlen\u001b[0m\u001b[0;34m(\u001b[0m\u001b[0mbiggerlist\u001b[0m\u001b[0;34m)\u001b[0m\u001b[0;34m)\u001b[0m\u001b[0;34m)\u001b[0m\u001b[0;34m\u001b[0m\u001b[0;34m\u001b[0m\u001b[0m\n\u001b[0;32m---> 63\u001b[0;31m       \u001b[0mrepo_found2\u001b[0m\u001b[0;34m,\u001b[0m\u001b[0mbiggerlist1\u001b[0m\u001b[0;34m=\u001b[0m\u001b[0mlocal_search\u001b[0m\u001b[0;34m(\u001b[0m\u001b[0mrepo2\u001b[0m\u001b[0;34m,\u001b[0m\u001b[0mlimit\u001b[0m\u001b[0;34m,\u001b[0m\u001b[0malpha\u001b[0m\u001b[0;34m,\u001b[0m\u001b[0mbeta\u001b[0m\u001b[0;34m,\u001b[0m\u001b[0mbiggerlist\u001b[0m\u001b[0;34m,\u001b[0m\u001b[0mrepo_found\u001b[0m\u001b[0;34m,\u001b[0m\u001b[0mcont_list\u001b[0m\u001b[0;34m)\u001b[0m\u001b[0;34m\u001b[0m\u001b[0;34m\u001b[0m\u001b[0m\n\u001b[0m\u001b[1;32m     64\u001b[0m       \u001b[0mprint\u001b[0m\u001b[0;34m(\u001b[0m\u001b[0;34m\"hi\"\u001b[0m\u001b[0;34m)\u001b[0m\u001b[0;34m\u001b[0m\u001b[0;34m\u001b[0m\u001b[0m\n\u001b[1;32m     65\u001b[0m       \u001b[0;32mfor\u001b[0m \u001b[0mrepo\u001b[0m \u001b[0;32min\u001b[0m \u001b[0mbiggerlist1\u001b[0m\u001b[0;34m:\u001b[0m\u001b[0;34m\u001b[0m\u001b[0;34m\u001b[0m\u001b[0m\n",
            "\u001b[0;32m<ipython-input-87-a41044d93ca8>\u001b[0m in \u001b[0;36mlocal_search\u001b[0;34m(repo, limit, alpha, beta, biggerlist, repo_found, cont_list)\u001b[0m\n\u001b[1;32m     61\u001b[0m       \u001b[0mprint\u001b[0m\u001b[0;34m(\u001b[0m\u001b[0mrepo2\u001b[0m\u001b[0;34m.\u001b[0m\u001b[0mfull_name\u001b[0m\u001b[0;34m)\u001b[0m\u001b[0;34m\u001b[0m\u001b[0;34m\u001b[0m\u001b[0m\n\u001b[1;32m     62\u001b[0m       \u001b[0mprint\u001b[0m\u001b[0;34m(\u001b[0m\u001b[0;34m\"Limit passing is \"\u001b[0m\u001b[0;34m+\u001b[0m\u001b[0mstr\u001b[0m\u001b[0;34m(\u001b[0m\u001b[0mlimit\u001b[0m\u001b[0;34m-\u001b[0m\u001b[0mlen\u001b[0m\u001b[0;34m(\u001b[0m\u001b[0mbiggerlist\u001b[0m\u001b[0;34m)\u001b[0m\u001b[0;34m)\u001b[0m\u001b[0;34m)\u001b[0m\u001b[0;34m\u001b[0m\u001b[0;34m\u001b[0m\u001b[0m\n\u001b[0;32m---> 63\u001b[0;31m       \u001b[0mrepo_found2\u001b[0m\u001b[0;34m,\u001b[0m\u001b[0mbiggerlist1\u001b[0m\u001b[0;34m=\u001b[0m\u001b[0mlocal_search\u001b[0m\u001b[0;34m(\u001b[0m\u001b[0mrepo2\u001b[0m\u001b[0;34m,\u001b[0m\u001b[0mlimit\u001b[0m\u001b[0;34m,\u001b[0m\u001b[0malpha\u001b[0m\u001b[0;34m,\u001b[0m\u001b[0mbeta\u001b[0m\u001b[0;34m,\u001b[0m\u001b[0mbiggerlist\u001b[0m\u001b[0;34m,\u001b[0m\u001b[0mrepo_found\u001b[0m\u001b[0;34m,\u001b[0m\u001b[0mcont_list\u001b[0m\u001b[0;34m)\u001b[0m\u001b[0;34m\u001b[0m\u001b[0;34m\u001b[0m\u001b[0m\n\u001b[0m\u001b[1;32m     64\u001b[0m       \u001b[0mprint\u001b[0m\u001b[0;34m(\u001b[0m\u001b[0;34m\"hi\"\u001b[0m\u001b[0;34m)\u001b[0m\u001b[0;34m\u001b[0m\u001b[0;34m\u001b[0m\u001b[0m\n\u001b[1;32m     65\u001b[0m       \u001b[0;32mfor\u001b[0m \u001b[0mrepo\u001b[0m \u001b[0;32min\u001b[0m \u001b[0mbiggerlist1\u001b[0m\u001b[0;34m:\u001b[0m\u001b[0;34m\u001b[0m\u001b[0;34m\u001b[0m\u001b[0m\n",
            "\u001b[0;32m<ipython-input-87-a41044d93ca8>\u001b[0m in \u001b[0;36mlocal_search\u001b[0;34m(repo, limit, alpha, beta, biggerlist, repo_found, cont_list)\u001b[0m\n\u001b[1;32m     61\u001b[0m       \u001b[0mprint\u001b[0m\u001b[0;34m(\u001b[0m\u001b[0mrepo2\u001b[0m\u001b[0;34m.\u001b[0m\u001b[0mfull_name\u001b[0m\u001b[0;34m)\u001b[0m\u001b[0;34m\u001b[0m\u001b[0;34m\u001b[0m\u001b[0m\n\u001b[1;32m     62\u001b[0m       \u001b[0mprint\u001b[0m\u001b[0;34m(\u001b[0m\u001b[0;34m\"Limit passing is \"\u001b[0m\u001b[0;34m+\u001b[0m\u001b[0mstr\u001b[0m\u001b[0;34m(\u001b[0m\u001b[0mlimit\u001b[0m\u001b[0;34m-\u001b[0m\u001b[0mlen\u001b[0m\u001b[0;34m(\u001b[0m\u001b[0mbiggerlist\u001b[0m\u001b[0;34m)\u001b[0m\u001b[0;34m)\u001b[0m\u001b[0;34m)\u001b[0m\u001b[0;34m\u001b[0m\u001b[0;34m\u001b[0m\u001b[0m\n\u001b[0;32m---> 63\u001b[0;31m       \u001b[0mrepo_found2\u001b[0m\u001b[0;34m,\u001b[0m\u001b[0mbiggerlist1\u001b[0m\u001b[0;34m=\u001b[0m\u001b[0mlocal_search\u001b[0m\u001b[0;34m(\u001b[0m\u001b[0mrepo2\u001b[0m\u001b[0;34m,\u001b[0m\u001b[0mlimit\u001b[0m\u001b[0;34m,\u001b[0m\u001b[0malpha\u001b[0m\u001b[0;34m,\u001b[0m\u001b[0mbeta\u001b[0m\u001b[0;34m,\u001b[0m\u001b[0mbiggerlist\u001b[0m\u001b[0;34m,\u001b[0m\u001b[0mrepo_found\u001b[0m\u001b[0;34m,\u001b[0m\u001b[0mcont_list\u001b[0m\u001b[0;34m)\u001b[0m\u001b[0;34m\u001b[0m\u001b[0;34m\u001b[0m\u001b[0m\n\u001b[0m\u001b[1;32m     64\u001b[0m       \u001b[0mprint\u001b[0m\u001b[0;34m(\u001b[0m\u001b[0;34m\"hi\"\u001b[0m\u001b[0;34m)\u001b[0m\u001b[0;34m\u001b[0m\u001b[0;34m\u001b[0m\u001b[0m\n\u001b[1;32m     65\u001b[0m       \u001b[0;32mfor\u001b[0m \u001b[0mrepo\u001b[0m \u001b[0;32min\u001b[0m \u001b[0mbiggerlist1\u001b[0m\u001b[0;34m:\u001b[0m\u001b[0;34m\u001b[0m\u001b[0;34m\u001b[0m\u001b[0m\n",
            "\u001b[0;32m<ipython-input-87-a41044d93ca8>\u001b[0m in \u001b[0;36mlocal_search\u001b[0;34m(repo, limit, alpha, beta, biggerlist, repo_found, cont_list)\u001b[0m\n\u001b[1;32m     61\u001b[0m       \u001b[0mprint\u001b[0m\u001b[0;34m(\u001b[0m\u001b[0mrepo2\u001b[0m\u001b[0;34m.\u001b[0m\u001b[0mfull_name\u001b[0m\u001b[0;34m)\u001b[0m\u001b[0;34m\u001b[0m\u001b[0;34m\u001b[0m\u001b[0m\n\u001b[1;32m     62\u001b[0m       \u001b[0mprint\u001b[0m\u001b[0;34m(\u001b[0m\u001b[0;34m\"Limit passing is \"\u001b[0m\u001b[0;34m+\u001b[0m\u001b[0mstr\u001b[0m\u001b[0;34m(\u001b[0m\u001b[0mlimit\u001b[0m\u001b[0;34m-\u001b[0m\u001b[0mlen\u001b[0m\u001b[0;34m(\u001b[0m\u001b[0mbiggerlist\u001b[0m\u001b[0;34m)\u001b[0m\u001b[0;34m)\u001b[0m\u001b[0;34m)\u001b[0m\u001b[0;34m\u001b[0m\u001b[0;34m\u001b[0m\u001b[0m\n\u001b[0;32m---> 63\u001b[0;31m       \u001b[0mrepo_found2\u001b[0m\u001b[0;34m,\u001b[0m\u001b[0mbiggerlist1\u001b[0m\u001b[0;34m=\u001b[0m\u001b[0mlocal_search\u001b[0m\u001b[0;34m(\u001b[0m\u001b[0mrepo2\u001b[0m\u001b[0;34m,\u001b[0m\u001b[0mlimit\u001b[0m\u001b[0;34m,\u001b[0m\u001b[0malpha\u001b[0m\u001b[0;34m,\u001b[0m\u001b[0mbeta\u001b[0m\u001b[0;34m,\u001b[0m\u001b[0mbiggerlist\u001b[0m\u001b[0;34m,\u001b[0m\u001b[0mrepo_found\u001b[0m\u001b[0;34m,\u001b[0m\u001b[0mcont_list\u001b[0m\u001b[0;34m)\u001b[0m\u001b[0;34m\u001b[0m\u001b[0;34m\u001b[0m\u001b[0m\n\u001b[0m\u001b[1;32m     64\u001b[0m       \u001b[0mprint\u001b[0m\u001b[0;34m(\u001b[0m\u001b[0;34m\"hi\"\u001b[0m\u001b[0;34m)\u001b[0m\u001b[0;34m\u001b[0m\u001b[0;34m\u001b[0m\u001b[0m\n\u001b[1;32m     65\u001b[0m       \u001b[0;32mfor\u001b[0m \u001b[0mrepo\u001b[0m \u001b[0;32min\u001b[0m \u001b[0mbiggerlist1\u001b[0m\u001b[0;34m:\u001b[0m\u001b[0;34m\u001b[0m\u001b[0;34m\u001b[0m\u001b[0m\n",
            "\u001b[0;32m<ipython-input-87-a41044d93ca8>\u001b[0m in \u001b[0;36mlocal_search\u001b[0;34m(repo, limit, alpha, beta, biggerlist, repo_found, cont_list)\u001b[0m\n\u001b[1;32m     61\u001b[0m       \u001b[0mprint\u001b[0m\u001b[0;34m(\u001b[0m\u001b[0mrepo2\u001b[0m\u001b[0;34m.\u001b[0m\u001b[0mfull_name\u001b[0m\u001b[0;34m)\u001b[0m\u001b[0;34m\u001b[0m\u001b[0;34m\u001b[0m\u001b[0m\n\u001b[1;32m     62\u001b[0m       \u001b[0mprint\u001b[0m\u001b[0;34m(\u001b[0m\u001b[0;34m\"Limit passing is \"\u001b[0m\u001b[0;34m+\u001b[0m\u001b[0mstr\u001b[0m\u001b[0;34m(\u001b[0m\u001b[0mlimit\u001b[0m\u001b[0;34m-\u001b[0m\u001b[0mlen\u001b[0m\u001b[0;34m(\u001b[0m\u001b[0mbiggerlist\u001b[0m\u001b[0;34m)\u001b[0m\u001b[0;34m)\u001b[0m\u001b[0;34m)\u001b[0m\u001b[0;34m\u001b[0m\u001b[0;34m\u001b[0m\u001b[0m\n\u001b[0;32m---> 63\u001b[0;31m       \u001b[0mrepo_found2\u001b[0m\u001b[0;34m,\u001b[0m\u001b[0mbiggerlist1\u001b[0m\u001b[0;34m=\u001b[0m\u001b[0mlocal_search\u001b[0m\u001b[0;34m(\u001b[0m\u001b[0mrepo2\u001b[0m\u001b[0;34m,\u001b[0m\u001b[0mlimit\u001b[0m\u001b[0;34m,\u001b[0m\u001b[0malpha\u001b[0m\u001b[0;34m,\u001b[0m\u001b[0mbeta\u001b[0m\u001b[0;34m,\u001b[0m\u001b[0mbiggerlist\u001b[0m\u001b[0;34m,\u001b[0m\u001b[0mrepo_found\u001b[0m\u001b[0;34m,\u001b[0m\u001b[0mcont_list\u001b[0m\u001b[0;34m)\u001b[0m\u001b[0;34m\u001b[0m\u001b[0;34m\u001b[0m\u001b[0m\n\u001b[0m\u001b[1;32m     64\u001b[0m       \u001b[0mprint\u001b[0m\u001b[0;34m(\u001b[0m\u001b[0;34m\"hi\"\u001b[0m\u001b[0;34m)\u001b[0m\u001b[0;34m\u001b[0m\u001b[0;34m\u001b[0m\u001b[0m\n\u001b[1;32m     65\u001b[0m       \u001b[0;32mfor\u001b[0m \u001b[0mrepo\u001b[0m \u001b[0;32min\u001b[0m \u001b[0mbiggerlist1\u001b[0m\u001b[0;34m:\u001b[0m\u001b[0;34m\u001b[0m\u001b[0;34m\u001b[0m\u001b[0m\n",
            "\u001b[0;32m<ipython-input-87-a41044d93ca8>\u001b[0m in \u001b[0;36mlocal_search\u001b[0;34m(repo, limit, alpha, beta, biggerlist, repo_found, cont_list)\u001b[0m\n\u001b[1;32m     61\u001b[0m       \u001b[0mprint\u001b[0m\u001b[0;34m(\u001b[0m\u001b[0mrepo2\u001b[0m\u001b[0;34m.\u001b[0m\u001b[0mfull_name\u001b[0m\u001b[0;34m)\u001b[0m\u001b[0;34m\u001b[0m\u001b[0;34m\u001b[0m\u001b[0m\n\u001b[1;32m     62\u001b[0m       \u001b[0mprint\u001b[0m\u001b[0;34m(\u001b[0m\u001b[0;34m\"Limit passing is \"\u001b[0m\u001b[0;34m+\u001b[0m\u001b[0mstr\u001b[0m\u001b[0;34m(\u001b[0m\u001b[0mlimit\u001b[0m\u001b[0;34m-\u001b[0m\u001b[0mlen\u001b[0m\u001b[0;34m(\u001b[0m\u001b[0mbiggerlist\u001b[0m\u001b[0;34m)\u001b[0m\u001b[0;34m)\u001b[0m\u001b[0;34m)\u001b[0m\u001b[0;34m\u001b[0m\u001b[0;34m\u001b[0m\u001b[0m\n\u001b[0;32m---> 63\u001b[0;31m       \u001b[0mrepo_found2\u001b[0m\u001b[0;34m,\u001b[0m\u001b[0mbiggerlist1\u001b[0m\u001b[0;34m=\u001b[0m\u001b[0mlocal_search\u001b[0m\u001b[0;34m(\u001b[0m\u001b[0mrepo2\u001b[0m\u001b[0;34m,\u001b[0m\u001b[0mlimit\u001b[0m\u001b[0;34m,\u001b[0m\u001b[0malpha\u001b[0m\u001b[0;34m,\u001b[0m\u001b[0mbeta\u001b[0m\u001b[0;34m,\u001b[0m\u001b[0mbiggerlist\u001b[0m\u001b[0;34m,\u001b[0m\u001b[0mrepo_found\u001b[0m\u001b[0;34m,\u001b[0m\u001b[0mcont_list\u001b[0m\u001b[0;34m)\u001b[0m\u001b[0;34m\u001b[0m\u001b[0;34m\u001b[0m\u001b[0m\n\u001b[0m\u001b[1;32m     64\u001b[0m       \u001b[0mprint\u001b[0m\u001b[0;34m(\u001b[0m\u001b[0;34m\"hi\"\u001b[0m\u001b[0;34m)\u001b[0m\u001b[0;34m\u001b[0m\u001b[0;34m\u001b[0m\u001b[0m\n\u001b[1;32m     65\u001b[0m       \u001b[0;32mfor\u001b[0m \u001b[0mrepo\u001b[0m \u001b[0;32min\u001b[0m \u001b[0mbiggerlist1\u001b[0m\u001b[0;34m:\u001b[0m\u001b[0;34m\u001b[0m\u001b[0;34m\u001b[0m\u001b[0m\n",
            "\u001b[0;32m<ipython-input-87-a41044d93ca8>\u001b[0m in \u001b[0;36mlocal_search\u001b[0;34m(repo, limit, alpha, beta, biggerlist, repo_found, cont_list)\u001b[0m\n\u001b[1;32m     61\u001b[0m       \u001b[0mprint\u001b[0m\u001b[0;34m(\u001b[0m\u001b[0mrepo2\u001b[0m\u001b[0;34m.\u001b[0m\u001b[0mfull_name\u001b[0m\u001b[0;34m)\u001b[0m\u001b[0;34m\u001b[0m\u001b[0;34m\u001b[0m\u001b[0m\n\u001b[1;32m     62\u001b[0m       \u001b[0mprint\u001b[0m\u001b[0;34m(\u001b[0m\u001b[0;34m\"Limit passing is \"\u001b[0m\u001b[0;34m+\u001b[0m\u001b[0mstr\u001b[0m\u001b[0;34m(\u001b[0m\u001b[0mlimit\u001b[0m\u001b[0;34m-\u001b[0m\u001b[0mlen\u001b[0m\u001b[0;34m(\u001b[0m\u001b[0mbiggerlist\u001b[0m\u001b[0;34m)\u001b[0m\u001b[0;34m)\u001b[0m\u001b[0;34m)\u001b[0m\u001b[0;34m\u001b[0m\u001b[0;34m\u001b[0m\u001b[0m\n\u001b[0;32m---> 63\u001b[0;31m       \u001b[0mrepo_found2\u001b[0m\u001b[0;34m,\u001b[0m\u001b[0mbiggerlist1\u001b[0m\u001b[0;34m=\u001b[0m\u001b[0mlocal_search\u001b[0m\u001b[0;34m(\u001b[0m\u001b[0mrepo2\u001b[0m\u001b[0;34m,\u001b[0m\u001b[0mlimit\u001b[0m\u001b[0;34m,\u001b[0m\u001b[0malpha\u001b[0m\u001b[0;34m,\u001b[0m\u001b[0mbeta\u001b[0m\u001b[0;34m,\u001b[0m\u001b[0mbiggerlist\u001b[0m\u001b[0;34m,\u001b[0m\u001b[0mrepo_found\u001b[0m\u001b[0;34m,\u001b[0m\u001b[0mcont_list\u001b[0m\u001b[0;34m)\u001b[0m\u001b[0;34m\u001b[0m\u001b[0;34m\u001b[0m\u001b[0m\n\u001b[0m\u001b[1;32m     64\u001b[0m       \u001b[0mprint\u001b[0m\u001b[0;34m(\u001b[0m\u001b[0;34m\"hi\"\u001b[0m\u001b[0;34m)\u001b[0m\u001b[0;34m\u001b[0m\u001b[0;34m\u001b[0m\u001b[0m\n\u001b[1;32m     65\u001b[0m       \u001b[0;32mfor\u001b[0m \u001b[0mrepo\u001b[0m \u001b[0;32min\u001b[0m \u001b[0mbiggerlist1\u001b[0m\u001b[0;34m:\u001b[0m\u001b[0;34m\u001b[0m\u001b[0;34m\u001b[0m\u001b[0m\n",
            "\u001b[0;32m<ipython-input-87-a41044d93ca8>\u001b[0m in \u001b[0;36mlocal_search\u001b[0;34m(repo, limit, alpha, beta, biggerlist, repo_found, cont_list)\u001b[0m\n\u001b[1;32m     61\u001b[0m       \u001b[0mprint\u001b[0m\u001b[0;34m(\u001b[0m\u001b[0mrepo2\u001b[0m\u001b[0;34m.\u001b[0m\u001b[0mfull_name\u001b[0m\u001b[0;34m)\u001b[0m\u001b[0;34m\u001b[0m\u001b[0;34m\u001b[0m\u001b[0m\n\u001b[1;32m     62\u001b[0m       \u001b[0mprint\u001b[0m\u001b[0;34m(\u001b[0m\u001b[0;34m\"Limit passing is \"\u001b[0m\u001b[0;34m+\u001b[0m\u001b[0mstr\u001b[0m\u001b[0;34m(\u001b[0m\u001b[0mlimit\u001b[0m\u001b[0;34m-\u001b[0m\u001b[0mlen\u001b[0m\u001b[0;34m(\u001b[0m\u001b[0mbiggerlist\u001b[0m\u001b[0;34m)\u001b[0m\u001b[0;34m)\u001b[0m\u001b[0;34m)\u001b[0m\u001b[0;34m\u001b[0m\u001b[0;34m\u001b[0m\u001b[0m\n\u001b[0;32m---> 63\u001b[0;31m       \u001b[0mrepo_found2\u001b[0m\u001b[0;34m,\u001b[0m\u001b[0mbiggerlist1\u001b[0m\u001b[0;34m=\u001b[0m\u001b[0mlocal_search\u001b[0m\u001b[0;34m(\u001b[0m\u001b[0mrepo2\u001b[0m\u001b[0;34m,\u001b[0m\u001b[0mlimit\u001b[0m\u001b[0;34m,\u001b[0m\u001b[0malpha\u001b[0m\u001b[0;34m,\u001b[0m\u001b[0mbeta\u001b[0m\u001b[0;34m,\u001b[0m\u001b[0mbiggerlist\u001b[0m\u001b[0;34m,\u001b[0m\u001b[0mrepo_found\u001b[0m\u001b[0;34m,\u001b[0m\u001b[0mcont_list\u001b[0m\u001b[0;34m)\u001b[0m\u001b[0;34m\u001b[0m\u001b[0;34m\u001b[0m\u001b[0m\n\u001b[0m\u001b[1;32m     64\u001b[0m       \u001b[0mprint\u001b[0m\u001b[0;34m(\u001b[0m\u001b[0;34m\"hi\"\u001b[0m\u001b[0;34m)\u001b[0m\u001b[0;34m\u001b[0m\u001b[0;34m\u001b[0m\u001b[0m\n\u001b[1;32m     65\u001b[0m       \u001b[0;32mfor\u001b[0m \u001b[0mrepo\u001b[0m \u001b[0;32min\u001b[0m \u001b[0mbiggerlist1\u001b[0m\u001b[0;34m:\u001b[0m\u001b[0;34m\u001b[0m\u001b[0;34m\u001b[0m\u001b[0m\n",
            "\u001b[0;32m<ipython-input-87-a41044d93ca8>\u001b[0m in \u001b[0;36mlocal_search\u001b[0;34m(repo, limit, alpha, beta, biggerlist, repo_found, cont_list)\u001b[0m\n\u001b[1;32m     61\u001b[0m       \u001b[0mprint\u001b[0m\u001b[0;34m(\u001b[0m\u001b[0mrepo2\u001b[0m\u001b[0;34m.\u001b[0m\u001b[0mfull_name\u001b[0m\u001b[0;34m)\u001b[0m\u001b[0;34m\u001b[0m\u001b[0;34m\u001b[0m\u001b[0m\n\u001b[1;32m     62\u001b[0m       \u001b[0mprint\u001b[0m\u001b[0;34m(\u001b[0m\u001b[0;34m\"Limit passing is \"\u001b[0m\u001b[0;34m+\u001b[0m\u001b[0mstr\u001b[0m\u001b[0;34m(\u001b[0m\u001b[0mlimit\u001b[0m\u001b[0;34m-\u001b[0m\u001b[0mlen\u001b[0m\u001b[0;34m(\u001b[0m\u001b[0mbiggerlist\u001b[0m\u001b[0;34m)\u001b[0m\u001b[0;34m)\u001b[0m\u001b[0;34m)\u001b[0m\u001b[0;34m\u001b[0m\u001b[0;34m\u001b[0m\u001b[0m\n\u001b[0;32m---> 63\u001b[0;31m       \u001b[0mrepo_found2\u001b[0m\u001b[0;34m,\u001b[0m\u001b[0mbiggerlist1\u001b[0m\u001b[0;34m=\u001b[0m\u001b[0mlocal_search\u001b[0m\u001b[0;34m(\u001b[0m\u001b[0mrepo2\u001b[0m\u001b[0;34m,\u001b[0m\u001b[0mlimit\u001b[0m\u001b[0;34m,\u001b[0m\u001b[0malpha\u001b[0m\u001b[0;34m,\u001b[0m\u001b[0mbeta\u001b[0m\u001b[0;34m,\u001b[0m\u001b[0mbiggerlist\u001b[0m\u001b[0;34m,\u001b[0m\u001b[0mrepo_found\u001b[0m\u001b[0;34m,\u001b[0m\u001b[0mcont_list\u001b[0m\u001b[0;34m)\u001b[0m\u001b[0;34m\u001b[0m\u001b[0;34m\u001b[0m\u001b[0m\n\u001b[0m\u001b[1;32m     64\u001b[0m       \u001b[0mprint\u001b[0m\u001b[0;34m(\u001b[0m\u001b[0;34m\"hi\"\u001b[0m\u001b[0;34m)\u001b[0m\u001b[0;34m\u001b[0m\u001b[0;34m\u001b[0m\u001b[0m\n\u001b[1;32m     65\u001b[0m       \u001b[0;32mfor\u001b[0m \u001b[0mrepo\u001b[0m \u001b[0;32min\u001b[0m \u001b[0mbiggerlist1\u001b[0m\u001b[0;34m:\u001b[0m\u001b[0;34m\u001b[0m\u001b[0;34m\u001b[0m\u001b[0m\n",
            "\u001b[0;32m<ipython-input-87-a41044d93ca8>\u001b[0m in \u001b[0;36mlocal_search\u001b[0;34m(repo, limit, alpha, beta, biggerlist, repo_found, cont_list)\u001b[0m\n\u001b[1;32m     61\u001b[0m       \u001b[0mprint\u001b[0m\u001b[0;34m(\u001b[0m\u001b[0mrepo2\u001b[0m\u001b[0;34m.\u001b[0m\u001b[0mfull_name\u001b[0m\u001b[0;34m)\u001b[0m\u001b[0;34m\u001b[0m\u001b[0;34m\u001b[0m\u001b[0m\n\u001b[1;32m     62\u001b[0m       \u001b[0mprint\u001b[0m\u001b[0;34m(\u001b[0m\u001b[0;34m\"Limit passing is \"\u001b[0m\u001b[0;34m+\u001b[0m\u001b[0mstr\u001b[0m\u001b[0;34m(\u001b[0m\u001b[0mlimit\u001b[0m\u001b[0;34m-\u001b[0m\u001b[0mlen\u001b[0m\u001b[0;34m(\u001b[0m\u001b[0mbiggerlist\u001b[0m\u001b[0;34m)\u001b[0m\u001b[0;34m)\u001b[0m\u001b[0;34m)\u001b[0m\u001b[0;34m\u001b[0m\u001b[0;34m\u001b[0m\u001b[0m\n\u001b[0;32m---> 63\u001b[0;31m       \u001b[0mrepo_found2\u001b[0m\u001b[0;34m,\u001b[0m\u001b[0mbiggerlist1\u001b[0m\u001b[0;34m=\u001b[0m\u001b[0mlocal_search\u001b[0m\u001b[0;34m(\u001b[0m\u001b[0mrepo2\u001b[0m\u001b[0;34m,\u001b[0m\u001b[0mlimit\u001b[0m\u001b[0;34m,\u001b[0m\u001b[0malpha\u001b[0m\u001b[0;34m,\u001b[0m\u001b[0mbeta\u001b[0m\u001b[0;34m,\u001b[0m\u001b[0mbiggerlist\u001b[0m\u001b[0;34m,\u001b[0m\u001b[0mrepo_found\u001b[0m\u001b[0;34m,\u001b[0m\u001b[0mcont_list\u001b[0m\u001b[0;34m)\u001b[0m\u001b[0;34m\u001b[0m\u001b[0;34m\u001b[0m\u001b[0m\n\u001b[0m\u001b[1;32m     64\u001b[0m       \u001b[0mprint\u001b[0m\u001b[0;34m(\u001b[0m\u001b[0;34m\"hi\"\u001b[0m\u001b[0;34m)\u001b[0m\u001b[0;34m\u001b[0m\u001b[0;34m\u001b[0m\u001b[0m\n\u001b[1;32m     65\u001b[0m       \u001b[0;32mfor\u001b[0m \u001b[0mrepo\u001b[0m \u001b[0;32min\u001b[0m \u001b[0mbiggerlist1\u001b[0m\u001b[0;34m:\u001b[0m\u001b[0;34m\u001b[0m\u001b[0;34m\u001b[0m\u001b[0m\n",
            "\u001b[0;32m<ipython-input-87-a41044d93ca8>\u001b[0m in \u001b[0;36mlocal_search\u001b[0;34m(repo, limit, alpha, beta, biggerlist, repo_found, cont_list)\u001b[0m\n\u001b[1;32m     61\u001b[0m       \u001b[0mprint\u001b[0m\u001b[0;34m(\u001b[0m\u001b[0mrepo2\u001b[0m\u001b[0;34m.\u001b[0m\u001b[0mfull_name\u001b[0m\u001b[0;34m)\u001b[0m\u001b[0;34m\u001b[0m\u001b[0;34m\u001b[0m\u001b[0m\n\u001b[1;32m     62\u001b[0m       \u001b[0mprint\u001b[0m\u001b[0;34m(\u001b[0m\u001b[0;34m\"Limit passing is \"\u001b[0m\u001b[0;34m+\u001b[0m\u001b[0mstr\u001b[0m\u001b[0;34m(\u001b[0m\u001b[0mlimit\u001b[0m\u001b[0;34m-\u001b[0m\u001b[0mlen\u001b[0m\u001b[0;34m(\u001b[0m\u001b[0mbiggerlist\u001b[0m\u001b[0;34m)\u001b[0m\u001b[0;34m)\u001b[0m\u001b[0;34m)\u001b[0m\u001b[0;34m\u001b[0m\u001b[0;34m\u001b[0m\u001b[0m\n\u001b[0;32m---> 63\u001b[0;31m       \u001b[0mrepo_found2\u001b[0m\u001b[0;34m,\u001b[0m\u001b[0mbiggerlist1\u001b[0m\u001b[0;34m=\u001b[0m\u001b[0mlocal_search\u001b[0m\u001b[0;34m(\u001b[0m\u001b[0mrepo2\u001b[0m\u001b[0;34m,\u001b[0m\u001b[0mlimit\u001b[0m\u001b[0;34m,\u001b[0m\u001b[0malpha\u001b[0m\u001b[0;34m,\u001b[0m\u001b[0mbeta\u001b[0m\u001b[0;34m,\u001b[0m\u001b[0mbiggerlist\u001b[0m\u001b[0;34m,\u001b[0m\u001b[0mrepo_found\u001b[0m\u001b[0;34m,\u001b[0m\u001b[0mcont_list\u001b[0m\u001b[0;34m)\u001b[0m\u001b[0;34m\u001b[0m\u001b[0;34m\u001b[0m\u001b[0m\n\u001b[0m\u001b[1;32m     64\u001b[0m       \u001b[0mprint\u001b[0m\u001b[0;34m(\u001b[0m\u001b[0;34m\"hi\"\u001b[0m\u001b[0;34m)\u001b[0m\u001b[0;34m\u001b[0m\u001b[0;34m\u001b[0m\u001b[0m\n\u001b[1;32m     65\u001b[0m       \u001b[0;32mfor\u001b[0m \u001b[0mrepo\u001b[0m \u001b[0;32min\u001b[0m \u001b[0mbiggerlist1\u001b[0m\u001b[0;34m:\u001b[0m\u001b[0;34m\u001b[0m\u001b[0;34m\u001b[0m\u001b[0m\n",
            "\u001b[0;32m<ipython-input-87-a41044d93ca8>\u001b[0m in \u001b[0;36mlocal_search\u001b[0;34m(repo, limit, alpha, beta, biggerlist, repo_found, cont_list)\u001b[0m\n\u001b[1;32m     61\u001b[0m       \u001b[0mprint\u001b[0m\u001b[0;34m(\u001b[0m\u001b[0mrepo2\u001b[0m\u001b[0;34m.\u001b[0m\u001b[0mfull_name\u001b[0m\u001b[0;34m)\u001b[0m\u001b[0;34m\u001b[0m\u001b[0;34m\u001b[0m\u001b[0m\n\u001b[1;32m     62\u001b[0m       \u001b[0mprint\u001b[0m\u001b[0;34m(\u001b[0m\u001b[0;34m\"Limit passing is \"\u001b[0m\u001b[0;34m+\u001b[0m\u001b[0mstr\u001b[0m\u001b[0;34m(\u001b[0m\u001b[0mlimit\u001b[0m\u001b[0;34m-\u001b[0m\u001b[0mlen\u001b[0m\u001b[0;34m(\u001b[0m\u001b[0mbiggerlist\u001b[0m\u001b[0;34m)\u001b[0m\u001b[0;34m)\u001b[0m\u001b[0;34m)\u001b[0m\u001b[0;34m\u001b[0m\u001b[0;34m\u001b[0m\u001b[0m\n\u001b[0;32m---> 63\u001b[0;31m       \u001b[0mrepo_found2\u001b[0m\u001b[0;34m,\u001b[0m\u001b[0mbiggerlist1\u001b[0m\u001b[0;34m=\u001b[0m\u001b[0mlocal_search\u001b[0m\u001b[0;34m(\u001b[0m\u001b[0mrepo2\u001b[0m\u001b[0;34m,\u001b[0m\u001b[0mlimit\u001b[0m\u001b[0;34m,\u001b[0m\u001b[0malpha\u001b[0m\u001b[0;34m,\u001b[0m\u001b[0mbeta\u001b[0m\u001b[0;34m,\u001b[0m\u001b[0mbiggerlist\u001b[0m\u001b[0;34m,\u001b[0m\u001b[0mrepo_found\u001b[0m\u001b[0;34m,\u001b[0m\u001b[0mcont_list\u001b[0m\u001b[0;34m)\u001b[0m\u001b[0;34m\u001b[0m\u001b[0;34m\u001b[0m\u001b[0m\n\u001b[0m\u001b[1;32m     64\u001b[0m       \u001b[0mprint\u001b[0m\u001b[0;34m(\u001b[0m\u001b[0;34m\"hi\"\u001b[0m\u001b[0;34m)\u001b[0m\u001b[0;34m\u001b[0m\u001b[0;34m\u001b[0m\u001b[0m\n\u001b[1;32m     65\u001b[0m       \u001b[0;32mfor\u001b[0m \u001b[0mrepo\u001b[0m \u001b[0;32min\u001b[0m \u001b[0mbiggerlist1\u001b[0m\u001b[0;34m:\u001b[0m\u001b[0;34m\u001b[0m\u001b[0;34m\u001b[0m\u001b[0m\n",
            "\u001b[0;32m<ipython-input-87-a41044d93ca8>\u001b[0m in \u001b[0;36mlocal_search\u001b[0;34m(repo, limit, alpha, beta, biggerlist, repo_found, cont_list)\u001b[0m\n\u001b[1;32m     61\u001b[0m       \u001b[0mprint\u001b[0m\u001b[0;34m(\u001b[0m\u001b[0mrepo2\u001b[0m\u001b[0;34m.\u001b[0m\u001b[0mfull_name\u001b[0m\u001b[0;34m)\u001b[0m\u001b[0;34m\u001b[0m\u001b[0;34m\u001b[0m\u001b[0m\n\u001b[1;32m     62\u001b[0m       \u001b[0mprint\u001b[0m\u001b[0;34m(\u001b[0m\u001b[0;34m\"Limit passing is \"\u001b[0m\u001b[0;34m+\u001b[0m\u001b[0mstr\u001b[0m\u001b[0;34m(\u001b[0m\u001b[0mlimit\u001b[0m\u001b[0;34m-\u001b[0m\u001b[0mlen\u001b[0m\u001b[0;34m(\u001b[0m\u001b[0mbiggerlist\u001b[0m\u001b[0;34m)\u001b[0m\u001b[0;34m)\u001b[0m\u001b[0;34m)\u001b[0m\u001b[0;34m\u001b[0m\u001b[0;34m\u001b[0m\u001b[0m\n\u001b[0;32m---> 63\u001b[0;31m       \u001b[0mrepo_found2\u001b[0m\u001b[0;34m,\u001b[0m\u001b[0mbiggerlist1\u001b[0m\u001b[0;34m=\u001b[0m\u001b[0mlocal_search\u001b[0m\u001b[0;34m(\u001b[0m\u001b[0mrepo2\u001b[0m\u001b[0;34m,\u001b[0m\u001b[0mlimit\u001b[0m\u001b[0;34m,\u001b[0m\u001b[0malpha\u001b[0m\u001b[0;34m,\u001b[0m\u001b[0mbeta\u001b[0m\u001b[0;34m,\u001b[0m\u001b[0mbiggerlist\u001b[0m\u001b[0;34m,\u001b[0m\u001b[0mrepo_found\u001b[0m\u001b[0;34m,\u001b[0m\u001b[0mcont_list\u001b[0m\u001b[0;34m)\u001b[0m\u001b[0;34m\u001b[0m\u001b[0;34m\u001b[0m\u001b[0m\n\u001b[0m\u001b[1;32m     64\u001b[0m       \u001b[0mprint\u001b[0m\u001b[0;34m(\u001b[0m\u001b[0;34m\"hi\"\u001b[0m\u001b[0;34m)\u001b[0m\u001b[0;34m\u001b[0m\u001b[0;34m\u001b[0m\u001b[0m\n\u001b[1;32m     65\u001b[0m       \u001b[0;32mfor\u001b[0m \u001b[0mrepo\u001b[0m \u001b[0;32min\u001b[0m \u001b[0mbiggerlist1\u001b[0m\u001b[0;34m:\u001b[0m\u001b[0;34m\u001b[0m\u001b[0;34m\u001b[0m\u001b[0m\n",
            "\u001b[0;32m<ipython-input-87-a41044d93ca8>\u001b[0m in \u001b[0;36mlocal_search\u001b[0;34m(repo, limit, alpha, beta, biggerlist, repo_found, cont_list)\u001b[0m\n\u001b[1;32m     61\u001b[0m       \u001b[0mprint\u001b[0m\u001b[0;34m(\u001b[0m\u001b[0mrepo2\u001b[0m\u001b[0;34m.\u001b[0m\u001b[0mfull_name\u001b[0m\u001b[0;34m)\u001b[0m\u001b[0;34m\u001b[0m\u001b[0;34m\u001b[0m\u001b[0m\n\u001b[1;32m     62\u001b[0m       \u001b[0mprint\u001b[0m\u001b[0;34m(\u001b[0m\u001b[0;34m\"Limit passing is \"\u001b[0m\u001b[0;34m+\u001b[0m\u001b[0mstr\u001b[0m\u001b[0;34m(\u001b[0m\u001b[0mlimit\u001b[0m\u001b[0;34m-\u001b[0m\u001b[0mlen\u001b[0m\u001b[0;34m(\u001b[0m\u001b[0mbiggerlist\u001b[0m\u001b[0;34m)\u001b[0m\u001b[0;34m)\u001b[0m\u001b[0;34m)\u001b[0m\u001b[0;34m\u001b[0m\u001b[0;34m\u001b[0m\u001b[0m\n\u001b[0;32m---> 63\u001b[0;31m       \u001b[0mrepo_found2\u001b[0m\u001b[0;34m,\u001b[0m\u001b[0mbiggerlist1\u001b[0m\u001b[0;34m=\u001b[0m\u001b[0mlocal_search\u001b[0m\u001b[0;34m(\u001b[0m\u001b[0mrepo2\u001b[0m\u001b[0;34m,\u001b[0m\u001b[0mlimit\u001b[0m\u001b[0;34m,\u001b[0m\u001b[0malpha\u001b[0m\u001b[0;34m,\u001b[0m\u001b[0mbeta\u001b[0m\u001b[0;34m,\u001b[0m\u001b[0mbiggerlist\u001b[0m\u001b[0;34m,\u001b[0m\u001b[0mrepo_found\u001b[0m\u001b[0;34m,\u001b[0m\u001b[0mcont_list\u001b[0m\u001b[0;34m)\u001b[0m\u001b[0;34m\u001b[0m\u001b[0;34m\u001b[0m\u001b[0m\n\u001b[0m\u001b[1;32m     64\u001b[0m       \u001b[0mprint\u001b[0m\u001b[0;34m(\u001b[0m\u001b[0;34m\"hi\"\u001b[0m\u001b[0;34m)\u001b[0m\u001b[0;34m\u001b[0m\u001b[0;34m\u001b[0m\u001b[0m\n\u001b[1;32m     65\u001b[0m       \u001b[0;32mfor\u001b[0m \u001b[0mrepo\u001b[0m \u001b[0;32min\u001b[0m \u001b[0mbiggerlist1\u001b[0m\u001b[0;34m:\u001b[0m\u001b[0;34m\u001b[0m\u001b[0;34m\u001b[0m\u001b[0m\n",
            "\u001b[0;32m<ipython-input-87-a41044d93ca8>\u001b[0m in \u001b[0;36mlocal_search\u001b[0;34m(repo, limit, alpha, beta, biggerlist, repo_found, cont_list)\u001b[0m\n\u001b[1;32m     61\u001b[0m       \u001b[0mprint\u001b[0m\u001b[0;34m(\u001b[0m\u001b[0mrepo2\u001b[0m\u001b[0;34m.\u001b[0m\u001b[0mfull_name\u001b[0m\u001b[0;34m)\u001b[0m\u001b[0;34m\u001b[0m\u001b[0;34m\u001b[0m\u001b[0m\n\u001b[1;32m     62\u001b[0m       \u001b[0mprint\u001b[0m\u001b[0;34m(\u001b[0m\u001b[0;34m\"Limit passing is \"\u001b[0m\u001b[0;34m+\u001b[0m\u001b[0mstr\u001b[0m\u001b[0;34m(\u001b[0m\u001b[0mlimit\u001b[0m\u001b[0;34m-\u001b[0m\u001b[0mlen\u001b[0m\u001b[0;34m(\u001b[0m\u001b[0mbiggerlist\u001b[0m\u001b[0;34m)\u001b[0m\u001b[0;34m)\u001b[0m\u001b[0;34m)\u001b[0m\u001b[0;34m\u001b[0m\u001b[0;34m\u001b[0m\u001b[0m\n\u001b[0;32m---> 63\u001b[0;31m       \u001b[0mrepo_found2\u001b[0m\u001b[0;34m,\u001b[0m\u001b[0mbiggerlist1\u001b[0m\u001b[0;34m=\u001b[0m\u001b[0mlocal_search\u001b[0m\u001b[0;34m(\u001b[0m\u001b[0mrepo2\u001b[0m\u001b[0;34m,\u001b[0m\u001b[0mlimit\u001b[0m\u001b[0;34m,\u001b[0m\u001b[0malpha\u001b[0m\u001b[0;34m,\u001b[0m\u001b[0mbeta\u001b[0m\u001b[0;34m,\u001b[0m\u001b[0mbiggerlist\u001b[0m\u001b[0;34m,\u001b[0m\u001b[0mrepo_found\u001b[0m\u001b[0;34m,\u001b[0m\u001b[0mcont_list\u001b[0m\u001b[0;34m)\u001b[0m\u001b[0;34m\u001b[0m\u001b[0;34m\u001b[0m\u001b[0m\n\u001b[0m\u001b[1;32m     64\u001b[0m       \u001b[0mprint\u001b[0m\u001b[0;34m(\u001b[0m\u001b[0;34m\"hi\"\u001b[0m\u001b[0;34m)\u001b[0m\u001b[0;34m\u001b[0m\u001b[0;34m\u001b[0m\u001b[0m\n\u001b[1;32m     65\u001b[0m       \u001b[0;32mfor\u001b[0m \u001b[0mrepo\u001b[0m \u001b[0;32min\u001b[0m \u001b[0mbiggerlist1\u001b[0m\u001b[0;34m:\u001b[0m\u001b[0;34m\u001b[0m\u001b[0;34m\u001b[0m\u001b[0m\n",
            "\u001b[0;32m<ipython-input-87-a41044d93ca8>\u001b[0m in \u001b[0;36mlocal_search\u001b[0;34m(repo, limit, alpha, beta, biggerlist, repo_found, cont_list)\u001b[0m\n\u001b[1;32m     61\u001b[0m       \u001b[0mprint\u001b[0m\u001b[0;34m(\u001b[0m\u001b[0mrepo2\u001b[0m\u001b[0;34m.\u001b[0m\u001b[0mfull_name\u001b[0m\u001b[0;34m)\u001b[0m\u001b[0;34m\u001b[0m\u001b[0;34m\u001b[0m\u001b[0m\n\u001b[1;32m     62\u001b[0m       \u001b[0mprint\u001b[0m\u001b[0;34m(\u001b[0m\u001b[0;34m\"Limit passing is \"\u001b[0m\u001b[0;34m+\u001b[0m\u001b[0mstr\u001b[0m\u001b[0;34m(\u001b[0m\u001b[0mlimit\u001b[0m\u001b[0;34m-\u001b[0m\u001b[0mlen\u001b[0m\u001b[0;34m(\u001b[0m\u001b[0mbiggerlist\u001b[0m\u001b[0;34m)\u001b[0m\u001b[0;34m)\u001b[0m\u001b[0;34m)\u001b[0m\u001b[0;34m\u001b[0m\u001b[0;34m\u001b[0m\u001b[0m\n\u001b[0;32m---> 63\u001b[0;31m       \u001b[0mrepo_found2\u001b[0m\u001b[0;34m,\u001b[0m\u001b[0mbiggerlist1\u001b[0m\u001b[0;34m=\u001b[0m\u001b[0mlocal_search\u001b[0m\u001b[0;34m(\u001b[0m\u001b[0mrepo2\u001b[0m\u001b[0;34m,\u001b[0m\u001b[0mlimit\u001b[0m\u001b[0;34m,\u001b[0m\u001b[0malpha\u001b[0m\u001b[0;34m,\u001b[0m\u001b[0mbeta\u001b[0m\u001b[0;34m,\u001b[0m\u001b[0mbiggerlist\u001b[0m\u001b[0;34m,\u001b[0m\u001b[0mrepo_found\u001b[0m\u001b[0;34m,\u001b[0m\u001b[0mcont_list\u001b[0m\u001b[0;34m)\u001b[0m\u001b[0;34m\u001b[0m\u001b[0;34m\u001b[0m\u001b[0m\n\u001b[0m\u001b[1;32m     64\u001b[0m       \u001b[0mprint\u001b[0m\u001b[0;34m(\u001b[0m\u001b[0;34m\"hi\"\u001b[0m\u001b[0;34m)\u001b[0m\u001b[0;34m\u001b[0m\u001b[0;34m\u001b[0m\u001b[0m\n\u001b[1;32m     65\u001b[0m       \u001b[0;32mfor\u001b[0m \u001b[0mrepo\u001b[0m \u001b[0;32min\u001b[0m \u001b[0mbiggerlist1\u001b[0m\u001b[0;34m:\u001b[0m\u001b[0;34m\u001b[0m\u001b[0;34m\u001b[0m\u001b[0m\n",
            "\u001b[0;32m<ipython-input-87-a41044d93ca8>\u001b[0m in \u001b[0;36mlocal_search\u001b[0;34m(repo, limit, alpha, beta, biggerlist, repo_found, cont_list)\u001b[0m\n\u001b[1;32m     61\u001b[0m       \u001b[0mprint\u001b[0m\u001b[0;34m(\u001b[0m\u001b[0mrepo2\u001b[0m\u001b[0;34m.\u001b[0m\u001b[0mfull_name\u001b[0m\u001b[0;34m)\u001b[0m\u001b[0;34m\u001b[0m\u001b[0;34m\u001b[0m\u001b[0m\n\u001b[1;32m     62\u001b[0m       \u001b[0mprint\u001b[0m\u001b[0;34m(\u001b[0m\u001b[0;34m\"Limit passing is \"\u001b[0m\u001b[0;34m+\u001b[0m\u001b[0mstr\u001b[0m\u001b[0;34m(\u001b[0m\u001b[0mlimit\u001b[0m\u001b[0;34m-\u001b[0m\u001b[0mlen\u001b[0m\u001b[0;34m(\u001b[0m\u001b[0mbiggerlist\u001b[0m\u001b[0;34m)\u001b[0m\u001b[0;34m)\u001b[0m\u001b[0;34m)\u001b[0m\u001b[0;34m\u001b[0m\u001b[0;34m\u001b[0m\u001b[0m\n\u001b[0;32m---> 63\u001b[0;31m       \u001b[0mrepo_found2\u001b[0m\u001b[0;34m,\u001b[0m\u001b[0mbiggerlist1\u001b[0m\u001b[0;34m=\u001b[0m\u001b[0mlocal_search\u001b[0m\u001b[0;34m(\u001b[0m\u001b[0mrepo2\u001b[0m\u001b[0;34m,\u001b[0m\u001b[0mlimit\u001b[0m\u001b[0;34m,\u001b[0m\u001b[0malpha\u001b[0m\u001b[0;34m,\u001b[0m\u001b[0mbeta\u001b[0m\u001b[0;34m,\u001b[0m\u001b[0mbiggerlist\u001b[0m\u001b[0;34m,\u001b[0m\u001b[0mrepo_found\u001b[0m\u001b[0;34m,\u001b[0m\u001b[0mcont_list\u001b[0m\u001b[0;34m)\u001b[0m\u001b[0;34m\u001b[0m\u001b[0;34m\u001b[0m\u001b[0m\n\u001b[0m\u001b[1;32m     64\u001b[0m       \u001b[0mprint\u001b[0m\u001b[0;34m(\u001b[0m\u001b[0;34m\"hi\"\u001b[0m\u001b[0;34m)\u001b[0m\u001b[0;34m\u001b[0m\u001b[0;34m\u001b[0m\u001b[0m\n\u001b[1;32m     65\u001b[0m       \u001b[0;32mfor\u001b[0m \u001b[0mrepo\u001b[0m \u001b[0;32min\u001b[0m \u001b[0mbiggerlist1\u001b[0m\u001b[0;34m:\u001b[0m\u001b[0;34m\u001b[0m\u001b[0;34m\u001b[0m\u001b[0m\n",
            "\u001b[0;32m<ipython-input-87-a41044d93ca8>\u001b[0m in \u001b[0;36mlocal_search\u001b[0;34m(repo, limit, alpha, beta, biggerlist, repo_found, cont_list)\u001b[0m\n\u001b[1;32m     61\u001b[0m       \u001b[0mprint\u001b[0m\u001b[0;34m(\u001b[0m\u001b[0mrepo2\u001b[0m\u001b[0;34m.\u001b[0m\u001b[0mfull_name\u001b[0m\u001b[0;34m)\u001b[0m\u001b[0;34m\u001b[0m\u001b[0;34m\u001b[0m\u001b[0m\n\u001b[1;32m     62\u001b[0m       \u001b[0mprint\u001b[0m\u001b[0;34m(\u001b[0m\u001b[0;34m\"Limit passing is \"\u001b[0m\u001b[0;34m+\u001b[0m\u001b[0mstr\u001b[0m\u001b[0;34m(\u001b[0m\u001b[0mlimit\u001b[0m\u001b[0;34m-\u001b[0m\u001b[0mlen\u001b[0m\u001b[0;34m(\u001b[0m\u001b[0mbiggerlist\u001b[0m\u001b[0;34m)\u001b[0m\u001b[0;34m)\u001b[0m\u001b[0;34m)\u001b[0m\u001b[0;34m\u001b[0m\u001b[0;34m\u001b[0m\u001b[0m\n\u001b[0;32m---> 63\u001b[0;31m       \u001b[0mrepo_found2\u001b[0m\u001b[0;34m,\u001b[0m\u001b[0mbiggerlist1\u001b[0m\u001b[0;34m=\u001b[0m\u001b[0mlocal_search\u001b[0m\u001b[0;34m(\u001b[0m\u001b[0mrepo2\u001b[0m\u001b[0;34m,\u001b[0m\u001b[0mlimit\u001b[0m\u001b[0;34m,\u001b[0m\u001b[0malpha\u001b[0m\u001b[0;34m,\u001b[0m\u001b[0mbeta\u001b[0m\u001b[0;34m,\u001b[0m\u001b[0mbiggerlist\u001b[0m\u001b[0;34m,\u001b[0m\u001b[0mrepo_found\u001b[0m\u001b[0;34m,\u001b[0m\u001b[0mcont_list\u001b[0m\u001b[0;34m)\u001b[0m\u001b[0;34m\u001b[0m\u001b[0;34m\u001b[0m\u001b[0m\n\u001b[0m\u001b[1;32m     64\u001b[0m       \u001b[0mprint\u001b[0m\u001b[0;34m(\u001b[0m\u001b[0;34m\"hi\"\u001b[0m\u001b[0;34m)\u001b[0m\u001b[0;34m\u001b[0m\u001b[0;34m\u001b[0m\u001b[0m\n\u001b[1;32m     65\u001b[0m       \u001b[0;32mfor\u001b[0m \u001b[0mrepo\u001b[0m \u001b[0;32min\u001b[0m \u001b[0mbiggerlist1\u001b[0m\u001b[0;34m:\u001b[0m\u001b[0;34m\u001b[0m\u001b[0;34m\u001b[0m\u001b[0m\n",
            "\u001b[0;32m<ipython-input-87-a41044d93ca8>\u001b[0m in \u001b[0;36mlocal_search\u001b[0;34m(repo, limit, alpha, beta, biggerlist, repo_found, cont_list)\u001b[0m\n\u001b[1;32m     61\u001b[0m       \u001b[0mprint\u001b[0m\u001b[0;34m(\u001b[0m\u001b[0mrepo2\u001b[0m\u001b[0;34m.\u001b[0m\u001b[0mfull_name\u001b[0m\u001b[0;34m)\u001b[0m\u001b[0;34m\u001b[0m\u001b[0;34m\u001b[0m\u001b[0m\n\u001b[1;32m     62\u001b[0m       \u001b[0mprint\u001b[0m\u001b[0;34m(\u001b[0m\u001b[0;34m\"Limit passing is \"\u001b[0m\u001b[0;34m+\u001b[0m\u001b[0mstr\u001b[0m\u001b[0;34m(\u001b[0m\u001b[0mlimit\u001b[0m\u001b[0;34m-\u001b[0m\u001b[0mlen\u001b[0m\u001b[0;34m(\u001b[0m\u001b[0mbiggerlist\u001b[0m\u001b[0;34m)\u001b[0m\u001b[0;34m)\u001b[0m\u001b[0;34m)\u001b[0m\u001b[0;34m\u001b[0m\u001b[0;34m\u001b[0m\u001b[0m\n\u001b[0;32m---> 63\u001b[0;31m       \u001b[0mrepo_found2\u001b[0m\u001b[0;34m,\u001b[0m\u001b[0mbiggerlist1\u001b[0m\u001b[0;34m=\u001b[0m\u001b[0mlocal_search\u001b[0m\u001b[0;34m(\u001b[0m\u001b[0mrepo2\u001b[0m\u001b[0;34m,\u001b[0m\u001b[0mlimit\u001b[0m\u001b[0;34m,\u001b[0m\u001b[0malpha\u001b[0m\u001b[0;34m,\u001b[0m\u001b[0mbeta\u001b[0m\u001b[0;34m,\u001b[0m\u001b[0mbiggerlist\u001b[0m\u001b[0;34m,\u001b[0m\u001b[0mrepo_found\u001b[0m\u001b[0;34m,\u001b[0m\u001b[0mcont_list\u001b[0m\u001b[0;34m)\u001b[0m\u001b[0;34m\u001b[0m\u001b[0;34m\u001b[0m\u001b[0m\n\u001b[0m\u001b[1;32m     64\u001b[0m       \u001b[0mprint\u001b[0m\u001b[0;34m(\u001b[0m\u001b[0;34m\"hi\"\u001b[0m\u001b[0;34m)\u001b[0m\u001b[0;34m\u001b[0m\u001b[0;34m\u001b[0m\u001b[0m\n\u001b[1;32m     65\u001b[0m       \u001b[0;32mfor\u001b[0m \u001b[0mrepo\u001b[0m \u001b[0;32min\u001b[0m \u001b[0mbiggerlist1\u001b[0m\u001b[0;34m:\u001b[0m\u001b[0;34m\u001b[0m\u001b[0;34m\u001b[0m\u001b[0m\n",
            "\u001b[0;32m<ipython-input-87-a41044d93ca8>\u001b[0m in \u001b[0;36mlocal_search\u001b[0;34m(repo, limit, alpha, beta, biggerlist, repo_found, cont_list)\u001b[0m\n\u001b[1;32m     61\u001b[0m       \u001b[0mprint\u001b[0m\u001b[0;34m(\u001b[0m\u001b[0mrepo2\u001b[0m\u001b[0;34m.\u001b[0m\u001b[0mfull_name\u001b[0m\u001b[0;34m)\u001b[0m\u001b[0;34m\u001b[0m\u001b[0;34m\u001b[0m\u001b[0m\n\u001b[1;32m     62\u001b[0m       \u001b[0mprint\u001b[0m\u001b[0;34m(\u001b[0m\u001b[0;34m\"Limit passing is \"\u001b[0m\u001b[0;34m+\u001b[0m\u001b[0mstr\u001b[0m\u001b[0;34m(\u001b[0m\u001b[0mlimit\u001b[0m\u001b[0;34m-\u001b[0m\u001b[0mlen\u001b[0m\u001b[0;34m(\u001b[0m\u001b[0mbiggerlist\u001b[0m\u001b[0;34m)\u001b[0m\u001b[0;34m)\u001b[0m\u001b[0;34m)\u001b[0m\u001b[0;34m\u001b[0m\u001b[0;34m\u001b[0m\u001b[0m\n\u001b[0;32m---> 63\u001b[0;31m       \u001b[0mrepo_found2\u001b[0m\u001b[0;34m,\u001b[0m\u001b[0mbiggerlist1\u001b[0m\u001b[0;34m=\u001b[0m\u001b[0mlocal_search\u001b[0m\u001b[0;34m(\u001b[0m\u001b[0mrepo2\u001b[0m\u001b[0;34m,\u001b[0m\u001b[0mlimit\u001b[0m\u001b[0;34m,\u001b[0m\u001b[0malpha\u001b[0m\u001b[0;34m,\u001b[0m\u001b[0mbeta\u001b[0m\u001b[0;34m,\u001b[0m\u001b[0mbiggerlist\u001b[0m\u001b[0;34m,\u001b[0m\u001b[0mrepo_found\u001b[0m\u001b[0;34m,\u001b[0m\u001b[0mcont_list\u001b[0m\u001b[0;34m)\u001b[0m\u001b[0;34m\u001b[0m\u001b[0;34m\u001b[0m\u001b[0m\n\u001b[0m\u001b[1;32m     64\u001b[0m       \u001b[0mprint\u001b[0m\u001b[0;34m(\u001b[0m\u001b[0;34m\"hi\"\u001b[0m\u001b[0;34m)\u001b[0m\u001b[0;34m\u001b[0m\u001b[0;34m\u001b[0m\u001b[0m\n\u001b[1;32m     65\u001b[0m       \u001b[0;32mfor\u001b[0m \u001b[0mrepo\u001b[0m \u001b[0;32min\u001b[0m \u001b[0mbiggerlist1\u001b[0m\u001b[0;34m:\u001b[0m\u001b[0;34m\u001b[0m\u001b[0;34m\u001b[0m\u001b[0m\n",
            "\u001b[0;32m<ipython-input-87-a41044d93ca8>\u001b[0m in \u001b[0;36mlocal_search\u001b[0;34m(repo, limit, alpha, beta, biggerlist, repo_found, cont_list)\u001b[0m\n\u001b[1;32m     61\u001b[0m       \u001b[0mprint\u001b[0m\u001b[0;34m(\u001b[0m\u001b[0mrepo2\u001b[0m\u001b[0;34m.\u001b[0m\u001b[0mfull_name\u001b[0m\u001b[0;34m)\u001b[0m\u001b[0;34m\u001b[0m\u001b[0;34m\u001b[0m\u001b[0m\n\u001b[1;32m     62\u001b[0m       \u001b[0mprint\u001b[0m\u001b[0;34m(\u001b[0m\u001b[0;34m\"Limit passing is \"\u001b[0m\u001b[0;34m+\u001b[0m\u001b[0mstr\u001b[0m\u001b[0;34m(\u001b[0m\u001b[0mlimit\u001b[0m\u001b[0;34m-\u001b[0m\u001b[0mlen\u001b[0m\u001b[0;34m(\u001b[0m\u001b[0mbiggerlist\u001b[0m\u001b[0;34m)\u001b[0m\u001b[0;34m)\u001b[0m\u001b[0;34m)\u001b[0m\u001b[0;34m\u001b[0m\u001b[0;34m\u001b[0m\u001b[0m\n\u001b[0;32m---> 63\u001b[0;31m       \u001b[0mrepo_found2\u001b[0m\u001b[0;34m,\u001b[0m\u001b[0mbiggerlist1\u001b[0m\u001b[0;34m=\u001b[0m\u001b[0mlocal_search\u001b[0m\u001b[0;34m(\u001b[0m\u001b[0mrepo2\u001b[0m\u001b[0;34m,\u001b[0m\u001b[0mlimit\u001b[0m\u001b[0;34m,\u001b[0m\u001b[0malpha\u001b[0m\u001b[0;34m,\u001b[0m\u001b[0mbeta\u001b[0m\u001b[0;34m,\u001b[0m\u001b[0mbiggerlist\u001b[0m\u001b[0;34m,\u001b[0m\u001b[0mrepo_found\u001b[0m\u001b[0;34m,\u001b[0m\u001b[0mcont_list\u001b[0m\u001b[0;34m)\u001b[0m\u001b[0;34m\u001b[0m\u001b[0;34m\u001b[0m\u001b[0m\n\u001b[0m\u001b[1;32m     64\u001b[0m       \u001b[0mprint\u001b[0m\u001b[0;34m(\u001b[0m\u001b[0;34m\"hi\"\u001b[0m\u001b[0;34m)\u001b[0m\u001b[0;34m\u001b[0m\u001b[0;34m\u001b[0m\u001b[0m\n\u001b[1;32m     65\u001b[0m       \u001b[0;32mfor\u001b[0m \u001b[0mrepo\u001b[0m \u001b[0;32min\u001b[0m \u001b[0mbiggerlist1\u001b[0m\u001b[0;34m:\u001b[0m\u001b[0;34m\u001b[0m\u001b[0;34m\u001b[0m\u001b[0m\n",
            "\u001b[0;32m<ipython-input-87-a41044d93ca8>\u001b[0m in \u001b[0;36mlocal_search\u001b[0;34m(repo, limit, alpha, beta, biggerlist, repo_found, cont_list)\u001b[0m\n\u001b[1;32m     61\u001b[0m       \u001b[0mprint\u001b[0m\u001b[0;34m(\u001b[0m\u001b[0mrepo2\u001b[0m\u001b[0;34m.\u001b[0m\u001b[0mfull_name\u001b[0m\u001b[0;34m)\u001b[0m\u001b[0;34m\u001b[0m\u001b[0;34m\u001b[0m\u001b[0m\n\u001b[1;32m     62\u001b[0m       \u001b[0mprint\u001b[0m\u001b[0;34m(\u001b[0m\u001b[0;34m\"Limit passing is \"\u001b[0m\u001b[0;34m+\u001b[0m\u001b[0mstr\u001b[0m\u001b[0;34m(\u001b[0m\u001b[0mlimit\u001b[0m\u001b[0;34m-\u001b[0m\u001b[0mlen\u001b[0m\u001b[0;34m(\u001b[0m\u001b[0mbiggerlist\u001b[0m\u001b[0;34m)\u001b[0m\u001b[0;34m)\u001b[0m\u001b[0;34m)\u001b[0m\u001b[0;34m\u001b[0m\u001b[0;34m\u001b[0m\u001b[0m\n\u001b[0;32m---> 63\u001b[0;31m       \u001b[0mrepo_found2\u001b[0m\u001b[0;34m,\u001b[0m\u001b[0mbiggerlist1\u001b[0m\u001b[0;34m=\u001b[0m\u001b[0mlocal_search\u001b[0m\u001b[0;34m(\u001b[0m\u001b[0mrepo2\u001b[0m\u001b[0;34m,\u001b[0m\u001b[0mlimit\u001b[0m\u001b[0;34m,\u001b[0m\u001b[0malpha\u001b[0m\u001b[0;34m,\u001b[0m\u001b[0mbeta\u001b[0m\u001b[0;34m,\u001b[0m\u001b[0mbiggerlist\u001b[0m\u001b[0;34m,\u001b[0m\u001b[0mrepo_found\u001b[0m\u001b[0;34m,\u001b[0m\u001b[0mcont_list\u001b[0m\u001b[0;34m)\u001b[0m\u001b[0;34m\u001b[0m\u001b[0;34m\u001b[0m\u001b[0m\n\u001b[0m\u001b[1;32m     64\u001b[0m       \u001b[0mprint\u001b[0m\u001b[0;34m(\u001b[0m\u001b[0;34m\"hi\"\u001b[0m\u001b[0;34m)\u001b[0m\u001b[0;34m\u001b[0m\u001b[0;34m\u001b[0m\u001b[0m\n\u001b[1;32m     65\u001b[0m       \u001b[0;32mfor\u001b[0m \u001b[0mrepo\u001b[0m \u001b[0;32min\u001b[0m \u001b[0mbiggerlist1\u001b[0m\u001b[0;34m:\u001b[0m\u001b[0;34m\u001b[0m\u001b[0;34m\u001b[0m\u001b[0m\n",
            "\u001b[0;32m<ipython-input-87-a41044d93ca8>\u001b[0m in \u001b[0;36mlocal_search\u001b[0;34m(repo, limit, alpha, beta, biggerlist, repo_found, cont_list)\u001b[0m\n\u001b[1;32m     61\u001b[0m       \u001b[0mprint\u001b[0m\u001b[0;34m(\u001b[0m\u001b[0mrepo2\u001b[0m\u001b[0;34m.\u001b[0m\u001b[0mfull_name\u001b[0m\u001b[0;34m)\u001b[0m\u001b[0;34m\u001b[0m\u001b[0;34m\u001b[0m\u001b[0m\n\u001b[1;32m     62\u001b[0m       \u001b[0mprint\u001b[0m\u001b[0;34m(\u001b[0m\u001b[0;34m\"Limit passing is \"\u001b[0m\u001b[0;34m+\u001b[0m\u001b[0mstr\u001b[0m\u001b[0;34m(\u001b[0m\u001b[0mlimit\u001b[0m\u001b[0;34m-\u001b[0m\u001b[0mlen\u001b[0m\u001b[0;34m(\u001b[0m\u001b[0mbiggerlist\u001b[0m\u001b[0;34m)\u001b[0m\u001b[0;34m)\u001b[0m\u001b[0;34m)\u001b[0m\u001b[0;34m\u001b[0m\u001b[0;34m\u001b[0m\u001b[0m\n\u001b[0;32m---> 63\u001b[0;31m       \u001b[0mrepo_found2\u001b[0m\u001b[0;34m,\u001b[0m\u001b[0mbiggerlist1\u001b[0m\u001b[0;34m=\u001b[0m\u001b[0mlocal_search\u001b[0m\u001b[0;34m(\u001b[0m\u001b[0mrepo2\u001b[0m\u001b[0;34m,\u001b[0m\u001b[0mlimit\u001b[0m\u001b[0;34m,\u001b[0m\u001b[0malpha\u001b[0m\u001b[0;34m,\u001b[0m\u001b[0mbeta\u001b[0m\u001b[0;34m,\u001b[0m\u001b[0mbiggerlist\u001b[0m\u001b[0;34m,\u001b[0m\u001b[0mrepo_found\u001b[0m\u001b[0;34m,\u001b[0m\u001b[0mcont_list\u001b[0m\u001b[0;34m)\u001b[0m\u001b[0;34m\u001b[0m\u001b[0;34m\u001b[0m\u001b[0m\n\u001b[0m\u001b[1;32m     64\u001b[0m       \u001b[0mprint\u001b[0m\u001b[0;34m(\u001b[0m\u001b[0;34m\"hi\"\u001b[0m\u001b[0;34m)\u001b[0m\u001b[0;34m\u001b[0m\u001b[0;34m\u001b[0m\u001b[0m\n\u001b[1;32m     65\u001b[0m       \u001b[0;32mfor\u001b[0m \u001b[0mrepo\u001b[0m \u001b[0;32min\u001b[0m \u001b[0mbiggerlist1\u001b[0m\u001b[0;34m:\u001b[0m\u001b[0;34m\u001b[0m\u001b[0;34m\u001b[0m\u001b[0m\n",
            "\u001b[0;32m<ipython-input-87-a41044d93ca8>\u001b[0m in \u001b[0;36mlocal_search\u001b[0;34m(repo, limit, alpha, beta, biggerlist, repo_found, cont_list)\u001b[0m\n\u001b[1;32m     61\u001b[0m       \u001b[0mprint\u001b[0m\u001b[0;34m(\u001b[0m\u001b[0mrepo2\u001b[0m\u001b[0;34m.\u001b[0m\u001b[0mfull_name\u001b[0m\u001b[0;34m)\u001b[0m\u001b[0;34m\u001b[0m\u001b[0;34m\u001b[0m\u001b[0m\n\u001b[1;32m     62\u001b[0m       \u001b[0mprint\u001b[0m\u001b[0;34m(\u001b[0m\u001b[0;34m\"Limit passing is \"\u001b[0m\u001b[0;34m+\u001b[0m\u001b[0mstr\u001b[0m\u001b[0;34m(\u001b[0m\u001b[0mlimit\u001b[0m\u001b[0;34m-\u001b[0m\u001b[0mlen\u001b[0m\u001b[0;34m(\u001b[0m\u001b[0mbiggerlist\u001b[0m\u001b[0;34m)\u001b[0m\u001b[0;34m)\u001b[0m\u001b[0;34m)\u001b[0m\u001b[0;34m\u001b[0m\u001b[0;34m\u001b[0m\u001b[0m\n\u001b[0;32m---> 63\u001b[0;31m       \u001b[0mrepo_found2\u001b[0m\u001b[0;34m,\u001b[0m\u001b[0mbiggerlist1\u001b[0m\u001b[0;34m=\u001b[0m\u001b[0mlocal_search\u001b[0m\u001b[0;34m(\u001b[0m\u001b[0mrepo2\u001b[0m\u001b[0;34m,\u001b[0m\u001b[0mlimit\u001b[0m\u001b[0;34m,\u001b[0m\u001b[0malpha\u001b[0m\u001b[0;34m,\u001b[0m\u001b[0mbeta\u001b[0m\u001b[0;34m,\u001b[0m\u001b[0mbiggerlist\u001b[0m\u001b[0;34m,\u001b[0m\u001b[0mrepo_found\u001b[0m\u001b[0;34m,\u001b[0m\u001b[0mcont_list\u001b[0m\u001b[0;34m)\u001b[0m\u001b[0;34m\u001b[0m\u001b[0;34m\u001b[0m\u001b[0m\n\u001b[0m\u001b[1;32m     64\u001b[0m       \u001b[0mprint\u001b[0m\u001b[0;34m(\u001b[0m\u001b[0;34m\"hi\"\u001b[0m\u001b[0;34m)\u001b[0m\u001b[0;34m\u001b[0m\u001b[0;34m\u001b[0m\u001b[0m\n\u001b[1;32m     65\u001b[0m       \u001b[0;32mfor\u001b[0m \u001b[0mrepo\u001b[0m \u001b[0;32min\u001b[0m \u001b[0mbiggerlist1\u001b[0m\u001b[0;34m:\u001b[0m\u001b[0;34m\u001b[0m\u001b[0;34m\u001b[0m\u001b[0m\n",
            "\u001b[0;32m<ipython-input-87-a41044d93ca8>\u001b[0m in \u001b[0;36mlocal_search\u001b[0;34m(repo, limit, alpha, beta, biggerlist, repo_found, cont_list)\u001b[0m\n\u001b[1;32m     61\u001b[0m       \u001b[0mprint\u001b[0m\u001b[0;34m(\u001b[0m\u001b[0mrepo2\u001b[0m\u001b[0;34m.\u001b[0m\u001b[0mfull_name\u001b[0m\u001b[0;34m)\u001b[0m\u001b[0;34m\u001b[0m\u001b[0;34m\u001b[0m\u001b[0m\n\u001b[1;32m     62\u001b[0m       \u001b[0mprint\u001b[0m\u001b[0;34m(\u001b[0m\u001b[0;34m\"Limit passing is \"\u001b[0m\u001b[0;34m+\u001b[0m\u001b[0mstr\u001b[0m\u001b[0;34m(\u001b[0m\u001b[0mlimit\u001b[0m\u001b[0;34m-\u001b[0m\u001b[0mlen\u001b[0m\u001b[0;34m(\u001b[0m\u001b[0mbiggerlist\u001b[0m\u001b[0;34m)\u001b[0m\u001b[0;34m)\u001b[0m\u001b[0;34m)\u001b[0m\u001b[0;34m\u001b[0m\u001b[0;34m\u001b[0m\u001b[0m\n\u001b[0;32m---> 63\u001b[0;31m       \u001b[0mrepo_found2\u001b[0m\u001b[0;34m,\u001b[0m\u001b[0mbiggerlist1\u001b[0m\u001b[0;34m=\u001b[0m\u001b[0mlocal_search\u001b[0m\u001b[0;34m(\u001b[0m\u001b[0mrepo2\u001b[0m\u001b[0;34m,\u001b[0m\u001b[0mlimit\u001b[0m\u001b[0;34m,\u001b[0m\u001b[0malpha\u001b[0m\u001b[0;34m,\u001b[0m\u001b[0mbeta\u001b[0m\u001b[0;34m,\u001b[0m\u001b[0mbiggerlist\u001b[0m\u001b[0;34m,\u001b[0m\u001b[0mrepo_found\u001b[0m\u001b[0;34m,\u001b[0m\u001b[0mcont_list\u001b[0m\u001b[0;34m)\u001b[0m\u001b[0;34m\u001b[0m\u001b[0;34m\u001b[0m\u001b[0m\n\u001b[0m\u001b[1;32m     64\u001b[0m       \u001b[0mprint\u001b[0m\u001b[0;34m(\u001b[0m\u001b[0;34m\"hi\"\u001b[0m\u001b[0;34m)\u001b[0m\u001b[0;34m\u001b[0m\u001b[0;34m\u001b[0m\u001b[0m\n\u001b[1;32m     65\u001b[0m       \u001b[0;32mfor\u001b[0m \u001b[0mrepo\u001b[0m \u001b[0;32min\u001b[0m \u001b[0mbiggerlist1\u001b[0m\u001b[0;34m:\u001b[0m\u001b[0;34m\u001b[0m\u001b[0;34m\u001b[0m\u001b[0m\n",
            "\u001b[0;32m<ipython-input-87-a41044d93ca8>\u001b[0m in \u001b[0;36mlocal_search\u001b[0;34m(repo, limit, alpha, beta, biggerlist, repo_found, cont_list)\u001b[0m\n\u001b[1;32m     61\u001b[0m       \u001b[0mprint\u001b[0m\u001b[0;34m(\u001b[0m\u001b[0mrepo2\u001b[0m\u001b[0;34m.\u001b[0m\u001b[0mfull_name\u001b[0m\u001b[0;34m)\u001b[0m\u001b[0;34m\u001b[0m\u001b[0;34m\u001b[0m\u001b[0m\n\u001b[1;32m     62\u001b[0m       \u001b[0mprint\u001b[0m\u001b[0;34m(\u001b[0m\u001b[0;34m\"Limit passing is \"\u001b[0m\u001b[0;34m+\u001b[0m\u001b[0mstr\u001b[0m\u001b[0;34m(\u001b[0m\u001b[0mlimit\u001b[0m\u001b[0;34m-\u001b[0m\u001b[0mlen\u001b[0m\u001b[0;34m(\u001b[0m\u001b[0mbiggerlist\u001b[0m\u001b[0;34m)\u001b[0m\u001b[0;34m)\u001b[0m\u001b[0;34m)\u001b[0m\u001b[0;34m\u001b[0m\u001b[0;34m\u001b[0m\u001b[0m\n\u001b[0;32m---> 63\u001b[0;31m       \u001b[0mrepo_found2\u001b[0m\u001b[0;34m,\u001b[0m\u001b[0mbiggerlist1\u001b[0m\u001b[0;34m=\u001b[0m\u001b[0mlocal_search\u001b[0m\u001b[0;34m(\u001b[0m\u001b[0mrepo2\u001b[0m\u001b[0;34m,\u001b[0m\u001b[0mlimit\u001b[0m\u001b[0;34m,\u001b[0m\u001b[0malpha\u001b[0m\u001b[0;34m,\u001b[0m\u001b[0mbeta\u001b[0m\u001b[0;34m,\u001b[0m\u001b[0mbiggerlist\u001b[0m\u001b[0;34m,\u001b[0m\u001b[0mrepo_found\u001b[0m\u001b[0;34m,\u001b[0m\u001b[0mcont_list\u001b[0m\u001b[0;34m)\u001b[0m\u001b[0;34m\u001b[0m\u001b[0;34m\u001b[0m\u001b[0m\n\u001b[0m\u001b[1;32m     64\u001b[0m       \u001b[0mprint\u001b[0m\u001b[0;34m(\u001b[0m\u001b[0;34m\"hi\"\u001b[0m\u001b[0;34m)\u001b[0m\u001b[0;34m\u001b[0m\u001b[0;34m\u001b[0m\u001b[0m\n\u001b[1;32m     65\u001b[0m       \u001b[0;32mfor\u001b[0m \u001b[0mrepo\u001b[0m \u001b[0;32min\u001b[0m \u001b[0mbiggerlist1\u001b[0m\u001b[0;34m:\u001b[0m\u001b[0;34m\u001b[0m\u001b[0;34m\u001b[0m\u001b[0m\n",
            "\u001b[0;32m<ipython-input-87-a41044d93ca8>\u001b[0m in \u001b[0;36mlocal_search\u001b[0;34m(repo, limit, alpha, beta, biggerlist, repo_found, cont_list)\u001b[0m\n\u001b[1;32m     61\u001b[0m       \u001b[0mprint\u001b[0m\u001b[0;34m(\u001b[0m\u001b[0mrepo2\u001b[0m\u001b[0;34m.\u001b[0m\u001b[0mfull_name\u001b[0m\u001b[0;34m)\u001b[0m\u001b[0;34m\u001b[0m\u001b[0;34m\u001b[0m\u001b[0m\n\u001b[1;32m     62\u001b[0m       \u001b[0mprint\u001b[0m\u001b[0;34m(\u001b[0m\u001b[0;34m\"Limit passing is \"\u001b[0m\u001b[0;34m+\u001b[0m\u001b[0mstr\u001b[0m\u001b[0;34m(\u001b[0m\u001b[0mlimit\u001b[0m\u001b[0;34m-\u001b[0m\u001b[0mlen\u001b[0m\u001b[0;34m(\u001b[0m\u001b[0mbiggerlist\u001b[0m\u001b[0;34m)\u001b[0m\u001b[0;34m)\u001b[0m\u001b[0;34m)\u001b[0m\u001b[0;34m\u001b[0m\u001b[0;34m\u001b[0m\u001b[0m\n\u001b[0;32m---> 63\u001b[0;31m       \u001b[0mrepo_found2\u001b[0m\u001b[0;34m,\u001b[0m\u001b[0mbiggerlist1\u001b[0m\u001b[0;34m=\u001b[0m\u001b[0mlocal_search\u001b[0m\u001b[0;34m(\u001b[0m\u001b[0mrepo2\u001b[0m\u001b[0;34m,\u001b[0m\u001b[0mlimit\u001b[0m\u001b[0;34m,\u001b[0m\u001b[0malpha\u001b[0m\u001b[0;34m,\u001b[0m\u001b[0mbeta\u001b[0m\u001b[0;34m,\u001b[0m\u001b[0mbiggerlist\u001b[0m\u001b[0;34m,\u001b[0m\u001b[0mrepo_found\u001b[0m\u001b[0;34m,\u001b[0m\u001b[0mcont_list\u001b[0m\u001b[0;34m)\u001b[0m\u001b[0;34m\u001b[0m\u001b[0;34m\u001b[0m\u001b[0m\n\u001b[0m\u001b[1;32m     64\u001b[0m       \u001b[0mprint\u001b[0m\u001b[0;34m(\u001b[0m\u001b[0;34m\"hi\"\u001b[0m\u001b[0;34m)\u001b[0m\u001b[0;34m\u001b[0m\u001b[0;34m\u001b[0m\u001b[0m\n\u001b[1;32m     65\u001b[0m       \u001b[0;32mfor\u001b[0m \u001b[0mrepo\u001b[0m \u001b[0;32min\u001b[0m \u001b[0mbiggerlist1\u001b[0m\u001b[0;34m:\u001b[0m\u001b[0;34m\u001b[0m\u001b[0;34m\u001b[0m\u001b[0m\n",
            "\u001b[0;32m<ipython-input-87-a41044d93ca8>\u001b[0m in \u001b[0;36mlocal_search\u001b[0;34m(repo, limit, alpha, beta, biggerlist, repo_found, cont_list)\u001b[0m\n\u001b[1;32m     61\u001b[0m       \u001b[0mprint\u001b[0m\u001b[0;34m(\u001b[0m\u001b[0mrepo2\u001b[0m\u001b[0;34m.\u001b[0m\u001b[0mfull_name\u001b[0m\u001b[0;34m)\u001b[0m\u001b[0;34m\u001b[0m\u001b[0;34m\u001b[0m\u001b[0m\n\u001b[1;32m     62\u001b[0m       \u001b[0mprint\u001b[0m\u001b[0;34m(\u001b[0m\u001b[0;34m\"Limit passing is \"\u001b[0m\u001b[0;34m+\u001b[0m\u001b[0mstr\u001b[0m\u001b[0;34m(\u001b[0m\u001b[0mlimit\u001b[0m\u001b[0;34m-\u001b[0m\u001b[0mlen\u001b[0m\u001b[0;34m(\u001b[0m\u001b[0mbiggerlist\u001b[0m\u001b[0;34m)\u001b[0m\u001b[0;34m)\u001b[0m\u001b[0;34m)\u001b[0m\u001b[0;34m\u001b[0m\u001b[0;34m\u001b[0m\u001b[0m\n\u001b[0;32m---> 63\u001b[0;31m       \u001b[0mrepo_found2\u001b[0m\u001b[0;34m,\u001b[0m\u001b[0mbiggerlist1\u001b[0m\u001b[0;34m=\u001b[0m\u001b[0mlocal_search\u001b[0m\u001b[0;34m(\u001b[0m\u001b[0mrepo2\u001b[0m\u001b[0;34m,\u001b[0m\u001b[0mlimit\u001b[0m\u001b[0;34m,\u001b[0m\u001b[0malpha\u001b[0m\u001b[0;34m,\u001b[0m\u001b[0mbeta\u001b[0m\u001b[0;34m,\u001b[0m\u001b[0mbiggerlist\u001b[0m\u001b[0;34m,\u001b[0m\u001b[0mrepo_found\u001b[0m\u001b[0;34m,\u001b[0m\u001b[0mcont_list\u001b[0m\u001b[0;34m)\u001b[0m\u001b[0;34m\u001b[0m\u001b[0;34m\u001b[0m\u001b[0m\n\u001b[0m\u001b[1;32m     64\u001b[0m       \u001b[0mprint\u001b[0m\u001b[0;34m(\u001b[0m\u001b[0;34m\"hi\"\u001b[0m\u001b[0;34m)\u001b[0m\u001b[0;34m\u001b[0m\u001b[0;34m\u001b[0m\u001b[0m\n\u001b[1;32m     65\u001b[0m       \u001b[0;32mfor\u001b[0m \u001b[0mrepo\u001b[0m \u001b[0;32min\u001b[0m \u001b[0mbiggerlist1\u001b[0m\u001b[0;34m:\u001b[0m\u001b[0;34m\u001b[0m\u001b[0;34m\u001b[0m\u001b[0m\n",
            "\u001b[0;32m<ipython-input-87-a41044d93ca8>\u001b[0m in \u001b[0;36mlocal_search\u001b[0;34m(repo, limit, alpha, beta, biggerlist, repo_found, cont_list)\u001b[0m\n\u001b[1;32m     61\u001b[0m       \u001b[0mprint\u001b[0m\u001b[0;34m(\u001b[0m\u001b[0mrepo2\u001b[0m\u001b[0;34m.\u001b[0m\u001b[0mfull_name\u001b[0m\u001b[0;34m)\u001b[0m\u001b[0;34m\u001b[0m\u001b[0;34m\u001b[0m\u001b[0m\n\u001b[1;32m     62\u001b[0m       \u001b[0mprint\u001b[0m\u001b[0;34m(\u001b[0m\u001b[0;34m\"Limit passing is \"\u001b[0m\u001b[0;34m+\u001b[0m\u001b[0mstr\u001b[0m\u001b[0;34m(\u001b[0m\u001b[0mlimit\u001b[0m\u001b[0;34m-\u001b[0m\u001b[0mlen\u001b[0m\u001b[0;34m(\u001b[0m\u001b[0mbiggerlist\u001b[0m\u001b[0;34m)\u001b[0m\u001b[0;34m)\u001b[0m\u001b[0;34m)\u001b[0m\u001b[0;34m\u001b[0m\u001b[0;34m\u001b[0m\u001b[0m\n\u001b[0;32m---> 63\u001b[0;31m       \u001b[0mrepo_found2\u001b[0m\u001b[0;34m,\u001b[0m\u001b[0mbiggerlist1\u001b[0m\u001b[0;34m=\u001b[0m\u001b[0mlocal_search\u001b[0m\u001b[0;34m(\u001b[0m\u001b[0mrepo2\u001b[0m\u001b[0;34m,\u001b[0m\u001b[0mlimit\u001b[0m\u001b[0;34m,\u001b[0m\u001b[0malpha\u001b[0m\u001b[0;34m,\u001b[0m\u001b[0mbeta\u001b[0m\u001b[0;34m,\u001b[0m\u001b[0mbiggerlist\u001b[0m\u001b[0;34m,\u001b[0m\u001b[0mrepo_found\u001b[0m\u001b[0;34m,\u001b[0m\u001b[0mcont_list\u001b[0m\u001b[0;34m)\u001b[0m\u001b[0;34m\u001b[0m\u001b[0;34m\u001b[0m\u001b[0m\n\u001b[0m\u001b[1;32m     64\u001b[0m       \u001b[0mprint\u001b[0m\u001b[0;34m(\u001b[0m\u001b[0;34m\"hi\"\u001b[0m\u001b[0;34m)\u001b[0m\u001b[0;34m\u001b[0m\u001b[0;34m\u001b[0m\u001b[0m\n\u001b[1;32m     65\u001b[0m       \u001b[0;32mfor\u001b[0m \u001b[0mrepo\u001b[0m \u001b[0;32min\u001b[0m \u001b[0mbiggerlist1\u001b[0m\u001b[0;34m:\u001b[0m\u001b[0;34m\u001b[0m\u001b[0;34m\u001b[0m\u001b[0m\n",
            "\u001b[0;32m<ipython-input-87-a41044d93ca8>\u001b[0m in \u001b[0;36mlocal_search\u001b[0;34m(repo, limit, alpha, beta, biggerlist, repo_found, cont_list)\u001b[0m\n\u001b[1;32m     61\u001b[0m       \u001b[0mprint\u001b[0m\u001b[0;34m(\u001b[0m\u001b[0mrepo2\u001b[0m\u001b[0;34m.\u001b[0m\u001b[0mfull_name\u001b[0m\u001b[0;34m)\u001b[0m\u001b[0;34m\u001b[0m\u001b[0;34m\u001b[0m\u001b[0m\n\u001b[1;32m     62\u001b[0m       \u001b[0mprint\u001b[0m\u001b[0;34m(\u001b[0m\u001b[0;34m\"Limit passing is \"\u001b[0m\u001b[0;34m+\u001b[0m\u001b[0mstr\u001b[0m\u001b[0;34m(\u001b[0m\u001b[0mlimit\u001b[0m\u001b[0;34m-\u001b[0m\u001b[0mlen\u001b[0m\u001b[0;34m(\u001b[0m\u001b[0mbiggerlist\u001b[0m\u001b[0;34m)\u001b[0m\u001b[0;34m)\u001b[0m\u001b[0;34m)\u001b[0m\u001b[0;34m\u001b[0m\u001b[0;34m\u001b[0m\u001b[0m\n\u001b[0;32m---> 63\u001b[0;31m       \u001b[0mrepo_found2\u001b[0m\u001b[0;34m,\u001b[0m\u001b[0mbiggerlist1\u001b[0m\u001b[0;34m=\u001b[0m\u001b[0mlocal_search\u001b[0m\u001b[0;34m(\u001b[0m\u001b[0mrepo2\u001b[0m\u001b[0;34m,\u001b[0m\u001b[0mlimit\u001b[0m\u001b[0;34m,\u001b[0m\u001b[0malpha\u001b[0m\u001b[0;34m,\u001b[0m\u001b[0mbeta\u001b[0m\u001b[0;34m,\u001b[0m\u001b[0mbiggerlist\u001b[0m\u001b[0;34m,\u001b[0m\u001b[0mrepo_found\u001b[0m\u001b[0;34m,\u001b[0m\u001b[0mcont_list\u001b[0m\u001b[0;34m)\u001b[0m\u001b[0;34m\u001b[0m\u001b[0;34m\u001b[0m\u001b[0m\n\u001b[0m\u001b[1;32m     64\u001b[0m       \u001b[0mprint\u001b[0m\u001b[0;34m(\u001b[0m\u001b[0;34m\"hi\"\u001b[0m\u001b[0;34m)\u001b[0m\u001b[0;34m\u001b[0m\u001b[0;34m\u001b[0m\u001b[0m\n\u001b[1;32m     65\u001b[0m       \u001b[0;32mfor\u001b[0m \u001b[0mrepo\u001b[0m \u001b[0;32min\u001b[0m \u001b[0mbiggerlist1\u001b[0m\u001b[0;34m:\u001b[0m\u001b[0;34m\u001b[0m\u001b[0;34m\u001b[0m\u001b[0m\n",
            "\u001b[0;32m<ipython-input-87-a41044d93ca8>\u001b[0m in \u001b[0;36mlocal_search\u001b[0;34m(repo, limit, alpha, beta, biggerlist, repo_found, cont_list)\u001b[0m\n\u001b[1;32m     61\u001b[0m       \u001b[0mprint\u001b[0m\u001b[0;34m(\u001b[0m\u001b[0mrepo2\u001b[0m\u001b[0;34m.\u001b[0m\u001b[0mfull_name\u001b[0m\u001b[0;34m)\u001b[0m\u001b[0;34m\u001b[0m\u001b[0;34m\u001b[0m\u001b[0m\n\u001b[1;32m     62\u001b[0m       \u001b[0mprint\u001b[0m\u001b[0;34m(\u001b[0m\u001b[0;34m\"Limit passing is \"\u001b[0m\u001b[0;34m+\u001b[0m\u001b[0mstr\u001b[0m\u001b[0;34m(\u001b[0m\u001b[0mlimit\u001b[0m\u001b[0;34m-\u001b[0m\u001b[0mlen\u001b[0m\u001b[0;34m(\u001b[0m\u001b[0mbiggerlist\u001b[0m\u001b[0;34m)\u001b[0m\u001b[0;34m)\u001b[0m\u001b[0;34m)\u001b[0m\u001b[0;34m\u001b[0m\u001b[0;34m\u001b[0m\u001b[0m\n\u001b[0;32m---> 63\u001b[0;31m       \u001b[0mrepo_found2\u001b[0m\u001b[0;34m,\u001b[0m\u001b[0mbiggerlist1\u001b[0m\u001b[0;34m=\u001b[0m\u001b[0mlocal_search\u001b[0m\u001b[0;34m(\u001b[0m\u001b[0mrepo2\u001b[0m\u001b[0;34m,\u001b[0m\u001b[0mlimit\u001b[0m\u001b[0;34m,\u001b[0m\u001b[0malpha\u001b[0m\u001b[0;34m,\u001b[0m\u001b[0mbeta\u001b[0m\u001b[0;34m,\u001b[0m\u001b[0mbiggerlist\u001b[0m\u001b[0;34m,\u001b[0m\u001b[0mrepo_found\u001b[0m\u001b[0;34m,\u001b[0m\u001b[0mcont_list\u001b[0m\u001b[0;34m)\u001b[0m\u001b[0;34m\u001b[0m\u001b[0;34m\u001b[0m\u001b[0m\n\u001b[0m\u001b[1;32m     64\u001b[0m       \u001b[0mprint\u001b[0m\u001b[0;34m(\u001b[0m\u001b[0;34m\"hi\"\u001b[0m\u001b[0;34m)\u001b[0m\u001b[0;34m\u001b[0m\u001b[0;34m\u001b[0m\u001b[0m\n\u001b[1;32m     65\u001b[0m       \u001b[0;32mfor\u001b[0m \u001b[0mrepo\u001b[0m \u001b[0;32min\u001b[0m \u001b[0mbiggerlist1\u001b[0m\u001b[0;34m:\u001b[0m\u001b[0;34m\u001b[0m\u001b[0;34m\u001b[0m\u001b[0m\n",
            "\u001b[0;32m<ipython-input-87-a41044d93ca8>\u001b[0m in \u001b[0;36mlocal_search\u001b[0;34m(repo, limit, alpha, beta, biggerlist, repo_found, cont_list)\u001b[0m\n\u001b[1;32m     61\u001b[0m       \u001b[0mprint\u001b[0m\u001b[0;34m(\u001b[0m\u001b[0mrepo2\u001b[0m\u001b[0;34m.\u001b[0m\u001b[0mfull_name\u001b[0m\u001b[0;34m)\u001b[0m\u001b[0;34m\u001b[0m\u001b[0;34m\u001b[0m\u001b[0m\n\u001b[1;32m     62\u001b[0m       \u001b[0mprint\u001b[0m\u001b[0;34m(\u001b[0m\u001b[0;34m\"Limit passing is \"\u001b[0m\u001b[0;34m+\u001b[0m\u001b[0mstr\u001b[0m\u001b[0;34m(\u001b[0m\u001b[0mlimit\u001b[0m\u001b[0;34m-\u001b[0m\u001b[0mlen\u001b[0m\u001b[0;34m(\u001b[0m\u001b[0mbiggerlist\u001b[0m\u001b[0;34m)\u001b[0m\u001b[0;34m)\u001b[0m\u001b[0;34m)\u001b[0m\u001b[0;34m\u001b[0m\u001b[0;34m\u001b[0m\u001b[0m\n\u001b[0;32m---> 63\u001b[0;31m       \u001b[0mrepo_found2\u001b[0m\u001b[0;34m,\u001b[0m\u001b[0mbiggerlist1\u001b[0m\u001b[0;34m=\u001b[0m\u001b[0mlocal_search\u001b[0m\u001b[0;34m(\u001b[0m\u001b[0mrepo2\u001b[0m\u001b[0;34m,\u001b[0m\u001b[0mlimit\u001b[0m\u001b[0;34m,\u001b[0m\u001b[0malpha\u001b[0m\u001b[0;34m,\u001b[0m\u001b[0mbeta\u001b[0m\u001b[0;34m,\u001b[0m\u001b[0mbiggerlist\u001b[0m\u001b[0;34m,\u001b[0m\u001b[0mrepo_found\u001b[0m\u001b[0;34m,\u001b[0m\u001b[0mcont_list\u001b[0m\u001b[0;34m)\u001b[0m\u001b[0;34m\u001b[0m\u001b[0;34m\u001b[0m\u001b[0m\n\u001b[0m\u001b[1;32m     64\u001b[0m       \u001b[0mprint\u001b[0m\u001b[0;34m(\u001b[0m\u001b[0;34m\"hi\"\u001b[0m\u001b[0;34m)\u001b[0m\u001b[0;34m\u001b[0m\u001b[0;34m\u001b[0m\u001b[0m\n\u001b[1;32m     65\u001b[0m       \u001b[0;32mfor\u001b[0m \u001b[0mrepo\u001b[0m \u001b[0;32min\u001b[0m \u001b[0mbiggerlist1\u001b[0m\u001b[0;34m:\u001b[0m\u001b[0;34m\u001b[0m\u001b[0;34m\u001b[0m\u001b[0m\n",
            "\u001b[0;32m<ipython-input-87-a41044d93ca8>\u001b[0m in \u001b[0;36mlocal_search\u001b[0;34m(repo, limit, alpha, beta, biggerlist, repo_found, cont_list)\u001b[0m\n\u001b[1;32m     61\u001b[0m       \u001b[0mprint\u001b[0m\u001b[0;34m(\u001b[0m\u001b[0mrepo2\u001b[0m\u001b[0;34m.\u001b[0m\u001b[0mfull_name\u001b[0m\u001b[0;34m)\u001b[0m\u001b[0;34m\u001b[0m\u001b[0;34m\u001b[0m\u001b[0m\n\u001b[1;32m     62\u001b[0m       \u001b[0mprint\u001b[0m\u001b[0;34m(\u001b[0m\u001b[0;34m\"Limit passing is \"\u001b[0m\u001b[0;34m+\u001b[0m\u001b[0mstr\u001b[0m\u001b[0;34m(\u001b[0m\u001b[0mlimit\u001b[0m\u001b[0;34m-\u001b[0m\u001b[0mlen\u001b[0m\u001b[0;34m(\u001b[0m\u001b[0mbiggerlist\u001b[0m\u001b[0;34m)\u001b[0m\u001b[0;34m)\u001b[0m\u001b[0;34m)\u001b[0m\u001b[0;34m\u001b[0m\u001b[0;34m\u001b[0m\u001b[0m\n\u001b[0;32m---> 63\u001b[0;31m       \u001b[0mrepo_found2\u001b[0m\u001b[0;34m,\u001b[0m\u001b[0mbiggerlist1\u001b[0m\u001b[0;34m=\u001b[0m\u001b[0mlocal_search\u001b[0m\u001b[0;34m(\u001b[0m\u001b[0mrepo2\u001b[0m\u001b[0;34m,\u001b[0m\u001b[0mlimit\u001b[0m\u001b[0;34m,\u001b[0m\u001b[0malpha\u001b[0m\u001b[0;34m,\u001b[0m\u001b[0mbeta\u001b[0m\u001b[0;34m,\u001b[0m\u001b[0mbiggerlist\u001b[0m\u001b[0;34m,\u001b[0m\u001b[0mrepo_found\u001b[0m\u001b[0;34m,\u001b[0m\u001b[0mcont_list\u001b[0m\u001b[0;34m)\u001b[0m\u001b[0;34m\u001b[0m\u001b[0;34m\u001b[0m\u001b[0m\n\u001b[0m\u001b[1;32m     64\u001b[0m       \u001b[0mprint\u001b[0m\u001b[0;34m(\u001b[0m\u001b[0;34m\"hi\"\u001b[0m\u001b[0;34m)\u001b[0m\u001b[0;34m\u001b[0m\u001b[0;34m\u001b[0m\u001b[0m\n\u001b[1;32m     65\u001b[0m       \u001b[0;32mfor\u001b[0m \u001b[0mrepo\u001b[0m \u001b[0;32min\u001b[0m \u001b[0mbiggerlist1\u001b[0m\u001b[0;34m:\u001b[0m\u001b[0;34m\u001b[0m\u001b[0;34m\u001b[0m\u001b[0m\n",
            "\u001b[0;32m<ipython-input-87-a41044d93ca8>\u001b[0m in \u001b[0;36mlocal_search\u001b[0;34m(repo, limit, alpha, beta, biggerlist, repo_found, cont_list)\u001b[0m\n\u001b[1;32m     61\u001b[0m       \u001b[0mprint\u001b[0m\u001b[0;34m(\u001b[0m\u001b[0mrepo2\u001b[0m\u001b[0;34m.\u001b[0m\u001b[0mfull_name\u001b[0m\u001b[0;34m)\u001b[0m\u001b[0;34m\u001b[0m\u001b[0;34m\u001b[0m\u001b[0m\n\u001b[1;32m     62\u001b[0m       \u001b[0mprint\u001b[0m\u001b[0;34m(\u001b[0m\u001b[0;34m\"Limit passing is \"\u001b[0m\u001b[0;34m+\u001b[0m\u001b[0mstr\u001b[0m\u001b[0;34m(\u001b[0m\u001b[0mlimit\u001b[0m\u001b[0;34m-\u001b[0m\u001b[0mlen\u001b[0m\u001b[0;34m(\u001b[0m\u001b[0mbiggerlist\u001b[0m\u001b[0;34m)\u001b[0m\u001b[0;34m)\u001b[0m\u001b[0;34m)\u001b[0m\u001b[0;34m\u001b[0m\u001b[0;34m\u001b[0m\u001b[0m\n\u001b[0;32m---> 63\u001b[0;31m       \u001b[0mrepo_found2\u001b[0m\u001b[0;34m,\u001b[0m\u001b[0mbiggerlist1\u001b[0m\u001b[0;34m=\u001b[0m\u001b[0mlocal_search\u001b[0m\u001b[0;34m(\u001b[0m\u001b[0mrepo2\u001b[0m\u001b[0;34m,\u001b[0m\u001b[0mlimit\u001b[0m\u001b[0;34m,\u001b[0m\u001b[0malpha\u001b[0m\u001b[0;34m,\u001b[0m\u001b[0mbeta\u001b[0m\u001b[0;34m,\u001b[0m\u001b[0mbiggerlist\u001b[0m\u001b[0;34m,\u001b[0m\u001b[0mrepo_found\u001b[0m\u001b[0;34m,\u001b[0m\u001b[0mcont_list\u001b[0m\u001b[0;34m)\u001b[0m\u001b[0;34m\u001b[0m\u001b[0;34m\u001b[0m\u001b[0m\n\u001b[0m\u001b[1;32m     64\u001b[0m       \u001b[0mprint\u001b[0m\u001b[0;34m(\u001b[0m\u001b[0;34m\"hi\"\u001b[0m\u001b[0;34m)\u001b[0m\u001b[0;34m\u001b[0m\u001b[0;34m\u001b[0m\u001b[0m\n\u001b[1;32m     65\u001b[0m       \u001b[0;32mfor\u001b[0m \u001b[0mrepo\u001b[0m \u001b[0;32min\u001b[0m \u001b[0mbiggerlist1\u001b[0m\u001b[0;34m:\u001b[0m\u001b[0;34m\u001b[0m\u001b[0;34m\u001b[0m\u001b[0m\n",
            "\u001b[0;32m<ipython-input-87-a41044d93ca8>\u001b[0m in \u001b[0;36mlocal_search\u001b[0;34m(repo, limit, alpha, beta, biggerlist, repo_found, cont_list)\u001b[0m\n\u001b[1;32m     61\u001b[0m       \u001b[0mprint\u001b[0m\u001b[0;34m(\u001b[0m\u001b[0mrepo2\u001b[0m\u001b[0;34m.\u001b[0m\u001b[0mfull_name\u001b[0m\u001b[0;34m)\u001b[0m\u001b[0;34m\u001b[0m\u001b[0;34m\u001b[0m\u001b[0m\n\u001b[1;32m     62\u001b[0m       \u001b[0mprint\u001b[0m\u001b[0;34m(\u001b[0m\u001b[0;34m\"Limit passing is \"\u001b[0m\u001b[0;34m+\u001b[0m\u001b[0mstr\u001b[0m\u001b[0;34m(\u001b[0m\u001b[0mlimit\u001b[0m\u001b[0;34m-\u001b[0m\u001b[0mlen\u001b[0m\u001b[0;34m(\u001b[0m\u001b[0mbiggerlist\u001b[0m\u001b[0;34m)\u001b[0m\u001b[0;34m)\u001b[0m\u001b[0;34m)\u001b[0m\u001b[0;34m\u001b[0m\u001b[0;34m\u001b[0m\u001b[0m\n\u001b[0;32m---> 63\u001b[0;31m       \u001b[0mrepo_found2\u001b[0m\u001b[0;34m,\u001b[0m\u001b[0mbiggerlist1\u001b[0m\u001b[0;34m=\u001b[0m\u001b[0mlocal_search\u001b[0m\u001b[0;34m(\u001b[0m\u001b[0mrepo2\u001b[0m\u001b[0;34m,\u001b[0m\u001b[0mlimit\u001b[0m\u001b[0;34m,\u001b[0m\u001b[0malpha\u001b[0m\u001b[0;34m,\u001b[0m\u001b[0mbeta\u001b[0m\u001b[0;34m,\u001b[0m\u001b[0mbiggerlist\u001b[0m\u001b[0;34m,\u001b[0m\u001b[0mrepo_found\u001b[0m\u001b[0;34m,\u001b[0m\u001b[0mcont_list\u001b[0m\u001b[0;34m)\u001b[0m\u001b[0;34m\u001b[0m\u001b[0;34m\u001b[0m\u001b[0m\n\u001b[0m\u001b[1;32m     64\u001b[0m       \u001b[0mprint\u001b[0m\u001b[0;34m(\u001b[0m\u001b[0;34m\"hi\"\u001b[0m\u001b[0;34m)\u001b[0m\u001b[0;34m\u001b[0m\u001b[0;34m\u001b[0m\u001b[0m\n\u001b[1;32m     65\u001b[0m       \u001b[0;32mfor\u001b[0m \u001b[0mrepo\u001b[0m \u001b[0;32min\u001b[0m \u001b[0mbiggerlist1\u001b[0m\u001b[0;34m:\u001b[0m\u001b[0;34m\u001b[0m\u001b[0;34m\u001b[0m\u001b[0m\n",
            "\u001b[0;32m<ipython-input-87-a41044d93ca8>\u001b[0m in \u001b[0;36mlocal_search\u001b[0;34m(repo, limit, alpha, beta, biggerlist, repo_found, cont_list)\u001b[0m\n\u001b[1;32m     61\u001b[0m       \u001b[0mprint\u001b[0m\u001b[0;34m(\u001b[0m\u001b[0mrepo2\u001b[0m\u001b[0;34m.\u001b[0m\u001b[0mfull_name\u001b[0m\u001b[0;34m)\u001b[0m\u001b[0;34m\u001b[0m\u001b[0;34m\u001b[0m\u001b[0m\n\u001b[1;32m     62\u001b[0m       \u001b[0mprint\u001b[0m\u001b[0;34m(\u001b[0m\u001b[0;34m\"Limit passing is \"\u001b[0m\u001b[0;34m+\u001b[0m\u001b[0mstr\u001b[0m\u001b[0;34m(\u001b[0m\u001b[0mlimit\u001b[0m\u001b[0;34m-\u001b[0m\u001b[0mlen\u001b[0m\u001b[0;34m(\u001b[0m\u001b[0mbiggerlist\u001b[0m\u001b[0;34m)\u001b[0m\u001b[0;34m)\u001b[0m\u001b[0;34m)\u001b[0m\u001b[0;34m\u001b[0m\u001b[0;34m\u001b[0m\u001b[0m\n\u001b[0;32m---> 63\u001b[0;31m       \u001b[0mrepo_found2\u001b[0m\u001b[0;34m,\u001b[0m\u001b[0mbiggerlist1\u001b[0m\u001b[0;34m=\u001b[0m\u001b[0mlocal_search\u001b[0m\u001b[0;34m(\u001b[0m\u001b[0mrepo2\u001b[0m\u001b[0;34m,\u001b[0m\u001b[0mlimit\u001b[0m\u001b[0;34m,\u001b[0m\u001b[0malpha\u001b[0m\u001b[0;34m,\u001b[0m\u001b[0mbeta\u001b[0m\u001b[0;34m,\u001b[0m\u001b[0mbiggerlist\u001b[0m\u001b[0;34m,\u001b[0m\u001b[0mrepo_found\u001b[0m\u001b[0;34m,\u001b[0m\u001b[0mcont_list\u001b[0m\u001b[0;34m)\u001b[0m\u001b[0;34m\u001b[0m\u001b[0;34m\u001b[0m\u001b[0m\n\u001b[0m\u001b[1;32m     64\u001b[0m       \u001b[0mprint\u001b[0m\u001b[0;34m(\u001b[0m\u001b[0;34m\"hi\"\u001b[0m\u001b[0;34m)\u001b[0m\u001b[0;34m\u001b[0m\u001b[0;34m\u001b[0m\u001b[0m\n\u001b[1;32m     65\u001b[0m       \u001b[0;32mfor\u001b[0m \u001b[0mrepo\u001b[0m \u001b[0;32min\u001b[0m \u001b[0mbiggerlist1\u001b[0m\u001b[0;34m:\u001b[0m\u001b[0;34m\u001b[0m\u001b[0;34m\u001b[0m\u001b[0m\n",
            "\u001b[0;32m<ipython-input-87-a41044d93ca8>\u001b[0m in \u001b[0;36mlocal_search\u001b[0;34m(repo, limit, alpha, beta, biggerlist, repo_found, cont_list)\u001b[0m\n\u001b[1;32m     61\u001b[0m       \u001b[0mprint\u001b[0m\u001b[0;34m(\u001b[0m\u001b[0mrepo2\u001b[0m\u001b[0;34m.\u001b[0m\u001b[0mfull_name\u001b[0m\u001b[0;34m)\u001b[0m\u001b[0;34m\u001b[0m\u001b[0;34m\u001b[0m\u001b[0m\n\u001b[1;32m     62\u001b[0m       \u001b[0mprint\u001b[0m\u001b[0;34m(\u001b[0m\u001b[0;34m\"Limit passing is \"\u001b[0m\u001b[0;34m+\u001b[0m\u001b[0mstr\u001b[0m\u001b[0;34m(\u001b[0m\u001b[0mlimit\u001b[0m\u001b[0;34m-\u001b[0m\u001b[0mlen\u001b[0m\u001b[0;34m(\u001b[0m\u001b[0mbiggerlist\u001b[0m\u001b[0;34m)\u001b[0m\u001b[0;34m)\u001b[0m\u001b[0;34m)\u001b[0m\u001b[0;34m\u001b[0m\u001b[0;34m\u001b[0m\u001b[0m\n\u001b[0;32m---> 63\u001b[0;31m       \u001b[0mrepo_found2\u001b[0m\u001b[0;34m,\u001b[0m\u001b[0mbiggerlist1\u001b[0m\u001b[0;34m=\u001b[0m\u001b[0mlocal_search\u001b[0m\u001b[0;34m(\u001b[0m\u001b[0mrepo2\u001b[0m\u001b[0;34m,\u001b[0m\u001b[0mlimit\u001b[0m\u001b[0;34m,\u001b[0m\u001b[0malpha\u001b[0m\u001b[0;34m,\u001b[0m\u001b[0mbeta\u001b[0m\u001b[0;34m,\u001b[0m\u001b[0mbiggerlist\u001b[0m\u001b[0;34m,\u001b[0m\u001b[0mrepo_found\u001b[0m\u001b[0;34m,\u001b[0m\u001b[0mcont_list\u001b[0m\u001b[0;34m)\u001b[0m\u001b[0;34m\u001b[0m\u001b[0;34m\u001b[0m\u001b[0m\n\u001b[0m\u001b[1;32m     64\u001b[0m       \u001b[0mprint\u001b[0m\u001b[0;34m(\u001b[0m\u001b[0;34m\"hi\"\u001b[0m\u001b[0;34m)\u001b[0m\u001b[0;34m\u001b[0m\u001b[0;34m\u001b[0m\u001b[0m\n\u001b[1;32m     65\u001b[0m       \u001b[0;32mfor\u001b[0m \u001b[0mrepo\u001b[0m \u001b[0;32min\u001b[0m \u001b[0mbiggerlist1\u001b[0m\u001b[0;34m:\u001b[0m\u001b[0;34m\u001b[0m\u001b[0;34m\u001b[0m\u001b[0m\n",
            "\u001b[0;32m<ipython-input-87-a41044d93ca8>\u001b[0m in \u001b[0;36mlocal_search\u001b[0;34m(repo, limit, alpha, beta, biggerlist, repo_found, cont_list)\u001b[0m\n\u001b[1;32m     61\u001b[0m       \u001b[0mprint\u001b[0m\u001b[0;34m(\u001b[0m\u001b[0mrepo2\u001b[0m\u001b[0;34m.\u001b[0m\u001b[0mfull_name\u001b[0m\u001b[0;34m)\u001b[0m\u001b[0;34m\u001b[0m\u001b[0;34m\u001b[0m\u001b[0m\n\u001b[1;32m     62\u001b[0m       \u001b[0mprint\u001b[0m\u001b[0;34m(\u001b[0m\u001b[0;34m\"Limit passing is \"\u001b[0m\u001b[0;34m+\u001b[0m\u001b[0mstr\u001b[0m\u001b[0;34m(\u001b[0m\u001b[0mlimit\u001b[0m\u001b[0;34m-\u001b[0m\u001b[0mlen\u001b[0m\u001b[0;34m(\u001b[0m\u001b[0mbiggerlist\u001b[0m\u001b[0;34m)\u001b[0m\u001b[0;34m)\u001b[0m\u001b[0;34m)\u001b[0m\u001b[0;34m\u001b[0m\u001b[0;34m\u001b[0m\u001b[0m\n\u001b[0;32m---> 63\u001b[0;31m       \u001b[0mrepo_found2\u001b[0m\u001b[0;34m,\u001b[0m\u001b[0mbiggerlist1\u001b[0m\u001b[0;34m=\u001b[0m\u001b[0mlocal_search\u001b[0m\u001b[0;34m(\u001b[0m\u001b[0mrepo2\u001b[0m\u001b[0;34m,\u001b[0m\u001b[0mlimit\u001b[0m\u001b[0;34m,\u001b[0m\u001b[0malpha\u001b[0m\u001b[0;34m,\u001b[0m\u001b[0mbeta\u001b[0m\u001b[0;34m,\u001b[0m\u001b[0mbiggerlist\u001b[0m\u001b[0;34m,\u001b[0m\u001b[0mrepo_found\u001b[0m\u001b[0;34m,\u001b[0m\u001b[0mcont_list\u001b[0m\u001b[0;34m)\u001b[0m\u001b[0;34m\u001b[0m\u001b[0;34m\u001b[0m\u001b[0m\n\u001b[0m\u001b[1;32m     64\u001b[0m       \u001b[0mprint\u001b[0m\u001b[0;34m(\u001b[0m\u001b[0;34m\"hi\"\u001b[0m\u001b[0;34m)\u001b[0m\u001b[0;34m\u001b[0m\u001b[0;34m\u001b[0m\u001b[0m\n\u001b[1;32m     65\u001b[0m       \u001b[0;32mfor\u001b[0m \u001b[0mrepo\u001b[0m \u001b[0;32min\u001b[0m \u001b[0mbiggerlist1\u001b[0m\u001b[0;34m:\u001b[0m\u001b[0;34m\u001b[0m\u001b[0;34m\u001b[0m\u001b[0m\n",
            "\u001b[0;32m<ipython-input-87-a41044d93ca8>\u001b[0m in \u001b[0;36mlocal_search\u001b[0;34m(repo, limit, alpha, beta, biggerlist, repo_found, cont_list)\u001b[0m\n\u001b[1;32m     61\u001b[0m       \u001b[0mprint\u001b[0m\u001b[0;34m(\u001b[0m\u001b[0mrepo2\u001b[0m\u001b[0;34m.\u001b[0m\u001b[0mfull_name\u001b[0m\u001b[0;34m)\u001b[0m\u001b[0;34m\u001b[0m\u001b[0;34m\u001b[0m\u001b[0m\n\u001b[1;32m     62\u001b[0m       \u001b[0mprint\u001b[0m\u001b[0;34m(\u001b[0m\u001b[0;34m\"Limit passing is \"\u001b[0m\u001b[0;34m+\u001b[0m\u001b[0mstr\u001b[0m\u001b[0;34m(\u001b[0m\u001b[0mlimit\u001b[0m\u001b[0;34m-\u001b[0m\u001b[0mlen\u001b[0m\u001b[0;34m(\u001b[0m\u001b[0mbiggerlist\u001b[0m\u001b[0;34m)\u001b[0m\u001b[0;34m)\u001b[0m\u001b[0;34m)\u001b[0m\u001b[0;34m\u001b[0m\u001b[0;34m\u001b[0m\u001b[0m\n\u001b[0;32m---> 63\u001b[0;31m       \u001b[0mrepo_found2\u001b[0m\u001b[0;34m,\u001b[0m\u001b[0mbiggerlist1\u001b[0m\u001b[0;34m=\u001b[0m\u001b[0mlocal_search\u001b[0m\u001b[0;34m(\u001b[0m\u001b[0mrepo2\u001b[0m\u001b[0;34m,\u001b[0m\u001b[0mlimit\u001b[0m\u001b[0;34m,\u001b[0m\u001b[0malpha\u001b[0m\u001b[0;34m,\u001b[0m\u001b[0mbeta\u001b[0m\u001b[0;34m,\u001b[0m\u001b[0mbiggerlist\u001b[0m\u001b[0;34m,\u001b[0m\u001b[0mrepo_found\u001b[0m\u001b[0;34m,\u001b[0m\u001b[0mcont_list\u001b[0m\u001b[0;34m)\u001b[0m\u001b[0;34m\u001b[0m\u001b[0;34m\u001b[0m\u001b[0m\n\u001b[0m\u001b[1;32m     64\u001b[0m       \u001b[0mprint\u001b[0m\u001b[0;34m(\u001b[0m\u001b[0;34m\"hi\"\u001b[0m\u001b[0;34m)\u001b[0m\u001b[0;34m\u001b[0m\u001b[0;34m\u001b[0m\u001b[0m\n\u001b[1;32m     65\u001b[0m       \u001b[0;32mfor\u001b[0m \u001b[0mrepo\u001b[0m \u001b[0;32min\u001b[0m \u001b[0mbiggerlist1\u001b[0m\u001b[0;34m:\u001b[0m\u001b[0;34m\u001b[0m\u001b[0;34m\u001b[0m\u001b[0m\n",
            "\u001b[0;32m<ipython-input-87-a41044d93ca8>\u001b[0m in \u001b[0;36mlocal_search\u001b[0;34m(repo, limit, alpha, beta, biggerlist, repo_found, cont_list)\u001b[0m\n\u001b[1;32m     61\u001b[0m       \u001b[0mprint\u001b[0m\u001b[0;34m(\u001b[0m\u001b[0mrepo2\u001b[0m\u001b[0;34m.\u001b[0m\u001b[0mfull_name\u001b[0m\u001b[0;34m)\u001b[0m\u001b[0;34m\u001b[0m\u001b[0;34m\u001b[0m\u001b[0m\n\u001b[1;32m     62\u001b[0m       \u001b[0mprint\u001b[0m\u001b[0;34m(\u001b[0m\u001b[0;34m\"Limit passing is \"\u001b[0m\u001b[0;34m+\u001b[0m\u001b[0mstr\u001b[0m\u001b[0;34m(\u001b[0m\u001b[0mlimit\u001b[0m\u001b[0;34m-\u001b[0m\u001b[0mlen\u001b[0m\u001b[0;34m(\u001b[0m\u001b[0mbiggerlist\u001b[0m\u001b[0;34m)\u001b[0m\u001b[0;34m)\u001b[0m\u001b[0;34m)\u001b[0m\u001b[0;34m\u001b[0m\u001b[0;34m\u001b[0m\u001b[0m\n\u001b[0;32m---> 63\u001b[0;31m       \u001b[0mrepo_found2\u001b[0m\u001b[0;34m,\u001b[0m\u001b[0mbiggerlist1\u001b[0m\u001b[0;34m=\u001b[0m\u001b[0mlocal_search\u001b[0m\u001b[0;34m(\u001b[0m\u001b[0mrepo2\u001b[0m\u001b[0;34m,\u001b[0m\u001b[0mlimit\u001b[0m\u001b[0;34m,\u001b[0m\u001b[0malpha\u001b[0m\u001b[0;34m,\u001b[0m\u001b[0mbeta\u001b[0m\u001b[0;34m,\u001b[0m\u001b[0mbiggerlist\u001b[0m\u001b[0;34m,\u001b[0m\u001b[0mrepo_found\u001b[0m\u001b[0;34m,\u001b[0m\u001b[0mcont_list\u001b[0m\u001b[0;34m)\u001b[0m\u001b[0;34m\u001b[0m\u001b[0;34m\u001b[0m\u001b[0m\n\u001b[0m\u001b[1;32m     64\u001b[0m       \u001b[0mprint\u001b[0m\u001b[0;34m(\u001b[0m\u001b[0;34m\"hi\"\u001b[0m\u001b[0;34m)\u001b[0m\u001b[0;34m\u001b[0m\u001b[0;34m\u001b[0m\u001b[0m\n\u001b[1;32m     65\u001b[0m       \u001b[0;32mfor\u001b[0m \u001b[0mrepo\u001b[0m \u001b[0;32min\u001b[0m \u001b[0mbiggerlist1\u001b[0m\u001b[0;34m:\u001b[0m\u001b[0;34m\u001b[0m\u001b[0;34m\u001b[0m\u001b[0m\n",
            "\u001b[0;32m<ipython-input-87-a41044d93ca8>\u001b[0m in \u001b[0;36mlocal_search\u001b[0;34m(repo, limit, alpha, beta, biggerlist, repo_found, cont_list)\u001b[0m\n\u001b[1;32m     61\u001b[0m       \u001b[0mprint\u001b[0m\u001b[0;34m(\u001b[0m\u001b[0mrepo2\u001b[0m\u001b[0;34m.\u001b[0m\u001b[0mfull_name\u001b[0m\u001b[0;34m)\u001b[0m\u001b[0;34m\u001b[0m\u001b[0;34m\u001b[0m\u001b[0m\n\u001b[1;32m     62\u001b[0m       \u001b[0mprint\u001b[0m\u001b[0;34m(\u001b[0m\u001b[0;34m\"Limit passing is \"\u001b[0m\u001b[0;34m+\u001b[0m\u001b[0mstr\u001b[0m\u001b[0;34m(\u001b[0m\u001b[0mlimit\u001b[0m\u001b[0;34m-\u001b[0m\u001b[0mlen\u001b[0m\u001b[0;34m(\u001b[0m\u001b[0mbiggerlist\u001b[0m\u001b[0;34m)\u001b[0m\u001b[0;34m)\u001b[0m\u001b[0;34m)\u001b[0m\u001b[0;34m\u001b[0m\u001b[0;34m\u001b[0m\u001b[0m\n\u001b[0;32m---> 63\u001b[0;31m       \u001b[0mrepo_found2\u001b[0m\u001b[0;34m,\u001b[0m\u001b[0mbiggerlist1\u001b[0m\u001b[0;34m=\u001b[0m\u001b[0mlocal_search\u001b[0m\u001b[0;34m(\u001b[0m\u001b[0mrepo2\u001b[0m\u001b[0;34m,\u001b[0m\u001b[0mlimit\u001b[0m\u001b[0;34m,\u001b[0m\u001b[0malpha\u001b[0m\u001b[0;34m,\u001b[0m\u001b[0mbeta\u001b[0m\u001b[0;34m,\u001b[0m\u001b[0mbiggerlist\u001b[0m\u001b[0;34m,\u001b[0m\u001b[0mrepo_found\u001b[0m\u001b[0;34m,\u001b[0m\u001b[0mcont_list\u001b[0m\u001b[0;34m)\u001b[0m\u001b[0;34m\u001b[0m\u001b[0;34m\u001b[0m\u001b[0m\n\u001b[0m\u001b[1;32m     64\u001b[0m       \u001b[0mprint\u001b[0m\u001b[0;34m(\u001b[0m\u001b[0;34m\"hi\"\u001b[0m\u001b[0;34m)\u001b[0m\u001b[0;34m\u001b[0m\u001b[0;34m\u001b[0m\u001b[0m\n\u001b[1;32m     65\u001b[0m       \u001b[0;32mfor\u001b[0m \u001b[0mrepo\u001b[0m \u001b[0;32min\u001b[0m \u001b[0mbiggerlist1\u001b[0m\u001b[0;34m:\u001b[0m\u001b[0;34m\u001b[0m\u001b[0;34m\u001b[0m\u001b[0m\n",
            "\u001b[0;32m<ipython-input-87-a41044d93ca8>\u001b[0m in \u001b[0;36mlocal_search\u001b[0;34m(repo, limit, alpha, beta, biggerlist, repo_found, cont_list)\u001b[0m\n\u001b[1;32m     61\u001b[0m       \u001b[0mprint\u001b[0m\u001b[0;34m(\u001b[0m\u001b[0mrepo2\u001b[0m\u001b[0;34m.\u001b[0m\u001b[0mfull_name\u001b[0m\u001b[0;34m)\u001b[0m\u001b[0;34m\u001b[0m\u001b[0;34m\u001b[0m\u001b[0m\n\u001b[1;32m     62\u001b[0m       \u001b[0mprint\u001b[0m\u001b[0;34m(\u001b[0m\u001b[0;34m\"Limit passing is \"\u001b[0m\u001b[0;34m+\u001b[0m\u001b[0mstr\u001b[0m\u001b[0;34m(\u001b[0m\u001b[0mlimit\u001b[0m\u001b[0;34m-\u001b[0m\u001b[0mlen\u001b[0m\u001b[0;34m(\u001b[0m\u001b[0mbiggerlist\u001b[0m\u001b[0;34m)\u001b[0m\u001b[0;34m)\u001b[0m\u001b[0;34m)\u001b[0m\u001b[0;34m\u001b[0m\u001b[0;34m\u001b[0m\u001b[0m\n\u001b[0;32m---> 63\u001b[0;31m       \u001b[0mrepo_found2\u001b[0m\u001b[0;34m,\u001b[0m\u001b[0mbiggerlist1\u001b[0m\u001b[0;34m=\u001b[0m\u001b[0mlocal_search\u001b[0m\u001b[0;34m(\u001b[0m\u001b[0mrepo2\u001b[0m\u001b[0;34m,\u001b[0m\u001b[0mlimit\u001b[0m\u001b[0;34m,\u001b[0m\u001b[0malpha\u001b[0m\u001b[0;34m,\u001b[0m\u001b[0mbeta\u001b[0m\u001b[0;34m,\u001b[0m\u001b[0mbiggerlist\u001b[0m\u001b[0;34m,\u001b[0m\u001b[0mrepo_found\u001b[0m\u001b[0;34m,\u001b[0m\u001b[0mcont_list\u001b[0m\u001b[0;34m)\u001b[0m\u001b[0;34m\u001b[0m\u001b[0;34m\u001b[0m\u001b[0m\n\u001b[0m\u001b[1;32m     64\u001b[0m       \u001b[0mprint\u001b[0m\u001b[0;34m(\u001b[0m\u001b[0;34m\"hi\"\u001b[0m\u001b[0;34m)\u001b[0m\u001b[0;34m\u001b[0m\u001b[0;34m\u001b[0m\u001b[0m\n\u001b[1;32m     65\u001b[0m       \u001b[0;32mfor\u001b[0m \u001b[0mrepo\u001b[0m \u001b[0;32min\u001b[0m \u001b[0mbiggerlist1\u001b[0m\u001b[0;34m:\u001b[0m\u001b[0;34m\u001b[0m\u001b[0;34m\u001b[0m\u001b[0m\n",
            "\u001b[0;32m<ipython-input-87-a41044d93ca8>\u001b[0m in \u001b[0;36mlocal_search\u001b[0;34m(repo, limit, alpha, beta, biggerlist, repo_found, cont_list)\u001b[0m\n\u001b[1;32m     30\u001b[0m           \u001b[0mprint\u001b[0m\u001b[0;34m(\u001b[0m\u001b[0mcontributors_list\u001b[0m\u001b[0;34m[\u001b[0m\u001b[0mi\u001b[0m\u001b[0;34m]\u001b[0m\u001b[0;34m.\u001b[0m\u001b[0mlogin\u001b[0m\u001b[0;34m)\u001b[0m\u001b[0;34m\u001b[0m\u001b[0;34m\u001b[0m\u001b[0m\n\u001b[1;32m     31\u001b[0m           \u001b[0mcont_list\u001b[0m\u001b[0;34m.\u001b[0m\u001b[0mappend\u001b[0m\u001b[0;34m(\u001b[0m\u001b[0mcontributors_list\u001b[0m\u001b[0;34m[\u001b[0m\u001b[0mi\u001b[0m\u001b[0;34m]\u001b[0m\u001b[0;34m.\u001b[0m\u001b[0mlogin\u001b[0m\u001b[0;34m)\u001b[0m\u001b[0;34m\u001b[0m\u001b[0;34m\u001b[0m\u001b[0m\n\u001b[0;32m---> 32\u001b[0;31m           \u001b[0mhis_repos\u001b[0m\u001b[0;34m=\u001b[0m\u001b[0mget_contributor_repos_all\u001b[0m\u001b[0;34m(\u001b[0m\u001b[0mcontributors_list\u001b[0m\u001b[0;34m[\u001b[0m\u001b[0mi\u001b[0m\u001b[0;34m]\u001b[0m\u001b[0;34m,\u001b[0m\u001b[0mbeta\u001b[0m\u001b[0;34m)\u001b[0m\u001b[0;34m\u001b[0m\u001b[0;34m\u001b[0m\u001b[0m\n\u001b[0m\u001b[1;32m     33\u001b[0m           \u001b[0;32mif\u001b[0m \u001b[0mbeta\u001b[0m \u001b[0;34m<\u001b[0m \u001b[0mlen\u001b[0m\u001b[0;34m(\u001b[0m\u001b[0mlist\u001b[0m\u001b[0;34m(\u001b[0m\u001b[0mhis_repos\u001b[0m\u001b[0;34m)\u001b[0m\u001b[0;34m)\u001b[0m\u001b[0;34m:\u001b[0m\u001b[0;34m\u001b[0m\u001b[0;34m\u001b[0m\u001b[0m\n\u001b[1;32m     34\u001b[0m             \u001b[0mrandom_list2\u001b[0m\u001b[0;34m=\u001b[0m\u001b[0mrandom\u001b[0m\u001b[0;34m.\u001b[0m\u001b[0msample\u001b[0m\u001b[0;34m(\u001b[0m\u001b[0mrange\u001b[0m\u001b[0;34m(\u001b[0m\u001b[0mlen\u001b[0m\u001b[0;34m(\u001b[0m\u001b[0mlist\u001b[0m\u001b[0;34m(\u001b[0m\u001b[0mhis_repos\u001b[0m\u001b[0;34m)\u001b[0m\u001b[0;34m)\u001b[0m\u001b[0;34m)\u001b[0m\u001b[0;34m,\u001b[0m \u001b[0mbeta\u001b[0m\u001b[0;34m)\u001b[0m\u001b[0;34m\u001b[0m\u001b[0;34m\u001b[0m\u001b[0m\n",
            "\u001b[0;32m<ipython-input-7-40ade8a80cab>\u001b[0m in \u001b[0;36mget_contributor_repos_all\u001b[0;34m(user, beta)\u001b[0m\n\u001b[1;32m      8\u001b[0m       \u001b[0;32mbreak\u001b[0m\u001b[0;34m\u001b[0m\u001b[0;34m\u001b[0m\u001b[0m\n\u001b[1;32m      9\u001b[0m     \u001b[0;32mif\u001b[0m \u001b[0mrepo\u001b[0m\u001b[0;34m.\u001b[0m\u001b[0mfork\u001b[0m\u001b[0;34m:\u001b[0m\u001b[0;34m\u001b[0m\u001b[0;34m\u001b[0m\u001b[0m\n\u001b[0;32m---> 10\u001b[0;31m       \u001b[0mmylist\u001b[0m\u001b[0;34m.\u001b[0m\u001b[0mappend\u001b[0m\u001b[0;34m(\u001b[0m\u001b[0mrepo\u001b[0m\u001b[0;34m.\u001b[0m\u001b[0mparent\u001b[0m\u001b[0;34m)\u001b[0m\u001b[0;34m\u001b[0m\u001b[0;34m\u001b[0m\u001b[0m\n\u001b[0m\u001b[1;32m     11\u001b[0m     \u001b[0;32melse\u001b[0m\u001b[0;34m:\u001b[0m\u001b[0;34m\u001b[0m\u001b[0;34m\u001b[0m\u001b[0m\n\u001b[1;32m     12\u001b[0m       \u001b[0mmylist\u001b[0m\u001b[0;34m.\u001b[0m\u001b[0mappend\u001b[0m\u001b[0;34m(\u001b[0m\u001b[0mrepo\u001b[0m\u001b[0;34m)\u001b[0m\u001b[0;34m\u001b[0m\u001b[0;34m\u001b[0m\u001b[0m\n",
            "\u001b[0;32m/usr/local/lib/python3.6/dist-packages/github/Repository.py\u001b[0m in \u001b[0;36mparent\u001b[0;34m(self)\u001b[0m\n\u001b[1;32m    619\u001b[0m         \u001b[0;34m:\u001b[0m\u001b[0mtype\u001b[0m\u001b[0;34m:\u001b[0m \u001b[0;34m:\u001b[0m\u001b[0;32mclass\u001b[0m\u001b[0;34m:\u001b[0m\u001b[0;31m`\u001b[0m\u001b[0mgithub\u001b[0m\u001b[0;34m.\u001b[0m\u001b[0mRepository\u001b[0m\u001b[0;34m.\u001b[0m\u001b[0mRepository\u001b[0m\u001b[0;31m`\u001b[0m\u001b[0;34m\u001b[0m\u001b[0;34m\u001b[0m\u001b[0m\n\u001b[1;32m    620\u001b[0m         \"\"\"\n\u001b[0;32m--> 621\u001b[0;31m         \u001b[0mself\u001b[0m\u001b[0;34m.\u001b[0m\u001b[0m_completeIfNotSet\u001b[0m\u001b[0;34m(\u001b[0m\u001b[0mself\u001b[0m\u001b[0;34m.\u001b[0m\u001b[0m_parent\u001b[0m\u001b[0;34m)\u001b[0m\u001b[0;34m\u001b[0m\u001b[0;34m\u001b[0m\u001b[0m\n\u001b[0m\u001b[1;32m    622\u001b[0m         \u001b[0;32mreturn\u001b[0m \u001b[0mself\u001b[0m\u001b[0;34m.\u001b[0m\u001b[0m_parent\u001b[0m\u001b[0;34m.\u001b[0m\u001b[0mvalue\u001b[0m\u001b[0;34m\u001b[0m\u001b[0;34m\u001b[0m\u001b[0m\n\u001b[1;32m    623\u001b[0m \u001b[0;34m\u001b[0m\u001b[0m\n",
            "\u001b[0;32m/usr/local/lib/python3.6/dist-packages/github/GithubObject.py\u001b[0m in \u001b[0;36m_completeIfNotSet\u001b[0;34m(self, value)\u001b[0m\n\u001b[1;32m    297\u001b[0m     \u001b[0;32mdef\u001b[0m \u001b[0m_completeIfNotSet\u001b[0m\u001b[0;34m(\u001b[0m\u001b[0mself\u001b[0m\u001b[0;34m,\u001b[0m \u001b[0mvalue\u001b[0m\u001b[0;34m)\u001b[0m\u001b[0;34m:\u001b[0m\u001b[0;34m\u001b[0m\u001b[0;34m\u001b[0m\u001b[0m\n\u001b[1;32m    298\u001b[0m         \u001b[0;32mif\u001b[0m \u001b[0mvalue\u001b[0m \u001b[0;32mis\u001b[0m \u001b[0mNotSet\u001b[0m\u001b[0;34m:\u001b[0m\u001b[0;34m\u001b[0m\u001b[0;34m\u001b[0m\u001b[0m\n\u001b[0;32m--> 299\u001b[0;31m             \u001b[0mself\u001b[0m\u001b[0;34m.\u001b[0m\u001b[0m_completeIfNeeded\u001b[0m\u001b[0;34m(\u001b[0m\u001b[0;34m)\u001b[0m\u001b[0;34m\u001b[0m\u001b[0;34m\u001b[0m\u001b[0m\n\u001b[0m\u001b[1;32m    300\u001b[0m \u001b[0;34m\u001b[0m\u001b[0m\n\u001b[1;32m    301\u001b[0m     \u001b[0;32mdef\u001b[0m \u001b[0m_completeIfNeeded\u001b[0m\u001b[0;34m(\u001b[0m\u001b[0mself\u001b[0m\u001b[0;34m)\u001b[0m\u001b[0;34m:\u001b[0m\u001b[0;34m\u001b[0m\u001b[0;34m\u001b[0m\u001b[0m\n",
            "\u001b[0;32m/usr/local/lib/python3.6/dist-packages/github/GithubObject.py\u001b[0m in \u001b[0;36m_completeIfNeeded\u001b[0;34m(self)\u001b[0m\n\u001b[1;32m    301\u001b[0m     \u001b[0;32mdef\u001b[0m \u001b[0m_completeIfNeeded\u001b[0m\u001b[0;34m(\u001b[0m\u001b[0mself\u001b[0m\u001b[0;34m)\u001b[0m\u001b[0;34m:\u001b[0m\u001b[0;34m\u001b[0m\u001b[0;34m\u001b[0m\u001b[0m\n\u001b[1;32m    302\u001b[0m         \u001b[0;32mif\u001b[0m \u001b[0;32mnot\u001b[0m \u001b[0mself\u001b[0m\u001b[0;34m.\u001b[0m\u001b[0m__completed\u001b[0m\u001b[0;34m:\u001b[0m\u001b[0;34m\u001b[0m\u001b[0;34m\u001b[0m\u001b[0m\n\u001b[0;32m--> 303\u001b[0;31m             \u001b[0mself\u001b[0m\u001b[0;34m.\u001b[0m\u001b[0m__complete\u001b[0m\u001b[0;34m(\u001b[0m\u001b[0;34m)\u001b[0m\u001b[0;34m\u001b[0m\u001b[0;34m\u001b[0m\u001b[0m\n\u001b[0m\u001b[1;32m    304\u001b[0m \u001b[0;34m\u001b[0m\u001b[0m\n\u001b[1;32m    305\u001b[0m     \u001b[0;32mdef\u001b[0m \u001b[0m__complete\u001b[0m\u001b[0;34m(\u001b[0m\u001b[0mself\u001b[0m\u001b[0;34m)\u001b[0m\u001b[0;34m:\u001b[0m\u001b[0;34m\u001b[0m\u001b[0;34m\u001b[0m\u001b[0m\n",
            "\u001b[0;32m/usr/local/lib/python3.6/dist-packages/github/GithubObject.py\u001b[0m in \u001b[0;36m__complete\u001b[0;34m(self)\u001b[0m\n\u001b[1;32m    308\u001b[0m                 \u001b[0;36m400\u001b[0m\u001b[0;34m,\u001b[0m \u001b[0;34m\"Returned object contains no URL\"\u001b[0m\u001b[0;34m\u001b[0m\u001b[0;34m\u001b[0m\u001b[0m\n\u001b[1;32m    309\u001b[0m             )\n\u001b[0;32m--> 310\u001b[0;31m         \u001b[0mheaders\u001b[0m\u001b[0;34m,\u001b[0m \u001b[0mdata\u001b[0m \u001b[0;34m=\u001b[0m \u001b[0mself\u001b[0m\u001b[0;34m.\u001b[0m\u001b[0m_requester\u001b[0m\u001b[0;34m.\u001b[0m\u001b[0mrequestJsonAndCheck\u001b[0m\u001b[0;34m(\u001b[0m\u001b[0;34m\"GET\"\u001b[0m\u001b[0;34m,\u001b[0m \u001b[0mself\u001b[0m\u001b[0;34m.\u001b[0m\u001b[0m_url\u001b[0m\u001b[0;34m.\u001b[0m\u001b[0mvalue\u001b[0m\u001b[0;34m)\u001b[0m\u001b[0;34m\u001b[0m\u001b[0;34m\u001b[0m\u001b[0m\n\u001b[0m\u001b[1;32m    311\u001b[0m         \u001b[0mself\u001b[0m\u001b[0;34m.\u001b[0m\u001b[0m_storeAndUseAttributes\u001b[0m\u001b[0;34m(\u001b[0m\u001b[0mheaders\u001b[0m\u001b[0;34m,\u001b[0m \u001b[0mdata\u001b[0m\u001b[0;34m)\u001b[0m\u001b[0;34m\u001b[0m\u001b[0;34m\u001b[0m\u001b[0m\n\u001b[1;32m    312\u001b[0m         \u001b[0mself\u001b[0m\u001b[0;34m.\u001b[0m\u001b[0m__completed\u001b[0m \u001b[0;34m=\u001b[0m \u001b[0;32mTrue\u001b[0m\u001b[0;34m\u001b[0m\u001b[0;34m\u001b[0m\u001b[0m\n",
            "\u001b[0;32m/usr/local/lib/python3.6/dist-packages/github/Requester.py\u001b[0m in \u001b[0;36mrequestJsonAndCheck\u001b[0;34m(self, verb, url, parameters, headers, input)\u001b[0m\n\u001b[1;32m    317\u001b[0m         return self.__check(\n\u001b[1;32m    318\u001b[0m             *self.requestJson(\n\u001b[0;32m--> 319\u001b[0;31m                 \u001b[0mverb\u001b[0m\u001b[0;34m,\u001b[0m \u001b[0murl\u001b[0m\u001b[0;34m,\u001b[0m \u001b[0mparameters\u001b[0m\u001b[0;34m,\u001b[0m \u001b[0mheaders\u001b[0m\u001b[0;34m,\u001b[0m \u001b[0minput\u001b[0m\u001b[0;34m,\u001b[0m \u001b[0mself\u001b[0m\u001b[0;34m.\u001b[0m\u001b[0m__customConnection\u001b[0m\u001b[0;34m(\u001b[0m\u001b[0murl\u001b[0m\u001b[0;34m)\u001b[0m\u001b[0;34m\u001b[0m\u001b[0;34m\u001b[0m\u001b[0m\n\u001b[0m\u001b[1;32m    320\u001b[0m             )\n\u001b[1;32m    321\u001b[0m         )\n",
            "\u001b[0;32m/usr/local/lib/python3.6/dist-packages/github/Requester.py\u001b[0m in \u001b[0;36m__check\u001b[0;34m(self, status, responseHeaders, output)\u001b[0m\n\u001b[1;32m    340\u001b[0m         \u001b[0moutput\u001b[0m \u001b[0;34m=\u001b[0m \u001b[0mself\u001b[0m\u001b[0;34m.\u001b[0m\u001b[0m__structuredFromJson\u001b[0m\u001b[0;34m(\u001b[0m\u001b[0moutput\u001b[0m\u001b[0;34m)\u001b[0m\u001b[0;34m\u001b[0m\u001b[0;34m\u001b[0m\u001b[0m\n\u001b[1;32m    341\u001b[0m         \u001b[0;32mif\u001b[0m \u001b[0mstatus\u001b[0m \u001b[0;34m>=\u001b[0m \u001b[0;36m400\u001b[0m\u001b[0;34m:\u001b[0m\u001b[0;34m\u001b[0m\u001b[0;34m\u001b[0m\u001b[0m\n\u001b[0;32m--> 342\u001b[0;31m             \u001b[0;32mraise\u001b[0m \u001b[0mself\u001b[0m\u001b[0;34m.\u001b[0m\u001b[0m__createException\u001b[0m\u001b[0;34m(\u001b[0m\u001b[0mstatus\u001b[0m\u001b[0;34m,\u001b[0m \u001b[0mresponseHeaders\u001b[0m\u001b[0;34m,\u001b[0m \u001b[0moutput\u001b[0m\u001b[0;34m)\u001b[0m\u001b[0;34m\u001b[0m\u001b[0;34m\u001b[0m\u001b[0m\n\u001b[0m\u001b[1;32m    343\u001b[0m         \u001b[0;32mreturn\u001b[0m \u001b[0mresponseHeaders\u001b[0m\u001b[0;34m,\u001b[0m \u001b[0moutput\u001b[0m\u001b[0;34m\u001b[0m\u001b[0;34m\u001b[0m\u001b[0m\n\u001b[1;32m    344\u001b[0m \u001b[0;34m\u001b[0m\u001b[0m\n",
            "\u001b[0;31mGithubException\u001b[0m: 451 {\"message\": \"Repository access blocked\", \"block\": {\"reason\": \"dmca\", \"created_at\": \"2020-01-22T23:15:06Z\", \"html_url\": \"https://github.com/github/dmca/blob/master/2020/01/2020-01-21-OReilly-2.md\"}}"
          ]
        }
      ]
    },
    {
      "cell_type": "code",
      "metadata": {
        "id": "F1s0_pS5E3iB"
      },
      "source": [
        "import json\n",
        "with open('datainjson800reposday2.txt', 'a') as outfile:\n",
        "  for i in range(len(repo_found)):\n",
        "      json.dump(repo_found[i].raw_data, outfile)\n",
        "      outfile.write('\\n')"
      ],
      "execution_count": null,
      "outputs": []
    },
    {
      "cell_type": "code",
      "metadata": {
        "id": "W_f4ZIi3_Rm5",
        "colab": {
          "base_uri": "https://localhost:8080/",
          "height": 35
        },
        "outputId": "cea2da50-127a-48b6-b9c8-89d85e376a07"
      },
      "source": [
        "print(g.get_rate_limit())"
      ],
      "execution_count": null,
      "outputs": [
        {
          "output_type": "stream",
          "text": [
            "RateLimit(core=Rate(reset=2020-10-15 19:07:23, remaining=444, limit=5000))\n"
          ],
          "name": "stdout"
        }
      ]
    },
    {
      "cell_type": "code",
      "metadata": {
        "id": "8DrTqxvQ8XB3",
        "colab": {
          "base_uri": "https://localhost:8080/",
          "height": 35
        },
        "outputId": "2f73863a-4896-41cd-e623-00521036a401"
      },
      "source": [
        "print(len(repo_found),len(biglist))"
      ],
      "execution_count": null,
      "outputs": [
        {
          "output_type": "stream",
          "text": [
            "94 21\n"
          ],
          "name": "stdout"
        }
      ]
    },
    {
      "cell_type": "code",
      "metadata": {
        "id": "AxOi-6H8U4JQ",
        "colab": {
          "base_uri": "https://localhost:8080/",
          "height": 395
        },
        "outputId": "240d4915-4a78-4a27-84cf-2f53205c4eae"
      },
      "source": [
        "for repo in repo_found:\n",
        "  print(repo.full_name)"
      ],
      "execution_count": null,
      "outputs": [
        {
          "output_type": "stream",
          "text": [
            "scrapy/scrapy\n",
            "kachayev/fn.py\n",
            "tschellenbach/Django-facebook\n",
            "stummjr/pybr12-tutorial\n",
            "alexcepoi/gopro-uploader\n",
            "scrapinghub/scrapylib\n",
            "gtranslate/gtranslate\n",
            "scrapy-plugins/scrapy-monkeylearn\n",
            "AjuntamentdeBarcelona/django-bima-core\n",
            "stav/rapidapi-typescript-app\n",
            "gettyimages/docker-spark\n",
            "CouchPotato/CouchPotatoServer\n",
            "automaticserver/lxe\n",
            "kragniz/cookiecutter-pypackage-minimal\n",
            "boto/boto\n",
            "tschellenbach/DjangoOpenInviter\n",
            "callowayproject/django-massmedia\n",
            "j4mie/django-spurl\n",
            "claviska/jquery-minicolors\n",
            "olegpidsadnyi/pytest-bdd-example\n",
            "elevenetc/client-stream-chat-poc\n"
          ],
          "name": "stdout"
        }
      ]
    },
    {
      "cell_type": "code",
      "metadata": {
        "id": "FYoqCqrxgwld",
        "colab": {
          "base_uri": "https://localhost:8080/",
          "height": 395
        },
        "outputId": "df229604-77ef-4b2a-c670-b08c0d018d61"
      },
      "source": [
        "for repo in biglist:\n",
        "  print(repo.full_name)"
      ],
      "execution_count": null,
      "outputs": [
        {
          "output_type": "stream",
          "text": [
            "jashkenas/backbone\n",
            "wireservice/agate-lookup\n",
            "dangra/anemone-spider\n",
            "acornjs/acorn-jsx\n",
            "railscasts/221-subdomains-in-rails-3\n",
            "marijnh/acl-zmq\n",
            "conda-forge/agate-feedstock\n",
            "elastic/apm-agent-nodejs\n",
            "conda-forge/addict-feedstock\n",
            "Ohjeah/abrupt-sindy\n",
            "invasionofsmallcubes/3gScheduler\n",
            "acornjs/acorn\n",
            "iros/adayofmbta-js\n",
            "codesuki/add-node-modules-path\n",
            "fabien-d/alertify.js\n",
            "pi-hole/AdminLTE\n",
            "vigneshshanmugam/agent-pool\n",
            "wibjer/-2DV407\n",
            "vinta/awesome-python\n",
            "sqren/backport\n",
            "kaicataldo/.github\n"
          ],
          "name": "stdout"
        }
      ]
    },
    {
      "cell_type": "code",
      "metadata": {
        "id": "EKpFanAZtudS"
      },
      "source": [
        "\n",
        "repo_test=g.get_repo(\"rmkraus/ansible-mysql\")\n",
        "contributors_test=repo_test.get_contributors()"
      ],
      "execution_count": null,
      "outputs": []
    },
    {
      "cell_type": "code",
      "metadata": {
        "id": "evrhU4Fbt6va"
      },
      "source": [
        "for contributor in contributors_test:\n",
        "  print(contributor.login)"
      ],
      "execution_count": null,
      "outputs": []
    },
    {
      "cell_type": "code",
      "metadata": {
        "id": "5GpkXLZrViKj"
      },
      "source": [
        "print(repo_test.language)"
      ],
      "execution_count": null,
      "outputs": []
    },
    {
      "cell_type": "code",
      "metadata": {
        "id": "u9aKH57lUDFd"
      },
      "source": [
        "def get_contributor_repos(username):\n",
        "  user = g.get_user(username) # target user\n",
        "  repos = user.get_repos()\n",
        "\n",
        "  non_forks = []\n",
        "  for repo in user.get_repos():\n",
        "      if repo.fork is False:\n",
        "          non_forks.append(repo.name)\n",
        "\n",
        "  return non_forks\n",
        "print(get_contributor_repos(\"TopdRob\"))"
      ],
      "execution_count": null,
      "outputs": []
    },
    {
      "cell_type": "code",
      "metadata": {
        "id": "VbOTtUtDX2Cr"
      },
      "source": [
        "contributors[0].login"
      ],
      "execution_count": null,
      "outputs": []
    },
    {
      "cell_type": "code",
      "metadata": {
        "id": "i19fMELpZLAy"
      },
      "source": [
        "temp_list=[]\n",
        "temp_list.append(g.get_repo(\"\"))"
      ],
      "execution_count": null,
      "outputs": []
    },
    {
      "cell_type": "code",
      "metadata": {
        "id": "CO58NeQNaxRz"
      },
      "source": [
        "for repo in repos:\n",
        "  print(repo.full_name)"
      ],
      "execution_count": null,
      "outputs": []
    },
    {
      "cell_type": "code",
      "metadata": {
        "id": "c0ekTZDSeb_Z"
      },
      "source": [
        "import networkx as nx"
      ],
      "execution_count": null,
      "outputs": []
    },
    {
      "cell_type": "code",
      "metadata": {
        "id": "rRrOaGpB_SHf",
        "colab": {
          "base_uri": "https://localhost:8080/",
          "height": 215
        },
        "outputId": "f5636656-28a9-43c8-e266-6dffdb98317d"
      },
      "source": [
        "!wget http://nrvis.com/download/data/misc/wiki-Talk.zip"
      ],
      "execution_count": null,
      "outputs": [
        {
          "output_type": "stream",
          "text": [
            "--2020-10-24 19:04:30--  http://nrvis.com/download/data/misc/wiki-Talk.zip\n",
            "Resolving nrvis.com (nrvis.com)... 173.236.156.25\n",
            "Connecting to nrvis.com (nrvis.com)|173.236.156.25|:80... connected.\n",
            "HTTP request sent, awaiting response... 200 OK\n",
            "Length: 16396759 (16M) [application/zip]\n",
            "Saving to: ‘wiki-Talk.zip’\n",
            "\n",
            "wiki-Talk.zip       100%[===================>]  15.64M  81.9MB/s    in 0.2s    \n",
            "\n",
            "2020-10-24 19:04:30 (81.9 MB/s) - ‘wiki-Talk.zip’ saved [16396759/16396759]\n",
            "\n"
          ],
          "name": "stdout"
        }
      ]
    },
    {
      "cell_type": "code",
      "metadata": {
        "id": "XQIhoszV_3XQ"
      },
      "source": [
        "import zipfile\n",
        "with zipfile.ZipFile(\"/content/wiki-Talk.zip\", 'r') as zip_ref:\n",
        "    zip_ref.extractall(\"/content\")"
      ],
      "execution_count": null,
      "outputs": []
    },
    {
      "cell_type": "code",
      "metadata": {
        "id": "30oxYhiGALUN"
      },
      "source": [
        "fh = open(\"/content/wiki-Talk.edges\", \"rb\")\n",
        "G = nx.read_edgelist(fh,delimiter=\",\",comments=\"%\")\n",
        "fh.close()\n"
      ],
      "execution_count": null,
      "outputs": []
    },
    {
      "cell_type": "code",
      "metadata": {
        "id": "LxRVHwc8AhDA",
        "colab": {
          "base_uri": "https://localhost:8080/",
          "height": 35
        },
        "outputId": "019a15f9-b40b-4d96-c333-414955b295e6"
      },
      "source": [
        "print(len(G.nodes()))"
      ],
      "execution_count": null,
      "outputs": [
        {
          "output_type": "stream",
          "text": [
            "2394385\n"
          ],
          "name": "stdout"
        }
      ]
    },
    {
      "cell_type": "code",
      "metadata": {
        "id": "4d3GAjCYAp9u",
        "colab": {
          "base_uri": "https://localhost:8080/",
          "height": 35
        },
        "outputId": "76af63a5-3b8b-4ffe-8bc3-ef70ffb0158c"
      },
      "source": [
        "print(len(G.edges()))"
      ],
      "execution_count": null,
      "outputs": [
        {
          "output_type": "stream",
          "text": [
            "4659565\n"
          ],
          "name": "stdout"
        }
      ]
    },
    {
      "cell_type": "markdown",
      "metadata": {
        "id": "HdlWBxWV4OsR"
      },
      "source": [
        "# WIKICS"
      ]
    },
    {
      "cell_type": "markdown",
      "metadata": {
        "id": "jJ-Ieumd4eJK"
      },
      "source": [
        "# Using Torch Geometric"
      ]
    },
    {
      "cell_type": "code",
      "metadata": {
        "id": "fjpp6TknBEmi",
        "colab": {
          "base_uri": "https://localhost:8080/"
        },
        "outputId": "1cb549e7-b563-4264-a205-574281499e10"
      },
      "source": [
        "# Install required packages.\n",
        "!pip install -q torch-scatter==latest+cu101 -f https://pytorch-geometric.com/whl/torch-1.6.0.html\n",
        "!pip install -q torch-sparse==latest+cu101 -f https://pytorch-geometric.com/whl/torch-1.6.0.html\n",
        "!pip install -q torch-cluster==latest+cu101 -f https://pytorch-geometric.com/whl/torch-1.6.0.html\n",
        "!pip install -q git+https://github.com/rusty1s/pytorch_geometric.git\n",
        "\n",
        "# Helper function for visualization.\n",
        "%matplotlib inline\n",
        "import torch\n",
        "import networkx as nx\n",
        "import matplotlib.pyplot as plt\n",
        "\n"
      ],
      "execution_count": null,
      "outputs": [
        {
          "output_type": "stream",
          "text": [
            "  Building wheel for torch-geometric (setup.py) ... \u001b[?25l\u001b[?25hdone\n"
          ],
          "name": "stdout"
        }
      ]
    },
    {
      "cell_type": "code",
      "metadata": {
        "id": "VImKnKW384Eu",
        "colab": {
          "base_uri": "https://localhost:8080/"
        },
        "outputId": "d9fb4c00-18f6-4701-e063-ddc23f1c2dc4"
      },
      "source": [
        "!pip install torch-geometric \\\n",
        "  torch-sparse==latest+cu101 \\\n",
        "  torch-scatter==latest+cu101 \\\n",
        "  torch-cluster==latest+cu101 \\\n",
        "  -f https://pytorch-geometric.com/whl/torch-1.4.0.html"
      ],
      "execution_count": null,
      "outputs": [
        {
          "output_type": "stream",
          "text": [
            "Looking in links: https://pytorch-geometric.com/whl/torch-1.4.0.html\n",
            "Requirement already satisfied: torch-geometric in /usr/local/lib/python3.6/dist-packages (1.6.1)\n",
            "Collecting torch-sparse==latest+cu101\n",
            "\u001b[?25l  Downloading https://pytorch-geometric.com/whl/torch-1.4.0/torch_sparse-latest%2Bcu101-cp36-cp36m-linux_x86_64.whl (15.2MB)\n",
            "\u001b[K     |████████████████████████████████| 15.2MB 207kB/s \n",
            "\u001b[?25hCollecting torch-scatter==latest+cu101\n",
            "\u001b[?25l  Downloading https://pytorch-geometric.com/whl/torch-1.4.0/torch_scatter-latest%2Bcu101-cp36-cp36m-linux_x86_64.whl (10.6MB)\n",
            "\u001b[K     |████████████████████████████████| 10.6MB 6.8MB/s \n",
            "\u001b[?25hCollecting torch-cluster==latest+cu101\n",
            "\u001b[?25l  Downloading https://pytorch-geometric.com/whl/torch-1.4.0/torch_cluster-latest%2Bcu101-cp36-cp36m-linux_x86_64.whl (14.5MB)\n",
            "\u001b[K     |████████████████████████████████| 14.5MB 242kB/s \n",
            "\u001b[?25hRequirement already satisfied: pandas in /usr/local/lib/python3.6/dist-packages (from torch-geometric) (1.1.4)\n",
            "Requirement already satisfied: networkx in /usr/local/lib/python3.6/dist-packages (from torch-geometric) (2.5)\n",
            "Requirement already satisfied: scipy in /usr/local/lib/python3.6/dist-packages (from torch-geometric) (1.4.1)\n",
            "Requirement already satisfied: numpy in /usr/local/lib/python3.6/dist-packages (from torch-geometric) (1.18.5)\n",
            "Requirement already satisfied: h5py in /usr/local/lib/python3.6/dist-packages (from torch-geometric) (2.10.0)\n",
            "Requirement already satisfied: jinja2 in /usr/local/lib/python3.6/dist-packages (from torch-geometric) (2.11.2)\n",
            "Requirement already satisfied: numba in /usr/local/lib/python3.6/dist-packages (from torch-geometric) (0.48.0)\n",
            "Requirement already satisfied: ase in /usr/local/lib/python3.6/dist-packages (from torch-geometric) (3.20.1)\n",
            "Requirement already satisfied: googledrivedownloader in /usr/local/lib/python3.6/dist-packages (from torch-geometric) (0.4)\n",
            "Requirement already satisfied: scikit-learn in /usr/local/lib/python3.6/dist-packages (from torch-geometric) (0.22.2.post1)\n",
            "Requirement already satisfied: requests in /usr/local/lib/python3.6/dist-packages (from torch-geometric) (2.23.0)\n",
            "Requirement already satisfied: torch in /usr/local/lib/python3.6/dist-packages (from torch-geometric) (1.7.0+cu101)\n",
            "Requirement already satisfied: tqdm in /usr/local/lib/python3.6/dist-packages (from torch-geometric) (4.41.1)\n",
            "Requirement already satisfied: rdflib in /usr/local/lib/python3.6/dist-packages (from torch-geometric) (5.0.0)\n",
            "Requirement already satisfied: python-louvain in /usr/local/lib/python3.6/dist-packages (from torch-geometric) (0.14)\n",
            "Requirement already satisfied: pytz>=2017.2 in /usr/local/lib/python3.6/dist-packages (from pandas->torch-geometric) (2018.9)\n",
            "Requirement already satisfied: python-dateutil>=2.7.3 in /usr/local/lib/python3.6/dist-packages (from pandas->torch-geometric) (2.8.1)\n",
            "Requirement already satisfied: decorator>=4.3.0 in /usr/local/lib/python3.6/dist-packages (from networkx->torch-geometric) (4.4.2)\n",
            "Requirement already satisfied: six in /usr/local/lib/python3.6/dist-packages (from h5py->torch-geometric) (1.15.0)\n",
            "Requirement already satisfied: MarkupSafe>=0.23 in /usr/local/lib/python3.6/dist-packages (from jinja2->torch-geometric) (1.1.1)\n",
            "Requirement already satisfied: llvmlite<0.32.0,>=0.31.0dev0 in /usr/local/lib/python3.6/dist-packages (from numba->torch-geometric) (0.31.0)\n",
            "Requirement already satisfied: setuptools in /usr/local/lib/python3.6/dist-packages (from numba->torch-geometric) (50.3.2)\n",
            "Requirement already satisfied: matplotlib>=2.0.0 in /usr/local/lib/python3.6/dist-packages (from ase->torch-geometric) (3.2.2)\n",
            "Requirement already satisfied: joblib>=0.11 in /usr/local/lib/python3.6/dist-packages (from scikit-learn->torch-geometric) (0.17.0)\n",
            "Requirement already satisfied: chardet<4,>=3.0.2 in /usr/local/lib/python3.6/dist-packages (from requests->torch-geometric) (3.0.4)\n",
            "Requirement already satisfied: urllib3!=1.25.0,!=1.25.1,<1.26,>=1.21.1 in /usr/local/lib/python3.6/dist-packages (from requests->torch-geometric) (1.24.3)\n",
            "Requirement already satisfied: certifi>=2017.4.17 in /usr/local/lib/python3.6/dist-packages (from requests->torch-geometric) (2020.6.20)\n",
            "Requirement already satisfied: idna<3,>=2.5 in /usr/local/lib/python3.6/dist-packages (from requests->torch-geometric) (2.10)\n",
            "Requirement already satisfied: typing-extensions in /usr/local/lib/python3.6/dist-packages (from torch->torch-geometric) (3.7.4.3)\n",
            "Requirement already satisfied: dataclasses in /usr/local/lib/python3.6/dist-packages (from torch->torch-geometric) (0.7)\n",
            "Requirement already satisfied: future in /usr/local/lib/python3.6/dist-packages (from torch->torch-geometric) (0.16.0)\n",
            "Requirement already satisfied: pyparsing in /usr/local/lib/python3.6/dist-packages (from rdflib->torch-geometric) (2.4.7)\n",
            "Requirement already satisfied: isodate in /usr/local/lib/python3.6/dist-packages (from rdflib->torch-geometric) (0.6.0)\n",
            "Requirement already satisfied: cycler>=0.10 in /usr/local/lib/python3.6/dist-packages (from matplotlib>=2.0.0->ase->torch-geometric) (0.10.0)\n",
            "Requirement already satisfied: kiwisolver>=1.0.1 in /usr/local/lib/python3.6/dist-packages (from matplotlib>=2.0.0->ase->torch-geometric) (1.3.1)\n",
            "Installing collected packages: torch-sparse, torch-scatter, torch-cluster\n",
            "  Found existing installation: torch-sparse 0.6.8\n",
            "    Uninstalling torch-sparse-0.6.8:\n",
            "      Successfully uninstalled torch-sparse-0.6.8\n",
            "  Found existing installation: torch-scatter 2.0.5\n",
            "    Uninstalling torch-scatter-2.0.5:\n",
            "      Successfully uninstalled torch-scatter-2.0.5\n",
            "  Found existing installation: torch-cluster 1.5.8\n",
            "    Uninstalling torch-cluster-1.5.8:\n",
            "      Successfully uninstalled torch-cluster-1.5.8\n",
            "Successfully installed torch-cluster-1.5.4 torch-scatter-2.0.4 torch-sparse-0.6.1\n"
          ],
          "name": "stdout"
        }
      ]
    },
    {
      "cell_type": "code",
      "metadata": {
        "id": "GGWycPQRWWnx",
        "colab": {
          "base_uri": "https://localhost:8080/",
          "height": 394
        },
        "outputId": "e56bb2fc-5130-4b25-cc38-a915a0338a30"
      },
      "source": [
        "import os.path as osp\n",
        "import torch_cluster\n",
        "import torch\n",
        "import matplotlib.pyplot as plt\n",
        "from sklearn.manifold import TSNE\n",
        "from torch_geometric.datasets import Planetoid\n",
        "from torch_geometric.nn import Node2Vec"
      ],
      "execution_count": null,
      "outputs": [
        {
          "output_type": "error",
          "ename": "OSError",
          "evalue": "ignored",
          "traceback": [
            "\u001b[0;31m---------------------------------------------------------------------------\u001b[0m",
            "\u001b[0;31mOSError\u001b[0m                                   Traceback (most recent call last)",
            "\u001b[0;32m<ipython-input-4-5fff936ee64e>\u001b[0m in \u001b[0;36m<module>\u001b[0;34m()\u001b[0m\n\u001b[1;32m      1\u001b[0m \u001b[0;32mimport\u001b[0m \u001b[0mos\u001b[0m\u001b[0;34m.\u001b[0m\u001b[0mpath\u001b[0m \u001b[0;32mas\u001b[0m \u001b[0mosp\u001b[0m\u001b[0;34m\u001b[0m\u001b[0;34m\u001b[0m\u001b[0m\n\u001b[0;32m----> 2\u001b[0;31m \u001b[0;32mimport\u001b[0m \u001b[0mtorch_cluster\u001b[0m\u001b[0;34m\u001b[0m\u001b[0;34m\u001b[0m\u001b[0m\n\u001b[0m\u001b[1;32m      3\u001b[0m \u001b[0;32mimport\u001b[0m \u001b[0mtorch\u001b[0m\u001b[0;34m\u001b[0m\u001b[0;34m\u001b[0m\u001b[0m\n\u001b[1;32m      4\u001b[0m \u001b[0;32mimport\u001b[0m \u001b[0mmatplotlib\u001b[0m\u001b[0;34m.\u001b[0m\u001b[0mpyplot\u001b[0m \u001b[0;32mas\u001b[0m \u001b[0mplt\u001b[0m\u001b[0;34m\u001b[0m\u001b[0;34m\u001b[0m\u001b[0m\n\u001b[1;32m      5\u001b[0m \u001b[0;32mfrom\u001b[0m \u001b[0msklearn\u001b[0m\u001b[0;34m.\u001b[0m\u001b[0mmanifold\u001b[0m \u001b[0;32mimport\u001b[0m \u001b[0mTSNE\u001b[0m\u001b[0;34m\u001b[0m\u001b[0;34m\u001b[0m\u001b[0m\n",
            "\u001b[0;32m/usr/local/lib/python3.6/dist-packages/torch_cluster/__init__.py\u001b[0m in \u001b[0;36m<module>\u001b[0;34m()\u001b[0m\n\u001b[1;32m     11\u001b[0m ]:\n\u001b[1;32m     12\u001b[0m     torch.ops.load_library(importlib.machinery.PathFinder().find_spec(\n\u001b[0;32m---> 13\u001b[0;31m         library, [osp.dirname(__file__)]).origin)\n\u001b[0m\u001b[1;32m     14\u001b[0m \u001b[0;34m\u001b[0m\u001b[0m\n\u001b[1;32m     15\u001b[0m \u001b[0;32mif\u001b[0m \u001b[0mtorch\u001b[0m\u001b[0;34m.\u001b[0m\u001b[0mversion\u001b[0m\u001b[0;34m.\u001b[0m\u001b[0mcuda\u001b[0m \u001b[0;32mis\u001b[0m \u001b[0;32mnot\u001b[0m \u001b[0;32mNone\u001b[0m\u001b[0;34m:\u001b[0m  \u001b[0;31m# pragma: no cover\u001b[0m\u001b[0;34m\u001b[0m\u001b[0;34m\u001b[0m\u001b[0m\n",
            "\u001b[0;32m/usr/local/lib/python3.6/dist-packages/torch/_ops.py\u001b[0m in \u001b[0;36mload_library\u001b[0;34m(self, path)\u001b[0m\n\u001b[1;32m    103\u001b[0m             \u001b[0;31m# static (global) initialization code in order to register custom\u001b[0m\u001b[0;34m\u001b[0m\u001b[0;34m\u001b[0m\u001b[0;34m\u001b[0m\u001b[0m\n\u001b[1;32m    104\u001b[0m             \u001b[0;31m# operators with the JIT.\u001b[0m\u001b[0;34m\u001b[0m\u001b[0;34m\u001b[0m\u001b[0;34m\u001b[0m\u001b[0m\n\u001b[0;32m--> 105\u001b[0;31m             \u001b[0mctypes\u001b[0m\u001b[0;34m.\u001b[0m\u001b[0mCDLL\u001b[0m\u001b[0;34m(\u001b[0m\u001b[0mpath\u001b[0m\u001b[0;34m)\u001b[0m\u001b[0;34m\u001b[0m\u001b[0;34m\u001b[0m\u001b[0m\n\u001b[0m\u001b[1;32m    106\u001b[0m         \u001b[0mself\u001b[0m\u001b[0;34m.\u001b[0m\u001b[0mloaded_libraries\u001b[0m\u001b[0;34m.\u001b[0m\u001b[0madd\u001b[0m\u001b[0;34m(\u001b[0m\u001b[0mpath\u001b[0m\u001b[0;34m)\u001b[0m\u001b[0;34m\u001b[0m\u001b[0;34m\u001b[0m\u001b[0m\n\u001b[1;32m    107\u001b[0m \u001b[0;34m\u001b[0m\u001b[0m\n",
            "\u001b[0;32m/usr/lib/python3.6/ctypes/__init__.py\u001b[0m in \u001b[0;36m__init__\u001b[0;34m(self, name, mode, handle, use_errno, use_last_error)\u001b[0m\n\u001b[1;32m    346\u001b[0m \u001b[0;34m\u001b[0m\u001b[0m\n\u001b[1;32m    347\u001b[0m         \u001b[0;32mif\u001b[0m \u001b[0mhandle\u001b[0m \u001b[0;32mis\u001b[0m \u001b[0;32mNone\u001b[0m\u001b[0;34m:\u001b[0m\u001b[0;34m\u001b[0m\u001b[0;34m\u001b[0m\u001b[0m\n\u001b[0;32m--> 348\u001b[0;31m             \u001b[0mself\u001b[0m\u001b[0;34m.\u001b[0m\u001b[0m_handle\u001b[0m \u001b[0;34m=\u001b[0m \u001b[0m_dlopen\u001b[0m\u001b[0;34m(\u001b[0m\u001b[0mself\u001b[0m\u001b[0;34m.\u001b[0m\u001b[0m_name\u001b[0m\u001b[0;34m,\u001b[0m \u001b[0mmode\u001b[0m\u001b[0;34m)\u001b[0m\u001b[0;34m\u001b[0m\u001b[0;34m\u001b[0m\u001b[0m\n\u001b[0m\u001b[1;32m    349\u001b[0m         \u001b[0;32melse\u001b[0m\u001b[0;34m:\u001b[0m\u001b[0;34m\u001b[0m\u001b[0;34m\u001b[0m\u001b[0m\n\u001b[1;32m    350\u001b[0m             \u001b[0mself\u001b[0m\u001b[0;34m.\u001b[0m\u001b[0m_handle\u001b[0m \u001b[0;34m=\u001b[0m \u001b[0mhandle\u001b[0m\u001b[0;34m\u001b[0m\u001b[0;34m\u001b[0m\u001b[0m\n",
            "\u001b[0;31mOSError\u001b[0m: /usr/local/lib/python3.6/dist-packages/torch_cluster/_grid.so: undefined symbol: _ZTIN3c104TypeE"
          ]
        }
      ]
    },
    {
      "cell_type": "code",
      "metadata": {
        "id": "3f9niHjon3-L",
        "colab": {
          "base_uri": "https://localhost:8080/",
          "height": 375
        },
        "outputId": "64e9a732-0312-427a-c7dc-d0660eef59b1"
      },
      "source": [
        "from torch_geometric.datasets import WikiCS\n",
        "dataset=WikiCS(root='/content')\n",
        "print(f'Dataset: {dataset}:')\n",
        "print('======================')\n",
        "print(f'Number of graphs: {len(dataset)}')\n",
        "print(f'Number of features: {dataset.num_features}')\n",
        "print(f'Number of classes: {dataset.num_classes}')"
      ],
      "execution_count": null,
      "outputs": [
        {
          "output_type": "error",
          "ename": "ModuleNotFoundError",
          "evalue": "ignored",
          "traceback": [
            "\u001b[0;31m---------------------------------------------------------------------------\u001b[0m",
            "\u001b[0;31mModuleNotFoundError\u001b[0m                       Traceback (most recent call last)",
            "\u001b[0;32m<ipython-input-1-40efedfe6ff0>\u001b[0m in \u001b[0;36m<module>\u001b[0;34m()\u001b[0m\n\u001b[0;32m----> 1\u001b[0;31m \u001b[0;32mfrom\u001b[0m \u001b[0mtorch_geometric\u001b[0m\u001b[0;34m.\u001b[0m\u001b[0mdatasets\u001b[0m \u001b[0;32mimport\u001b[0m \u001b[0mWikiCS\u001b[0m\u001b[0;34m\u001b[0m\u001b[0;34m\u001b[0m\u001b[0m\n\u001b[0m\u001b[1;32m      2\u001b[0m \u001b[0mdataset\u001b[0m\u001b[0;34m=\u001b[0m\u001b[0mWikiCS\u001b[0m\u001b[0;34m(\u001b[0m\u001b[0mroot\u001b[0m\u001b[0;34m=\u001b[0m\u001b[0;34m'/content'\u001b[0m\u001b[0;34m)\u001b[0m\u001b[0;34m\u001b[0m\u001b[0;34m\u001b[0m\u001b[0m\n\u001b[1;32m      3\u001b[0m \u001b[0mprint\u001b[0m\u001b[0;34m(\u001b[0m\u001b[0;34mf'Dataset: {dataset}:'\u001b[0m\u001b[0;34m)\u001b[0m\u001b[0;34m\u001b[0m\u001b[0;34m\u001b[0m\u001b[0m\n\u001b[1;32m      4\u001b[0m \u001b[0mprint\u001b[0m\u001b[0;34m(\u001b[0m\u001b[0;34m'======================'\u001b[0m\u001b[0;34m)\u001b[0m\u001b[0;34m\u001b[0m\u001b[0;34m\u001b[0m\u001b[0m\n\u001b[1;32m      5\u001b[0m \u001b[0mprint\u001b[0m\u001b[0;34m(\u001b[0m\u001b[0;34mf'Number of graphs: {len(dataset)}'\u001b[0m\u001b[0;34m)\u001b[0m\u001b[0;34m\u001b[0m\u001b[0;34m\u001b[0m\u001b[0m\n",
            "\u001b[0;31mModuleNotFoundError\u001b[0m: No module named 'torch_geometric'",
            "",
            "\u001b[0;31m---------------------------------------------------------------------------\u001b[0;32m\nNOTE: If your import is failing due to a missing package, you can\nmanually install dependencies using either !pip or !apt.\n\nTo view examples of installing some common dependencies, click the\n\"Open Examples\" button below.\n\u001b[0;31m---------------------------------------------------------------------------\u001b[0m\n"
          ]
        }
      ]
    },
    {
      "cell_type": "code",
      "metadata": {
        "id": "8Rz_OzkEOO03",
        "colab": {
          "base_uri": "https://localhost:8080/",
          "height": 35
        },
        "outputId": "26447161-af1d-4fa9-ddba-89cda08337d7"
      },
      "source": [
        "data=dataset[0]\n",
        "print(torch.transpose(data.train_mask,0,1)[0].shape)\n",
        "train_mask=torch.transpose(data.train_mask,0,1)[0]\n",
        "val_mask=torch.transpose(data.val_mask,0,1)[0]\n"
      ],
      "execution_count": null,
      "outputs": [
        {
          "output_type": "stream",
          "text": [
            "torch.Size([11701])\n"
          ],
          "name": "stdout"
        }
      ]
    },
    {
      "cell_type": "code",
      "metadata": {
        "id": "RtT00WcEZgEM",
        "colab": {
          "base_uri": "https://localhost:8080/"
        },
        "outputId": "eff9dd73-19ec-4c28-cb8e-d2f1dff5f57e"
      },
      "source": [
        "print(data2.keys())\n",
        "print(data2[\"labels\"][1])"
      ],
      "execution_count": null,
      "outputs": [
        {
          "output_type": "stream",
          "text": [
            "dict_keys(['features', 'labels', 'links', 'train_masks', 'stopping_masks', 'val_masks', 'test_mask'])\n",
            "2\n"
          ],
          "name": "stdout"
        }
      ]
    },
    {
      "cell_type": "code",
      "metadata": {
        "id": "3UO6l9ZypIlU",
        "colab": {
          "base_uri": "https://localhost:8080/",
          "height": 197
        },
        "outputId": "10ac0d29-a5c7-4179-e1b2-95cb2634cbe1"
      },
      "source": [
        "data = dataset[0]  # Get the first graph object.\n",
        "\n",
        "print(data)\n",
        "print('==============================================================')\n",
        "\n",
        "# Gather some statistics about the graph.\n",
        "print(f'Number of nodes: {data.num_nodes}')\n",
        "print(f'Number of edges: {data.num_edges}')\n",
        "print(f'Average node degree: {data.num_edges / data.num_nodes:.2f}')\n",
        "print(f'Number of training nodes: {data.train_mask.sum()}')\n",
        "print(f'Training node label rate: {int(data.train_mask.sum()) / data.num_nodes:.2f}')\n",
        "print(f'Contains isolated nodes: {data.contains_isolated_nodes()}')\n",
        "print(f'Contains self-loops: {data.contains_self_loops()}')\n",
        "print(f'Is undirected: {data.is_undirected()}')"
      ],
      "execution_count": null,
      "outputs": [
        {
          "output_type": "stream",
          "text": [
            "Data(edge_index=[2, 297110], stopping_mask=[11701, 20], test_mask=[11701], train_mask=[11701, 20], val_mask=[11701, 20], x=[11701, 300], y=[11701])\n",
            "==============================================================\n",
            "Number of nodes: 11701\n",
            "Number of edges: 297110\n",
            "Average node degree: 25.39\n",
            "Number of training nodes: 11600\n",
            "Training node label rate: 0.99\n",
            "Contains isolated nodes: True\n",
            "Contains self-loops: True\n",
            "Is undirected: False\n"
          ],
          "name": "stdout"
        }
      ]
    },
    {
      "cell_type": "code",
      "metadata": {
        "id": "ttXmt1t3pOYd",
        "colab": {
          "base_uri": "https://localhost:8080/",
          "height": 1000
        },
        "outputId": "0cabfdca-e37f-48b3-f946-c1c03bd3364a"
      },
      "source": [
        "\n",
        "device = 'cuda' if torch.cuda.is_available() else 'cpu'\n",
        "model = Node2Vec(data.edge_index, embedding_dim=20, walk_length=20,\n",
        "                 context_size=10, walks_per_node=10, num_negative_samples=1,\n",
        "                 sparse=True).to(device)\n",
        "print(model.forward(1701))\n",
        "loader = model.loader(batch_size=128, shuffle=True, num_workers=4)\n",
        "optimizer = torch.optim.SparseAdam(model.parameters(), lr=0.01)\n",
        "\n",
        "\n",
        "def train():\n",
        "    model.train()\n",
        "    total_loss = 0\n",
        "    for pos_rw, neg_rw in loader:\n",
        "        optimizer.zero_grad()\n",
        "        loss = model.loss(pos_rw.to(device), neg_rw.to(device))\n",
        "        loss.backward()\n",
        "        optimizer.step()\n",
        "        total_loss += loss.item()\n",
        "    return total_loss / len(loader)\n",
        "\n",
        "\n",
        "@torch.no_grad()\n",
        "def test():\n",
        "    model.eval()\n",
        "    z = model()\n",
        "    acc = model.test(z[train_mask], data.y[train_mask],\n",
        "                     z[data.test_mask], data.y[data.test_mask], max_iter=150)\n",
        "    return acc\n",
        "\n",
        "\n",
        "for epoch in range(1, 101):\n",
        "    loss = train()\n",
        "    acc = test()\n",
        "    print(f'Epoch: {epoch:02d}, Loss: {loss:.4f}, Acc: {acc:.4f}')\n",
        "\n"
      ],
      "execution_count": null,
      "outputs": [
        {
          "output_type": "stream",
          "text": [
            "tensor([ 0.1321,  0.7256, -1.4194,  1.1759, -0.5058, -1.4352, -2.2779,  0.2281,\n",
            "        -0.2668,  0.3394,  0.2391,  0.2124, -1.0904, -1.1671,  0.4342,  1.3983,\n",
            "         0.5970,  0.4322, -0.3610,  0.9956], device='cuda:0',\n",
            "       grad_fn=<SelectBackward>)\n",
            "Epoch: 01, Loss: 2.6389, Acc: 0.2090\n",
            "Epoch: 02, Loss: 1.4105, Acc: 0.2572\n",
            "Epoch: 03, Loss: 1.1023, Acc: 0.3220\n",
            "Epoch: 04, Loss: 1.0307, Acc: 0.4130\n",
            "Epoch: 05, Loss: 0.9973, Acc: 0.4962\n",
            "Epoch: 06, Loss: 0.9779, Acc: 0.5567\n",
            "Epoch: 07, Loss: 0.9651, Acc: 0.6017\n",
            "Epoch: 08, Loss: 0.9567, Acc: 0.6342\n",
            "Epoch: 09, Loss: 0.9515, Acc: 0.6651\n",
            "Epoch: 10, Loss: 0.9479, Acc: 0.6831\n",
            "Epoch: 11, Loss: 0.9446, Acc: 0.6968\n",
            "Epoch: 12, Loss: 0.9431, Acc: 0.7014\n",
            "Epoch: 13, Loss: 0.9411, Acc: 0.7096\n",
            "Epoch: 14, Loss: 0.9398, Acc: 0.7147\n",
            "Epoch: 15, Loss: 0.9388, Acc: 0.7192\n",
            "Epoch: 16, Loss: 0.9381, Acc: 0.7219\n",
            "Epoch: 17, Loss: 0.9372, Acc: 0.7240\n",
            "Epoch: 18, Loss: 0.9369, Acc: 0.7284\n",
            "Epoch: 19, Loss: 0.9362, Acc: 0.7335\n",
            "Epoch: 20, Loss: 0.9361, Acc: 0.7305\n",
            "Epoch: 21, Loss: 0.9359, Acc: 0.7299\n",
            "Epoch: 22, Loss: 0.9360, Acc: 0.7341\n",
            "Epoch: 23, Loss: 0.9351, Acc: 0.7356\n",
            "Epoch: 24, Loss: 0.9350, Acc: 0.7329\n",
            "Epoch: 25, Loss: 0.9342, Acc: 0.7317\n",
            "Epoch: 26, Loss: 0.9347, Acc: 0.7329\n",
            "Epoch: 27, Loss: 0.9346, Acc: 0.7311\n",
            "Epoch: 28, Loss: 0.9344, Acc: 0.7344\n",
            "Epoch: 29, Loss: 0.9338, Acc: 0.7315\n",
            "Epoch: 30, Loss: 0.9342, Acc: 0.7325\n",
            "Epoch: 31, Loss: 0.9336, Acc: 0.7354\n",
            "Epoch: 32, Loss: 0.9330, Acc: 0.7332\n",
            "Epoch: 33, Loss: 0.9329, Acc: 0.7399\n",
            "Epoch: 34, Loss: 0.9330, Acc: 0.7330\n",
            "Epoch: 35, Loss: 0.9331, Acc: 0.7334\n",
            "Epoch: 36, Loss: 0.9333, Acc: 0.7392\n",
            "Epoch: 37, Loss: 0.9332, Acc: 0.7364\n",
            "Epoch: 38, Loss: 0.9333, Acc: 0.7332\n",
            "Epoch: 39, Loss: 0.9326, Acc: 0.7361\n",
            "Epoch: 40, Loss: 0.9326, Acc: 0.7351\n",
            "Epoch: 41, Loss: 0.9325, Acc: 0.7308\n",
            "Epoch: 42, Loss: 0.9328, Acc: 0.7339\n",
            "Epoch: 43, Loss: 0.9324, Acc: 0.7332\n",
            "Epoch: 44, Loss: 0.9328, Acc: 0.7299\n",
            "Epoch: 45, Loss: 0.9323, Acc: 0.7376\n",
            "Epoch: 46, Loss: 0.9316, Acc: 0.7394\n",
            "Epoch: 47, Loss: 0.9322, Acc: 0.7361\n",
            "Epoch: 48, Loss: 0.9317, Acc: 0.7358\n",
            "Epoch: 49, Loss: 0.9321, Acc: 0.7327\n",
            "Epoch: 50, Loss: 0.9322, Acc: 0.7320\n",
            "Epoch: 51, Loss: 0.9318, Acc: 0.7335\n",
            "Epoch: 52, Loss: 0.9319, Acc: 0.7394\n",
            "Epoch: 53, Loss: 0.9311, Acc: 0.7380\n",
            "Epoch: 54, Loss: 0.9318, Acc: 0.7363\n",
            "Epoch: 55, Loss: 0.9322, Acc: 0.7404\n",
            "Epoch: 56, Loss: 0.9312, Acc: 0.7394\n",
            "Epoch: 57, Loss: 0.9319, Acc: 0.7411\n",
            "Epoch: 58, Loss: 0.9315, Acc: 0.7370\n",
            "Epoch: 59, Loss: 0.9313, Acc: 0.7370\n",
            "Epoch: 60, Loss: 0.9317, Acc: 0.7378\n",
            "Epoch: 61, Loss: 0.9318, Acc: 0.7325\n",
            "Epoch: 62, Loss: 0.9315, Acc: 0.7346\n",
            "Epoch: 63, Loss: 0.9314, Acc: 0.7335\n",
            "Epoch: 64, Loss: 0.9315, Acc: 0.7383\n",
            "Epoch: 65, Loss: 0.9315, Acc: 0.7354\n",
            "Epoch: 66, Loss: 0.9322, Acc: 0.7364\n",
            "Epoch: 67, Loss: 0.9316, Acc: 0.7329\n",
            "Epoch: 68, Loss: 0.9315, Acc: 0.7337\n",
            "Epoch: 69, Loss: 0.9310, Acc: 0.7327\n",
            "Epoch: 70, Loss: 0.9315, Acc: 0.7344\n",
            "Epoch: 71, Loss: 0.9311, Acc: 0.7335\n",
            "Epoch: 72, Loss: 0.9319, Acc: 0.7349\n",
            "Epoch: 73, Loss: 0.9308, Acc: 0.7330\n",
            "Epoch: 74, Loss: 0.9310, Acc: 0.7366\n",
            "Epoch: 75, Loss: 0.9305, Acc: 0.7327\n",
            "Epoch: 76, Loss: 0.9311, Acc: 0.7354\n",
            "Epoch: 77, Loss: 0.9313, Acc: 0.7334\n",
            "Epoch: 78, Loss: 0.9309, Acc: 0.7347\n",
            "Epoch: 79, Loss: 0.9307, Acc: 0.7373\n",
            "Epoch: 80, Loss: 0.9309, Acc: 0.7347\n",
            "Epoch: 81, Loss: 0.9315, Acc: 0.7382\n",
            "Epoch: 82, Loss: 0.9312, Acc: 0.7361\n",
            "Epoch: 83, Loss: 0.9308, Acc: 0.7380\n",
            "Epoch: 84, Loss: 0.9301, Acc: 0.7349\n",
            "Epoch: 85, Loss: 0.9307, Acc: 0.7294\n",
            "Epoch: 86, Loss: 0.9304, Acc: 0.7306\n",
            "Epoch: 87, Loss: 0.9310, Acc: 0.7380\n",
            "Epoch: 88, Loss: 0.9306, Acc: 0.7299\n",
            "Epoch: 89, Loss: 0.9313, Acc: 0.7293\n",
            "Epoch: 90, Loss: 0.9310, Acc: 0.7320\n",
            "Epoch: 91, Loss: 0.9301, Acc: 0.7347\n",
            "Epoch: 92, Loss: 0.9306, Acc: 0.7335\n",
            "Epoch: 93, Loss: 0.9311, Acc: 0.7342\n",
            "Epoch: 94, Loss: 0.9302, Acc: 0.7315\n",
            "Epoch: 95, Loss: 0.9306, Acc: 0.7323\n",
            "Epoch: 96, Loss: 0.9312, Acc: 0.7310\n",
            "Epoch: 97, Loss: 0.9300, Acc: 0.7329\n",
            "Epoch: 98, Loss: 0.9302, Acc: 0.7346\n",
            "Epoch: 99, Loss: 0.9306, Acc: 0.7341\n",
            "Epoch: 100, Loss: 0.9304, Acc: 0.7380\n"
          ],
          "name": "stdout"
        }
      ]
    },
    {
      "cell_type": "code",
      "metadata": {
        "id": "xmt_-wALb1hR",
        "colab": {
          "base_uri": "https://localhost:8080/",
          "height": 35
        },
        "outputId": "536d7b45-0c56-431b-8489-60d9c952bb2a"
      },
      "source": [
        "count=0\n",
        "for i in data.test_mask:\n",
        "  if True == i:\n",
        "    count=count+1\n",
        "print(count)"
      ],
      "execution_count": null,
      "outputs": [
        {
          "output_type": "stream",
          "text": [
            "5847\n"
          ],
          "name": "stdout"
        }
      ]
    },
    {
      "cell_type": "code",
      "metadata": {
        "id": "UtF9NBkjc3Ib",
        "colab": {
          "base_uri": "https://localhost:8080/",
          "height": 71
        },
        "outputId": "70c20ce9-6994-443e-b3ac-de633f2972a5"
      },
      "source": [
        "model = Node2Vec(data.edge_index, embedding_dim=21, walk_length=20,\n",
        "                 context_size=10, walks_per_node=10, num_negative_samples=1,\n",
        "                 sparse=True).to(device)\n",
        "print(z.shape)\n",
        "print(data.y.shape)\n",
        "print(data.train_mask.shape)"
      ],
      "execution_count": null,
      "outputs": [
        {
          "output_type": "stream",
          "text": [
            "torch.Size([11701, 20])\n",
            "torch.Size([11701])\n",
            "torch.Size([11701, 20])\n"
          ],
          "name": "stdout"
        }
      ]
    },
    {
      "cell_type": "code",
      "metadata": {
        "id": "1nl_cpNTc-fB",
        "colab": {
          "base_uri": "https://localhost:8080/",
          "height": 55
        },
        "outputId": "6fd32154-4514-4351-f800-5a04939249c7"
      },
      "source": [
        "import random\n",
        "total=[]\n",
        "for i in range(11701):\n",
        "  total.append(i)\n",
        "indices1=random.sample(range(11701),int(0.6*11701))\n",
        "remaining_indices=list(set(total)-set(indices1))\n",
        "test=random.sample(remaining_indices,int((0.2)*11701))\n",
        "print(test)\n",
        "val=list(set(remaining_indices)-set(test))\n",
        "mylist1=[False]*11701\n",
        "mylist2=[False]*11701\n",
        "mylist3=[False]*11701\n",
        "for i in range(11701):\n",
        "  if i in indices1:\n",
        "    mylist1[i]=True\n",
        "  if i in test:\n",
        "    mylist2[i]=True\n",
        "  if i in val:\n",
        "    mylist3[i]=True    \n",
        "train_mask=torch.tensor(mylist1)\n",
        "test_mask=torch.tensor(mylist2)\n",
        "val_mask=torch.tensor(mylist3)"
      ],
      "execution_count": null,
      "outputs": [
        {
          "output_type": "stream",
          "text": [
            "[827, 9683, 486, 6458, 6553, 8250, 2682, 361, 9684, 9635, 11254, 7947, 10867, 11071, 965, 1866, 9081, 7290, 6929, 923, 2243, 2723, 6363, 4108, 8636, 3431, 6003, 6650, 9733, 4549, 9483, 4872, 10055, 10944, 3891, 7519, 8320, 5227, 2808, 7603, 8715, 10648, 11152, 679, 2367, 2009, 2520, 1960, 11038, 715, 10268, 7133, 2697, 2766, 8904, 744, 2829, 10926, 9702, 7841, 2941, 1024, 9017, 1476, 1093, 2321, 9819, 1054, 9302, 3343, 8641, 2742, 1969, 4330, 3595, 993, 7661, 3411, 10408, 9656, 5549, 6532, 6855, 10452, 1642, 1147, 6568, 4135, 6589, 1032, 5715, 5195, 1902, 2132, 11371, 9816, 568, 8732, 2013, 1756, 3309, 1089, 5273, 4807, 9138, 117, 5235, 1069, 884, 6891, 167, 7528, 5632, 270, 10368, 6080, 4467, 1303, 7310, 3856, 1411, 4525, 10141, 5279, 8850, 1647, 1843, 763, 2081, 5066, 11483, 3310, 10207, 4386, 214, 5925, 7437, 9134, 4342, 7641, 3137, 8978, 5574, 4233, 10709, 7453, 10840, 3179, 4167, 1588, 646, 4718, 11490, 3368, 4620, 5516, 1391, 5477, 8354, 2823, 4591, 10617, 6015, 7815, 2782, 2416, 2982, 6835, 9042, 6916, 11652, 1136, 8581, 263, 115, 1793, 8624, 9622, 10319, 2042, 7350, 4358, 247, 1534, 9897, 4286, 3436, 7504, 3092, 517, 1407, 6882, 10924, 1156, 7538, 4260, 2632, 11144, 5418, 8382, 1617, 10964, 11573, 7323, 1693, 5876, 4705, 1862, 8949, 6033, 5124, 3217, 2610, 8958, 4228, 9169, 2338, 5382, 6615, 5915, 4249, 8828, 10092, 5060, 1349, 6747, 2345, 8631, 10535, 9818, 2216, 8180, 9589, 4389, 7244, 7220, 7718, 4935, 2365, 127, 7274, 6735, 3509, 3140, 6683, 7871, 9250, 1650, 8323, 868, 7179, 5650, 1931, 1438, 1083, 9316, 4220, 8923, 4068, 7964, 8296, 7954, 7885, 10838, 2448, 10230, 5272, 9804, 2878, 1087, 6628, 2222, 10694, 880, 6190, 11275, 7617, 9355, 11469, 5415, 9166, 2425, 4265, 6828, 11213, 4605, 8355, 7579, 8434, 7225, 1799, 2958, 6422, 7705, 882, 6607, 714, 10271, 5286, 7700, 726, 1030, 8778, 6113, 10264, 5886, 949, 10482, 10304, 8551, 5885, 6303, 2726, 6770, 26, 11569, 2807, 7958, 119, 3170, 5214, 10006, 6841, 5887, 8550, 24, 10473, 286, 3612, 7554, 2998, 776, 8583, 4142, 10172, 9060, 4152, 8587, 7727, 815, 5039, 1730, 5578, 10342, 10989, 6549, 8910, 11253, 11240, 3153, 4868, 906, 9810, 1525, 4042, 5657, 1154, 10550, 1782, 6272, 5603, 11452, 11584, 10960, 2747, 8384, 4850, 11692, 1195, 8064, 5048, 7993, 4769, 9921, 5605, 3084, 904, 9993, 8073, 9086, 7879, 5370, 6107, 4698, 778, 1691, 7545, 169, 6693, 4243, 9709, 9623, 4138, 7018, 7639, 3992, 4059, 6501, 913, 3805, 5318, 5326, 8319, 4662, 10603, 8015, 3090, 459, 3778, 9349, 6416, 8899, 9558, 3438, 10700, 318, 1252, 2253, 9603, 10764, 6808, 10621, 5956, 1566, 3660, 5044, 11267, 2430, 2860, 11215, 11262, 1920, 10035, 440, 7138, 11516, 11680, 7638, 572, 8619, 5992, 9995, 8172, 4923, 6656, 423, 3665, 1584, 2796, 1229, 10116, 1219, 10117, 5455, 8692, 8306, 9740, 4589, 7339, 4114, 883, 7652, 2832, 4075, 8087, 9454, 653, 9110, 730, 6400, 11605, 11429, 8280, 1446, 6980, 1364, 9126, 7791, 8475, 239, 11480, 6285, 6779, 3042, 463, 288, 9686, 2762, 6412, 5989, 10346, 2413, 10195, 9668, 3723, 4094, 6582, 5780, 6354, 2586, 10974, 7180, 5893, 1521, 7098, 6246, 4914, 1058, 10106, 952, 10684, 3814, 10077, 4877, 5074, 6619, 7415, 1387, 2696, 6417, 4687, 9821, 9077, 7860, 6596, 11440, 5530, 6242, 11430, 10821, 3077, 7905, 2804, 2578, 1051, 2876, 5078, 10644, 6804, 10005, 7040, 7271, 7847, 751, 4422, 8155, 6638, 4325, 4417, 2559, 8774, 1921, 3924, 7398, 10999, 9724, 4290, 4216, 11150, 4925, 1750, 2002, 487, 8507, 7813, 7807, 314, 6435, 5694, 3143, 3918, 1627, 5649, 5298, 9698, 2129, 7145, 9917, 6337, 9464, 6124, 5402, 6028, 1453, 7611, 9132, 352, 1377, 2953, 4878, 3367, 11394, 1994, 4702, 921, 2972, 5366, 6994, 11613, 4121, 6188, 857, 3058, 9417, 10582, 803, 1524, 8519, 11422, 2805, 8846, 9165, 8460, 8143, 3207, 6743, 3403, 6084, 4437, 9397, 9541, 4960, 8568, 8632, 1372, 3079, 1748, 11119, 6326, 4572, 3695, 4202, 7673, 2377, 11506, 2990, 10783, 4038, 5529, 5782, 10864, 7378, 10390, 10490, 4465, 2133, 7356, 8200, 2546, 603, 9534, 4242, 8647, 3085, 137, 6674, 2268, 6777, 7725, 11466, 8779, 10685, 6436, 5683, 5398, 10248, 8747, 1189, 11046, 6987, 10187, 6473, 5944, 8627, 11651, 2716, 9284, 10401, 1970, 6342, 6856, 9977, 3023, 8054, 504, 9458, 3866, 6967, 171, 936, 2601, 3440, 4875, 4940, 10278, 6569, 3710, 2529, 718, 5095, 10722, 1769, 6546, 8084, 5208, 11649, 10702, 7245, 6600, 2406, 10087, 3701, 1253, 727, 10566, 1805, 10800, 1903, 3462, 1760, 854, 2440, 1155, 6447, 5801, 7733, 6936, 960, 6022, 8848, 4203, 9213, 4553, 3549, 1823, 3349, 6217, 7869, 1868, 966, 9957, 4889, 10068, 981, 9073, 9408, 3811, 9493, 11444, 5018, 7074, 4322, 11439, 4861, 7476, 3444, 1361, 1306, 7316, 6571, 3872, 3129, 2993, 2337, 11156, 1907, 8237, 4081, 1603, 9974, 4137, 5053, 3739, 7168, 8089, 3195, 1755, 635, 6065, 2415, 7536, 4475, 7104, 9748, 8818, 3955, 1149, 450, 1103, 7306, 3781, 6455, 6602, 3654, 7156, 9515, 731, 5970, 6876, 10541, 11241, 5547, 9727, 3901, 5193, 6695, 6608, 10961, 2975, 11138, 871, 6620, 9330, 172, 9560, 2177, 8020, 10327, 2449, 1170, 7730, 3916, 6797, 416, 3625, 8810, 10836, 10108, 10934, 10011, 2407, 3544, 10902, 6627, 11535, 10562, 11495, 3384, 3521, 5378, 5725, 6168, 11548, 11519, 6487, 9725, 8194, 3668, 6944, 6793, 9677, 5749, 9401, 9102, 2721, 5148, 3106, 9758, 8502, 11131, 9297, 6928, 2075, 8080, 874, 4606, 281, 9296, 6873, 9260, 11665, 1672, 7144, 10249, 10375, 5103, 10458, 1408, 7619, 5211, 11235, 5426, 6150, 1543, 5144, 4304, 3463, 6397, 5083, 8596, 11625, 4576, 4792, 3160, 9070, 8594, 4191, 9196, 6613, 9501, 4095, 2814, 5758, 2235, 2545, 8352, 3772, 1836, 2935, 745, 5517, 3191, 5968, 8436, 5770, 7646, 1978, 4661, 914, 9575, 2532, 7458, 6474, 9551, 5660, 8464, 5065, 9187, 6140, 4267, 8840, 10668, 11268, 3096, 2017, 5465, 5524, 6631, 5689, 8074, 1356, 10998, 10805, 4552, 10925, 512, 7194, 10210, 3727, 6183, 3584, 2744, 7750, 4719, 4435, 2806, 1423, 890, 4172, 8409, 9248, 5456, 5545, 9874, 8562, 8839, 7039, 8913, 10069, 5341, 184, 3868, 10008, 6759, 3795, 11488, 8140, 8312, 1762, 9500, 472, 4618, 4395, 11615, 2307, 4891, 7540, 7723, 10827, 1925, 10354, 10817, 10842, 2506, 995, 9516, 4381, 9844, 2318, 5368, 8082, 9807, 1991, 5596, 934, 7689, 8773, 10196, 7426, 1174, 2144, 2538, 8831, 5219, 7745, 1204, 4084, 3613, 1936, 10372, 8868, 9674, 11145, 4096, 6749, 6090, 7925, 11499, 2555, 2140, 2420, 2874, 3371, 10687, 3683, 3759, 56, 3149, 8879, 5542, 4557, 8313, 7349, 6013, 9243, 9399, 6292, 2999, 2437, 1198, 4270, 4890, 3898, 8733, 6935, 10283, 8584, 6894, 5523, 8059, 5367, 9958, 10543, 3118, 10462, 1639, 11135, 5890, 15, 11036, 8234, 5359, 11416, 4647, 5058, 9717, 9462, 9332, 4244, 2797, 2117, 8297, 3027, 5293, 8307, 7858, 1388, 10418, 11073, 6331, 9267, 1011, 5918, 3818, 9241, 11579, 11413, 3940, 5629, 4215, 1661, 4067, 99, 1448, 11188, 10636, 1682, 2489, 3117, 2799, 4756, 8827, 1628, 1231, 70, 9909, 6423, 3556, 7183, 7972, 10829, 11475, 9751, 7391, 5135, 11158, 4962, 10326, 3045, 4854, 4303, 10809, 2518, 8640, 7654, 27, 1619, 2426, 1134, 11641, 8479, 8915, 5084, 8201, 6, 4621, 5676, 7516, 5439, 2219, 5203, 7873, 3604, 3690, 741, 7520, 3957, 9605, 2199, 7459, 2285, 5187, 984, 3790, 3841, 9591, 8438, 1854, 4453, 9176, 2453, 2111, 4737, 6807, 10938, 4197, 4082, 8453, 3111, 6466, 10879, 1251, 2102, 7729, 1679, 8071, 11050, 3587, 4127, 10201, 5442, 9896, 10757, 1489, 5584, 9172, 5054, 3442, 10711, 9072, 6380, 10004, 9279, 4379, 7865, 5831, 9199, 8922, 10193, 136, 10332, 926, 10181, 5169, 6552, 4864, 382, 1985, 7172, 11696, 4504, 4830, 7660, 11496, 2727, 1345, 7667, 6151, 6931, 7892, 3642, 5146, 84, 11594, 4064, 1753, 5969, 7803, 8489, 638, 11230, 11635, 7276, 9323, 5495, 8580, 4832, 7235, 10245, 10948, 507, 11035, 9839, 5241, 7827, 9737, 10975, 9722, 1910, 9041, 5478, 1128, 161, 5372, 6132, 9971, 7304, 6098, 3026, 1849, 2079, 7263, 9484, 10875, 8177, 3454, 6820, 3937, 11229, 9354, 4125, 1357, 10071, 2, 8326, 278, 6539, 5488, 4182, 2695, 542, 10217, 7632, 6440, 8147, 9990, 7340, 2373, 10388, 5249, 3643, 711, 10182, 1900, 1884, 8459, 10884, 8484, 7688, 6874, 6802, 1997, 8474, 10243, 8284, 10246, 116, 6232, 1957, 8823, 7171, 6516, 4529, 268, 5071, 4338, 7442, 7502, 10955, 5739, 6703, 10177, 7380, 5325, 4619, 10373, 6580, 9865, 3465, 9907, 4592, 6712, 10039, 7136, 338, 824, 11366, 9161, 8374, 8314, 2195, 8285, 3394, 5229, 10093, 6718, 9626, 1039, 1860, 9794, 5472, 2600, 5631, 956, 2751, 7683, 2677, 4594, 9542, 10551, 2495, 7354, 541, 3627, 3617, 4840, 1025, 9679, 6887, 7921, 4278, 8897, 10242, 430, 5143, 5438, 8362, 3039, 1908, 1304, 398, 1723, 10183, 7820, 6325, 8242, 10433, 4918, 6318, 8385, 9985, 4181, 1501, 8134, 1365, 9129, 7489, 6826, 6526, 1249, 2429, 4415, 10776, 733, 8776, 3088, 3652, 810, 9409, 8930, 7240, 6104, 1483, 10774, 2608, 4644, 6576, 22, 6506, 3291, 11374, 10421, 8390, 9208, 3313, 10220, 1706, 7546, 3421, 747, 10929, 3832, 6610, 198, 4413, 8788, 4554, 10037, 8268, 11318, 8381, 9147, 672, 6088, 7631, 3333, 11529, 9685, 9024, 6234, 10991, 1737, 2350, 3812, 8656, 5260, 3323, 3545, 8091, 9472, 9953, 9435, 9612, 7789, 9979, 5452, 3407, 1481, 10527, 8521, 5672, 424, 6737, 9142, 10909, 2965, 10377, 8373, 9505, 705, 1331, 9412, 2098, 10947, 1285, 3662, 10785, 10086, 230, 6457, 2022, 499, 2482, 7253, 4000, 2101, 5994, 7370, 3881, 9848, 11682, 1594, 5954, 1, 10678, 4588, 6864, 9942, 7981, 2354, 3441, 537, 1086, 10559, 1459, 5773, 5252, 5309, 8873, 7585, 9831, 8289, 1872, 10478, 4953, 7428, 9793, 3981, 10619, 173, 1127, 339, 7090, 8796, 3283, 2334, 5386, 3187, 9843, 3005, 1703, 3978, 4990, 7695, 7045, 8356, 11614, 9008, 261, 9388, 4847, 3990, 11401, 7901, 11611, 9367, 2552, 7875, 3806, 3824, 2859, 3210, 6801, 6646, 364, 8671, 3377, 10233, 2304, 1335, 460, 3404, 7949, 5779, 9857, 579, 10171, 11209, 3988, 3684, 5623, 5520, 9331, 6665, 7471, 2732, 5811, 3821, 6819, 2166, 2217, 2161, 8925, 7035, 7785, 11069, 787, 4974, 3980, 7494, 8303, 5705, 11607, 7397, 3317, 682, 2912, 4624, 213, 10178, 10063, 1791, 6977, 10174, 8862, 7786, 2068, 4369, 2909, 6938, 7303, 3059, 10893, 9092, 6202, 10862, 3697, 1567, 8478, 6334, 8678, 2168, 9444, 10676, 9277, 6050, 5225, 6982, 4300, 7484, 6082, 8682, 7071, 4849, 5982, 5817, 5907, 4065, 3330, 5409, 11364, 1192, 9402, 1657, 534, 10754, 11285, 4326, 9157, 2314, 10014, 2543, 250, 444, 6371, 200, 11672, 5990, 11067, 5979, 5555, 6349, 5237, 11660, 2082, 7177, 10088, 3202, 10849, 1725, 1529, 8946, 7319, 7588, 5019, 6784, 1538, 11065, 8957, 3506, 8411, 6705, 7016, 5304, 2087, 7309, 4491, 457, 5288, 7416, 3833, 8994, 9503, 8275, 2663, 5026, 1241, 3552, 1228, 4741, 1379, 11064, 6673, 10161, 7826, 6574, 2933, 9719, 6778, 9887, 2842, 6993, 5910, 11566, 6010, 9576, 1943, 1381, 3397, 5441, 9759, 6903, 2162, 234, 10984, 5852, 6796, 8366, 2146, 7294, 8394, 9657, 11375, 1105, 6238, 3409, 3819, 456, 11581, 6067, 1694, 10155, 8570, 7562, 6995, 2896, 9480, 11545, 8737, 8094, 3754, 4362, 4695, 10798, 5233, 4919, 10425, 2016, 7623, 1205, 1390, 8023, 9655, 3750, 309, 10343, 2679, 5170, 7596, 4314, 6593, 910, 7594, 8210, 8419, 9785, 986, 10359, 1610, 4511, 11136, 175, 3124, 11029, 7214, 6174, 9095, 9278, 2273, 3346, 9718, 11274, 6659, 5562, 227, 2580, 6353, 2869, 4128, 4045, 4319, 3738, 7123, 3641, 3366, 3542, 1299, 2181, 2095, 4361, 1790, 10256, 7010, 2442, 9040, 5601, 1078, 11417, 5218, 6085, 9832, 1358, 11640, 58, 337, 590, 845, 9911, 3959, 9209, 7211, 5466, 366, 5809, 9224, 1810, 10404, 6274, 10292, 9141, 5630, 8813, 7998, 381, 9757, 2136, 1992, 5898, 5165, 5644, 1817, 8259, 1135, 8028, 7636, 5593, 7059, 9198, 326, 6143, 4255, 955, 8891, 7669, 2113, 2937, 897, 4328, 4648, 3238, 6679, 10098, 7570, 9003, 7606, 4316, 6296, 1421, 813, 10432, 11147, 3777, 8887, 4025, 4681, 11003, 647, 1926, 8991, 2347, 618, 7897, 1222, 5973, 1203, 6283, 6809, 212, 244, 3899, 5711, 2163, 11004, 1720, 104, 3489, 4406, 4531, 5234, 7431, 8610, 5073, 7174, 7330, 10844, 1095, 10126, 6927, 4600, 1014, 9191, 10778, 7284, 773, 9490, 4204, 9103, 7432, 2305, 8328, 7685, 11521, 2969, 3455, 1302, 5646, 11505, 3226, 1033, 7026, 1780, 9059, 11597, 9608, 243, 4786, 2202, 4039, 10186, 5012, 2568, 10336, 4657, 8442, 8367, 617, 9438, 10130, 1153, 7495, 10293, 4694, 5275, 6408, 6639, 6034, 8857, 10793, 2653, 8290, 853, 9774, 6950, 5783, 6299, 4072, 10750, 6415, 1090, 6509, 5879, 2283, 11121, 10213, 1901, 6381, 6012, 192, 3757, 10524, 7077, 9870, 10756, 4720, 3316, 2966, 9890, 9101, 302, 5363, 9333, 11084, 10514, 8258, 8711, 5841, 2435, 3408, 8360, 5748, 8849, 5093, 4419, 9531, 3264, 4764, 5458, 1718, 1440, 35, 1815, 7165, 7996, 5126, 8358, 9970, 6042, 11334, 8363, 10127, 546, 557, 1159, 1523, 2753, 267, 7997, 4951, 2311, 9001, 10891, 4734, 5978, 632, 8267, 5453, 6011, 6754, 5245, 1424, 1177, 9742, 6632, 249, 1123, 3370, 3148, 6114, 4729, 4667, 8252, 2790, 8905, 10064, 4782, 4649, 724, 7699, 8710, 9998, 8065, 2232, 2270, 5500, 9553, 9544, 1096, 7352, 8310, 8491, 3321, 7480, 6520, 6445, 4744, 8009, 11586, 4862, 11231, 3890, 1267, 3181, 7313, 7195, 7125, 1829, 406, 4131, 351, 11141, 7804, 1844, 633, 5573, 6951, 8729, 2010, 7053, 7678, 7793, 3468, 1735, 10312, 799, 9385, 8860, 10847, 3524, 3293, 2459, 8311, 7283, 2040, 3307, 2576, 11396, 866, 4978, 90, 2127, 3216, 7740, 11197, 3931, 5145, 11105, 6843, 8622, 1119, 10703, 298, 917, 2665, 3123, 500, 6449, 8445, 8191, 9931, 11437, 7627, 555, 10506, 4086, 6795, 9094, 4433, 7713, 6240, 9261, 9216, 4929, 4573, 10853, 8430, 6338, 722, 9671, 7041, 7013, 2758, 1290, 429, 7068, 7083, 5119, 8911, 276, 8493, 2678, 1076, 9046, 7029, 5658, 1859, 11174, 6983, 2591, 4166, 5010, 144, 3845, 7394, 5774, 8701, 3456, 8105, 8115, 5271, 8757, 11189, 8321, 951, 1206, 11210, 6765, 10698, 2364, 9139, 3672, 134, 9133, 11436, 1094, 7682, 2472, 567, 10663, 6799, 3926, 7119, 1563, 3885, 7747, 2403, 4686, 10537, 10315, 6947, 7961, 5654, 5063, 7716, 1488, 2034, 9430, 684, 3744, 8107, 11493, 9710, 8361, 9479, 10500, 11601, 7566, 734, 3769, 3325, 9744, 142, 5548, 9039, 7855, 6269, 2121, 629, 5771, 644, 5384, 9289, 1323, 7446, 4311, 6366, 7777, 2917, 2919, 11027, 9411, 4837, 393, 10417, 1319, 3275, 5231, 10828, 5546, 7976, 1158, 10724, 3734, 1161, 9772, 7783, 4676, 9052, 514, 4366, 8532, 2281, 6508, 8335, 6402, 10623, 4650, 10415, 5591, 97, 4336, 10542, 9868, 7624, 10277, 11355, 5158, 5305, 6333, 970, 7561, 4730, 1102, 6404, 11574, 2204, 9835, 3550, 5484, 4987, 10679]\n"
          ],
          "name": "stdout"
        }
      ]
    },
    {
      "cell_type": "code",
      "metadata": {
        "id": "ZAVrl-xwds_d",
        "colab": {
          "base_uri": "https://localhost:8080/",
          "height": 35
        },
        "outputId": "b49c7177-6d98-4057-e912-0e43262ef6ae"
      },
      "source": [
        "print(data)"
      ],
      "execution_count": null,
      "outputs": [
        {
          "output_type": "stream",
          "text": [
            "Data(edge_index=[2, 297110], stopping_mask=[11701, 20], test_mask=[11701], train_mask=[11701, 20], val_mask=[11701, 20], x=[11701, 300], y=[11701])\n"
          ],
          "name": "stdout"
        }
      ]
    },
    {
      "cell_type": "code",
      "metadata": {
        "id": "wKcMprq6eEIH",
        "colab": {
          "base_uri": "https://localhost:8080/",
          "height": 287
        },
        "outputId": "4ebb247a-7e13-4c58-e0a2-bc67220252b5"
      },
      "source": [
        "from torch_geometric.datasets import Planetoid\n",
        "\n",
        "dataset = Planetoid(root='/tmp/Cora', name='Cora')\n",
        "print(f'Dataset: {dataset}:')\n",
        "print('======================')\n",
        "print(f'Number of graphs: {len(dataset)}')\n",
        "print(f'Number of features: {dataset.num_features}')\n",
        "print(f'Number of classes: {dataset.num_classes}')"
      ],
      "execution_count": null,
      "outputs": [
        {
          "output_type": "stream",
          "text": [
            "Downloading https://github.com/kimiyoung/planetoid/raw/master/data/ind.cora.x\n",
            "Downloading https://github.com/kimiyoung/planetoid/raw/master/data/ind.cora.tx\n",
            "Downloading https://github.com/kimiyoung/planetoid/raw/master/data/ind.cora.allx\n",
            "Downloading https://github.com/kimiyoung/planetoid/raw/master/data/ind.cora.y\n",
            "Downloading https://github.com/kimiyoung/planetoid/raw/master/data/ind.cora.ty\n",
            "Downloading https://github.com/kimiyoung/planetoid/raw/master/data/ind.cora.ally\n",
            "Downloading https://github.com/kimiyoung/planetoid/raw/master/data/ind.cora.graph\n",
            "Downloading https://github.com/kimiyoung/planetoid/raw/master/data/ind.cora.test.index\n",
            "Processing...\n",
            "Done!\n",
            "Dataset: Cora():\n",
            "======================\n",
            "Number of graphs: 1\n",
            "Number of features: 1433\n",
            "Number of classes: 7\n"
          ],
          "name": "stdout"
        }
      ]
    },
    {
      "cell_type": "code",
      "metadata": {
        "id": "Mh3Y2LDze3xv",
        "colab": {
          "base_uri": "https://localhost:8080/",
          "height": 197
        },
        "outputId": "8d141422-51f9-4696-d53a-fbc4fbe96a86"
      },
      "source": [
        "data = dataset[0]  # Get the first graph object.\n",
        "\n",
        "print(data)\n",
        "print('==============================================================')\n",
        "\n",
        "# Gather some statistics about the graph.\n",
        "print(f'Number of nodes: {data.num_nodes}')\n",
        "print(f'Number of edges: {data.num_edges}')\n",
        "print(f'Average node degree: {data.num_edges / data.num_nodes:.2f}')\n",
        "print(f'Number of training nodes: {data.train_mask.sum()}')\n",
        "print(f'Training node label rate: {int(data.train_mask.sum()) / data.num_nodes:.2f}')\n",
        "print(f'Contains isolated nodes: {data.contains_isolated_nodes()}')\n",
        "print(f'Contains self-loops: {data.contains_self_loops()}')\n",
        "print(f'Is undirected: {data.is_undirected()}')"
      ],
      "execution_count": null,
      "outputs": [
        {
          "output_type": "stream",
          "text": [
            "Data(edge_index=[2, 10556], test_mask=[2708], train_mask=[2708], val_mask=[2708], x=[2708, 1433], y=[2708])\n",
            "==============================================================\n",
            "Number of nodes: 2708\n",
            "Number of edges: 10556\n",
            "Average node degree: 3.90\n",
            "Number of training nodes: 140\n",
            "Training node label rate: 0.05\n",
            "Contains isolated nodes: False\n",
            "Contains self-loops: False\n",
            "Is undirected: True\n"
          ],
          "name": "stdout"
        }
      ]
    },
    {
      "cell_type": "code",
      "metadata": {
        "id": "yOwhMP5kfAR8",
        "colab": {
          "base_uri": "https://localhost:8080/",
          "height": 89
        },
        "outputId": "ba78d251-ec48-4931-9f7f-476ffd701602"
      },
      "source": [
        "print(model.forward(1701))"
      ],
      "execution_count": null,
      "outputs": [
        {
          "output_type": "stream",
          "text": [
            "tensor([-0.3356, -0.1349,  0.2009, -0.3798, -0.0470, -0.0959,  0.4253, -0.3394,\n",
            "        -0.2492,  0.0404,  0.3096,  0.2317, -0.3241, -0.1996, -0.1084, -0.2638,\n",
            "         0.6757,  0.0230,  0.1369,  0.5336], device='cuda:0',\n",
            "       grad_fn=<SelectBackward>)\n"
          ],
          "name": "stdout"
        }
      ]
    },
    {
      "cell_type": "code",
      "metadata": {
        "id": "Wi2Z-ZSyg38o",
        "colab": {
          "base_uri": "https://localhost:8080/",
          "height": 35
        },
        "outputId": "ab290f35-da7c-4967-f7ba-9912cfaa35ff"
      },
      "source": [
        "for param in model.parameters():\n",
        "  print(type(param), param.size())"
      ],
      "execution_count": null,
      "outputs": [
        {
          "output_type": "stream",
          "text": [
            "<class 'torch.nn.parameter.Parameter'> torch.Size([11701, 20])\n"
          ],
          "name": "stdout"
        }
      ]
    },
    {
      "cell_type": "markdown",
      "metadata": {
        "id": "fk3ZJjv34o_v"
      },
      "source": [
        "# WITH STELLAR GRAPH"
      ]
    },
    {
      "cell_type": "code",
      "metadata": {
        "id": "yqFcd5A8-Z_X",
        "colab": {
          "base_uri": "https://localhost:8080/"
        },
        "outputId": "4d577cb5-115f-40da-cac9-5caf06e54bb0"
      },
      "source": [
        "!wget https://raw.githubusercontent.com/pmernyei/wiki-cs-dataset/master/dataset/data.json"
      ],
      "execution_count": null,
      "outputs": [
        {
          "output_type": "stream",
          "text": [
            "--2020-12-12 09:31:09--  https://raw.githubusercontent.com/pmernyei/wiki-cs-dataset/master/dataset/data.json\n",
            "Resolving raw.githubusercontent.com (raw.githubusercontent.com)... 151.101.0.133, 151.101.64.133, 151.101.128.133, ...\n",
            "Connecting to raw.githubusercontent.com (raw.githubusercontent.com)|151.101.0.133|:443... connected.\n",
            "HTTP request sent, awaiting response... 200 OK\n",
            "Length: 82533647 (79M) [text/plain]\n",
            "Saving to: ‘data.json.1’\n",
            "\n",
            "data.json.1         100%[===================>]  78.71M   311MB/s    in 0.3s    \n",
            "\n",
            "2020-12-12 09:31:14 (311 MB/s) - ‘data.json.1’ saved [82533647/82533647]\n",
            "\n"
          ],
          "name": "stdout"
        }
      ]
    },
    {
      "cell_type": "code",
      "metadata": {
        "id": "3wqYkvcDoM4q",
        "colab": {
          "base_uri": "https://localhost:8080/"
        },
        "outputId": "4af6698c-d79c-4761-bf79-eef12d3d608b"
      },
      "source": [
        "import pandas as pd\n",
        "import json\n",
        "with open(\"data.json\",\"r\") as file:\n",
        "  data2=json.load(file)\n",
        "print(len(data2))"
      ],
      "execution_count": null,
      "outputs": [
        {
          "output_type": "stream",
          "text": [
            "7\n"
          ],
          "name": "stdout"
        }
      ]
    },
    {
      "cell_type": "code",
      "metadata": {
        "id": "OURuAOdfeArU",
        "colab": {
          "base_uri": "https://localhost:8080/"
        },
        "outputId": "f928e641-1d1b-407e-e841-0bfae1dac1a4"
      },
      "source": [
        "import matplotlib.pyplot as plt\n",
        "!pip install StellarGraph\n",
        "from sklearn.manifold import TSNE\n",
        "from sklearn.model_selection import train_test_split\n",
        "from sklearn.linear_model import LogisticRegressionCV\n",
        "from sklearn.metrics import accuracy_score\n",
        "\n",
        "import os\n",
        "import networkx as nx\n",
        "import numpy as np\n",
        "import pandas as pd\n",
        "\n",
        "from stellargraph.data import BiasedRandomWalk\n",
        "from stellargraph import StellarGraph\n",
        "from stellargraph import datasets\n",
        "from IPython.display import display, HTML\n",
        "\n",
        "%matplotlib inline"
      ],
      "execution_count": null,
      "outputs": [
        {
          "output_type": "stream",
          "text": [
            "Collecting StellarGraph\n",
            "\u001b[?25l  Downloading https://files.pythonhosted.org/packages/74/78/16b23ef04cf6fb24a7dea9fd0e03c8308a56681cc5efe29f16186210ba04/stellargraph-1.2.1-py3-none-any.whl (435kB)\n",
            "\r\u001b[K     |▊                               | 10kB 27.4MB/s eta 0:00:01\r\u001b[K     |█▌                              | 20kB 33.8MB/s eta 0:00:01\r\u001b[K     |██▎                             | 30kB 27.3MB/s eta 0:00:01\r\u001b[K     |███                             | 40kB 21.9MB/s eta 0:00:01\r\u001b[K     |███▊                            | 51kB 15.2MB/s eta 0:00:01\r\u001b[K     |████▌                           | 61kB 16.2MB/s eta 0:00:01\r\u001b[K     |█████▎                          | 71kB 17.2MB/s eta 0:00:01\r\u001b[K     |██████                          | 81kB 16.2MB/s eta 0:00:01\r\u001b[K     |██████▊                         | 92kB 16.0MB/s eta 0:00:01\r\u001b[K     |███████▌                        | 102kB 15.0MB/s eta 0:00:01\r\u001b[K     |████████▎                       | 112kB 15.0MB/s eta 0:00:01\r\u001b[K     |█████████                       | 122kB 15.0MB/s eta 0:00:01\r\u001b[K     |█████████▉                      | 133kB 15.0MB/s eta 0:00:01\r\u001b[K     |██████████▌                     | 143kB 15.0MB/s eta 0:00:01\r\u001b[K     |███████████▎                    | 153kB 15.0MB/s eta 0:00:01\r\u001b[K     |████████████                    | 163kB 15.0MB/s eta 0:00:01\r\u001b[K     |████████████▉                   | 174kB 15.0MB/s eta 0:00:01\r\u001b[K     |█████████████▌                  | 184kB 15.0MB/s eta 0:00:01\r\u001b[K     |██████████████▎                 | 194kB 15.0MB/s eta 0:00:01\r\u001b[K     |███████████████                 | 204kB 15.0MB/s eta 0:00:01\r\u001b[K     |███████████████▉                | 215kB 15.0MB/s eta 0:00:01\r\u001b[K     |████████████████▋               | 225kB 15.0MB/s eta 0:00:01\r\u001b[K     |█████████████████▎              | 235kB 15.0MB/s eta 0:00:01\r\u001b[K     |██████████████████              | 245kB 15.0MB/s eta 0:00:01\r\u001b[K     |██████████████████▉             | 256kB 15.0MB/s eta 0:00:01\r\u001b[K     |███████████████████▋            | 266kB 15.0MB/s eta 0:00:01\r\u001b[K     |████████████████████▎           | 276kB 15.0MB/s eta 0:00:01\r\u001b[K     |█████████████████████           | 286kB 15.0MB/s eta 0:00:01\r\u001b[K     |█████████████████████▉          | 296kB 15.0MB/s eta 0:00:01\r\u001b[K     |██████████████████████▋         | 307kB 15.0MB/s eta 0:00:01\r\u001b[K     |███████████████████████▍        | 317kB 15.0MB/s eta 0:00:01\r\u001b[K     |████████████████████████        | 327kB 15.0MB/s eta 0:00:01\r\u001b[K     |████████████████████████▉       | 337kB 15.0MB/s eta 0:00:01\r\u001b[K     |█████████████████████████▋      | 348kB 15.0MB/s eta 0:00:01\r\u001b[K     |██████████████████████████▍     | 358kB 15.0MB/s eta 0:00:01\r\u001b[K     |███████████████████████████     | 368kB 15.0MB/s eta 0:00:01\r\u001b[K     |███████████████████████████▉    | 378kB 15.0MB/s eta 0:00:01\r\u001b[K     |████████████████████████████▋   | 389kB 15.0MB/s eta 0:00:01\r\u001b[K     |█████████████████████████████▍  | 399kB 15.0MB/s eta 0:00:01\r\u001b[K     |██████████████████████████████▏ | 409kB 15.0MB/s eta 0:00:01\r\u001b[K     |██████████████████████████████▉ | 419kB 15.0MB/s eta 0:00:01\r\u001b[K     |███████████████████████████████▋| 430kB 15.0MB/s eta 0:00:01\r\u001b[K     |████████████████████████████████| 440kB 15.0MB/s \n",
            "\u001b[?25hRequirement already satisfied: scikit-learn>=0.20 in /usr/local/lib/python3.6/dist-packages (from StellarGraph) (0.22.2.post1)\n",
            "Requirement already satisfied: gensim>=3.4.0 in /usr/local/lib/python3.6/dist-packages (from StellarGraph) (3.6.0)\n",
            "Requirement already satisfied: pandas>=0.24 in /usr/local/lib/python3.6/dist-packages (from StellarGraph) (1.1.5)\n",
            "Requirement already satisfied: tensorflow>=2.1.0 in /usr/local/lib/python3.6/dist-packages (from StellarGraph) (2.3.0)\n",
            "Requirement already satisfied: numpy>=1.14 in /usr/local/lib/python3.6/dist-packages (from StellarGraph) (1.18.5)\n",
            "Requirement already satisfied: matplotlib>=2.2 in /usr/local/lib/python3.6/dist-packages (from StellarGraph) (3.2.2)\n",
            "Requirement already satisfied: scipy>=1.1.0 in /usr/local/lib/python3.6/dist-packages (from StellarGraph) (1.4.1)\n",
            "Requirement already satisfied: networkx>=2.2 in /usr/local/lib/python3.6/dist-packages (from StellarGraph) (2.5)\n",
            "Requirement already satisfied: joblib>=0.11 in /usr/local/lib/python3.6/dist-packages (from scikit-learn>=0.20->StellarGraph) (0.17.0)\n",
            "Requirement already satisfied: six>=1.5.0 in /usr/local/lib/python3.6/dist-packages (from gensim>=3.4.0->StellarGraph) (1.15.0)\n",
            "Requirement already satisfied: smart-open>=1.2.1 in /usr/local/lib/python3.6/dist-packages (from gensim>=3.4.0->StellarGraph) (4.0.1)\n",
            "Requirement already satisfied: python-dateutil>=2.7.3 in /usr/local/lib/python3.6/dist-packages (from pandas>=0.24->StellarGraph) (2.8.1)\n",
            "Requirement already satisfied: pytz>=2017.2 in /usr/local/lib/python3.6/dist-packages (from pandas>=0.24->StellarGraph) (2018.9)\n",
            "Requirement already satisfied: h5py<2.11.0,>=2.10.0 in /usr/local/lib/python3.6/dist-packages (from tensorflow>=2.1.0->StellarGraph) (2.10.0)\n",
            "Requirement already satisfied: tensorboard<3,>=2.3.0 in /usr/local/lib/python3.6/dist-packages (from tensorflow>=2.1.0->StellarGraph) (2.3.0)\n",
            "Requirement already satisfied: protobuf>=3.9.2 in /usr/local/lib/python3.6/dist-packages (from tensorflow>=2.1.0->StellarGraph) (3.12.4)\n",
            "Requirement already satisfied: google-pasta>=0.1.8 in /usr/local/lib/python3.6/dist-packages (from tensorflow>=2.1.0->StellarGraph) (0.2.0)\n",
            "Requirement already satisfied: tensorflow-estimator<2.4.0,>=2.3.0 in /usr/local/lib/python3.6/dist-packages (from tensorflow>=2.1.0->StellarGraph) (2.3.0)\n",
            "Requirement already satisfied: termcolor>=1.1.0 in /usr/local/lib/python3.6/dist-packages (from tensorflow>=2.1.0->StellarGraph) (1.1.0)\n",
            "Requirement already satisfied: keras-preprocessing<1.2,>=1.1.1 in /usr/local/lib/python3.6/dist-packages (from tensorflow>=2.1.0->StellarGraph) (1.1.2)\n",
            "Requirement already satisfied: wheel>=0.26 in /usr/local/lib/python3.6/dist-packages (from tensorflow>=2.1.0->StellarGraph) (0.36.1)\n",
            "Requirement already satisfied: astunparse==1.6.3 in /usr/local/lib/python3.6/dist-packages (from tensorflow>=2.1.0->StellarGraph) (1.6.3)\n",
            "Requirement already satisfied: absl-py>=0.7.0 in /usr/local/lib/python3.6/dist-packages (from tensorflow>=2.1.0->StellarGraph) (0.10.0)\n",
            "Requirement already satisfied: grpcio>=1.8.6 in /usr/local/lib/python3.6/dist-packages (from tensorflow>=2.1.0->StellarGraph) (1.34.0)\n",
            "Requirement already satisfied: opt-einsum>=2.3.2 in /usr/local/lib/python3.6/dist-packages (from tensorflow>=2.1.0->StellarGraph) (3.3.0)\n",
            "Requirement already satisfied: wrapt>=1.11.1 in /usr/local/lib/python3.6/dist-packages (from tensorflow>=2.1.0->StellarGraph) (1.12.1)\n",
            "Requirement already satisfied: gast==0.3.3 in /usr/local/lib/python3.6/dist-packages (from tensorflow>=2.1.0->StellarGraph) (0.3.3)\n",
            "Requirement already satisfied: cycler>=0.10 in /usr/local/lib/python3.6/dist-packages (from matplotlib>=2.2->StellarGraph) (0.10.0)\n",
            "Requirement already satisfied: pyparsing!=2.0.4,!=2.1.2,!=2.1.6,>=2.0.1 in /usr/local/lib/python3.6/dist-packages (from matplotlib>=2.2->StellarGraph) (2.4.7)\n",
            "Requirement already satisfied: kiwisolver>=1.0.1 in /usr/local/lib/python3.6/dist-packages (from matplotlib>=2.2->StellarGraph) (1.3.1)\n",
            "Requirement already satisfied: decorator>=4.3.0 in /usr/local/lib/python3.6/dist-packages (from networkx>=2.2->StellarGraph) (4.4.2)\n",
            "Requirement already satisfied: werkzeug>=0.11.15 in /usr/local/lib/python3.6/dist-packages (from tensorboard<3,>=2.3.0->tensorflow>=2.1.0->StellarGraph) (1.0.1)\n",
            "Requirement already satisfied: requests<3,>=2.21.0 in /usr/local/lib/python3.6/dist-packages (from tensorboard<3,>=2.3.0->tensorflow>=2.1.0->StellarGraph) (2.23.0)\n",
            "Requirement already satisfied: markdown>=2.6.8 in /usr/local/lib/python3.6/dist-packages (from tensorboard<3,>=2.3.0->tensorflow>=2.1.0->StellarGraph) (3.3.3)\n",
            "Requirement already satisfied: google-auth<2,>=1.6.3 in /usr/local/lib/python3.6/dist-packages (from tensorboard<3,>=2.3.0->tensorflow>=2.1.0->StellarGraph) (1.17.2)\n",
            "Requirement already satisfied: google-auth-oauthlib<0.5,>=0.4.1 in /usr/local/lib/python3.6/dist-packages (from tensorboard<3,>=2.3.0->tensorflow>=2.1.0->StellarGraph) (0.4.2)\n",
            "Requirement already satisfied: tensorboard-plugin-wit>=1.6.0 in /usr/local/lib/python3.6/dist-packages (from tensorboard<3,>=2.3.0->tensorflow>=2.1.0->StellarGraph) (1.7.0)\n",
            "Requirement already satisfied: setuptools>=41.0.0 in /usr/local/lib/python3.6/dist-packages (from tensorboard<3,>=2.3.0->tensorflow>=2.1.0->StellarGraph) (50.3.2)\n",
            "Requirement already satisfied: urllib3!=1.25.0,!=1.25.1,<1.26,>=1.21.1 in /usr/local/lib/python3.6/dist-packages (from requests<3,>=2.21.0->tensorboard<3,>=2.3.0->tensorflow>=2.1.0->StellarGraph) (1.24.3)\n",
            "Requirement already satisfied: idna<3,>=2.5 in /usr/local/lib/python3.6/dist-packages (from requests<3,>=2.21.0->tensorboard<3,>=2.3.0->tensorflow>=2.1.0->StellarGraph) (2.10)\n",
            "Requirement already satisfied: chardet<4,>=3.0.2 in /usr/local/lib/python3.6/dist-packages (from requests<3,>=2.21.0->tensorboard<3,>=2.3.0->tensorflow>=2.1.0->StellarGraph) (3.0.4)\n",
            "Requirement already satisfied: certifi>=2017.4.17 in /usr/local/lib/python3.6/dist-packages (from requests<3,>=2.21.0->tensorboard<3,>=2.3.0->tensorflow>=2.1.0->StellarGraph) (2020.12.5)\n",
            "Requirement already satisfied: importlib-metadata; python_version < \"3.8\" in /usr/local/lib/python3.6/dist-packages (from markdown>=2.6.8->tensorboard<3,>=2.3.0->tensorflow>=2.1.0->StellarGraph) (3.1.1)\n",
            "Requirement already satisfied: rsa<5,>=3.1.4; python_version >= \"3\" in /usr/local/lib/python3.6/dist-packages (from google-auth<2,>=1.6.3->tensorboard<3,>=2.3.0->tensorflow>=2.1.0->StellarGraph) (4.6)\n",
            "Requirement already satisfied: cachetools<5.0,>=2.0.0 in /usr/local/lib/python3.6/dist-packages (from google-auth<2,>=1.6.3->tensorboard<3,>=2.3.0->tensorflow>=2.1.0->StellarGraph) (4.1.1)\n",
            "Requirement already satisfied: pyasn1-modules>=0.2.1 in /usr/local/lib/python3.6/dist-packages (from google-auth<2,>=1.6.3->tensorboard<3,>=2.3.0->tensorflow>=2.1.0->StellarGraph) (0.2.8)\n",
            "Requirement already satisfied: requests-oauthlib>=0.7.0 in /usr/local/lib/python3.6/dist-packages (from google-auth-oauthlib<0.5,>=0.4.1->tensorboard<3,>=2.3.0->tensorflow>=2.1.0->StellarGraph) (1.3.0)\n",
            "Requirement already satisfied: zipp>=0.5 in /usr/local/lib/python3.6/dist-packages (from importlib-metadata; python_version < \"3.8\"->markdown>=2.6.8->tensorboard<3,>=2.3.0->tensorflow>=2.1.0->StellarGraph) (3.4.0)\n",
            "Requirement already satisfied: pyasn1>=0.1.3 in /usr/local/lib/python3.6/dist-packages (from rsa<5,>=3.1.4; python_version >= \"3\"->google-auth<2,>=1.6.3->tensorboard<3,>=2.3.0->tensorflow>=2.1.0->StellarGraph) (0.4.8)\n",
            "Requirement already satisfied: oauthlib>=3.0.0 in /usr/local/lib/python3.6/dist-packages (from requests-oauthlib>=0.7.0->google-auth-oauthlib<0.5,>=0.4.1->tensorboard<3,>=2.3.0->tensorflow>=2.1.0->StellarGraph) (3.1.0)\n",
            "Installing collected packages: StellarGraph\n",
            "Successfully installed StellarGraph-1.2.1\n"
          ],
          "name": "stdout"
        }
      ]
    },
    {
      "cell_type": "code",
      "metadata": {
        "id": "g4EpUD-5iU0_",
        "colab": {
          "base_uri": "https://localhost:8080/",
          "height": 267
        },
        "outputId": "fd3074a6-0cca-4bff-f85e-b8eccbcbc276"
      },
      "source": [
        "dataset = datasets.Cora()\n",
        "display(HTML(dataset.description))\n",
        "G, node_subjects = dataset.load(largest_connected_component_only=True)\n",
        "print(G.info())\n",
        "CORA_nx=G.to_networkx()"
      ],
      "execution_count": null,
      "outputs": [
        {
          "output_type": "display_data",
          "data": {
            "text/html": [
              "The Cora dataset consists of 2708 scientific publications classified into one of seven classes. The citation network consists of 5429 links. Each publication in the dataset is described by a 0/1-valued word vector indicating the absence/presence of the corresponding word from the dictionary. The dictionary consists of 1433 unique words."
            ],
            "text/plain": [
              "<IPython.core.display.HTML object>"
            ]
          },
          "metadata": {
            "tags": []
          }
        },
        {
          "output_type": "stream",
          "text": [
            "StellarGraph: Undirected multigraph\n",
            " Nodes: 2485, Edges: 5209\n",
            "\n",
            " Node types:\n",
            "  paper: [2485]\n",
            "    Features: float32 vector, length 1433\n",
            "    Edge types: paper-cites->paper\n",
            "\n",
            " Edge types:\n",
            "    paper-cites->paper: [5209]\n",
            "        Weights: all 1 (default)\n",
            "        Features: none\n"
          ],
          "name": "stdout"
        }
      ]
    },
    {
      "cell_type": "code",
      "metadata": {
        "colab": {
          "base_uri": "https://localhost:8080/"
        },
        "id": "K-m7qPE638qM",
        "outputId": "1e43ef61-cc9f-4261-a893-9d20d9f5294c"
      },
      "source": [
        "print(node_subjects.index)"
      ],
      "execution_count": null,
      "outputs": [
        {
          "output_type": "stream",
          "text": [
            "Int64Index([  31336, 1061127, 1106406,   13195,   37879, 1126012, 1107140,\n",
            "            1102850,   31349, 1106418,\n",
            "            ...\n",
            "             767763,  152226,  152227, 1131180, 1128974, 1128975, 1128977,\n",
            "            1128978,  117328,   24043],\n",
            "           dtype='int64', length=2485)\n"
          ],
          "name": "stdout"
        }
      ]
    },
    {
      "cell_type": "code",
      "metadata": {
        "colab": {
          "base_uri": "https://localhost:8080/"
        },
        "id": "ROvNOj8kqqBO",
        "outputId": "0e05b096-584b-4eb6-9477-2d6971a0a6d8"
      },
      "source": [
        "print(len(CORA_nx.nodes))\n",
        "print(nx.is_connected(CORA_nx))"
      ],
      "execution_count": null,
      "outputs": [
        {
          "output_type": "stream",
          "text": [
            "2485\n",
            "True\n"
          ],
          "name": "stdout"
        }
      ]
    },
    {
      "cell_type": "code",
      "metadata": {
        "id": "aNSr27fqqc1_",
        "colab": {
          "base_uri": "https://localhost:8080/"
        },
        "outputId": "5428466f-557a-4241-cb5f-61c3e2699cf1"
      },
      "source": [
        "import numpy as np\n",
        "import json\n",
        "import itertools\n",
        "import torch\n",
        "import networkx as nx\n",
        "!pip install dgl\n",
        "import dgl.data\n",
        "import os.path\n",
        "from dgl import DGLGraph\n",
        "\n",
        "# DATA_PATH = os.path.join('..', '..', 'data.json')\n",
        "\n",
        "# class NodeClassificationDataset:\n",
        "#     def __init__(self, graph, features, labels, train_masks, stopping_masks,\n",
        "#                         val_masks, test_mask, n_edges, n_classes, n_feats):\n",
        "#         self.graph = graph\n",
        "#         self.features = features\n",
        "#         self.labels = labels\n",
        "#         self.train_masks = train_masks\n",
        "#         self.stopping_masks = stopping_masks\n",
        "#         self.val_masks = val_masks\n",
        "#         self.test_mask = test_mask\n",
        "#         self.n_edges = n_edges\n",
        "#         self.n_classes = n_classes\n",
        "#         self.n_feats = n_feats\n",
        "\n",
        "\n",
        "# def from_file(filename):\n",
        "#     data = json.load(open(filename))\n",
        "#     features = torch.FloatTensor(np.array(data['features']))\n",
        "#     labels = torch.LongTensor(np.array(data['labels']))\n",
        "#     if hasattr(torch, 'BoolTensor'):\n",
        "#         train_masks = [torch.BoolTensor(tr) for tr in data['train_masks']]\n",
        "#         val_masks = [torch.BoolTensor(val) for val in data['val_masks']]\n",
        "#         stopping_masks = [torch.BoolTensor(st) for st in data['stopping_masks']]\n",
        "#         test_mask = torch.BoolTensor(data['test_mask'])\n",
        "#     else:\n",
        "#         train_masks = [torch.ByteTensor(tr) for tr in data['train_masks']]\n",
        "#         val_masks = [torch.ByteTensor(val) for val in data['val_masks']]\n",
        "#         stopping_masks = [torch.ByteTensor(st) for st in data['stopping_masks']]\n",
        "#         test_mask = torch.ByteTensor(data['test_mask'])\n",
        "#     n_feats = features.shape[1]\n",
        "#     n_classes = len(set(data['labels']))\n",
        "\n",
        "#     g = DGLGraph()\n",
        "#     g.add_nodes(len(data['features']))\n",
        "#     edge_list = list(itertools.chain(*[[(i, nb) for nb in nbs] for i,nbs in enumerate(data['links'])]))\n",
        "#     n_edges = len(edge_list)\n",
        "#     # add edges two lists of nodes: src and dst\n",
        "#     src, dst = tuple(zip(*edge_list))\n",
        "#     g.add_edges(src, dst)\n",
        "#     # edges are directional in DGL; make them bi-directional\n",
        "#     g.add_edges(dst, src)\n",
        "#     return NodeClassificationDataset(g, features, labels, train_masks, stopping_masks,\n",
        "#                                     val_masks, test_mask, n_edges, n_classes, n_feats)"
      ],
      "execution_count": null,
      "outputs": [
        {
          "output_type": "stream",
          "text": [
            "Collecting dgl\n",
            "\u001b[?25l  Downloading https://files.pythonhosted.org/packages/46/62/da7146c0e46f93dd1f17cccea3010def155a1f479c0b036b604e952f321f/dgl-0.5.3-cp36-cp36m-manylinux1_x86_64.whl (3.6MB)\n",
            "\u001b[K     |████████████████████████████████| 3.6MB 20.0MB/s \n",
            "\u001b[?25hRequirement already satisfied: numpy>=1.14.0 in /usr/local/lib/python3.6/dist-packages (from dgl) (1.18.5)\n",
            "Requirement already satisfied: requests>=2.19.0 in /usr/local/lib/python3.6/dist-packages (from dgl) (2.23.0)\n",
            "Requirement already satisfied: scipy>=1.1.0 in /usr/local/lib/python3.6/dist-packages (from dgl) (1.4.1)\n",
            "Requirement already satisfied: networkx>=2.1 in /usr/local/lib/python3.6/dist-packages (from dgl) (2.5)\n",
            "Requirement already satisfied: idna<3,>=2.5 in /usr/local/lib/python3.6/dist-packages (from requests>=2.19.0->dgl) (2.10)\n",
            "Requirement already satisfied: chardet<4,>=3.0.2 in /usr/local/lib/python3.6/dist-packages (from requests>=2.19.0->dgl) (3.0.4)\n",
            "Requirement already satisfied: urllib3!=1.25.0,!=1.25.1,<1.26,>=1.21.1 in /usr/local/lib/python3.6/dist-packages (from requests>=2.19.0->dgl) (1.24.3)\n",
            "Requirement already satisfied: certifi>=2017.4.17 in /usr/local/lib/python3.6/dist-packages (from requests>=2.19.0->dgl) (2020.11.8)\n",
            "Requirement already satisfied: decorator>=4.3.0 in /usr/local/lib/python3.6/dist-packages (from networkx>=2.1->dgl) (4.4.2)\n",
            "Installing collected packages: dgl\n",
            "Successfully installed dgl-0.5.3\n",
            "Setting the default backend to \"pytorch\". You can change it in the ~/.dgl/config.json file or export the DGLBACKEND environment variable.  Valid options are: pytorch, mxnet, tensorflow (all lowercase)\n"
          ],
          "name": "stdout"
        },
        {
          "output_type": "stream",
          "text": [
            "DGL backend not selected or invalid.  Assuming PyTorch for now.\n",
            "Using backend: pytorch\n"
          ],
          "name": "stderr"
        }
      ]
    },
    {
      "cell_type": "code",
      "metadata": {
        "id": "NmqIEJhmrEzy",
        "colab": {
          "base_uri": "https://localhost:8080/"
        },
        "outputId": "c0249817-b92b-4fdc-dc37-0866b9fc3ee4"
      },
      "source": [
        "# dataset=from_file('/data.json')\n",
        "# dataset.n_edges"
      ],
      "execution_count": null,
      "outputs": [
        {
          "output_type": "stream",
          "text": [
            "/usr/local/lib/python3.6/dist-packages/dgl/base.py:45: DGLWarning: Recommend creating graphs by `dgl.graph(data)` instead of `dgl.DGLGraph(data)`.\n",
            "  return warnings.warn(message, category=category, stacklevel=1)\n"
          ],
          "name": "stderr"
        },
        {
          "output_type": "execute_result",
          "data": {
            "text/plain": [
              "297110"
            ]
          },
          "metadata": {
            "tags": []
          },
          "execution_count": 6
        }
      ]
    },
    {
      "cell_type": "code",
      "metadata": {
        "id": "bVoK0AE4uGAi"
      },
      "source": [
        "#print(len(dataset.graph.ndata['Features']))"
      ],
      "execution_count": null,
      "outputs": []
    },
    {
      "cell_type": "code",
      "metadata": {
        "id": "8yECGAddybrf",
        "colab": {
          "base_uri": "https://localhost:8080/"
        },
        "outputId": "a4987c64-5422-4208-bd1c-42c1ab3bf6bd"
      },
      "source": [
        "# print(dataset.graph.num_nodes())"
      ],
      "execution_count": null,
      "outputs": [
        {
          "output_type": "stream",
          "text": [
            "11701\n"
          ],
          "name": "stdout"
        }
      ]
    },
    {
      "cell_type": "code",
      "metadata": {
        "id": "5WxpJy-lrZ7u"
      },
      "source": [
        "# nx_g = dgl.to_networkx(dataset.graph)"
      ],
      "execution_count": null,
      "outputs": []
    },
    {
      "cell_type": "code",
      "metadata": {
        "id": "yXi3xlHtsZfD",
        "colab": {
          "base_uri": "https://localhost:8080/"
        },
        "outputId": "15223c2c-058d-4ee3-cc82-1a9e707643bd"
      },
      "source": [
        "# print(len(nx_g.edges()))\n",
        "# print(len(nx_g.nodes()))"
      ],
      "execution_count": null,
      "outputs": [
        {
          "output_type": "stream",
          "text": [
            "594220\n",
            "11701\n"
          ],
          "name": "stdout"
        }
      ]
    },
    {
      "cell_type": "code",
      "metadata": {
        "id": "v5cA7VXuztmX"
      },
      "source": [
        "# #print(nx_g.nodes)\n",
        "# mydic={}\n",
        "# for i in range(len(nx_g.nodes())):\n",
        "#   mydic[i]=list(dataset.features[i])"
      ],
      "execution_count": null,
      "outputs": []
    },
    {
      "cell_type": "code",
      "metadata": {
        "id": "wTyq9Qby4_7g",
        "colab": {
          "base_uri": "https://localhost:8080/"
        },
        "outputId": "dcb5770a-dd8c-4178-c511-36612515b9d6"
      },
      "source": [
        "# print(len(mydic[0]))"
      ],
      "execution_count": null,
      "outputs": [
        {
          "output_type": "stream",
          "text": [
            "300\n"
          ],
          "name": "stdout"
        }
      ]
    },
    {
      "cell_type": "code",
      "metadata": {
        "id": "IhyNOBn95Rob"
      },
      "source": [
        "# nx.set_node_attributes(nx_g,mydic,name='Features')"
      ],
      "execution_count": null,
      "outputs": []
    },
    {
      "cell_type": "code",
      "metadata": {
        "id": "TpvfPL145A6m",
        "colab": {
          "base_uri": "https://localhost:8080/"
        },
        "outputId": "9f86d579-0b99-4525-fce2-94444495c2a4"
      },
      "source": [
        "print(data2.keys())"
      ],
      "execution_count": null,
      "outputs": [
        {
          "output_type": "stream",
          "text": [
            "dict_keys(['features', 'labels', 'links', 'train_masks', 'stopping_masks', 'val_masks', 'test_mask'])\n"
          ],
          "name": "stdout"
        }
      ]
    },
    {
      "cell_type": "code",
      "metadata": {
        "id": "FzOAkKaR5A6p",
        "colab": {
          "base_uri": "https://localhost:8080/"
        },
        "outputId": "c7e79af5-32c3-422a-8a94-f697627290e3"
      },
      "source": [
        "#print(len(data2[\"labels\"]))"
      ],
      "execution_count": null,
      "outputs": [
        {
          "output_type": "stream",
          "text": [
            "11701\n"
          ],
          "name": "stdout"
        }
      ]
    },
    {
      "cell_type": "code",
      "metadata": {
        "id": "6Ki84HfbDYeL"
      },
      "source": [
        "mygraph=nx.Graph()"
      ],
      "execution_count": null,
      "outputs": []
    },
    {
      "cell_type": "code",
      "metadata": {
        "id": "yC8EbRD_DYeR"
      },
      "source": [
        "for i in range(len(data2[\"features\"])):\n",
        "  mygraph.add_node(i,features=data2[\"features\"][i])"
      ],
      "execution_count": null,
      "outputs": []
    },
    {
      "cell_type": "code",
      "metadata": {
        "id": "2sR7NU68DYeU"
      },
      "source": [
        "count=0\n",
        "for i in range(len(data2[\"links\"])):\n",
        "  edge_list=data2[\"links\"][i]\n",
        "  for j in edge_list:\n",
        "    mygraph.add_edge(i,j)"
      ],
      "execution_count": null,
      "outputs": []
    },
    {
      "cell_type": "code",
      "metadata": {
        "id": "PjMQMHu1DYeX",
        "colab": {
          "base_uri": "https://localhost:8080/"
        },
        "outputId": "b04715dc-cb09-4161-d161-7ece427fd306"
      },
      "source": [
        "print(len(mygraph.edges()))"
      ],
      "execution_count": null,
      "outputs": [
        {
          "output_type": "stream",
          "text": [
            "216123\n"
          ],
          "name": "stdout"
        }
      ]
    },
    {
      "cell_type": "code",
      "metadata": {
        "id": "M6WYS6h0DYed",
        "colab": {
          "base_uri": "https://localhost:8080/"
        },
        "outputId": "81f73ade-fab2-4abf-f132-6c6e257cf755"
      },
      "source": [
        "print(data2.keys())"
      ],
      "execution_count": null,
      "outputs": [
        {
          "output_type": "stream",
          "text": [
            "dict_keys(['features', 'labels', 'links', 'train_masks', 'stopping_masks', 'val_masks', 'test_mask'])\n"
          ],
          "name": "stdout"
        }
      ]
    },
    {
      "cell_type": "code",
      "metadata": {
        "id": "45Hfv1rgtdqw"
      },
      "source": [
        "def Avg(mylist):\n",
        "  return sum(mylist)/len(mylist)\n",
        "def give_properties(G):\n",
        "  print(\"Is Connected :\"+str(nx.is_connected(G)))\n",
        "  print(\"Density is \"+ str(nx.density(G)))\n",
        "  print(\"Number of Components \"+str(len(list(nx.connected_components(G)))))\n",
        "  print(\"Average Clustering \"+str(nx.average_clustering(G)))\n",
        "  degree_dict = dict(G.degree(G.nodes()))\n",
        "  print(\"Average Degree \"+str(Avg(degree_dict.values())))\n",
        "  print(\"Max Degree \"+str(max(degree_dict.values())))\n",
        "  print(\"Min Degree \"+str(min(degree_dict.values())))"
      ],
      "execution_count": null,
      "outputs": []
    },
    {
      "cell_type": "code",
      "metadata": {
        "id": "eMM0OuOvhxw1"
      },
      "source": [
        "#print(give_properties(CORA_nx))"
      ],
      "execution_count": null,
      "outputs": []
    },
    {
      "cell_type": "code",
      "metadata": {
        "colab": {
          "base_uri": "https://localhost:8080/"
        },
        "id": "ozLrdnJ4oBbw",
        "outputId": "b206afda-2c02-41b1-e3b4-ba55a2f17379"
      },
      "source": [
        "give_properties(mygraph)"
      ],
      "execution_count": null,
      "outputs": [
        {
          "output_type": "stream",
          "text": [
            "Is Connected :False\n",
            "Density is 0.0031573457451587526\n",
            "Number of Components 356\n",
            "Average Clustering 0.45272594560512097\n",
            "Average Degree 36.940945218357406\n",
            "Max Degree 3325\n",
            "Min Degree 0\n"
          ],
          "name": "stdout"
        }
      ]
    },
    {
      "cell_type": "code",
      "metadata": {
        "id": "O3QZDaQIUH-Y"
      },
      "source": [
        "components=nx.connected_components(mygraph)"
      ],
      "execution_count": null,
      "outputs": []
    },
    {
      "cell_type": "code",
      "metadata": {
        "colab": {
          "base_uri": "https://localhost:8080/",
          "height": 244
        },
        "id": "fx40nZa9UQih",
        "outputId": "3e98524a-eb9c-457a-e5b4-903b52712710"
      },
      "source": [
        "count=0\n",
        "for i in list(components)[0]:\n",
        "  #print(i)\n",
        "  count=count+1\n",
        "print(count)"
      ],
      "execution_count": null,
      "outputs": [
        {
          "output_type": "error",
          "ename": "IndexError",
          "evalue": "ignored",
          "traceback": [
            "\u001b[0;31m---------------------------------------------------------------------------\u001b[0m",
            "\u001b[0;31mIndexError\u001b[0m                                Traceback (most recent call last)",
            "\u001b[0;32m<ipython-input-26-4a7a2a8aa747>\u001b[0m in \u001b[0;36m<module>\u001b[0;34m()\u001b[0m\n\u001b[1;32m      1\u001b[0m \u001b[0mcount\u001b[0m\u001b[0;34m=\u001b[0m\u001b[0;36m0\u001b[0m\u001b[0;34m\u001b[0m\u001b[0;34m\u001b[0m\u001b[0m\n\u001b[0;32m----> 2\u001b[0;31m \u001b[0;32mfor\u001b[0m \u001b[0mi\u001b[0m \u001b[0;32min\u001b[0m \u001b[0mlist\u001b[0m\u001b[0;34m(\u001b[0m\u001b[0mcomponents\u001b[0m\u001b[0;34m)\u001b[0m\u001b[0;34m[\u001b[0m\u001b[0;36m0\u001b[0m\u001b[0;34m]\u001b[0m\u001b[0;34m:\u001b[0m\u001b[0;34m\u001b[0m\u001b[0;34m\u001b[0m\u001b[0m\n\u001b[0m\u001b[1;32m      3\u001b[0m   \u001b[0;31m#print(i)\u001b[0m\u001b[0;34m\u001b[0m\u001b[0;34m\u001b[0m\u001b[0;34m\u001b[0m\u001b[0m\n\u001b[1;32m      4\u001b[0m   \u001b[0mcount\u001b[0m\u001b[0;34m=\u001b[0m\u001b[0mcount\u001b[0m\u001b[0;34m+\u001b[0m\u001b[0;36m1\u001b[0m\u001b[0;34m\u001b[0m\u001b[0;34m\u001b[0m\u001b[0m\n\u001b[1;32m      5\u001b[0m \u001b[0mprint\u001b[0m\u001b[0;34m(\u001b[0m\u001b[0mcount\u001b[0m\u001b[0;34m)\u001b[0m\u001b[0;34m\u001b[0m\u001b[0;34m\u001b[0m\u001b[0m\n",
            "\u001b[0;31mIndexError\u001b[0m: list index out of range"
          ]
        }
      ]
    },
    {
      "cell_type": "code",
      "metadata": {
        "colab": {
          "base_uri": "https://localhost:8080/"
        },
        "id": "QrNPINFLVweE",
        "outputId": "8c2643b5-9442-46a6-cf94-6ced1656434f"
      },
      "source": [
        "[len(c) for c in sorted(nx.connected_components(mygraph), key=len, reverse=True)]"
      ],
      "execution_count": null,
      "outputs": [
        {
          "output_type": "execute_result",
          "data": {
            "text/plain": [
              "[11311,\n",
              " 16,\n",
              " 3,\n",
              " 3,\n",
              " 3,\n",
              " 2,\n",
              " 2,\n",
              " 2,\n",
              " 2,\n",
              " 2,\n",
              " 2,\n",
              " 2,\n",
              " 2,\n",
              " 2,\n",
              " 2,\n",
              " 2,\n",
              " 2,\n",
              " 2,\n",
              " 2,\n",
              " 1,\n",
              " 1,\n",
              " 1,\n",
              " 1,\n",
              " 1,\n",
              " 1,\n",
              " 1,\n",
              " 1,\n",
              " 1,\n",
              " 1,\n",
              " 1,\n",
              " 1,\n",
              " 1,\n",
              " 1,\n",
              " 1,\n",
              " 1,\n",
              " 1,\n",
              " 1,\n",
              " 1,\n",
              " 1,\n",
              " 1,\n",
              " 1,\n",
              " 1,\n",
              " 1,\n",
              " 1,\n",
              " 1,\n",
              " 1,\n",
              " 1,\n",
              " 1,\n",
              " 1,\n",
              " 1,\n",
              " 1,\n",
              " 1,\n",
              " 1,\n",
              " 1,\n",
              " 1,\n",
              " 1,\n",
              " 1,\n",
              " 1,\n",
              " 1,\n",
              " 1,\n",
              " 1,\n",
              " 1,\n",
              " 1,\n",
              " 1,\n",
              " 1,\n",
              " 1,\n",
              " 1,\n",
              " 1,\n",
              " 1,\n",
              " 1,\n",
              " 1,\n",
              " 1,\n",
              " 1,\n",
              " 1,\n",
              " 1,\n",
              " 1,\n",
              " 1,\n",
              " 1,\n",
              " 1,\n",
              " 1,\n",
              " 1,\n",
              " 1,\n",
              " 1,\n",
              " 1,\n",
              " 1,\n",
              " 1,\n",
              " 1,\n",
              " 1,\n",
              " 1,\n",
              " 1,\n",
              " 1,\n",
              " 1,\n",
              " 1,\n",
              " 1,\n",
              " 1,\n",
              " 1,\n",
              " 1,\n",
              " 1,\n",
              " 1,\n",
              " 1,\n",
              " 1,\n",
              " 1,\n",
              " 1,\n",
              " 1,\n",
              " 1,\n",
              " 1,\n",
              " 1,\n",
              " 1,\n",
              " 1,\n",
              " 1,\n",
              " 1,\n",
              " 1,\n",
              " 1,\n",
              " 1,\n",
              " 1,\n",
              " 1,\n",
              " 1,\n",
              " 1,\n",
              " 1,\n",
              " 1,\n",
              " 1,\n",
              " 1,\n",
              " 1,\n",
              " 1,\n",
              " 1,\n",
              " 1,\n",
              " 1,\n",
              " 1,\n",
              " 1,\n",
              " 1,\n",
              " 1,\n",
              " 1,\n",
              " 1,\n",
              " 1,\n",
              " 1,\n",
              " 1,\n",
              " 1,\n",
              " 1,\n",
              " 1,\n",
              " 1,\n",
              " 1,\n",
              " 1,\n",
              " 1,\n",
              " 1,\n",
              " 1,\n",
              " 1,\n",
              " 1,\n",
              " 1,\n",
              " 1,\n",
              " 1,\n",
              " 1,\n",
              " 1,\n",
              " 1,\n",
              " 1,\n",
              " 1,\n",
              " 1,\n",
              " 1,\n",
              " 1,\n",
              " 1,\n",
              " 1,\n",
              " 1,\n",
              " 1,\n",
              " 1,\n",
              " 1,\n",
              " 1,\n",
              " 1,\n",
              " 1,\n",
              " 1,\n",
              " 1,\n",
              " 1,\n",
              " 1,\n",
              " 1,\n",
              " 1,\n",
              " 1,\n",
              " 1,\n",
              " 1,\n",
              " 1,\n",
              " 1,\n",
              " 1,\n",
              " 1,\n",
              " 1,\n",
              " 1,\n",
              " 1,\n",
              " 1,\n",
              " 1,\n",
              " 1,\n",
              " 1,\n",
              " 1,\n",
              " 1,\n",
              " 1,\n",
              " 1,\n",
              " 1,\n",
              " 1,\n",
              " 1,\n",
              " 1,\n",
              " 1,\n",
              " 1,\n",
              " 1,\n",
              " 1,\n",
              " 1,\n",
              " 1,\n",
              " 1,\n",
              " 1,\n",
              " 1,\n",
              " 1,\n",
              " 1,\n",
              " 1,\n",
              " 1,\n",
              " 1,\n",
              " 1,\n",
              " 1,\n",
              " 1,\n",
              " 1,\n",
              " 1,\n",
              " 1,\n",
              " 1,\n",
              " 1,\n",
              " 1,\n",
              " 1,\n",
              " 1,\n",
              " 1,\n",
              " 1,\n",
              " 1,\n",
              " 1,\n",
              " 1,\n",
              " 1,\n",
              " 1,\n",
              " 1,\n",
              " 1,\n",
              " 1,\n",
              " 1,\n",
              " 1,\n",
              " 1,\n",
              " 1,\n",
              " 1,\n",
              " 1,\n",
              " 1,\n",
              " 1,\n",
              " 1,\n",
              " 1,\n",
              " 1,\n",
              " 1,\n",
              " 1,\n",
              " 1,\n",
              " 1,\n",
              " 1,\n",
              " 1,\n",
              " 1,\n",
              " 1,\n",
              " 1,\n",
              " 1,\n",
              " 1,\n",
              " 1,\n",
              " 1,\n",
              " 1,\n",
              " 1,\n",
              " 1,\n",
              " 1,\n",
              " 1,\n",
              " 1,\n",
              " 1,\n",
              " 1,\n",
              " 1,\n",
              " 1,\n",
              " 1,\n",
              " 1,\n",
              " 1,\n",
              " 1,\n",
              " 1,\n",
              " 1,\n",
              " 1,\n",
              " 1,\n",
              " 1,\n",
              " 1,\n",
              " 1,\n",
              " 1,\n",
              " 1,\n",
              " 1,\n",
              " 1,\n",
              " 1,\n",
              " 1,\n",
              " 1,\n",
              " 1,\n",
              " 1,\n",
              " 1,\n",
              " 1,\n",
              " 1,\n",
              " 1,\n",
              " 1,\n",
              " 1,\n",
              " 1,\n",
              " 1,\n",
              " 1,\n",
              " 1,\n",
              " 1,\n",
              " 1,\n",
              " 1,\n",
              " 1,\n",
              " 1,\n",
              " 1,\n",
              " 1,\n",
              " 1,\n",
              " 1,\n",
              " 1,\n",
              " 1,\n",
              " 1,\n",
              " 1,\n",
              " 1,\n",
              " 1,\n",
              " 1,\n",
              " 1,\n",
              " 1,\n",
              " 1,\n",
              " 1,\n",
              " 1,\n",
              " 1,\n",
              " 1,\n",
              " 1,\n",
              " 1,\n",
              " 1,\n",
              " 1,\n",
              " 1,\n",
              " 1,\n",
              " 1,\n",
              " 1,\n",
              " 1,\n",
              " 1,\n",
              " 1,\n",
              " 1,\n",
              " 1,\n",
              " 1,\n",
              " 1,\n",
              " 1,\n",
              " 1,\n",
              " 1,\n",
              " 1,\n",
              " 1,\n",
              " 1,\n",
              " 1,\n",
              " 1,\n",
              " 1,\n",
              " 1,\n",
              " 1,\n",
              " 1,\n",
              " 1,\n",
              " 1,\n",
              " 1,\n",
              " 1,\n",
              " 1,\n",
              " 1,\n",
              " 1,\n",
              " 1,\n",
              " 1,\n",
              " 1,\n",
              " 1,\n",
              " 1]"
            ]
          },
          "metadata": {
            "tags": []
          },
          "execution_count": 27
        }
      ]
    },
    {
      "cell_type": "code",
      "metadata": {
        "colab": {
          "base_uri": "https://localhost:8080/"
        },
        "id": "VJwFoiGqnJRf",
        "outputId": "30e46c85-f827-40ea-f6ef-72b449d29bc0"
      },
      "source": [
        "# Next, use nx.connected_components to get the list of components,\n",
        "# then use the max() command to find the largest one:\n",
        "components = nx.connected_components(mygraph)\n",
        "largest_component = max(components, key=len)\n",
        "print(len(list(components)))\n",
        "# Create a \"subgraph\" of just the largest component\n",
        "# Then calculate the diameter of the subgraph, just like you did with density.\n",
        "#\n",
        "\n",
        "subgraph = mygraph.subgraph(largest_component)\n",
        "print(\"here\")\n",
        "diameter = nx.diameter(subgraph)\n",
        "print(\"Network diameter of largest component:\", diameter)"
      ],
      "execution_count": null,
      "outputs": [
        {
          "output_type": "stream",
          "text": [
            "0\n",
            "here\n"
          ],
          "name": "stdout"
        }
      ]
    },
    {
      "cell_type": "code",
      "metadata": {
        "colab": {
          "base_uri": "https://localhost:8080/"
        },
        "id": "50jKeCNxrx3N",
        "outputId": "c664f8ec-22ca-4aa1-f622-37586e54260a"
      },
      "source": [
        "print(nx.average_clustering(mygraph))"
      ],
      "execution_count": null,
      "outputs": [
        {
          "output_type": "stream",
          "text": [
            "0.45272594560512097\n"
          ],
          "name": "stdout"
        }
      ]
    },
    {
      "cell_type": "code",
      "metadata": {
        "id": "ziLVXB8DDYea"
      },
      "source": [
        "mygraph=StellarGraph.from_networkx(subgraph,node_features=\"features\")"
      ],
      "execution_count": null,
      "outputs": []
    },
    {
      "cell_type": "code",
      "metadata": {
        "id": "ZKEVTmD_DYef",
        "colab": {
          "base_uri": "https://localhost:8080/"
        },
        "outputId": "e919f0c3-8826-4c68-e8c0-dc7ccee26ba7"
      },
      "source": [
        "print(len(data2[\"labels\"]))"
      ],
      "execution_count": null,
      "outputs": [
        {
          "output_type": "stream",
          "text": [
            "11701\n"
          ],
          "name": "stdout"
        }
      ]
    },
    {
      "cell_type": "code",
      "metadata": {
        "id": "iGr0cX2kigWn",
        "colab": {
          "base_uri": "https://localhost:8080/"
        },
        "outputId": "e02801ee-7364-4e4d-8421-731db014d50b"
      },
      "source": [
        "print(mygraph.info())"
      ],
      "execution_count": null,
      "outputs": [
        {
          "output_type": "stream",
          "text": [
            "StellarGraph: Undirected multigraph\n",
            " Nodes: 11311, Edges: 216071\n",
            "\n",
            " Node types:\n",
            "  default: [11311]\n",
            "    Features: float32 vector, length 300\n",
            "    Edge types: default-default->default\n",
            "\n",
            " Edge types:\n",
            "    default-default->default: [216071]\n",
            "        Weights: all 1 (default)\n",
            "        Features: none\n"
          ],
          "name": "stdout"
        }
      ]
    },
    {
      "cell_type": "code",
      "metadata": {
        "id": "-slLm_5QyqWz"
      },
      "source": [
        "import networkx as nx\n",
        "import pandas as pd\n",
        "import numpy as np\n",
        "import os\n",
        "import random\n",
        "\n",
        "import stellargraph as sg\n",
        "from stellargraph.data import UnsupervisedSampler\n",
        "from stellargraph.mapper import Attri2VecLinkGenerator, Attri2VecNodeGenerator\n",
        "from stellargraph.layer import Attri2Vec, link_classification\n",
        "\n",
        "from tensorflow import keras\n",
        "\n",
        "from pandas.core.indexes.base import Index\n",
        "\n",
        "import matplotlib.pyplot as plt\n",
        "from sklearn.manifold import TSNE\n",
        "from sklearn.decomposition import PCA\n",
        "\n",
        "from sklearn.model_selection import train_test_split\n",
        "from sklearn.linear_model import LogisticRegressionCV\n",
        "from sklearn.metrics import accuracy_score\n",
        "\n",
        "from stellargraph import datasets\n",
        "\n"
      ],
      "execution_count": null,
      "outputs": []
    },
    {
      "cell_type": "code",
      "metadata": {
        "colab": {
          "base_uri": "https://localhost:8080/"
        },
        "id": "tBd21c2yy1n9",
        "outputId": "53587528-ebe7-4594-f268-87781f40eb7c"
      },
      "source": [
        "nodes = list(mygraph.nodes())\n",
        "number_of_walks = 4\n",
        "length = 5\n",
        "unsupervised_samples = UnsupervisedSampler(\n",
        "    mygraph, nodes=nodes, length=length, number_of_walks=number_of_walks\n",
        ")\n",
        "batch_size = 50\n",
        "epochs = 4\n",
        "generator = Attri2VecLinkGenerator(mygraph, batch_size)\n",
        "train_gen = generator.flow(unsupervised_samples)\n",
        "layer_sizes = [128]\n",
        "attri2vec = Attri2Vec(\n",
        "    layer_sizes=layer_sizes, generator=generator, bias=False, normalize=None\n",
        ")\n",
        "# Build the model and expose input and output sockets of attri2vec, for node pair inputs:\n",
        "x_inp, x_out = attri2vec.in_out_tensors()\n",
        "prediction = link_classification(\n",
        "    output_dim=1, output_act=\"sigmoid\", edge_embedding_method=\"ip\"\n",
        ")(x_out)\n",
        "model = keras.Model(inputs=x_inp, outputs=prediction)\n",
        "\n",
        "model.compile(\n",
        "    optimizer=keras.optimizers.Adam(lr=1e-3),\n",
        "    loss=keras.losses.binary_crossentropy,\n",
        "    metrics=[keras.metrics.binary_accuracy],\n",
        ")\n",
        "history = model.fit(\n",
        "    train_gen,\n",
        "    epochs=epochs,\n",
        "    verbose=2,\n",
        "    use_multiprocessing=False,\n",
        "    workers=1,\n",
        "    shuffle=True,\n",
        ")"
      ],
      "execution_count": null,
      "outputs": [
        {
          "output_type": "stream",
          "text": [
            "link_classification: using 'ip' method to combine node embeddings into edge embeddings\n",
            "Epoch 1/4\n",
            "7275/7275 - 93s - loss: 0.6498 - binary_accuracy: 0.5917\n",
            "Epoch 2/4\n",
            "7275/7275 - 89s - loss: 0.5852 - binary_accuracy: 0.6770\n",
            "Epoch 3/4\n",
            "7275/7275 - 87s - loss: 0.5567 - binary_accuracy: 0.7083\n",
            "Epoch 4/4\n",
            "7275/7275 - 87s - loss: 0.5382 - binary_accuracy: 0.7286\n"
          ],
          "name": "stdout"
        }
      ]
    },
    {
      "cell_type": "code",
      "metadata": {
        "colab": {
          "base_uri": "https://localhost:8080/",
          "height": 358
        },
        "id": "7caKyMYI0xpW",
        "outputId": "613e6e6a-0eb2-4752-8ba8-c40a25ffddee"
      },
      "source": [
        "x_inp_src = x_inp[0]\n",
        "x_out_src = x_out[0]\n",
        "embedding_model = keras.Model(inputs=x_inp_src, outputs=x_out_src)\n",
        "node_gen = Attri2VecNodeGenerator(mygraph, batch_size)\n",
        "node_embeddings = embedding_model.predict(node_gen, workers=1, verbose=1)"
      ],
      "execution_count": null,
      "outputs": [
        {
          "output_type": "error",
          "ename": "ValueError",
          "evalue": "ignored",
          "traceback": [
            "\u001b[0;31m---------------------------------------------------------------------------\u001b[0m",
            "\u001b[0;31mValueError\u001b[0m                                Traceback (most recent call last)",
            "\u001b[0;32m<ipython-input-65-567d3ee9fd6a>\u001b[0m in \u001b[0;36m<module>\u001b[0;34m()\u001b[0m\n\u001b[1;32m      3\u001b[0m \u001b[0membedding_model\u001b[0m \u001b[0;34m=\u001b[0m \u001b[0mkeras\u001b[0m\u001b[0;34m.\u001b[0m\u001b[0mModel\u001b[0m\u001b[0;34m(\u001b[0m\u001b[0minputs\u001b[0m\u001b[0;34m=\u001b[0m\u001b[0mx_inp_src\u001b[0m\u001b[0;34m,\u001b[0m \u001b[0moutputs\u001b[0m\u001b[0;34m=\u001b[0m\u001b[0mx_out_src\u001b[0m\u001b[0;34m)\u001b[0m\u001b[0;34m\u001b[0m\u001b[0;34m\u001b[0m\u001b[0m\n\u001b[1;32m      4\u001b[0m \u001b[0mnode_gen\u001b[0m \u001b[0;34m=\u001b[0m \u001b[0mAttri2VecNodeGenerator\u001b[0m\u001b[0;34m(\u001b[0m\u001b[0mmygraph\u001b[0m\u001b[0;34m,\u001b[0m \u001b[0mbatch_size\u001b[0m\u001b[0;34m)\u001b[0m\u001b[0;34m\u001b[0m\u001b[0;34m\u001b[0m\u001b[0m\n\u001b[0;32m----> 5\u001b[0;31m \u001b[0mnode_embeddings\u001b[0m \u001b[0;34m=\u001b[0m \u001b[0membedding_model\u001b[0m\u001b[0;34m.\u001b[0m\u001b[0mpredict\u001b[0m\u001b[0;34m(\u001b[0m\u001b[0mnode_gen\u001b[0m\u001b[0;34m,\u001b[0m \u001b[0mworkers\u001b[0m\u001b[0;34m=\u001b[0m\u001b[0;36m1\u001b[0m\u001b[0;34m,\u001b[0m \u001b[0mverbose\u001b[0m\u001b[0;34m=\u001b[0m\u001b[0;36m1\u001b[0m\u001b[0;34m)\u001b[0m\u001b[0;34m\u001b[0m\u001b[0;34m\u001b[0m\u001b[0m\n\u001b[0m",
            "\u001b[0;32m/usr/local/lib/python3.6/dist-packages/tensorflow/python/keras/engine/training.py\u001b[0m in \u001b[0;36m_method_wrapper\u001b[0;34m(self, *args, **kwargs)\u001b[0m\n\u001b[1;32m    128\u001b[0m       raise ValueError('{} is not supported in multi-worker mode.'.format(\n\u001b[1;32m    129\u001b[0m           method.__name__))\n\u001b[0;32m--> 130\u001b[0;31m     \u001b[0;32mreturn\u001b[0m \u001b[0mmethod\u001b[0m\u001b[0;34m(\u001b[0m\u001b[0mself\u001b[0m\u001b[0;34m,\u001b[0m \u001b[0;34m*\u001b[0m\u001b[0margs\u001b[0m\u001b[0;34m,\u001b[0m \u001b[0;34m**\u001b[0m\u001b[0mkwargs\u001b[0m\u001b[0;34m)\u001b[0m\u001b[0;34m\u001b[0m\u001b[0;34m\u001b[0m\u001b[0m\n\u001b[0m\u001b[1;32m    131\u001b[0m \u001b[0;34m\u001b[0m\u001b[0m\n\u001b[1;32m    132\u001b[0m   return tf_decorator.make_decorator(\n",
            "\u001b[0;32m/usr/local/lib/python3.6/dist-packages/tensorflow/python/keras/engine/training.py\u001b[0m in \u001b[0;36mpredict\u001b[0;34m(self, x, batch_size, verbose, steps, callbacks, max_queue_size, workers, use_multiprocessing)\u001b[0m\n\u001b[1;32m   1577\u001b[0m           \u001b[0muse_multiprocessing\u001b[0m\u001b[0;34m=\u001b[0m\u001b[0muse_multiprocessing\u001b[0m\u001b[0;34m,\u001b[0m\u001b[0;34m\u001b[0m\u001b[0;34m\u001b[0m\u001b[0m\n\u001b[1;32m   1578\u001b[0m           \u001b[0mmodel\u001b[0m\u001b[0;34m=\u001b[0m\u001b[0mself\u001b[0m\u001b[0;34m,\u001b[0m\u001b[0;34m\u001b[0m\u001b[0;34m\u001b[0m\u001b[0m\n\u001b[0;32m-> 1579\u001b[0;31m           steps_per_execution=self._steps_per_execution)\n\u001b[0m\u001b[1;32m   1580\u001b[0m \u001b[0;34m\u001b[0m\u001b[0m\n\u001b[1;32m   1581\u001b[0m       \u001b[0;31m# Container that configures and calls `tf.keras.Callback`s.\u001b[0m\u001b[0;34m\u001b[0m\u001b[0;34m\u001b[0m\u001b[0;34m\u001b[0m\u001b[0m\n",
            "\u001b[0;32m/usr/local/lib/python3.6/dist-packages/tensorflow/python/keras/engine/data_adapter.py\u001b[0m in \u001b[0;36m__init__\u001b[0;34m(self, x, y, sample_weight, batch_size, steps_per_epoch, initial_epoch, epochs, shuffle, class_weight, max_queue_size, workers, use_multiprocessing, model, steps_per_execution)\u001b[0m\n\u001b[1;32m   1102\u001b[0m       \u001b[0mself\u001b[0m\u001b[0;34m.\u001b[0m\u001b[0m_steps_per_execution_value\u001b[0m \u001b[0;34m=\u001b[0m \u001b[0msteps_per_execution\u001b[0m\u001b[0;34m.\u001b[0m\u001b[0mnumpy\u001b[0m\u001b[0;34m(\u001b[0m\u001b[0;34m)\u001b[0m\u001b[0;34m.\u001b[0m\u001b[0mitem\u001b[0m\u001b[0;34m(\u001b[0m\u001b[0;34m)\u001b[0m\u001b[0;34m\u001b[0m\u001b[0;34m\u001b[0m\u001b[0m\n\u001b[1;32m   1103\u001b[0m \u001b[0;34m\u001b[0m\u001b[0m\n\u001b[0;32m-> 1104\u001b[0;31m     \u001b[0madapter_cls\u001b[0m \u001b[0;34m=\u001b[0m \u001b[0mselect_data_adapter\u001b[0m\u001b[0;34m(\u001b[0m\u001b[0mx\u001b[0m\u001b[0;34m,\u001b[0m \u001b[0my\u001b[0m\u001b[0;34m)\u001b[0m\u001b[0;34m\u001b[0m\u001b[0;34m\u001b[0m\u001b[0m\n\u001b[0m\u001b[1;32m   1105\u001b[0m     self._adapter = adapter_cls(\n\u001b[1;32m   1106\u001b[0m         \u001b[0mx\u001b[0m\u001b[0;34m,\u001b[0m\u001b[0;34m\u001b[0m\u001b[0;34m\u001b[0m\u001b[0m\n",
            "\u001b[0;32m/usr/local/lib/python3.6/dist-packages/tensorflow/python/keras/engine/data_adapter.py\u001b[0m in \u001b[0;36mselect_data_adapter\u001b[0;34m(x, y)\u001b[0m\n\u001b[1;32m    969\u001b[0m         \u001b[0;34m\"Failed to find data adapter that can handle \"\u001b[0m\u001b[0;34m\u001b[0m\u001b[0;34m\u001b[0m\u001b[0m\n\u001b[1;32m    970\u001b[0m         \"input: {}, {}\".format(\n\u001b[0;32m--> 971\u001b[0;31m             _type_name(x), _type_name(y)))\n\u001b[0m\u001b[1;32m    972\u001b[0m   \u001b[0;32melif\u001b[0m \u001b[0mlen\u001b[0m\u001b[0;34m(\u001b[0m\u001b[0madapter_cls\u001b[0m\u001b[0;34m)\u001b[0m \u001b[0;34m>\u001b[0m \u001b[0;36m1\u001b[0m\u001b[0;34m:\u001b[0m\u001b[0;34m\u001b[0m\u001b[0;34m\u001b[0m\u001b[0m\n\u001b[1;32m    973\u001b[0m     raise RuntimeError(\n",
            "\u001b[0;31mValueError\u001b[0m: Failed to find data adapter that can handle input: <class 'stellargraph.mapper.sampled_node_generators.Attri2VecNodeGenerator'>, <class 'NoneType'>"
          ]
        }
      ]
    },
    {
      "cell_type": "code",
      "metadata": {
        "id": "wuepi6suipIQ"
      },
      "source": [
        "rw = BiasedRandomWalk(mygraph)\n",
        "walks_arr1=[]\n",
        "for i in range(1,5):\n",
        "  for j in range(1,5):\n",
        "    walks = rw.run(\n",
        "        nodes=list(mygraph.nodes()),  # root nodes\n",
        "        length=30,  # maximum length of a random walk\n",
        "        n=10,  # number of random walks per root node\n",
        "        p=1/i,  # Defines (unormalised) probability, 1/p, of returning to source node\n",
        "        q=j,  # Defines (unormalised) probability, 1/q, for moving away from source node\n",
        "    )\n",
        "    walks_arr1.append(walks)\n",
        "#print(\"Number of random walks: {}\".format(len(walks)))"
      ],
      "execution_count": null,
      "outputs": []
    },
    {
      "cell_type": "code",
      "metadata": {
        "id": "7E7VdzAQ5SlL"
      },
      "source": [
        "rw = BiasedRandomWalk(mygraph)\n",
        "walks_arr1=[]\n",
        "for i in range(1,5):\n",
        "  for j in range(1,5):\n",
        "    walks = rw.run(\n",
        "        nodes=list(mygraph.nodes()),  # root nodes\n",
        "        length=30,  # maximum length of a random walk\n",
        "        n=10,  # number of random walks per root node\n",
        "        p=1/i,  # Defines (unormalised) probability, 1/p, of returning to source node\n",
        "        q=j,  # Defines (unormalised) probability, 1/q, for moving away from source node\n",
        "    )\n",
        "    walks_arr1.append(walks)\n",
        "#print(\"Number of random walks: {}\".format(len(walks)))"
      ],
      "execution_count": null,
      "outputs": []
    },
    {
      "cell_type": "code",
      "metadata": {
        "id": "WcK5n3xti_55"
      },
      "source": [
        "from gensim.models import Word2Vec\n",
        "#str_walks_array=[]\n",
        "models=[]\n",
        "for i in range(len(walks_arr1)):\n",
        "  walks=walks_arr1[i]\n",
        "  str_walks = [[str(n) for n in walk] for walk in walks]\n",
        "  model = Word2Vec(str_walks, size=200, window=3, min_count=0, sg=1, workers=2, iter=1, alpha = 0.01)\n",
        "  models.append(model)"
      ],
      "execution_count": null,
      "outputs": []
    },
    {
      "cell_type": "code",
      "metadata": {
        "id": "nW5Ia2-4D-lL",
        "colab": {
          "base_uri": "https://localhost:8080/"
        },
        "outputId": "215f8b84-1914-4fc7-921e-b945ae02d21b"
      },
      "source": [
        "from google.colab import drive\n",
        "drive.mount('/content/drive')"
      ],
      "execution_count": null,
      "outputs": [
        {
          "output_type": "stream",
          "text": [
            "Mounted at /content/drive\n"
          ],
          "name": "stdout"
        }
      ]
    },
    {
      "cell_type": "code",
      "metadata": {
        "id": "VbLi8QwUuKN8",
        "colab": {
          "base_uri": "https://localhost:8080/"
        },
        "outputId": "c80bd922-4ee4-4d2b-f66c-b6c0c3bc5793"
      },
      "source": [
        "print(len(walks_arr1))"
      ],
      "execution_count": null,
      "outputs": [
        {
          "output_type": "stream",
          "text": [
            "16\n"
          ],
          "name": "stdout"
        }
      ]
    },
    {
      "cell_type": "code",
      "metadata": {
        "id": "IgIYWsiIjmal"
      },
      "source": [
        "node_embeddingsa=[]\n",
        "node_idsa=[]\n",
        "for i in range(len(models)):\n",
        "  node_ids = models[i].wv.index2word  # list of node IDs\n",
        "  node_embeddings = (\n",
        "      models[i].wv.vectors\n",
        "  )  # numpy.ndarray of size number of nodes times embeddings dimensionality\n",
        "#node_targets = node_subjects[[int(node_id) for node_id in node_ids]]\n",
        "  node_embeddingsa.append(node_embeddings)\n",
        "  node_idsa.append(node_ids)"
      ],
      "execution_count": null,
      "outputs": []
    },
    {
      "cell_type": "code",
      "metadata": {
        "id": "CWBtEyZkk8wR"
      },
      "source": [
        "# X will hold the 128-dimensional input features\n",
        "X = node_embeddings\n",
        "# y holds the corresponding target values\n",
        "#y = np.array(data2[\"labels\"])"
      ],
      "execution_count": null,
      "outputs": []
    },
    {
      "cell_type": "code",
      "metadata": {
        "id": "oO5yjUPEeCU8"
      },
      "source": [
        "#print(model.wv.)"
      ],
      "execution_count": null,
      "outputs": []
    },
    {
      "cell_type": "code",
      "metadata": {
        "id": "Trg1gDCfdXlO"
      },
      "source": [
        "y=[]\n",
        "for i in node_ids:\n",
        "  y.append(data2[\"labels\"][int(i)])\n",
        "y=np.array(y)"
      ],
      "execution_count": null,
      "outputs": []
    },
    {
      "cell_type": "code",
      "metadata": {
        "id": "PJH27tk3lmUy"
      },
      "source": [
        "X_train, X_val, y_train, y_val = train_test_split(X, y, train_size=0.2)"
      ],
      "execution_count": null,
      "outputs": []
    },
    {
      "cell_type": "code",
      "metadata": {
        "id": "_IiyV6YEvxfT"
      },
      "source": [
        "from sklearn.multiclass import OneVsRestClassifier \n",
        "from sklearn.linear_model import LogisticRegression\n",
        "model = LogisticRegression(multi_class='ovr')\n",
        "microf1=[]\n",
        "macrof1=[]\n",
        "for j in range(len(node_embeddingsa)):\n",
        "  X = node_embeddingsa[j]\n",
        "  y=[]\n",
        "  for i in node_idsa[j]:\n",
        "    y.append(data2[\"labels\"][int(i)])\n",
        "  y=np.array(y)\n",
        "  X_train, X_val, y_train, y_val = train_test_split(X, y, train_size=0.2,random_state=1)\n",
        "  model.fit(X_train, y_train)\n",
        "# Making a prediction on the test set \n",
        "  y_pred = model.predict(X_val) \n",
        "  #print(accuracy_score(y_val, y_pred))\n",
        "  #print(\"F1 score (micro)\") \n",
        "  #print(f1_score(y_val,y_pred,average=\"micro\"))\n",
        "  microf1.append(f1_score(y_val,y_pred,average=\"micro\"))\n",
        "  #print(\"F1 score (macro)\")\n",
        "  #print(f1_score(y_val,y_pred,average=\"macro\"))\n",
        "  macrof1.append(f1_score(y_val,y_pred,average=\"macro\"))   \n"
      ],
      "execution_count": null,
      "outputs": []
    },
    {
      "cell_type": "code",
      "metadata": {
        "id": "0oeHstXf3wS4",
        "colab": {
          "base_uri": "https://localhost:8080/"
        },
        "outputId": "1af07b3a-f9fb-42eb-cbf5-89f2d514b395"
      },
      "source": [
        "print(microf1)\n",
        "print(macrof1)"
      ],
      "execution_count": null,
      "outputs": [
        {
          "output_type": "stream",
          "text": [
            "[0.6122223450104984, 0.6143220245330976, 0.6336611780307216, 0.6276936678085976, 0.6047077025085645, 0.620731572549453, 0.6310089512653332, 0.6358713670018786, 0.6029395513316389, 0.6234943087633993, 0.6239363465576306, 0.6569786716764283, 0.6120013261133826, 0.6210631008951265, 0.6541054260139242, 0.6346557630677423]\n",
            "[0.42028575571806953, 0.45493082563783893, 0.48176645650938665, 0.48842350145672403, 0.43800639019836574, 0.46514892618492976, 0.4852943482298369, 0.49875385574889464, 0.4400914916658657, 0.47104510817295375, 0.4886958829932686, 0.5461395252176907, 0.4420844144039009, 0.4723523972459901, 0.5249026340771994, 0.5200139983693263]\n"
          ],
          "name": "stdout"
        }
      ]
    },
    {
      "cell_type": "code",
      "metadata": {
        "colab": {
          "base_uri": "https://localhost:8080/",
          "height": 474
        },
        "id": "93ILOV4dj_BJ",
        "outputId": "f0fc31a1-bb3a-423b-e7da-f08f2e469152"
      },
      "source": [
        "import matplotlib.pyplot as plt\n",
        "plt.plot([1,2,3,4],microf1[:4])\n",
        "\n",
        "#sns.lineplot(x=[1,2,3,4],y=microf1[4:8])\n",
        "#sns.lineplot(x=[1,2,3,4],y=microf1[8:12])\n",
        "#sns.lineplot(x=[1,2,3,4],y=microf1[12:])\n",
        "plt.xlabel(\"q value\")\n",
        "plt.ylabel('micro f1')\n"
      ],
      "execution_count": null,
      "outputs": [
        {
          "output_type": "error",
          "ename": "TypeError",
          "evalue": "ignored",
          "traceback": [
            "\u001b[0;31m---------------------------------------------------------------------------\u001b[0m",
            "\u001b[0;31mTypeError\u001b[0m                                 Traceback (most recent call last)",
            "\u001b[0;32m<ipython-input-133-e49cf44dcae7>\u001b[0m in \u001b[0;36m<module>\u001b[0;34m()\u001b[0m\n\u001b[1;32m      8\u001b[0m \u001b[0;31m#sns.lineplot(x=[1,2,3,4],y=microf1[8:12])\u001b[0m\u001b[0;34m\u001b[0m\u001b[0;34m\u001b[0m\u001b[0;34m\u001b[0m\u001b[0m\n\u001b[1;32m      9\u001b[0m \u001b[0;31m#sns.lineplot(x=[1,2,3,4],y=microf1[12:])\u001b[0m\u001b[0;34m\u001b[0m\u001b[0;34m\u001b[0m\u001b[0;34m\u001b[0m\u001b[0m\n\u001b[0;32m---> 10\u001b[0;31m \u001b[0mplt\u001b[0m\u001b[0;34m.\u001b[0m\u001b[0mxlabel\u001b[0m\u001b[0;34m(\u001b[0m\u001b[0;34m\"q value\"\u001b[0m\u001b[0;34m)\u001b[0m\u001b[0;34m\u001b[0m\u001b[0;34m\u001b[0m\u001b[0m\n\u001b[0m\u001b[1;32m     11\u001b[0m \u001b[0mplt\u001b[0m\u001b[0;34m.\u001b[0m\u001b[0mylabel\u001b[0m\u001b[0;34m(\u001b[0m\u001b[0;34m'micro f1'\u001b[0m\u001b[0;34m)\u001b[0m\u001b[0;34m\u001b[0m\u001b[0;34m\u001b[0m\u001b[0m\n",
            "\u001b[0;31mTypeError\u001b[0m: 'str' object is not callable"
          ]
        },
        {
          "output_type": "display_data",
          "data": {
            "image/png": "[encoded data removed]",
            "text/plain": [
              "<Figure size 432x288 with 1 Axes>"
            ]
          },
          "metadata": {
            "tags": [],
            "needs_background": "light"
          }
        }
      ]
    },
    {
      "cell_type": "code",
      "metadata": {
        "colab": {
          "base_uri": "https://localhost:8080/"
        },
        "id": "v_bSHsDmmC04",
        "outputId": "2847ff86-3936-4119-8bde-5ebcd9b59ce8"
      },
      "source": [
        "print(microf1.index(max(microf1)))\n",
        "print(macrof1.index(max(macrof1)))"
      ],
      "execution_count": null,
      "outputs": [
        {
          "output_type": "stream",
          "text": [
            "11\n",
            "11\n"
          ],
          "name": "stdout"
        }
      ]
    },
    {
      "cell_type": "code",
      "metadata": {
        "id": "DKZjwYCpltkd",
        "colab": {
          "base_uri": "https://localhost:8080/"
        },
        "outputId": "584594e3-8e43-4e8b-8858-6d31cce68f52"
      },
      "source": [
        "print(\n",
        "    \"Array shapes:\\n X_train = {}\\n y_train = {}\\n X_test = {}\\n y_test = {}\".format(\n",
        "        X_train.shape, y_train.shape, X_val.shape, y_val.shape\n",
        "    )\n",
        ")"
      ],
      "execution_count": null,
      "outputs": [
        {
          "output_type": "stream",
          "text": [
            "Array shapes:\n",
            " X_train = (2262, 200)\n",
            " y_train = (2262,)\n",
            " X_test = (9049, 200)\n",
            " y_test = (9049,)\n"
          ],
          "name": "stdout"
        }
      ]
    },
    {
      "cell_type": "code",
      "metadata": {
        "colab": {
          "base_uri": "https://localhost:8080/"
        },
        "id": "HjFGLXeSf8ug",
        "outputId": "053f1a50-c6c4-4a27-9d21-96a50f2cd5c2"
      },
      "source": [
        "print(len(node_ids))\n",
        "print(len(X))\n",
        "print(len(y))"
      ],
      "execution_count": null,
      "outputs": [
        {
          "output_type": "stream",
          "text": [
            "11311\n",
            "11311\n",
            "11311\n"
          ],
          "name": "stdout"
        }
      ]
    },
    {
      "cell_type": "code",
      "metadata": {
        "id": "NXuLYdV0lzas",
        "colab": {
          "base_uri": "https://localhost:8080/",
          "height": 412
        },
        "outputId": "a6b37086-b114-474d-cae1-27c28260c3b7"
      },
      "source": [
        "from sklearn.preprocessing import StandardScaler\n",
        "from sklearn.metrics import f1_score\n",
        "scaler=StandardScaler()\n",
        "microf1=[]\n",
        "macrof1=[]\n",
        "microf1b=[]\n",
        "macrof1b=[]\n",
        "\n",
        "for j in range(1):\n",
        "  # X will hold the 128-dimensional input features\n",
        "  #X = node_embeddingsa[j]\n",
        "  # y holds the corresponding target values\n",
        "  #y = np.array(data2[\"labels\"])\n",
        "  #for i in range(1,8):\n",
        "  #  X_train, X_val, y_train, y_val = train_test_split(X, y, train_size=i/10)\n",
        "  #  scaler.fit_transform(X_train)\n",
        "  #  scaler.fit_transform(X_val)\n",
        "  #  clf = LogisticRegressionCV(\n",
        "  #      Cs=20, cv=10,scoring=\"accuracy\", verbose=True, multi_class=\"multinomial\", max_iter=2000\n",
        "  #  )\n",
        "  #  clf.fit(X_train, y_train)\n",
        "\n",
        "  #  y_pred = clf.predict(X_val)\n",
        "\n",
        "\n",
        "    #print(accuracy_score(y_val, y_pred))\n",
        "    #print(\"F1 score (micro)\") \n",
        "    #print(f1_score(y_val,y_pred,average=\"micro\"))\n",
        "  #  microf1.append(f1_score(y_val,y_pred,average=\"micro\"))\n",
        "    #print(\"F1 score (macro)\")\n",
        "    #print(f1_score(y_val,y_pred,average=\"macro\"))\n",
        "  #  macrof1.append(f1_score(y_val,y_pred,average=\"macro\"))\n",
        "  X_train, X_val, y_train, y_val = train_test_split(X, y, train_size=2/10)\n",
        "  scaler.fit_transform(X_train)\n",
        "  scaler.fit_transform(X_val)\n",
        "  clf = LogisticRegressionCV(Cs=10, cv=5,scoring=\"accuracy\", verbose=True, multi_class=\"multinomial\", max_iter=7000)\n",
        "  clf.fit(X_train, y_train)\n",
        "\n",
        "  y_pred = clf.predict(X_val)\n",
        "\n",
        "  microf1b.append(f1_score(y_val,y_pred,average=\"micro\"))\n",
        "  macrof1b.append(f1_score(y_val,y_pred,average=\"macro\"))"
      ],
      "execution_count": null,
      "outputs": [
        {
          "output_type": "stream",
          "text": [
            "[Parallel(n_jobs=1)]: Using backend SequentialBackend with 1 concurrent workers.\n"
          ],
          "name": "stderr"
        },
        {
          "output_type": "error",
          "ename": "KeyboardInterrupt",
          "evalue": "ignored",
          "traceback": [
            "\u001b[0;31m---------------------------------------------------------------------------\u001b[0m",
            "\u001b[0;31mKeyboardInterrupt\u001b[0m                         Traceback (most recent call last)",
            "\u001b[0;32m<ipython-input-53-0efed8bcc9ba>\u001b[0m in \u001b[0;36m<module>\u001b[0;34m()\u001b[0m\n\u001b[1;32m     35\u001b[0m   \u001b[0mscaler\u001b[0m\u001b[0;34m.\u001b[0m\u001b[0mfit_transform\u001b[0m\u001b[0;34m(\u001b[0m\u001b[0mX_val\u001b[0m\u001b[0;34m)\u001b[0m\u001b[0;34m\u001b[0m\u001b[0;34m\u001b[0m\u001b[0m\n\u001b[1;32m     36\u001b[0m   \u001b[0mclf\u001b[0m \u001b[0;34m=\u001b[0m \u001b[0mLogisticRegressionCV\u001b[0m\u001b[0;34m(\u001b[0m\u001b[0mCs\u001b[0m\u001b[0;34m=\u001b[0m\u001b[0;36m10\u001b[0m\u001b[0;34m,\u001b[0m \u001b[0mcv\u001b[0m\u001b[0;34m=\u001b[0m\u001b[0;36m5\u001b[0m\u001b[0;34m,\u001b[0m\u001b[0mscoring\u001b[0m\u001b[0;34m=\u001b[0m\u001b[0;34m\"accuracy\"\u001b[0m\u001b[0;34m,\u001b[0m \u001b[0mverbose\u001b[0m\u001b[0;34m=\u001b[0m\u001b[0;32mTrue\u001b[0m\u001b[0;34m,\u001b[0m \u001b[0mmulti_class\u001b[0m\u001b[0;34m=\u001b[0m\u001b[0;34m\"multinomial\"\u001b[0m\u001b[0;34m,\u001b[0m \u001b[0mmax_iter\u001b[0m\u001b[0;34m=\u001b[0m\u001b[0;36m7000\u001b[0m\u001b[0;34m)\u001b[0m\u001b[0;34m\u001b[0m\u001b[0;34m\u001b[0m\u001b[0m\n\u001b[0;32m---> 37\u001b[0;31m   \u001b[0mclf\u001b[0m\u001b[0;34m.\u001b[0m\u001b[0mfit\u001b[0m\u001b[0;34m(\u001b[0m\u001b[0mX_train\u001b[0m\u001b[0;34m,\u001b[0m \u001b[0my_train\u001b[0m\u001b[0;34m)\u001b[0m\u001b[0;34m\u001b[0m\u001b[0;34m\u001b[0m\u001b[0m\n\u001b[0m\u001b[1;32m     38\u001b[0m \u001b[0;34m\u001b[0m\u001b[0m\n\u001b[1;32m     39\u001b[0m   \u001b[0my_pred\u001b[0m \u001b[0;34m=\u001b[0m \u001b[0mclf\u001b[0m\u001b[0;34m.\u001b[0m\u001b[0mpredict\u001b[0m\u001b[0;34m(\u001b[0m\u001b[0mX_val\u001b[0m\u001b[0;34m)\u001b[0m\u001b[0;34m\u001b[0m\u001b[0;34m\u001b[0m\u001b[0m\n",
            "\u001b[0;32m/usr/local/lib/python3.6/dist-packages/sklearn/linear_model/_logistic.py\u001b[0m in \u001b[0;36mfit\u001b[0;34m(self, X, y, sample_weight)\u001b[0m\n\u001b[1;32m   2083\u001b[0m                       \u001b[0ml1_ratio\u001b[0m\u001b[0;34m=\u001b[0m\u001b[0ml1_ratio\u001b[0m\u001b[0;34m\u001b[0m\u001b[0;34m\u001b[0m\u001b[0m\n\u001b[1;32m   2084\u001b[0m                       )\n\u001b[0;32m-> 2085\u001b[0;31m             \u001b[0;32mfor\u001b[0m \u001b[0mlabel\u001b[0m \u001b[0;32min\u001b[0m \u001b[0miter_encoded_labels\u001b[0m\u001b[0;34m\u001b[0m\u001b[0;34m\u001b[0m\u001b[0m\n\u001b[0m\u001b[1;32m   2086\u001b[0m             \u001b[0;32mfor\u001b[0m \u001b[0mtrain\u001b[0m\u001b[0;34m,\u001b[0m \u001b[0mtest\u001b[0m \u001b[0;32min\u001b[0m \u001b[0mfolds\u001b[0m\u001b[0;34m\u001b[0m\u001b[0;34m\u001b[0m\u001b[0m\n\u001b[1;32m   2087\u001b[0m             for l1_ratio in l1_ratios_)\n",
            "\u001b[0;32m/usr/local/lib/python3.6/dist-packages/joblib/parallel.py\u001b[0m in \u001b[0;36m__call__\u001b[0;34m(self, iterable)\u001b[0m\n\u001b[1;32m   1049\u001b[0m                 \u001b[0mself\u001b[0m\u001b[0;34m.\u001b[0m\u001b[0m_iterating\u001b[0m \u001b[0;34m=\u001b[0m \u001b[0mself\u001b[0m\u001b[0;34m.\u001b[0m\u001b[0m_original_iterator\u001b[0m \u001b[0;32mis\u001b[0m \u001b[0;32mnot\u001b[0m \u001b[0;32mNone\u001b[0m\u001b[0;34m\u001b[0m\u001b[0;34m\u001b[0m\u001b[0m\n\u001b[1;32m   1050\u001b[0m \u001b[0;34m\u001b[0m\u001b[0m\n\u001b[0;32m-> 1051\u001b[0;31m             \u001b[0;32mwhile\u001b[0m \u001b[0mself\u001b[0m\u001b[0;34m.\u001b[0m\u001b[0mdispatch_one_batch\u001b[0m\u001b[0;34m(\u001b[0m\u001b[0miterator\u001b[0m\u001b[0;34m)\u001b[0m\u001b[0;34m:\u001b[0m\u001b[0;34m\u001b[0m\u001b[0;34m\u001b[0m\u001b[0m\n\u001b[0m\u001b[1;32m   1052\u001b[0m                 \u001b[0;32mpass\u001b[0m\u001b[0;34m\u001b[0m\u001b[0;34m\u001b[0m\u001b[0m\n\u001b[1;32m   1053\u001b[0m \u001b[0;34m\u001b[0m\u001b[0m\n",
            "\u001b[0;32m/usr/local/lib/python3.6/dist-packages/joblib/parallel.py\u001b[0m in \u001b[0;36mdispatch_one_batch\u001b[0;34m(self, iterator)\u001b[0m\n\u001b[1;32m    864\u001b[0m                 \u001b[0;32mreturn\u001b[0m \u001b[0;32mFalse\u001b[0m\u001b[0;34m\u001b[0m\u001b[0;34m\u001b[0m\u001b[0m\n\u001b[1;32m    865\u001b[0m             \u001b[0;32melse\u001b[0m\u001b[0;34m:\u001b[0m\u001b[0;34m\u001b[0m\u001b[0;34m\u001b[0m\u001b[0m\n\u001b[0;32m--> 866\u001b[0;31m                 \u001b[0mself\u001b[0m\u001b[0;34m.\u001b[0m\u001b[0m_dispatch\u001b[0m\u001b[0;34m(\u001b[0m\u001b[0mtasks\u001b[0m\u001b[0;34m)\u001b[0m\u001b[0;34m\u001b[0m\u001b[0;34m\u001b[0m\u001b[0m\n\u001b[0m\u001b[1;32m    867\u001b[0m                 \u001b[0;32mreturn\u001b[0m \u001b[0;32mTrue\u001b[0m\u001b[0;34m\u001b[0m\u001b[0;34m\u001b[0m\u001b[0m\n\u001b[1;32m    868\u001b[0m \u001b[0;34m\u001b[0m\u001b[0m\n",
            "\u001b[0;32m/usr/local/lib/python3.6/dist-packages/joblib/parallel.py\u001b[0m in \u001b[0;36m_dispatch\u001b[0;34m(self, batch)\u001b[0m\n\u001b[1;32m    782\u001b[0m         \u001b[0;32mwith\u001b[0m \u001b[0mself\u001b[0m\u001b[0;34m.\u001b[0m\u001b[0m_lock\u001b[0m\u001b[0;34m:\u001b[0m\u001b[0;34m\u001b[0m\u001b[0;34m\u001b[0m\u001b[0m\n\u001b[1;32m    783\u001b[0m             \u001b[0mjob_idx\u001b[0m \u001b[0;34m=\u001b[0m \u001b[0mlen\u001b[0m\u001b[0;34m(\u001b[0m\u001b[0mself\u001b[0m\u001b[0;34m.\u001b[0m\u001b[0m_jobs\u001b[0m\u001b[0;34m)\u001b[0m\u001b[0;34m\u001b[0m\u001b[0;34m\u001b[0m\u001b[0m\n\u001b[0;32m--> 784\u001b[0;31m             \u001b[0mjob\u001b[0m \u001b[0;34m=\u001b[0m \u001b[0mself\u001b[0m\u001b[0;34m.\u001b[0m\u001b[0m_backend\u001b[0m\u001b[0;34m.\u001b[0m\u001b[0mapply_async\u001b[0m\u001b[0;34m(\u001b[0m\u001b[0mbatch\u001b[0m\u001b[0;34m,\u001b[0m \u001b[0mcallback\u001b[0m\u001b[0;34m=\u001b[0m\u001b[0mcb\u001b[0m\u001b[0;34m)\u001b[0m\u001b[0;34m\u001b[0m\u001b[0;34m\u001b[0m\u001b[0m\n\u001b[0m\u001b[1;32m    785\u001b[0m             \u001b[0;31m# A job can complete so quickly than its callback is\u001b[0m\u001b[0;34m\u001b[0m\u001b[0;34m\u001b[0m\u001b[0;34m\u001b[0m\u001b[0m\n\u001b[1;32m    786\u001b[0m             \u001b[0;31m# called before we get here, causing self._jobs to\u001b[0m\u001b[0;34m\u001b[0m\u001b[0;34m\u001b[0m\u001b[0;34m\u001b[0m\u001b[0m\n",
            "\u001b[0;32m/usr/local/lib/python3.6/dist-packages/joblib/_parallel_backends.py\u001b[0m in \u001b[0;36mapply_async\u001b[0;34m(self, func, callback)\u001b[0m\n\u001b[1;32m    206\u001b[0m     \u001b[0;32mdef\u001b[0m \u001b[0mapply_async\u001b[0m\u001b[0;34m(\u001b[0m\u001b[0mself\u001b[0m\u001b[0;34m,\u001b[0m \u001b[0mfunc\u001b[0m\u001b[0;34m,\u001b[0m \u001b[0mcallback\u001b[0m\u001b[0;34m=\u001b[0m\u001b[0;32mNone\u001b[0m\u001b[0;34m)\u001b[0m\u001b[0;34m:\u001b[0m\u001b[0;34m\u001b[0m\u001b[0;34m\u001b[0m\u001b[0m\n\u001b[1;32m    207\u001b[0m         \u001b[0;34m\"\"\"Schedule a func to be run\"\"\"\u001b[0m\u001b[0;34m\u001b[0m\u001b[0;34m\u001b[0m\u001b[0m\n\u001b[0;32m--> 208\u001b[0;31m         \u001b[0mresult\u001b[0m \u001b[0;34m=\u001b[0m \u001b[0mImmediateResult\u001b[0m\u001b[0;34m(\u001b[0m\u001b[0mfunc\u001b[0m\u001b[0;34m)\u001b[0m\u001b[0;34m\u001b[0m\u001b[0;34m\u001b[0m\u001b[0m\n\u001b[0m\u001b[1;32m    209\u001b[0m         \u001b[0;32mif\u001b[0m \u001b[0mcallback\u001b[0m\u001b[0;34m:\u001b[0m\u001b[0;34m\u001b[0m\u001b[0;34m\u001b[0m\u001b[0m\n\u001b[1;32m    210\u001b[0m             \u001b[0mcallback\u001b[0m\u001b[0;34m(\u001b[0m\u001b[0mresult\u001b[0m\u001b[0;34m)\u001b[0m\u001b[0;34m\u001b[0m\u001b[0;34m\u001b[0m\u001b[0m\n",
            "\u001b[0;32m/usr/local/lib/python3.6/dist-packages/joblib/_parallel_backends.py\u001b[0m in \u001b[0;36m__init__\u001b[0;34m(self, batch)\u001b[0m\n\u001b[1;32m    570\u001b[0m         \u001b[0;31m# Don't delay the application, to avoid keeping the input\u001b[0m\u001b[0;34m\u001b[0m\u001b[0;34m\u001b[0m\u001b[0;34m\u001b[0m\u001b[0m\n\u001b[1;32m    571\u001b[0m         \u001b[0;31m# arguments in memory\u001b[0m\u001b[0;34m\u001b[0m\u001b[0;34m\u001b[0m\u001b[0;34m\u001b[0m\u001b[0m\n\u001b[0;32m--> 572\u001b[0;31m         \u001b[0mself\u001b[0m\u001b[0;34m.\u001b[0m\u001b[0mresults\u001b[0m \u001b[0;34m=\u001b[0m \u001b[0mbatch\u001b[0m\u001b[0;34m(\u001b[0m\u001b[0;34m)\u001b[0m\u001b[0;34m\u001b[0m\u001b[0;34m\u001b[0m\u001b[0m\n\u001b[0m\u001b[1;32m    573\u001b[0m \u001b[0;34m\u001b[0m\u001b[0m\n\u001b[1;32m    574\u001b[0m     \u001b[0;32mdef\u001b[0m \u001b[0mget\u001b[0m\u001b[0;34m(\u001b[0m\u001b[0mself\u001b[0m\u001b[0;34m)\u001b[0m\u001b[0;34m:\u001b[0m\u001b[0;34m\u001b[0m\u001b[0;34m\u001b[0m\u001b[0m\n",
            "\u001b[0;32m/usr/local/lib/python3.6/dist-packages/joblib/parallel.py\u001b[0m in \u001b[0;36m__call__\u001b[0;34m(self)\u001b[0m\n\u001b[1;32m    261\u001b[0m         \u001b[0;32mwith\u001b[0m \u001b[0mparallel_backend\u001b[0m\u001b[0;34m(\u001b[0m\u001b[0mself\u001b[0m\u001b[0;34m.\u001b[0m\u001b[0m_backend\u001b[0m\u001b[0;34m,\u001b[0m \u001b[0mn_jobs\u001b[0m\u001b[0;34m=\u001b[0m\u001b[0mself\u001b[0m\u001b[0;34m.\u001b[0m\u001b[0m_n_jobs\u001b[0m\u001b[0;34m)\u001b[0m\u001b[0;34m:\u001b[0m\u001b[0;34m\u001b[0m\u001b[0;34m\u001b[0m\u001b[0m\n\u001b[1;32m    262\u001b[0m             return [func(*args, **kwargs)\n\u001b[0;32m--> 263\u001b[0;31m                     for func, args, kwargs in self.items]\n\u001b[0m\u001b[1;32m    264\u001b[0m \u001b[0;34m\u001b[0m\u001b[0m\n\u001b[1;32m    265\u001b[0m     \u001b[0;32mdef\u001b[0m \u001b[0m__reduce__\u001b[0m\u001b[0;34m(\u001b[0m\u001b[0mself\u001b[0m\u001b[0;34m)\u001b[0m\u001b[0;34m:\u001b[0m\u001b[0;34m\u001b[0m\u001b[0;34m\u001b[0m\u001b[0m\n",
            "\u001b[0;32m/usr/local/lib/python3.6/dist-packages/joblib/parallel.py\u001b[0m in \u001b[0;36m<listcomp>\u001b[0;34m(.0)\u001b[0m\n\u001b[1;32m    261\u001b[0m         \u001b[0;32mwith\u001b[0m \u001b[0mparallel_backend\u001b[0m\u001b[0;34m(\u001b[0m\u001b[0mself\u001b[0m\u001b[0;34m.\u001b[0m\u001b[0m_backend\u001b[0m\u001b[0;34m,\u001b[0m \u001b[0mn_jobs\u001b[0m\u001b[0;34m=\u001b[0m\u001b[0mself\u001b[0m\u001b[0;34m.\u001b[0m\u001b[0m_n_jobs\u001b[0m\u001b[0;34m)\u001b[0m\u001b[0;34m:\u001b[0m\u001b[0;34m\u001b[0m\u001b[0;34m\u001b[0m\u001b[0m\n\u001b[1;32m    262\u001b[0m             return [func(*args, **kwargs)\n\u001b[0;32m--> 263\u001b[0;31m                     for func, args, kwargs in self.items]\n\u001b[0m\u001b[1;32m    264\u001b[0m \u001b[0;34m\u001b[0m\u001b[0m\n\u001b[1;32m    265\u001b[0m     \u001b[0;32mdef\u001b[0m \u001b[0m__reduce__\u001b[0m\u001b[0;34m(\u001b[0m\u001b[0mself\u001b[0m\u001b[0;34m)\u001b[0m\u001b[0;34m:\u001b[0m\u001b[0;34m\u001b[0m\u001b[0;34m\u001b[0m\u001b[0m\n",
            "\u001b[0;32m/usr/local/lib/python3.6/dist-packages/sklearn/linear_model/_logistic.py\u001b[0m in \u001b[0;36m_log_reg_scoring_path\u001b[0;34m(X, y, train, test, pos_class, Cs, scoring, fit_intercept, max_iter, tol, class_weight, verbose, solver, penalty, dual, intercept_scaling, multi_class, random_state, max_squared_sum, sample_weight, l1_ratio)\u001b[0m\n\u001b[1;32m   1150\u001b[0m         \u001b[0mpenalty\u001b[0m\u001b[0;34m=\u001b[0m\u001b[0mpenalty\u001b[0m\u001b[0;34m,\u001b[0m \u001b[0mintercept_scaling\u001b[0m\u001b[0;34m=\u001b[0m\u001b[0mintercept_scaling\u001b[0m\u001b[0;34m,\u001b[0m\u001b[0;34m\u001b[0m\u001b[0;34m\u001b[0m\u001b[0m\n\u001b[1;32m   1151\u001b[0m         \u001b[0mrandom_state\u001b[0m\u001b[0;34m=\u001b[0m\u001b[0mrandom_state\u001b[0m\u001b[0;34m,\u001b[0m \u001b[0mcheck_input\u001b[0m\u001b[0;34m=\u001b[0m\u001b[0;32mFalse\u001b[0m\u001b[0;34m,\u001b[0m\u001b[0;34m\u001b[0m\u001b[0;34m\u001b[0m\u001b[0m\n\u001b[0;32m-> 1152\u001b[0;31m         max_squared_sum=max_squared_sum, sample_weight=sample_weight)\n\u001b[0m\u001b[1;32m   1153\u001b[0m \u001b[0;34m\u001b[0m\u001b[0m\n\u001b[1;32m   1154\u001b[0m     \u001b[0mlog_reg\u001b[0m \u001b[0;34m=\u001b[0m \u001b[0mLogisticRegression\u001b[0m\u001b[0;34m(\u001b[0m\u001b[0msolver\u001b[0m\u001b[0;34m=\u001b[0m\u001b[0msolver\u001b[0m\u001b[0;34m,\u001b[0m \u001b[0mmulti_class\u001b[0m\u001b[0;34m=\u001b[0m\u001b[0mmulti_class\u001b[0m\u001b[0;34m)\u001b[0m\u001b[0;34m\u001b[0m\u001b[0;34m\u001b[0m\u001b[0m\n",
            "\u001b[0;32m/usr/local/lib/python3.6/dist-packages/sklearn/linear_model/_logistic.py\u001b[0m in \u001b[0;36m_logistic_regression_path\u001b[0;34m(X, y, pos_class, Cs, fit_intercept, max_iter, tol, verbose, solver, coef, class_weight, dual, penalty, intercept_scaling, multi_class, random_state, check_input, max_squared_sum, sample_weight, l1_ratio)\u001b[0m\n\u001b[1;32m    934\u001b[0m                 \u001b[0mfunc\u001b[0m\u001b[0;34m,\u001b[0m \u001b[0mw0\u001b[0m\u001b[0;34m,\u001b[0m \u001b[0mmethod\u001b[0m\u001b[0;34m=\u001b[0m\u001b[0;34m\"L-BFGS-B\"\u001b[0m\u001b[0;34m,\u001b[0m \u001b[0mjac\u001b[0m\u001b[0;34m=\u001b[0m\u001b[0;32mTrue\u001b[0m\u001b[0;34m,\u001b[0m\u001b[0;34m\u001b[0m\u001b[0;34m\u001b[0m\u001b[0m\n\u001b[1;32m    935\u001b[0m                 \u001b[0margs\u001b[0m\u001b[0;34m=\u001b[0m\u001b[0;34m(\u001b[0m\u001b[0mX\u001b[0m\u001b[0;34m,\u001b[0m \u001b[0mtarget\u001b[0m\u001b[0;34m,\u001b[0m \u001b[0;36m1.\u001b[0m \u001b[0;34m/\u001b[0m \u001b[0mC\u001b[0m\u001b[0;34m,\u001b[0m \u001b[0msample_weight\u001b[0m\u001b[0;34m)\u001b[0m\u001b[0;34m,\u001b[0m\u001b[0;34m\u001b[0m\u001b[0;34m\u001b[0m\u001b[0m\n\u001b[0;32m--> 936\u001b[0;31m                 \u001b[0moptions\u001b[0m\u001b[0;34m=\u001b[0m\u001b[0;34m{\u001b[0m\u001b[0;34m\"iprint\"\u001b[0m\u001b[0;34m:\u001b[0m \u001b[0miprint\u001b[0m\u001b[0;34m,\u001b[0m \u001b[0;34m\"gtol\"\u001b[0m\u001b[0;34m:\u001b[0m \u001b[0mtol\u001b[0m\u001b[0;34m,\u001b[0m \u001b[0;34m\"maxiter\"\u001b[0m\u001b[0;34m:\u001b[0m \u001b[0mmax_iter\u001b[0m\u001b[0;34m}\u001b[0m\u001b[0;34m\u001b[0m\u001b[0;34m\u001b[0m\u001b[0m\n\u001b[0m\u001b[1;32m    937\u001b[0m             )\n\u001b[1;32m    938\u001b[0m             n_iter_i = _check_optimize_result(\n",
            "\u001b[0;32m/usr/local/lib/python3.6/dist-packages/scipy/optimize/_minimize.py\u001b[0m in \u001b[0;36mminimize\u001b[0;34m(fun, x0, args, method, jac, hess, hessp, bounds, constraints, tol, callback, options)\u001b[0m\n\u001b[1;32m    608\u001b[0m     \u001b[0;32melif\u001b[0m \u001b[0mmeth\u001b[0m \u001b[0;34m==\u001b[0m \u001b[0;34m'l-bfgs-b'\u001b[0m\u001b[0;34m:\u001b[0m\u001b[0;34m\u001b[0m\u001b[0;34m\u001b[0m\u001b[0m\n\u001b[1;32m    609\u001b[0m         return _minimize_lbfgsb(fun, x0, args, jac, bounds,\n\u001b[0;32m--> 610\u001b[0;31m                                 callback=callback, **options)\n\u001b[0m\u001b[1;32m    611\u001b[0m     \u001b[0;32melif\u001b[0m \u001b[0mmeth\u001b[0m \u001b[0;34m==\u001b[0m \u001b[0;34m'tnc'\u001b[0m\u001b[0;34m:\u001b[0m\u001b[0;34m\u001b[0m\u001b[0;34m\u001b[0m\u001b[0m\n\u001b[1;32m    612\u001b[0m         return _minimize_tnc(fun, x0, args, jac, bounds, callback=callback,\n",
            "\u001b[0;32m/usr/local/lib/python3.6/dist-packages/scipy/optimize/lbfgsb.py\u001b[0m in \u001b[0;36m_minimize_lbfgsb\u001b[0;34m(fun, x0, args, jac, bounds, disp, maxcor, ftol, gtol, eps, maxfun, maxiter, iprint, callback, maxls, **unknown_options)\u001b[0m\n\u001b[1;32m    343\u001b[0m             \u001b[0;31m# until the completion of the current minimization iteration.\u001b[0m\u001b[0;34m\u001b[0m\u001b[0;34m\u001b[0m\u001b[0;34m\u001b[0m\u001b[0m\n\u001b[1;32m    344\u001b[0m             \u001b[0;31m# Overwrite f and g:\u001b[0m\u001b[0;34m\u001b[0m\u001b[0;34m\u001b[0m\u001b[0;34m\u001b[0m\u001b[0m\n\u001b[0;32m--> 345\u001b[0;31m             \u001b[0mf\u001b[0m\u001b[0;34m,\u001b[0m \u001b[0mg\u001b[0m \u001b[0;34m=\u001b[0m \u001b[0mfunc_and_grad\u001b[0m\u001b[0;34m(\u001b[0m\u001b[0mx\u001b[0m\u001b[0;34m)\u001b[0m\u001b[0;34m\u001b[0m\u001b[0;34m\u001b[0m\u001b[0m\n\u001b[0m\u001b[1;32m    346\u001b[0m         \u001b[0;32melif\u001b[0m \u001b[0mtask_str\u001b[0m\u001b[0;34m.\u001b[0m\u001b[0mstartswith\u001b[0m\u001b[0;34m(\u001b[0m\u001b[0;34mb'NEW_X'\u001b[0m\u001b[0;34m)\u001b[0m\u001b[0;34m:\u001b[0m\u001b[0;34m\u001b[0m\u001b[0;34m\u001b[0m\u001b[0m\n\u001b[1;32m    347\u001b[0m             \u001b[0;31m# new iteration\u001b[0m\u001b[0;34m\u001b[0m\u001b[0;34m\u001b[0m\u001b[0;34m\u001b[0m\u001b[0m\n",
            "\u001b[0;32m/usr/local/lib/python3.6/dist-packages/scipy/optimize/lbfgsb.py\u001b[0m in \u001b[0;36mfunc_and_grad\u001b[0;34m(x)\u001b[0m\n\u001b[1;32m    293\u001b[0m     \u001b[0;32melse\u001b[0m\u001b[0;34m:\u001b[0m\u001b[0;34m\u001b[0m\u001b[0;34m\u001b[0m\u001b[0m\n\u001b[1;32m    294\u001b[0m         \u001b[0;32mdef\u001b[0m \u001b[0mfunc_and_grad\u001b[0m\u001b[0;34m(\u001b[0m\u001b[0mx\u001b[0m\u001b[0;34m)\u001b[0m\u001b[0;34m:\u001b[0m\u001b[0;34m\u001b[0m\u001b[0;34m\u001b[0m\u001b[0m\n\u001b[0;32m--> 295\u001b[0;31m             \u001b[0mf\u001b[0m \u001b[0;34m=\u001b[0m \u001b[0mfun\u001b[0m\u001b[0;34m(\u001b[0m\u001b[0mx\u001b[0m\u001b[0;34m,\u001b[0m \u001b[0;34m*\u001b[0m\u001b[0margs\u001b[0m\u001b[0;34m)\u001b[0m\u001b[0;34m\u001b[0m\u001b[0;34m\u001b[0m\u001b[0m\n\u001b[0m\u001b[1;32m    296\u001b[0m             \u001b[0mg\u001b[0m \u001b[0;34m=\u001b[0m \u001b[0mjac\u001b[0m\u001b[0;34m(\u001b[0m\u001b[0mx\u001b[0m\u001b[0;34m,\u001b[0m \u001b[0;34m*\u001b[0m\u001b[0margs\u001b[0m\u001b[0;34m)\u001b[0m\u001b[0;34m\u001b[0m\u001b[0;34m\u001b[0m\u001b[0m\n\u001b[1;32m    297\u001b[0m             \u001b[0;32mreturn\u001b[0m \u001b[0mf\u001b[0m\u001b[0;34m,\u001b[0m \u001b[0mg\u001b[0m\u001b[0;34m\u001b[0m\u001b[0;34m\u001b[0m\u001b[0m\n",
            "\u001b[0;32m/usr/local/lib/python3.6/dist-packages/scipy/optimize/optimize.py\u001b[0m in \u001b[0;36mfunction_wrapper\u001b[0;34m(*wrapper_args)\u001b[0m\n\u001b[1;32m    325\u001b[0m     \u001b[0;32mdef\u001b[0m \u001b[0mfunction_wrapper\u001b[0m\u001b[0;34m(\u001b[0m\u001b[0;34m*\u001b[0m\u001b[0mwrapper_args\u001b[0m\u001b[0;34m)\u001b[0m\u001b[0;34m:\u001b[0m\u001b[0;34m\u001b[0m\u001b[0;34m\u001b[0m\u001b[0m\n\u001b[1;32m    326\u001b[0m         \u001b[0mncalls\u001b[0m\u001b[0;34m[\u001b[0m\u001b[0;36m0\u001b[0m\u001b[0;34m]\u001b[0m \u001b[0;34m+=\u001b[0m \u001b[0;36m1\u001b[0m\u001b[0;34m\u001b[0m\u001b[0;34m\u001b[0m\u001b[0m\n\u001b[0;32m--> 327\u001b[0;31m         \u001b[0;32mreturn\u001b[0m \u001b[0mfunction\u001b[0m\u001b[0;34m(\u001b[0m\u001b[0;34m*\u001b[0m\u001b[0;34m(\u001b[0m\u001b[0mwrapper_args\u001b[0m \u001b[0;34m+\u001b[0m \u001b[0margs\u001b[0m\u001b[0;34m)\u001b[0m\u001b[0;34m)\u001b[0m\u001b[0;34m\u001b[0m\u001b[0;34m\u001b[0m\u001b[0m\n\u001b[0m\u001b[1;32m    328\u001b[0m \u001b[0;34m\u001b[0m\u001b[0m\n\u001b[1;32m    329\u001b[0m     \u001b[0;32mreturn\u001b[0m \u001b[0mncalls\u001b[0m\u001b[0;34m,\u001b[0m \u001b[0mfunction_wrapper\u001b[0m\u001b[0;34m\u001b[0m\u001b[0;34m\u001b[0m\u001b[0m\n",
            "\u001b[0;32m/usr/local/lib/python3.6/dist-packages/scipy/optimize/optimize.py\u001b[0m in \u001b[0;36m__call__\u001b[0;34m(self, x, *args)\u001b[0m\n\u001b[1;32m     63\u001b[0m     \u001b[0;32mdef\u001b[0m \u001b[0m__call__\u001b[0m\u001b[0;34m(\u001b[0m\u001b[0mself\u001b[0m\u001b[0;34m,\u001b[0m \u001b[0mx\u001b[0m\u001b[0;34m,\u001b[0m \u001b[0;34m*\u001b[0m\u001b[0margs\u001b[0m\u001b[0;34m)\u001b[0m\u001b[0;34m:\u001b[0m\u001b[0;34m\u001b[0m\u001b[0;34m\u001b[0m\u001b[0m\n\u001b[1;32m     64\u001b[0m         \u001b[0mself\u001b[0m\u001b[0;34m.\u001b[0m\u001b[0mx\u001b[0m \u001b[0;34m=\u001b[0m \u001b[0mnumpy\u001b[0m\u001b[0;34m.\u001b[0m\u001b[0masarray\u001b[0m\u001b[0;34m(\u001b[0m\u001b[0mx\u001b[0m\u001b[0;34m)\u001b[0m\u001b[0;34m.\u001b[0m\u001b[0mcopy\u001b[0m\u001b[0;34m(\u001b[0m\u001b[0;34m)\u001b[0m\u001b[0;34m\u001b[0m\u001b[0;34m\u001b[0m\u001b[0m\n\u001b[0;32m---> 65\u001b[0;31m         \u001b[0mfg\u001b[0m \u001b[0;34m=\u001b[0m \u001b[0mself\u001b[0m\u001b[0;34m.\u001b[0m\u001b[0mfun\u001b[0m\u001b[0;34m(\u001b[0m\u001b[0mx\u001b[0m\u001b[0;34m,\u001b[0m \u001b[0;34m*\u001b[0m\u001b[0margs\u001b[0m\u001b[0;34m)\u001b[0m\u001b[0;34m\u001b[0m\u001b[0;34m\u001b[0m\u001b[0m\n\u001b[0m\u001b[1;32m     66\u001b[0m         \u001b[0mself\u001b[0m\u001b[0;34m.\u001b[0m\u001b[0mjac\u001b[0m \u001b[0;34m=\u001b[0m \u001b[0mfg\u001b[0m\u001b[0;34m[\u001b[0m\u001b[0;36m1\u001b[0m\u001b[0;34m]\u001b[0m\u001b[0;34m\u001b[0m\u001b[0;34m\u001b[0m\u001b[0m\n\u001b[1;32m     67\u001b[0m         \u001b[0;32mreturn\u001b[0m \u001b[0mfg\u001b[0m\u001b[0;34m[\u001b[0m\u001b[0;36m0\u001b[0m\u001b[0;34m]\u001b[0m\u001b[0;34m\u001b[0m\u001b[0;34m\u001b[0m\u001b[0m\n",
            "\u001b[0;32m/usr/local/lib/python3.6/dist-packages/sklearn/linear_model/_logistic.py\u001b[0m in \u001b[0;36m<lambda>\u001b[0;34m(x, *args)\u001b[0m\n\u001b[1;32m    909\u001b[0m         \u001b[0mtarget\u001b[0m \u001b[0;34m=\u001b[0m \u001b[0mY_multi\u001b[0m\u001b[0;34m\u001b[0m\u001b[0;34m\u001b[0m\u001b[0m\n\u001b[1;32m    910\u001b[0m         \u001b[0;32mif\u001b[0m \u001b[0msolver\u001b[0m \u001b[0;34m==\u001b[0m \u001b[0;34m'lbfgs'\u001b[0m\u001b[0;34m:\u001b[0m\u001b[0;34m\u001b[0m\u001b[0;34m\u001b[0m\u001b[0m\n\u001b[0;32m--> 911\u001b[0;31m             \u001b[0mfunc\u001b[0m \u001b[0;34m=\u001b[0m \u001b[0;32mlambda\u001b[0m \u001b[0mx\u001b[0m\u001b[0;34m,\u001b[0m \u001b[0;34m*\u001b[0m\u001b[0margs\u001b[0m\u001b[0;34m:\u001b[0m \u001b[0m_multinomial_loss_grad\u001b[0m\u001b[0;34m(\u001b[0m\u001b[0mx\u001b[0m\u001b[0;34m,\u001b[0m \u001b[0;34m*\u001b[0m\u001b[0margs\u001b[0m\u001b[0;34m)\u001b[0m\u001b[0;34m[\u001b[0m\u001b[0;36m0\u001b[0m\u001b[0;34m:\u001b[0m\u001b[0;36m2\u001b[0m\u001b[0;34m]\u001b[0m\u001b[0;34m\u001b[0m\u001b[0;34m\u001b[0m\u001b[0m\n\u001b[0m\u001b[1;32m    912\u001b[0m         \u001b[0;32melif\u001b[0m \u001b[0msolver\u001b[0m \u001b[0;34m==\u001b[0m \u001b[0;34m'newton-cg'\u001b[0m\u001b[0;34m:\u001b[0m\u001b[0;34m\u001b[0m\u001b[0;34m\u001b[0m\u001b[0m\n\u001b[1;32m    913\u001b[0m             \u001b[0mfunc\u001b[0m \u001b[0;34m=\u001b[0m \u001b[0;32mlambda\u001b[0m \u001b[0mx\u001b[0m\u001b[0;34m,\u001b[0m \u001b[0;34m*\u001b[0m\u001b[0margs\u001b[0m\u001b[0;34m:\u001b[0m \u001b[0m_multinomial_loss\u001b[0m\u001b[0;34m(\u001b[0m\u001b[0mx\u001b[0m\u001b[0;34m,\u001b[0m \u001b[0;34m*\u001b[0m\u001b[0margs\u001b[0m\u001b[0;34m)\u001b[0m\u001b[0;34m[\u001b[0m\u001b[0;36m0\u001b[0m\u001b[0;34m]\u001b[0m\u001b[0;34m\u001b[0m\u001b[0;34m\u001b[0m\u001b[0m\n",
            "\u001b[0;32m/usr/local/lib/python3.6/dist-packages/sklearn/linear_model/_logistic.py\u001b[0m in \u001b[0;36m_multinomial_loss_grad\u001b[0;34m(w, X, Y, alpha, sample_weight)\u001b[0m\n\u001b[1;32m    347\u001b[0m     grad = np.zeros((n_classes, n_features + bool(fit_intercept)),\n\u001b[1;32m    348\u001b[0m                     dtype=X.dtype)\n\u001b[0;32m--> 349\u001b[0;31m     \u001b[0mloss\u001b[0m\u001b[0;34m,\u001b[0m \u001b[0mp\u001b[0m\u001b[0;34m,\u001b[0m \u001b[0mw\u001b[0m \u001b[0;34m=\u001b[0m \u001b[0m_multinomial_loss\u001b[0m\u001b[0;34m(\u001b[0m\u001b[0mw\u001b[0m\u001b[0;34m,\u001b[0m \u001b[0mX\u001b[0m\u001b[0;34m,\u001b[0m \u001b[0mY\u001b[0m\u001b[0;34m,\u001b[0m \u001b[0malpha\u001b[0m\u001b[0;34m,\u001b[0m \u001b[0msample_weight\u001b[0m\u001b[0;34m)\u001b[0m\u001b[0;34m\u001b[0m\u001b[0;34m\u001b[0m\u001b[0m\n\u001b[0m\u001b[1;32m    350\u001b[0m     \u001b[0msample_weight\u001b[0m \u001b[0;34m=\u001b[0m \u001b[0msample_weight\u001b[0m\u001b[0;34m[\u001b[0m\u001b[0;34m:\u001b[0m\u001b[0;34m,\u001b[0m \u001b[0mnp\u001b[0m\u001b[0;34m.\u001b[0m\u001b[0mnewaxis\u001b[0m\u001b[0;34m]\u001b[0m\u001b[0;34m\u001b[0m\u001b[0;34m\u001b[0m\u001b[0m\n\u001b[1;32m    351\u001b[0m     \u001b[0mdiff\u001b[0m \u001b[0;34m=\u001b[0m \u001b[0msample_weight\u001b[0m \u001b[0;34m*\u001b[0m \u001b[0;34m(\u001b[0m\u001b[0mp\u001b[0m \u001b[0;34m-\u001b[0m \u001b[0mY\u001b[0m\u001b[0;34m)\u001b[0m\u001b[0;34m\u001b[0m\u001b[0;34m\u001b[0m\u001b[0m\n",
            "\u001b[0;32m/usr/local/lib/python3.6/dist-packages/sklearn/linear_model/_logistic.py\u001b[0m in \u001b[0;36m_multinomial_loss\u001b[0;34m(w, X, Y, alpha, sample_weight)\u001b[0m\n\u001b[1;32m    300\u001b[0m     \u001b[0mloss\u001b[0m \u001b[0;34m=\u001b[0m \u001b[0;34m-\u001b[0m\u001b[0;34m(\u001b[0m\u001b[0msample_weight\u001b[0m \u001b[0;34m*\u001b[0m \u001b[0mY\u001b[0m \u001b[0;34m*\u001b[0m \u001b[0mp\u001b[0m\u001b[0;34m)\u001b[0m\u001b[0;34m.\u001b[0m\u001b[0msum\u001b[0m\u001b[0;34m(\u001b[0m\u001b[0;34m)\u001b[0m\u001b[0;34m\u001b[0m\u001b[0;34m\u001b[0m\u001b[0m\n\u001b[1;32m    301\u001b[0m     \u001b[0mloss\u001b[0m \u001b[0;34m+=\u001b[0m \u001b[0;36m0.5\u001b[0m \u001b[0;34m*\u001b[0m \u001b[0malpha\u001b[0m \u001b[0;34m*\u001b[0m \u001b[0msquared_norm\u001b[0m\u001b[0;34m(\u001b[0m\u001b[0mw\u001b[0m\u001b[0;34m)\u001b[0m\u001b[0;34m\u001b[0m\u001b[0;34m\u001b[0m\u001b[0m\n\u001b[0;32m--> 302\u001b[0;31m     \u001b[0mp\u001b[0m \u001b[0;34m=\u001b[0m \u001b[0mnp\u001b[0m\u001b[0;34m.\u001b[0m\u001b[0mexp\u001b[0m\u001b[0;34m(\u001b[0m\u001b[0mp\u001b[0m\u001b[0;34m,\u001b[0m \u001b[0mp\u001b[0m\u001b[0;34m)\u001b[0m\u001b[0;34m\u001b[0m\u001b[0;34m\u001b[0m\u001b[0m\n\u001b[0m\u001b[1;32m    303\u001b[0m     \u001b[0;32mreturn\u001b[0m \u001b[0mloss\u001b[0m\u001b[0;34m,\u001b[0m \u001b[0mp\u001b[0m\u001b[0;34m,\u001b[0m \u001b[0mw\u001b[0m\u001b[0;34m\u001b[0m\u001b[0;34m\u001b[0m\u001b[0m\n\u001b[1;32m    304\u001b[0m \u001b[0;34m\u001b[0m\u001b[0m\n",
            "\u001b[0;31mKeyboardInterrupt\u001b[0m: "
          ]
        }
      ]
    },
    {
      "cell_type": "code",
      "metadata": {
        "id": "AeuecrdSu-_H",
        "colab": {
          "base_uri": "https://localhost:8080/"
        },
        "outputId": "650e83a3-186c-49db-8f94-a104d7a22bc3"
      },
      "source": [
        "print(microf1b)"
      ],
      "execution_count": null,
      "outputs": [
        {
          "output_type": "stream",
          "text": [
            "[0.22828757611366307]\n"
          ],
          "name": "stdout"
        }
      ]
    },
    {
      "cell_type": "code",
      "metadata": {
        "id": "KamyWNOE2eHd",
        "colab": {
          "base_uri": "https://localhost:8080/",
          "height": 297
        },
        "outputId": "cde53fd5-40f6-4c23-c46d-c66e779be0d1"
      },
      "source": [
        "#plt.plot([0.1,0.2,0.3,0.4,0.5,0.6,0.7],microf1)\n",
        "plt.plot(range(1,11),microf1b)\n",
        "plt.ylabel(\"micro F1\")\n",
        "plt.xlabel(\"q\")"
      ],
      "execution_count": null,
      "outputs": [
        {
          "output_type": "execute_result",
          "data": {
            "text/plain": [
              "Text(0.5, 0, 'q')"
            ]
          },
          "metadata": {
            "tags": []
          },
          "execution_count": 28
        },
        {
          "output_type": "display_data",
          "data": {
            "image/png": "[encoded data removed]",
            "text/plain": [
              "<Figure size 432x288 with 1 Axes>"
            ]
          },
          "metadata": {
            "tags": [],
            "needs_background": "light"
          }
        }
      ]
    },
    {
      "cell_type": "code",
      "metadata": {
        "id": "zNQOLNzd4hZ8",
        "colab": {
          "base_uri": "https://localhost:8080/",
          "height": 297
        },
        "outputId": "a3a8d141-3304-4c0d-d9e2-1ff104483ce4"
      },
      "source": [
        "plt.plot(range(1,11),macrof1b)\n",
        "plt.ylabel(\"macro F1\")\n",
        "plt.xlabel(\"q\")"
      ],
      "execution_count": null,
      "outputs": [
        {
          "output_type": "execute_result",
          "data": {
            "text/plain": [
              "Text(0.5, 0, 'q')"
            ]
          },
          "metadata": {
            "tags": []
          },
          "execution_count": 32
        },
        {
          "output_type": "display_data",
          "data": {
            "image/png": "[encoded data removed]",
            "text/plain": [
              "<Figure size 432x288 with 1 Axes>"
            ]
          },
          "metadata": {
            "tags": [],
            "needs_background": "light"
          }
        }
      ]
    },
    {
      "cell_type": "code",
      "metadata": {
        "id": "Pp90oDeojz8X",
        "colab": {
          "base_uri": "https://localhost:8080/"
        },
        "outputId": "e4ea9dcd-99d3-41a5-82df-45aab93ea8ac"
      },
      "source": [
        "print(len(node_idsa[11]))\n",
        "print(len(node_embeddingsa[11]))"
      ],
      "execution_count": null,
      "outputs": [
        {
          "output_type": "stream",
          "text": [
            "11311\n",
            "11311\n"
          ],
          "name": "stdout"
        }
      ]
    },
    {
      "cell_type": "code",
      "metadata": {
        "id": "B05Wjpa4ctfm",
        "colab": {
          "base_uri": "https://localhost:8080/"
        },
        "outputId": "a15d8602-a442-4652-a9c8-04a05c27d9cb"
      },
      "source": [
        "from sklearn.preprocessing import OneHotEncoder\n",
        "from keras.utils.np_utils import to_categorical\n",
        "X=[]\n",
        "for i in node_idsa[11]:\n",
        "  X.append(data2[\"features\"][int(i)])\n",
        "X=np.array(X)\n",
        "#X=np.array(data2['features'])\n",
        "#y=np.array(data2['labels'])\n",
        "y=[]\n",
        "for i in node_idsa[11]:\n",
        "  y.append(data2[\"labels\"][int(i)])\n",
        "y=np.array(y)\n",
        "print(len(y))\n",
        "#print(len(X[data2['train_masks'][0]]))"
      ],
      "execution_count": null,
      "outputs": [
        {
          "output_type": "stream",
          "text": [
            "11311\n"
          ],
          "name": "stdout"
        }
      ]
    },
    {
      "cell_type": "code",
      "metadata": {
        "id": "96x5KHpmprlv"
      },
      "source": [
        "#print(data2['train_masks'][0])\n",
        "train_masks=[]\n",
        "val_masks=[]\n",
        "for i in node_idsa[11]:\n",
        "  train_masks.append(data2['train_masks'][0][int(i)])\n",
        "  val_masks.append(data2['val_masks'][0][int(i)])"
      ],
      "execution_count": null,
      "outputs": []
    },
    {
      "cell_type": "markdown",
      "metadata": {
        "id": "1JDUjZ3QdOJC"
      },
      "source": [
        "##NEURAL NET"
      ]
    },
    {
      "cell_type": "code",
      "metadata": {
        "id": "NPkcvwAddSS_",
        "colab": {
          "base_uri": "https://localhost:8080/"
        },
        "outputId": "f2621777-a284-4ee0-b8a1-66648306d841"
      },
      "source": [
        "#Dependencies\n",
        "import keras\n",
        "from keras.models import Sequential\n",
        "from keras.layers import Dense\n",
        "from keras.layers import Dropout\n",
        "# X_train=X[data2['train_masks'][0]]\n",
        "# y_train=to_categorical(y[data2['train_masks'][0]])\n",
        "# print(len(y_train))\n",
        "# X_test=X[data2['val_masks'][0]]\n",
        "# y_test=to_categorical(y[data2['val_masks'][0]])\n",
        "#X_train=X2[data2['train_masks'][0]]\n",
        "X_train=X[train_masks]\n",
        "#y_train=to_categorical(y[data2['train_masks'][0]])\n",
        "y_train=to_categorical(y[train_masks])\n",
        "#print(len(y_train))\n",
        "#X_test=X2[data2['val_masks'][0]]\n",
        "X_test=X[val_masks]\n",
        "#y_test=to_categorical(y[data2['val_masks'][0]])\n",
        "y_test=to_categorical(y[val_masks])\n",
        "# Neural network\n",
        "model = Sequential()\n",
        "model.add(Dense(35, input_dim=300, activation=\"relu\"))\n",
        "model.add(Dropout(0.35))\n",
        "model.add(Dense(10, activation=\"softmax\"))\n",
        "optimizer = keras.optimizers.Adam(learning_rate=0.003)\n",
        "model.compile(loss='categorical_crossentropy', optimizer=optimizer, metrics=['accuracy'])\n",
        "history = model.fit(X_train, y_train, epochs=40, batch_size=64,validation_data=(X_test,y_test))\n",
        "#model.add(Dense(4, activation=’softmax’))"
      ],
      "execution_count": null,
      "outputs": [
        {
          "output_type": "stream",
          "text": [
            "Epoch 1/40\n",
            "9/9 [==============================] - 0s 18ms/step - loss: 2.1900 - accuracy: 0.1693 - val_loss: 2.0963 - val_accuracy: 0.2259\n",
            "Epoch 2/40\n",
            "9/9 [==============================] - 0s 8ms/step - loss: 2.0981 - accuracy: 0.2139 - val_loss: 2.0824 - val_accuracy: 0.2212\n",
            "Epoch 3/40\n",
            "9/9 [==============================] - 0s 8ms/step - loss: 2.0569 - accuracy: 0.2424 - val_loss: 2.0852 - val_accuracy: 0.2341\n",
            "Epoch 4/40\n",
            "9/9 [==============================] - 0s 9ms/step - loss: 2.0416 - accuracy: 0.2513 - val_loss: 2.0911 - val_accuracy: 0.2294\n",
            "Epoch 5/40\n",
            "9/9 [==============================] - 0s 9ms/step - loss: 2.0160 - accuracy: 0.2549 - val_loss: 2.0931 - val_accuracy: 0.2218\n",
            "Epoch 6/40\n",
            "9/9 [==============================] - 0s 8ms/step - loss: 2.0129 - accuracy: 0.2763 - val_loss: 2.0909 - val_accuracy: 0.2341\n",
            "Epoch 7/40\n",
            "9/9 [==============================] - 0s 8ms/step - loss: 1.9891 - accuracy: 0.2923 - val_loss: 2.0906 - val_accuracy: 0.2422\n",
            "Epoch 8/40\n",
            "9/9 [==============================] - 0s 8ms/step - loss: 1.9808 - accuracy: 0.2941 - val_loss: 2.0985 - val_accuracy: 0.2259\n",
            "Epoch 9/40\n",
            "9/9 [==============================] - 0s 7ms/step - loss: 1.9489 - accuracy: 0.2977 - val_loss: 2.0993 - val_accuracy: 0.2276\n",
            "Epoch 10/40\n",
            "9/9 [==============================] - 0s 9ms/step - loss: 1.9387 - accuracy: 0.3012 - val_loss: 2.1067 - val_accuracy: 0.2153\n",
            "Epoch 11/40\n",
            "9/9 [==============================] - 0s 8ms/step - loss: 1.9157 - accuracy: 0.3351 - val_loss: 2.1034 - val_accuracy: 0.2317\n",
            "Epoch 12/40\n",
            "9/9 [==============================] - 0s 8ms/step - loss: 1.9099 - accuracy: 0.3280 - val_loss: 2.1043 - val_accuracy: 0.2288\n",
            "Epoch 13/40\n",
            "9/9 [==============================] - 0s 8ms/step - loss: 1.8697 - accuracy: 0.3636 - val_loss: 2.1185 - val_accuracy: 0.2194\n",
            "Epoch 14/40\n",
            "9/9 [==============================] - 0s 8ms/step - loss: 1.8698 - accuracy: 0.3440 - val_loss: 2.1193 - val_accuracy: 0.2276\n",
            "Epoch 15/40\n",
            "9/9 [==============================] - 0s 8ms/step - loss: 1.8549 - accuracy: 0.3619 - val_loss: 2.1226 - val_accuracy: 0.2212\n",
            "Epoch 16/40\n",
            "9/9 [==============================] - 0s 9ms/step - loss: 1.8333 - accuracy: 0.3440 - val_loss: 2.1344 - val_accuracy: 0.2101\n",
            "Epoch 17/40\n",
            "9/9 [==============================] - 0s 8ms/step - loss: 1.8061 - accuracy: 0.3512 - val_loss: 2.1391 - val_accuracy: 0.2259\n",
            "Epoch 18/40\n",
            "9/9 [==============================] - 0s 8ms/step - loss: 1.8129 - accuracy: 0.3458 - val_loss: 2.1407 - val_accuracy: 0.2218\n",
            "Epoch 19/40\n",
            "9/9 [==============================] - 0s 8ms/step - loss: 1.7783 - accuracy: 0.3939 - val_loss: 2.1404 - val_accuracy: 0.2194\n",
            "Epoch 20/40\n",
            "9/9 [==============================] - 0s 8ms/step - loss: 1.7888 - accuracy: 0.3672 - val_loss: 2.1436 - val_accuracy: 0.2188\n",
            "Epoch 21/40\n",
            "9/9 [==============================] - 0s 9ms/step - loss: 1.7426 - accuracy: 0.3957 - val_loss: 2.1500 - val_accuracy: 0.2177\n",
            "Epoch 22/40\n",
            "9/9 [==============================] - 0s 9ms/step - loss: 1.7498 - accuracy: 0.3725 - val_loss: 2.1639 - val_accuracy: 0.2083\n",
            "Epoch 23/40\n",
            "9/9 [==============================] - 0s 10ms/step - loss: 1.7211 - accuracy: 0.3868 - val_loss: 2.1676 - val_accuracy: 0.2212\n",
            "Epoch 24/40\n",
            "9/9 [==============================] - 0s 9ms/step - loss: 1.7269 - accuracy: 0.3832 - val_loss: 2.1771 - val_accuracy: 0.2165\n",
            "Epoch 25/40\n",
            "9/9 [==============================] - 0s 9ms/step - loss: 1.7065 - accuracy: 0.3939 - val_loss: 2.1726 - val_accuracy: 0.2177\n",
            "Epoch 26/40\n",
            "9/9 [==============================] - 0s 9ms/step - loss: 1.6674 - accuracy: 0.4153 - val_loss: 2.1871 - val_accuracy: 0.2095\n",
            "Epoch 27/40\n",
            "9/9 [==============================] - 0s 9ms/step - loss: 1.6688 - accuracy: 0.3993 - val_loss: 2.1990 - val_accuracy: 0.2030\n",
            "Epoch 28/40\n",
            "9/9 [==============================] - 0s 8ms/step - loss: 1.6465 - accuracy: 0.4100 - val_loss: 2.2015 - val_accuracy: 0.2106\n",
            "Epoch 29/40\n",
            "9/9 [==============================] - 0s 8ms/step - loss: 1.6589 - accuracy: 0.4207 - val_loss: 2.2075 - val_accuracy: 0.2036\n",
            "Epoch 30/40\n",
            "9/9 [==============================] - 0s 8ms/step - loss: 1.6325 - accuracy: 0.4082 - val_loss: 2.2139 - val_accuracy: 0.2089\n",
            "Epoch 31/40\n",
            "9/9 [==============================] - 0s 9ms/step - loss: 1.5921 - accuracy: 0.4474 - val_loss: 2.2155 - val_accuracy: 0.2153\n",
            "Epoch 32/40\n",
            "9/9 [==============================] - 0s 9ms/step - loss: 1.5698 - accuracy: 0.4403 - val_loss: 2.2255 - val_accuracy: 0.1949\n",
            "Epoch 33/40\n",
            "9/9 [==============================] - 0s 9ms/step - loss: 1.5617 - accuracy: 0.4599 - val_loss: 2.2369 - val_accuracy: 0.2042\n",
            "Epoch 34/40\n",
            "9/9 [==============================] - 0s 10ms/step - loss: 1.5403 - accuracy: 0.4474 - val_loss: 2.2479 - val_accuracy: 0.2007\n",
            "Epoch 35/40\n",
            "9/9 [==============================] - 0s 9ms/step - loss: 1.5108 - accuracy: 0.4706 - val_loss: 2.2539 - val_accuracy: 0.2042\n",
            "Epoch 36/40\n",
            "9/9 [==============================] - 0s 9ms/step - loss: 1.5056 - accuracy: 0.4795 - val_loss: 2.2603 - val_accuracy: 0.1978\n",
            "Epoch 37/40\n",
            "9/9 [==============================] - 0s 9ms/step - loss: 1.5198 - accuracy: 0.4813 - val_loss: 2.2615 - val_accuracy: 0.2025\n",
            "Epoch 38/40\n",
            "9/9 [==============================] - 0s 10ms/step - loss: 1.4967 - accuracy: 0.4866 - val_loss: 2.2737 - val_accuracy: 0.1989\n",
            "Epoch 39/40\n",
            "9/9 [==============================] - 0s 10ms/step - loss: 1.4534 - accuracy: 0.4920 - val_loss: 2.2854 - val_accuracy: 0.1954\n",
            "Epoch 40/40\n",
            "9/9 [==============================] - 0s 8ms/step - loss: 1.4512 - accuracy: 0.5009 - val_loss: 2.2924 - val_accuracy: 0.1984\n"
          ],
          "name": "stdout"
        }
      ]
    },
    {
      "cell_type": "code",
      "metadata": {
        "colab": {
          "base_uri": "https://localhost:8080/",
          "height": 301
        },
        "id": "frVCeAh6pOFy",
        "outputId": "8b5fa77b-8e2b-4834-8549-9e90e7764091"
      },
      "source": [
        "print(history.history.keys())\n",
        "plt.plot(history.history['loss'])\n",
        "plt.plot(history.history['val_loss'])"
      ],
      "execution_count": null,
      "outputs": [
        {
          "output_type": "stream",
          "text": [
            "dict_keys(['loss', 'accuracy', 'val_loss', 'val_accuracy'])\n"
          ],
          "name": "stdout"
        },
        {
          "output_type": "execute_result",
          "data": {
            "text/plain": [
              "[<matplotlib.lines.Line2D at 0x7f8b2d06a588>]"
            ]
          },
          "metadata": {
            "tags": []
          },
          "execution_count": 89
        },
        {
          "output_type": "display_data",
          "data": {
            "image/png": "[encoded data removed]",
            "text/plain": [
              "<Figure size 432x288 with 1 Axes>"
            ]
          },
          "metadata": {
            "tags": [],
            "needs_background": "light"
          }
        }
      ]
    },
    {
      "cell_type": "code",
      "metadata": {
        "id": "yF4sCkK2nBKb"
      },
      "source": [
        "y_pred = model.predict(X_test)\n",
        "#Converting predictions to label\n",
        "pred = list()\n",
        "for i in range(len(y_pred)):\n",
        "    pred.append(np.argmax(y_pred[i]))\n",
        "#Converting one hot encoded test label to label\n",
        "test = list()\n",
        "for i in range(len(y_test)):\n",
        "    test.append(np.argmax(y_test[i]))"
      ],
      "execution_count": null,
      "outputs": []
    },
    {
      "cell_type": "code",
      "metadata": {
        "id": "VE3xXgNsnC7t",
        "colab": {
          "base_uri": "https://localhost:8080/"
        },
        "outputId": "2c558aaf-b0d8-4973-d8af-664e635200c7"
      },
      "source": [
        "from sklearn.metrics import accuracy_score\n",
        "from sklearn.metrics import f1_score\n",
        "a = accuracy_score(pred,test)\n",
        "f1_score_macro = f1_score(test,pred,average='macro')\n",
        "f1_score_micro = f1_score(test,pred,average='micro')\n",
        "print('Accuracy is:', a*100)\n",
        "print('Macro F1 is:' ,f1_score_macro)\n",
        "print('Micro F1 is:',f1_score_micro)"
      ],
      "execution_count": null,
      "outputs": [
        {
          "output_type": "stream",
          "text": [
            "Accuracy is: 74.78057343475717\n",
            "Macro F1 is: 0.700123276117193\n",
            "Micro F1 is: 0.7478057343475717\n"
          ],
          "name": "stdout"
        }
      ]
    },
    {
      "cell_type": "code",
      "metadata": {
        "id": "Tbuxa2u6o0vh",
        "colab": {
          "base_uri": "https://localhost:8080/"
        },
        "outputId": "b9d4908d-64db-441a-abe4-d619488f9c8d"
      },
      "source": [
        "from sklearn.preprocessing import OneHotEncoder\n",
        "from keras.utils.np_utils import to_categorical\n",
        "X=[]\n",
        "for i in node_idsa[0]:\n",
        "  X.append(data2['features'][int(i)])\n",
        "X=np.array(X)\n",
        "X1=np.array(node_embeddingsa[0])\n",
        "X2=np.hstack((X,X1))\n",
        "print(len(X2[0]))\n",
        "#y=np.array(data2['labels'])\n",
        "print(len(y))\n",
        "#print(len(X2[data2['train_masks'][0]][0]))"
      ],
      "execution_count": null,
      "outputs": [
        {
          "output_type": "stream",
          "text": [
            "500\n",
            "11311\n"
          ],
          "name": "stdout"
        }
      ]
    },
    {
      "cell_type": "code",
      "metadata": {
        "id": "mB0OYVbXoyu7",
        "colab": {
          "base_uri": "https://localhost:8080/"
        },
        "outputId": "053bd98a-60a2-45c6-8302-61ae38cdc52f"
      },
      "source": [
        "#Dependencies\n",
        "import keras\n",
        "from keras.models import Sequential\n",
        "from keras.layers import Dense\n",
        "from keras.layers import Dropout\n",
        "#X_train=X2[data2['train_masks'][0]]\n",
        "X_train=X2[train_masks]\n",
        "#y_train=to_categorical(y[data2['train_masks'][0]])\n",
        "y_train=to_categorical(y[train_masks])\n",
        "#print(len(y_train))\n",
        "#X_test=X2[data2['val_masks'][0]]\n",
        "X_test=X2[val_masks]\n",
        "#y_test=to_categorical(y[data2['val_masks'][0]])\n",
        "y_test=to_categorical(y[val_masks])\n",
        "# Neural network\n",
        "model = Sequential()\n",
        "model.add(Dense(50, input_dim=500, activation=\"relu\"))\n",
        "model.add(Dropout(0.5))\n",
        "model.add(Dense(10, activation=\"softmax\"))\n",
        "optimizer = keras.optimizers.Adam(learning_rate=0.003)\n",
        "model.compile(loss='categorical_crossentropy', optimizer=optimizer, metrics=['accuracy'])\n",
        "history = model.fit(X_train, y_train, epochs=100, batch_size=64,validation_data=(X_test,y_test))\n",
        "#model.add(Dense(4, activation=’softmax’))"
      ],
      "execution_count": null,
      "outputs": [
        {
          "output_type": "stream",
          "text": [
            "Epoch 1/100\n",
            "9/9 [==============================] - 0s 18ms/step - loss: 2.2228 - accuracy: 0.1729 - val_loss: 2.0680 - val_accuracy: 0.2241\n",
            "Epoch 2/100\n",
            "9/9 [==============================] - 0s 9ms/step - loss: 2.1116 - accuracy: 0.2157 - val_loss: 2.0645 - val_accuracy: 0.2452\n",
            "Epoch 3/100\n",
            "9/9 [==============================] - 0s 9ms/step - loss: 2.0749 - accuracy: 0.2389 - val_loss: 2.0666 - val_accuracy: 0.2288\n",
            "Epoch 4/100\n",
            "9/9 [==============================] - 0s 9ms/step - loss: 2.0655 - accuracy: 0.2228 - val_loss: 2.0632 - val_accuracy: 0.2510\n",
            "Epoch 5/100\n",
            "9/9 [==============================] - 0s 9ms/step - loss: 2.0501 - accuracy: 0.2460 - val_loss: 2.0623 - val_accuracy: 0.2329\n",
            "Epoch 6/100\n",
            "9/9 [==============================] - 0s 9ms/step - loss: 2.0022 - accuracy: 0.2638 - val_loss: 2.0632 - val_accuracy: 0.2516\n",
            "Epoch 7/100\n",
            "9/9 [==============================] - 0s 9ms/step - loss: 2.0308 - accuracy: 0.2585 - val_loss: 2.0673 - val_accuracy: 0.2341\n",
            "Epoch 8/100\n",
            "9/9 [==============================] - 0s 9ms/step - loss: 1.9966 - accuracy: 0.2816 - val_loss: 2.0659 - val_accuracy: 0.2405\n",
            "Epoch 9/100\n",
            "9/9 [==============================] - 0s 8ms/step - loss: 1.9825 - accuracy: 0.2834 - val_loss: 2.0665 - val_accuracy: 0.2422\n",
            "Epoch 10/100\n",
            "9/9 [==============================] - 0s 8ms/step - loss: 1.9770 - accuracy: 0.3030 - val_loss: 2.0698 - val_accuracy: 0.2428\n",
            "Epoch 11/100\n",
            "9/9 [==============================] - 0s 9ms/step - loss: 1.9791 - accuracy: 0.2888 - val_loss: 2.0740 - val_accuracy: 0.2300\n",
            "Epoch 12/100\n",
            "9/9 [==============================] - 0s 8ms/step - loss: 1.9737 - accuracy: 0.2799 - val_loss: 2.0748 - val_accuracy: 0.2358\n",
            "Epoch 13/100\n",
            "9/9 [==============================] - 0s 8ms/step - loss: 1.9448 - accuracy: 0.2834 - val_loss: 2.0727 - val_accuracy: 0.2370\n",
            "Epoch 14/100\n",
            "9/9 [==============================] - 0s 8ms/step - loss: 1.9198 - accuracy: 0.3048 - val_loss: 2.0737 - val_accuracy: 0.2399\n",
            "Epoch 15/100\n",
            "9/9 [==============================] - 0s 7ms/step - loss: 1.9409 - accuracy: 0.3084 - val_loss: 2.0828 - val_accuracy: 0.2370\n",
            "Epoch 16/100\n",
            "9/9 [==============================] - 0s 8ms/step - loss: 1.9235 - accuracy: 0.3226 - val_loss: 2.0832 - val_accuracy: 0.2282\n",
            "Epoch 17/100\n",
            "9/9 [==============================] - 0s 8ms/step - loss: 1.8889 - accuracy: 0.3209 - val_loss: 2.0806 - val_accuracy: 0.2352\n",
            "Epoch 18/100\n",
            "9/9 [==============================] - 0s 9ms/step - loss: 1.9058 - accuracy: 0.3209 - val_loss: 2.0786 - val_accuracy: 0.2417\n",
            "Epoch 19/100\n",
            "9/9 [==============================] - 0s 8ms/step - loss: 1.8771 - accuracy: 0.3209 - val_loss: 2.0859 - val_accuracy: 0.2282\n",
            "Epoch 20/100\n",
            "9/9 [==============================] - 0s 8ms/step - loss: 1.8611 - accuracy: 0.3458 - val_loss: 2.0909 - val_accuracy: 0.2294\n",
            "Epoch 21/100\n",
            "9/9 [==============================] - 0s 8ms/step - loss: 1.8605 - accuracy: 0.3369 - val_loss: 2.0952 - val_accuracy: 0.2387\n",
            "Epoch 22/100\n",
            "9/9 [==============================] - 0s 8ms/step - loss: 1.8507 - accuracy: 0.3226 - val_loss: 2.0951 - val_accuracy: 0.2253\n",
            "Epoch 23/100\n",
            "9/9 [==============================] - 0s 8ms/step - loss: 1.8448 - accuracy: 0.3351 - val_loss: 2.1024 - val_accuracy: 0.2317\n",
            "Epoch 24/100\n",
            "9/9 [==============================] - 0s 9ms/step - loss: 1.8529 - accuracy: 0.3369 - val_loss: 2.1010 - val_accuracy: 0.2393\n",
            "Epoch 25/100\n",
            "9/9 [==============================] - 0s 8ms/step - loss: 1.8392 - accuracy: 0.3387 - val_loss: 2.1083 - val_accuracy: 0.2288\n",
            "Epoch 26/100\n",
            "9/9 [==============================] - 0s 8ms/step - loss: 1.8059 - accuracy: 0.3583 - val_loss: 2.1062 - val_accuracy: 0.2300\n",
            "Epoch 27/100\n",
            "9/9 [==============================] - 0s 8ms/step - loss: 1.8300 - accuracy: 0.3405 - val_loss: 2.1075 - val_accuracy: 0.2358\n",
            "Epoch 28/100\n",
            "9/9 [==============================] - 0s 8ms/step - loss: 1.7973 - accuracy: 0.3529 - val_loss: 2.1088 - val_accuracy: 0.2323\n",
            "Epoch 29/100\n",
            "9/9 [==============================] - 0s 8ms/step - loss: 1.7914 - accuracy: 0.3440 - val_loss: 2.1166 - val_accuracy: 0.2329\n",
            "Epoch 30/100\n",
            "9/9 [==============================] - 0s 8ms/step - loss: 1.7755 - accuracy: 0.3761 - val_loss: 2.1211 - val_accuracy: 0.2329\n",
            "Epoch 31/100\n",
            "9/9 [==============================] - 0s 8ms/step - loss: 1.7489 - accuracy: 0.3636 - val_loss: 2.1198 - val_accuracy: 0.2241\n",
            "Epoch 32/100\n",
            "9/9 [==============================] - 0s 8ms/step - loss: 1.7608 - accuracy: 0.3565 - val_loss: 2.1175 - val_accuracy: 0.2346\n",
            "Epoch 33/100\n",
            "9/9 [==============================] - 0s 8ms/step - loss: 1.7458 - accuracy: 0.3636 - val_loss: 2.1238 - val_accuracy: 0.2276\n",
            "Epoch 34/100\n",
            "9/9 [==============================] - 0s 8ms/step - loss: 1.7135 - accuracy: 0.3939 - val_loss: 2.1284 - val_accuracy: 0.2311\n",
            "Epoch 35/100\n",
            "9/9 [==============================] - 0s 8ms/step - loss: 1.7220 - accuracy: 0.3797 - val_loss: 2.1432 - val_accuracy: 0.2346\n",
            "Epoch 36/100\n",
            "9/9 [==============================] - 0s 8ms/step - loss: 1.6967 - accuracy: 0.4135 - val_loss: 2.1308 - val_accuracy: 0.2235\n",
            "Epoch 37/100\n",
            "9/9 [==============================] - 0s 9ms/step - loss: 1.7067 - accuracy: 0.3815 - val_loss: 2.1481 - val_accuracy: 0.2282\n",
            "Epoch 38/100\n",
            "9/9 [==============================] - 0s 8ms/step - loss: 1.7037 - accuracy: 0.3850 - val_loss: 2.1450 - val_accuracy: 0.2200\n",
            "Epoch 39/100\n",
            "9/9 [==============================] - 0s 8ms/step - loss: 1.6734 - accuracy: 0.4118 - val_loss: 2.1531 - val_accuracy: 0.2276\n",
            "Epoch 40/100\n",
            "9/9 [==============================] - 0s 7ms/step - loss: 1.6513 - accuracy: 0.4260 - val_loss: 2.1567 - val_accuracy: 0.2235\n",
            "Epoch 41/100\n",
            "9/9 [==============================] - 0s 8ms/step - loss: 1.6589 - accuracy: 0.4135 - val_loss: 2.1623 - val_accuracy: 0.2305\n",
            "Epoch 42/100\n",
            "9/9 [==============================] - 0s 8ms/step - loss: 1.6342 - accuracy: 0.3939 - val_loss: 2.1726 - val_accuracy: 0.2188\n",
            "Epoch 43/100\n",
            "9/9 [==============================] - 0s 8ms/step - loss: 1.6342 - accuracy: 0.4118 - val_loss: 2.1690 - val_accuracy: 0.2212\n",
            "Epoch 44/100\n",
            "9/9 [==============================] - 0s 9ms/step - loss: 1.5957 - accuracy: 0.4385 - val_loss: 2.1820 - val_accuracy: 0.2212\n",
            "Epoch 45/100\n",
            "9/9 [==============================] - 0s 8ms/step - loss: 1.6036 - accuracy: 0.3939 - val_loss: 2.1889 - val_accuracy: 0.2224\n",
            "Epoch 46/100\n",
            "9/9 [==============================] - 0s 8ms/step - loss: 1.6091 - accuracy: 0.4385 - val_loss: 2.1886 - val_accuracy: 0.2212\n",
            "Epoch 47/100\n",
            "9/9 [==============================] - 0s 9ms/step - loss: 1.5957 - accuracy: 0.4456 - val_loss: 2.2108 - val_accuracy: 0.2136\n",
            "Epoch 48/100\n",
            "9/9 [==============================] - 0s 8ms/step - loss: 1.5929 - accuracy: 0.4100 - val_loss: 2.1863 - val_accuracy: 0.2253\n",
            "Epoch 49/100\n",
            "9/9 [==============================] - 0s 10ms/step - loss: 1.5873 - accuracy: 0.4367 - val_loss: 2.1981 - val_accuracy: 0.2276\n",
            "Epoch 50/100\n",
            "9/9 [==============================] - 0s 10ms/step - loss: 1.5856 - accuracy: 0.4278 - val_loss: 2.2272 - val_accuracy: 0.2159\n",
            "Epoch 51/100\n",
            "9/9 [==============================] - 0s 9ms/step - loss: 1.5749 - accuracy: 0.4207 - val_loss: 2.1949 - val_accuracy: 0.2171\n",
            "Epoch 52/100\n",
            "9/9 [==============================] - 0s 9ms/step - loss: 1.5237 - accuracy: 0.4599 - val_loss: 2.2308 - val_accuracy: 0.2142\n",
            "Epoch 53/100\n",
            "9/9 [==============================] - 0s 9ms/step - loss: 1.5499 - accuracy: 0.4474 - val_loss: 2.2307 - val_accuracy: 0.2188\n",
            "Epoch 54/100\n",
            "9/9 [==============================] - 0s 9ms/step - loss: 1.5165 - accuracy: 0.4581 - val_loss: 2.2178 - val_accuracy: 0.2177\n",
            "Epoch 55/100\n",
            "9/9 [==============================] - 0s 9ms/step - loss: 1.5533 - accuracy: 0.4385 - val_loss: 2.2405 - val_accuracy: 0.2124\n",
            "Epoch 56/100\n",
            "9/9 [==============================] - 0s 10ms/step - loss: 1.5081 - accuracy: 0.4456 - val_loss: 2.2254 - val_accuracy: 0.2212\n",
            "Epoch 57/100\n",
            "9/9 [==============================] - 0s 9ms/step - loss: 1.4938 - accuracy: 0.4617 - val_loss: 2.2348 - val_accuracy: 0.2218\n",
            "Epoch 58/100\n",
            "9/9 [==============================] - 0s 8ms/step - loss: 1.4555 - accuracy: 0.5027 - val_loss: 2.2601 - val_accuracy: 0.2229\n",
            "Epoch 59/100\n",
            "9/9 [==============================] - 0s 8ms/step - loss: 1.4693 - accuracy: 0.4920 - val_loss: 2.2677 - val_accuracy: 0.2136\n",
            "Epoch 60/100\n",
            "9/9 [==============================] - 0s 8ms/step - loss: 1.5048 - accuracy: 0.4652 - val_loss: 2.2501 - val_accuracy: 0.2136\n",
            "Epoch 61/100\n",
            "9/9 [==============================] - 0s 9ms/step - loss: 1.4545 - accuracy: 0.4902 - val_loss: 2.2678 - val_accuracy: 0.2147\n",
            "Epoch 62/100\n",
            "9/9 [==============================] - 0s 8ms/step - loss: 1.4663 - accuracy: 0.4599 - val_loss: 2.2799 - val_accuracy: 0.2124\n",
            "Epoch 63/100\n",
            "9/9 [==============================] - 0s 8ms/step - loss: 1.4691 - accuracy: 0.4902 - val_loss: 2.2621 - val_accuracy: 0.2089\n",
            "Epoch 64/100\n",
            "9/9 [==============================] - 0s 8ms/step - loss: 1.4286 - accuracy: 0.4777 - val_loss: 2.2919 - val_accuracy: 0.2071\n",
            "Epoch 65/100\n",
            "9/9 [==============================] - 0s 8ms/step - loss: 1.4287 - accuracy: 0.4617 - val_loss: 2.2803 - val_accuracy: 0.2171\n",
            "Epoch 66/100\n",
            "9/9 [==============================] - 0s 8ms/step - loss: 1.4155 - accuracy: 0.4759 - val_loss: 2.2863 - val_accuracy: 0.2142\n",
            "Epoch 67/100\n",
            "9/9 [==============================] - 0s 8ms/step - loss: 1.4332 - accuracy: 0.5080 - val_loss: 2.2949 - val_accuracy: 0.2101\n",
            "Epoch 68/100\n",
            "9/9 [==============================] - 0s 8ms/step - loss: 1.3575 - accuracy: 0.5116 - val_loss: 2.3064 - val_accuracy: 0.2159\n",
            "Epoch 69/100\n",
            "9/9 [==============================] - 0s 8ms/step - loss: 1.4131 - accuracy: 0.5116 - val_loss: 2.3168 - val_accuracy: 0.2142\n",
            "Epoch 70/100\n",
            "9/9 [==============================] - 0s 8ms/step - loss: 1.3876 - accuracy: 0.4920 - val_loss: 2.3312 - val_accuracy: 0.2136\n",
            "Epoch 71/100\n",
            "9/9 [==============================] - 0s 8ms/step - loss: 1.3454 - accuracy: 0.5223 - val_loss: 2.3261 - val_accuracy: 0.2077\n",
            "Epoch 72/100\n",
            "9/9 [==============================] - 0s 8ms/step - loss: 1.3627 - accuracy: 0.5276 - val_loss: 2.3742 - val_accuracy: 0.2124\n",
            "Epoch 73/100\n",
            "9/9 [==============================] - 0s 8ms/step - loss: 1.3323 - accuracy: 0.5027 - val_loss: 2.3253 - val_accuracy: 0.2112\n",
            "Epoch 74/100\n",
            "9/9 [==============================] - 0s 10ms/step - loss: 1.3628 - accuracy: 0.5223 - val_loss: 2.3368 - val_accuracy: 0.2142\n",
            "Epoch 75/100\n",
            "9/9 [==============================] - 0s 9ms/step - loss: 1.3296 - accuracy: 0.5383 - val_loss: 2.3441 - val_accuracy: 0.2147\n",
            "Epoch 76/100\n",
            "9/9 [==============================] - 0s 9ms/step - loss: 1.3257 - accuracy: 0.5241 - val_loss: 2.3494 - val_accuracy: 0.2130\n",
            "Epoch 77/100\n",
            "9/9 [==============================] - 0s 9ms/step - loss: 1.2607 - accuracy: 0.5401 - val_loss: 2.3938 - val_accuracy: 0.2101\n",
            "Epoch 78/100\n",
            "9/9 [==============================] - 0s 9ms/step - loss: 1.3101 - accuracy: 0.5561 - val_loss: 2.3590 - val_accuracy: 0.1972\n",
            "Epoch 79/100\n",
            "9/9 [==============================] - 0s 10ms/step - loss: 1.2526 - accuracy: 0.5704 - val_loss: 2.4035 - val_accuracy: 0.2077\n",
            "Epoch 80/100\n",
            "9/9 [==============================] - 0s 9ms/step - loss: 1.3045 - accuracy: 0.5276 - val_loss: 2.3812 - val_accuracy: 0.2060\n",
            "Epoch 81/100\n",
            "9/9 [==============================] - 0s 9ms/step - loss: 1.3108 - accuracy: 0.5544 - val_loss: 2.3883 - val_accuracy: 0.2054\n",
            "Epoch 82/100\n",
            "9/9 [==============================] - 0s 10ms/step - loss: 1.2636 - accuracy: 0.5615 - val_loss: 2.4343 - val_accuracy: 0.2124\n",
            "Epoch 83/100\n",
            "9/9 [==============================] - 0s 9ms/step - loss: 1.2990 - accuracy: 0.5294 - val_loss: 2.3772 - val_accuracy: 0.2106\n",
            "Epoch 84/100\n",
            "9/9 [==============================] - 0s 8ms/step - loss: 1.3029 - accuracy: 0.5312 - val_loss: 2.4050 - val_accuracy: 0.2077\n",
            "Epoch 85/100\n",
            "9/9 [==============================] - 0s 9ms/step - loss: 1.2536 - accuracy: 0.5294 - val_loss: 2.4297 - val_accuracy: 0.2036\n",
            "Epoch 86/100\n",
            "9/9 [==============================] - 0s 8ms/step - loss: 1.2500 - accuracy: 0.5686 - val_loss: 2.4378 - val_accuracy: 0.2095\n",
            "Epoch 87/100\n",
            "9/9 [==============================] - 0s 9ms/step - loss: 1.2086 - accuracy: 0.5526 - val_loss: 2.4560 - val_accuracy: 0.2030\n",
            "Epoch 88/100\n",
            "9/9 [==============================] - 0s 8ms/step - loss: 1.2449 - accuracy: 0.5544 - val_loss: 2.4369 - val_accuracy: 0.2142\n",
            "Epoch 89/100\n",
            "9/9 [==============================] - 0s 8ms/step - loss: 1.2091 - accuracy: 0.5704 - val_loss: 2.4660 - val_accuracy: 0.2036\n",
            "Epoch 90/100\n",
            "9/9 [==============================] - 0s 8ms/step - loss: 1.2073 - accuracy: 0.5490 - val_loss: 2.4814 - val_accuracy: 0.2001\n",
            "Epoch 91/100\n",
            "9/9 [==============================] - 0s 9ms/step - loss: 1.2109 - accuracy: 0.5865 - val_loss: 2.4615 - val_accuracy: 0.2124\n",
            "Epoch 92/100\n",
            "9/9 [==============================] - 0s 9ms/step - loss: 1.1664 - accuracy: 0.5918 - val_loss: 2.5101 - val_accuracy: 0.2089\n",
            "Epoch 93/100\n",
            "9/9 [==============================] - 0s 9ms/step - loss: 1.2052 - accuracy: 0.5758 - val_loss: 2.4827 - val_accuracy: 0.2054\n",
            "Epoch 94/100\n",
            "9/9 [==============================] - 0s 8ms/step - loss: 1.1705 - accuracy: 0.5740 - val_loss: 2.4930 - val_accuracy: 0.2060\n",
            "Epoch 95/100\n",
            "9/9 [==============================] - 0s 8ms/step - loss: 1.1836 - accuracy: 0.5561 - val_loss: 2.5158 - val_accuracy: 0.2071\n",
            "Epoch 96/100\n",
            "9/9 [==============================] - 0s 9ms/step - loss: 1.1587 - accuracy: 0.5918 - val_loss: 2.5294 - val_accuracy: 0.2130\n",
            "Epoch 97/100\n",
            "9/9 [==============================] - 0s 9ms/step - loss: 1.2010 - accuracy: 0.5508 - val_loss: 2.4770 - val_accuracy: 0.2060\n",
            "Epoch 98/100\n",
            "9/9 [==============================] - 0s 10ms/step - loss: 1.1741 - accuracy: 0.5954 - val_loss: 2.5437 - val_accuracy: 0.2106\n",
            "Epoch 99/100\n",
            "9/9 [==============================] - 0s 9ms/step - loss: 1.2079 - accuracy: 0.5490 - val_loss: 2.5098 - val_accuracy: 0.2089\n",
            "Epoch 100/100\n",
            "9/9 [==============================] - 0s 9ms/step - loss: 1.1972 - accuracy: 0.5686 - val_loss: 2.5344 - val_accuracy: 0.2136\n"
          ],
          "name": "stdout"
        }
      ]
    },
    {
      "cell_type": "code",
      "metadata": {
        "colab": {
          "base_uri": "https://localhost:8080/",
          "height": 303
        },
        "id": "PEkLWD3SmeVZ",
        "outputId": "e6a5836d-a750-4ae3-b7e9-aec2a09596ed"
      },
      "source": [
        "print(history.history.keys())\n",
        "#plt.plot(history.history['accuracy'])\n",
        "plt.plot(history.history['loss'])\n",
        "plt.plot(history.history['val_loss'])"
      ],
      "execution_count": null,
      "outputs": [
        {
          "output_type": "stream",
          "text": [
            "dict_keys(['loss', 'accuracy', 'val_loss', 'val_accuracy'])\n"
          ],
          "name": "stdout"
        },
        {
          "output_type": "execute_result",
          "data": {
            "text/plain": [
              "[<matplotlib.lines.Line2D at 0x7f8ab771f6d8>]"
            ]
          },
          "metadata": {
            "tags": []
          },
          "execution_count": 141
        },
        {
          "output_type": "display_data",
          "data": {
            "image/png": "[encoded data removed]",
            "text/plain": [
              "<Figure size 432x288 with 1 Axes>"
            ]
          },
          "metadata": {
            "tags": [],
            "needs_background": "light"
          }
        }
      ]
    },
    {
      "cell_type": "code",
      "metadata": {
        "id": "TbzojDiyqBpZ"
      },
      "source": [
        "y_pred = model.predict(X_test)\n",
        "#Converting predictions to label\n",
        "pred = list()\n",
        "for i in range(len(y_pred)):\n",
        "    pred.append(np.argmax(y_pred[i]))\n",
        "#Converting one hot encoded test label to label\n",
        "test = list()\n",
        "for i in range(len(y_test)):\n",
        "    test.append(np.argmax(y_test[i]))"
      ],
      "execution_count": null,
      "outputs": []
    },
    {
      "cell_type": "code",
      "metadata": {
        "id": "B9OOni34qJnt",
        "colab": {
          "base_uri": "https://localhost:8080/"
        },
        "outputId": "60b33227-4f19-4a6e-abca-7ddb9fabb425"
      },
      "source": [
        "from sklearn.metrics import accuracy_score\n",
        "from sklearn.metrics import f1_score\n",
        "a = accuracy_score(pred,test)\n",
        "f1_score_macro = f1_score(test,pred,average='macro')\n",
        "f1_score_micro = f1_score(test,pred,average='micro')\n",
        "print('Accuracy is:', a*100)\n",
        "print('Macro F1 is:' ,f1_score_macro)\n",
        "print('Micro F1 is:',f1_score_micro)"
      ],
      "execution_count": null,
      "outputs": [
        {
          "output_type": "stream",
          "text": [
            "Accuracy is: 79.4031597425395\n",
            "Macro F1 is: 0.738463466793167\n",
            "Micro F1 is: 0.794031597425395\n"
          ],
          "name": "stdout"
        }
      ]
    },
    {
      "cell_type": "code",
      "metadata": {
        "id": "DsvwsLAm3jd4",
        "colab": {
          "base_uri": "https://localhost:8080/",
          "height": 394
        },
        "outputId": "9b445690-c058-437e-ff1c-322a4d375694"
      },
      "source": [
        "scaler.fit_transform(X_train)\n",
        "scaler.fit_transform(X_val)\n",
        "clf = LogisticRegressionCV(\n",
        "      Cs=20, cv=10,scoring=\"accuracy\", verbose=True, multi_class=\"multinomial\", max_iter=3000\n",
        "  )\n",
        "clf.fit(X_train, y_train)\n",
        "\n",
        "y_pred = clf.predict(X_val)\n",
        "\n",
        "\n",
        "print(accuracy_score(y_val, y_pred))\n",
        "print(\"F1 score (micro)\") \n",
        "  #print(f1_score(y_val,y_pred,average=\"micro\"))\n",
        "#  microf1.append(f1_score(y_val,y_pred,average=\"micro\"))\n",
        "print(\"F1 score (macro)\")\n",
        "print(f1_score(y_val,y_pred,average=\"macro\"))\n",
        "#  macrof1.append(f1_score(y_val,y_pred,average=\"macro\"))"
      ],
      "execution_count": null,
      "outputs": [
        {
          "output_type": "error",
          "ename": "ValueError",
          "evalue": "ignored",
          "traceback": [
            "\u001b[0;31m---------------------------------------------------------------------------\u001b[0m",
            "\u001b[0;31mValueError\u001b[0m                                Traceback (most recent call last)",
            "\u001b[0;32m<ipython-input-82-2df14322f653>\u001b[0m in \u001b[0;36m<module>\u001b[0;34m()\u001b[0m\n\u001b[1;32m      4\u001b[0m       \u001b[0mCs\u001b[0m\u001b[0;34m=\u001b[0m\u001b[0;36m20\u001b[0m\u001b[0;34m,\u001b[0m \u001b[0mcv\u001b[0m\u001b[0;34m=\u001b[0m\u001b[0;36m10\u001b[0m\u001b[0;34m,\u001b[0m\u001b[0mscoring\u001b[0m\u001b[0;34m=\u001b[0m\u001b[0;34m\"accuracy\"\u001b[0m\u001b[0;34m,\u001b[0m \u001b[0mverbose\u001b[0m\u001b[0;34m=\u001b[0m\u001b[0;32mTrue\u001b[0m\u001b[0;34m,\u001b[0m \u001b[0mmulti_class\u001b[0m\u001b[0;34m=\u001b[0m\u001b[0;34m\"multinomial\"\u001b[0m\u001b[0;34m,\u001b[0m \u001b[0mmax_iter\u001b[0m\u001b[0;34m=\u001b[0m\u001b[0;36m3000\u001b[0m\u001b[0;34m\u001b[0m\u001b[0;34m\u001b[0m\u001b[0m\n\u001b[1;32m      5\u001b[0m   )\n\u001b[0;32m----> 6\u001b[0;31m \u001b[0mclf\u001b[0m\u001b[0;34m.\u001b[0m\u001b[0mfit\u001b[0m\u001b[0;34m(\u001b[0m\u001b[0mX_train\u001b[0m\u001b[0;34m,\u001b[0m \u001b[0my_train\u001b[0m\u001b[0;34m)\u001b[0m\u001b[0;34m\u001b[0m\u001b[0;34m\u001b[0m\u001b[0m\n\u001b[0m\u001b[1;32m      7\u001b[0m \u001b[0;34m\u001b[0m\u001b[0m\n\u001b[1;32m      8\u001b[0m \u001b[0my_pred\u001b[0m \u001b[0;34m=\u001b[0m \u001b[0mclf\u001b[0m\u001b[0;34m.\u001b[0m\u001b[0mpredict\u001b[0m\u001b[0;34m(\u001b[0m\u001b[0mX_val\u001b[0m\u001b[0;34m)\u001b[0m\u001b[0;34m\u001b[0m\u001b[0;34m\u001b[0m\u001b[0m\n",
            "\u001b[0;32m/usr/local/lib/python3.6/dist-packages/sklearn/linear_model/_logistic.py\u001b[0m in \u001b[0;36mfit\u001b[0;34m(self, X, y, sample_weight)\u001b[0m\n\u001b[1;32m   2002\u001b[0m         X, y = check_X_y(X, y, accept_sparse='csr', dtype=np.float64,\n\u001b[1;32m   2003\u001b[0m                          \u001b[0morder\u001b[0m\u001b[0;34m=\u001b[0m\u001b[0;34m\"C\"\u001b[0m\u001b[0;34m,\u001b[0m\u001b[0;34m\u001b[0m\u001b[0;34m\u001b[0m\u001b[0m\n\u001b[0;32m-> 2004\u001b[0;31m                          accept_large_sparse=solver != 'liblinear')\n\u001b[0m\u001b[1;32m   2005\u001b[0m         \u001b[0mcheck_classification_targets\u001b[0m\u001b[0;34m(\u001b[0m\u001b[0my\u001b[0m\u001b[0;34m)\u001b[0m\u001b[0;34m\u001b[0m\u001b[0;34m\u001b[0m\u001b[0m\n\u001b[1;32m   2006\u001b[0m \u001b[0;34m\u001b[0m\u001b[0m\n",
            "\u001b[0;32m/usr/local/lib/python3.6/dist-packages/sklearn/utils/validation.py\u001b[0m in \u001b[0;36mcheck_X_y\u001b[0;34m(X, y, accept_sparse, accept_large_sparse, dtype, order, copy, force_all_finite, ensure_2d, allow_nd, multi_output, ensure_min_samples, ensure_min_features, y_numeric, warn_on_dtype, estimator)\u001b[0m\n\u001b[1;32m    758\u001b[0m                         dtype=None)\n\u001b[1;32m    759\u001b[0m     \u001b[0;32melse\u001b[0m\u001b[0;34m:\u001b[0m\u001b[0;34m\u001b[0m\u001b[0;34m\u001b[0m\u001b[0m\n\u001b[0;32m--> 760\u001b[0;31m         \u001b[0my\u001b[0m \u001b[0;34m=\u001b[0m \u001b[0mcolumn_or_1d\u001b[0m\u001b[0;34m(\u001b[0m\u001b[0my\u001b[0m\u001b[0;34m,\u001b[0m \u001b[0mwarn\u001b[0m\u001b[0;34m=\u001b[0m\u001b[0;32mTrue\u001b[0m\u001b[0;34m)\u001b[0m\u001b[0;34m\u001b[0m\u001b[0;34m\u001b[0m\u001b[0m\n\u001b[0m\u001b[1;32m    761\u001b[0m         \u001b[0m_assert_all_finite\u001b[0m\u001b[0;34m(\u001b[0m\u001b[0my\u001b[0m\u001b[0;34m)\u001b[0m\u001b[0;34m\u001b[0m\u001b[0;34m\u001b[0m\u001b[0m\n\u001b[1;32m    762\u001b[0m     \u001b[0;32mif\u001b[0m \u001b[0my_numeric\u001b[0m \u001b[0;32mand\u001b[0m \u001b[0my\u001b[0m\u001b[0;34m.\u001b[0m\u001b[0mdtype\u001b[0m\u001b[0;34m.\u001b[0m\u001b[0mkind\u001b[0m \u001b[0;34m==\u001b[0m \u001b[0;34m'O'\u001b[0m\u001b[0;34m:\u001b[0m\u001b[0;34m\u001b[0m\u001b[0;34m\u001b[0m\u001b[0m\n",
            "\u001b[0;32m/usr/local/lib/python3.6/dist-packages/sklearn/utils/validation.py\u001b[0m in \u001b[0;36mcolumn_or_1d\u001b[0;34m(y, warn)\u001b[0m\n\u001b[1;32m    795\u001b[0m         \u001b[0;32mreturn\u001b[0m \u001b[0mnp\u001b[0m\u001b[0;34m.\u001b[0m\u001b[0mravel\u001b[0m\u001b[0;34m(\u001b[0m\u001b[0my\u001b[0m\u001b[0;34m)\u001b[0m\u001b[0;34m\u001b[0m\u001b[0;34m\u001b[0m\u001b[0m\n\u001b[1;32m    796\u001b[0m \u001b[0;34m\u001b[0m\u001b[0m\n\u001b[0;32m--> 797\u001b[0;31m     \u001b[0;32mraise\u001b[0m \u001b[0mValueError\u001b[0m\u001b[0;34m(\u001b[0m\u001b[0;34m\"bad input shape {0}\"\u001b[0m\u001b[0;34m.\u001b[0m\u001b[0mformat\u001b[0m\u001b[0;34m(\u001b[0m\u001b[0mshape\u001b[0m\u001b[0;34m)\u001b[0m\u001b[0;34m)\u001b[0m\u001b[0;34m\u001b[0m\u001b[0;34m\u001b[0m\u001b[0m\n\u001b[0m\u001b[1;32m    798\u001b[0m \u001b[0;34m\u001b[0m\u001b[0m\n\u001b[1;32m    799\u001b[0m \u001b[0;34m\u001b[0m\u001b[0m\n",
            "\u001b[0;31mValueError\u001b[0m: bad input shape (580, 10)"
          ]
        }
      ]
    },
    {
      "cell_type": "code",
      "metadata": {
        "id": "pkFcTALvmBte",
        "colab": {
          "base_uri": "https://localhost:8080/",
          "height": 35
        },
        "outputId": "f59e63ca-6fe1-4083-9a4b-de380b266ace"
      },
      "source": [
        "y_pred = clf.predict(X_val)\n",
        "print(len(X_train))"
      ],
      "execution_count": null,
      "outputs": [
        {
          "output_type": "stream",
          "text": [
            "8190\n"
          ],
          "name": "stdout"
        }
      ]
    },
    {
      "cell_type": "code",
      "metadata": {
        "id": "kf4O0TAYmJo9",
        "colab": {
          "base_uri": "https://localhost:8080/",
          "height": 107
        },
        "outputId": "a7b26bc0-5d9d-4d69-93b5-a72a0480e310"
      },
      "source": [
        "from sklearn.metrics import f1_score\n",
        "print(accuracy_score(y_val, y_pred))\n",
        "print(\"F1 score (micro)\") \n",
        "print(f1_score(y_val,y_pred,average=\"micro\"))\n",
        "print(\"F1 score (macro)\")\n",
        "print(f1_score(y_val,y_pred,average=\"macro\"))"
      ],
      "execution_count": null,
      "outputs": [
        {
          "output_type": "stream",
          "text": [
            "0.20859242509892595\n",
            "F1 score (micro)\n",
            "0.20859242509892595\n",
            "F1 score (macro)\n",
            "0.06110406487688528\n"
          ],
          "name": "stdout"
        }
      ]
    },
    {
      "cell_type": "code",
      "metadata": {
        "id": "o8L50bJMmMhE",
        "colab": {
          "base_uri": "https://localhost:8080/",
          "height": 1000
        },
        "outputId": "3924c7b1-8bb0-4a59-d80f-1172c22ce3ee"
      },
      "source": [
        "from keras import models\n",
        "from keras import layers\n",
        "from keras.utils.np_utils import to_categorical\n",
        "from keras.optimizers import SGD\n",
        "\n",
        "Y_train = to_categorical(y_train)\n",
        "Y_test  = to_categorical(y_val)\n",
        "\n",
        "model = models.Sequential()\n",
        "model.add(layers.Dense(64, activation='relu', input_shape = (100,)))\n",
        "model.add(layers.Dense(10, activation='softmax'))\n",
        "sgd = SGD(lr=0.1)\n",
        "model.compile(optimizer=sgd,\n",
        "             loss='categorical_crossentropy',\n",
        "             metrics=['accuracy'])\n",
        "history = model.fit(X_train,\n",
        "                   Y_train,\n",
        "                   epochs=500,verbose=1)"
      ],
      "execution_count": null,
      "outputs": [
        {
          "output_type": "stream",
          "text": [
            "Epoch 1/500\n",
            "19/19 [==============================] - 0s 2ms/step - loss: 2.2388 - accuracy: 0.2224\n",
            "Epoch 2/500\n",
            "19/19 [==============================] - 0s 2ms/step - loss: 2.1500 - accuracy: 0.2293\n",
            "Epoch 3/500\n",
            "19/19 [==============================] - 0s 2ms/step - loss: 2.1138 - accuracy: 0.2293\n",
            "Epoch 4/500\n",
            "19/19 [==============================] - 0s 2ms/step - loss: 2.0994 - accuracy: 0.2293\n",
            "Epoch 5/500\n",
            "19/19 [==============================] - 0s 2ms/step - loss: 2.0936 - accuracy: 0.2293\n",
            "Epoch 6/500\n",
            "19/19 [==============================] - 0s 2ms/step - loss: 2.0905 - accuracy: 0.2293\n",
            "Epoch 7/500\n",
            "19/19 [==============================] - 0s 2ms/step - loss: 2.0884 - accuracy: 0.2293\n",
            "Epoch 8/500\n",
            "19/19 [==============================] - 0s 2ms/step - loss: 2.0877 - accuracy: 0.2224\n",
            "Epoch 9/500\n",
            "19/19 [==============================] - 0s 2ms/step - loss: 2.0868 - accuracy: 0.2293\n",
            "Epoch 10/500\n",
            "19/19 [==============================] - 0s 2ms/step - loss: 2.0849 - accuracy: 0.2293\n",
            "Epoch 11/500\n",
            "19/19 [==============================] - 0s 2ms/step - loss: 2.0841 - accuracy: 0.2293\n",
            "Epoch 12/500\n",
            "19/19 [==============================] - 0s 2ms/step - loss: 2.0847 - accuracy: 0.2345\n",
            "Epoch 13/500\n",
            "19/19 [==============================] - 0s 2ms/step - loss: 2.0848 - accuracy: 0.2138\n",
            "Epoch 14/500\n",
            "19/19 [==============================] - 0s 2ms/step - loss: 2.0836 - accuracy: 0.2293\n",
            "Epoch 15/500\n",
            "19/19 [==============================] - 0s 2ms/step - loss: 2.0835 - accuracy: 0.2293\n",
            "Epoch 16/500\n",
            "19/19 [==============================] - 0s 2ms/step - loss: 2.0824 - accuracy: 0.2310\n",
            "Epoch 17/500\n",
            "19/19 [==============================] - 0s 2ms/step - loss: 2.0821 - accuracy: 0.2293\n",
            "Epoch 18/500\n",
            "19/19 [==============================] - 0s 2ms/step - loss: 2.0813 - accuracy: 0.2293\n",
            "Epoch 19/500\n",
            "19/19 [==============================] - 0s 2ms/step - loss: 2.0813 - accuracy: 0.2293\n",
            "Epoch 20/500\n",
            "19/19 [==============================] - 0s 2ms/step - loss: 2.0821 - accuracy: 0.2293\n",
            "Epoch 21/500\n",
            "19/19 [==============================] - 0s 2ms/step - loss: 2.0806 - accuracy: 0.2293\n",
            "Epoch 22/500\n",
            "19/19 [==============================] - 0s 2ms/step - loss: 2.0800 - accuracy: 0.2293\n",
            "Epoch 23/500\n",
            "19/19 [==============================] - 0s 2ms/step - loss: 2.0810 - accuracy: 0.2293\n",
            "Epoch 24/500\n",
            "19/19 [==============================] - 0s 2ms/step - loss: 2.0820 - accuracy: 0.2293\n",
            "Epoch 25/500\n",
            "19/19 [==============================] - 0s 2ms/step - loss: 2.0797 - accuracy: 0.2293\n",
            "Epoch 26/500\n",
            "19/19 [==============================] - 0s 2ms/step - loss: 2.0801 - accuracy: 0.2293\n",
            "Epoch 27/500\n",
            "19/19 [==============================] - 0s 2ms/step - loss: 2.0795 - accuracy: 0.2293\n",
            "Epoch 28/500\n",
            "19/19 [==============================] - 0s 2ms/step - loss: 2.0802 - accuracy: 0.2293\n",
            "Epoch 29/500\n",
            "19/19 [==============================] - 0s 2ms/step - loss: 2.0777 - accuracy: 0.2293\n",
            "Epoch 30/500\n",
            "19/19 [==============================] - 0s 2ms/step - loss: 2.0791 - accuracy: 0.2207\n",
            "Epoch 31/500\n",
            "19/19 [==============================] - 0s 2ms/step - loss: 2.0781 - accuracy: 0.2293\n",
            "Epoch 32/500\n",
            "19/19 [==============================] - 0s 2ms/step - loss: 2.0777 - accuracy: 0.2293\n",
            "Epoch 33/500\n",
            "19/19 [==============================] - 0s 2ms/step - loss: 2.0776 - accuracy: 0.2293\n",
            "Epoch 34/500\n",
            "19/19 [==============================] - 0s 2ms/step - loss: 2.0786 - accuracy: 0.2293\n",
            "Epoch 35/500\n",
            "19/19 [==============================] - 0s 2ms/step - loss: 2.0768 - accuracy: 0.2293\n",
            "Epoch 36/500\n",
            "19/19 [==============================] - 0s 2ms/step - loss: 2.0774 - accuracy: 0.2293\n",
            "Epoch 37/500\n",
            "19/19 [==============================] - 0s 2ms/step - loss: 2.0766 - accuracy: 0.2293\n",
            "Epoch 38/500\n",
            "19/19 [==============================] - 0s 2ms/step - loss: 2.0769 - accuracy: 0.2293\n",
            "Epoch 39/500\n",
            "19/19 [==============================] - 0s 2ms/step - loss: 2.0754 - accuracy: 0.2293\n",
            "Epoch 40/500\n",
            "19/19 [==============================] - 0s 2ms/step - loss: 2.0758 - accuracy: 0.2293\n",
            "Epoch 41/500\n",
            "19/19 [==============================] - 0s 2ms/step - loss: 2.0762 - accuracy: 0.2293\n",
            "Epoch 42/500\n",
            "19/19 [==============================] - 0s 2ms/step - loss: 2.0761 - accuracy: 0.2293\n",
            "Epoch 43/500\n",
            "19/19 [==============================] - 0s 2ms/step - loss: 2.0752 - accuracy: 0.2293\n",
            "Epoch 44/500\n",
            "19/19 [==============================] - 0s 2ms/step - loss: 2.0755 - accuracy: 0.2293\n",
            "Epoch 45/500\n",
            "19/19 [==============================] - 0s 2ms/step - loss: 2.0755 - accuracy: 0.2293\n",
            "Epoch 46/500\n",
            "19/19 [==============================] - 0s 2ms/step - loss: 2.0760 - accuracy: 0.2276\n",
            "Epoch 47/500\n",
            "19/19 [==============================] - 0s 2ms/step - loss: 2.0750 - accuracy: 0.2345\n",
            "Epoch 48/500\n",
            "19/19 [==============================] - 0s 2ms/step - loss: 2.0755 - accuracy: 0.2310\n",
            "Epoch 49/500\n",
            "19/19 [==============================] - 0s 2ms/step - loss: 2.0756 - accuracy: 0.2293\n",
            "Epoch 50/500\n",
            "19/19 [==============================] - 0s 2ms/step - loss: 2.0749 - accuracy: 0.2345\n",
            "Epoch 51/500\n",
            "19/19 [==============================] - 0s 2ms/step - loss: 2.0754 - accuracy: 0.2259\n",
            "Epoch 52/500\n",
            "19/19 [==============================] - 0s 2ms/step - loss: 2.0747 - accuracy: 0.2293\n",
            "Epoch 53/500\n",
            "19/19 [==============================] - 0s 2ms/step - loss: 2.0743 - accuracy: 0.2310\n",
            "Epoch 54/500\n",
            "19/19 [==============================] - 0s 2ms/step - loss: 2.0745 - accuracy: 0.2293\n",
            "Epoch 55/500\n",
            "19/19 [==============================] - 0s 2ms/step - loss: 2.0741 - accuracy: 0.2293\n",
            "Epoch 56/500\n",
            "19/19 [==============================] - 0s 2ms/step - loss: 2.0740 - accuracy: 0.2293\n",
            "Epoch 57/500\n",
            "19/19 [==============================] - 0s 2ms/step - loss: 2.0735 - accuracy: 0.2293\n",
            "Epoch 58/500\n",
            "19/19 [==============================] - 0s 2ms/step - loss: 2.0730 - accuracy: 0.2241\n",
            "Epoch 59/500\n",
            "19/19 [==============================] - 0s 2ms/step - loss: 2.0718 - accuracy: 0.2259\n",
            "Epoch 60/500\n",
            "19/19 [==============================] - 0s 2ms/step - loss: 2.0759 - accuracy: 0.2293\n",
            "Epoch 61/500\n",
            "19/19 [==============================] - 0s 2ms/step - loss: 2.0735 - accuracy: 0.2293\n",
            "Epoch 62/500\n",
            "19/19 [==============================] - 0s 2ms/step - loss: 2.0717 - accuracy: 0.2293\n",
            "Epoch 63/500\n",
            "19/19 [==============================] - 0s 2ms/step - loss: 2.0737 - accuracy: 0.2293\n",
            "Epoch 64/500\n",
            "19/19 [==============================] - 0s 2ms/step - loss: 2.0714 - accuracy: 0.2293\n",
            "Epoch 65/500\n",
            "19/19 [==============================] - 0s 2ms/step - loss: 2.0730 - accuracy: 0.2293\n",
            "Epoch 66/500\n",
            "19/19 [==============================] - 0s 2ms/step - loss: 2.0718 - accuracy: 0.2293\n",
            "Epoch 67/500\n",
            "19/19 [==============================] - 0s 2ms/step - loss: 2.0722 - accuracy: 0.2276\n",
            "Epoch 68/500\n",
            "19/19 [==============================] - 0s 2ms/step - loss: 2.0715 - accuracy: 0.2293\n",
            "Epoch 69/500\n",
            "19/19 [==============================] - 0s 2ms/step - loss: 2.0716 - accuracy: 0.2293\n",
            "Epoch 70/500\n",
            "19/19 [==============================] - 0s 2ms/step - loss: 2.0720 - accuracy: 0.2293\n",
            "Epoch 71/500\n",
            "19/19 [==============================] - 0s 2ms/step - loss: 2.0710 - accuracy: 0.2293\n",
            "Epoch 72/500\n",
            "19/19 [==============================] - 0s 2ms/step - loss: 2.0718 - accuracy: 0.2224\n",
            "Epoch 73/500\n",
            "19/19 [==============================] - 0s 2ms/step - loss: 2.0716 - accuracy: 0.2276\n",
            "Epoch 74/500\n",
            "19/19 [==============================] - 0s 2ms/step - loss: 2.0713 - accuracy: 0.2379\n",
            "Epoch 75/500\n",
            "19/19 [==============================] - 0s 2ms/step - loss: 2.0705 - accuracy: 0.2293\n",
            "Epoch 76/500\n",
            "19/19 [==============================] - 0s 2ms/step - loss: 2.0705 - accuracy: 0.2293\n",
            "Epoch 77/500\n",
            "19/19 [==============================] - 0s 2ms/step - loss: 2.0698 - accuracy: 0.2293\n",
            "Epoch 78/500\n",
            "19/19 [==============================] - 0s 2ms/step - loss: 2.0708 - accuracy: 0.2293\n",
            "Epoch 79/500\n",
            "19/19 [==============================] - 0s 2ms/step - loss: 2.0707 - accuracy: 0.2293\n",
            "Epoch 80/500\n",
            "19/19 [==============================] - 0s 2ms/step - loss: 2.0710 - accuracy: 0.2293\n",
            "Epoch 81/500\n",
            "19/19 [==============================] - 0s 2ms/step - loss: 2.0703 - accuracy: 0.2293\n",
            "Epoch 82/500\n",
            "19/19 [==============================] - 0s 2ms/step - loss: 2.0698 - accuracy: 0.2414\n",
            "Epoch 83/500\n",
            "19/19 [==============================] - 0s 2ms/step - loss: 2.0701 - accuracy: 0.2328\n",
            "Epoch 84/500\n",
            "19/19 [==============================] - 0s 2ms/step - loss: 2.0701 - accuracy: 0.2293\n",
            "Epoch 85/500\n",
            "19/19 [==============================] - 0s 2ms/step - loss: 2.0693 - accuracy: 0.2397\n",
            "Epoch 86/500\n",
            "19/19 [==============================] - 0s 2ms/step - loss: 2.0691 - accuracy: 0.2414\n",
            "Epoch 87/500\n",
            "19/19 [==============================] - 0s 2ms/step - loss: 2.0697 - accuracy: 0.2328\n",
            "Epoch 88/500\n",
            "19/19 [==============================] - 0s 2ms/step - loss: 2.0689 - accuracy: 0.2293\n",
            "Epoch 89/500\n",
            "19/19 [==============================] - 0s 2ms/step - loss: 2.0685 - accuracy: 0.2276\n",
            "Epoch 90/500\n",
            "19/19 [==============================] - 0s 2ms/step - loss: 2.0688 - accuracy: 0.2328\n",
            "Epoch 91/500\n",
            "19/19 [==============================] - 0s 2ms/step - loss: 2.0684 - accuracy: 0.2310\n",
            "Epoch 92/500\n",
            "19/19 [==============================] - 0s 2ms/step - loss: 2.0687 - accuracy: 0.2345\n",
            "Epoch 93/500\n",
            "19/19 [==============================] - 0s 2ms/step - loss: 2.0679 - accuracy: 0.2293\n",
            "Epoch 94/500\n",
            "19/19 [==============================] - 0s 2ms/step - loss: 2.0687 - accuracy: 0.2293\n",
            "Epoch 95/500\n",
            "19/19 [==============================] - 0s 2ms/step - loss: 2.0672 - accuracy: 0.2397\n",
            "Epoch 96/500\n",
            "19/19 [==============================] - 0s 2ms/step - loss: 2.0680 - accuracy: 0.2328\n",
            "Epoch 97/500\n",
            "19/19 [==============================] - 0s 2ms/step - loss: 2.0680 - accuracy: 0.2500\n",
            "Epoch 98/500\n",
            "19/19 [==============================] - 0s 2ms/step - loss: 2.0682 - accuracy: 0.2293\n",
            "Epoch 99/500\n",
            "19/19 [==============================] - 0s 2ms/step - loss: 2.0682 - accuracy: 0.2293\n",
            "Epoch 100/500\n",
            "19/19 [==============================] - 0s 2ms/step - loss: 2.0682 - accuracy: 0.2293\n",
            "Epoch 101/500\n",
            "19/19 [==============================] - 0s 2ms/step - loss: 2.0670 - accuracy: 0.2310\n",
            "Epoch 102/500\n",
            "19/19 [==============================] - 0s 2ms/step - loss: 2.0666 - accuracy: 0.2310\n",
            "Epoch 103/500\n",
            "19/19 [==============================] - 0s 2ms/step - loss: 2.0665 - accuracy: 0.2414\n",
            "Epoch 104/500\n",
            "19/19 [==============================] - 0s 2ms/step - loss: 2.0670 - accuracy: 0.2397\n",
            "Epoch 105/500\n",
            "19/19 [==============================] - 0s 2ms/step - loss: 2.0661 - accuracy: 0.2293\n",
            "Epoch 106/500\n",
            "19/19 [==============================] - 0s 2ms/step - loss: 2.0671 - accuracy: 0.2500\n",
            "Epoch 107/500\n",
            "19/19 [==============================] - 0s 2ms/step - loss: 2.0670 - accuracy: 0.2397\n",
            "Epoch 108/500\n",
            "19/19 [==============================] - 0s 2ms/step - loss: 2.0670 - accuracy: 0.2534\n",
            "Epoch 109/500\n",
            "19/19 [==============================] - 0s 2ms/step - loss: 2.0665 - accuracy: 0.2328\n",
            "Epoch 110/500\n",
            "19/19 [==============================] - 0s 2ms/step - loss: 2.0669 - accuracy: 0.2259\n",
            "Epoch 111/500\n",
            "19/19 [==============================] - 0s 2ms/step - loss: 2.0651 - accuracy: 0.2241\n",
            "Epoch 112/500\n",
            "19/19 [==============================] - 0s 2ms/step - loss: 2.0664 - accuracy: 0.2448\n",
            "Epoch 113/500\n",
            "19/19 [==============================] - 0s 2ms/step - loss: 2.0655 - accuracy: 0.2293\n",
            "Epoch 114/500\n",
            "19/19 [==============================] - 0s 2ms/step - loss: 2.0653 - accuracy: 0.2293\n",
            "Epoch 115/500\n",
            "19/19 [==============================] - 0s 2ms/step - loss: 2.0651 - accuracy: 0.2310\n",
            "Epoch 116/500\n",
            "19/19 [==============================] - 0s 2ms/step - loss: 2.0659 - accuracy: 0.2293\n",
            "Epoch 117/500\n",
            "19/19 [==============================] - 0s 2ms/step - loss: 2.0661 - accuracy: 0.2362\n",
            "Epoch 118/500\n",
            "19/19 [==============================] - 0s 2ms/step - loss: 2.0655 - accuracy: 0.2293\n",
            "Epoch 119/500\n",
            "19/19 [==============================] - 0s 2ms/step - loss: 2.0643 - accuracy: 0.2414\n",
            "Epoch 120/500\n",
            "19/19 [==============================] - 0s 2ms/step - loss: 2.0644 - accuracy: 0.2310\n",
            "Epoch 121/500\n",
            "19/19 [==============================] - 0s 2ms/step - loss: 2.0657 - accuracy: 0.2431\n",
            "Epoch 122/500\n",
            "19/19 [==============================] - 0s 2ms/step - loss: 2.0650 - accuracy: 0.2466\n",
            "Epoch 123/500\n",
            "19/19 [==============================] - 0s 2ms/step - loss: 2.0655 - accuracy: 0.2362\n",
            "Epoch 124/500\n",
            "19/19 [==============================] - 0s 2ms/step - loss: 2.0649 - accuracy: 0.2379\n",
            "Epoch 125/500\n",
            "19/19 [==============================] - 0s 2ms/step - loss: 2.0635 - accuracy: 0.2397\n",
            "Epoch 126/500\n",
            "19/19 [==============================] - 0s 2ms/step - loss: 2.0635 - accuracy: 0.2362\n",
            "Epoch 127/500\n",
            "19/19 [==============================] - 0s 2ms/step - loss: 2.0640 - accuracy: 0.2397\n",
            "Epoch 128/500\n",
            "19/19 [==============================] - 0s 3ms/step - loss: 2.0639 - accuracy: 0.2379\n",
            "Epoch 129/500\n",
            "19/19 [==============================] - 0s 2ms/step - loss: 2.0635 - accuracy: 0.2310\n",
            "Epoch 130/500\n",
            "19/19 [==============================] - 0s 2ms/step - loss: 2.0632 - accuracy: 0.2466\n",
            "Epoch 131/500\n",
            "19/19 [==============================] - 0s 2ms/step - loss: 2.0641 - accuracy: 0.2414\n",
            "Epoch 132/500\n",
            "19/19 [==============================] - 0s 2ms/step - loss: 2.0632 - accuracy: 0.2259\n",
            "Epoch 133/500\n",
            "19/19 [==============================] - 0s 2ms/step - loss: 2.0624 - accuracy: 0.2414\n",
            "Epoch 134/500\n",
            "19/19 [==============================] - 0s 2ms/step - loss: 2.0637 - accuracy: 0.2310\n",
            "Epoch 135/500\n",
            "19/19 [==============================] - 0s 2ms/step - loss: 2.0636 - accuracy: 0.2362\n",
            "Epoch 136/500\n",
            "19/19 [==============================] - 0s 2ms/step - loss: 2.0630 - accuracy: 0.2517\n",
            "Epoch 137/500\n",
            "19/19 [==============================] - 0s 2ms/step - loss: 2.0624 - accuracy: 0.2414\n",
            "Epoch 138/500\n",
            "19/19 [==============================] - 0s 2ms/step - loss: 2.0624 - accuracy: 0.2310\n",
            "Epoch 139/500\n",
            "19/19 [==============================] - 0s 2ms/step - loss: 2.0629 - accuracy: 0.2448\n",
            "Epoch 140/500\n",
            "19/19 [==============================] - 0s 2ms/step - loss: 2.0629 - accuracy: 0.2397\n",
            "Epoch 141/500\n",
            "19/19 [==============================] - 0s 2ms/step - loss: 2.0624 - accuracy: 0.2448\n",
            "Epoch 142/500\n",
            "19/19 [==============================] - 0s 2ms/step - loss: 2.0618 - accuracy: 0.2414\n",
            "Epoch 143/500\n",
            "19/19 [==============================] - 0s 2ms/step - loss: 2.0623 - accuracy: 0.2362\n",
            "Epoch 144/500\n",
            "19/19 [==============================] - 0s 2ms/step - loss: 2.0612 - accuracy: 0.2379\n",
            "Epoch 145/500\n",
            "19/19 [==============================] - 0s 2ms/step - loss: 2.0631 - accuracy: 0.2362\n",
            "Epoch 146/500\n",
            "19/19 [==============================] - 0s 2ms/step - loss: 2.0615 - accuracy: 0.2362\n",
            "Epoch 147/500\n",
            "19/19 [==============================] - 0s 2ms/step - loss: 2.0608 - accuracy: 0.2293\n",
            "Epoch 148/500\n",
            "19/19 [==============================] - 0s 2ms/step - loss: 2.0612 - accuracy: 0.2431\n",
            "Epoch 149/500\n",
            "19/19 [==============================] - 0s 2ms/step - loss: 2.0608 - accuracy: 0.2414\n",
            "Epoch 150/500\n",
            "19/19 [==============================] - 0s 2ms/step - loss: 2.0604 - accuracy: 0.2293\n",
            "Epoch 151/500\n",
            "19/19 [==============================] - 0s 2ms/step - loss: 2.0598 - accuracy: 0.2414\n",
            "Epoch 152/500\n",
            "19/19 [==============================] - 0s 2ms/step - loss: 2.0600 - accuracy: 0.2431\n",
            "Epoch 153/500\n",
            "19/19 [==============================] - 0s 2ms/step - loss: 2.0616 - accuracy: 0.2431\n",
            "Epoch 154/500\n",
            "19/19 [==============================] - 0s 2ms/step - loss: 2.0609 - accuracy: 0.2448\n",
            "Epoch 155/500\n",
            "19/19 [==============================] - 0s 2ms/step - loss: 2.0605 - accuracy: 0.2517\n",
            "Epoch 156/500\n",
            "19/19 [==============================] - 0s 2ms/step - loss: 2.0594 - accuracy: 0.2552\n",
            "Epoch 157/500\n",
            "19/19 [==============================] - 0s 2ms/step - loss: 2.0596 - accuracy: 0.2552\n",
            "Epoch 158/500\n",
            "19/19 [==============================] - 0s 2ms/step - loss: 2.0582 - accuracy: 0.2448\n",
            "Epoch 159/500\n",
            "19/19 [==============================] - 0s 2ms/step - loss: 2.0593 - accuracy: 0.2569\n",
            "Epoch 160/500\n",
            "19/19 [==============================] - 0s 2ms/step - loss: 2.0594 - accuracy: 0.2414\n",
            "Epoch 161/500\n",
            "19/19 [==============================] - 0s 2ms/step - loss: 2.0590 - accuracy: 0.2466\n",
            "Epoch 162/500\n",
            "19/19 [==============================] - 0s 2ms/step - loss: 2.0597 - accuracy: 0.2466\n",
            "Epoch 163/500\n",
            "19/19 [==============================] - 0s 2ms/step - loss: 2.0585 - accuracy: 0.2500\n",
            "Epoch 164/500\n",
            "19/19 [==============================] - 0s 2ms/step - loss: 2.0574 - accuracy: 0.2362\n",
            "Epoch 165/500\n",
            "19/19 [==============================] - 0s 2ms/step - loss: 2.0589 - accuracy: 0.2466\n",
            "Epoch 166/500\n",
            "19/19 [==============================] - 0s 2ms/step - loss: 2.0601 - accuracy: 0.2466\n",
            "Epoch 167/500\n",
            "19/19 [==============================] - 0s 2ms/step - loss: 2.0563 - accuracy: 0.2379\n",
            "Epoch 168/500\n",
            "19/19 [==============================] - 0s 2ms/step - loss: 2.0584 - accuracy: 0.2483\n",
            "Epoch 169/500\n",
            "19/19 [==============================] - 0s 2ms/step - loss: 2.0588 - accuracy: 0.2414\n",
            "Epoch 170/500\n",
            "19/19 [==============================] - 0s 2ms/step - loss: 2.0566 - accuracy: 0.2483\n",
            "Epoch 171/500\n",
            "19/19 [==============================] - 0s 2ms/step - loss: 2.0587 - accuracy: 0.2500\n",
            "Epoch 172/500\n",
            "19/19 [==============================] - 0s 2ms/step - loss: 2.0576 - accuracy: 0.2534\n",
            "Epoch 173/500\n",
            "19/19 [==============================] - 0s 2ms/step - loss: 2.0565 - accuracy: 0.2500\n",
            "Epoch 174/500\n",
            "19/19 [==============================] - 0s 2ms/step - loss: 2.0574 - accuracy: 0.2397\n",
            "Epoch 175/500\n",
            "19/19 [==============================] - 0s 2ms/step - loss: 2.0569 - accuracy: 0.2414\n",
            "Epoch 176/500\n",
            "19/19 [==============================] - 0s 2ms/step - loss: 2.0569 - accuracy: 0.2483\n",
            "Epoch 177/500\n",
            "19/19 [==============================] - 0s 2ms/step - loss: 2.0567 - accuracy: 0.2569\n",
            "Epoch 178/500\n",
            "19/19 [==============================] - 0s 2ms/step - loss: 2.0559 - accuracy: 0.2448\n",
            "Epoch 179/500\n",
            "19/19 [==============================] - 0s 2ms/step - loss: 2.0564 - accuracy: 0.2483\n",
            "Epoch 180/500\n",
            "19/19 [==============================] - 0s 2ms/step - loss: 2.0556 - accuracy: 0.2414\n",
            "Epoch 181/500\n",
            "19/19 [==============================] - 0s 2ms/step - loss: 2.0560 - accuracy: 0.2431\n",
            "Epoch 182/500\n",
            "19/19 [==============================] - 0s 2ms/step - loss: 2.0553 - accuracy: 0.2483\n",
            "Epoch 183/500\n",
            "19/19 [==============================] - 0s 2ms/step - loss: 2.0568 - accuracy: 0.2414\n",
            "Epoch 184/500\n",
            "19/19 [==============================] - 0s 2ms/step - loss: 2.0552 - accuracy: 0.2672\n",
            "Epoch 185/500\n",
            "19/19 [==============================] - 0s 2ms/step - loss: 2.0553 - accuracy: 0.2414\n",
            "Epoch 186/500\n",
            "19/19 [==============================] - 0s 2ms/step - loss: 2.0551 - accuracy: 0.2483\n",
            "Epoch 187/500\n",
            "19/19 [==============================] - 0s 2ms/step - loss: 2.0556 - accuracy: 0.2517\n",
            "Epoch 188/500\n",
            "19/19 [==============================] - 0s 2ms/step - loss: 2.0550 - accuracy: 0.2483\n",
            "Epoch 189/500\n",
            "19/19 [==============================] - 0s 2ms/step - loss: 2.0550 - accuracy: 0.2483\n",
            "Epoch 190/500\n",
            "19/19 [==============================] - 0s 2ms/step - loss: 2.0550 - accuracy: 0.2534\n",
            "Epoch 191/500\n",
            "19/19 [==============================] - 0s 2ms/step - loss: 2.0559 - accuracy: 0.2431\n",
            "Epoch 192/500\n",
            "19/19 [==============================] - 0s 2ms/step - loss: 2.0548 - accuracy: 0.2483\n",
            "Epoch 193/500\n",
            "19/19 [==============================] - 0s 2ms/step - loss: 2.0556 - accuracy: 0.2552\n",
            "Epoch 194/500\n",
            "19/19 [==============================] - 0s 2ms/step - loss: 2.0541 - accuracy: 0.2431\n",
            "Epoch 195/500\n",
            "19/19 [==============================] - 0s 2ms/step - loss: 2.0555 - accuracy: 0.2345\n",
            "Epoch 196/500\n",
            "19/19 [==============================] - 0s 2ms/step - loss: 2.0532 - accuracy: 0.2621\n",
            "Epoch 197/500\n",
            "19/19 [==============================] - 0s 2ms/step - loss: 2.0542 - accuracy: 0.2517\n",
            "Epoch 198/500\n",
            "19/19 [==============================] - 0s 2ms/step - loss: 2.0545 - accuracy: 0.2483\n",
            "Epoch 199/500\n",
            "19/19 [==============================] - 0s 2ms/step - loss: 2.0530 - accuracy: 0.2534\n",
            "Epoch 200/500\n",
            "19/19 [==============================] - 0s 2ms/step - loss: 2.0531 - accuracy: 0.2517\n",
            "Epoch 201/500\n",
            "19/19 [==============================] - 0s 2ms/step - loss: 2.0531 - accuracy: 0.2638\n",
            "Epoch 202/500\n",
            "19/19 [==============================] - 0s 2ms/step - loss: 2.0535 - accuracy: 0.2500\n",
            "Epoch 203/500\n",
            "19/19 [==============================] - 0s 2ms/step - loss: 2.0541 - accuracy: 0.2483\n",
            "Epoch 204/500\n",
            "19/19 [==============================] - 0s 2ms/step - loss: 2.0536 - accuracy: 0.2397\n",
            "Epoch 205/500\n",
            "19/19 [==============================] - 0s 2ms/step - loss: 2.0531 - accuracy: 0.2552\n",
            "Epoch 206/500\n",
            "19/19 [==============================] - 0s 2ms/step - loss: 2.0537 - accuracy: 0.2500\n",
            "Epoch 207/500\n",
            "19/19 [==============================] - 0s 2ms/step - loss: 2.0527 - accuracy: 0.2534\n",
            "Epoch 208/500\n",
            "19/19 [==============================] - 0s 2ms/step - loss: 2.0533 - accuracy: 0.2483\n",
            "Epoch 209/500\n",
            "19/19 [==============================] - 0s 2ms/step - loss: 2.0507 - accuracy: 0.2500\n",
            "Epoch 210/500\n",
            "19/19 [==============================] - 0s 2ms/step - loss: 2.0527 - accuracy: 0.2534\n",
            "Epoch 211/500\n",
            "19/19 [==============================] - 0s 2ms/step - loss: 2.0540 - accuracy: 0.2552\n",
            "Epoch 212/500\n",
            "19/19 [==============================] - 0s 2ms/step - loss: 2.0528 - accuracy: 0.2483\n",
            "Epoch 213/500\n",
            "19/19 [==============================] - 0s 2ms/step - loss: 2.0520 - accuracy: 0.2586\n",
            "Epoch 214/500\n",
            "19/19 [==============================] - 0s 2ms/step - loss: 2.0556 - accuracy: 0.2621\n",
            "Epoch 215/500\n",
            "19/19 [==============================] - 0s 2ms/step - loss: 2.0525 - accuracy: 0.2534\n",
            "Epoch 216/500\n",
            "19/19 [==============================] - 0s 2ms/step - loss: 2.0517 - accuracy: 0.2500\n",
            "Epoch 217/500\n",
            "19/19 [==============================] - 0s 2ms/step - loss: 2.0511 - accuracy: 0.2569\n",
            "Epoch 218/500\n",
            "19/19 [==============================] - 0s 2ms/step - loss: 2.0502 - accuracy: 0.2603\n",
            "Epoch 219/500\n",
            "19/19 [==============================] - 0s 2ms/step - loss: 2.0512 - accuracy: 0.2603\n",
            "Epoch 220/500\n",
            "19/19 [==============================] - 0s 2ms/step - loss: 2.0497 - accuracy: 0.2483\n",
            "Epoch 221/500\n",
            "19/19 [==============================] - 0s 2ms/step - loss: 2.0507 - accuracy: 0.2552\n",
            "Epoch 222/500\n",
            "19/19 [==============================] - 0s 2ms/step - loss: 2.0498 - accuracy: 0.2483\n",
            "Epoch 223/500\n",
            "19/19 [==============================] - 0s 2ms/step - loss: 2.0515 - accuracy: 0.2552\n",
            "Epoch 224/500\n",
            "19/19 [==============================] - 0s 2ms/step - loss: 2.0521 - accuracy: 0.2552\n",
            "Epoch 225/500\n",
            "19/19 [==============================] - 0s 2ms/step - loss: 2.0510 - accuracy: 0.2552\n",
            "Epoch 226/500\n",
            "19/19 [==============================] - 0s 2ms/step - loss: 2.0494 - accuracy: 0.2569\n",
            "Epoch 227/500\n",
            "19/19 [==============================] - 0s 2ms/step - loss: 2.0504 - accuracy: 0.2517\n",
            "Epoch 228/500\n",
            "19/19 [==============================] - 0s 2ms/step - loss: 2.0499 - accuracy: 0.2414\n",
            "Epoch 229/500\n",
            "19/19 [==============================] - 0s 2ms/step - loss: 2.0510 - accuracy: 0.2500\n",
            "Epoch 230/500\n",
            "19/19 [==============================] - 0s 2ms/step - loss: 2.0524 - accuracy: 0.2362\n",
            "Epoch 231/500\n",
            "19/19 [==============================] - 0s 2ms/step - loss: 2.0482 - accuracy: 0.2569\n",
            "Epoch 232/500\n",
            "19/19 [==============================] - 0s 2ms/step - loss: 2.0483 - accuracy: 0.2603\n",
            "Epoch 233/500\n",
            "19/19 [==============================] - 0s 2ms/step - loss: 2.0495 - accuracy: 0.2483\n",
            "Epoch 234/500\n",
            "19/19 [==============================] - 0s 2ms/step - loss: 2.0489 - accuracy: 0.2483\n",
            "Epoch 235/500\n",
            "19/19 [==============================] - 0s 2ms/step - loss: 2.0491 - accuracy: 0.2534\n",
            "Epoch 236/500\n",
            "19/19 [==============================] - 0s 2ms/step - loss: 2.0494 - accuracy: 0.2517\n",
            "Epoch 237/500\n",
            "19/19 [==============================] - 0s 2ms/step - loss: 2.0481 - accuracy: 0.2569\n",
            "Epoch 238/500\n",
            "19/19 [==============================] - 0s 2ms/step - loss: 2.0488 - accuracy: 0.2552\n",
            "Epoch 239/500\n",
            "19/19 [==============================] - 0s 3ms/step - loss: 2.0489 - accuracy: 0.2603\n",
            "Epoch 240/500\n",
            "19/19 [==============================] - 0s 2ms/step - loss: 2.0474 - accuracy: 0.2603\n",
            "Epoch 241/500\n",
            "19/19 [==============================] - 0s 2ms/step - loss: 2.0471 - accuracy: 0.2586\n",
            "Epoch 242/500\n",
            "19/19 [==============================] - 0s 2ms/step - loss: 2.0502 - accuracy: 0.2552\n",
            "Epoch 243/500\n",
            "19/19 [==============================] - 0s 2ms/step - loss: 2.0485 - accuracy: 0.2517\n",
            "Epoch 244/500\n",
            "19/19 [==============================] - 0s 2ms/step - loss: 2.0480 - accuracy: 0.2569\n",
            "Epoch 245/500\n",
            "19/19 [==============================] - 0s 2ms/step - loss: 2.0484 - accuracy: 0.2500\n",
            "Epoch 246/500\n",
            "19/19 [==============================] - 0s 2ms/step - loss: 2.0476 - accuracy: 0.2500\n",
            "Epoch 247/500\n",
            "19/19 [==============================] - 0s 2ms/step - loss: 2.0474 - accuracy: 0.2534\n",
            "Epoch 248/500\n",
            "19/19 [==============================] - 0s 3ms/step - loss: 2.0480 - accuracy: 0.2569\n",
            "Epoch 249/500\n",
            "19/19 [==============================] - 0s 2ms/step - loss: 2.0468 - accuracy: 0.2586\n",
            "Epoch 250/500\n",
            "19/19 [==============================] - 0s 2ms/step - loss: 2.0460 - accuracy: 0.2448\n",
            "Epoch 251/500\n",
            "19/19 [==============================] - 0s 2ms/step - loss: 2.0462 - accuracy: 0.2569\n",
            "Epoch 252/500\n",
            "19/19 [==============================] - 0s 2ms/step - loss: 2.0475 - accuracy: 0.2534\n",
            "Epoch 253/500\n",
            "19/19 [==============================] - 0s 2ms/step - loss: 2.0470 - accuracy: 0.2534\n",
            "Epoch 254/500\n",
            "19/19 [==============================] - 0s 2ms/step - loss: 2.0465 - accuracy: 0.2517\n",
            "Epoch 255/500\n",
            "19/19 [==============================] - 0s 2ms/step - loss: 2.0449 - accuracy: 0.2500\n",
            "Epoch 256/500\n",
            "19/19 [==============================] - 0s 2ms/step - loss: 2.0464 - accuracy: 0.2603\n",
            "Epoch 257/500\n",
            "19/19 [==============================] - 0s 2ms/step - loss: 2.0456 - accuracy: 0.2552\n",
            "Epoch 258/500\n",
            "19/19 [==============================] - 0s 2ms/step - loss: 2.0442 - accuracy: 0.2603\n",
            "Epoch 259/500\n",
            "19/19 [==============================] - 0s 3ms/step - loss: 2.0447 - accuracy: 0.2517\n",
            "Epoch 260/500\n",
            "19/19 [==============================] - 0s 2ms/step - loss: 2.0443 - accuracy: 0.2569\n",
            "Epoch 261/500\n",
            "19/19 [==============================] - 0s 2ms/step - loss: 2.0443 - accuracy: 0.2569\n",
            "Epoch 262/500\n",
            "19/19 [==============================] - 0s 2ms/step - loss: 2.0464 - accuracy: 0.2586\n",
            "Epoch 263/500\n",
            "19/19 [==============================] - 0s 2ms/step - loss: 2.0453 - accuracy: 0.2586\n",
            "Epoch 264/500\n",
            "19/19 [==============================] - 0s 2ms/step - loss: 2.0456 - accuracy: 0.2603\n",
            "Epoch 265/500\n",
            "19/19 [==============================] - 0s 3ms/step - loss: 2.0457 - accuracy: 0.2483\n",
            "Epoch 266/500\n",
            "19/19 [==============================] - 0s 2ms/step - loss: 2.0454 - accuracy: 0.2569\n",
            "Epoch 267/500\n",
            "19/19 [==============================] - 0s 2ms/step - loss: 2.0448 - accuracy: 0.2603\n",
            "Epoch 268/500\n",
            "19/19 [==============================] - 0s 2ms/step - loss: 2.0447 - accuracy: 0.2603\n",
            "Epoch 269/500\n",
            "19/19 [==============================] - 0s 2ms/step - loss: 2.0447 - accuracy: 0.2534\n",
            "Epoch 270/500\n",
            "19/19 [==============================] - 0s 2ms/step - loss: 2.0452 - accuracy: 0.2534\n",
            "Epoch 271/500\n",
            "19/19 [==============================] - 0s 2ms/step - loss: 2.0433 - accuracy: 0.2586\n",
            "Epoch 272/500\n",
            "19/19 [==============================] - 0s 3ms/step - loss: 2.0451 - accuracy: 0.2569\n",
            "Epoch 273/500\n",
            "19/19 [==============================] - 0s 2ms/step - loss: 2.0440 - accuracy: 0.2621\n",
            "Epoch 274/500\n",
            "19/19 [==============================] - 0s 2ms/step - loss: 2.0441 - accuracy: 0.2655\n",
            "Epoch 275/500\n",
            "19/19 [==============================] - 0s 2ms/step - loss: 2.0422 - accuracy: 0.2586\n",
            "Epoch 276/500\n",
            "19/19 [==============================] - 0s 2ms/step - loss: 2.0430 - accuracy: 0.2621\n",
            "Epoch 277/500\n",
            "19/19 [==============================] - 0s 2ms/step - loss: 2.0441 - accuracy: 0.2569\n",
            "Epoch 278/500\n",
            "19/19 [==============================] - 0s 2ms/step - loss: 2.0466 - accuracy: 0.2483\n",
            "Epoch 279/500\n",
            "19/19 [==============================] - 0s 3ms/step - loss: 2.0421 - accuracy: 0.2586\n",
            "Epoch 280/500\n",
            "19/19 [==============================] - 0s 2ms/step - loss: 2.0441 - accuracy: 0.2552\n",
            "Epoch 281/500\n",
            "19/19 [==============================] - 0s 2ms/step - loss: 2.0421 - accuracy: 0.2621\n",
            "Epoch 282/500\n",
            "19/19 [==============================] - 0s 3ms/step - loss: 2.0425 - accuracy: 0.2483\n",
            "Epoch 283/500\n",
            "19/19 [==============================] - 0s 2ms/step - loss: 2.0426 - accuracy: 0.2586\n",
            "Epoch 284/500\n",
            "19/19 [==============================] - 0s 2ms/step - loss: 2.0422 - accuracy: 0.2569\n",
            "Epoch 285/500\n",
            "19/19 [==============================] - 0s 2ms/step - loss: 2.0412 - accuracy: 0.2603\n",
            "Epoch 286/500\n",
            "19/19 [==============================] - 0s 2ms/step - loss: 2.0415 - accuracy: 0.2569\n",
            "Epoch 287/500\n",
            "19/19 [==============================] - 0s 2ms/step - loss: 2.0420 - accuracy: 0.2534\n",
            "Epoch 288/500\n",
            "19/19 [==============================] - 0s 2ms/step - loss: 2.0418 - accuracy: 0.2621\n",
            "Epoch 289/500\n",
            "19/19 [==============================] - 0s 2ms/step - loss: 2.0398 - accuracy: 0.2603\n",
            "Epoch 290/500\n",
            "19/19 [==============================] - 0s 2ms/step - loss: 2.0405 - accuracy: 0.2552\n",
            "Epoch 291/500\n",
            "19/19 [==============================] - 0s 2ms/step - loss: 2.0420 - accuracy: 0.2569\n",
            "Epoch 292/500\n",
            "19/19 [==============================] - 0s 2ms/step - loss: 2.0387 - accuracy: 0.2534\n",
            "Epoch 293/500\n",
            "19/19 [==============================] - 0s 2ms/step - loss: 2.0389 - accuracy: 0.2586\n",
            "Epoch 294/500\n",
            "19/19 [==============================] - 0s 2ms/step - loss: 2.0400 - accuracy: 0.2621\n",
            "Epoch 295/500\n",
            "19/19 [==============================] - 0s 2ms/step - loss: 2.0399 - accuracy: 0.2672\n",
            "Epoch 296/500\n",
            "19/19 [==============================] - 0s 2ms/step - loss: 2.0400 - accuracy: 0.2672\n",
            "Epoch 297/500\n",
            "19/19 [==============================] - 0s 2ms/step - loss: 2.0405 - accuracy: 0.2569\n",
            "Epoch 298/500\n",
            "19/19 [==============================] - 0s 3ms/step - loss: 2.0396 - accuracy: 0.2586\n",
            "Epoch 299/500\n",
            "19/19 [==============================] - 0s 2ms/step - loss: 2.0390 - accuracy: 0.2552\n",
            "Epoch 300/500\n",
            "19/19 [==============================] - 0s 2ms/step - loss: 2.0381 - accuracy: 0.2586\n",
            "Epoch 301/500\n",
            "19/19 [==============================] - 0s 2ms/step - loss: 2.0389 - accuracy: 0.2603\n",
            "Epoch 302/500\n",
            "19/19 [==============================] - 0s 2ms/step - loss: 2.0407 - accuracy: 0.2362\n",
            "Epoch 303/500\n",
            "19/19 [==============================] - 0s 2ms/step - loss: 2.0382 - accuracy: 0.2586\n",
            "Epoch 304/500\n",
            "19/19 [==============================] - 0s 2ms/step - loss: 2.0377 - accuracy: 0.2586\n",
            "Epoch 305/500\n",
            "19/19 [==============================] - 0s 2ms/step - loss: 2.0402 - accuracy: 0.2500\n",
            "Epoch 306/500\n",
            "19/19 [==============================] - 0s 2ms/step - loss: 2.0390 - accuracy: 0.2586\n",
            "Epoch 307/500\n",
            "19/19 [==============================] - 0s 2ms/step - loss: 2.0383 - accuracy: 0.2603\n",
            "Epoch 308/500\n",
            "19/19 [==============================] - 0s 2ms/step - loss: 2.0403 - accuracy: 0.2534\n",
            "Epoch 309/500\n",
            "19/19 [==============================] - 0s 2ms/step - loss: 2.0401 - accuracy: 0.2431\n",
            "Epoch 310/500\n",
            "19/19 [==============================] - 0s 2ms/step - loss: 2.0391 - accuracy: 0.2586\n",
            "Epoch 311/500\n",
            "19/19 [==============================] - 0s 2ms/step - loss: 2.0380 - accuracy: 0.2638\n",
            "Epoch 312/500\n",
            "19/19 [==============================] - 0s 2ms/step - loss: 2.0389 - accuracy: 0.2603\n",
            "Epoch 313/500\n",
            "19/19 [==============================] - 0s 2ms/step - loss: 2.0395 - accuracy: 0.2621\n",
            "Epoch 314/500\n",
            "19/19 [==============================] - 0s 2ms/step - loss: 2.0383 - accuracy: 0.2552\n",
            "Epoch 315/500\n",
            "19/19 [==============================] - 0s 2ms/step - loss: 2.0377 - accuracy: 0.2586\n",
            "Epoch 316/500\n",
            "19/19 [==============================] - 0s 2ms/step - loss: 2.0383 - accuracy: 0.2569\n",
            "Epoch 317/500\n",
            "19/19 [==============================] - 0s 2ms/step - loss: 2.0358 - accuracy: 0.2621\n",
            "Epoch 318/500\n",
            "19/19 [==============================] - 0s 2ms/step - loss: 2.0365 - accuracy: 0.2655\n",
            "Epoch 319/500\n",
            "19/19 [==============================] - 0s 2ms/step - loss: 2.0348 - accuracy: 0.2552\n",
            "Epoch 320/500\n",
            "19/19 [==============================] - 0s 2ms/step - loss: 2.0373 - accuracy: 0.2603\n",
            "Epoch 321/500\n",
            "19/19 [==============================] - 0s 2ms/step - loss: 2.0355 - accuracy: 0.2586\n",
            "Epoch 322/500\n",
            "19/19 [==============================] - 0s 2ms/step - loss: 2.0360 - accuracy: 0.2534\n",
            "Epoch 323/500\n",
            "19/19 [==============================] - 0s 3ms/step - loss: 2.0360 - accuracy: 0.2603\n",
            "Epoch 324/500\n",
            "19/19 [==============================] - 0s 2ms/step - loss: 2.0361 - accuracy: 0.2621\n",
            "Epoch 325/500\n",
            "19/19 [==============================] - 0s 3ms/step - loss: 2.0362 - accuracy: 0.2534\n",
            "Epoch 326/500\n",
            "19/19 [==============================] - 0s 3ms/step - loss: 2.0344 - accuracy: 0.2500\n",
            "Epoch 327/500\n",
            "19/19 [==============================] - 0s 3ms/step - loss: 2.0371 - accuracy: 0.2517\n",
            "Epoch 328/500\n",
            "19/19 [==============================] - 0s 2ms/step - loss: 2.0350 - accuracy: 0.2586\n",
            "Epoch 329/500\n",
            "19/19 [==============================] - 0s 2ms/step - loss: 2.0349 - accuracy: 0.2621\n",
            "Epoch 330/500\n",
            "19/19 [==============================] - 0s 2ms/step - loss: 2.0353 - accuracy: 0.2569\n",
            "Epoch 331/500\n",
            "19/19 [==============================] - 0s 2ms/step - loss: 2.0346 - accuracy: 0.2638\n",
            "Epoch 332/500\n",
            "19/19 [==============================] - 0s 2ms/step - loss: 2.0349 - accuracy: 0.2621\n",
            "Epoch 333/500\n",
            "19/19 [==============================] - 0s 2ms/step - loss: 2.0351 - accuracy: 0.2603\n",
            "Epoch 334/500\n",
            "19/19 [==============================] - 0s 2ms/step - loss: 2.0355 - accuracy: 0.2690\n",
            "Epoch 335/500\n",
            "19/19 [==============================] - 0s 2ms/step - loss: 2.0335 - accuracy: 0.2534\n",
            "Epoch 336/500\n",
            "19/19 [==============================] - 0s 2ms/step - loss: 2.0344 - accuracy: 0.2517\n",
            "Epoch 337/500\n",
            "19/19 [==============================] - 0s 2ms/step - loss: 2.0339 - accuracy: 0.2655\n",
            "Epoch 338/500\n",
            "19/19 [==============================] - 0s 2ms/step - loss: 2.0350 - accuracy: 0.2552\n",
            "Epoch 339/500\n",
            "19/19 [==============================] - 0s 2ms/step - loss: 2.0352 - accuracy: 0.2500\n",
            "Epoch 340/500\n",
            "19/19 [==============================] - 0s 2ms/step - loss: 2.0365 - accuracy: 0.2534\n",
            "Epoch 341/500\n",
            "19/19 [==============================] - 0s 2ms/step - loss: 2.0346 - accuracy: 0.2569\n",
            "Epoch 342/500\n",
            "19/19 [==============================] - 0s 2ms/step - loss: 2.0333 - accuracy: 0.2586\n",
            "Epoch 343/500\n",
            "19/19 [==============================] - 0s 2ms/step - loss: 2.0332 - accuracy: 0.2603\n",
            "Epoch 344/500\n",
            "19/19 [==============================] - 0s 2ms/step - loss: 2.0331 - accuracy: 0.2672\n",
            "Epoch 345/500\n",
            "19/19 [==============================] - 0s 2ms/step - loss: 2.0344 - accuracy: 0.2569\n",
            "Epoch 346/500\n",
            "19/19 [==============================] - 0s 2ms/step - loss: 2.0315 - accuracy: 0.2534\n",
            "Epoch 347/500\n",
            "19/19 [==============================] - 0s 3ms/step - loss: 2.0338 - accuracy: 0.2569\n",
            "Epoch 348/500\n",
            "19/19 [==============================] - 0s 2ms/step - loss: 2.0320 - accuracy: 0.2552\n",
            "Epoch 349/500\n",
            "19/19 [==============================] - 0s 3ms/step - loss: 2.0326 - accuracy: 0.2586\n",
            "Epoch 350/500\n",
            "19/19 [==============================] - 0s 2ms/step - loss: 2.0352 - accuracy: 0.2500\n",
            "Epoch 351/500\n",
            "19/19 [==============================] - 0s 2ms/step - loss: 2.0304 - accuracy: 0.2655\n",
            "Epoch 352/500\n",
            "19/19 [==============================] - 0s 2ms/step - loss: 2.0316 - accuracy: 0.2603\n",
            "Epoch 353/500\n",
            "19/19 [==============================] - 0s 2ms/step - loss: 2.0324 - accuracy: 0.2552\n",
            "Epoch 354/500\n",
            "19/19 [==============================] - 0s 2ms/step - loss: 2.0308 - accuracy: 0.2586\n",
            "Epoch 355/500\n",
            "19/19 [==============================] - 0s 2ms/step - loss: 2.0316 - accuracy: 0.2621\n",
            "Epoch 356/500\n",
            "19/19 [==============================] - 0s 2ms/step - loss: 2.0320 - accuracy: 0.2621\n",
            "Epoch 357/500\n",
            "19/19 [==============================] - 0s 2ms/step - loss: 2.0322 - accuracy: 0.2638\n",
            "Epoch 358/500\n",
            "19/19 [==============================] - 0s 3ms/step - loss: 2.0325 - accuracy: 0.2638\n",
            "Epoch 359/500\n",
            "19/19 [==============================] - 0s 2ms/step - loss: 2.0341 - accuracy: 0.2586\n",
            "Epoch 360/500\n",
            "19/19 [==============================] - 0s 3ms/step - loss: 2.0323 - accuracy: 0.2534\n",
            "Epoch 361/500\n",
            "19/19 [==============================] - 0s 2ms/step - loss: 2.0307 - accuracy: 0.2431\n",
            "Epoch 362/500\n",
            "19/19 [==============================] - 0s 2ms/step - loss: 2.0310 - accuracy: 0.2586\n",
            "Epoch 363/500\n",
            "19/19 [==============================] - 0s 2ms/step - loss: 2.0321 - accuracy: 0.2517\n",
            "Epoch 364/500\n",
            "19/19 [==============================] - 0s 2ms/step - loss: 2.0300 - accuracy: 0.2655\n",
            "Epoch 365/500\n",
            "19/19 [==============================] - 0s 3ms/step - loss: 2.0309 - accuracy: 0.2603\n",
            "Epoch 366/500\n",
            "19/19 [==============================] - 0s 3ms/step - loss: 2.0297 - accuracy: 0.2603\n",
            "Epoch 367/500\n",
            "19/19 [==============================] - 0s 2ms/step - loss: 2.0297 - accuracy: 0.2586\n",
            "Epoch 368/500\n",
            "19/19 [==============================] - 0s 2ms/step - loss: 2.0298 - accuracy: 0.2586\n",
            "Epoch 369/500\n",
            "19/19 [==============================] - 0s 2ms/step - loss: 2.0305 - accuracy: 0.2655\n",
            "Epoch 370/500\n",
            "19/19 [==============================] - 0s 2ms/step - loss: 2.0302 - accuracy: 0.2690\n",
            "Epoch 371/500\n",
            "19/19 [==============================] - 0s 2ms/step - loss: 2.0306 - accuracy: 0.2603\n",
            "Epoch 372/500\n",
            "19/19 [==============================] - 0s 2ms/step - loss: 2.0290 - accuracy: 0.2603\n",
            "Epoch 373/500\n",
            "19/19 [==============================] - 0s 2ms/step - loss: 2.0295 - accuracy: 0.2621\n",
            "Epoch 374/500\n",
            "19/19 [==============================] - 0s 2ms/step - loss: 2.0292 - accuracy: 0.2621\n",
            "Epoch 375/500\n",
            "19/19 [==============================] - 0s 2ms/step - loss: 2.0303 - accuracy: 0.2638\n",
            "Epoch 376/500\n",
            "19/19 [==============================] - 0s 2ms/step - loss: 2.0292 - accuracy: 0.2690\n",
            "Epoch 377/500\n",
            "19/19 [==============================] - 0s 3ms/step - loss: 2.0307 - accuracy: 0.2603\n",
            "Epoch 378/500\n",
            "19/19 [==============================] - 0s 2ms/step - loss: 2.0293 - accuracy: 0.2655\n",
            "Epoch 379/500\n",
            "19/19 [==============================] - 0s 2ms/step - loss: 2.0292 - accuracy: 0.2603\n",
            "Epoch 380/500\n",
            "19/19 [==============================] - 0s 2ms/step - loss: 2.0308 - accuracy: 0.2724\n",
            "Epoch 381/500\n",
            "19/19 [==============================] - 0s 2ms/step - loss: 2.0268 - accuracy: 0.2552\n",
            "Epoch 382/500\n",
            "19/19 [==============================] - 0s 2ms/step - loss: 2.0272 - accuracy: 0.2707\n",
            "Epoch 383/500\n",
            "19/19 [==============================] - 0s 2ms/step - loss: 2.0288 - accuracy: 0.2483\n",
            "Epoch 384/500\n",
            "19/19 [==============================] - 0s 3ms/step - loss: 2.0272 - accuracy: 0.2569\n",
            "Epoch 385/500\n",
            "19/19 [==============================] - 0s 3ms/step - loss: 2.0272 - accuracy: 0.2759\n",
            "Epoch 386/500\n",
            "19/19 [==============================] - 0s 2ms/step - loss: 2.0290 - accuracy: 0.2621\n",
            "Epoch 387/500\n",
            "19/19 [==============================] - 0s 2ms/step - loss: 2.0268 - accuracy: 0.2655\n",
            "Epoch 388/500\n",
            "19/19 [==============================] - 0s 2ms/step - loss: 2.0287 - accuracy: 0.2603\n",
            "Epoch 389/500\n",
            "19/19 [==============================] - 0s 2ms/step - loss: 2.0273 - accuracy: 0.2638\n",
            "Epoch 390/500\n",
            "19/19 [==============================] - 0s 2ms/step - loss: 2.0255 - accuracy: 0.2534\n",
            "Epoch 391/500\n",
            "19/19 [==============================] - 0s 2ms/step - loss: 2.0277 - accuracy: 0.2552\n",
            "Epoch 392/500\n",
            "19/19 [==============================] - 0s 2ms/step - loss: 2.0256 - accuracy: 0.2638\n",
            "Epoch 393/500\n",
            "19/19 [==============================] - 0s 2ms/step - loss: 2.0257 - accuracy: 0.2672\n",
            "Epoch 394/500\n",
            "19/19 [==============================] - 0s 2ms/step - loss: 2.0262 - accuracy: 0.2672\n",
            "Epoch 395/500\n",
            "19/19 [==============================] - 0s 2ms/step - loss: 2.0264 - accuracy: 0.2638\n",
            "Epoch 396/500\n",
            "19/19 [==============================] - 0s 2ms/step - loss: 2.0279 - accuracy: 0.2638\n",
            "Epoch 397/500\n",
            "19/19 [==============================] - 0s 2ms/step - loss: 2.0280 - accuracy: 0.2534\n",
            "Epoch 398/500\n",
            "19/19 [==============================] - 0s 2ms/step - loss: 2.0241 - accuracy: 0.2603\n",
            "Epoch 399/500\n",
            "19/19 [==============================] - 0s 2ms/step - loss: 2.0258 - accuracy: 0.2603\n",
            "Epoch 400/500\n",
            "19/19 [==============================] - 0s 2ms/step - loss: 2.0285 - accuracy: 0.2586\n",
            "Epoch 401/500\n",
            "19/19 [==============================] - 0s 2ms/step - loss: 2.0277 - accuracy: 0.2603\n",
            "Epoch 402/500\n",
            "19/19 [==============================] - 0s 3ms/step - loss: 2.0274 - accuracy: 0.2517\n",
            "Epoch 403/500\n",
            "19/19 [==============================] - 0s 2ms/step - loss: 2.0223 - accuracy: 0.2569\n",
            "Epoch 404/500\n",
            "19/19 [==============================] - 0s 2ms/step - loss: 2.0265 - accuracy: 0.2517\n",
            "Epoch 405/500\n",
            "19/19 [==============================] - 0s 2ms/step - loss: 2.0250 - accuracy: 0.2552\n",
            "Epoch 406/500\n",
            "19/19 [==============================] - 0s 2ms/step - loss: 2.0237 - accuracy: 0.2621\n",
            "Epoch 407/500\n",
            "19/19 [==============================] - 0s 2ms/step - loss: 2.0249 - accuracy: 0.2655\n",
            "Epoch 408/500\n",
            "19/19 [==============================] - 0s 2ms/step - loss: 2.0255 - accuracy: 0.2569\n",
            "Epoch 409/500\n",
            "19/19 [==============================] - 0s 2ms/step - loss: 2.0236 - accuracy: 0.2569\n",
            "Epoch 410/500\n",
            "19/19 [==============================] - 0s 2ms/step - loss: 2.0273 - accuracy: 0.2586\n",
            "Epoch 411/500\n",
            "19/19 [==============================] - 0s 2ms/step - loss: 2.0234 - accuracy: 0.2621\n",
            "Epoch 412/500\n",
            "19/19 [==============================] - 0s 2ms/step - loss: 2.0239 - accuracy: 0.2690\n",
            "Epoch 413/500\n",
            "19/19 [==============================] - 0s 2ms/step - loss: 2.0246 - accuracy: 0.2569\n",
            "Epoch 414/500\n",
            "19/19 [==============================] - 0s 3ms/step - loss: 2.0235 - accuracy: 0.2483\n",
            "Epoch 415/500\n",
            "19/19 [==============================] - 0s 2ms/step - loss: 2.0235 - accuracy: 0.2466\n",
            "Epoch 416/500\n",
            "19/19 [==============================] - 0s 3ms/step - loss: 2.0256 - accuracy: 0.2500\n",
            "Epoch 417/500\n",
            "19/19 [==============================] - 0s 2ms/step - loss: 2.0282 - accuracy: 0.2483\n",
            "Epoch 418/500\n",
            "19/19 [==============================] - 0s 2ms/step - loss: 2.0238 - accuracy: 0.2534\n",
            "Epoch 419/500\n",
            "19/19 [==============================] - 0s 2ms/step - loss: 2.0258 - accuracy: 0.2552\n",
            "Epoch 420/500\n",
            "19/19 [==============================] - 0s 2ms/step - loss: 2.0217 - accuracy: 0.2569\n",
            "Epoch 421/500\n",
            "19/19 [==============================] - 0s 2ms/step - loss: 2.0218 - accuracy: 0.2569\n",
            "Epoch 422/500\n",
            "19/19 [==============================] - 0s 2ms/step - loss: 2.0241 - accuracy: 0.2655\n",
            "Epoch 423/500\n",
            "19/19 [==============================] - 0s 2ms/step - loss: 2.0208 - accuracy: 0.2672\n",
            "Epoch 424/500\n",
            "19/19 [==============================] - 0s 2ms/step - loss: 2.0236 - accuracy: 0.2621\n",
            "Epoch 425/500\n",
            "19/19 [==============================] - 0s 2ms/step - loss: 2.0249 - accuracy: 0.2552\n",
            "Epoch 426/500\n",
            "19/19 [==============================] - 0s 2ms/step - loss: 2.0221 - accuracy: 0.2621\n",
            "Epoch 427/500\n",
            "19/19 [==============================] - 0s 2ms/step - loss: 2.0243 - accuracy: 0.2586\n",
            "Epoch 428/500\n",
            "19/19 [==============================] - 0s 3ms/step - loss: 2.0223 - accuracy: 0.2672\n",
            "Epoch 429/500\n",
            "19/19 [==============================] - 0s 2ms/step - loss: 2.0240 - accuracy: 0.2517\n",
            "Epoch 430/500\n",
            "19/19 [==============================] - 0s 2ms/step - loss: 2.0233 - accuracy: 0.2603\n",
            "Epoch 431/500\n",
            "19/19 [==============================] - 0s 2ms/step - loss: 2.0236 - accuracy: 0.2552\n",
            "Epoch 432/500\n",
            "19/19 [==============================] - 0s 2ms/step - loss: 2.0223 - accuracy: 0.2690\n",
            "Epoch 433/500\n",
            "19/19 [==============================] - 0s 2ms/step - loss: 2.0189 - accuracy: 0.2690\n",
            "Epoch 434/500\n",
            "19/19 [==============================] - 0s 2ms/step - loss: 2.0228 - accuracy: 0.2655\n",
            "Epoch 435/500\n",
            "19/19 [==============================] - 0s 2ms/step - loss: 2.0222 - accuracy: 0.2517\n",
            "Epoch 436/500\n",
            "19/19 [==============================] - 0s 2ms/step - loss: 2.0203 - accuracy: 0.2621\n",
            "Epoch 437/500\n",
            "19/19 [==============================] - 0s 2ms/step - loss: 2.0214 - accuracy: 0.2621\n",
            "Epoch 438/500\n",
            "19/19 [==============================] - 0s 2ms/step - loss: 2.0186 - accuracy: 0.2621\n",
            "Epoch 439/500\n",
            "19/19 [==============================] - 0s 2ms/step - loss: 2.0217 - accuracy: 0.2638\n",
            "Epoch 440/500\n",
            "19/19 [==============================] - 0s 2ms/step - loss: 2.0192 - accuracy: 0.2690\n",
            "Epoch 441/500\n",
            "19/19 [==============================] - 0s 2ms/step - loss: 2.0218 - accuracy: 0.2586\n",
            "Epoch 442/500\n",
            "19/19 [==============================] - 0s 2ms/step - loss: 2.0200 - accuracy: 0.2621\n",
            "Epoch 443/500\n",
            "19/19 [==============================] - 0s 2ms/step - loss: 2.0205 - accuracy: 0.2603\n",
            "Epoch 444/500\n",
            "19/19 [==============================] - 0s 2ms/step - loss: 2.0193 - accuracy: 0.2621\n",
            "Epoch 445/500\n",
            "19/19 [==============================] - 0s 2ms/step - loss: 2.0185 - accuracy: 0.2569\n",
            "Epoch 446/500\n",
            "19/19 [==============================] - 0s 2ms/step - loss: 2.0226 - accuracy: 0.2397\n",
            "Epoch 447/500\n",
            "19/19 [==============================] - 0s 2ms/step - loss: 2.0237 - accuracy: 0.2500\n",
            "Epoch 448/500\n",
            "19/19 [==============================] - 0s 2ms/step - loss: 2.0223 - accuracy: 0.2534\n",
            "Epoch 449/500\n",
            "19/19 [==============================] - 0s 2ms/step - loss: 2.0208 - accuracy: 0.2638\n",
            "Epoch 450/500\n",
            "19/19 [==============================] - 0s 2ms/step - loss: 2.0188 - accuracy: 0.2621\n",
            "Epoch 451/500\n",
            "19/19 [==============================] - 0s 2ms/step - loss: 2.0227 - accuracy: 0.2552\n",
            "Epoch 452/500\n",
            "19/19 [==============================] - 0s 2ms/step - loss: 2.0172 - accuracy: 0.2690\n",
            "Epoch 453/500\n",
            "19/19 [==============================] - 0s 3ms/step - loss: 2.0185 - accuracy: 0.2690\n",
            "Epoch 454/500\n",
            "19/19 [==============================] - 0s 3ms/step - loss: 2.0184 - accuracy: 0.2638\n",
            "Epoch 455/500\n",
            "19/19 [==============================] - 0s 3ms/step - loss: 2.0190 - accuracy: 0.2690\n",
            "Epoch 456/500\n",
            "19/19 [==============================] - 0s 2ms/step - loss: 2.0209 - accuracy: 0.2655\n",
            "Epoch 457/500\n",
            "19/19 [==============================] - 0s 2ms/step - loss: 2.0191 - accuracy: 0.2586\n",
            "Epoch 458/500\n",
            "19/19 [==============================] - 0s 2ms/step - loss: 2.0186 - accuracy: 0.2638\n",
            "Epoch 459/500\n",
            "19/19 [==============================] - 0s 2ms/step - loss: 2.0189 - accuracy: 0.2586\n",
            "Epoch 460/500\n",
            "19/19 [==============================] - 0s 2ms/step - loss: 2.0213 - accuracy: 0.2586\n",
            "Epoch 461/500\n",
            "19/19 [==============================] - 0s 2ms/step - loss: 2.0185 - accuracy: 0.2655\n",
            "Epoch 462/500\n",
            "19/19 [==============================] - 0s 2ms/step - loss: 2.0169 - accuracy: 0.2603\n",
            "Epoch 463/500\n",
            "19/19 [==============================] - 0s 2ms/step - loss: 2.0176 - accuracy: 0.2724\n",
            "Epoch 464/500\n",
            "19/19 [==============================] - 0s 2ms/step - loss: 2.0224 - accuracy: 0.2586\n",
            "Epoch 465/500\n",
            "19/19 [==============================] - 0s 2ms/step - loss: 2.0164 - accuracy: 0.2534\n",
            "Epoch 466/500\n",
            "19/19 [==============================] - 0s 3ms/step - loss: 2.0176 - accuracy: 0.2621\n",
            "Epoch 467/500\n",
            "19/19 [==============================] - 0s 2ms/step - loss: 2.0171 - accuracy: 0.2672\n",
            "Epoch 468/500\n",
            "19/19 [==============================] - 0s 2ms/step - loss: 2.0156 - accuracy: 0.2500\n",
            "Epoch 469/500\n",
            "19/19 [==============================] - 0s 3ms/step - loss: 2.0180 - accuracy: 0.2569\n",
            "Epoch 470/500\n",
            "19/19 [==============================] - 0s 2ms/step - loss: 2.0171 - accuracy: 0.2638\n",
            "Epoch 471/500\n",
            "19/19 [==============================] - 0s 2ms/step - loss: 2.0154 - accuracy: 0.2552\n",
            "Epoch 472/500\n",
            "19/19 [==============================] - 0s 2ms/step - loss: 2.0163 - accuracy: 0.2638\n",
            "Epoch 473/500\n",
            "19/19 [==============================] - 0s 2ms/step - loss: 2.0182 - accuracy: 0.2621\n",
            "Epoch 474/500\n",
            "19/19 [==============================] - 0s 2ms/step - loss: 2.0157 - accuracy: 0.2655\n",
            "Epoch 475/500\n",
            "19/19 [==============================] - 0s 3ms/step - loss: 2.0183 - accuracy: 0.2517\n",
            "Epoch 476/500\n",
            "19/19 [==============================] - 0s 2ms/step - loss: 2.0187 - accuracy: 0.2466\n",
            "Epoch 477/500\n",
            "19/19 [==============================] - 0s 2ms/step - loss: 2.0166 - accuracy: 0.2638\n",
            "Epoch 478/500\n",
            "19/19 [==============================] - 0s 3ms/step - loss: 2.0145 - accuracy: 0.2552\n",
            "Epoch 479/500\n",
            "19/19 [==============================] - 0s 2ms/step - loss: 2.0175 - accuracy: 0.2690\n",
            "Epoch 480/500\n",
            "19/19 [==============================] - 0s 2ms/step - loss: 2.0146 - accuracy: 0.2569\n",
            "Epoch 481/500\n",
            "19/19 [==============================] - 0s 3ms/step - loss: 2.0157 - accuracy: 0.2655\n",
            "Epoch 482/500\n",
            "19/19 [==============================] - 0s 2ms/step - loss: 2.0142 - accuracy: 0.2534\n",
            "Epoch 483/500\n",
            "19/19 [==============================] - 0s 2ms/step - loss: 2.0144 - accuracy: 0.2586\n",
            "Epoch 484/500\n",
            "19/19 [==============================] - 0s 2ms/step - loss: 2.0143 - accuracy: 0.2672\n",
            "Epoch 485/500\n",
            "19/19 [==============================] - 0s 2ms/step - loss: 2.0168 - accuracy: 0.2586\n",
            "Epoch 486/500\n",
            "19/19 [==============================] - 0s 3ms/step - loss: 2.0155 - accuracy: 0.2638\n",
            "Epoch 487/500\n",
            "19/19 [==============================] - 0s 2ms/step - loss: 2.0163 - accuracy: 0.2569\n",
            "Epoch 488/500\n",
            "19/19 [==============================] - 0s 2ms/step - loss: 2.0156 - accuracy: 0.2483\n",
            "Epoch 489/500\n",
            "19/19 [==============================] - 0s 3ms/step - loss: 2.0167 - accuracy: 0.2672\n",
            "Epoch 490/500\n",
            "19/19 [==============================] - 0s 2ms/step - loss: 2.0157 - accuracy: 0.2621\n",
            "Epoch 491/500\n",
            "19/19 [==============================] - 0s 2ms/step - loss: 2.0149 - accuracy: 0.2603\n",
            "Epoch 492/500\n",
            "19/19 [==============================] - 0s 3ms/step - loss: 2.0125 - accuracy: 0.2655\n",
            "Epoch 493/500\n",
            "19/19 [==============================] - 0s 3ms/step - loss: 2.0142 - accuracy: 0.2586\n",
            "Epoch 494/500\n",
            "19/19 [==============================] - 0s 2ms/step - loss: 2.0123 - accuracy: 0.2603\n",
            "Epoch 495/500\n",
            "19/19 [==============================] - 0s 2ms/step - loss: 2.0130 - accuracy: 0.2707\n",
            "Epoch 496/500\n",
            "19/19 [==============================] - 0s 2ms/step - loss: 2.0152 - accuracy: 0.2603\n",
            "Epoch 497/500\n",
            "19/19 [==============================] - 0s 2ms/step - loss: 2.0120 - accuracy: 0.2621\n",
            "Epoch 498/500\n",
            "19/19 [==============================] - 0s 2ms/step - loss: 2.0163 - accuracy: 0.2569\n",
            "Epoch 499/500\n",
            "19/19 [==============================] - 0s 2ms/step - loss: 2.0136 - accuracy: 0.2586\n",
            "Epoch 500/500\n",
            "19/19 [==============================] - 0s 2ms/step - loss: 2.0131 - accuracy: 0.2586\n"
          ],
          "name": "stdout"
        }
      ]
    },
    {
      "cell_type": "code",
      "metadata": {
        "id": "XNG6BpigmsQc",
        "colab": {
          "base_uri": "https://localhost:8080/",
          "height": 35
        },
        "outputId": "847996e1-7cb5-468d-e204-65a2608be7de"
      },
      "source": [
        "y_pred=model.predict_classes(X_val)\n",
        "#print(max(y_pred))\n",
        "print(f1_score(y_val,y_pred,average=\"micro\"))"
      ],
      "execution_count": null,
      "outputs": [
        {
          "output_type": "stream",
          "text": [
            "0.20859242509892595\n"
          ],
          "name": "stdout"
        }
      ]
    },
    {
      "cell_type": "code",
      "metadata": {
        "id": "DyuHbB7JnXR1",
        "colab": {
          "base_uri": "https://localhost:8080/",
          "height": 478
        },
        "outputId": "6954959f-408d-452e-a3e0-6cc6bc5030da"
      },
      "source": [
        "from torch_geometric.utils import to_networkx\n",
        "print(len(data[\"x\"][0]))\n",
        "mytensor=data[\"x\"]\n",
        "print(data.x)\n",
        "new_graph=to_networkx(data,node_attrs=data2[\"features\"],to_undirected=False)"
      ],
      "execution_count": null,
      "outputs": [
        {
          "output_type": "stream",
          "text": [
            "300\n",
            "tensor([[-0.0204,  0.0646,  0.0197,  ..., -0.0754, -0.1124,  0.1514],\n",
            "        [-0.0438, -0.0317, -0.0082,  ..., -0.0658,  0.0643, -0.0588],\n",
            "        [-0.1127,  0.0098,  0.1422,  ...,  0.1398, -0.0195,  0.0451],\n",
            "        ...,\n",
            "        [ 0.0368,  0.0305, -0.0285,  ..., -0.0600, -0.0721,  0.1510],\n",
            "        [-0.0329,  0.0195, -0.1278,  ..., -0.1751, -0.0754,  0.1974],\n",
            "        [ 0.0530,  0.0480, -0.0100,  ...,  0.0250, -0.0308,  0.0691]])\n"
          ],
          "name": "stdout"
        },
        {
          "output_type": "error",
          "ename": "TypeError",
          "evalue": "ignored",
          "traceback": [
            "\u001b[0;31m---------------------------------------------------------------------------\u001b[0m",
            "\u001b[0;31mTypeError\u001b[0m                                 Traceback (most recent call last)",
            "\u001b[0;32m<ipython-input-91-03f6db35c253>\u001b[0m in \u001b[0;36m<module>\u001b[0;34m()\u001b[0m\n\u001b[1;32m      3\u001b[0m \u001b[0mmytensor\u001b[0m\u001b[0;34m=\u001b[0m\u001b[0mdata\u001b[0m\u001b[0;34m[\u001b[0m\u001b[0;34m\"x\"\u001b[0m\u001b[0;34m]\u001b[0m\u001b[0;34m\u001b[0m\u001b[0;34m\u001b[0m\u001b[0m\n\u001b[1;32m      4\u001b[0m \u001b[0mprint\u001b[0m\u001b[0;34m(\u001b[0m\u001b[0mdata\u001b[0m\u001b[0;34m.\u001b[0m\u001b[0mx\u001b[0m\u001b[0;34m)\u001b[0m\u001b[0;34m\u001b[0m\u001b[0;34m\u001b[0m\u001b[0m\n\u001b[0;32m----> 5\u001b[0;31m \u001b[0mnew_graph\u001b[0m\u001b[0;34m=\u001b[0m\u001b[0mto_networkx\u001b[0m\u001b[0;34m(\u001b[0m\u001b[0mdata\u001b[0m\u001b[0;34m,\u001b[0m\u001b[0mnode_attrs\u001b[0m\u001b[0;34m=\u001b[0m\u001b[0mdata2\u001b[0m\u001b[0;34m[\u001b[0m\u001b[0;34m\"features\"\u001b[0m\u001b[0;34m]\u001b[0m\u001b[0;34m,\u001b[0m\u001b[0mto_undirected\u001b[0m\u001b[0;34m=\u001b[0m\u001b[0;32mFalse\u001b[0m\u001b[0;34m)\u001b[0m\u001b[0;34m\u001b[0m\u001b[0;34m\u001b[0m\u001b[0m\n\u001b[0m",
            "\u001b[0;32m/usr/local/lib/python3.6/dist-packages/torch_geometric/utils/convert.py\u001b[0m in \u001b[0;36mto_networkx\u001b[0;34m(data, node_attrs, edge_attrs, to_undirected, remove_self_loops)\u001b[0m\n\u001b[1;32m    101\u001b[0m     \u001b[0;32mfor\u001b[0m \u001b[0mkey\u001b[0m \u001b[0;32min\u001b[0m \u001b[0mnode_attrs\u001b[0m \u001b[0;32mif\u001b[0m \u001b[0mnode_attrs\u001b[0m \u001b[0;32mis\u001b[0m \u001b[0;32mnot\u001b[0m \u001b[0;32mNone\u001b[0m \u001b[0;32melse\u001b[0m \u001b[0;34m[\u001b[0m\u001b[0;34m]\u001b[0m\u001b[0;34m:\u001b[0m\u001b[0;34m\u001b[0m\u001b[0;34m\u001b[0m\u001b[0m\n\u001b[1;32m    102\u001b[0m         \u001b[0;32mfor\u001b[0m \u001b[0mi\u001b[0m\u001b[0;34m,\u001b[0m \u001b[0mfeat_dict\u001b[0m \u001b[0;32min\u001b[0m \u001b[0mG\u001b[0m\u001b[0;34m.\u001b[0m\u001b[0mnodes\u001b[0m\u001b[0;34m(\u001b[0m\u001b[0mdata\u001b[0m\u001b[0;34m=\u001b[0m\u001b[0;32mTrue\u001b[0m\u001b[0;34m)\u001b[0m\u001b[0;34m:\u001b[0m\u001b[0;34m\u001b[0m\u001b[0;34m\u001b[0m\u001b[0m\n\u001b[0;32m--> 103\u001b[0;31m             \u001b[0mfeat_dict\u001b[0m\u001b[0;34m.\u001b[0m\u001b[0mupdate\u001b[0m\u001b[0;34m(\u001b[0m\u001b[0;34m{\u001b[0m\u001b[0mkey\u001b[0m\u001b[0;34m:\u001b[0m \u001b[0mvalues\u001b[0m\u001b[0;34m[\u001b[0m\u001b[0mkey\u001b[0m\u001b[0;34m]\u001b[0m\u001b[0;34m[\u001b[0m\u001b[0mi\u001b[0m\u001b[0;34m]\u001b[0m\u001b[0;34m}\u001b[0m\u001b[0;34m)\u001b[0m\u001b[0;34m\u001b[0m\u001b[0;34m\u001b[0m\u001b[0m\n\u001b[0m\u001b[1;32m    104\u001b[0m \u001b[0;34m\u001b[0m\u001b[0m\n\u001b[1;32m    105\u001b[0m     \u001b[0;32mreturn\u001b[0m \u001b[0mG\u001b[0m\u001b[0;34m\u001b[0m\u001b[0;34m\u001b[0m\u001b[0m\n",
            "\u001b[0;31mTypeError\u001b[0m: unhashable type: 'list'"
          ]
        }
      ]
    },
    {
      "cell_type": "code",
      "metadata": {
        "id": "uFnYpJwXoDMI",
        "colab": {
          "base_uri": "https://localhost:8080/"
        },
        "outputId": "b4c68bab-9cda-41a7-e2ec-ff8c1aafca8e"
      },
      "source": [
        "print(mygraph.info())"
      ],
      "execution_count": null,
      "outputs": [
        {
          "output_type": "stream",
          "text": [
            "StellarDiGraph: Directed multigraph\n",
            " Nodes: 11701, Edges: 291039\n",
            "\n",
            " Node types:\n",
            "  default: [11701]\n",
            "    Features: float32 vector, length 300\n",
            "    Edge types: default-default->default\n",
            "\n",
            " Edge types:\n",
            "    default-default->default: [291039]\n",
            "        Weights: all 1 (default)\n",
            "        Features: none\n"
          ],
          "name": "stdout"
        }
      ]
    },
    {
      "cell_type": "code",
      "metadata": {
        "id": "fFc8EP2FpSUT"
      },
      "source": [
        "mygraph=nx.DiGraph()"
      ],
      "execution_count": null,
      "outputs": []
    },
    {
      "cell_type": "code",
      "metadata": {
        "id": "XdKPglmatvk5"
      },
      "source": [
        "for i in range(len(data2[\"features\"])):\n",
        "  mygraph.add_node(i,features=data2[\"features\"][i])"
      ],
      "execution_count": null,
      "outputs": []
    },
    {
      "cell_type": "code",
      "metadata": {
        "id": "SmmadQUlxgiC"
      },
      "source": [
        "count=0\n",
        "for i in range(len(data2[\"links\"])):\n",
        "  edge_list=data2[\"links\"][i]\n",
        "  for j in edge_list:\n",
        "    mygraph.add_edge(i,j)"
      ],
      "execution_count": null,
      "outputs": []
    },
    {
      "cell_type": "code",
      "metadata": {
        "id": "lt468dsyyUFf",
        "colab": {
          "base_uri": "https://localhost:8080/"
        },
        "outputId": "9dc21479-56cd-4d0d-95a0-ac0ac44d4f8d"
      },
      "source": [
        "print(len(mygraph.edges()))"
      ],
      "execution_count": null,
      "outputs": [
        {
          "output_type": "stream",
          "text": [
            "291039\n"
          ],
          "name": "stdout"
        }
      ]
    },
    {
      "cell_type": "code",
      "metadata": {
        "id": "jLP-GbZ7oBTy"
      },
      "source": [
        "mygraph=StellarGraph.from_networkx(mygraph,node_features=\"features\")"
      ],
      "execution_count": null,
      "outputs": []
    },
    {
      "cell_type": "code",
      "metadata": {
        "id": "cIovk0WfyZAa",
        "colab": {
          "base_uri": "https://localhost:8080/"
        },
        "outputId": "62e34bd0-ca18-420e-a492-8832645d604a"
      },
      "source": [
        "print(data2.keys())"
      ],
      "execution_count": null,
      "outputs": [
        {
          "output_type": "stream",
          "text": [
            "dict_keys(['features', 'labels', 'links', 'train_masks', 'stopping_masks', 'val_masks', 'test_mask'])\n"
          ],
          "name": "stdout"
        }
      ]
    },
    {
      "cell_type": "code",
      "metadata": {
        "id": "ECB-kKv-3dc6",
        "colab": {
          "base_uri": "https://localhost:8080/"
        },
        "outputId": "cdcffcf2-a6f5-422f-ff3b-79efb49cdc57"
      },
      "source": [
        "print(len(data2[\"labels\"]))"
      ],
      "execution_count": null,
      "outputs": [
        {
          "output_type": "stream",
          "text": [
            "11701\n"
          ],
          "name": "stdout"
        }
      ]
    },
    {
      "cell_type": "code",
      "metadata": {
        "id": "jdUpzeoN3lUP"
      },
      "source": [
        ""
      ],
      "execution_count": null,
      "outputs": []
    }
  ]
}